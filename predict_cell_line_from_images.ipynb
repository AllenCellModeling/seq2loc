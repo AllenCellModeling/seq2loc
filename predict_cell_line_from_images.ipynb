{
 "cells": [
  {
   "cell_type": "code",
   "execution_count": 1,
   "metadata": {},
   "outputs": [
    {
     "name": "stderr",
     "output_type": "stream",
     "text": [
      "/opt/conda/lib/python3.6/site-packages/h5py/__init__.py:36: FutureWarning: Conversion of the second argument of issubdtype from `float` to `np.floating` is deprecated. In future, it will be treated as `np.float64 == np.dtype(float).type`.\n",
      "  from ._conv import register_converters as _register_converters\n"
     ]
    }
   ],
   "source": [
    "import os, sys, gc, copy, itertools, json\n",
    "sys.path.append(sys.path.append(\"src\"))\n",
    "from train_model import train_model\n",
    "from model_analysis import model_analysis, torch_confusion_matrix\n",
    "from plot_images import torch_to_PIL_single_image, ims_labels_to_grid, ims_preds_to_grid, ims_labels_preds_to_grid\n",
    "\n",
    "import numpy as np\n",
    "import pandas as pd\n",
    "from tqdm import tqdm, tqdm_notebook\n",
    "\n",
    "from functools import partial\n",
    "\n",
    "from sklearn.preprocessing import LabelEncoder\n",
    "from sklearn.metrics import precision_recall_fscore_support\n",
    "\n",
    "import torch\n",
    "from torch import nn\n",
    "import torch.nn.functional as F\n",
    "from torch.autograd import Variable\n",
    "import torch.optim as optim\n",
    "from torch.utils.data import TensorDataset, DataLoader\n",
    "from torchvision import transforms, utils, models\n",
    "from torchvision.utils import make_grid\n",
    "\n",
    "from tensorboardX import SummaryWriter\n",
    "\n",
    "import matplotlib\n",
    "import matplotlib.pyplot as plt\n",
    "%matplotlib inline\n",
    "\n",
    "from PIL import Image, ImageDraw, ImageFont\n",
    "from IPython.core.display import display\n",
    "\n",
    "from pytorch_learning_tools.data_providers.DataframeDataProvider import DataframeDataProvider\n",
    "from pytorch_learning_tools.data_providers.DataframeDataset import DataframeDataset, DatasetSingleRGBImageToTarget, DatasetSingleRGBImageToTargetUniqueID, DatasetHPA\n",
    "from pytorch_learning_tools.utils.dataframe_utils import filter_dataframe\n",
    "from pytorch_learning_tools.utils.data_utils import classes_and_weights\n",
    "from pytorch_learning_tools.utils.data_loading_utils import loadPILImages"
   ]
  },
  {
   "cell_type": "code",
   "execution_count": 2,
   "metadata": {},
   "outputs": [],
   "source": [
    "GPU_ID = 2\n",
    "BATCH_SIZE = 128"
   ]
  },
  {
   "cell_type": "code",
   "execution_count": 3,
   "metadata": {},
   "outputs": [],
   "source": [
    "data_loc = '/root/aics/modeling/gregj/projects/seq2loc/data/'"
   ]
  },
  {
   "cell_type": "code",
   "execution_count": 4,
   "metadata": {},
   "outputs": [
    {
     "name": "stdout",
     "output_type": "stream",
     "text": [
      "{\n",
      "  \"A-431\": 0,\n",
      "  \"A549\": 1,\n",
      "  \"AF22\": 2,\n",
      "  \"ASC TERT1\": 3,\n",
      "  \"BJ\": 4,\n",
      "  \"CACO-2\": 5,\n",
      "  \"HEK 293\": 6,\n",
      "  \"HEL\": 7,\n",
      "  \"HUVEC TERT2\": 8,\n",
      "  \"HaCaT\": 9,\n",
      "  \"HeLa\": 10,\n",
      "  \"Hep G2\": 11,\n",
      "  \"LHCN-M2\": 12,\n",
      "  \"MCF7\": 13,\n",
      "  \"NB-4\": 14,\n",
      "  \"NIH 3T3\": 15,\n",
      "  \"PC-3\": 16,\n",
      "  \"REH\": 17,\n",
      "  \"RH-30\": 18,\n",
      "  \"RPTEC TERT1\": 19,\n",
      "  \"RT4\": 20,\n",
      "  \"SH-SY5Y\": 21,\n",
      "  \"SK-MEL-30\": 22,\n",
      "  \"SiHa\": 23,\n",
      "  \"U-2 OS\": 24,\n",
      "  \"U-251 MG\": 25,\n",
      "  \"hTCEpi\": 26\n",
      "}\n"
     ]
    }
   ],
   "source": [
    "# read file\n",
    "df = pd.read_csv(os.path.join(data_loc,'hpa_data_noNaNs.csv'))\n",
    "\n",
    "# add absolute path\n",
    "for channel in ['antibodyChannel', 'microtubuleChannel', 'nuclearChannel']:\n",
    "    df[channel] = os.path.join(data_loc,'hpa') + os.path.sep + df['ENSG'] + os.path.sep + df[channel]\n",
    "#     df = filter_dataframe(df,'',channel)\n",
    "\n",
    "# add numeric labels\n",
    "le = LabelEncoder()\n",
    "df['targetNumeric'] = le.fit_transform(df['cellLine']).astype(np.int64)\n",
    "\n",
    "# add unique id\n",
    "df['uniqueID'] = df.index \n",
    "\n",
    "# print label map\n",
    "label_map = dict(zip(le.classes_,[int(i) for i in le.transform(le.classes_)]))\n",
    "print(json.dumps(label_map, indent = 2))"
   ]
  },
  {
   "cell_type": "code",
   "execution_count": 5,
   "metadata": {},
   "outputs": [],
   "source": [
    "IM_SIZE=224; mask=torch.ones([3,IM_SIZE,IM_SIZE]); mask[1,:,:]=0\n",
    "\n",
    "dataset_kwargs={split:{'tabularData':{'Sequence':'Sequence', 'cellLine':'targetNumeric', 'uniqueID':'uniqueID'},\n",
    "                       'imageData':{'inputImage':{'cols':['microtubuleChannel', 'antibodyChannel', 'nuclearChannel'],\n",
    "                                                  'loader':partial(loadPILImages, mode='L'),\n",
    "                                                  'transform':transforms.Compose([transforms.ToPILImage(),\n",
    "                                                                                  transforms.CenterCrop(IM_SIZE),\n",
    "                                                                                  transforms.Resize(256),\n",
    "                                                                                  transforms.CenterCrop(224),\n",
    "                                                                                  transforms.ToTensor(),\n",
    "                                                                                  transforms.Lambda(lambda x: mask*x)])}}} for split in ('train', 'test')}\n",
    "\n",
    "dataloader_kwargs={split:{'batch_size':BATCH_SIZE, 'shuffle':True, 'drop_last':True, 'num_workers':4, 'pin_memory':True} for split in ('train', 'test')}\n",
    "\n",
    "dp = DataframeDataProvider(df, uniqueID='uniqueID', dataset_kwargs=dataset_kwargs, dataloader_kwargs=dataloader_kwargs)"
   ]
  },
  {
   "cell_type": "code",
   "execution_count": 6,
   "metadata": {},
   "outputs": [],
   "source": [
    "# i,mb = next(enumerate(dp.dataloaders['test']))\n",
    "# ims_labels = [(im,label) for i,(im,label) in enumerate(zip(mb['inputImage'],mb['cellLine'])) if i<16]\n",
    "# display(ims_labels_to_grid(ims_labels, ncol=2, not_boring_color=(0,0,0), boring_color=(0,0,0)))"
   ]
  },
  {
   "cell_type": "code",
   "execution_count": 7,
   "metadata": {},
   "outputs": [
    {
     "data": {
      "text/plain": [
       "\n",
       " 0.0001\n",
       " 0.0009\n",
       " 0.0071\n",
       " 0.1072\n",
       " 0.0026\n",
       " 0.0010\n",
       " 0.0006\n",
       " 0.0370\n",
       " 0.3572\n",
       " 0.0024\n",
       " 0.0007\n",
       " 0.0009\n",
       " 0.0893\n",
       " 0.0005\n",
       " 0.0765\n",
       " 0.0006\n",
       " 0.0007\n",
       " 0.0134\n",
       " 0.0008\n",
       " 0.2679\n",
       " 0.0012\n",
       " 0.0012\n",
       " 0.0018\n",
       " 0.0015\n",
       " 0.0001\n",
       " 0.0001\n",
       " 0.0268\n",
       "[torch.cuda.FloatTensor of size (27,) (GPU 2)]"
      ]
     },
     "execution_count": 7,
     "metadata": {},
     "output_type": "execute_result"
    }
   ],
   "source": [
    "classes,weights = classes_and_weights(dp, split='train', target_col='targetNumeric')\n",
    "weights = weights.cuda(GPU_ID)\n",
    "weights"
   ]
  },
  {
   "cell_type": "code",
   "execution_count": 8,
   "metadata": {},
   "outputs": [],
   "source": [
    "model_name = 'resnet18'\n",
    "model_class = getattr(models, model_name)\n",
    "model = model_class(pretrained=True)\n",
    "\n",
    "model.fc = nn.Linear(model.fc.in_features, len(classes), bias=True)\n",
    "model = model.cuda(GPU_ID)"
   ]
  },
  {
   "cell_type": "code",
   "execution_count": 9,
   "metadata": {},
   "outputs": [],
   "source": [
    "N_epochs = 10"
   ]
  },
  {
   "cell_type": "code",
   "execution_count": null,
   "metadata": {},
   "outputs": [
    {
     "data": {
      "application/vnd.jupyter.widget-view+json": {
       "model_id": "fab2f1a9f47a40aa88dd17aaa7d27222",
       "version_major": 2,
       "version_minor": 0
      },
      "text/html": [
       "<p>Failed to display Jupyter Widget of type <code>HBox</code>.</p>\n",
       "<p>\n",
       "  If you're reading this message in the Jupyter Notebook or JupyterLab Notebook, it may mean\n",
       "  that the widgets JavaScript is still loading. If this message persists, it\n",
       "  likely means that the widgets JavaScript library is either not installed or\n",
       "  not enabled. See the <a href=\"https://ipywidgets.readthedocs.io/en/stable/user_install.html\">Jupyter\n",
       "  Widgets Documentation</a> for setup instructions.\n",
       "</p>\n",
       "<p>\n",
       "  If you're reading this message in another frontend (for example, a static\n",
       "  rendering on GitHub or <a href=\"https://nbviewer.jupyter.org/\">NBViewer</a>),\n",
       "  it may mean that your frontend doesn't currently support widgets.\n",
       "</p>\n"
      ],
      "text/plain": [
       "HBox(children=(IntProgress(value=0, max=747520), HTML(value='')))"
      ]
     },
     "metadata": {},
     "output_type": "display_data"
    }
   ],
   "source": [
    "model = train_model(model, dp,\n",
    "                    class_weights=weights,\n",
    "                    class_names=le.classes_,\n",
    "                    N_epochs=N_epochs,\n",
    "                    phases=('train', 'test'),\n",
    "                    learning_rate=1e-4,\n",
    "                    gpu_id=GPU_ID)"
   ]
  },
  {
   "cell_type": "code",
   "execution_count": null,
   "metadata": {},
   "outputs": [],
   "source": [
    "torch.save(model.state_dict(), os.path.join('saved_models',model_name+'_{}epochs.pt'.format(N_epochs)))"
   ]
  },
  {
   "cell_type": "code",
   "execution_count": null,
   "metadata": {},
   "outputs": [],
   "source": [
    "model.eval()\n",
    "\n",
    "mito_labels = {k:{'true_labels':[], 'pred_labels':[]} for k in dp.dataloaders.keys()}\n",
    "\n",
    "for phase in dp.dataloaders.keys():\n",
    "    for i, mb in tqdm_notebook(enumerate(dp.dataloaders[phase]), total=len(dp.dataloaders[phase]), postfix={'phase':phase}):\n",
    "        \n",
    "        x = mb['image']\n",
    "        y = mb['target']\n",
    "        \n",
    "        y_hat_pred = model(Variable(x).cuda(GPU_ID))\n",
    "        _, y_hat = y_hat_pred.max(1)\n",
    "        \n",
    "        mito_labels[phase]['true_labels'] += list(y.data.cpu().squeeze().numpy())\n",
    "        mito_labels[phase]['pred_labels'] += list(y_hat.data.cpu().numpy())"
   ]
  },
  {
   "cell_type": "code",
   "execution_count": null,
   "metadata": {},
   "outputs": [],
   "source": [
    "model_analysis(mito_labels['train']['true_labels'], mito_labels['train']['pred_labels'])"
   ]
  },
  {
   "cell_type": "code",
   "execution_count": null,
   "metadata": {},
   "outputs": [],
   "source": [
    "model_analysis(mito_labels['test']['true_labels'], mito_labels['test']['pred_labels'])"
   ]
  },
  {
   "cell_type": "code",
   "execution_count": null,
   "metadata": {},
   "outputs": [],
   "source": []
  }
 ],
 "metadata": {
  "kernelspec": {
   "display_name": "Python 3",
   "language": "python",
   "name": "python3"
  },
  "language_info": {
   "codemirror_mode": {
    "name": "ipython",
    "version": 3
   },
   "file_extension": ".py",
   "mimetype": "text/x-python",
   "name": "python",
   "nbconvert_exporter": "python",
   "pygments_lexer": "ipython3",
   "version": "3.6.4"
  }
 },
 "nbformat": 4,
 "nbformat_minor": 2
}
