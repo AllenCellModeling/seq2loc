{
 "cells": [
  {
   "cell_type": "code",
   "execution_count": 1,
   "metadata": {},
   "outputs": [],
   "source": [
    "import seq2loc\n",
    "from seq2loc.datasets import Seq2locDataset\n",
    "\n",
    "\n",
    "data_path = './data/hpa_data_resized_train.csv'\n",
    "\n",
    "ds = Seq2locDataset(data_path)"
   ]
  },
  {
   "cell_type": "code",
   "execution_count": 3,
   "metadata": {},
   "outputs": [],
   "source": [
    "data_dict = ds[[0,1,2,3]]"
   ]
  },
  {
   "cell_type": "code",
   "execution_count": 6,
   "metadata": {},
   "outputs": [
    {
     "data": {
      "text/plain": [
       "torch.Size([4, 22, 805])"
      ]
     },
     "execution_count": 6,
     "metadata": {},
     "output_type": "execute_result"
    }
   ],
   "source": [
    "data_dict['sequence_source'].shape"
   ]
  },
  {
   "cell_type": "code",
   "execution_count": 13,
   "metadata": {},
   "outputs": [
    {
     "data": {
      "text/plain": [
       "L1Loss(\n",
       ")"
      ]
     },
     "execution_count": 13,
     "metadata": {},
     "output_type": "execute_result"
    }
   ],
   "source": [
    "import torch.nn as nn\n",
    "\n",
    "instance = getattr(nn, 'L1Loss')()\n",
    "\n",
    "\n",
    "instance"
   ]
  },
  {
   "cell_type": "code",
   "execution_count": 56,
   "metadata": {},
   "outputs": [
    {
     "name": "stdout",
     "output_type": "stream",
     "text": [
      "Requirement already satisfied: six in /opt/conda/envs/pytorch-py3.6/lib/python3.6/site-packages (from -r requirements.txt (line 1))\n",
      "Requirement already satisfied: tqdm in /opt/conda/envs/pytorch-py3.6/lib/python3.6/site-packages (from -r requirements.txt (line 2))\n",
      "Collecting torchtext>=0.2.1 (from -r requirements.txt (line 3))\n",
      "  Downloading https://files.pythonhosted.org/packages/78/90/474d5944d43001a6e72b9aaed5c3e4f77516fbef2317002da2096fd8b5ea/torchtext-0.2.3.tar.gz (42kB)\n",
      "\u001b[K    100% |████████████████████████████████| 51kB 7.2MB/s \n",
      "\u001b[?25hCollecting future (from -r requirements.txt (line 4))\n",
      "  Downloading https://files.pythonhosted.org/packages/00/2b/8d082ddfed935f3608cc61140df6dcbf0edea1bc3ab52fb6c29ae3e81e85/future-0.16.0.tar.gz (824kB)\n",
      "\u001b[K    100% |████████████████████████████████| 829kB 1.5MB/s \n",
      "\u001b[?25hRequirement already satisfied: requests in /opt/conda/envs/pytorch-py3.6/lib/python3.6/site-packages (from torchtext>=0.2.1->-r requirements.txt (line 3))\n",
      "Requirement already satisfied: chardet<3.1.0,>=3.0.2 in /opt/conda/envs/pytorch-py3.6/lib/python3.6/site-packages (from requests->torchtext>=0.2.1->-r requirements.txt (line 3))\n",
      "Requirement already satisfied: idna<2.7,>=2.5 in /opt/conda/envs/pytorch-py3.6/lib/python3.6/site-packages (from requests->torchtext>=0.2.1->-r requirements.txt (line 3))\n",
      "Requirement already satisfied: urllib3<1.23,>=1.21.1 in /opt/conda/envs/pytorch-py3.6/lib/python3.6/site-packages (from requests->torchtext>=0.2.1->-r requirements.txt (line 3))\n",
      "Requirement already satisfied: certifi>=2017.4.17 in /opt/conda/envs/pytorch-py3.6/lib/python3.6/site-packages (from requests->torchtext>=0.2.1->-r requirements.txt (line 3))\n",
      "Building wheels for collected packages: torchtext, future\n",
      "  Running setup.py bdist_wheel for torchtext ... \u001b[?25ldone\n",
      "\u001b[?25h  Stored in directory: /root/.cache/pip/wheels/42/a6/f4/b267328bde6bb680094a0c173e8e5627ccc99543abded97204\n",
      "  Running setup.py bdist_wheel for future ... \u001b[?25ldone\n",
      "\u001b[?25h  Stored in directory: /root/.cache/pip/wheels/bf/c9/a3/c538d90ef17cf7823fa51fc701a7a7a910a80f6a405bf15b1a\n",
      "Successfully built torchtext future\n",
      "Installing collected packages: torchtext, future\n",
      "  Found existing installation: torchtext 0.2.0\n",
      "    Uninstalling torchtext-0.2.0:\n",
      "      Successfully uninstalled torchtext-0.2.0\n",
      "Successfully installed future-0.16.0 torchtext-0.2.3\n",
      "\u001b[33mYou are using pip version 9.0.1, however version 10.0.1 is available.\n",
      "You should consider upgrading via the 'pip install --upgrade pip' command.\u001b[0m\n",
      "Obtaining file:///root/projects/OpenNMT-py\n",
      "Installing collected packages: OpenNMT-py\n",
      "  Running setup.py develop for OpenNMT-py\n",
      "Successfully installed OpenNMT-py\n",
      "\u001b[33mYou are using pip version 9.0.1, however version 10.0.1 is available.\n",
      "You should consider upgrading via the 'pip install --upgrade pip' command.\u001b[0m\n"
     ]
    }
   ],
   "source": [
    "!cd ../OpenNMT-py; pip install -r requirements.txt; pip install -e ./\n"
   ]
  },
  {
   "cell_type": "code",
   "execution_count": null,
   "metadata": {},
   "outputs": [],
   "source": [
    "import torch\n",
    "from torch.autograd import Variable\n",
    "import onmt\n",
    "\n",
    "\n",
    "embedding = onmt.modules.Embeddings(word_vec_size = 512,\n",
    "                 word_vocab_size = 10,\n",
    "                 word_padding_idx = 9,\n",
    "                 position_encoding=True)\n",
    "\n",
    "for e in embedding.make_embedding.emb_luts:\n",
    "    print(e)\n",
    "# seq = Variable(torch.Tensor([[[0,0,0,0,0,0,0,0,0,1], [0,0,0,0,0,0,0,0,0,1]]]))\n",
    "\n",
    "# embedding(Variable(torch.Tensor([[[1],[2], [9]], [[1], [2], [9]]]).long()))\n",
    "\n",
    "# embedding(seq)\n"
   ]
  },
  {
   "cell_type": "code",
   "execution_count": null,
   "metadata": {},
   "outputs": [],
   "source": [
    "from onmt.modules import TransformerEncoder, TransformerDecoder\n",
    "\n",
    "\n",
    "# enc(torch.Tensor)\n",
    "enc = TransformerEncoder(num_layers = 10, hidden_size = 512, dropout = 0.2, embeddings = embedding)\n",
    "dec = TransformerDecoder(num_layers = 10, hidden_size = 512, attn_type = 'dot', copy_attn = False, dropout = 0.2, embeddings = embedding)\n",
    "\n",
    "model = onmt.Models.NMTModel(enc, dec)\n",
    "\n"
   ]
  },
  {
   "cell_type": "code",
   "execution_count": null,
   "metadata": {},
   "outputs": [],
   "source": [
    "seq_in = Variable(torch.Tensor([[[1],[2], [9]], [[1], [2], [9]]]).long())\n",
    "seq_out = Variable(torch.Tensor([[[1],[2], [9]], [[1], [2], [9]], [[1], [2], [9]]]).long())\n",
    "# seq_out = Variable(torch.Tensor([[1,2,9], [1,2,9]]).long())\n",
    "\n",
    "seq_lens = Variable(torch.Tensor([2,1,0]).long())\n",
    "\n",
    "print(seq_in.shape)\n",
    "print(seq_out.shape)\n",
    "print(seq_lens.shape)"
   ]
  },
  {
   "cell_type": "code",
   "execution_count": null,
   "metadata": {},
   "outputs": [],
   "source": [
    "#for whatever reason in the code the last element of the target sequence is removed\n",
    "\n",
    "a, b, c = model(seq_in, seq_out, seq_lens)\n",
    "\n",
    "print(a)\n",
    "print(b)\n",
    "print(c)"
   ]
  },
  {
   "cell_type": "code",
   "execution_count": null,
   "metadata": {},
   "outputs": [],
   "source": [
    "id_list = list()\n",
    "for id in df_uniprot['GO id']:\n",
    "    id_list = id_list + [id.split(';')]\n",
    "    \n",
    "u_ids = np.unique(np.hstack(id_list))\n",
    "    "
   ]
  },
  {
   "cell_type": "code",
   "execution_count": null,
   "metadata": {},
   "outputs": [],
   "source": [
    "10 % 10"
   ]
  },
  {
   "cell_type": "code",
   "execution_count": null,
   "metadata": {},
   "outputs": [],
   "source": [
    "len(u_ids)\n",
    "\n",
    "print(u_ids)"
   ]
  },
  {
   "cell_type": "code",
   "execution_count": null,
   "metadata": {},
   "outputs": [],
   "source": [
    "from seq2loc.datasets import SequenceDataset, PaddedSequenceDataset, NewsgroupsDataset\n",
    "\n",
    "ds = PaddedSequenceDataset(NewsgroupsDataset('./data/20_newsgroups/train.pickle'), GPU_id = 0, n_jobs = 16)\n",
    "\n"
   ]
  },
  {
   "cell_type": "code",
   "execution_count": null,
   "metadata": {},
   "outputs": [],
   "source": [
    "import time\n",
    "\n",
    "start = time.time()\n",
    "a, b = ds[list(range(64))]\n",
    "end = time.time()\n",
    "print(end - start)"
   ]
  },
  {
   "cell_type": "code",
   "execution_count": null,
   "metadata": {},
   "outputs": [],
   "source": [
    "ds[[0]]"
   ]
  },
  {
   "cell_type": "code",
   "execution_count": null,
   "metadata": {},
   "outputs": [],
   "source": [
    "import glob\n",
    "\n",
    "directories = glob.glob('./data/20_newsgroups')\n",
    "    \n",
    "for directory in directories:\n",
    "    \n",
    "\n",
    "with open('./20_newsgroups/comp.sys.mac.hardware/50418', 'r') as f:\n",
    "    x = f.readlines()\n",
    "    \n",
    "for i, line in enumerate(x):\n",
    "    if line[0:7] == 'Lines: ':\n",
    "        '.'.join(x[i+1:])"
   ]
  },
  {
   "cell_type": "code",
   "execution_count": null,
   "metadata": {},
   "outputs": [],
   "source": [
    "import glob\n",
    "import os\n",
    "\n",
    "directories = glob.glob('./data/20_newsgroups/*')\n",
    "\n",
    "classes =  [os.path.basename(directory) for directory in directories]"
   ]
  },
  {
   "cell_type": "code",
   "execution_count": null,
   "metadata": {},
   "outputs": [],
   "source": [
    "classes"
   ]
  },
  {
   "cell_type": "code",
   "execution_count": null,
   "metadata": {},
   "outputs": [],
   "source": []
  },
  {
   "cell_type": "code",
   "execution_count": null,
   "metadata": {},
   "outputs": [],
   "source": [
    "xml = ET.parse('./data/proteinatlas.xml')\n",
    "root = xml.getroot()\n"
   ]
  },
  {
   "cell_type": "code",
   "execution_count": null,
   "metadata": {},
   "outputs": [],
   "source": [
    "import pdb\n",
    "\n",
    "for entry in root.findall('entry'):\n",
    "    pdb.set_trace()\n",
    "    print(entry)"
   ]
  },
  {
   "cell_type": "code",
   "execution_count": null,
   "metadata": {},
   "outputs": [],
   "source": [
    "import tqdm\n",
    "import pandas as pd\n",
    "\n",
    "rows = list()\n",
    "\n",
    "for entry in tqdm.tqdm(root.iter('entry')):\n",
    "    \n",
    "    ensg = hpa.filter_element(entry, 'identifier').attrib['id']\n",
    "    \n",
    "    for expression in entry.iter('cellExpression'):\n",
    "        for data in expression.iter('data'):\n",
    "\n",
    "            go_id = list()\n",
    "            go_location = list()\n",
    "            celllines = list()\n",
    "            ensgs = ensg\n",
    "            \n",
    "            for loc in data.iter('location'): \n",
    "                go_id += [loc.attrib['GOId']]\n",
    "                go_location += [loc.text.lower()]\n",
    "\n",
    "            for cellline in data.iter('cellLine'):\n",
    "                celllines += [cellline.text]\n",
    "\n",
    "            if len(celllines) > 1:\n",
    "                pdb.set_trace()\n",
    "            elif len(celllines) == 1:\n",
    "                celllines = celllines[0]\n",
    "            else:\n",
    "                continue\n",
    "            \n",
    "            rows += [[ensg, celllines, go_id, go_location]]\n",
    "                \n",
    "df = pd.DataFrame(rows, columns = ['ENSG', 'cellLine', 'GO id', 'GO location'])\n",
    "ulocations, location_counts = np.unique(np.hstack(df['GO location']), return_counts = True)           "
   ]
  },
  {
   "cell_type": "code",
   "execution_count": null,
   "metadata": {},
   "outputs": [],
   "source": [
    "df = pd.DataFrame(rows, columns = ['ENSG', 'cellLine', 'GO id', 'GO location'])\n",
    "ulocations, location_counts = np.unique(np.hstack(df['GO location']), return_counts = True)     "
   ]
  },
  {
   "cell_type": "code",
   "execution_count": null,
   "metadata": {},
   "outputs": [],
   "source": []
  },
  {
   "cell_type": "code",
   "execution_count": null,
   "metadata": {},
   "outputs": [],
   "source": [
    "df = pd.read_csv('./data/rna_celline.tsv', sep='\\t')\n",
    "\n",
    "df_matrix = pd.DataFrame()\n",
    "\n",
    "for i in tqdm.tqdm(range(len(df))):\n",
    "    df_matrix.loc[df.loc[i, 'Gene'], df.loc[i, 'Sample']] = df.loc[i, 'Value']\n",
    "    \n",
    "df_matrix.to_csv('./data/rna_cellline_matrix.csv')"
   ]
  },
  {
   "cell_type": "code",
   "execution_count": null,
   "metadata": {},
   "outputs": [],
   "source": []
  },
  {
   "cell_type": "code",
   "execution_count": null,
   "metadata": {},
   "outputs": [],
   "source": [
    "df_matrix['HeLa'][np.where(df_matrix['A549'] == 0)[0]]"
   ]
  },
  {
   "cell_type": "code",
   "execution_count": null,
   "metadata": {},
   "outputs": [],
   "source": [
    "import sklearn\n",
    "import numpy as np\n",
    "from sklearn.manifold import TSNE\n",
    "\n",
    "x = df_matrix.as_matrix()\n",
    "x_embedded = TSNE(n_components=2).fit_transform(x)"
   ]
  },
  {
   "cell_type": "code",
   "execution_count": null,
   "metadata": {},
   "outputs": [],
   "source": [
    "plt.scatter(x_embedded[:,0], x_embedded[:,1])"
   ]
  },
  {
   "cell_type": "code",
   "execution_count": null,
   "metadata": {},
   "outputs": [],
   "source": [
    "import torch\n",
    "import torch.optim as optim\n",
    "from torch.autograd import Variable\n",
    "\n",
    "w = Variable(torch.randn(3, 5), requires_grad=True)\n",
    "x = torch.nn.Parameter(torch.Tensor(torch.randn(5)))\n",
    "\n",
    "optimizer = optim.SGD([w], lr=0.01)\n",
    "\n",
    "for i in range(10):\n",
    "    optimizer.zero_grad()\n",
    "    y = torch.mv(w, x) \n",
    "    \n",
    "    err = torch.pow(torch.norm(y - torch.mv(w, x)), 2)\n",
    "    err.backward()\n",
    "    optimizer.step()\n",
    "    print(err)"
   ]
  },
  {
   "cell_type": "code",
   "execution_count": 26,
   "metadata": {},
   "outputs": [],
   "source": [
    "import torch\n",
    "import torch.optim"
   ]
  },
  {
   "cell_type": "code",
   "execution_count": 30,
   "metadata": {},
   "outputs": [
    {
     "data": {
      "text/plain": [
       "\u001b[0;31mInit signature:\u001b[0m \u001b[0mtorch\u001b[0m\u001b[0;34m.\u001b[0m\u001b[0moptim\u001b[0m\u001b[0;34m.\u001b[0m\u001b[0mAdam\u001b[0m\u001b[0;34m(\u001b[0m\u001b[0mparams\u001b[0m\u001b[0;34m,\u001b[0m \u001b[0mlr\u001b[0m\u001b[0;34m=\u001b[0m\u001b[0;36m0.001\u001b[0m\u001b[0;34m,\u001b[0m \u001b[0mbetas\u001b[0m\u001b[0;34m=\u001b[0m\u001b[0;34m(\u001b[0m\u001b[0;36m0.9\u001b[0m\u001b[0;34m,\u001b[0m \u001b[0;36m0.999\u001b[0m\u001b[0;34m)\u001b[0m\u001b[0;34m,\u001b[0m \u001b[0meps\u001b[0m\u001b[0;34m=\u001b[0m\u001b[0;36m1e-08\u001b[0m\u001b[0;34m,\u001b[0m \u001b[0mweight_decay\u001b[0m\u001b[0;34m=\u001b[0m\u001b[0;36m0\u001b[0m\u001b[0;34m,\u001b[0m \u001b[0mamsgrad\u001b[0m\u001b[0;34m=\u001b[0m\u001b[0;32mFalse\u001b[0m\u001b[0;34m)\u001b[0m\u001b[0;34m\u001b[0m\u001b[0m\n",
       "\u001b[0;31mDocstring:\u001b[0m     \n",
       "Implements Adam algorithm.\n",
       "\n",
       "It has been proposed in `Adam: A Method for Stochastic Optimization`_.\n",
       "\n",
       "Arguments:\n",
       "    params (iterable): iterable of parameters to optimize or dicts defining\n",
       "        parameter groups\n",
       "    lr (float, optional): learning rate (default: 1e-3)\n",
       "    betas (Tuple[float, float], optional): coefficients used for computing\n",
       "        running averages of gradient and its square (default: (0.9, 0.999))\n",
       "    eps (float, optional): term added to the denominator to improve\n",
       "        numerical stability (default: 1e-8)\n",
       "    weight_decay (float, optional): weight decay (L2 penalty) (default: 0)\n",
       "    amsgrad (boolean, optional): whether to use the AMSGrad variant of this\n",
       "        algorithm from the paper `On the Convergence of Adam and Beyond`_\n",
       "\n",
       ".. _Adam\\: A Method for Stochastic Optimization:\n",
       "    https://arxiv.org/abs/1412.6980\n",
       ".. _On the Convergence of Adam and Beyond:\n",
       "    https://openreview.net/forum?id=ryQu7f-RZ\n",
       "\u001b[0;31mFile:\u001b[0m           /opt/conda/envs/pytorch-py3.6/lib/python3.6/site-packages/torch/optim/adam.py\n",
       "\u001b[0;31mType:\u001b[0m           type\n"
      ]
     },
     "metadata": {},
     "output_type": "display_data"
    }
   ],
   "source": [
    "?torch.optim.Adam"
   ]
  },
  {
   "cell_type": "code",
   "execution_count": 3,
   "metadata": {},
   "outputs": [],
   "source": [
    "import seq2loc\n",
    "import seq2loc.models.tiramisu.tiramisu_seq2loc as tiramisu"
   ]
  },
  {
   "cell_type": "code",
   "execution_count": 4,
   "metadata": {},
   "outputs": [],
   "source": [
    "model = tiramisu.FCDenseNet()"
   ]
  },
  {
   "cell_type": "code",
   "execution_count": 5,
   "metadata": {},
   "outputs": [
    {
     "data": {
      "text/plain": [
       "FCDenseNet(\n",
       "  (firstconv): Conv2d(3, 48, kernel_size=(3, 3), stride=(1, 1), padding=(1, 1))\n",
       "  (denseBlocksDown): ModuleList(\n",
       "    (0): DenseBlock(\n",
       "      (layers): ModuleList(\n",
       "        (0): DenseLayer(\n",
       "          (norm): BatchNorm2d(48, eps=1e-05, momentum=0.1, affine=True)\n",
       "          (relu): ReLU(inplace)\n",
       "          (conv): Conv2d(48, 16, kernel_size=(3, 3), stride=(1, 1), padding=(1, 1))\n",
       "          (drop): Dropout2d(p=0.2)\n",
       "        )\n",
       "        (1): DenseLayer(\n",
       "          (norm): BatchNorm2d(64, eps=1e-05, momentum=0.1, affine=True)\n",
       "          (relu): ReLU(inplace)\n",
       "          (conv): Conv2d(64, 16, kernel_size=(3, 3), stride=(1, 1), padding=(1, 1))\n",
       "          (drop): Dropout2d(p=0.2)\n",
       "        )\n",
       "        (2): DenseLayer(\n",
       "          (norm): BatchNorm2d(80, eps=1e-05, momentum=0.1, affine=True)\n",
       "          (relu): ReLU(inplace)\n",
       "          (conv): Conv2d(80, 16, kernel_size=(3, 3), stride=(1, 1), padding=(1, 1))\n",
       "          (drop): Dropout2d(p=0.2)\n",
       "        )\n",
       "        (3): DenseLayer(\n",
       "          (norm): BatchNorm2d(96, eps=1e-05, momentum=0.1, affine=True)\n",
       "          (relu): ReLU(inplace)\n",
       "          (conv): Conv2d(96, 16, kernel_size=(3, 3), stride=(1, 1), padding=(1, 1))\n",
       "          (drop): Dropout2d(p=0.2)\n",
       "        )\n",
       "        (4): DenseLayer(\n",
       "          (norm): BatchNorm2d(112, eps=1e-05, momentum=0.1, affine=True)\n",
       "          (relu): ReLU(inplace)\n",
       "          (conv): Conv2d(112, 16, kernel_size=(3, 3), stride=(1, 1), padding=(1, 1))\n",
       "          (drop): Dropout2d(p=0.2)\n",
       "        )\n",
       "      )\n",
       "    )\n",
       "    (1): DenseBlock(\n",
       "      (layers): ModuleList(\n",
       "        (0): DenseLayer(\n",
       "          (norm): BatchNorm2d(128, eps=1e-05, momentum=0.1, affine=True)\n",
       "          (relu): ReLU(inplace)\n",
       "          (conv): Conv2d(128, 16, kernel_size=(3, 3), stride=(1, 1), padding=(1, 1))\n",
       "          (drop): Dropout2d(p=0.2)\n",
       "        )\n",
       "        (1): DenseLayer(\n",
       "          (norm): BatchNorm2d(144, eps=1e-05, momentum=0.1, affine=True)\n",
       "          (relu): ReLU(inplace)\n",
       "          (conv): Conv2d(144, 16, kernel_size=(3, 3), stride=(1, 1), padding=(1, 1))\n",
       "          (drop): Dropout2d(p=0.2)\n",
       "        )\n",
       "        (2): DenseLayer(\n",
       "          (norm): BatchNorm2d(160, eps=1e-05, momentum=0.1, affine=True)\n",
       "          (relu): ReLU(inplace)\n",
       "          (conv): Conv2d(160, 16, kernel_size=(3, 3), stride=(1, 1), padding=(1, 1))\n",
       "          (drop): Dropout2d(p=0.2)\n",
       "        )\n",
       "        (3): DenseLayer(\n",
       "          (norm): BatchNorm2d(176, eps=1e-05, momentum=0.1, affine=True)\n",
       "          (relu): ReLU(inplace)\n",
       "          (conv): Conv2d(176, 16, kernel_size=(3, 3), stride=(1, 1), padding=(1, 1))\n",
       "          (drop): Dropout2d(p=0.2)\n",
       "        )\n",
       "        (4): DenseLayer(\n",
       "          (norm): BatchNorm2d(192, eps=1e-05, momentum=0.1, affine=True)\n",
       "          (relu): ReLU(inplace)\n",
       "          (conv): Conv2d(192, 16, kernel_size=(3, 3), stride=(1, 1), padding=(1, 1))\n",
       "          (drop): Dropout2d(p=0.2)\n",
       "        )\n",
       "      )\n",
       "    )\n",
       "    (2): DenseBlock(\n",
       "      (layers): ModuleList(\n",
       "        (0): DenseLayer(\n",
       "          (norm): BatchNorm2d(208, eps=1e-05, momentum=0.1, affine=True)\n",
       "          (relu): ReLU(inplace)\n",
       "          (conv): Conv2d(208, 16, kernel_size=(3, 3), stride=(1, 1), padding=(1, 1))\n",
       "          (drop): Dropout2d(p=0.2)\n",
       "        )\n",
       "        (1): DenseLayer(\n",
       "          (norm): BatchNorm2d(224, eps=1e-05, momentum=0.1, affine=True)\n",
       "          (relu): ReLU(inplace)\n",
       "          (conv): Conv2d(224, 16, kernel_size=(3, 3), stride=(1, 1), padding=(1, 1))\n",
       "          (drop): Dropout2d(p=0.2)\n",
       "        )\n",
       "        (2): DenseLayer(\n",
       "          (norm): BatchNorm2d(240, eps=1e-05, momentum=0.1, affine=True)\n",
       "          (relu): ReLU(inplace)\n",
       "          (conv): Conv2d(240, 16, kernel_size=(3, 3), stride=(1, 1), padding=(1, 1))\n",
       "          (drop): Dropout2d(p=0.2)\n",
       "        )\n",
       "        (3): DenseLayer(\n",
       "          (norm): BatchNorm2d(256, eps=1e-05, momentum=0.1, affine=True)\n",
       "          (relu): ReLU(inplace)\n",
       "          (conv): Conv2d(256, 16, kernel_size=(3, 3), stride=(1, 1), padding=(1, 1))\n",
       "          (drop): Dropout2d(p=0.2)\n",
       "        )\n",
       "        (4): DenseLayer(\n",
       "          (norm): BatchNorm2d(272, eps=1e-05, momentum=0.1, affine=True)\n",
       "          (relu): ReLU(inplace)\n",
       "          (conv): Conv2d(272, 16, kernel_size=(3, 3), stride=(1, 1), padding=(1, 1))\n",
       "          (drop): Dropout2d(p=0.2)\n",
       "        )\n",
       "      )\n",
       "    )\n",
       "    (3): DenseBlock(\n",
       "      (layers): ModuleList(\n",
       "        (0): DenseLayer(\n",
       "          (norm): BatchNorm2d(288, eps=1e-05, momentum=0.1, affine=True)\n",
       "          (relu): ReLU(inplace)\n",
       "          (conv): Conv2d(288, 16, kernel_size=(3, 3), stride=(1, 1), padding=(1, 1))\n",
       "          (drop): Dropout2d(p=0.2)\n",
       "        )\n",
       "        (1): DenseLayer(\n",
       "          (norm): BatchNorm2d(304, eps=1e-05, momentum=0.1, affine=True)\n",
       "          (relu): ReLU(inplace)\n",
       "          (conv): Conv2d(304, 16, kernel_size=(3, 3), stride=(1, 1), padding=(1, 1))\n",
       "          (drop): Dropout2d(p=0.2)\n",
       "        )\n",
       "        (2): DenseLayer(\n",
       "          (norm): BatchNorm2d(320, eps=1e-05, momentum=0.1, affine=True)\n",
       "          (relu): ReLU(inplace)\n",
       "          (conv): Conv2d(320, 16, kernel_size=(3, 3), stride=(1, 1), padding=(1, 1))\n",
       "          (drop): Dropout2d(p=0.2)\n",
       "        )\n",
       "        (3): DenseLayer(\n",
       "          (norm): BatchNorm2d(336, eps=1e-05, momentum=0.1, affine=True)\n",
       "          (relu): ReLU(inplace)\n",
       "          (conv): Conv2d(336, 16, kernel_size=(3, 3), stride=(1, 1), padding=(1, 1))\n",
       "          (drop): Dropout2d(p=0.2)\n",
       "        )\n",
       "        (4): DenseLayer(\n",
       "          (norm): BatchNorm2d(352, eps=1e-05, momentum=0.1, affine=True)\n",
       "          (relu): ReLU(inplace)\n",
       "          (conv): Conv2d(352, 16, kernel_size=(3, 3), stride=(1, 1), padding=(1, 1))\n",
       "          (drop): Dropout2d(p=0.2)\n",
       "        )\n",
       "      )\n",
       "    )\n",
       "    (4): DenseBlock(\n",
       "      (layers): ModuleList(\n",
       "        (0): DenseLayer(\n",
       "          (norm): BatchNorm2d(368, eps=1e-05, momentum=0.1, affine=True)\n",
       "          (relu): ReLU(inplace)\n",
       "          (conv): Conv2d(368, 16, kernel_size=(3, 3), stride=(1, 1), padding=(1, 1))\n",
       "          (drop): Dropout2d(p=0.2)\n",
       "        )\n",
       "        (1): DenseLayer(\n",
       "          (norm): BatchNorm2d(384, eps=1e-05, momentum=0.1, affine=True)\n",
       "          (relu): ReLU(inplace)\n",
       "          (conv): Conv2d(384, 16, kernel_size=(3, 3), stride=(1, 1), padding=(1, 1))\n",
       "          (drop): Dropout2d(p=0.2)\n",
       "        )\n",
       "        (2): DenseLayer(\n",
       "          (norm): BatchNorm2d(400, eps=1e-05, momentum=0.1, affine=True)\n",
       "          (relu): ReLU(inplace)\n",
       "          (conv): Conv2d(400, 16, kernel_size=(3, 3), stride=(1, 1), padding=(1, 1))\n",
       "          (drop): Dropout2d(p=0.2)\n",
       "        )\n",
       "        (3): DenseLayer(\n",
       "          (norm): BatchNorm2d(416, eps=1e-05, momentum=0.1, affine=True)\n",
       "          (relu): ReLU(inplace)\n",
       "          (conv): Conv2d(416, 16, kernel_size=(3, 3), stride=(1, 1), padding=(1, 1))\n",
       "          (drop): Dropout2d(p=0.2)\n",
       "        )\n",
       "        (4): DenseLayer(\n",
       "          (norm): BatchNorm2d(432, eps=1e-05, momentum=0.1, affine=True)\n",
       "          (relu): ReLU(inplace)\n",
       "          (conv): Conv2d(432, 16, kernel_size=(3, 3), stride=(1, 1), padding=(1, 1))\n",
       "          (drop): Dropout2d(p=0.2)\n",
       "        )\n",
       "      )\n",
       "    )\n",
       "  )\n",
       "  (transDownBlocks): ModuleList(\n",
       "    (0): TransitionDown(\n",
       "      (norm): BatchNorm2d(128, eps=1e-05, momentum=0.1, affine=True)\n",
       "      (relu): ReLU(inplace)\n",
       "      (conv): Conv2d(128, 128, kernel_size=(1, 1), stride=(1, 1))\n",
       "      (drop): Dropout2d(p=0.2)\n",
       "      (maxpool): MaxPool2d(kernel_size=(2, 2), stride=(2, 2), dilation=(1, 1), ceil_mode=False)\n",
       "    )\n",
       "    (1): TransitionDown(\n",
       "      (norm): BatchNorm2d(208, eps=1e-05, momentum=0.1, affine=True)\n",
       "      (relu): ReLU(inplace)\n",
       "      (conv): Conv2d(208, 208, kernel_size=(1, 1), stride=(1, 1))\n",
       "      (drop): Dropout2d(p=0.2)\n",
       "      (maxpool): MaxPool2d(kernel_size=(2, 2), stride=(2, 2), dilation=(1, 1), ceil_mode=False)\n",
       "    )\n",
       "    (2): TransitionDown(\n",
       "      (norm): BatchNorm2d(288, eps=1e-05, momentum=0.1, affine=True)\n",
       "      (relu): ReLU(inplace)\n",
       "      (conv): Conv2d(288, 288, kernel_size=(1, 1), stride=(1, 1))\n",
       "      (drop): Dropout2d(p=0.2)\n",
       "      (maxpool): MaxPool2d(kernel_size=(2, 2), stride=(2, 2), dilation=(1, 1), ceil_mode=False)\n",
       "    )\n",
       "    (3): TransitionDown(\n",
       "      (norm): BatchNorm2d(368, eps=1e-05, momentum=0.1, affine=True)\n",
       "      (relu): ReLU(inplace)\n",
       "      (conv): Conv2d(368, 368, kernel_size=(1, 1), stride=(1, 1))\n",
       "      (drop): Dropout2d(p=0.2)\n",
       "      (maxpool): MaxPool2d(kernel_size=(2, 2), stride=(2, 2), dilation=(1, 1), ceil_mode=False)\n",
       "    )\n",
       "    (4): TransitionDown(\n",
       "      (norm): BatchNorm2d(448, eps=1e-05, momentum=0.1, affine=True)\n",
       "      (relu): ReLU(inplace)\n",
       "      (conv): Conv2d(448, 448, kernel_size=(1, 1), stride=(1, 1))\n",
       "      (drop): Dropout2d(p=0.2)\n",
       "      (maxpool): MaxPool2d(kernel_size=(2, 2), stride=(2, 2), dilation=(1, 1), ceil_mode=False)\n",
       "    )\n",
       "  )\n",
       "  (bottleneck): Bottleneck(\n",
       "    (bottleneck): DenseBlock(\n",
       "      (layers): ModuleList(\n",
       "        (0): DenseLayer(\n",
       "          (norm): BatchNorm2d(448, eps=1e-05, momentum=0.1, affine=True)\n",
       "          (relu): ReLU(inplace)\n",
       "          (conv): Conv2d(448, 16, kernel_size=(3, 3), stride=(1, 1), padding=(1, 1))\n",
       "          (drop): Dropout2d(p=0.2)\n",
       "        )\n",
       "        (1): DenseLayer(\n",
       "          (norm): BatchNorm2d(464, eps=1e-05, momentum=0.1, affine=True)\n",
       "          (relu): ReLU(inplace)\n",
       "          (conv): Conv2d(464, 16, kernel_size=(3, 3), stride=(1, 1), padding=(1, 1))\n",
       "          (drop): Dropout2d(p=0.2)\n",
       "        )\n",
       "        (2): DenseLayer(\n",
       "          (norm): BatchNorm2d(480, eps=1e-05, momentum=0.1, affine=True)\n",
       "          (relu): ReLU(inplace)\n",
       "          (conv): Conv2d(480, 16, kernel_size=(3, 3), stride=(1, 1), padding=(1, 1))\n",
       "          (drop): Dropout2d(p=0.2)\n",
       "        )\n",
       "        (3): DenseLayer(\n",
       "          (norm): BatchNorm2d(496, eps=1e-05, momentum=0.1, affine=True)\n",
       "          (relu): ReLU(inplace)\n",
       "          (conv): Conv2d(496, 16, kernel_size=(3, 3), stride=(1, 1), padding=(1, 1))\n",
       "          (drop): Dropout2d(p=0.2)\n",
       "        )\n",
       "        (4): DenseLayer(\n",
       "          (norm): BatchNorm2d(512, eps=1e-05, momentum=0.1, affine=True)\n",
       "          (relu): ReLU(inplace)\n",
       "          (conv): Conv2d(512, 16, kernel_size=(3, 3), stride=(1, 1), padding=(1, 1))\n",
       "          (drop): Dropout2d(p=0.2)\n",
       "        )\n",
       "      )\n",
       "    )\n",
       "  )\n",
       "  (transUpBlocks): ModuleList(\n",
       "    (0): TransitionUp(\n",
       "      (convTrans): ConvTranspose2d(80, 80, kernel_size=(3, 3), stride=(2, 2))\n",
       "    )\n",
       "    (1): TransitionUp(\n",
       "      (convTrans): ConvTranspose2d(80, 80, kernel_size=(3, 3), stride=(2, 2))\n",
       "    )\n",
       "    (2): TransitionUp(\n",
       "      (convTrans): ConvTranspose2d(80, 80, kernel_size=(3, 3), stride=(2, 2))\n",
       "    )\n",
       "    (3): TransitionUp(\n",
       "      (convTrans): ConvTranspose2d(80, 80, kernel_size=(3, 3), stride=(2, 2))\n",
       "    )\n",
       "    (4): TransitionUp(\n",
       "      (convTrans): ConvTranspose2d(80, 80, kernel_size=(3, 3), stride=(2, 2))\n",
       "    )\n",
       "  )\n",
       "  (denseBlocksUp): ModuleList(\n",
       "    (0): DenseBlock(\n",
       "      (layers): ModuleList(\n",
       "        (0): DenseLayer(\n",
       "          (norm): BatchNorm2d(528, eps=1e-05, momentum=0.1, affine=True)\n",
       "          (relu): ReLU(inplace)\n",
       "          (conv): Conv2d(528, 16, kernel_size=(3, 3), stride=(1, 1), padding=(1, 1))\n",
       "          (drop): Dropout2d(p=0.2)\n",
       "        )\n",
       "        (1): DenseLayer(\n",
       "          (norm): BatchNorm2d(544, eps=1e-05, momentum=0.1, affine=True)\n",
       "          (relu): ReLU(inplace)\n",
       "          (conv): Conv2d(544, 16, kernel_size=(3, 3), stride=(1, 1), padding=(1, 1))\n",
       "          (drop): Dropout2d(p=0.2)\n",
       "        )\n",
       "        (2): DenseLayer(\n",
       "          (norm): BatchNorm2d(560, eps=1e-05, momentum=0.1, affine=True)\n",
       "          (relu): ReLU(inplace)\n",
       "          (conv): Conv2d(560, 16, kernel_size=(3, 3), stride=(1, 1), padding=(1, 1))\n",
       "          (drop): Dropout2d(p=0.2)\n",
       "        )\n",
       "        (3): DenseLayer(\n",
       "          (norm): BatchNorm2d(576, eps=1e-05, momentum=0.1, affine=True)\n",
       "          (relu): ReLU(inplace)\n",
       "          (conv): Conv2d(576, 16, kernel_size=(3, 3), stride=(1, 1), padding=(1, 1))\n",
       "          (drop): Dropout2d(p=0.2)\n",
       "        )\n",
       "        (4): DenseLayer(\n",
       "          (norm): BatchNorm2d(592, eps=1e-05, momentum=0.1, affine=True)\n",
       "          (relu): ReLU(inplace)\n",
       "          (conv): Conv2d(592, 16, kernel_size=(3, 3), stride=(1, 1), padding=(1, 1))\n",
       "          (drop): Dropout2d(p=0.2)\n",
       "        )\n",
       "      )\n",
       "    )\n",
       "    (1): DenseBlock(\n",
       "      (layers): ModuleList(\n",
       "        (0): DenseLayer(\n",
       "          (norm): BatchNorm2d(448, eps=1e-05, momentum=0.1, affine=True)\n",
       "          (relu): ReLU(inplace)\n",
       "          (conv): Conv2d(448, 16, kernel_size=(3, 3), stride=(1, 1), padding=(1, 1))\n",
       "          (drop): Dropout2d(p=0.2)\n",
       "        )\n",
       "        (1): DenseLayer(\n",
       "          (norm): BatchNorm2d(464, eps=1e-05, momentum=0.1, affine=True)\n",
       "          (relu): ReLU(inplace)\n",
       "          (conv): Conv2d(464, 16, kernel_size=(3, 3), stride=(1, 1), padding=(1, 1))\n",
       "          (drop): Dropout2d(p=0.2)\n",
       "        )\n",
       "        (2): DenseLayer(\n",
       "          (norm): BatchNorm2d(480, eps=1e-05, momentum=0.1, affine=True)\n",
       "          (relu): ReLU(inplace)\n",
       "          (conv): Conv2d(480, 16, kernel_size=(3, 3), stride=(1, 1), padding=(1, 1))\n",
       "          (drop): Dropout2d(p=0.2)\n",
       "        )\n",
       "        (3): DenseLayer(\n",
       "          (norm): BatchNorm2d(496, eps=1e-05, momentum=0.1, affine=True)\n",
       "          (relu): ReLU(inplace)\n",
       "          (conv): Conv2d(496, 16, kernel_size=(3, 3), stride=(1, 1), padding=(1, 1))\n",
       "          (drop): Dropout2d(p=0.2)\n",
       "        )\n",
       "        (4): DenseLayer(\n",
       "          (norm): BatchNorm2d(512, eps=1e-05, momentum=0.1, affine=True)\n",
       "          (relu): ReLU(inplace)\n",
       "          (conv): Conv2d(512, 16, kernel_size=(3, 3), stride=(1, 1), padding=(1, 1))\n",
       "          (drop): Dropout2d(p=0.2)\n",
       "        )\n",
       "      )\n",
       "    )\n",
       "    (2): DenseBlock(\n",
       "      (layers): ModuleList(\n",
       "        (0): DenseLayer(\n",
       "          (norm): BatchNorm2d(368, eps=1e-05, momentum=0.1, affine=True)\n",
       "          (relu): ReLU(inplace)\n",
       "          (conv): Conv2d(368, 16, kernel_size=(3, 3), stride=(1, 1), padding=(1, 1))\n",
       "          (drop): Dropout2d(p=0.2)\n",
       "        )\n",
       "        (1): DenseLayer(\n",
       "          (norm): BatchNorm2d(384, eps=1e-05, momentum=0.1, affine=True)\n",
       "          (relu): ReLU(inplace)\n",
       "          (conv): Conv2d(384, 16, kernel_size=(3, 3), stride=(1, 1), padding=(1, 1))\n",
       "          (drop): Dropout2d(p=0.2)\n",
       "        )\n",
       "        (2): DenseLayer(\n",
       "          (norm): BatchNorm2d(400, eps=1e-05, momentum=0.1, affine=True)\n",
       "          (relu): ReLU(inplace)\n",
       "          (conv): Conv2d(400, 16, kernel_size=(3, 3), stride=(1, 1), padding=(1, 1))\n",
       "          (drop): Dropout2d(p=0.2)\n",
       "        )\n",
       "        (3): DenseLayer(\n",
       "          (norm): BatchNorm2d(416, eps=1e-05, momentum=0.1, affine=True)\n",
       "          (relu): ReLU(inplace)\n",
       "          (conv): Conv2d(416, 16, kernel_size=(3, 3), stride=(1, 1), padding=(1, 1))\n",
       "          (drop): Dropout2d(p=0.2)\n",
       "        )\n",
       "        (4): DenseLayer(\n",
       "          (norm): BatchNorm2d(432, eps=1e-05, momentum=0.1, affine=True)\n",
       "          (relu): ReLU(inplace)\n",
       "          (conv): Conv2d(432, 16, kernel_size=(3, 3), stride=(1, 1), padding=(1, 1))\n",
       "          (drop): Dropout2d(p=0.2)\n",
       "        )\n",
       "      )\n",
       "    )\n",
       "    (3): DenseBlock(\n",
       "      (layers): ModuleList(\n",
       "        (0): DenseLayer(\n",
       "          (norm): BatchNorm2d(288, eps=1e-05, momentum=0.1, affine=True)\n",
       "          (relu): ReLU(inplace)\n",
       "          (conv): Conv2d(288, 16, kernel_size=(3, 3), stride=(1, 1), padding=(1, 1))\n",
       "          (drop): Dropout2d(p=0.2)\n",
       "        )\n",
       "        (1): DenseLayer(\n",
       "          (norm): BatchNorm2d(304, eps=1e-05, momentum=0.1, affine=True)\n",
       "          (relu): ReLU(inplace)\n",
       "          (conv): Conv2d(304, 16, kernel_size=(3, 3), stride=(1, 1), padding=(1, 1))\n",
       "          (drop): Dropout2d(p=0.2)\n",
       "        )\n",
       "        (2): DenseLayer(\n",
       "          (norm): BatchNorm2d(320, eps=1e-05, momentum=0.1, affine=True)\n",
       "          (relu): ReLU(inplace)\n",
       "          (conv): Conv2d(320, 16, kernel_size=(3, 3), stride=(1, 1), padding=(1, 1))\n",
       "          (drop): Dropout2d(p=0.2)\n",
       "        )\n",
       "        (3): DenseLayer(\n",
       "          (norm): BatchNorm2d(336, eps=1e-05, momentum=0.1, affine=True)\n",
       "          (relu): ReLU(inplace)\n",
       "          (conv): Conv2d(336, 16, kernel_size=(3, 3), stride=(1, 1), padding=(1, 1))\n",
       "          (drop): Dropout2d(p=0.2)\n",
       "        )\n",
       "        (4): DenseLayer(\n",
       "          (norm): BatchNorm2d(352, eps=1e-05, momentum=0.1, affine=True)\n",
       "          (relu): ReLU(inplace)\n",
       "          (conv): Conv2d(352, 16, kernel_size=(3, 3), stride=(1, 1), padding=(1, 1))\n",
       "          (drop): Dropout2d(p=0.2)\n",
       "        )\n",
       "      )\n",
       "    )\n",
       "    (4): DenseBlock(\n",
       "      (layers): ModuleList(\n",
       "        (0): DenseLayer(\n",
       "          (norm): BatchNorm2d(208, eps=1e-05, momentum=0.1, affine=True)\n",
       "          (relu): ReLU(inplace)\n",
       "          (conv): Conv2d(208, 16, kernel_size=(3, 3), stride=(1, 1), padding=(1, 1))\n",
       "          (drop): Dropout2d(p=0.2)\n",
       "        )\n",
       "        (1): DenseLayer(\n",
       "          (norm): BatchNorm2d(224, eps=1e-05, momentum=0.1, affine=True)\n",
       "          (relu): ReLU(inplace)\n",
       "          (conv): Conv2d(224, 16, kernel_size=(3, 3), stride=(1, 1), padding=(1, 1))\n",
       "          (drop): Dropout2d(p=0.2)\n",
       "        )\n",
       "        (2): DenseLayer(\n",
       "          (norm): BatchNorm2d(240, eps=1e-05, momentum=0.1, affine=True)\n",
       "          (relu): ReLU(inplace)\n",
       "          (conv): Conv2d(240, 16, kernel_size=(3, 3), stride=(1, 1), padding=(1, 1))\n",
       "          (drop): Dropout2d(p=0.2)\n",
       "        )\n",
       "        (3): DenseLayer(\n",
       "          (norm): BatchNorm2d(256, eps=1e-05, momentum=0.1, affine=True)\n",
       "          (relu): ReLU(inplace)\n",
       "          (conv): Conv2d(256, 16, kernel_size=(3, 3), stride=(1, 1), padding=(1, 1))\n",
       "          (drop): Dropout2d(p=0.2)\n",
       "        )\n",
       "        (4): DenseLayer(\n",
       "          (norm): BatchNorm2d(272, eps=1e-05, momentum=0.1, affine=True)\n",
       "          (relu): ReLU(inplace)\n",
       "          (conv): Conv2d(272, 16, kernel_size=(3, 3), stride=(1, 1), padding=(1, 1))\n",
       "          (drop): Dropout2d(p=0.2)\n",
       "        )\n",
       "      )\n",
       "    )\n",
       "  )\n",
       "  (finalConv): Conv2d(288, 1, kernel_size=(1, 1), stride=(1, 1))\n",
       "  (sigmoid): Sigmoid()\n",
       ")"
      ]
     },
     "execution_count": 5,
     "metadata": {},
     "output_type": "execute_result"
    }
   ],
   "source": [
    "model"
   ]
  },
  {
   "cell_type": "code",
   "execution_count": 7,
   "metadata": {},
   "outputs": [],
   "source": [
    "import seq2loc\n",
    "from seq2loc.datasets import Seq2LocDataset\n",
    "import seq2loc.utils as utils\n",
    "\n",
    "ds = Seq2LocDataset('./data/hpa_data_resized_train.csv', \n",
    "                    GPU_id = None)\n",
    "\n",
    "batch_size = 64\n",
    "epoch_inds = utils.get_epoch_inds(len(ds), batch_size)"
   ]
  },
  {
   "cell_type": "code",
   "execution_count": 44,
   "metadata": {},
   "outputs": [
    {
     "data": {
      "text/plain": [
       "array([[0, 0, 0, ..., 0, 0, 0],\n",
       "       [0, 0, 0, ..., 0, 0, 0],\n",
       "       [0, 0, 0, ..., 0, 0, 0],\n",
       "       ...,\n",
       "       [0, 0, 0, ..., 6, 0, 0],\n",
       "       [0, 0, 0, ..., 6, 6, 0],\n",
       "       [0, 0, 0, ..., 6, 0, 0]], dtype=uint8)"
      ]
     },
     "execution_count": 44,
     "metadata": {},
     "output_type": "execute_result"
    }
   ],
   "source": [
    "image[0]"
   ]
  },
  {
   "cell_type": "code",
   "execution_count": 55,
   "metadata": {},
   "outputs": [
    {
     "data": {
      "image/png": "[encoded data removed]",
      "text/plain": [
       "<PIL.Image.Image image mode=L size=256x256 at 0x7FF27FA502B0>"
      ]
     },
     "metadata": {},
     "output_type": "display_data"
    }
   ],
   "source": [
    "from IPython.core.display import display\n",
    "import PIL.Image\n",
    "import numpy as np\n",
    "\n",
    "\n",
    "image = ds[[8]]['image_source'].data.numpy()\n",
    "image = image[0,0]\n",
    "image /= np.max(image)\n",
    "image *= 255\n",
    "\n",
    "image = image.astype(np.uint8)\n",
    "\n",
    "image = np.squeeze(image)\n",
    "\n",
    "display(PIL.Image.fromarray(image))"
   ]
  },
  {
   "cell_type": "code",
   "execution_count": 52,
   "metadata": {},
   "outputs": [
    {
     "data": {
      "text/plain": [
       "(1, 2, 256, 256)"
      ]
     },
     "execution_count": 52,
     "metadata": {},
     "output_type": "execute_result"
    }
   ],
   "source": [
    "image = ds[[8]]['image_source'].data.numpy()\n",
    "image.shape"
   ]
  },
  {
   "cell_type": "code",
   "execution_count": 6,
   "metadata": {},
   "outputs": [
    {
     "ename": "NameError",
     "evalue": "name 'ds' is not defined",
     "output_type": "error",
     "traceback": [
      "\u001b[0;31m---------------------------------------------------------------------------\u001b[0m",
      "\u001b[0;31mNameError\u001b[0m                                 Traceback (most recent call last)",
      "\u001b[0;32m<ipython-input-6-4d5aae95bd30>\u001b[0m in \u001b[0;36m<module>\u001b[0;34m()\u001b[0m\n\u001b[0;32m----> 1\u001b[0;31m \u001b[0mds\u001b[0m\u001b[0;34m[\u001b[0m\u001b[0;34m[\u001b[0m\u001b[0;36m0\u001b[0m\u001b[0;34m]\u001b[0m\u001b[0;34m]\u001b[0m\u001b[0;34m\u001b[0m\u001b[0m\n\u001b[0m",
      "\u001b[0;31mNameError\u001b[0m: name 'ds' is not defined"
     ]
    }
   ],
   "source": [
    "ds[[0]]"
   ]
  },
  {
   "cell_type": "code",
   "execution_count": null,
   "metadata": {},
   "outputs": [],
   "source": []
  }
 ],
 "metadata": {
  "kernelspec": {
   "display_name": "Python 3",
   "language": "python",
   "name": "python3"
  },
  "language_info": {
   "codemirror_mode": {
    "name": "ipython",
    "version": 3
   },
   "file_extension": ".py",
   "mimetype": "text/x-python",
   "name": "python",
   "nbconvert_exporter": "python",
   "pygments_lexer": "ipython3",
   "version": "3.6.4"
  }
 },
 "nbformat": 4,
 "nbformat_minor": 2
}
