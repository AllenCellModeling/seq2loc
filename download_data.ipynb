{
 "cells": [
  {
   "cell_type": "code",
   "execution_count": 1,
   "metadata": {},
   "outputs": [
    {
     "name": "stdout",
     "output_type": "stream",
     "text": [
      "Collecting joblib\n",
      "  Downloading https://files.pythonhosted.org/packages/4f/51/870b2ec270fc29c5d89f85353da420606a9cb39fba4747127e7c7d7eb25d/joblib-0.11-py2.py3-none-any.whl (176kB)\n",
      "\u001b[K    100% |████████████████████████████████| 184kB 5.1MB/s \n",
      "\u001b[?25hInstalling collected packages: joblib\n",
      "Successfully installed joblib-0.11\n",
      "\u001b[33mYou are using pip version 9.0.1, however version 10.0.1 is available.\n",
      "You should consider upgrading via the 'pip install --upgrade pip' command.\u001b[0m\n",
      "Collecting xmltodict\n",
      "  Downloading https://files.pythonhosted.org/packages/42/a9/7e99652c6bc619d19d58cdd8c47560730eb5825d43a7e25db2e1d776ceb7/xmltodict-0.11.0-py2.py3-none-any.whl\n",
      "Installing collected packages: xmltodict\n",
      "Successfully installed xmltodict-0.11.0\n",
      "\u001b[33mYou are using pip version 9.0.1, however version 10.0.1 is available.\n",
      "You should consider upgrading via the 'pip install --upgrade pip' command.\u001b[0m\n",
      "Collecting bs4\n",
      "  Downloading https://files.pythonhosted.org/packages/10/ed/7e8b97591f6f456174139ec089c769f89a94a1a4025fe967691de971f314/bs4-0.0.1.tar.gz\n",
      "Collecting beautifulsoup4 (from bs4)\n",
      "  Downloading https://files.pythonhosted.org/packages/9e/d4/10f46e5cfac773e22707237bfcd51bbffeaf0a576b0a847ec7ab15bd7ace/beautifulsoup4-4.6.0-py3-none-any.whl (86kB)\n",
      "\u001b[K    100% |████████████████████████████████| 92kB 4.0MB/s \n",
      "\u001b[?25hBuilding wheels for collected packages: bs4\n",
      "  Running setup.py bdist_wheel for bs4 ... \u001b[?25ldone\n",
      "\u001b[?25h  Stored in directory: /root/.cache/pip/wheels/a0/b0/b2/4f80b9456b87abedbc0bf2d52235414c3467d8889be38dd472\n",
      "Successfully built bs4\n",
      "Installing collected packages: beautifulsoup4, bs4\n",
      "Successfully installed beautifulsoup4-4.6.0 bs4-0.0.1\n",
      "\u001b[33mYou are using pip version 9.0.1, however version 10.0.1 is available.\n",
      "You should consider upgrading via the 'pip install --upgrade pip' command.\u001b[0m\n"
     ]
    }
   ],
   "source": [
    "!pip install joblib\n",
    "!pip install xmltodict\n",
    "!pip install bs4"
   ]
  },
  {
   "cell_type": "code",
   "execution_count": 1,
   "metadata": {},
   "outputs": [],
   "source": [
    "import requests, sys, os, pdb\n",
    "\n",
    "def ensg_to_disk(ensg, save_dir):\n",
    "    try:\n",
    "        hpa.ensg_to_disk(ensg, save_dir)\n",
    "        print('Downloaded '+ ensg)  \n",
    "    except:\n",
    "        print('Failed on ' + ensg)\n",
    "        return False\n",
    "    \n",
    "    return True\n",
    "\n",
    "def ensg_query_ensembl_to_disk(ensg, query_type, save_dir):\n",
    "    try:\n",
    "        parent_dir = '{}/{}'.format(save_dir, ensg)\n",
    "        save_file = '{}/{}.json'.format(parent_dir, query_type)\n",
    "        \n",
    "        if os.path.exists(save_file):\n",
    "            return True\n",
    "        \n",
    "        if not os.path.exists(parent_dir):\n",
    "            os.makedirs(parent_dir)\n",
    "        \n",
    "        server = \"http://rest.ensembl.org\"\n",
    "        ext = \"/sequence/id\"\n",
    "        headers={ \"Content-Type\" : \"application/json\", \"Accept\" : \"application/json\"}\n",
    "        \n",
    "        r = requests.post(server+ext, headers=headers, data='{ \"ids\" : [\"' + ensg + '\" ], \"type\" : [\"' + query_type + '\"]}')\n",
    "\n",
    "        if not r.ok:\n",
    "          r.raise_for_status()\n",
    "          sys.exit()\n",
    "\n",
    "        decoded = r.json()\n",
    "        \n",
    "        with open(save_file, \"w\") as text_file:\n",
    "            text_file.write(repr(decoded))\n",
    "        \n",
    "    except:\n",
    "        print('Failed on ' + ensg + ' - ' + query_type)\n"
   ]
  },
  {
   "cell_type": "markdown",
   "metadata": {},
   "source": [
    "### Download xml files from HPA"
   ]
  },
  {
   "cell_type": "code",
   "execution_count": null,
   "metadata": {},
   "outputs": [],
   "source": [
    "from joblib import Parallel, delayed\n",
    "\n",
    "import seq2loc.data.hpa as hpa\n",
    "import tqdm\n",
    "\n",
    "import pandas as pd\n",
    "\n",
    "proteinatlas_data = './data/proteinatlas.tsv'\n",
    "\n",
    "results_dir = './data/hpa/{}'\n",
    "results_filename = 'info.csv'\n",
    "\n",
    "df_proteinatlas = pd.read_csv(proteinatlas_data, delimiter='\\t')\n",
    "\n",
    "ensgs = tqdm.tqdm(df_proteinatlas['Ensembl'])\n",
    "\n",
    "save_dirs = [results_dir.format(ensg) for ensg in ensgs]\n",
    "\n",
    "Parallel(n_jobs=16)(delayed(ensg_to_disk)(ensg,save_dir) for ensg, save_dir in zip(ensgs, save_dirs))"
   ]
  },
  {
   "cell_type": "markdown",
   "metadata": {},
   "source": [
    "### Download Sequences from ENSEMBL"
   ]
  },
  {
   "cell_type": "code",
   "execution_count": null,
   "metadata": {},
   "outputs": [
    {
     "name": "stderr",
     "output_type": "stream",
     "text": [
      "  6%|▌         | 1200/19613 [00:02<00:40, 456.61it/s]"
     ]
    },
    {
     "name": "stdout",
     "output_type": "stream",
     "text": [
      "Failed on ENSG00000069712 - genomic\n"
     ]
    },
    {
     "name": "stderr",
     "output_type": "stream",
     "text": [
      " 24%|██▍       | 4738/19613 [00:08<00:26, 563.48it/s]"
     ]
    },
    {
     "name": "stdout",
     "output_type": "stream",
     "text": [
      "Failed on ENSG00000116957 - genomic\n"
     ]
    },
    {
     "name": "stderr",
     "output_type": "stream",
     "text": [
      " 35%|███▍      | 6815/19613 [00:12<00:22, 558.88it/s]"
     ]
    },
    {
     "name": "stdout",
     "output_type": "stream",
     "text": [
      "Failed on ENSG00000133808 - genomic\n"
     ]
    },
    {
     "name": "stderr",
     "output_type": "stream",
     "text": [
      " 47%|████▋     | 9259/19613 [01:25<01:35, 108.49it/s]"
     ]
    },
    {
     "name": "stdout",
     "output_type": "stream",
     "text": [
      "Failed on ENSG00000150526 - genomic\n"
     ]
    },
    {
     "name": "stderr",
     "output_type": "stream",
     "text": [
      " 65%|██████▍   | 12728/19613 [02:03<01:07, 102.70it/s]"
     ]
    },
    {
     "name": "stdout",
     "output_type": "stream",
     "text": [
      "Failed on ENSG00000170647 - genomic\n"
     ]
    },
    {
     "name": "stderr",
     "output_type": "stream",
     "text": [
      " 74%|███████▎  | 14432/19613 [02:07<00:45, 113.47it/s]"
     ]
    },
    {
     "name": "stdout",
     "output_type": "stream",
     "text": [
      "Failed on ENSG00000179979 - genomic\n"
     ]
    },
    {
     "name": "stderr",
     "output_type": "stream",
     "text": [
      " 81%|████████  | 15917/19613 [02:10<00:30, 122.40it/s]"
     ]
    },
    {
     "name": "stdout",
     "output_type": "stream",
     "text": [
      "Failed on ENSG00000187695 - genomic\n"
     ]
    },
    {
     "name": "stderr",
     "output_type": "stream",
     "text": [
      " 84%|████████▍ | 16448/19613 [02:11<00:25, 124.91it/s]"
     ]
    },
    {
     "name": "stdout",
     "output_type": "stream",
     "text": [
      "Failed on ENSG00000196661 - genomic\n"
     ]
    },
    {
     "name": "stderr",
     "output_type": "stream",
     "text": [
      " 88%|████████▊ | 17198/19613 [02:13<00:18, 128.59it/s]"
     ]
    },
    {
     "name": "stdout",
     "output_type": "stream",
     "text": [
      "Failed on ENSG00000204293 - genomic\n"
     ]
    },
    {
     "name": "stderr",
     "output_type": "stream",
     "text": [
      " 90%|█████████ | 17710/19613 [02:15<00:14, 130.69it/s]"
     ]
    },
    {
     "name": "stdout",
     "output_type": "stream",
     "text": [
      "Failed on ENSG00000213077 - genomic\n"
     ]
    },
    {
     "name": "stderr",
     "output_type": "stream",
     "text": [
      " 91%|█████████▏| 17916/19613 [02:16<00:12, 130.89it/s]"
     ]
    },
    {
     "name": "stdout",
     "output_type": "stream",
     "text": [
      "Failed on ENSG00000221870 - genomic\n",
      "Failed on ENSG00000221961 - genomic\n"
     ]
    },
    {
     "name": "stderr",
     "output_type": "stream",
     "text": [
      " 92%|█████████▏| 18024/19613 [02:57<00:15, 101.68it/s]"
     ]
    },
    {
     "name": "stdout",
     "output_type": "stream",
     "text": [
      "Failed on ENSG00000223401 - genomic\n"
     ]
    },
    {
     "name": "stderr",
     "output_type": "stream",
     "text": [
      " 93%|█████████▎| 18315/19613 [02:58<00:12, 102.43it/s]"
     ]
    },
    {
     "name": "stdout",
     "output_type": "stream",
     "text": [
      "Failed on ENSG00000237847 - genomic\n"
     ]
    },
    {
     "name": "stderr",
     "output_type": "stream",
     "text": [
      " 94%|█████████▎| 18357/19613 [02:59<00:12, 102.02it/s]"
     ]
    },
    {
     "name": "stdout",
     "output_type": "stream",
     "text": [
      "Failed on ENSG00000241043 - genomic\n"
     ]
    },
    {
     "name": "stderr",
     "output_type": "stream",
     "text": [
      " 94%|█████████▍| 18399/19613 [03:01<00:11, 101.63it/s]"
     ]
    },
    {
     "name": "stdout",
     "output_type": "stream",
     "text": [
      "Failed on ENSG00000242180 - genomic\n"
     ]
    },
    {
     "name": "stderr",
     "output_type": "stream",
     "text": [
      " 94%|█████████▍| 18520/19613 [03:02<00:10, 101.63it/s]"
     ]
    },
    {
     "name": "stdout",
     "output_type": "stream",
     "text": [
      "Failed on ENSG00000243440 - genomic\n"
     ]
    },
    {
     "name": "stderr",
     "output_type": "stream",
     "text": [
      " 97%|█████████▋| 18965/19613 [03:03<00:06, 103.16it/s]"
     ]
    },
    {
     "name": "stdout",
     "output_type": "stream",
     "text": [
      "Failed on ENSG00000258941 - genomic\n"
     ]
    },
    {
     "name": "stderr",
     "output_type": "stream",
     "text": [
      " 97%|█████████▋| 19115/19613 [03:05<00:04, 103.26it/s]"
     ]
    },
    {
     "name": "stdout",
     "output_type": "stream",
     "text": [
      "Failed on ENSG00000268714 - genomic\n"
     ]
    },
    {
     "name": "stderr",
     "output_type": "stream",
     "text": [
      " 98%|█████████▊| 19161/19613 [03:06<00:04, 102.88it/s]"
     ]
    },
    {
     "name": "stdout",
     "output_type": "stream",
     "text": [
      "Failed on ENSG00000268991 - genomic\n"
     ]
    },
    {
     "name": "stderr",
     "output_type": "stream",
     "text": [
      " 98%|█████████▊| 19195/19613 [03:07<00:04, 102.46it/s]"
     ]
    },
    {
     "name": "stdout",
     "output_type": "stream",
     "text": [
      "Failed on ENSG00000270024 - genomic\n"
     ]
    },
    {
     "name": "stderr",
     "output_type": "stream",
     "text": [
      " 99%|█████████▊| 19325/19613 [03:43<00:03, 86.58it/s]"
     ]
    },
    {
     "name": "stdout",
     "output_type": "stream",
     "text": [
      "Failed on ENSG00000273547 - genomic\n"
     ]
    },
    {
     "name": "stderr",
     "output_type": "stream",
     "text": [
      " 99%|█████████▉| 19458/19613 [03:45<00:01, 86.27it/s]"
     ]
    },
    {
     "name": "stdout",
     "output_type": "stream",
     "text": [
      "Failed on ENSG00000278566 - genomic\n"
     ]
    },
    {
     "name": "stderr",
     "output_type": "stream",
     "text": [
      " 99%|█████████▉| 19482/19613 [04:28<00:01, 72.56it/s]"
     ]
    },
    {
     "name": "stdout",
     "output_type": "stream",
     "text": [
      "Failed on ENSG00000279132 - genomic\n"
     ]
    },
    {
     "name": "stderr",
     "output_type": "stream",
     "text": [
      " 99%|█████████▉| 19488/19613 [04:29<00:01, 72.25it/s]"
     ]
    },
    {
     "name": "stdout",
     "output_type": "stream",
     "text": [
      "Failed on ENSG00000279767 - genomic\n"
     ]
    },
    {
     "name": "stderr",
     "output_type": "stream",
     "text": [
      " 99%|█████████▉| 19508/19613 [04:31<00:01, 71.78it/s]"
     ]
    },
    {
     "name": "stdout",
     "output_type": "stream",
     "text": [
      "Failed on ENSG00000281899 - genomic\n"
     ]
    },
    {
     "name": "stderr",
     "output_type": "stream",
     "text": [
      "100%|█████████▉| 19519/19613 [05:09<00:01, 63.09it/s]"
     ]
    },
    {
     "name": "stdout",
     "output_type": "stream",
     "text": [
      "Failed on ENSG00000282827 - genomic\n"
     ]
    },
    {
     "name": "stderr",
     "output_type": "stream",
     "text": [
      "100%|██████████| 19613/19613 [05:14<00:00, 62.33it/s]"
     ]
    },
    {
     "name": "stdout",
     "output_type": "stream",
     "text": [
      "Failed on ENSG00000284413 - genomic\n"
     ]
    },
    {
     "name": "stderr",
     "output_type": "stream",
     "text": [
      "\n"
     ]
    },
    {
     "name": "stdout",
     "output_type": "stream",
     "text": [
      "Failed on ENSG00000069712 - cds\n",
      "Failed on ENSG00000116957 - cds\n",
      "Failed on ENSG00000133808 - cds\n",
      "Failed on ENSG00000150526 - cds\n",
      "Failed on ENSG00000162913 - cds\n",
      "Failed on ENSG00000170647 - cds\n",
      "Failed on ENSG00000173209 - cds\n",
      "Failed on ENSG00000176124 - cds\n",
      "Failed on ENSG00000176904 - cds\n",
      "Failed on ENSG00000177359 - cds\n",
      "Failed on ENSG00000179979 - cds\n",
      "Failed on ENSG00000180259 - cds\n",
      "Failed on ENSG00000180389 - cds\n",
      "Failed on ENSG00000181355 - cds\n",
      "Failed on ENSG00000184029 - cds\n",
      "Failed on ENSG00000184321 - cds\n",
      "Failed on ENSG00000185684 - cds\n",
      "Failed on ENSG00000187600 - cds\n",
      "Failed on ENSG00000187695 - cds\n",
      "Failed on ENSG00000187951 - cds\n",
      "Failed on ENSG00000188004 - cds\n",
      "Failed on ENSG00000196661 - cds\n",
      "Failed on ENSG00000197376 - cds\n",
      "Failed on ENSG00000197536 - cds\n",
      "Failed on ENSG00000197880 - cds\n",
      "Failed on ENSG00000198054 - cds\n",
      "Failed on ENSG00000198590 - cds\n",
      "Failed on ENSG00000204118 - cds\n",
      "Failed on ENSG00000204293 - cds\n",
      "Failed on ENSG00000204960 - cds\n",
      "Failed on ENSG00000205853 - cds\n",
      "Failed on ENSG00000205861 - cds\n",
      "Failed on ENSG00000212643 - cds\n",
      "Failed on ENSG00000213077 - cds\n",
      "Failed on ENSG00000214776 - cds\n",
      "Failed on ENSG00000221870 - cds\n",
      "Failed on ENSG00000221961 - cds\n",
      "Failed on ENSG00000223401 - cds\n",
      "Failed on ENSG00000225873 - cds\n",
      "Failed on ENSG00000226733 - cds\n",
      "Failed on ENSG00000228623 - cds\n",
      "Failed on ENSG00000233718 - cds\n",
      "Failed on ENSG00000234186 - cds\n",
      "Failed on ENSG00000236197 - cds\n",
      "Failed on ENSG00000237847 - cds\n",
      "Failed on ENSG00000241043 - cds\n",
      "Failed on ENSG00000242180 - cds\n",
      "Failed on ENSG00000243440 - cds\n",
      "Failed on ENSG00000250378 - cds\n",
      "Failed on ENSG00000254893 - cds\n",
      "Failed on ENSG00000255595 - cds\n",
      "Failed on ENSG00000257127 - cds\n",
      "Failed on ENSG00000258941 - cds\n",
      "Failed on ENSG00000261408 - cds\n",
      "Failed on ENSG00000261603 - cds\n",
      "Failed on ENSG00000268714 - cds\n",
      "Failed on ENSG00000268991 - cds\n",
      "Failed on ENSG00000270024 - cds\n",
      "Failed on ENSG00000273547 - cds\n",
      "Failed on ENSG00000278566 - cds\n",
      "Failed on ENSG00000279132 - cds\n",
      "Failed on ENSG00000279767 - cds\n",
      "Failed on ENSG00000281899 - cds\n",
      "Failed on ENSG00000282827 - cds\n",
      "Failed on ENSG00000282936 - cds\n",
      "Failed on ENSG00000284413 - cds\n",
      "Failed on ENSG00000069712 - cdna\n",
      "Failed on ENSG00000116957 - cdna\n",
      "Failed on ENSG00000133808 - cdna\n",
      "Failed on ENSG00000150526 - cdna\n",
      "Failed on ENSG00000170647 - cdna\n",
      "Failed on ENSG00000179979 - cdna\n",
      "Failed on ENSG00000187695 - cdna\n",
      "Failed on ENSG00000196661 - cdna\n",
      "Failed on ENSG00000204293 - cdna\n",
      "Failed on ENSG00000213077 - cdna\n",
      "Failed on ENSG00000221870 - cdna\n",
      "Failed on ENSG00000221961 - cdna\n",
      "Failed on ENSG00000223401 - cdna\n",
      "Failed on ENSG00000237847 - cdna\n",
      "Failed on ENSG00000241043 - cdna\n",
      "Failed on ENSG00000242180 - cdna\n",
      "Failed on ENSG00000243440 - cdna\n",
      "Failed on ENSG00000258941 - cdna\n",
      "Failed on ENSG00000268714 - cdna\n",
      "Failed on ENSG00000268991 - cdna\n",
      "Failed on ENSG00000270024 - cdna\n",
      "Failed on ENSG00000273547 - cdna\n",
      "Failed on ENSG00000278566 - cdna\n",
      "Failed on ENSG00000279132 - cdna\n",
      "Failed on ENSG00000279767 - cdna\n",
      "Failed on ENSG00000281899 - cdna\n",
      "Failed on ENSG00000282827 - cdna\n",
      "Failed on ENSG00000284413 - cdna\n",
      "Failed on ENSG00000069712 - protein\n",
      "Failed on ENSG00000116957 - protein\n",
      "Failed on ENSG00000133808 - protein\n",
      "Failed on ENSG00000150526 - protein\n",
      "Failed on ENSG00000162913 - protein\n",
      "Failed on ENSG00000170647 - protein\n",
      "Failed on ENSG00000173209 - protein\n",
      "Failed on ENSG00000176124 - protein\n",
      "Failed on ENSG00000176904 - protein\n",
      "Failed on ENSG00000177359 - protein\n",
      "Failed on ENSG00000179979 - protein\n",
      "Failed on ENSG00000180259 - protein\n",
      "Failed on ENSG00000180389 - protein\n",
      "Failed on ENSG00000181355 - protein\n",
      "Failed on ENSG00000184029 - protein\n",
      "Failed on ENSG00000184321 - protein\n"
     ]
    }
   ],
   "source": [
    "from joblib import Parallel, delayed\n",
    "\n",
    "import seq2loc.data.hpa as hpa\n",
    "import tqdm\n",
    "\n",
    "import pandas as pd\n",
    "\n",
    "proteinatlas_data = './data/proteinatlas.tsv'\n",
    "query_types = ['genomic','cds','cdna','protein']\n",
    "results_dir = './data/ensembl/'\n",
    "\n",
    "df_proteinatlas = pd.read_csv(proteinatlas_data, delimiter='\\t')\n",
    "\n",
    "ensgs = tqdm.tqdm(df_proteinatlas['Ensembl'])\n",
    "\n",
    "for query_type in query_types:\n",
    "    Parallel(n_jobs=1)(delayed(ensg_query_ensembl_to_disk)(ensg, query_type, results_dir) for ensg in ensgs)"
   ]
  },
  {
   "cell_type": "code",
   "execution_count": 13,
   "metadata": {},
   "outputs": [],
   "source": [
    "ensg_query_ensembl_to_disk(df_proteinatlas['Ensembl'][1000], query_types[0], results_dir)"
   ]
  },
  {
   "cell_type": "code",
   "execution_count": null,
   "metadata": {},
   "outputs": [],
   "source": [
    "query_type"
   ]
  },
  {
   "cell_type": "code",
   "execution_count": null,
   "metadata": {},
   "outputs": [],
   "source": []
  }
 ],
 "metadata": {
  "kernelspec": {
   "display_name": "Python 3",
   "language": "python",
   "name": "python3"
  },
  "language_info": {
   "codemirror_mode": {
    "name": "ipython",
    "version": 3
   },
   "file_extension": ".py",
   "mimetype": "text/x-python",
   "name": "python",
   "nbconvert_exporter": "python",
   "pygments_lexer": "ipython3",
   "version": "3.6.4"
  }
 },
 "nbformat": 4,
 "nbformat_minor": 2
}
