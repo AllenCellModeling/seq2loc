{
 "cells": [
  {
   "cell_type": "code",
   "execution_count": null,
   "metadata": {},
   "outputs": [],
   "source": [
    "import pandas as pd\n",
    "import requests\n",
    "import shutil\n",
    "\n",
    "def load_table(protein_atlas_tsv_file='/Users/dganguli/Downloads/proteinatlas.tsv'):\n",
    "    df = pd.read_table(protein_atlas_tsv_file)\n",
    "    cols_to_keep = ['Gene', 'Antibody', 'Ensembl']\n",
    "    new_cols_map = dict(zip(cols_to_keep, ['gene', 'antibodies', 'ensembl_id']))\n",
    "    df = df.loc[:, cols_to_keep]\n",
    "    df = df.rename(columns=new_cols_map)\n",
    "    df = df.dropna()\n",
    "    return df\n",
    "\n",
    "def antibody_ids_for(ensembl_id, df):\n",
    "    aids = df[df.ensembl_id==ensembl_id].antibodies\n",
    "    aids = aids.values[0].split(',')\n",
    "    munged_aids = []\n",
    "    for aid in aids:\n",
    "        aid = aid.strip()\n",
    "        if aid.startswith('CAB'):\n",
    "            aid = aid.split('CAB')[1]\n",
    "        elif aid.startswith('HPA'):\n",
    "            aid = aid.split('HPA')[1]\n",
    "        else:\n",
    "            raise ValueError('Unrecognized antibody type: {}'.format(aid))\n",
    "        aid = aid.lstrip('0')\n",
    "        munged_aids.append(aid)\n",
    "        \n",
    "    return munged_aids\n",
    "\n",
    "def plates(max_plates=2000):\n",
    "    return range(max_plates)\n",
    "\n",
    "def wells():\n",
    "    cols = list(map(lambda x: x+1, list(range(12))))\n",
    "    rows = ['A', 'B', 'C', 'D', 'E', 'F', 'G', 'H']\n",
    "    res = ('{}{}'.format(y,x) for x in cols for y in rows)\n",
    "    return res\n",
    "\n",
    "def fields(max_fields=10):\n",
    "    return range(max_fields)\n",
    "    \n",
    "def channels():\n",
    "    return [\"blue\", \"green\", \"red\", \"yellow\"]\n",
    "\n",
    "def make_url(aid, plate, well, field, ch):\n",
    "    base_url = \"https://www.proteinatlas.org/images/{}/{}_{}_{}_{}.jpg\"\n",
    "    url = base_url.format(aid, plate, well, field, ch)\n",
    "    return url\n",
    "\n",
    "def download_img(url, path, debug=False):\n",
    "    if debug:\n",
    "        print(url)\n",
    "    r = requests.get(url, stream=True)\n",
    "    if r.status_code == 200:\n",
    "        with open(path, 'wb') as f:\n",
    "            r.raw.decode_content = True\n",
    "            shutil.copyfileobj(r.raw, f)\n",
    "    else:\n",
    "        r.raise_for_status()"
   ]
  },
  {
   "cell_type": "code",
   "execution_count": null,
   "metadata": {},
   "outputs": [],
   "source": [
    "df = load_table(protein_atlas_tsv_file='/Users/dganguli/Downloads/proteinatlas.tsv')\n",
    "e_id = \"ENSG00000134057\" #ensemble id for CCNB1\n",
    "a_ids = antibody_ids_for(e_id, df) #antibody IDs for this gene\n",
    "\n",
    "# look for downloadable images\n",
    "for a_id in a_ids:\n",
    "    for plate in plates(max_plates=2000):\n",
    "        for well in wells(): #96 well plates A1->H12\n",
    "            for field in fields(max_fields=10):\n",
    "                for ch in ['red', 'blue', 'green', 'yellow']:\n",
    "                    url = make_url(a_id, plate, well, field, ch=ch)\n",
    "                    r = requests.get(url)\n",
    "                    if(r.status_code==200):\n",
    "                        print(url)"
   ]
  },
  {
   "cell_type": "code",
   "execution_count": null,
   "metadata": {},
   "outputs": [],
   "source": [
    "len(df)"
   ]
  },
  {
   "cell_type": "code",
   "execution_count": null,
   "metadata": {},
   "outputs": [],
   "source": [
    "aids"
   ]
  },
  {
   "cell_type": "code",
   "execution_count": null,
   "metadata": {
    "collapsed": true
   },
   "outputs": [],
   "source": []
  }
 ],
 "metadata": {
  "kernelspec": {
   "display_name": "Python 3",
   "language": "python",
   "name": "python3"
  },
  "language_info": {
   "codemirror_mode": {
    "name": "ipython",
    "version": 3
   },
   "file_extension": ".py",
   "mimetype": "text/x-python",
   "name": "python",
   "nbconvert_exporter": "python",
   "pygments_lexer": "ipython3",
   "version": "3.6.3"
  }
 },
 "nbformat": 4,
 "nbformat_minor": 2
}
