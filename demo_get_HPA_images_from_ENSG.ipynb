{
 "cells": [
  {
   "cell_type": "code",
   "execution_count": 52,
   "metadata": {
    "collapsed": true
   },
   "outputs": [],
   "source": [
    "import pandas as pd\n",
    "import requests\n",
    "import shutil\n",
    "import urllib.parse\n",
    "import urllib.request\n",
    "\n",
    "def load_table(protein_atlas_tsv_file='/Users/dganguli/Downloads/proteinatlas.tsv'):\n",
    "    df = pd.read_table(protein_atlas_tsv_file)\n",
    "    cols_to_keep = ['Gene', 'Antibody', 'Ensembl']\n",
    "    new_cols_map = dict(zip(cols_to_keep, ['gene', 'antibodies', 'ensembl_id']))\n",
    "    df = df.loc[:, cols_to_keep]\n",
    "    df = df.rename(columns=new_cols_map)\n",
    "    df = df.dropna()\n",
    "    return df\n",
    "\n",
    "def antibody_ids_for(ensembl_id, df):\n",
    "    aids = df[df.ensembl_id==ensembl_id].antibodies\n",
    "    aids = aids.values[0].split(',')\n",
    "    munged_aids = []\n",
    "    for aid in aids:\n",
    "        aid = aid.strip()\n",
    "        if aid.startswith('CAB'):\n",
    "            aid = aid.split('CAB')[1]\n",
    "        elif aid.startswith('HPA'):\n",
    "            aid = aid.split('HPA')[1]\n",
    "        else:\n",
    "            raise ValueError('Unrecognized antibody type: {}'.format(aid))\n",
    "        aid = aid.lstrip('0')\n",
    "        munged_aids.append(aid)\n",
    "        \n",
    "    return munged_aids\n",
    "\n",
    "def plates(max_plates=2000):\n",
    "    return range(max_plates)\n",
    "\n",
    "def wells():\n",
    "    cols = list(map(lambda x: x+1, list(range(12))))\n",
    "    rows = ['A', 'B', 'C', 'D', 'E', 'F', 'G', 'H']\n",
    "    res = ('{}{}'.format(y,x) for x in cols for y in rows)\n",
    "    return res\n",
    "\n",
    "def fields(max_fields=10):\n",
    "    return range(max_fields)\n",
    "    \n",
    "def channels():\n",
    "    return [\"blue\", \"green\", \"red\", \"yellow\"]\n",
    "\n",
    "def make_url(aid, plate, well, field, ch):\n",
    "    base_url = \"https://www.proteinatlas.org/images/{}/{}_{}_{}_{}.jpg\"\n",
    "    url = base_url.format(aid, plate, well, field, ch)\n",
    "    return url\n",
    "\n",
    "def download_img(url, path, debug=False):\n",
    "    if debug:\n",
    "        print(url)\n",
    "    r = requests.get(url, stream=True)\n",
    "    if r.status_code == 200:\n",
    "        with open(path, 'wb') as f:\n",
    "            r.raw.decode_content = True\n",
    "            shutil.copyfileobj(r.raw, f)\n",
    "    else:\n",
    "        r.raise_for_status()\n",
    "        \n",
    "def get_xml_for(ensembl_id):\n",
    "    url = 'https://www.proteinatlas.org/{}.xml'.format(ensembl_id)\n",
    "    req = urllib.request.Request(url)\n",
    "    response = urllib.request.urlopen(req)\n",
    "    xml_bin = response.read()\n",
    "    xml_lines = xml_bin.decode(\"utf-8\").split('\\n')\n",
    "    return xml_lines\n",
    "\n",
    "def get_image_urls(xml_lines):\n",
    "    res = []\n",
    "    for line in xml_lines:\n",
    "        if '<imageUrl>' in line:\n",
    "            strs = line.split('<imageUrl>')\n",
    "            r = strs[1].split('</imageUrl>')[0]\n",
    "            if 'blue' in r:\n",
    "                res.append(r)\n",
    "    return res          "
   ]
  },
  {
   "cell_type": "code",
   "execution_count": 53,
   "metadata": {},
   "outputs": [
    {
     "data": {
      "text/html": [
       "<div>\n",
       "<style scoped>\n",
       "    .dataframe tbody tr th:only-of-type {\n",
       "        vertical-align: middle;\n",
       "    }\n",
       "\n",
       "    .dataframe tbody tr th {\n",
       "        vertical-align: top;\n",
       "    }\n",
       "\n",
       "    .dataframe thead th {\n",
       "        text-align: right;\n",
       "    }\n",
       "</style>\n",
       "<table border=\"1\" class=\"dataframe\">\n",
       "  <thead>\n",
       "    <tr style=\"text-align: right;\">\n",
       "      <th></th>\n",
       "      <th>gene</th>\n",
       "      <th>antibodies</th>\n",
       "      <th>ensembl_id</th>\n",
       "    </tr>\n",
       "  </thead>\n",
       "  <tbody>\n",
       "    <tr>\n",
       "      <th>0</th>\n",
       "      <td>TSPAN6</td>\n",
       "      <td>HPA004109</td>\n",
       "      <td>ENSG00000000003</td>\n",
       "    </tr>\n",
       "    <tr>\n",
       "      <th>1</th>\n",
       "      <td>TNMD</td>\n",
       "      <td>HPA034961, HPA055634</td>\n",
       "      <td>ENSG00000000005</td>\n",
       "    </tr>\n",
       "    <tr>\n",
       "      <th>2</th>\n",
       "      <td>DPM1</td>\n",
       "      <td>HPA051818</td>\n",
       "      <td>ENSG00000000419</td>\n",
       "    </tr>\n",
       "    <tr>\n",
       "      <th>3</th>\n",
       "      <td>SCYL3</td>\n",
       "      <td>HPA005624</td>\n",
       "      <td>ENSG00000000457</td>\n",
       "    </tr>\n",
       "    <tr>\n",
       "      <th>4</th>\n",
       "      <td>C1orf112</td>\n",
       "      <td>HPA023778, HPA024451</td>\n",
       "      <td>ENSG00000000460</td>\n",
       "    </tr>\n",
       "  </tbody>\n",
       "</table>\n",
       "</div>"
      ],
      "text/plain": [
       "       gene            antibodies       ensembl_id\n",
       "0    TSPAN6             HPA004109  ENSG00000000003\n",
       "1      TNMD  HPA034961, HPA055634  ENSG00000000005\n",
       "2      DPM1             HPA051818  ENSG00000000419\n",
       "3     SCYL3             HPA005624  ENSG00000000457\n",
       "4  C1orf112  HPA023778, HPA024451  ENSG00000000460"
      ]
     },
     "execution_count": 53,
     "metadata": {},
     "output_type": "execute_result"
    }
   ],
   "source": [
    "df = load_table(protein_atlas_tsv_file='/Users/dganguli/Downloads/proteinatlas.tsv')\n",
    "df.head()"
   ]
  },
  {
   "cell_type": "code",
   "execution_count": 54,
   "metadata": {},
   "outputs": [
    {
     "name": "stdout",
     "output_type": "stream",
     "text": [
      "['115', '3804', '30741', '61448']\n"
     ]
    }
   ],
   "source": [
    "e_id = \"ENSG00000134057\" #ensemble id for CCNB1\n",
    "a_ids = antibody_ids_for(e_id, df) #antibody IDs for this gene\n",
    "print(a_ids)"
   ]
  },
  {
   "cell_type": "code",
   "execution_count": 55,
   "metadata": {},
   "outputs": [
    {
     "name": "stdout",
     "output_type": "stream",
     "text": [
      "http://v18.proteinatlas.org/images/115/672_E2_1_blue_red_green.jpg\n",
      "http://v18.proteinatlas.org/images/115/672_E2_2_blue_red_green.jpg\n",
      "http://v18.proteinatlas.org/images/115/663_E2_1_blue_red_green.jpg\n",
      "http://v18.proteinatlas.org/images/115/663_E2_5_blue_red_green.jpg\n",
      "http://v18.proteinatlas.org/images/115/646_E2_1_blue_red_green.jpg\n",
      "http://v18.proteinatlas.org/images/115/646_E2_2_blue_red_green.jpg\n",
      "http://v18.proteinatlas.org/images/30741/800_A6_1_blue_red_green.jpg\n",
      "http://v18.proteinatlas.org/images/30741/800_A6_2_blue_red_green.jpg\n",
      "http://v18.proteinatlas.org/images/30741/845_A6_1_blue_red_green.jpg\n",
      "http://v18.proteinatlas.org/images/30741/845_A6_3_blue_red_green.jpg\n",
      "http://v18.proteinatlas.org/images/30741/793_A6_1_blue_red_green.jpg\n",
      "http://v18.proteinatlas.org/images/30741/793_A6_2_blue_red_green.jpg\n",
      "http://v18.proteinatlas.org/images/30741/686_F11_1_blue_red_green.jpg\n",
      "http://v18.proteinatlas.org/images/30741/686_F11_2_blue_red_green.jpg\n",
      "http://v18.proteinatlas.org/images/30741/si28_H2_2_blue_red_green.jpg\n",
      "http://v18.proteinatlas.org/images/30741/si28_H2_3_blue_red_green.jpg\n",
      "http://v18.proteinatlas.org/images/30741/si28_H2_13_blue_red_green.jpg\n",
      "http://v18.proteinatlas.org/images/30741/si28_H3_2_blue_red_green.jpg\n",
      "http://v18.proteinatlas.org/images/30741/si28_H3_3_blue_red_green.jpg\n",
      "http://v18.proteinatlas.org/images/30741/si28_H3_12_blue_red_green.jpg\n",
      "http://v18.proteinatlas.org/images/30741/200_382_1_blue_green_red_yellow.jpg\n",
      "http://v18.proteinatlas.org/images/30741/200_383_1_blue_green_red_yellow.jpg\n",
      "http://v18.proteinatlas.org/images/61448/1319_C10_2_blue_red_green.jpg\n",
      "http://v18.proteinatlas.org/images/61448/1319_C10_8_blue_red_green.jpg\n",
      "http://v18.proteinatlas.org/images/61448/1080_B1_1_blue_red_green.jpg\n",
      "http://v18.proteinatlas.org/images/61448/1080_B1_2_blue_red_green.jpg\n",
      "http://v18.proteinatlas.org/images/61448/1671_B6_2_blue_red_green.jpg\n",
      "http://v18.proteinatlas.org/images/61448/1671_B6_5_blue_red_green.jpg\n",
      "http://v18.proteinatlas.org/images/61448/fp7_G4_1_blue_red_green.jpg\n",
      "http://v18.proteinatlas.org/images/61448/fp7_G4_2_blue_red_green.jpg\n",
      "http://v18.proteinatlas.org/images/61448/fp7_D4_2_blue_red_green.jpg\n",
      "http://v18.proteinatlas.org/images/61448/fp7_D4_3_blue_red_green.jpg\n"
     ]
    }
   ],
   "source": [
    "# image url paths\n",
    "xml = get_xml_for(e_id)\n",
    "urls = get_image_urls(xml)\n",
    "\n",
    "for u in urls:\n",
    "    print(u)"
   ]
  },
  {
   "cell_type": "code",
   "execution_count": null,
   "metadata": {
    "collapsed": true
   },
   "outputs": [],
   "source": [
    "# look for downloadable images\n",
    "for a_id in a_ids:\n",
    "    for plate in plates(max_plates=2000):\n",
    "        for well in wells(): #96 well plates A1->H12\n",
    "            for field in fields(max_fields=10):\n",
    "                for ch in ['red', 'blue', 'green', 'yellow']:\n",
    "                    url = make_url(a_id, plate, well, field, ch=ch)\n",
    "                    r = requests.get(url)\n",
    "                    if(r.status_code==200):\n",
    "                        print(url)"
   ]
  }
 ],
 "metadata": {
  "kernelspec": {
   "display_name": "Python 3",
   "language": "python",
   "name": "python3"
  },
  "language_info": {
   "codemirror_mode": {
    "name": "ipython",
    "version": 3
   },
   "file_extension": ".py",
   "mimetype": "text/x-python",
   "name": "python",
   "nbconvert_exporter": "python",
   "pygments_lexer": "ipython3",
   "version": "3.6.3"
  }
 },
 "nbformat": 4,
 "nbformat_minor": 2
}
