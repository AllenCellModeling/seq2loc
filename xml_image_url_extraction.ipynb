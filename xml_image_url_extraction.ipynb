{
 "cells": [
  {
   "cell_type": "code",
   "execution_count": 1,
   "metadata": {},
   "outputs": [],
   "source": [
    "import os\n",
    "import urllib.parse\n",
    "import urllib.request\n",
    "import xml.etree.ElementTree as ET"
   ]
  },
  {
   "cell_type": "code",
   "execution_count": 2,
   "metadata": {},
   "outputs": [],
   "source": [
    "def get_image_urls(ensembl_input_url):\n",
    "    req = urllib.request.Request(ensembl_input_url)\n",
    "    xml = urllib.request.urlopen(req).read()\n",
    "    doc = ET.fromstring(xml.decode(\"utf-8\"))\n",
    "    urls = []\n",
    "    for proteinAtlas in doc.iter('proteinAtlas'):\n",
    "        for cellExpression in proteinAtlas.iter('cellExpression'):\n",
    "            for imageUrl in cellExpression.iter('imageUrl'):\n",
    "                if 'green' in imageUrl.text:\n",
    "                    urls += [imageUrl.text]\n",
    "    return urls"
   ]
  },
  {
   "cell_type": "code",
   "execution_count": 3,
   "metadata": {},
   "outputs": [],
   "source": [
    "def get_single_channel_urls(multi_channel_url):\n",
    "    parname, bname = os.path.split(multi_channel_url)\n",
    "    name, ext = bname.split('.')\n",
    "    plate, well, field = name.split(\"_\")[:3]\n",
    "    channels = name.split(\"_\")[3:]\n",
    "    single_channel_urls = []\n",
    "    for channel in channels:\n",
    "        sc_name = '_'.join([plate, well, field, channel])\n",
    "        sc_bname = '.'.join([sc_name,ext])\n",
    "        sc_url = os.path.join(parname,sc_bname)\n",
    "        single_channel_urls += [sc_url]\n",
    "    return single_channel_urls"
   ]
  },
  {
   "cell_type": "code",
   "execution_count": 4,
   "metadata": {},
   "outputs": [],
   "source": [
    "ensembl_input_url = 'https://www.proteinatlas.org/ENSG00000204209.xml'\n",
    "req = urllib.request.Request(ensembl_input_url)\n",
    "xml = urllib.request.urlopen(req).read()\n",
    "doc = ET.fromstring(xml.decode(\"utf-8\"))"
   ]
  },
  {
   "cell_type": "code",
   "execution_count": 5,
   "metadata": {},
   "outputs": [],
   "source": [
    "urls = []\n",
    "for proteinAtlas in doc.iter('proteinAtlas'):\n",
    "    for antibody in proteinAtlas.iter('antibody'):\n",
    "        for cellExpression in antibody.iter('cellExpression'):\n",
    "            for subAssay in cellExpression.iter('subAssay'):\n",
    "                for data in subAssay.iter('data'):\n",
    "                    for imageUrl in data.iter('imageUrl'):\n",
    "                        if 'green' in imageUrl.text:\n",
    "                            c = [el for el in list(data) if el.tag == 'cellLine'][0]\n",
    "                            urls += [{'antibody':antibody.attrib['id'],\n",
    "                                      'cellLine':c.text,\n",
    "                                      'imageUrls':get_single_channel_urls(imageUrl.text)}]"
   ]
  },
  {
   "cell_type": "code",
   "execution_count": 6,
   "metadata": {},
   "outputs": [
    {
     "data": {
      "text/plain": [
       "[{'antibody': 'HPA008797',\n",
       "  'cellLine': 'A-431',\n",
       "  'imageUrls': ['http://v18.proteinatlas.org/images/8797/175_G3_1_blue.jpg',\n",
       "   'http://v18.proteinatlas.org/images/8797/175_G3_1_red.jpg',\n",
       "   'http://v18.proteinatlas.org/images/8797/175_G3_1_green.jpg']},\n",
       " {'antibody': 'HPA008797',\n",
       "  'cellLine': 'A-431',\n",
       "  'imageUrls': ['http://v18.proteinatlas.org/images/8797/175_G3_2_blue.jpg',\n",
       "   'http://v18.proteinatlas.org/images/8797/175_G3_2_red.jpg',\n",
       "   'http://v18.proteinatlas.org/images/8797/175_G3_2_green.jpg']},\n",
       " {'antibody': 'HPA008797',\n",
       "  'cellLine': 'U-2 OS',\n",
       "  'imageUrls': ['http://v18.proteinatlas.org/images/8797/176_G3_1_blue.jpg',\n",
       "   'http://v18.proteinatlas.org/images/8797/176_G3_1_red.jpg',\n",
       "   'http://v18.proteinatlas.org/images/8797/176_G3_1_green.jpg']},\n",
       " {'antibody': 'HPA008797',\n",
       "  'cellLine': 'U-2 OS',\n",
       "  'imageUrls': ['http://v18.proteinatlas.org/images/8797/176_G3_2_blue.jpg',\n",
       "   'http://v18.proteinatlas.org/images/8797/176_G3_2_red.jpg',\n",
       "   'http://v18.proteinatlas.org/images/8797/176_G3_2_green.jpg']},\n",
       " {'antibody': 'HPA008797',\n",
       "  'cellLine': 'U-251 MG',\n",
       "  'imageUrls': ['http://v18.proteinatlas.org/images/8797/174_G3_1_blue.jpg',\n",
       "   'http://v18.proteinatlas.org/images/8797/174_G3_1_red.jpg',\n",
       "   'http://v18.proteinatlas.org/images/8797/174_G3_1_green.jpg']},\n",
       " {'antibody': 'HPA008797',\n",
       "  'cellLine': 'U-251 MG',\n",
       "  'imageUrls': ['http://v18.proteinatlas.org/images/8797/174_G3_2_blue.jpg',\n",
       "   'http://v18.proteinatlas.org/images/8797/174_G3_2_red.jpg',\n",
       "   'http://v18.proteinatlas.org/images/8797/174_G3_2_green.jpg']},\n",
       " {'antibody': 'HPA008797',\n",
       "  'cellLine': 'HeLa',\n",
       "  'imageUrls': ['http://v18.proteinatlas.org/images/8797/fp11_E5_1_blue.jpg',\n",
       "   'http://v18.proteinatlas.org/images/8797/fp11_E5_1_red.jpg',\n",
       "   'http://v18.proteinatlas.org/images/8797/fp11_E5_1_green.jpg']},\n",
       " {'antibody': 'HPA008797',\n",
       "  'cellLine': 'HeLa',\n",
       "  'imageUrls': ['http://v18.proteinatlas.org/images/8797/fp11_E5_2_blue.jpg',\n",
       "   'http://v18.proteinatlas.org/images/8797/fp11_E5_2_red.jpg',\n",
       "   'http://v18.proteinatlas.org/images/8797/fp11_E5_2_green.jpg']},\n",
       " {'antibody': 'HPA008797',\n",
       "  'cellLine': 'HeLa',\n",
       "  'imageUrls': ['http://v18.proteinatlas.org/images/8797/fp11_B5_2_blue.jpg',\n",
       "   'http://v18.proteinatlas.org/images/8797/fp11_B5_2_red.jpg',\n",
       "   'http://v18.proteinatlas.org/images/8797/fp11_B5_2_green.jpg']},\n",
       " {'antibody': 'HPA008797',\n",
       "  'cellLine': 'HeLa',\n",
       "  'imageUrls': ['http://v18.proteinatlas.org/images/8797/fp11_B5_6_blue.jpg',\n",
       "   'http://v18.proteinatlas.org/images/8797/fp11_B5_6_red.jpg',\n",
       "   'http://v18.proteinatlas.org/images/8797/fp11_B5_6_green.jpg']},\n",
       " {'antibody': 'HPA065779',\n",
       "  'cellLine': 'HEK 293',\n",
       "  'imageUrls': ['http://v18.proteinatlas.org/images/65779/1284_G5_1_blue.jpg',\n",
       "   'http://v18.proteinatlas.org/images/65779/1284_G5_1_red.jpg',\n",
       "   'http://v18.proteinatlas.org/images/65779/1284_G5_1_green.jpg']},\n",
       " {'antibody': 'HPA065779',\n",
       "  'cellLine': 'HEK 293',\n",
       "  'imageUrls': ['http://v18.proteinatlas.org/images/65779/1284_G5_3_blue.jpg',\n",
       "   'http://v18.proteinatlas.org/images/65779/1284_G5_3_red.jpg',\n",
       "   'http://v18.proteinatlas.org/images/65779/1284_G5_3_green.jpg']},\n",
       " {'antibody': 'HPA065779',\n",
       "  'cellLine': 'SH-SY5Y',\n",
       "  'imageUrls': ['http://v18.proteinatlas.org/images/65779/1213_D6_1_blue.jpg',\n",
       "   'http://v18.proteinatlas.org/images/65779/1213_D6_1_red.jpg',\n",
       "   'http://v18.proteinatlas.org/images/65779/1213_D6_1_green.jpg']},\n",
       " {'antibody': 'HPA065779',\n",
       "  'cellLine': 'SH-SY5Y',\n",
       "  'imageUrls': ['http://v18.proteinatlas.org/images/65779/1213_D6_2_blue.jpg',\n",
       "   'http://v18.proteinatlas.org/images/65779/1213_D6_2_red.jpg',\n",
       "   'http://v18.proteinatlas.org/images/65779/1213_D6_2_green.jpg']},\n",
       " {'antibody': 'HPA065779',\n",
       "  'cellLine': 'U-2 OS',\n",
       "  'imageUrls': ['http://v18.proteinatlas.org/images/65779/1235_D6_1_blue.jpg',\n",
       "   'http://v18.proteinatlas.org/images/65779/1235_D6_1_red.jpg',\n",
       "   'http://v18.proteinatlas.org/images/65779/1235_D6_1_green.jpg']},\n",
       " {'antibody': 'HPA065779',\n",
       "  'cellLine': 'U-2 OS',\n",
       "  'imageUrls': ['http://v18.proteinatlas.org/images/65779/1235_D6_2_blue.jpg',\n",
       "   'http://v18.proteinatlas.org/images/65779/1235_D6_2_red.jpg',\n",
       "   'http://v18.proteinatlas.org/images/65779/1235_D6_2_green.jpg']},\n",
       " {'antibody': 'HPA065779',\n",
       "  'cellLine': 'HeLa',\n",
       "  'imageUrls': ['http://v18.proteinatlas.org/images/65779/fp11_F5_4_blue.jpg',\n",
       "   'http://v18.proteinatlas.org/images/65779/fp11_F5_4_red.jpg',\n",
       "   'http://v18.proteinatlas.org/images/65779/fp11_F5_4_green.jpg']},\n",
       " {'antibody': 'HPA065779',\n",
       "  'cellLine': 'HeLa',\n",
       "  'imageUrls': ['http://v18.proteinatlas.org/images/65779/fp11_F5_6_blue.jpg',\n",
       "   'http://v18.proteinatlas.org/images/65779/fp11_F5_6_red.jpg',\n",
       "   'http://v18.proteinatlas.org/images/65779/fp11_F5_6_green.jpg']},\n",
       " {'antibody': 'HPA065779',\n",
       "  'cellLine': 'HeLa',\n",
       "  'imageUrls': ['http://v18.proteinatlas.org/images/65779/fp11_C5_2_blue.jpg',\n",
       "   'http://v18.proteinatlas.org/images/65779/fp11_C5_2_red.jpg',\n",
       "   'http://v18.proteinatlas.org/images/65779/fp11_C5_2_green.jpg']},\n",
       " {'antibody': 'HPA065779',\n",
       "  'cellLine': 'HeLa',\n",
       "  'imageUrls': ['http://v18.proteinatlas.org/images/65779/fp11_C5_6_blue.jpg',\n",
       "   'http://v18.proteinatlas.org/images/65779/fp11_C5_6_red.jpg',\n",
       "   'http://v18.proteinatlas.org/images/65779/fp11_C5_6_green.jpg']}]"
      ]
     },
     "execution_count": 6,
     "metadata": {},
     "output_type": "execute_result"
    }
   ],
   "source": [
    "urls"
   ]
  },
  {
   "cell_type": "code",
   "execution_count": null,
   "metadata": {},
   "outputs": [],
   "source": []
  }
 ],
 "metadata": {
  "kernelspec": {
   "display_name": "Python 3",
   "language": "python",
   "name": "python3"
  },
  "language_info": {
   "codemirror_mode": {
    "name": "ipython",
    "version": 3
   },
   "file_extension": ".py",
   "mimetype": "text/x-python",
   "name": "python",
   "nbconvert_exporter": "python",
   "pygments_lexer": "ipython3",
   "version": "3.6.4"
  }
 },
 "nbformat": 4,
 "nbformat_minor": 2
}
