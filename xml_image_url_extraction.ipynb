{
 "cells": [
  {
   "cell_type": "code",
   "execution_count": 1,
   "metadata": {
    "collapsed": true
   },
   "outputs": [],
   "source": [
    "import os\n",
    "import urllib.parse\n",
    "import urllib.request\n",
    "import xml.etree.ElementTree as ET"
   ]
  },
  {
   "cell_type": "code",
   "execution_count": 2,
   "metadata": {
    "collapsed": true
   },
   "outputs": [],
   "source": [
    "def get_single_channel_urls(multi_channel_url):\n",
    "    parname, bname = os.path.split(multi_channel_url)\n",
    "    name, ext = bname.split('.')\n",
    "    plate, well, field = name.split(\"_\")[:3]\n",
    "    channels = name.split(\"_\")[3:]\n",
    "    single_channel_urls = {}\n",
    "    for channel in channels:\n",
    "        sc_name = '_'.join([plate, well, field, channel])\n",
    "        sc_bname = '.'.join([sc_name,ext])\n",
    "        sc_url = os.path.join(parname,sc_bname)\n",
    "        single_channel_urls[channel] = sc_url\n",
    "    seg_name = '_'.join([plate, well, field, 'segmentation'])\n",
    "    seg_bname = '.'.join([seg_name,'png'])\n",
    "    seg_url = os.path.join(parname,seg_bname)\n",
    "    return {'singleChannelUrls':single_channel_urls, 'segmentationUrl':seg_url}"
   ]
  },
  {
   "cell_type": "code",
   "execution_count": 3,
   "metadata": {
    "collapsed": false,
    "scrolled": false
   },
   "outputs": [],
   "source": [
    "def make_xml_tree_from_url(ensembl_input_url):\n",
    "    req = urllib.request.Request(ensembl_input_url)\n",
    "    xml = urllib.request.urlopen(req).read()\n",
    "    return ET.fromstring(xml.decode(\"utf-8\"))"
   ]
  },
  {
   "cell_type": "code",
   "execution_count": 4,
   "metadata": {
    "collapsed": false
   },
   "outputs": [],
   "source": [
    "def get_urls_and_info_from_xml(xml_tree):\n",
    "    urls = []\n",
    "    for proteinAtlas in xml_tree.iter('proteinAtlas'):\n",
    "        for antibody in proteinAtlas.iter('antibody'):\n",
    "            for data in antibody.iter('data'):\n",
    "                for imageUrl in data.iter('imageUrl'):\n",
    "                    if 'green' in imageUrl.text:\n",
    "                        cellLine = [x for x in list(data) if x.tag == 'cellLine']\n",
    "                        urls += [{'antibody':antibody.attrib['id'],\n",
    "                                  'cellLine':cellLine[0].text if len(cellLine) == 1 else None,\n",
    "                                  'imageUrls':get_single_channel_urls(imageUrl.text)}]\n",
    "    return urls"
   ]
  },
  {
   "cell_type": "code",
   "execution_count": 5,
   "metadata": {
    "collapsed": true
   },
   "outputs": [],
   "source": [
    "doc = make_xml_tree_from_url('https://www.proteinatlas.org/ENSG00000204209.xml')\n",
    "urls = get_urls_and_info_from_xml(doc)"
   ]
  },
  {
   "cell_type": "code",
   "execution_count": 6,
   "metadata": {
    "collapsed": false
   },
   "outputs": [],
   "source": [
    "import pandas as pd\n",
    "import random, string\n",
    "\n",
    "df = pd.DataFrame(columns=['antibody_name', 'cellLine', 'protein_id', 'protein_AA_sequence',\n",
    "                           'antibody_channel', 'microtubule_channel', 'nuclear_channel', 'segmentation_channel'])\n",
    "\n",
    "for url in urls:\n",
    "    df = df.append({'antibody_name':url['antibody'], 'cellLine':url['cellLine'], 'protein_id':'Q9UER7',\n",
    "                    'antibody_channel':url['imageUrls']['singleChannelUrls']['green'].split('images/')[-1],\n",
    "                    'microtubule_channel':url['imageUrls']['singleChannelUrls']['red'].split('images/')[-1],\n",
    "                    'nuclear_channel':url['imageUrls']['singleChannelUrls']['blue'].split('images/')[-1],\n",
    "                    'segmentation_channel':url['imageUrls']['segmentationUrl'].split('images/')[-1],\n",
    "                    'protein_AA_sequence':'DEEEEAAAGKDGDKSPMSSLQISNEKNLEPGKQISRSSGEQQNKGRIVSPSLLSEEPLAPSSIDAESNGEQPEELTLEEESPVSQLFELEIEALPLDTPSSVETDISSSRKQSEEPFTTVLENGAGMVSSTSFNGGVSPHNWGDSG'\n",
    "                   }, ignore_index=True)"
   ]
  },
  {
   "cell_type": "code",
   "execution_count": 7,
   "metadata": {
    "collapsed": false
   },
   "outputs": [],
   "source": [
    "df.to_csv('test.csv', index=False)"
   ]
  },
  {
   "cell_type": "code",
   "execution_count": null,
   "metadata": {
    "collapsed": true
   },
   "outputs": [],
   "source": []
  }
 ],
 "metadata": {
  "kernelspec": {
   "display_name": "Python 3",
   "language": "python",
   "name": "python3"
  },
  "language_info": {
   "codemirror_mode": {
    "name": "ipython",
    "version": 3
   },
   "file_extension": ".py",
   "mimetype": "text/x-python",
   "name": "python",
   "nbconvert_exporter": "python",
   "pygments_lexer": "ipython3",
   "version": "3.6.0"
  }
 },
 "nbformat": 4,
 "nbformat_minor": 2
}
