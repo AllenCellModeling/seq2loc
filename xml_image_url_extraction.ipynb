{
 "cells": [
  {
   "cell_type": "markdown",
   "metadata": {},
   "source": [
    "# Demo of scraping xml and saving single channel images + dataframe of metadata and image locations"
   ]
  },
  {
   "cell_type": "code",
   "execution_count": 1,
   "metadata": {
    "collapsed": true
   },
   "outputs": [],
   "source": [
    "import os\n",
    "import urllib.parse\n",
    "import urllib.request\n",
    "import xml.etree.ElementTree as ET\n",
    "\n",
    "import numpy as np\n",
    "import pandas as pd\n",
    "from tqdm import tqdm_notebook"
   ]
  },
  {
   "cell_type": "code",
   "execution_count": 2,
   "metadata": {
    "collapsed": true
   },
   "outputs": [],
   "source": [
    "def get_single_channel_urls(multi_channel_url, channel_map={'blue':'nucleus', 'red':'microtubules', 'green':'antibody'}):\n",
    "    parname, bname = os.path.split(multi_channel_url)\n",
    "    name, ext = bname.split('.')\n",
    "    plate, well, field = name.split(\"_\")[:3]\n",
    "    channels = name.split(\"_\")[3:]\n",
    "    single_channel_urls = {}\n",
    "    for channel in channels:\n",
    "        sc_name = '_'.join([plate, well, field, channel])\n",
    "        sc_bname = '.'.join([sc_name,ext])\n",
    "        sc_url = os.path.join(parname,sc_bname)\n",
    "        single_channel_urls[channel_map[channel]] = sc_url\n",
    "    seg_name = '_'.join([plate, well, field, 'segmentation'])\n",
    "    seg_bname = '.'.join([seg_name,'png'])\n",
    "    seg_url = os.path.join(parname,seg_bname)\n",
    "    return {'singleChannelUrls':single_channel_urls, 'segmentationUrl':seg_url}"
   ]
  },
  {
   "cell_type": "code",
   "execution_count": 3,
   "metadata": {
    "collapsed": false,
    "scrolled": false
   },
   "outputs": [],
   "source": [
    "def make_xml_tree_from_url(ensembl_input_url):\n",
    "    req = urllib.request.Request(ensembl_input_url)\n",
    "    xml = urllib.request.urlopen(req).read()\n",
    "    return ET.fromstring(xml.decode(\"utf-8\"))"
   ]
  },
  {
   "cell_type": "code",
   "execution_count": 4,
   "metadata": {},
   "outputs": [],
   "source": [
    "def filter_element(element, tag):\n",
    "    child = [x for x in list(element) if x.tag == tag]\n",
    "    child = child[0] if len(child)==1 else None\n",
    "    return child"
   ]
  },
  {
   "cell_type": "code",
   "execution_count": 5,
   "metadata": {
    "collapsed": false
   },
   "outputs": [],
   "source": [
    "def get_urls_and_info_from_xml(xml_tree):\n",
    "    urls = []\n",
    "    for proteinAtlas in xml_tree.iter('proteinAtlas'):\n",
    "        for antibody in proteinAtlas.iter('antibody'):\n",
    "            for data in antibody.iter('data'):\n",
    "                for image in data.iter('image'):\n",
    "                    for imageUrl in image.iter('imageUrl'):\n",
    "                        if 'green' in imageUrl.text:\n",
    "                            channels = [x for x in list(image) if x.tag == 'channel']\n",
    "                            channel_info = {channel.attrib['color']:channel.text for channel in channels}\n",
    "                            antigenSequence = filter_element(antibody,'antigenSequence')\n",
    "                            cellLine = filter_element(data, 'cellLine')\n",
    "                            identifier = filter_element(filter_element(proteinAtlas, 'entry'), 'identifier')\n",
    "                            xref = filter_element(identifier, 'xref')\n",
    "                            urls += [{'antibody':antibody.attrib['id'] if (antibody is not None and antibody.attrib['id'] is not None) else np.nan,\n",
    "                                      'EnsemblID':identifier.attrib['id'] if (identifier is not None and identifier.attrib['id'] is not None) else np.nan,\n",
    "                                      'proteinID':xref.attrib['id'] if (xref is not None and xref.attrib['id'] is not None) else np.nan,\n",
    "                                      'antigenSequence':antigenSequence.text if (antigenSequence is not None and antigenSequence.text is not None) else np.nan,\n",
    "                                      'cellLine':cellLine.text if (cellLine is not None and cellLine.text is not None) else np.nan,\n",
    "                                      'imageUrls':get_single_channel_urls(imageUrl.text, channel_map=channel_info) if (imageUrl is not None and imageUrl.text is not None) else np.nan}]\n",
    "    return urls"
   ]
  },
  {
   "cell_type": "code",
   "execution_count": 6,
   "metadata": {},
   "outputs": [],
   "source": [
    "def make_local_img_path(url):\n",
    "    return url.split('images/')[-1]\n",
    "\n",
    "def get_img_and_write_local_and_return_path(url, parent_dir):\n",
    "    local_img_path = make_local_img_path(url)\n",
    "    fpath = os.path.join(parent_dir,local_img_path)\n",
    "    if not os.path.isfile(fpath):\n",
    "        req = urllib.request.Request(url)\n",
    "        img = urllib.request.urlopen(req).read()\n",
    "        os.makedirs(os.path.dirname(fpath), exist_ok=True)\n",
    "        with open(fpath, 'wb') as handler:\n",
    "            handler.write(img)\n",
    "    return(local_img_path)"
   ]
  },
  {
   "cell_type": "code",
   "execution_count": 7,
   "metadata": {
    "collapsed": true
   },
   "outputs": [
    {
     "data": {
      "application/vnd.jupyter.widget-view+json": {
       "model_id": "1115eb3cdabb40e08a2308c563517e84",
       "version_major": 2,
       "version_minor": 0
      },
      "text/html": [
       "<p>Failed to display Jupyter Widget of type <code>HBox</code>.</p>\n",
       "<p>\n",
       "  If you're reading this message in the Jupyter Notebook or JupyterLab Notebook, it may mean\n",
       "  that the widgets JavaScript is still loading. If this message persists, it\n",
       "  likely means that the widgets JavaScript library is either not installed or\n",
       "  not enabled. See the <a href=\"https://ipywidgets.readthedocs.io/en/stable/user_install.html\">Jupyter\n",
       "  Widgets Documentation</a> for setup instructions.\n",
       "</p>\n",
       "<p>\n",
       "  If you're reading this message in another frontend (for example, a static\n",
       "  rendering on GitHub or <a href=\"https://nbviewer.jupyter.org/\">NBViewer</a>),\n",
       "  it may mean that your frontend doesn't currently support widgets.\n",
       "</p>\n"
      ],
      "text/plain": [
       "HBox(children=(IntProgress(value=0, max=3), HTML(value='')))"
      ]
     },
     "metadata": {},
     "output_type": "display_data"
    },
    {
     "name": "stdout",
     "output_type": "stream",
     "text": [
      "\n"
     ]
    }
   ],
   "source": [
    "xml_urls = ['https://www.proteinatlas.org/ENSG00000204209.xml',\n",
    "           'https://www.proteinatlas.org/ENSG00000134057.xml',\n",
    "           'https://www.proteinatlas.org/ENSG00000126602.xml']\n",
    "\n",
    "all_urls_and_info = []\n",
    "\n",
    "for xml_url in tqdm_notebook(xml_urls):\n",
    "    doc = make_xml_tree_from_url(xml_url)\n",
    "    urls_and_info = get_urls_and_info_from_xml(doc)\n",
    "    all_urls_and_info += [*urls_and_info]"
   ]
  },
  {
   "cell_type": "code",
   "execution_count": 8,
   "metadata": {},
   "outputs": [
    {
     "data": {
      "text/plain": [
       "{'EnsemblID': 'ENSG00000126602',\n",
       " 'antibody': 'HPA044227',\n",
       " 'antigenSequence': 'RTTAQLGPRRNPAWSLQAGRLFSTQTAEDKEEPLHSIISSTESVQGSTSKHEFQAETKKLLDIVARSLYSEKEVFIREL',\n",
       " 'cellLine': 'U-2 OS',\n",
       " 'imageUrls': {'segmentationUrl': 'http://v18.proteinatlas.org/images/44227/si31_G12_11_segmentation.png',\n",
       "  'singleChannelUrls': {'antibody': 'http://v18.proteinatlas.org/images/44227/si31_G12_11_green.jpg',\n",
       "   'microtubules': 'http://v18.proteinatlas.org/images/44227/si31_G12_11_red.jpg',\n",
       "   'nucleus': 'http://v18.proteinatlas.org/images/44227/si31_G12_11_blue.jpg'}},\n",
       " 'proteinID': 'Q12931'}"
      ]
     },
     "execution_count": 8,
     "metadata": {},
     "output_type": "execute_result"
    }
   ],
   "source": [
    "all_urls_and_info[-1]"
   ]
  },
  {
   "cell_type": "code",
   "execution_count": 9,
   "metadata": {
    "collapsed": false
   },
   "outputs": [
    {
     "data": {
      "application/vnd.jupyter.widget-view+json": {
       "model_id": "aaad0133ea754c539ccabfd1f3960b0f",
       "version_major": 2,
       "version_minor": 0
      },
      "text/html": [
       "<p>Failed to display Jupyter Widget of type <code>HBox</code>.</p>\n",
       "<p>\n",
       "  If you're reading this message in the Jupyter Notebook or JupyterLab Notebook, it may mean\n",
       "  that the widgets JavaScript is still loading. If this message persists, it\n",
       "  likely means that the widgets JavaScript library is either not installed or\n",
       "  not enabled. See the <a href=\"https://ipywidgets.readthedocs.io/en/stable/user_install.html\">Jupyter\n",
       "  Widgets Documentation</a> for setup instructions.\n",
       "</p>\n",
       "<p>\n",
       "  If you're reading this message in another frontend (for example, a static\n",
       "  rendering on GitHub or <a href=\"https://nbviewer.jupyter.org/\">NBViewer</a>),\n",
       "  it may mean that your frontend doesn't currently support widgets.\n",
       "</p>\n"
      ],
      "text/plain": [
       "HBox(children=(IntProgress(value=0, max=72), HTML(value='')))"
      ]
     },
     "metadata": {},
     "output_type": "display_data"
    },
    {
     "name": "stdout",
     "output_type": "stream",
     "text": [
      "\n"
     ]
    }
   ],
   "source": [
    "df = pd.DataFrame(columns=['EnsemblID',  'proteinID', 'antibodyName', 'antigenSequence', 'cellLine',\n",
    "                           'antibodyChannel', 'microtubuleChannel', 'nuclearChannel', 'segmentationChannel'])\n",
    "\n",
    "for u in tqdm_notebook(all_urls_and_info):\n",
    "    \n",
    "    antibody_path_local = get_img_and_write_local_and_return_path(u['imageUrls']['singleChannelUrls']['antibody'], 'test_images')\n",
    "    microtubule_path_local = get_img_and_write_local_and_return_path(u['imageUrls']['singleChannelUrls']['microtubules'], 'test_images')\n",
    "    nuclear_path_local = get_img_and_write_local_and_return_path(u['imageUrls']['singleChannelUrls']['nucleus'], 'test_images')\n",
    "    segmentation_path_local = get_img_and_write_local_and_return_path(u['imageUrls']['segmentationUrl'], 'test_images')\n",
    "    \n",
    "    df = df.append({'EnsemblID':u['EnsemblID'],\n",
    "                    'proteinID':u['proteinID'],\n",
    "                    'antibodyName':u['antibody'],\n",
    "                    'antigenSequence':u['antigenSequence'],\n",
    "                    'cellLine':u['cellLine'],                    \n",
    "                    'antibodyChannel':antibody_path_local,\n",
    "                    'microtubuleChannel':microtubule_path_local,\n",
    "                    'nuclearChannel':nuclear_path_local,\n",
    "                    'segmentationChannel':segmentation_path_local}, ignore_index=True)"
   ]
  },
  {
   "cell_type": "code",
   "execution_count": 10,
   "metadata": {
    "collapsed": false
   },
   "outputs": [],
   "source": [
    "df.to_csv('test.csv', index=False)"
   ]
  },
  {
   "cell_type": "code",
   "execution_count": 12,
   "metadata": {},
   "outputs": [
    {
     "data": {
      "text/html": [
       "<div>\n",
       "<style scoped>\n",
       "    .dataframe tbody tr th:only-of-type {\n",
       "        vertical-align: middle;\n",
       "    }\n",
       "\n",
       "    .dataframe tbody tr th {\n",
       "        vertical-align: top;\n",
       "    }\n",
       "\n",
       "    .dataframe thead th {\n",
       "        text-align: right;\n",
       "    }\n",
       "</style>\n",
       "<table border=\"1\" class=\"dataframe\">\n",
       "  <thead>\n",
       "    <tr style=\"text-align: right;\">\n",
       "      <th></th>\n",
       "      <th>EnsemblID</th>\n",
       "      <th>proteinID</th>\n",
       "      <th>antibodyName</th>\n",
       "      <th>antigenSequence</th>\n",
       "      <th>cellLine</th>\n",
       "      <th>antibodyChannel</th>\n",
       "      <th>microtubuleChannel</th>\n",
       "      <th>nuclearChannel</th>\n",
       "      <th>segmentationChannel</th>\n",
       "    </tr>\n",
       "  </thead>\n",
       "  <tbody>\n",
       "    <tr>\n",
       "      <th>24</th>\n",
       "      <td>ENSG00000134057</td>\n",
       "      <td>P14635</td>\n",
       "      <td>CAB000115</td>\n",
       "      <td>NaN</td>\n",
       "      <td>U-251 MG</td>\n",
       "      <td>115/646_E2_1_green.jpg</td>\n",
       "      <td>115/646_E2_1_red.jpg</td>\n",
       "      <td>115/646_E2_1_blue.jpg</td>\n",
       "      <td>115/646_E2_1_segmentation.png</td>\n",
       "    </tr>\n",
       "    <tr>\n",
       "      <th>6</th>\n",
       "      <td>ENSG00000204209</td>\n",
       "      <td>Q9UER7</td>\n",
       "      <td>HPA008797</td>\n",
       "      <td>DEEEEAAAGKDGDKSPMSSLQISNEKNLEPGKQISRSSGEQQNKGR...</td>\n",
       "      <td>HeLa</td>\n",
       "      <td>8797/fp11_E5_1_green.jpg</td>\n",
       "      <td>8797/fp11_E5_1_red.jpg</td>\n",
       "      <td>8797/fp11_E5_1_blue.jpg</td>\n",
       "      <td>8797/fp11_E5_1_segmentation.png</td>\n",
       "    </tr>\n",
       "    <tr>\n",
       "      <th>4</th>\n",
       "      <td>ENSG00000204209</td>\n",
       "      <td>Q9UER7</td>\n",
       "      <td>HPA008797</td>\n",
       "      <td>DEEEEAAAGKDGDKSPMSSLQISNEKNLEPGKQISRSSGEQQNKGR...</td>\n",
       "      <td>U-251 MG</td>\n",
       "      <td>8797/174_G3_1_green.jpg</td>\n",
       "      <td>8797/174_G3_1_red.jpg</td>\n",
       "      <td>8797/174_G3_1_blue.jpg</td>\n",
       "      <td>8797/174_G3_1_segmentation.png</td>\n",
       "    </tr>\n",
       "    <tr>\n",
       "      <th>46</th>\n",
       "      <td>ENSG00000134057</td>\n",
       "      <td>P14635</td>\n",
       "      <td>HPA061448</td>\n",
       "      <td>TRNSKINAENKAKINMAGAKRVPTAPAATSKPGLRPRTALGDIGNK...</td>\n",
       "      <td>HeLa</td>\n",
       "      <td>61448/fp7_G4_1_green.jpg</td>\n",
       "      <td>61448/fp7_G4_1_red.jpg</td>\n",
       "      <td>61448/fp7_G4_1_blue.jpg</td>\n",
       "      <td>61448/fp7_G4_1_segmentation.png</td>\n",
       "    </tr>\n",
       "    <tr>\n",
       "      <th>15</th>\n",
       "      <td>ENSG00000204209</td>\n",
       "      <td>Q9UER7</td>\n",
       "      <td>HPA065779</td>\n",
       "      <td>ARGSSSSGGKKCYKLENEKLFEEFLELCKMQTADHPEVVPFLYNRQ...</td>\n",
       "      <td>U-2 OS</td>\n",
       "      <td>65779/1235_D6_2_green.jpg</td>\n",
       "      <td>65779/1235_D6_2_red.jpg</td>\n",
       "      <td>65779/1235_D6_2_blue.jpg</td>\n",
       "      <td>65779/1235_D6_2_segmentation.png</td>\n",
       "    </tr>\n",
       "  </tbody>\n",
       "</table>\n",
       "</div>"
      ],
      "text/plain": [
       "          EnsemblID proteinID antibodyName  \\\n",
       "24  ENSG00000134057    P14635    CAB000115   \n",
       "6   ENSG00000204209    Q9UER7    HPA008797   \n",
       "4   ENSG00000204209    Q9UER7    HPA008797   \n",
       "46  ENSG00000134057    P14635    HPA061448   \n",
       "15  ENSG00000204209    Q9UER7    HPA065779   \n",
       "\n",
       "                                      antigenSequence  cellLine  \\\n",
       "24                                                NaN  U-251 MG   \n",
       "6   DEEEEAAAGKDGDKSPMSSLQISNEKNLEPGKQISRSSGEQQNKGR...      HeLa   \n",
       "4   DEEEEAAAGKDGDKSPMSSLQISNEKNLEPGKQISRSSGEQQNKGR...  U-251 MG   \n",
       "46  TRNSKINAENKAKINMAGAKRVPTAPAATSKPGLRPRTALGDIGNK...      HeLa   \n",
       "15  ARGSSSSGGKKCYKLENEKLFEEFLELCKMQTADHPEVVPFLYNRQ...    U-2 OS   \n",
       "\n",
       "              antibodyChannel       microtubuleChannel  \\\n",
       "24     115/646_E2_1_green.jpg     115/646_E2_1_red.jpg   \n",
       "6    8797/fp11_E5_1_green.jpg   8797/fp11_E5_1_red.jpg   \n",
       "4     8797/174_G3_1_green.jpg    8797/174_G3_1_red.jpg   \n",
       "46   61448/fp7_G4_1_green.jpg   61448/fp7_G4_1_red.jpg   \n",
       "15  65779/1235_D6_2_green.jpg  65779/1235_D6_2_red.jpg   \n",
       "\n",
       "              nuclearChannel               segmentationChannel  \n",
       "24     115/646_E2_1_blue.jpg     115/646_E2_1_segmentation.png  \n",
       "6    8797/fp11_E5_1_blue.jpg   8797/fp11_E5_1_segmentation.png  \n",
       "4     8797/174_G3_1_blue.jpg    8797/174_G3_1_segmentation.png  \n",
       "46   61448/fp7_G4_1_blue.jpg   61448/fp7_G4_1_segmentation.png  \n",
       "15  65779/1235_D6_2_blue.jpg  65779/1235_D6_2_segmentation.png  "
      ]
     },
     "execution_count": 12,
     "metadata": {},
     "output_type": "execute_result"
    }
   ],
   "source": [
    "df.sample(5)"
   ]
  },
  {
   "cell_type": "code",
   "execution_count": null,
   "metadata": {},
   "outputs": [],
   "source": []
  }
 ],
 "metadata": {
  "kernelspec": {
   "display_name": "Python 3",
   "language": "python",
   "name": "python3"
  },
  "language_info": {
   "codemirror_mode": {
    "name": "ipython",
    "version": 3
   },
   "file_extension": ".py",
   "mimetype": "text/x-python",
   "name": "python",
   "nbconvert_exporter": "python",
   "pygments_lexer": "ipython3",
   "version": "3.6.4"
  }
 },
 "nbformat": 4,
 "nbformat_minor": 2
}
