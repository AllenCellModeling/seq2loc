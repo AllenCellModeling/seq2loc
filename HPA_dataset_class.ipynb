{
 "cells": [
  {
   "cell_type": "markdown",
   "metadata": {},
   "source": [
    "# dataset sketch (untested)"
   ]
  },
  {
   "cell_type": "code",
   "execution_count": 1,
   "metadata": {
    "collapsed": true
   },
   "outputs": [],
   "source": [
    "import os\n",
    "from collections import Iterable\n",
    "\n",
    "import numpy as np\n",
    "import pandas as pd\n",
    "\n",
    "import torch\n",
    "from torch.utils.data import Dataset, DataLoader\n",
    "from torchvision import transforms\n",
    "\n",
    "from torch.utils.data.dataloader import default_collate as collate"
   ]
  },
  {
   "cell_type": "code",
   "execution_count": 2,
   "metadata": {
    "collapsed": true
   },
   "outputs": [],
   "source": [
    "def load_greyscale(img_path, *args, **kwargs):\n",
    "    with open(img_path, 'rb') as f:\n",
    "        img = Image.open(f)\n",
    "        return img.convert('L')"
   ]
  },
  {
   "cell_type": "code",
   "execution_count": 3,
   "metadata": {
    "collapsed": true
   },
   "outputs": [],
   "source": [
    "class dataframeDatasetHPA(Dataset):\n",
    "    \"\"\"dataframe Dataset class for HPA data.\"\"\"\n",
    "\n",
    "    def __init__(self, df,\n",
    "                 root_dir='/root/aics/modeling/data/HPAscrape',\n",
    "                 image_cols=('nucleus', 'microtublues', 'antibody'),\n",
    "                 image_transform=transforms.Compose([transforms.ToTensor()]),\n",
    "                 metadata_cols={'sequence', 'antibody', 'cellLine'}):\n",
    "        \"\"\"\n",
    "        Args:\n",
    "            df (pandas.DataFrame): dataframe containing the image locations (relative to root_dir) and target data\n",
    "            root_dir (string): full path to the directory containing all the images\n",
    "            image_cols (tuple of strings): column names in dataframe containing the paths to the single channel \n",
    "                                           images to be used as input data channels; channels will be stacked in order\n",
    "            image_transform (callable): torchvision transform to be applied on a sample;\n",
    "                                        default is transforms.Compose([transforms.ToTensor()])\n",
    "            metadata_cols (tuple of strings): columns whose entries will be returned for each data point;\n",
    "                                              col names will be used as dict keys in returned sample\n",
    "        \"\"\"\n",
    "        self.opts = locals()\n",
    "        self.opts.pop('self')\n",
    "        self.opts.pop('df')\n",
    "\n",
    "        self.df = df.reset_index(drop=True)\n",
    "        self._image_transform = self.opts['image_transform']\n",
    "\n",
    "    def __len__(self):\n",
    "        return len(self.df)\n",
    "\n",
    "    def _get_item(self, idx):\n",
    "        image_paths = [os.path.join(self.opts['root_dir'], self.df[col][idx]) for col in self.opts['image_cols']]\n",
    "        image = torch.stack([self._image_transform(load_greyscale(image_path)) for image_path in image_paths])\n",
    "        metadata = {md_col:self.df[md_col][idx] for md_col in self.opts['metadata_cols']}\n",
    "        return {'image':image, **metadata}\n",
    "\n",
    "    def __getitem__(self, idx):\n",
    "        return collate([self._get_item(i) for i in idx]) if isinstance(idx,Iterable) else self._get_item(idx)"
   ]
  },
  {
   "cell_type": "code",
   "execution_count": 4,
   "metadata": {
    "collapsed": false
   },
   "outputs": [],
   "source": [
    "# need to actually get the images this df references\n",
    "df = pd.read_csv('test.csv')"
   ]
  },
  {
   "cell_type": "code",
   "execution_count": 5,
   "metadata": {
    "collapsed": false
   },
   "outputs": [],
   "source": [
    "dset = dataframeDatasetHPA(df, root_dir='./',\n",
    "                           image_cols=('nuclear_channel', 'microtubule_channel', 'antibody_channel'),\n",
    "                           image_transform=transforms.Compose([transforms.ToTensor()]),\n",
    "                           metadata_cols=('antibody_name','cellLine','protein_id','protein_AA_sequence'))"
   ]
  },
  {
   "cell_type": "code",
   "execution_count": 6,
   "metadata": {
    "collapsed": false
   },
   "outputs": [
    {
     "data": {
      "text/plain": [
       "{'image_cols': ('nuclear_channel', 'microtubule_channel', 'antibody_channel'),\n",
       " 'image_transform': <torchvision.transforms.transforms.Compose at 0x1138d64e0>,\n",
       " 'metadata_cols': ('antibody_name',\n",
       "  'cellLine',\n",
       "  'protein_id',\n",
       "  'protein_AA_sequence'),\n",
       " 'root_dir': './'}"
      ]
     },
     "execution_count": 6,
     "metadata": {},
     "output_type": "execute_result"
    }
   ],
   "source": [
    "dset.opts"
   ]
  },
  {
   "cell_type": "code",
   "execution_count": null,
   "metadata": {
    "collapsed": true
   },
   "outputs": [],
   "source": []
  }
 ],
 "metadata": {
  "kernelspec": {
   "display_name": "Python 3",
   "language": "python",
   "name": "python3"
  },
  "language_info": {
   "codemirror_mode": {
    "name": "ipython",
    "version": 3
   },
   "file_extension": ".py",
   "mimetype": "text/x-python",
   "name": "python",
   "nbconvert_exporter": "python",
   "pygments_lexer": "ipython3",
   "version": "3.6.0"
  }
 },
 "nbformat": 4,
 "nbformat_minor": 2
}
