{
 "cells": [
  {
   "cell_type": "code",
   "execution_count": 1,
   "metadata": {},
   "outputs": [
    {
     "data": {
      "text/plain": [
       "1"
      ]
     },
     "execution_count": 1,
     "metadata": {},
     "output_type": "execute_result"
    }
   ],
   "source": [
    "import torch\n",
    "import torch.nn as nn\n",
    "from torch.nn import functional as F\n",
    "\n",
    "from torch.autograd import Variable\n",
    "\n",
    "import torch.utils.data\n",
    "\n",
    "import pandas as pd\n",
    "import numpy as np\n",
    "\n",
    "import pdb\n",
    "import torch.optim as optim\n",
    "from tqdm import tqdm_notebook as tqdm\n",
    "\n",
    "from torch.nn.utils import clip_grad_norm\n",
    "import os\n",
    "\n",
    "use_cuda = True\n",
    "\n",
    "GPU_ids = [3]\n",
    "GPU_id = GPU_ids[0]\n",
    "\n",
    "os.environ['CUDA_VISIBLE_DEVICES'] = ','.join([str(ID) for ID in GPU_ids])\n",
    "GPU_ids = list(range(0, len(GPU_ids)))\n",
    "\n",
    "torch.cuda.device_count()"
   ]
  },
  {
   "cell_type": "code",
   "execution_count": 2,
   "metadata": {},
   "outputs": [
    {
     "name": "stderr",
     "output_type": "stream",
     "text": [
      "/root/projects/seq2loc/seq2loc/datasets.py:51: SettingWithCopyWarning: \n",
      "A value is trying to be set on a copy of a slice from a DataFrame\n",
      "\n",
      "See the caveats in the documentation: http://pandas.pydata.org/pandas-docs/stable/indexing.html#indexing-view-versus-copy\n",
      "  df_sequences[nan_inds] = ''\n"
     ]
    }
   ],
   "source": [
    "import os\n",
    "from decimal import Decimal\n",
    "\n",
    "import seq2loc.models\n",
    "import seq2loc.utils as utils\n",
    "from seq2loc.datasets import SequenceDataset, PaddedSequenceDataset\n",
    "\n",
    "from sklearn.metrics import precision_recall_fscore_support, average_precision_score\n",
    "\n",
    "from tensorboardX import SummaryWriter\n",
    "\n",
    "max_seq_len = 500000\n",
    "\n",
    "GPU_id = 0\n",
    "ds = PaddedSequenceDataset(SequenceDataset('./data/hpa_data_resized_train.csv', max_seq_len = max_seq_len, sequence_map='nucleotide'), GPU_id = GPU_id)\n",
    "mlb = ds.sequenceDataset.mlb\n",
    "ds_validate = PaddedSequenceDataset(SequenceDataset('./data/hpa_data_resized_validate.csv', max_seq_len = max_seq_len, mlb = mlb, sequence_map='nucleotide'), GPU_id = GPU_id)\n",
    "\n",
    "\n"
   ]
  },
  {
   "cell_type": "code",
   "execution_count": null,
   "metadata": {},
   "outputs": [
    {
     "data": {
      "application/vnd.jupyter.widget-view+json": {
       "model_id": "2242f21efe554edba7e417712c1f5f40",
       "version_major": 2,
       "version_minor": 0
      },
      "text/plain": [
       "HBox(children=(IntProgress(value=0, max=2223), HTML(value='')))"
      ]
     },
     "metadata": {},
     "output_type": "display_data"
    },
    {
     "name": "stdout",
     "output_type": "stream",
     "text": [
      "\n"
     ]
    },
    {
     "data": {
      "application/vnd.jupyter.widget-view+json": {
       "model_id": "21ee56fbb18a405d8cbe501d1952c23e",
       "version_major": 2,
       "version_minor": 0
      },
      "text/plain": [
       "HBox(children=(IntProgress(value=0, max=2223), HTML(value='')))"
      ]
     },
     "metadata": {},
     "output_type": "display_data"
    },
    {
     "name": "stdout",
     "output_type": "stream",
     "text": [
      "\n"
     ]
    },
    {
     "data": {
      "application/vnd.jupyter.widget-view+json": {
       "model_id": "c6a7761f3d3b421995daaad373a8e7dd",
       "version_major": 2,
       "version_minor": 0
      },
      "text/plain": [
       "HBox(children=(IntProgress(value=0, max=2223), HTML(value='')))"
      ]
     },
     "metadata": {},
     "output_type": "display_data"
    },
    {
     "name": "stdout",
     "output_type": "stream",
     "text": [
      "\n"
     ]
    },
    {
     "data": {
      "application/vnd.jupyter.widget-view+json": {
       "model_id": "a81394532ee8442781ec664e45eab4dd",
       "version_major": 2,
       "version_minor": 0
      },
      "text/plain": [
       "HBox(children=(IntProgress(value=0, max=2223), HTML(value='')))"
      ]
     },
     "metadata": {},
     "output_type": "display_data"
    },
    {
     "name": "stdout",
     "output_type": "stream",
     "text": [
      "\n"
     ]
    },
    {
     "data": {
      "application/vnd.jupyter.widget-view+json": {
       "model_id": "4753035add84488484ce37e9f48b8df1",
       "version_major": 2,
       "version_minor": 0
      },
      "text/plain": [
       "HBox(children=(IntProgress(value=0, max=2223), HTML(value='')))"
      ]
     },
     "metadata": {},
     "output_type": "display_data"
    },
    {
     "name": "stdout",
     "output_type": "stream",
     "text": [
      "\n"
     ]
    },
    {
     "data": {
      "application/vnd.jupyter.widget-view+json": {
       "model_id": "bbac480c1da54290b36690b2cf2958e5",
       "version_major": 2,
       "version_minor": 0
      },
      "text/plain": [
       "HBox(children=(IntProgress(value=0, max=2223), HTML(value='')))"
      ]
     },
     "metadata": {},
     "output_type": "display_data"
    },
    {
     "name": "stdout",
     "output_type": "stream",
     "text": [
      "\n"
     ]
    },
    {
     "data": {
      "application/vnd.jupyter.widget-view+json": {
       "model_id": "3e8eebe9862746ae925efa546ae5d8a7",
       "version_major": 2,
       "version_minor": 0
      },
      "text/plain": [
       "HBox(children=(IntProgress(value=0, max=2223), HTML(value='')))"
      ]
     },
     "metadata": {},
     "output_type": "display_data"
    },
    {
     "name": "stdout",
     "output_type": "stream",
     "text": [
      "\n"
     ]
    },
    {
     "data": {
      "application/vnd.jupyter.widget-view+json": {
       "model_id": "8713f78ec4974b1c89d09107a48e09b7",
       "version_major": 2,
       "version_minor": 0
      },
      "text/plain": [
       "HBox(children=(IntProgress(value=0, max=2223), HTML(value='')))"
      ]
     },
     "metadata": {},
     "output_type": "display_data"
    },
    {
     "name": "stdout",
     "output_type": "stream",
     "text": [
      "\n"
     ]
    },
    {
     "data": {
      "application/vnd.jupyter.widget-view+json": {
       "model_id": "9324727a48e74a40a1a0b6db029bfecf",
       "version_major": 2,
       "version_minor": 0
      },
      "text/plain": [
       "HBox(children=(IntProgress(value=0, max=2223), HTML(value='')))"
      ]
     },
     "metadata": {},
     "output_type": "display_data"
    },
    {
     "name": "stdout",
     "output_type": "stream",
     "text": [
      "\n"
     ]
    },
    {
     "data": {
      "application/vnd.jupyter.widget-view+json": {
       "model_id": "3b932247a3344d64834a7434c94ef182",
       "version_major": 2,
       "version_minor": 0
      },
      "text/plain": [
       "HBox(children=(IntProgress(value=0, max=2223), HTML(value='')))"
      ]
     },
     "metadata": {},
     "output_type": "display_data"
    },
    {
     "name": "stdout",
     "output_type": "stream",
     "text": [
      "\n"
     ]
    },
    {
     "data": {
      "application/vnd.jupyter.widget-view+json": {
       "model_id": "7bf03b067dba42c3a51cdaf590b9bc71",
       "version_major": 2,
       "version_minor": 0
      },
      "text/plain": [
       "HBox(children=(IntProgress(value=0, max=2223), HTML(value='')))"
      ]
     },
     "metadata": {},
     "output_type": "display_data"
    },
    {
     "name": "stdout",
     "output_type": "stream",
     "text": [
      "\n"
     ]
    },
    {
     "data": {
      "application/vnd.jupyter.widget-view+json": {
       "model_id": "717d3c0b91ce4ec1843228e022ac5d15",
       "version_major": 2,
       "version_minor": 0
      },
      "text/plain": [
       "HBox(children=(IntProgress(value=0, max=2223), HTML(value='')))"
      ]
     },
     "metadata": {},
     "output_type": "display_data"
    },
    {
     "name": "stdout",
     "output_type": "stream",
     "text": [
      "\n"
     ]
    },
    {
     "data": {
      "application/vnd.jupyter.widget-view+json": {
       "model_id": "8998e88c3453438fb53f017d474d86bb",
       "version_major": 2,
       "version_minor": 0
      },
      "text/plain": [
       "HBox(children=(IntProgress(value=0, max=2223), HTML(value='')))"
      ]
     },
     "metadata": {},
     "output_type": "display_data"
    },
    {
     "name": "stdout",
     "output_type": "stream",
     "text": [
      "\n"
     ]
    },
    {
     "data": {
      "application/vnd.jupyter.widget-view+json": {
       "model_id": "9e126f16d627474caf6418a60b424d67",
       "version_major": 2,
       "version_minor": 0
      },
      "text/plain": [
       "HBox(children=(IntProgress(value=0, max=2223), HTML(value='')))"
      ]
     },
     "metadata": {},
     "output_type": "display_data"
    },
    {
     "name": "stdout",
     "output_type": "stream",
     "text": [
      "\n"
     ]
    },
    {
     "data": {
      "application/vnd.jupyter.widget-view+json": {
       "model_id": "598c3b331e9f4266aaed879168734ade",
       "version_major": 2,
       "version_minor": 0
      },
      "text/plain": [
       "HBox(children=(IntProgress(value=0, max=2223), HTML(value='')))"
      ]
     },
     "metadata": {},
     "output_type": "display_data"
    },
    {
     "name": "stdout",
     "output_type": "stream",
     "text": [
      "\n"
     ]
    },
    {
     "data": {
      "application/vnd.jupyter.widget-view+json": {
       "model_id": "9a11aa43e648418e8bd4c77071fc1ee2",
       "version_major": 2,
       "version_minor": 0
      },
      "text/plain": [
       "HBox(children=(IntProgress(value=0, max=2223), HTML(value='')))"
      ]
     },
     "metadata": {},
     "output_type": "display_data"
    },
    {
     "name": "stdout",
     "output_type": "stream",
     "text": [
      "\n"
     ]
    },
    {
     "data": {
      "application/vnd.jupyter.widget-view+json": {
       "model_id": "d3d0d654e7f74ec8943819aca554c3c3",
       "version_major": 2,
       "version_minor": 0
      },
      "text/plain": [
       "HBox(children=(IntProgress(value=0, max=2223), HTML(value='')))"
      ]
     },
     "metadata": {},
     "output_type": "display_data"
    },
    {
     "name": "stdout",
     "output_type": "stream",
     "text": [
      "\n"
     ]
    },
    {
     "data": {
      "application/vnd.jupyter.widget-view+json": {
       "model_id": "beef856ceeb34205aa86730772a21afe",
       "version_major": 2,
       "version_minor": 0
      },
      "text/plain": [
       "HBox(children=(IntProgress(value=0, max=2223), HTML(value='')))"
      ]
     },
     "metadata": {},
     "output_type": "display_data"
    },
    {
     "name": "stdout",
     "output_type": "stream",
     "text": [
      "\n"
     ]
    },
    {
     "data": {
      "application/vnd.jupyter.widget-view+json": {
       "model_id": "72b313ddef414c6288fcca3ee9ca69dd",
       "version_major": 2,
       "version_minor": 0
      },
      "text/plain": [
       "HBox(children=(IntProgress(value=0, max=2223), HTML(value='')))"
      ]
     },
     "metadata": {},
     "output_type": "display_data"
    },
    {
     "name": "stdout",
     "output_type": "stream",
     "text": [
      "\n"
     ]
    },
    {
     "data": {
      "application/vnd.jupyter.widget-view+json": {
       "model_id": "be30e07bc0b6421bba22c65e298cc20e",
       "version_major": 2,
       "version_minor": 0
      },
      "text/plain": [
       "HBox(children=(IntProgress(value=0, max=2223), HTML(value='')))"
      ]
     },
     "metadata": {},
     "output_type": "display_data"
    },
    {
     "name": "stdout",
     "output_type": "stream",
     "text": [
      "\n"
     ]
    },
    {
     "data": {
      "application/vnd.jupyter.widget-view+json": {
       "model_id": "a2e28baea1ed4c0392b6bb77e61351dc",
       "version_major": 2,
       "version_minor": 0
      },
      "text/plain": [
       "HBox(children=(IntProgress(value=0, max=2223), HTML(value='')))"
      ]
     },
     "metadata": {},
     "output_type": "display_data"
    },
    {
     "name": "stdout",
     "output_type": "stream",
     "text": [
      "\n"
     ]
    },
    {
     "data": {
      "application/vnd.jupyter.widget-view+json": {
       "model_id": "e90ee8b22cc3448b9b441dc52ea5986d",
       "version_major": 2,
       "version_minor": 0
      },
      "text/plain": [
       "HBox(children=(IntProgress(value=0, max=2223), HTML(value='')))"
      ]
     },
     "metadata": {},
     "output_type": "display_data"
    },
    {
     "name": "stdout",
     "output_type": "stream",
     "text": [
      "\n"
     ]
    },
    {
     "data": {
      "application/vnd.jupyter.widget-view+json": {
       "model_id": "c2745d5796b0484f9a68d1b25768aba9",
       "version_major": 2,
       "version_minor": 0
      },
      "text/plain": [
       "HBox(children=(IntProgress(value=0, max=2223), HTML(value='')))"
      ]
     },
     "metadata": {},
     "output_type": "display_data"
    },
    {
     "name": "stdout",
     "output_type": "stream",
     "text": [
      "\n"
     ]
    },
    {
     "data": {
      "application/vnd.jupyter.widget-view+json": {
       "model_id": "995d862d04d74e278fd17b634a17657f",
       "version_major": 2,
       "version_minor": 0
      },
      "text/plain": [
       "HBox(children=(IntProgress(value=0, max=2223), HTML(value='')))"
      ]
     },
     "metadata": {},
     "output_type": "display_data"
    },
    {
     "name": "stdout",
     "output_type": "stream",
     "text": [
      "\n"
     ]
    },
    {
     "data": {
      "application/vnd.jupyter.widget-view+json": {
       "model_id": "650a28de2540423c90288b7bf5f25d56",
       "version_major": 2,
       "version_minor": 0
      },
      "text/plain": [
       "HBox(children=(IntProgress(value=0, max=2223), HTML(value='')))"
      ]
     },
     "metadata": {},
     "output_type": "display_data"
    },
    {
     "name": "stdout",
     "output_type": "stream",
     "text": [
      "\n"
     ]
    },
    {
     "data": {
      "application/vnd.jupyter.widget-view+json": {
       "model_id": "41bbb7afbea9422fbfa7b093c480cd72",
       "version_major": 2,
       "version_minor": 0
      },
      "text/plain": [
       "HBox(children=(IntProgress(value=0, max=2223), HTML(value='')))"
      ]
     },
     "metadata": {},
     "output_type": "display_data"
    },
    {
     "name": "stdout",
     "output_type": "stream",
     "text": [
      "\n"
     ]
    },
    {
     "data": {
      "application/vnd.jupyter.widget-view+json": {
       "model_id": "546fe0999b1d42d5b25b4ad4d9ddd36f",
       "version_major": 2,
       "version_minor": 0
      },
      "text/plain": [
       "HBox(children=(IntProgress(value=0, max=2223), HTML(value='')))"
      ]
     },
     "metadata": {},
     "output_type": "display_data"
    },
    {
     "name": "stdout",
     "output_type": "stream",
     "text": [
      "\n"
     ]
    },
    {
     "data": {
      "application/vnd.jupyter.widget-view+json": {
       "model_id": "90353026224a4810847c3868b1dff6e6",
       "version_major": 2,
       "version_minor": 0
      },
      "text/plain": [
       "HBox(children=(IntProgress(value=0, max=2223), HTML(value='')))"
      ]
     },
     "metadata": {},
     "output_type": "display_data"
    },
    {
     "name": "stdout",
     "output_type": "stream",
     "text": [
      "\n"
     ]
    },
    {
     "data": {
      "application/vnd.jupyter.widget-view+json": {
       "model_id": "06dbe1003489431ab2d02d6d356e8d33",
       "version_major": 2,
       "version_minor": 0
      },
      "text/plain": [
       "HBox(children=(IntProgress(value=0, max=2223), HTML(value='')))"
      ]
     },
     "metadata": {},
     "output_type": "display_data"
    },
    {
     "name": "stdout",
     "output_type": "stream",
     "text": [
      "\n"
     ]
    },
    {
     "data": {
      "application/vnd.jupyter.widget-view+json": {
       "model_id": "aa65b1e5a26c43efb8619be1ed319204",
       "version_major": 2,
       "version_minor": 0
      },
      "text/plain": [
       "HBox(children=(IntProgress(value=0, max=2223), HTML(value='')))"
      ]
     },
     "metadata": {},
     "output_type": "display_data"
    },
    {
     "name": "stdout",
     "output_type": "stream",
     "text": [
      "\n"
     ]
    },
    {
     "data": {
      "application/vnd.jupyter.widget-view+json": {
       "model_id": "bf6bbd20315d4bd8a8c6bbf3de290b4a",
       "version_major": 2,
       "version_minor": 0
      },
      "text/plain": [
       "HBox(children=(IntProgress(value=0, max=2223), HTML(value='')))"
      ]
     },
     "metadata": {},
     "output_type": "display_data"
    },
    {
     "name": "stdout",
     "output_type": "stream",
     "text": [
      "\n"
     ]
    },
    {
     "data": {
      "application/vnd.jupyter.widget-view+json": {
       "model_id": "f1efe66eb7ed4bef8a3cdda5bab284ac",
       "version_major": 2,
       "version_minor": 0
      },
      "text/plain": [
       "HBox(children=(IntProgress(value=0, max=2223), HTML(value='')))"
      ]
     },
     "metadata": {},
     "output_type": "display_data"
    },
    {
     "name": "stdout",
     "output_type": "stream",
     "text": [
      "\n"
     ]
    },
    {
     "data": {
      "application/vnd.jupyter.widget-view+json": {
       "model_id": "3f3fe5eb0a5c4316b6befdb2e1a9d7cf",
       "version_major": 2,
       "version_minor": 0
      },
      "text/plain": [
       "HBox(children=(IntProgress(value=0, max=2223), HTML(value='')))"
      ]
     },
     "metadata": {},
     "output_type": "display_data"
    },
    {
     "name": "stdout",
     "output_type": "stream",
     "text": [
      "\n"
     ]
    },
    {
     "data": {
      "application/vnd.jupyter.widget-view+json": {
       "model_id": "2b90448d15794ca4bbea8ce62a4e4917",
       "version_major": 2,
       "version_minor": 0
      },
      "text/plain": [
       "HBox(children=(IntProgress(value=0, max=2223), HTML(value='')))"
      ]
     },
     "metadata": {},
     "output_type": "display_data"
    },
    {
     "name": "stdout",
     "output_type": "stream",
     "text": [
      "\n"
     ]
    },
    {
     "data": {
      "application/vnd.jupyter.widget-view+json": {
       "model_id": "5443b8f906ab408599a07de89f60208e",
       "version_major": 2,
       "version_minor": 0
      },
      "text/plain": [
       "HBox(children=(IntProgress(value=0, max=2223), HTML(value='')))"
      ]
     },
     "metadata": {},
     "output_type": "display_data"
    },
    {
     "name": "stdout",
     "output_type": "stream",
     "text": [
      "\n"
     ]
    },
    {
     "data": {
      "application/vnd.jupyter.widget-view+json": {
       "model_id": "977d3cc7c92b43f18d183bb829d72f05",
       "version_major": 2,
       "version_minor": 0
      },
      "text/plain": [
       "HBox(children=(IntProgress(value=0, max=2223), HTML(value='')))"
      ]
     },
     "metadata": {},
     "output_type": "display_data"
    },
    {
     "name": "stdout",
     "output_type": "stream",
     "text": [
      "\n"
     ]
    },
    {
     "data": {
      "application/vnd.jupyter.widget-view+json": {
       "model_id": "6528fc4db4d948e4b23b096f7894330d",
       "version_major": 2,
       "version_minor": 0
      },
      "text/plain": [
       "HBox(children=(IntProgress(value=0, max=2223), HTML(value='')))"
      ]
     },
     "metadata": {},
     "output_type": "display_data"
    },
    {
     "name": "stdout",
     "output_type": "stream",
     "text": [
      "\n"
     ]
    },
    {
     "data": {
      "application/vnd.jupyter.widget-view+json": {
       "model_id": "d5377d0074df42919ba02d47a58111b1",
       "version_major": 2,
       "version_minor": 0
      },
      "text/plain": [
       "HBox(children=(IntProgress(value=0, max=2223), HTML(value='')))"
      ]
     },
     "metadata": {},
     "output_type": "display_data"
    },
    {
     "name": "stdout",
     "output_type": "stream",
     "text": [
      "\n"
     ]
    },
    {
     "data": {
      "application/vnd.jupyter.widget-view+json": {
       "model_id": "fe6e4607a98745edaa4bd4c7e6120100",
       "version_major": 2,
       "version_minor": 0
      },
      "text/plain": [
       "HBox(children=(IntProgress(value=0, max=2223), HTML(value='')))"
      ]
     },
     "metadata": {},
     "output_type": "display_data"
    }
   ],
   "source": [
    "\n",
    "\n",
    "\n",
    "#really big number to trim sequences to\n",
    "\n",
    "# ds_test = PaddedSequenceDataset(SequenceDataset('./data/hpa_data_resized_test.csv', max_seq_len = max_seq_len, mlb = mlb, sequence_map='nucleotide'), GPU_id = GPU_id)\n",
    "\n",
    "LR = 0.001\n",
    "N_EPOCHS = 500\n",
    "batch_size = 8\n",
    "N_CLASSES = 32\n",
    "N_LETTERS = len(ds.sequenceDataset.sequence_map)\n",
    "\n",
    "criterion = torch.nn.BCEWithLogitsLoss()\n",
    "\n",
    "enc = seq2loc.models.SeqConvResidClassifier(N_LETTERS, N_CLASSES, kernel_size = 4, layers_deep = 10, ch_intermed = 128, pooling_type='avg').cuda(GPU_id)\n",
    "\n",
    "opt = optim.Adam(enc.parameters(), lr = LR)\n",
    "\n",
    "writer = SummaryWriter()\n",
    "\n",
    "save_dir = './classifier_conv_resid/{}'\n",
    "\n",
    "iteration = 0\n",
    "\n",
    "for epoch in range(N_EPOCHS):\n",
    "\n",
    "    epoch_inds = utils.get_epoch_inds(len(ds), batch_size)\n",
    "    pbar = tqdm(epoch_inds)\n",
    "\n",
    "    epoch_losses = list()\n",
    "    \n",
    "    for batch in pbar:\n",
    "        opt.zero_grad()\n",
    "\n",
    "        x, y = ds[batch]        \n",
    "        \n",
    "        y_hat  = enc(x)\n",
    "        \n",
    "        loss = criterion(y_hat, y)\n",
    "     \n",
    "        loss.backward()\n",
    "        opt.step()\n",
    "\n",
    "        losses_np = np.squeeze(loss.detach().cpu().numpy())\n",
    "        \n",
    "        epoch_losses += [losses_np]\n",
    "        pbar.set_description('%.4E' % Decimal(str(losses_np)))\n",
    "        \n",
    "        writer.add_scalars(save_dir.format('train'), {'loss': losses_np}, iteration)\n",
    "        \n",
    "        iteration += 1\n",
    "    \n",
    "    ###########################\n",
    "    ### Write out test results\n",
    "    ###########################\n",
    "    enc.train(False)\n",
    "    \n",
    "    epoch_inds = utils.get_epoch_inds(len(ds_validate), batch_size)\n",
    "\n",
    "    y_list = list()\n",
    "    y_hat_list = list()\n",
    "    losses_test = list()\n",
    "    \n",
    "    for batch in epoch_inds:\n",
    "\n",
    "        x, y = ds_validate[batch]        \n",
    "\n",
    "        with torch.no_grad():\n",
    "            y_hat  = nn.Sigmoid()(enc(x))\n",
    "\n",
    "        loss = criterion(y_hat, y)/y.shape[0]\n",
    "        losses_test += [np.squeeze(loss.detach().cpu().numpy())]\n",
    "\n",
    "\n",
    "        y_list += [y]\n",
    "        y_hat_list += [y_hat]\n",
    "\n",
    "    writer.add_scalars(save_dir.format('test'), {'loss': np.mean(losses_test)}, iteration)\n",
    "\n",
    "#     y = torch.cat(y_list).cpu().numpy()\n",
    "#     y_hat = torch.cat(y_hat_list).cpu().numpy()\n",
    "\n",
    "#     thresh = 0.5\n",
    "\n",
    "\n",
    "#     true_labs = y\n",
    "#     pred_acts = y_hat\n",
    "#     pred_labs = np.zeros_like(pred_acts)\n",
    "#     pred_labs[pred_acts > thresh] = 1\n",
    "\n",
    "#     df_stats = pd.DataFrame()\n",
    "#     for i,col in enumerate(mlb.classes_):\n",
    "\n",
    "#         # get true labels and predicted activations\n",
    "#         true_labs_col = true_labs[:,i]\n",
    "#         pred_acts_col = pred_acts[:,i]\n",
    "#         pred_labs_col = pred_labs[:,i]\n",
    "\n",
    "#         # compute one against all prec + recall stats\n",
    "#         p,r,f,_ = precision_recall_fscore_support(true_labs_col,pred_labs_col, average='binary')\n",
    "\n",
    "#         writer.add_scalars(save_dir.format('test_stats'), {'precision_{}'.format(col): p,\n",
    "#                                                     'recall_{}'.format(col): r,\n",
    "#                                                     'f1score_{}'.format(col): f,\n",
    "#                                                     'auprc_{}'.format(col): average_precision_score(true_labs_col, pred_acts_col),\n",
    "# #                                                     'support_{}'.format(col)] = int(true_labs_col.sum())\n",
    "#                                                     }, iteration)\n",
    "\n",
    "\n",
    "    enc.train(True) \n",
    "\n",
    "    pbar.set_description('%.4E' % Decimal(str(np.mean(epoch_losses))))\n",
    "    \n"
   ]
  },
  {
   "cell_type": "code",
   "execution_count": null,
   "metadata": {},
   "outputs": [],
   "source": [
    "ds = PaddedSequenceDataset(SequenceDataset('./data/hpa_data_resized_train.csv', max_seq_len = max_seq_len, sequence_map='nucleotide'), GPU_id = GPU_id)"
   ]
  },
  {
   "cell_type": "code",
   "execution_count": 25,
   "metadata": {},
   "outputs": [
    {
     "name": "stdout",
     "output_type": "stream",
     "text": [
      "torch.Size([1, 2, 99])\n",
      "Variable containing:\n",
      "(0 ,.,.) = \n",
      "\n",
      "Columns 0 to 8 \n",
      "   0.7562  0.4548  0.2365  0.6519  1.1261  0.4094  0.1535  0.4548  0.4548\n",
      " -1.1290 -1.2368 -1.7094 -1.9707 -1.9859 -1.8325 -1.3446 -1.2368 -1.2368\n",
      "\n",
      "Columns 9 to 17 \n",
      "   0.4548  0.4548  0.4548  0.4548  0.4548  0.4548  0.4548  0.4548  0.4548\n",
      " -1.2368 -1.2368 -1.2368 -1.2368 -1.2368 -1.2368 -1.2368 -1.2368 -1.2368\n",
      "\n",
      "Columns 18 to 26 \n",
      "   0.4548  0.4548  0.4548  0.4548  0.4548  0.4548  0.4548  0.4548  0.4548\n",
      " -1.2368 -1.2368 -1.2368 -1.2368 -1.2368 -1.2368 -1.2368 -1.2368 -1.2368\n",
      "\n",
      "Columns 27 to 35 \n",
      "   0.4548  0.4548  0.4548  0.4548  0.4548  0.4548  0.4548  0.4548  0.4548\n",
      " -1.2368 -1.2368 -1.2368 -1.2368 -1.2368 -1.2368 -1.2368 -1.2368 -1.2368\n",
      "\n",
      "Columns 36 to 44 \n",
      "   0.4548  0.4548  0.4548  0.4548  0.4548  0.4548  0.4548  0.4548  0.4548\n",
      " -1.2368 -1.2368 -1.2368 -1.2368 -1.2368 -1.2368 -1.2368 -1.2368 -1.2368\n",
      "\n",
      "Columns 45 to 53 \n",
      "   0.4548  0.4548  0.4548  0.4548  0.4548  0.4548  0.4548  0.4548  0.4548\n",
      " -1.2368 -1.2368 -1.2368 -1.2368 -1.2368 -1.2368 -1.2368 -1.2368 -1.2368\n",
      "\n",
      "Columns 54 to 62 \n",
      "   0.4548  0.4548  0.4548  0.4548  0.4548  0.4548  0.4548  0.4548  0.4548\n",
      " -1.2368 -1.2368 -1.2368 -1.2368 -1.2368 -1.2368 -1.2368 -1.2368 -1.2368\n",
      "\n",
      "Columns 63 to 71 \n",
      "   0.4548  0.4548  0.4548  0.4548  0.4548  0.4548  0.4548  0.4548  0.4548\n",
      " -1.2368 -1.2368 -1.2368 -1.2368 -1.2368 -1.2368 -1.2368 -1.2368 -1.2368\n",
      "\n",
      "Columns 72 to 80 \n",
      "   0.4548  0.4548  0.4548  0.4548  0.4548  0.4548  0.4548  0.4548  0.4548\n",
      " -1.2368 -1.2368 -1.2368 -1.2368 -1.2368 -1.2368 -1.2368 -1.2368 -1.2368\n",
      "\n",
      "Columns 81 to 89 \n",
      "   0.4548  0.4548  0.4548  0.4548  0.4548  0.4548  0.4548  0.4548  0.4548\n",
      " -1.2368 -1.2368 -1.2368 -1.2368 -1.2368 -1.2368 -1.2368 -1.2368 -1.2368\n",
      "\n",
      "Columns 90 to 98 \n",
      "   0.4548  0.4548  0.4548  0.4548  0.4548  0.4548  0.4548  0.4548  0.6732\n",
      " -1.2368 -1.2368 -1.2368 -1.2368 -1.2368 -1.2368 -1.2368 -1.2368 -0.7641\n",
      "[torch.FloatTensor of size (1,2,99)]\n",
      "\n"
     ]
    }
   ],
   "source": [
    "import torch\n",
    "import torch.nn as nn\n",
    "from torch.nn import functional as F\n",
    "from torch.autograd import Variable\n",
    "\n",
    "import numpy as np\n",
    "\n",
    "x = Variable(torch.ones(1,1,100))\n",
    "x[:,:,4:6] = 2\n",
    "\n",
    "# print(x)\n",
    "\n",
    "kernel_size = 4\n",
    "stride = 1\n",
    "padding = (kernel_size+1)/2\n",
    "\n",
    "layer = torch.nn.Conv1d(1, 2, kernel_size= kernel_size, stride=stride, padding=padding)\n",
    "\n",
    "print(layer(x).shape)\n",
    "print(layer(x))\n"
   ]
  },
  {
   "cell_type": "code",
   "execution_count": 19,
   "metadata": {},
   "outputs": [
    {
     "data": {
      "text/plain": [
       "2.0"
      ]
     },
     "execution_count": 19,
     "metadata": {},
     "output_type": "execute_result"
    }
   ],
   "source": [
    "np.ceil(kernel_size/2)"
   ]
  },
  {
   "cell_type": "code",
   "execution_count": null,
   "metadata": {},
   "outputs": [],
   "source": [
    "x.shape"
   ]
  },
  {
   "cell_type": "code",
   "execution_count": null,
   "metadata": {},
   "outputs": [],
   "source": [
    "df_stats"
   ]
  },
  {
   "cell_type": "code",
   "execution_count": null,
   "metadata": {},
   "outputs": [],
   "source": [
    "y = torch.cat(y_list).cpu().numpy()\n",
    "y_hat = torch.cat(y_hat_list).cpu().numpy()\n",
    "\n",
    "for i in range(y.shape[1]):\n",
    "    label_inds = np.where(y[:,i]>0)[0]\n",
    "    \n",
    "    print(np.mean(y[label_inds,i] == (y_hat[label_inds,i]>0.5)))\n"
   ]
  },
  {
   "cell_type": "code",
   "execution_count": null,
   "metadata": {},
   "outputs": [],
   "source": [
    "(y_hat[label_inds,i]>0.5)"
   ]
  },
  {
   "cell_type": "code",
   "execution_count": null,
   "metadata": {},
   "outputs": [],
   "source": [
    "import matplotlib.pyplot as plt\n",
    "\n",
    "print(x.shape)\n",
    "print()\n",
    "\n",
    "plt.plot(losses)\n",
    "plt.show()"
   ]
  },
  {
   "cell_type": "code",
   "execution_count": null,
   "metadata": {},
   "outputs": [],
   "source": [
    "np.equal(y.cpu().data.numpy(), nn.Sigmoid()(y_hat).cpu().data.numpy()>0.5)"
   ]
  },
  {
   "cell_type": "code",
   "execution_count": null,
   "metadata": {},
   "outputs": [],
   "source": [
    "np.log(np.exp(3.219125824868201)/28)"
   ]
  },
  {
   "cell_type": "code",
   "execution_count": null,
   "metadata": {},
   "outputs": [],
   "source": [
    "enc.train(False)\n",
    "dec.train(False)\n",
    "\n",
    "x_tmp, _ = ds[[np.random.randint(len(ds))]]\n",
    "\n",
    "# x = torch.unsqueeze(x[:,0,:],1)\n",
    "batch_size_tmp = x_tmp.shape[1]\n",
    "\n",
    "hidden = enc.initHidden(batch_size_tmp).cuda(GPU_id)\n",
    "out, hidden = enc(x_tmp, hidden)\n",
    "\n",
    "#input the stop character to the stream    \n",
    "out = Variable(stopChar(batch_size_tmp)).cuda(GPU_id)\n",
    "\n",
    "\n",
    "#     pdb.set_trace()\n",
    "out_chars = list()\n",
    "\n",
    "for i in range(x_tmp.shape[0]):\n",
    "\n",
    "    out, hidden = dec(out, hidden) \n",
    "    \n",
    "    out_chars += [tensorToChar(out)[0,0]]\n",
    "    \n",
    "enc.train(True)\n",
    "dec.train(True)\n",
    "\n",
    "print(''.join(np.hstack(tensorToChar(x_tmp))))\n",
    "print(''.join(out_chars))"
   ]
  },
  {
   "cell_type": "code",
   "execution_count": null,
   "metadata": {},
   "outputs": [],
   "source": [
    "3E-4*np.log(15)"
   ]
  },
  {
   "cell_type": "code",
   "execution_count": null,
   "metadata": {},
   "outputs": [],
   "source": [
    "6.77e-05/np.log(15)"
   ]
  },
  {
   "cell_type": "code",
   "execution_count": null,
   "metadata": {},
   "outputs": [],
   "source": []
  }
 ],
 "metadata": {
  "kernelspec": {
   "display_name": "Python 3",
   "language": "python",
   "name": "python3"
  },
  "language_info": {
   "codemirror_mode": {
    "name": "ipython",
    "version": 3
   },
   "file_extension": ".py",
   "mimetype": "text/x-python",
   "name": "python",
   "nbconvert_exporter": "python",
   "pygments_lexer": "ipython3",
   "version": "3.6.4"
  }
 },
 "nbformat": 4,
 "nbformat_minor": 2
}
