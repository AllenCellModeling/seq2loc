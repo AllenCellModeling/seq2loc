{
 "cells": [
  {
   "cell_type": "code",
   "execution_count": 2,
   "metadata": {},
   "outputs": [],
   "source": [
    "import torch\n",
    "import torch.nn as nn\n",
    "from torch.nn import functional as F\n",
    "\n",
    "from torch.autograd import Variable\n",
    "\n",
    "import pandas as pd\n",
    "import numpy as np\n",
    "\n",
    "import pdb\n",
    "import torch.optim as optim\n",
    "from tqdm import tqdm_notebook as tqdm\n",
    "\n",
    "from torch.nn.utils import clip_grad_norm\n",
    "\n",
    "# import torch.backends.cudnn as cudnn\n",
    "# cudnn.benchmark = True\n",
    "\n",
    "import math\n",
    "\n",
    "use_cuda = True"
   ]
  },
  {
   "cell_type": "code",
   "execution_count": 19,
   "metadata": {},
   "outputs": [],
   "source": [
    "\n",
    "class EncoderRNN(nn.Module):\n",
    "    def __init__(self, input_size, hidden_size, num_gru_layers=1, bidirectional = True, dropout_p = 0.2):\n",
    "        super(EncoderRNN, self).__init__()\n",
    "        \n",
    "        self.h_layers = num_gru_layers\n",
    "        self.hidden_size = hidden_size\n",
    "        self.num_gru_layers = num_gru_layers\n",
    "        self.h_layers = num_gru_layers\n",
    "        \n",
    "        self.bidirectional = bidirectional\n",
    "        \n",
    "        self.lin_in = hidden_size\n",
    "        if bidirectional:\n",
    "            self.h_layers = self.h_layers * 2\n",
    "            self.lin_in = hidden_size * 2\n",
    "        \n",
    "        self.droput = nn.Dropout(dropout_p)\n",
    "        \n",
    "        self.gru = nn.GRU(input_size, hidden_size, num_layers = num_gru_layers, bidirectional = bidirectional, dropout = dropout_p)\n",
    "#         self.out = nn.Sequential(\n",
    "#                                  nn.BatchNorm1d(self.lin_in),\n",
    "#                                  nn.ReLU(True),\n",
    "#                                  nn.Linear(self.lin_in, self.lin_in),\n",
    "#                                  nn.BatchNorm1d(self.lin_in),\n",
    "#                                  nn.ReLU(True),\n",
    "#                                  nn.Linear(self.lin_in, input_size),\n",
    "#                                  torch.nn.LogSoftmax(dim = 1)\n",
    "#                                 )\n",
    "        \n",
    "    def forward(self, input, hidden):\n",
    "        \n",
    "#         output = self.droput(input)\n",
    "        \n",
    "        output, hidden = self.gru(input, hidden)        \n",
    "#         output = torch.cat([torch.unsqueeze(self.out(out_batch),0) for out_batch in output],0)\n",
    "\n",
    "        return output, hidden\n",
    "\n",
    "    def initHidden(self, batch_size = 1):\n",
    "        result = Variable(torch.zeros(self.h_layers, batch_size, self.hidden_size))\n",
    "        \n",
    "        return result\n",
    "#         if use_cuda:\n",
    "#             return result.cuda()\n",
    "#         else:\n",
    "#             return result\n",
    "  \n",
    "class Attention(nn.Module):\n",
    "    def __init__(self, attn_in_size, hidden_size):\n",
    "        super(Attention, self).__init__()\n",
    "        self.hidden_size = hidden_size\n",
    "#         self.attn = nn.Linear(attn_in_size*2, hidden_size)\n",
    "        \n",
    "        self.attn = nn.Sequential(\n",
    "                                    nn.Linear(attn_in_size*2, hidden_size)\n",
    "                                )\n",
    "        \n",
    "        self.v = nn.Parameter(torch.rand(hidden_size))\n",
    "        stdv = 1. / math.sqrt(self.v.size(0))\n",
    "        self.v.data.uniform_(-stdv, stdv)\n",
    "\n",
    "    def forward(self, hidden, encoder_outputs):\n",
    "        timestep = encoder_outputs.size(0)\n",
    "        h = hidden.repeat(timestep, 1, 1).transpose(0, 1)\n",
    "        encoder_outputs_tmp = encoder_outputs.transpose(0, 1)  # [B*T*H]\n",
    "        attn_energies = self.score(h, encoder_outputs_tmp)\n",
    "        \n",
    "        attn_weights = F.softmax(attn_energies, dim=1).unsqueeze(1)\n",
    "        \n",
    "        context = attn_weights.bmm(encoder_outputs.transpose(0, 1))  # (B,1,N)\n",
    "        context = context.transpose(0, 1)  # (1,B,N)\n",
    "        \n",
    "        return context, attn_weights\n",
    "\n",
    "    def score(self, hidden, encoder_outputs):\n",
    "        # [B*T*2H]->[B*T*H]\n",
    "#         pdb.set_trace()\n",
    "        \n",
    "#         energy = torch.cat([torch.unsqueeze(self.attn(out_batch),0) for out_batch in torch.cat([hidden, encoder_outputs], 2)],0)\n",
    "        \n",
    "        energy = self.attn(torch.cat([hidden, encoder_outputs], 2))\n",
    "        \n",
    "        energy = energy.transpose(1, 2)  # [B*H*T]\n",
    "        v = self.v.repeat(encoder_outputs.size(0), 1).unsqueeze(1)  # [B*1*H]\n",
    "        energy = torch.bmm(v, energy)  # [B*1*T]\n",
    "        return energy.squeeze(1)  # [B*T]\n",
    "\n",
    "\n",
    "class DecoderRNN(nn.Module):\n",
    "    def __init__(self, embed_size, hidden_size, n_layers=1,  bidirectional = True, dropout_p=0.2):\n",
    "        super(DecoderRNN, self).__init__()\n",
    "        \n",
    "        output_size = embed_size\n",
    "        \n",
    "        self.bidirectional = bidirectional\n",
    "        \n",
    "        self.embed_size = embed_size\n",
    "        self.hidden_size = hidden_size\n",
    "        self.output_size = output_size\n",
    "        self.n_layers = n_layers\n",
    "        \n",
    "        n_attention_heads = 6\n",
    "        \n",
    "        \n",
    "        self.hidden_in = hidden_size\n",
    "        if bidirectional:\n",
    "            self.hidden_in = hidden_size * 2\n",
    "\n",
    "        self.embed = nn.Embedding(output_size, embed_size)\n",
    "        self.dropout = nn.Dropout(dropout_p, inplace=True)\n",
    "        \n",
    "        self.atten_list = nn.ModuleList(Attention(self.hidden_in, hidden_size) for i in range(n_attention_heads))\n",
    "        \n",
    "        self.gru = nn.GRU(self.hidden_in * n_attention_heads + embed_size, hidden_size, n_layers, bidirectional = bidirectional)\n",
    "#         self.out = nn.Linear(self.hidden_in * 2, output_size)\n",
    "        \n",
    "        self.out = nn.Sequential(\n",
    "                                    nn.Linear(self.hidden_in * (n_attention_heads+1), self.hidden_in * (n_attention_heads+1)),\n",
    "                                    nn.BatchNorm1d(self.hidden_in * (n_attention_heads+1)),\n",
    "                                    nn.ReLU(True),\n",
    "                                    nn.Linear(self.hidden_in * (n_attention_heads+1), output_size)\n",
    "            \n",
    "                                )\n",
    "\n",
    "    def forward(self, embedded, last_hidden, encoder_outputs):\n",
    "        # Get the embedding of the current input word (last output word)\n",
    "#         embedded = self.embed(input).unsqueeze(0)  # (1,B,N)\n",
    "#         embedded = self.dropout(input)\n",
    "        # Calculate attention weights and apply to encoder outputs\n",
    "\n",
    "        \n",
    "        h_in = last_hidden[-1]\n",
    "        if self.bidirectional:\n",
    "            h_in = torch.cat([last_hidden[-2], last_hidden[-1]], 1)\n",
    "        \n",
    "        context_list, attn_list = list(), list()\n",
    "        \n",
    "        for i, atten_head in enumerate(self.atten_list):\n",
    "            context, attn_weights = atten_head(h_in, encoder_outputs)\n",
    "            \n",
    "            context_list.append(context)\n",
    "            attn_list.append(attn_weights)\n",
    "            \n",
    "        \n",
    "        output, hidden = self.gru(torch.cat([embedded] + context_list, 2), last_hidden)\n",
    "        output = torch.cat([output] + context_list, 2)\n",
    "        output = output.squeeze(0)  # (1,B,N) -> (B,N)\n",
    "#         context = context.squeeze(0)\n",
    "        \n",
    "#         pdb.set_trace()\n",
    "        output = self.out(output)\n",
    "        \n",
    "        output = output.unsqueeze(0)\n",
    "        \n",
    "        output = F.log_softmax(output, dim=2)\n",
    "        return output, hidden, attn_weights"
   ]
  },
  {
   "cell_type": "code",
   "execution_count": null,
   "metadata": {},
   "outputs": [
    {
     "data": {
      "application/vnd.jupyter.widget-view+json": {
       "model_id": "924f24f338ee409293361adb1b227061",
       "version_major": 2,
       "version_minor": 0
      },
      "text/plain": [
       "HBox(children=(IntProgress(value=0, max=126), HTML(value='')))"
      ]
     },
     "metadata": {},
     "output_type": "display_data"
    },
    {
     "name": "stdout",
     "output_type": "stream",
     "text": [
      "\n",
      "\n",
      "PEEEPLSSSVVSSSS\n",
      "PERPESLLVSGPSVT\n"
     ]
    },
    {
     "data": {
      "application/vnd.jupyter.widget-view+json": {
       "model_id": "0958b3ea1473444c941b8ec2dc6469b0",
       "version_major": 2,
       "version_minor": 0
      },
      "text/plain": [
       "HBox(children=(IntProgress(value=0, max=126), HTML(value='')))"
      ]
     },
     "metadata": {},
     "output_type": "display_data"
    },
    {
     "name": "stdout",
     "output_type": "stream",
     "text": [
      "\n",
      "SALLFFGAAAAYRRN\n",
      "SALFLGVAYGATRYN\n"
     ]
    },
    {
     "data": {
      "application/vnd.jupyter.widget-view+json": {
       "model_id": "4c377b4a436a499a85c7a9c9743fc100",
       "version_major": 2,
       "version_minor": 0
      },
      "text/plain": [
       "HBox(children=(IntProgress(value=0, max=126), HTML(value='')))"
      ]
     },
     "metadata": {},
     "output_type": "display_data"
    },
    {
     "name": "stdout",
     "output_type": "stream",
     "text": [
      "\n",
      "KVVTQQGGDNKLVTT\n",
      "KTVVQLEGDNKLVTT\n"
     ]
    },
    {
     "data": {
      "application/vnd.jupyter.widget-view+json": {
       "model_id": "f44a39f690224fb58236fc92e5af466b",
       "version_major": 2,
       "version_minor": 0
      },
      "text/plain": [
       "HBox(children=(IntProgress(value=0, max=126), HTML(value='')))"
      ]
     },
     "metadata": {},
     "output_type": "display_data"
    },
    {
     "name": "stdout",
     "output_type": "stream",
     "text": [
      "\n",
      "VSIKDNQKDRFFTVT\n",
      "VSIKDNQKDRTFTVT\n"
     ]
    },
    {
     "data": {
      "application/vnd.jupyter.widget-view+json": {
       "model_id": "7a966870e14e44bb812e86fc260247b9",
       "version_major": 2,
       "version_minor": 0
      },
      "text/plain": [
       "HBox(children=(IntProgress(value=0, max=127), HTML(value='')))"
      ]
     },
     "metadata": {},
     "output_type": "display_data"
    },
    {
     "name": "stdout",
     "output_type": "stream",
     "text": [
      "\n",
      "SSLPASSGLRSSGGMS\n",
      "PSLPAGSGLKRSSGMS\n"
     ]
    },
    {
     "data": {
      "application/vnd.jupyter.widget-view+json": {
       "model_id": "1807dfea6db04980bdb5793a679fa461",
       "version_major": 2,
       "version_minor": 0
      },
      "text/plain": [
       "HBox(children=(IntProgress(value=0, max=128), HTML(value='')))"
      ]
     },
     "metadata": {},
     "output_type": "display_data"
    },
    {
     "name": "stdout",
     "output_type": "stream",
     "text": [
      "\n",
      "LVIAGILFILGIILLVS\n",
      "LVIAGILFILGILIVLS\n"
     ]
    },
    {
     "data": {
      "application/vnd.jupyter.widget-view+json": {
       "model_id": "7ed75bb1f1a641dba33d77614e933b4a",
       "version_major": 2,
       "version_minor": 0
      },
      "text/plain": [
       "HBox(children=(IntProgress(value=0, max=129), HTML(value='')))"
      ]
     },
     "metadata": {},
     "output_type": "display_data"
    },
    {
     "name": "stdout",
     "output_type": "stream",
     "text": [
      "\n",
      "WCCLSDPSIPGRCCVLER\n",
      "WCCLSDPSIPGRCCVLER\n"
     ]
    },
    {
     "data": {
      "application/vnd.jupyter.widget-view+json": {
       "model_id": "c120d89ab3364c8e8a7226922eab7b2f",
       "version_major": 2,
       "version_minor": 0
      },
      "text/plain": [
       "HBox(children=(IntProgress(value=0, max=130), HTML(value='')))"
      ]
     },
     "metadata": {},
     "output_type": "display_data"
    },
    {
     "name": "stdout",
     "output_type": "stream",
     "text": [
      "\n",
      "SDLGPCEKIDEELNRKQYE\n",
      "SDLGPCEKIHDENLRKQYE\n"
     ]
    },
    {
     "data": {
      "application/vnd.jupyter.widget-view+json": {
       "model_id": "759f048aa09144d887ec83d1d5fbba3e",
       "version_major": 2,
       "version_minor": 0
      },
      "text/plain": [
       "HBox(children=(IntProgress(value=0, max=131), HTML(value='')))"
      ]
     },
     "metadata": {},
     "output_type": "display_data"
    },
    {
     "name": "stdout",
     "output_type": "stream",
     "text": [
      "\n",
      "YCGRLYGLGTVVAAKQNEDV\n",
      "YCGRLYGLGTGVAQKQNEDV\n"
     ]
    },
    {
     "data": {
      "application/vnd.jupyter.widget-view+json": {
       "model_id": "39dae934ce7e40cc9faf6006775b414b",
       "version_major": 2,
       "version_minor": 0
      },
      "text/plain": [
       "HBox(children=(IntProgress(value=0, max=132), HTML(value='')))"
      ]
     },
     "metadata": {},
     "output_type": "display_data"
    },
    {
     "name": "stdout",
     "output_type": "stream",
     "text": [
      "\n",
      "VTDFVLLGFTQNNEEQKVLFV\n",
      "VTDFVLLGFTQNPKEQKVLFV\n"
     ]
    },
    {
     "data": {
      "application/vnd.jupyter.widget-view+json": {
       "model_id": "afdf1577616e473eb565a6b08b0d512b",
       "version_major": 2,
       "version_minor": 0
      },
      "text/plain": [
       "HBox(children=(IntProgress(value=0, max=133), HTML(value='')))"
      ]
     },
     "metadata": {},
     "output_type": "display_data"
    },
    {
     "name": "stdout",
     "output_type": "stream",
     "text": [
      "\n",
      "SETESPRLFSSHLPIQLFPKSF\n",
      "SETESPRLFSSHLPIQLFPKSF\n"
     ]
    },
    {
     "data": {
      "application/vnd.jupyter.widget-view+json": {
       "model_id": "46199bea311f4eb9955007324d2a9b8f",
       "version_major": 2,
       "version_minor": 0
      },
      "text/plain": [
       "HBox(children=(IntProgress(value=0, max=134), HTML(value='')))"
      ]
     },
     "metadata": {},
     "output_type": "display_data"
    },
    {
     "name": "stdout",
     "output_type": "stream",
     "text": [
      "\n",
      "PKKSKARILEEITVSSLMATPQD\n",
      "PKKSKARILESITVSSLMATPQD\n"
     ]
    },
    {
     "data": {
      "application/vnd.jupyter.widget-view+json": {
       "model_id": "483d92eb030542189779bafdf19057e8",
       "version_major": 2,
       "version_minor": 0
      },
      "text/plain": [
       "HBox(children=(IntProgress(value=0, max=135), HTML(value='')))"
      ]
     },
     "metadata": {},
     "output_type": "display_data"
    },
    {
     "name": "stdout",
     "output_type": "stream",
     "text": [
      "\n",
      "KPDEKLDAQVRAAVMMYYEDWVIV\n",
      "PKDEKLDAQVRAAVEMYIEDWVIV\n"
     ]
    },
    {
     "data": {
      "application/vnd.jupyter.widget-view+json": {
       "model_id": "bc323ae2a80b4cac9429a8a943ad8a44",
       "version_major": 2,
       "version_minor": 0
      },
      "text/plain": [
       "HBox(children=(IntProgress(value=0, max=137), HTML(value='')))"
      ]
     },
     "metadata": {},
     "output_type": "display_data"
    },
    {
     "name": "stdout",
     "output_type": "stream",
     "text": [
      "\n",
      "LVTILLLLRLVAIAGNGFITAALGV\n",
      "LVTILLLLRLVAIAGNGFITAALGV\n"
     ]
    },
    {
     "data": {
      "application/vnd.jupyter.widget-view+json": {
       "model_id": "cec8b6fceaf049ae8b4555e648e1f58d",
       "version_major": 2,
       "version_minor": 0
      },
      "text/plain": [
       "HBox(children=(IntProgress(value=0, max=138), HTML(value='')))"
      ]
     },
     "metadata": {},
     "output_type": "display_data"
    },
    {
     "name": "stdout",
     "output_type": "stream",
     "text": [
      "\n",
      "HPGTRSVSASSGPCSPAAPHPPPPPR\n",
      "HPGTRSVSASSGPCSPAAPHPPPPPR\n"
     ]
    },
    {
     "data": {
      "application/vnd.jupyter.widget-view+json": {
       "model_id": "9d851a6044e749248a5469ce14ef1d9f",
       "version_major": 2,
       "version_minor": 0
      },
      "text/plain": [
       "HBox(children=(IntProgress(value=0, max=139), HTML(value='')))"
      ]
     },
     "metadata": {},
     "output_type": "display_data"
    },
    {
     "name": "stdout",
     "output_type": "stream",
     "text": [
      "\n",
      "MDLGPMRKSYRGDREAFEETHLTSLDP\n",
      "MDLGPMRKSYRGDREAFEETHLTSLDP\n"
     ]
    },
    {
     "data": {
      "application/vnd.jupyter.widget-view+json": {
       "model_id": "d1f7ec6aeaa44ab2806f612dabf66ed2",
       "version_major": 2,
       "version_minor": 0
      },
      "text/plain": [
       "HBox(children=(IntProgress(value=0, max=140), HTML(value='')))"
      ]
     },
     "metadata": {},
     "output_type": "display_data"
    },
    {
     "name": "stdout",
     "output_type": "stream",
     "text": [
      "\n",
      "GPIDNSRIAQVKGSGHQQLKQGADYGQI\n",
      "GPIDNSRIAQVKGSGHVQLKQGADYGQI\n"
     ]
    },
    {
     "data": {
      "application/vnd.jupyter.widget-view+json": {
       "model_id": "4b86cacc23434319b3ba6b9c3e30c372",
       "version_major": 2,
       "version_minor": 0
      },
      "text/plain": [
       "HBox(children=(IntProgress(value=0, max=141), HTML(value='')))"
      ]
     },
     "metadata": {},
     "output_type": "display_data"
    },
    {
     "name": "stdout",
     "output_type": "stream",
     "text": [
      "\n",
      "RQIAIAAMVANFTKPTADAPSLLQHDEVE\n",
      "RQIAIAAMVANFTKPTADAPSLLQHDEVE\n"
     ]
    },
    {
     "data": {
      "application/vnd.jupyter.widget-view+json": {
       "model_id": "f3ff1285b92d4f1184cdf606fa83d0e0",
       "version_major": 2,
       "version_minor": 0
      },
      "text/plain": [
       "HBox(children=(IntProgress(value=0, max=143), HTML(value='')))"
      ]
     },
     "metadata": {},
     "output_type": "display_data"
    },
    {
     "name": "stdout",
     "output_type": "stream",
     "text": [
      "\n",
      "RDRERERERDREREEEKKRHSYFEPPKVDD\n",
      "RDRERERERDREREEEKKRHSYFEKPKVDD\n"
     ]
    },
    {
     "data": {
      "application/vnd.jupyter.widget-view+json": {
       "model_id": "942bda1290d5444795ca24ceed76b0a1",
       "version_major": 2,
       "version_minor": 0
      },
      "text/plain": [
       "HBox(children=(IntProgress(value=0, max=144), HTML(value='')))"
      ]
     },
     "metadata": {},
     "output_type": "display_data"
    },
    {
     "name": "stdout",
     "output_type": "stream",
     "text": [
      "\n",
      "TQVTETLGMTHCCINPIIYAFVGEKFRSLFH\n",
      "TQVTETLGMTHCCINPIIYAFVGEKFRSLFH\n"
     ]
    },
    {
     "data": {
      "application/vnd.jupyter.widget-view+json": {
       "model_id": "15d1078a6a244b4fbe49b0f1914cf3cf",
       "version_major": 2,
       "version_minor": 0
      },
      "text/plain": [
       "HBox(children=(IntProgress(value=0, max=145), HTML(value='')))"
      ]
     },
     "metadata": {},
     "output_type": "display_data"
    },
    {
     "name": "stdout",
     "output_type": "stream",
     "text": [
      "\n",
      "YSFDHLYNNNDIIHTPQIRKARQPKPVSKKFL\n",
      "YSFDHLYNTNDIIHTPQIRKARPQKPVSFKFL\n"
     ]
    },
    {
     "data": {
      "application/vnd.jupyter.widget-view+json": {
       "model_id": "669d2a3e966d4dc1951088e187000bcf",
       "version_major": 2,
       "version_minor": 0
      },
      "text/plain": [
       "HBox(children=(IntProgress(value=0, max=146), HTML(value='')))"
      ]
     },
     "metadata": {},
     "output_type": "display_data"
    },
    {
     "name": "stdout",
     "output_type": "stream",
     "text": [
      "\n",
      "KKRLETIVQLERELRELTNERERLLRARGEADR\n",
      "KRKLETIVQLERELERLTNERERLLRARGEADR\n"
     ]
    },
    {
     "data": {
      "application/vnd.jupyter.widget-view+json": {
       "model_id": "5e0c0688e605459fb6300b9d6ef61be2",
       "version_major": 2,
       "version_minor": 0
      },
      "text/plain": [
       "HBox(children=(IntProgress(value=0, max=148), HTML(value='')))"
      ]
     },
     "metadata": {},
     "output_type": "display_data"
    },
    {
     "name": "stdout",
     "output_type": "stream",
     "text": [
      "\n",
      "SPRLPRPPTVEEHHVSTIGMDDVCQLNQYTLKDE\n",
      "SPRLPRRPTVESHHVSITGMQDCVQLNQYTLKDE\n"
     ]
    },
    {
     "data": {
      "application/vnd.jupyter.widget-view+json": {
       "model_id": "1b66ee5bfc1c4d7e8a45d6f405bfe1ad",
       "version_major": 2,
       "version_minor": 0
      },
      "text/plain": [
       "HBox(children=(IntProgress(value=0, max=149), HTML(value='')))"
      ]
     },
     "metadata": {},
     "output_type": "display_data"
    },
    {
     "name": "stdout",
     "output_type": "stream",
     "text": [
      "\n",
      "CTPSKKSLVATGNLLDLETTAKAPLSTVSANTNNM\n",
      "CTPSLKSLVATGNLLDLEETAKAPLSTVSANTTNM\n"
     ]
    },
    {
     "data": {
      "application/vnd.jupyter.widget-view+json": {
       "model_id": "c6a3e5d7733e4497b31317c12b667db0",
       "version_major": 2,
       "version_minor": 0
      },
      "text/plain": [
       "HBox(children=(IntProgress(value=0, max=151), HTML(value='')))"
      ]
     },
     "metadata": {},
     "output_type": "display_data"
    },
    {
     "name": "stdout",
     "output_type": "stream",
     "text": [
      "\n",
      "TEEEIEMMKMMGFAFSDSTKGKKVDGSVNAYAINVS\n",
      "TEEEIEMMKLMGFASFDSTKGKKVDGSVNAYAINVS\n"
     ]
    },
    {
     "data": {
      "application/vnd.jupyter.widget-view+json": {
       "model_id": "9d49ab144a684930a60dc9fd43165f2b",
       "version_major": 2,
       "version_minor": 0
      },
      "text/plain": [
       "HBox(children=(IntProgress(value=0, max=152), HTML(value='')))"
      ]
     },
     "metadata": {},
     "output_type": "display_data"
    },
    {
     "name": "stdout",
     "output_type": "stream",
     "text": [
      "\n",
      "RFPPSTPSEVLSPTEDRRSPPACSSSSSSLFSAVVAR\n",
      "RFPPSTPSEVLSPTEDPRSPPACSSSSSSLFSAVVAR\n"
     ]
    },
    {
     "data": {
      "application/vnd.jupyter.widget-view+json": {
       "model_id": "39a89ac436b94d65a8b7bbdeecdcbeb2",
       "version_major": 2,
       "version_minor": 0
      },
      "text/plain": [
       "HBox(children=(IntProgress(value=0, max=153), HTML(value='')))"
      ]
     },
     "metadata": {},
     "output_type": "display_data"
    },
    {
     "name": "stdout",
     "output_type": "stream",
     "text": [
      "\n",
      "PPCPRLSRELLDEKGEEVLLQDSLRCDTSPSGCLELTD\n",
      "PPCPRLSRELLDEKGPEVLQDSLDRCYSTPSGCLELTD\n"
     ]
    },
    {
     "data": {
      "application/vnd.jupyter.widget-view+json": {
       "model_id": "44826f43af2947caab528e81ffe2c3aa",
       "version_major": 2,
       "version_minor": 0
      },
      "text/plain": [
       "HBox(children=(IntProgress(value=0, max=155), HTML(value='')))"
      ]
     },
     "metadata": {},
     "output_type": "display_data"
    },
    {
     "name": "stdout",
     "output_type": "stream",
     "text": [
      "\n",
      "RSFHKTCFHCMAKRKALDSTVVAAHSSEIYCKVCYGRRY\n",
      "RSFHKTCFHCMACRKALDSTTVAAHESEIYCKVCYGRRY\n"
     ]
    },
    {
     "data": {
      "application/vnd.jupyter.widget-view+json": {
       "model_id": "3828e150d24e438fa1455a6f79676288",
       "version_major": 2,
       "version_minor": 0
      },
      "text/plain": [
       "HBox(children=(IntProgress(value=0, max=156), HTML(value='')))"
      ]
     },
     "metadata": {},
     "output_type": "display_data"
    },
    {
     "name": "stdout",
     "output_type": "stream",
     "text": [
      "\n",
      "ENSNPEQDLKLTEEESEQRKLSSEGGQPEKRSQEPEINKD\n",
      "ENSNPEQDLKLTSEEESQRLKGSENGQPEKRSQEPEINKD\n"
     ]
    },
    {
     "data": {
      "application/vnd.jupyter.widget-view+json": {
       "model_id": "0706514db7694aff8ba1b9057d17eb02",
       "version_major": 2,
       "version_minor": 0
      },
      "text/plain": [
       "HBox(children=(IntProgress(value=0, max=156), HTML(value='')))"
      ]
     },
     "metadata": {},
     "output_type": "display_data"
    },
    {
     "name": "stdout",
     "output_type": "stream",
     "text": [
      "\n",
      "KCQECGKAFSHCSSLTKHRRVHTGEKPYECSECGKTFSQS\n",
      "KCQECGKAFSHCSSLTKHQRVHTGEKPYECSECGKTFSQS\n"
     ]
    },
    {
     "data": {
      "application/vnd.jupyter.widget-view+json": {
       "model_id": "6dd51955fdd1407c9879a418bf5ec85b",
       "version_major": 2,
       "version_minor": 0
      },
      "text/plain": [
       "HBox(children=(IntProgress(value=0, max=158), HTML(value='')))"
      ]
     },
     "metadata": {},
     "output_type": "display_data"
    },
    {
     "name": "stdout",
     "output_type": "stream",
     "text": [
      "\n",
      "DFLTGVLDNLVEQNVLNWKEEEKKKYYDAKTEDKVRVMADS\n",
      "DFLTGVLDNLVEQNVLNWKEEEKKKYYDAKTEDKVRVMADS\n"
     ]
    },
    {
     "data": {
      "application/vnd.jupyter.widget-view+json": {
       "model_id": "e5bf52accb61444998c122833b90435a",
       "version_major": 2,
       "version_minor": 0
      },
      "text/plain": [
       "HBox(children=(IntProgress(value=0, max=158), HTML(value='')))"
      ]
     },
     "metadata": {},
     "output_type": "display_data"
    },
    {
     "name": "stdout",
     "output_type": "stream",
     "text": [
      "\n",
      "LIAGMKDVTEAQIGTTLCLHKQPVEPLPGFKSAKPMVFAGM\n",
      "LIAGMKDVTEAQIGDTLCLHKQPVEPLPGFKSAKPMVFAGM\n"
     ]
    },
    {
     "data": {
      "application/vnd.jupyter.widget-view+json": {
       "model_id": "fbea79c1c28f48c68395dd0e38f55d0b",
       "version_major": 2,
       "version_minor": 0
      },
      "text/plain": [
       "HBox(children=(IntProgress(value=0, max=160), HTML(value='')))"
      ]
     },
     "metadata": {},
     "output_type": "display_data"
    },
    {
     "name": "stdout",
     "output_type": "stream",
     "text": [
      "\n",
      "LGNVARGINIAIVNYVTGNVTATRCFDMYEDGGSPPMTKFIQ\n",
      "LGNVARGINIAIVNYVTGNVTATRCFDMYEGDNSGPMTKFIQ\n"
     ]
    },
    {
     "data": {
      "application/vnd.jupyter.widget-view+json": {
       "model_id": "c8c038ee6b844168a8d511a0120d12b4",
       "version_major": 2,
       "version_minor": 0
      },
      "text/plain": [
       "HBox(children=(IntProgress(value=0, max=160), HTML(value='')))"
      ]
     },
     "metadata": {},
     "output_type": "display_data"
    },
    {
     "name": "stdout",
     "output_type": "stream",
     "text": [
      "\n",
      "ELEEVFDLRMMVANILNNAEFMNQETTKAFHVRRTNRVKECL\n",
      "ELLEVFDLRMMVANILNNEAFMNQEITKAFHVRRTNRVKECL\n"
     ]
    },
    {
     "data": {
      "application/vnd.jupyter.widget-view+json": {
       "model_id": "d25043f72c9e49b8b049b6ad608c9f8b",
       "version_major": 2,
       "version_minor": 0
      },
      "text/plain": [
       "HBox(children=(IntProgress(value=0, max=161), HTML(value='')))"
      ]
     },
     "metadata": {},
     "output_type": "display_data"
    },
    {
     "name": "stdout",
     "output_type": "stream",
     "text": [
      "\n",
      "SSASRNMHFLTIKDNTLRATPVIKPIILLPLRTMSLEDSLSSG\n",
      "SSASNRHMLFTIKDNTLRATPVIKPIMLPLLRTMSLEDSLSSG\n"
     ]
    },
    {
     "data": {
      "application/vnd.jupyter.widget-view+json": {
       "model_id": "78f04ac8923449b79b1558f8c7664fe5",
       "version_major": 2,
       "version_minor": 0
      },
      "text/plain": [
       "HBox(children=(IntProgress(value=0, max=161), HTML(value='')))"
      ]
     },
     "metadata": {},
     "output_type": "display_data"
    },
    {
     "name": "stdout",
     "output_type": "stream",
     "text": [
      "\n",
      "EDRPKQCWENIATILEAKCALKYLIGELVSSKIHVTKLENSLR\n",
      "EDRPKQCWENIATILEAKCALKYLIGELVSSKIHVTKLENSLR\n"
     ]
    },
    {
     "data": {
      "application/vnd.jupyter.widget-view+json": {
       "model_id": "5e4a43c62caa44f3b546e5d3931b5eac",
       "version_major": 2,
       "version_minor": 0
      },
      "text/plain": [
       "HBox(children=(IntProgress(value=0, max=163), HTML(value='')))"
      ]
     },
     "metadata": {},
     "output_type": "display_data"
    },
    {
     "name": "stdout",
     "output_type": "stream",
     "text": [
      "\n",
      "FPLLKFFPASADRTVIDYNGRETLDDFKKFLEGGGQQAAGDDDD\n",
      "FPTLKFFPASADRTVIDYNGERTLDGFKKFLESGGQDGAGDDDD\n"
     ]
    },
    {
     "data": {
      "application/vnd.jupyter.widget-view+json": {
       "model_id": "bdd381979dcc4775b6f0ee31450b90d7",
       "version_major": 2,
       "version_minor": 0
      },
      "text/plain": [
       "HBox(children=(IntProgress(value=0, max=163), HTML(value='')))"
      ]
     },
     "metadata": {},
     "output_type": "display_data"
    },
    {
     "name": "stdout",
     "output_type": "stream",
     "text": [
      "\n",
      "TTHKKIHTHEKPYKECECGKAFKRSSLLTHHKRIHTGEKPYKCE\n",
      "TTHKKIHTGEKPYKCEECGKAFKRSSILTTHKRIHTGEKPYKCE\n"
     ]
    },
    {
     "data": {
      "application/vnd.jupyter.widget-view+json": {
       "model_id": "fb6b675d579c4f3990ac4c60229ab718",
       "version_major": 2,
       "version_minor": 0
      },
      "text/plain": [
       "HBox(children=(IntProgress(value=0, max=163), HTML(value='')))"
      ]
     },
     "metadata": {},
     "output_type": "display_data"
    },
    {
     "name": "stdout",
     "output_type": "stream",
     "text": [
      "\n",
      "KRLVLRRDPVVRKCTLGGSSSLLVPLLTCTQRQRRCRGQRWTVQ\n",
      "KRLVLRRDPSVKRTLCRGCSSLLVPGLTCTQRQRRCRGQRWTVQ\n"
     ]
    },
    {
     "data": {
      "application/vnd.jupyter.widget-view+json": {
       "model_id": "fa042316c6dc419cb2a9758edf2b5938",
       "version_major": 2,
       "version_minor": 0
      },
      "text/plain": [
       "HBox(children=(IntProgress(value=0, max=163), HTML(value='')))"
      ]
     },
     "metadata": {},
     "output_type": "display_data"
    },
    {
     "name": "stdout",
     "output_type": "stream",
     "text": [
      "\n",
      "WKTQLTEHQRIHTGEKPFECNVCGKAFRHSSSLGQHENAHTGEK\n",
      "WKTQLTEHQRIHTGEKPFECNVCGKAFRHSSSLGQHENAHTGEK\n"
     ]
    },
    {
     "data": {
      "application/vnd.jupyter.widget-view+json": {
       "model_id": "a345e95aba0642979b23c58dd8a3bf81",
       "version_major": 2,
       "version_minor": 0
      },
      "text/plain": [
       "HBox(children=(IntProgress(value=0, max=164), HTML(value='')))"
      ]
     },
     "metadata": {},
     "output_type": "display_data"
    },
    {
     "name": "stdout",
     "output_type": "stream",
     "text": [
      "\n",
      "HFLTQTGVVPPQGGTHRPPAPRIADASALATKGSQEAAMQQVNSY\n",
      "HFLTQTGHVPPQGGTHRPPAPARIADSCALTSGKQESAMSQVNSY\n"
     ]
    },
    {
     "data": {
      "application/vnd.jupyter.widget-view+json": {
       "model_id": "a3e3e4d532f043abbed7c42507bd718c",
       "version_major": 2,
       "version_minor": 0
      },
      "text/plain": [
       "HBox(children=(IntProgress(value=0, max=164), HTML(value='')))"
      ]
     },
     "metadata": {},
     "output_type": "display_data"
    },
    {
     "name": "stdout",
     "output_type": "stream",
     "text": [
      "\n",
      "GVHWGYEETRTLLAILSQTEFYEALRRCRRNQQYVGAVAERLREY\n",
      "GVHWGYEETRTLLAILSQTEFYEALRNCHRNSQVYGAVAERLREY\n"
     ]
    },
    {
     "data": {
      "application/vnd.jupyter.widget-view+json": {
       "model_id": "7751ebd2e6c34f65bd09cc028bbf04a7",
       "version_major": 2,
       "version_minor": 0
      },
      "text/plain": [
       "HBox(children=(IntProgress(value=0, max=164), HTML(value='')))"
      ]
     },
     "metadata": {},
     "output_type": "display_data"
    },
    {
     "name": "stdout",
     "output_type": "stream",
     "text": [
      "\n",
      "TAIAAKMSGASRILADDIDPIAGMATILNCELNRLNPFPILIQNI\n",
      "TAIAAKMSGASRILANDIDPIAGMAITLNCELNRLNPFPILIQNI\n"
     ]
    },
    {
     "data": {
      "application/vnd.jupyter.widget-view+json": {
       "model_id": "57a4dac00d4a47d294cd0c50dcffb270",
       "version_major": 2,
       "version_minor": 0
      },
      "text/plain": [
       "HBox(children=(IntProgress(value=0, max=166), HTML(value='')))"
      ]
     },
     "metadata": {},
     "output_type": "display_data"
    },
    {
     "name": "stdout",
     "output_type": "stream",
     "text": [
      "\n",
      "PSEPEIDLEALMDLSDEETKQQLEAILGNCPPRTAEEEEELLSQLK\n",
      "PSEPEIDLEALMDLSTEEQKTQLEAILGNCPRPTEAFISELLSQLK\n"
     ]
    },
    {
     "data": {
      "application/vnd.jupyter.widget-view+json": {
       "model_id": "2edb4531d36445e0a0cbdc20b8704995",
       "version_major": 2,
       "version_minor": 0
      },
      "text/plain": [
       "HBox(children=(IntProgress(value=0, max=166), HTML(value='')))"
      ]
     },
     "metadata": {},
     "output_type": "display_data"
    },
    {
     "name": "stdout",
     "output_type": "stream",
     "text": [
      "\n",
      "LHKARAQLLAKGRRHRPSRSRLRDSASSAEEGEGDSGPGKKVTDGC\n",
      "LHKARAQLLAKGRRHRPSRSRLRDSASSAEDGEGSDGPGGKVTDGC\n"
     ]
    },
    {
     "data": {
      "application/vnd.jupyter.widget-view+json": {
       "model_id": "07d9b61d47e04a5cb795b944d8e260ae",
       "version_major": 2,
       "version_minor": 0
      },
      "text/plain": [
       "HBox(children=(IntProgress(value=0, max=166), HTML(value='')))"
      ]
     },
     "metadata": {},
     "output_type": "display_data"
    },
    {
     "name": "stdout",
     "output_type": "stream",
     "text": [
      "\n",
      "FPMASPGGLELKTSSNGPQAPRRSAPGLPVPPTREVVENAFFSSEE\n",
      "FPMASPPGLELKTLSNGPQAPRRSAPLGPVAPTREGVENACFSSEE\n"
     ]
    },
    {
     "data": {
      "application/vnd.jupyter.widget-view+json": {
       "model_id": "032f55c55fe44090a2df8a2e351c4b67",
       "version_major": 2,
       "version_minor": 0
      },
      "text/plain": [
       "HBox(children=(IntProgress(value=0, max=168), HTML(value='')))"
      ]
     },
     "metadata": {},
     "output_type": "display_data"
    },
    {
     "name": "stdout",
     "output_type": "stream",
     "text": [
      "\n",
      "SDIDDVFLPTPDSLVLNLYESKELKIDLLLANNMNFTTNRETHSALG\n",
      "SDIDDVFLPTPDSLLVNLYESKELIKDLLNALPNMFTNTRETHSALG\n"
     ]
    },
    {
     "data": {
      "application/vnd.jupyter.widget-view+json": {
       "model_id": "4fff080bcdc443d8b178ebf3154cc92c",
       "version_major": 2,
       "version_minor": 0
      },
      "text/plain": [
       "HBox(children=(IntProgress(value=0, max=168), HTML(value='')))"
      ]
     },
     "metadata": {},
     "output_type": "display_data"
    },
    {
     "name": "stdout",
     "output_type": "stream",
     "text": [
      "\n",
      "EFLEKTKSSGWIKLPSKFSNRDHIRGLLLPSGLAVSSDKGDCRIFTR\n",
      "EFLEKTKSSGWIKLPSFKSNRDHIRGLKLPSGLAVSSDKGDCRIFTR\n"
     ]
    },
    {
     "data": {
      "application/vnd.jupyter.widget-view+json": {
       "model_id": "48e6db4d4a9e4a94a34de85ce64a9f57",
       "version_major": 2,
       "version_minor": 0
      },
      "text/plain": [
       "HBox(children=(IntProgress(value=0, max=170), HTML(value='')))"
      ]
     },
     "metadata": {},
     "output_type": "display_data"
    },
    {
     "name": "stdout",
     "output_type": "stream",
     "text": [
      "\n",
      "YGKASHSASYPWEGLNALDAAVLYYNNSSVFRQQMKPTWRVHIIIKNG\n",
      "YGKASHSASYPWEGLNALDAAVLAYNNLSVFRQQMKPTWRVHGIIKNG\n"
     ]
    },
    {
     "data": {
      "application/vnd.jupyter.widget-view+json": {
       "model_id": "f0a5e40df82c4f5895624ba75cf1c18b",
       "version_major": 2,
       "version_minor": 0
      },
      "text/plain": [
       "HBox(children=(IntProgress(value=0, max=170), HTML(value='')))"
      ]
     },
     "metadata": {},
     "output_type": "display_data"
    },
    {
     "name": "stdout",
     "output_type": "stream",
     "text": [
      "\n",
      "LFFRTQQAAIKGQNPNATFGEVSKAVVWWWDSGLEEQQQVYKRKTEAA\n",
      "LFFRDTQAAIKGQNPNATFGEVSKIVASMWDSLGEEQKQVYKRKTEAA\n"
     ]
    },
    {
     "data": {
      "application/vnd.jupyter.widget-view+json": {
       "model_id": "a317fdf5031f4e3b9a803e8a1e4b0af0",
       "version_major": 2,
       "version_minor": 0
      },
      "text/plain": [
       "HBox(children=(IntProgress(value=0, max=172), HTML(value='')))"
      ]
     },
     "metadata": {},
     "output_type": "display_data"
    },
    {
     "name": "stdout",
     "output_type": "stream",
     "text": [
      "\n",
      "NTEPLEDTVLSPKTTRKRGGTTEMMEPEEGVTVESQPQVKVEPLEEAIP\n",
      "NTEPLEDTVLSPTKKRKRQKGTEGMEPEEGVTVESQPQVKVEPLEEAIP\n"
     ]
    },
    {
     "data": {
      "application/vnd.jupyter.widget-view+json": {
       "model_id": "d5a8df2ef06f4a74a19286cf08f106b1",
       "version_major": 2,
       "version_minor": 0
      },
      "text/plain": [
       "HBox(children=(IntProgress(value=0, max=172), HTML(value='')))"
      ]
     },
     "metadata": {},
     "output_type": "display_data"
    },
    {
     "name": "stdout",
     "output_type": "stream",
     "text": [
      "\n",
      "LSRLKDRDPEFYKFLQENDQSLLNFSSSDSSEEEEGPFHSLPDVLEEAS\n",
      "LSRLKDRDPEFYKFLQENDQSLLNFSDSDSSEEEEGPFHSLPDVLEEAS\n"
     ]
    },
    {
     "data": {
      "application/vnd.jupyter.widget-view+json": {
       "model_id": "1d6c8d8eb1b144d5aa03e114e9b14bbe",
       "version_major": 2,
       "version_minor": 0
      },
      "text/plain": [
       "HBox(children=(IntProgress(value=0, max=173), HTML(value='')))"
      ]
     },
     "metadata": {},
     "output_type": "display_data"
    },
    {
     "name": "stdout",
     "output_type": "stream",
     "text": [
      "\n",
      "MKEAKKVVIIEPPASVPSKQGSRSDKKKSTRKSPTFRNRPDFRKNKGRQL\n",
      "MKEAKKVVIIEPPASVPSKQSGRSDKKKSTRKSPTFRNRPDFRKNKGRQL\n"
     ]
    },
    {
     "data": {
      "application/vnd.jupyter.widget-view+json": {
       "model_id": "d750e9c401634efbb3a74b714efd0e48",
       "version_major": 2,
       "version_minor": 0
      },
      "text/plain": [
       "HBox(children=(IntProgress(value=0, max=173), HTML(value='')))"
      ]
     },
     "metadata": {},
     "output_type": "display_data"
    },
    {
     "name": "stdout",
     "output_type": "stream",
     "text": [
      "\n",
      "KPTLWAEPGVVITSGSPVTLRCQGGGEQQYEELRREKTKKLWTIRPQQEL\n",
      "KPTLWAEPGSVITQGSPVTLRCQGGQETQEYRLYREKKTALWITRIPQEL\n"
     ]
    },
    {
     "data": {
      "application/vnd.jupyter.widget-view+json": {
       "model_id": "b013e11cfd3642a4982b5917fad608ab",
       "version_major": 2,
       "version_minor": 0
      },
      "text/plain": [
       "HBox(children=(IntProgress(value=0, max=175), HTML(value='')))"
      ]
     },
     "metadata": {},
     "output_type": "display_data"
    },
    {
     "name": "stdout",
     "output_type": "stream",
     "text": [
      "\n",
      "RFQRLSSTSSSGQQFDEEELGCCPWLTAIFRLHDDQILWECGEDAIHYLSF\n",
      "RFQRLSSTSSSGQQDFENELGCCPWLTAIFRLHDDQILEWCGEDAIHYLSF\n"
     ]
    },
    {
     "data": {
      "application/vnd.jupyter.widget-view+json": {
       "model_id": "8338bdf2efd94c34aa221f42fae32b70",
       "version_major": 2,
       "version_minor": 0
      },
      "text/plain": [
       "HBox(children=(IntProgress(value=0, max=175), HTML(value='')))"
      ]
     },
     "metadata": {},
     "output_type": "display_data"
    },
    {
     "name": "stdout",
     "output_type": "stream",
     "text": [
      "\n",
      "FSDVVFYLTLIVGLGPPVGNGLVLWNLGFFIKGGPFSIYLLHLAAADFLFL\n",
      "FDSVVFYLTLIVGLGGPVGNGLVLWNLGFRIKKGPFSIYLLHLAAADFLFL\n"
     ]
    },
    {
     "data": {
      "application/vnd.jupyter.widget-view+json": {
       "model_id": "d19ae4b3208f47979b23c0626768cd29",
       "version_major": 2,
       "version_minor": 0
      },
      "text/plain": [
       "HBox(children=(IntProgress(value=0, max=177), HTML(value='')))"
      ]
     },
     "metadata": {},
     "output_type": "display_data"
    },
    {
     "name": "stdout",
     "output_type": "stream",
     "text": [
      "\n",
      "LAMLSDFSHMLSVVLALVAVLAAEFFARRTHAQQKNTFGWIRAEVMGALVNA\n",
      "LAMLSDSFHMLSDVLALVVALVAERFARRTHATQKNTFGWIRAEVMGALVNA\n"
     ]
    },
    {
     "data": {
      "application/vnd.jupyter.widget-view+json": {
       "model_id": "c1ad5dc982034529b107ac3f263f716c",
       "version_major": 2,
       "version_minor": 0
      },
      "text/plain": [
       "HBox(children=(IntProgress(value=0, max=177), HTML(value='')))"
      ]
     },
     "metadata": {},
     "output_type": "display_data"
    },
    {
     "name": "stdout",
     "output_type": "stream",
     "text": [
      "\n",
      "QAIQLSIEQAQVVAEQVEMKAKVVSQEKVVVYTRHKKALEERECELLWKVEI\n",
      "QAIQLSIEQAQTVAEQVEMKAKVVQSEVKAVTARHKKALEERECELLWKVEK\n"
     ]
    },
    {
     "data": {
      "application/vnd.jupyter.widget-view+json": {
       "model_id": "0edba159775e4e85b8d986bedf95ee12",
       "version_major": 2,
       "version_minor": 0
      },
      "text/plain": [
       "HBox(children=(IntProgress(value=0, max=179), HTML(value='')))"
      ]
     },
     "metadata": {},
     "output_type": "display_data"
    },
    {
     "name": "stdout",
     "output_type": "stream",
     "text": [
      "\n",
      "SAVLILRSSSTAVFRRFPTIDHVVEAGFMTRERRKKFENNLSSYNKYWVPCVW\n",
      "SAVLILRSVSTAVFKRFPTIDHVVEAGFMTREERKKFENLNSSYNKYWVPCVW\n"
     ]
    },
    {
     "data": {
      "application/vnd.jupyter.widget-view+json": {
       "model_id": "0ce02ee33ce845c3bb601892bb0180c6",
       "version_major": 2,
       "version_minor": 0
      },
      "text/plain": [
       "HBox(children=(IntProgress(value=0, max=179), HTML(value='')))"
      ]
     },
     "metadata": {},
     "output_type": "display_data"
    },
    {
     "name": "stdout",
     "output_type": "stream",
     "text": [
      "\n",
      "HSISIVALFVAITILVALRRLHCNRNYVHTQLFTTFILKAAAVFLKDAALFHS\n",
      "HSISIVALFVAITILVALRRLHCPRNYVHTQLFTTFILKAGAVFLKDAALFHS\n"
     ]
    },
    {
     "data": {
      "application/vnd.jupyter.widget-view+json": {
       "model_id": "01dab89853f34e64ba0fe889fa2b5996",
       "version_major": 2,
       "version_minor": 0
      },
      "text/plain": [
       "HBox(children=(IntProgress(value=0, max=181), HTML(value='')))"
      ]
     },
     "metadata": {},
     "output_type": "display_data"
    },
    {
     "name": "stdout",
     "output_type": "stream",
     "text": [
      "\n",
      "NLVSVVPQGHLQSMPTGNMRASSELHDLMAARRSKLVHEEPRKNNCQGSCKSQR\n",
      "NLVSQVPQGHLQSMPTGNMRASQELHDLMAARRSKLVHEEPRKPNCQGSCKSQR\n"
     ]
    },
    {
     "data": {
      "application/vnd.jupyter.widget-view+json": {
       "model_id": "2c92a6baa4844d5a9f17c31542a0bea7",
       "version_major": 2,
       "version_minor": 0
      },
      "text/plain": [
       "HBox(children=(IntProgress(value=0, max=181), HTML(value='')))"
      ]
     },
     "metadata": {},
     "output_type": "display_data"
    },
    {
     "name": "stdout",
     "output_type": "stream",
     "text": [
      "\n",
      "PRVYNIHSRTVTRYPANSIVVVGGCPVCRVGVLEDCFTFLGIFLAIILFPFGFI\n",
      "PRVYNIHSRTVTRYPANSIVVVGGCPVCRVGVLEDCFTFLGIFLAIILFPFGFI\n"
     ]
    },
    {
     "data": {
      "application/vnd.jupyter.widget-view+json": {
       "model_id": "acde486347704a35b77706cf4af02543",
       "version_major": 2,
       "version_minor": 0
      },
      "text/plain": [
       "HBox(children=(IntProgress(value=0, max=183), HTML(value='')))"
      ]
     },
     "metadata": {},
     "output_type": "display_data"
    },
    {
     "name": "stdout",
     "output_type": "stream",
     "text": [
      "\n",
      "KMNLLRQQNLFCDVDIYINTTEFQGHKVILAMCSAFDRDQFLTTQSHHVRITILQ\n",
      "KMNLLRQQNLFCDVSIYINDTEFQGHKVILAACSTFMRDQFLLTQSKHVRITILQ\n"
     ]
    },
    {
     "data": {
      "application/vnd.jupyter.widget-view+json": {
       "model_id": "36718ff3225440ad92e00771d5e808eb",
       "version_major": 2,
       "version_minor": 0
      },
      "text/plain": [
       "HBox(children=(IntProgress(value=0, max=183), HTML(value='')))"
      ]
     },
     "metadata": {},
     "output_type": "display_data"
    },
    {
     "name": "stdout",
     "output_type": "stream",
     "text": [
      "\n",
      "GSPPRYLLYYYSDSDKGQGSGVPSRFSGSKDASANTGILLIGSLQDEDEADYYCM\n",
      "GSPPRYLLYYYSDSDKGQGSGVPSRFSGSKDASANTGILLISGLQSEDEADYYCM\n"
     ]
    },
    {
     "data": {
      "application/vnd.jupyter.widget-view+json": {
       "model_id": "f312425374944f24bf0cbb4d907fae75",
       "version_major": 2,
       "version_minor": 0
      },
      "text/plain": [
       "HBox(children=(IntProgress(value=0, max=185), HTML(value='')))"
      ]
     },
     "metadata": {},
     "output_type": "display_data"
    },
    {
     "name": "stdout",
     "output_type": "stream",
     "text": [
      "\n",
      "SNIILAGGSTSFPGLDKRLVKDIKKAAPANTAVQVIAPPERKISVWMGGSILASLS\n",
      "SNIILAGGSTSFPGLDKRLVKDIAKVAPANTAVQVIAPPERKISVWMGGSILASLS\n"
     ]
    },
    {
     "data": {
      "application/vnd.jupyter.widget-view+json": {
       "model_id": "963dce7318174f24a8e5767bfc6a94a3",
       "version_major": 2,
       "version_minor": 0
      },
      "text/plain": [
       "HBox(children=(IntProgress(value=0, max=185), HTML(value='')))"
      ]
     },
     "metadata": {},
     "output_type": "display_data"
    },
    {
     "name": "stdout",
     "output_type": "stream",
     "text": [
      "\n",
      "EPGTYLIVPCILEAHQKSEFVLRVFSRKHIFYEIGSNSGVVFSKEIEDQNERQDEF\n",
      "EPGTYLIVPCILEAHQKSEFVLRVFSRKHIFYEIGSNSGVVFSKEIEDQNERQDEF\n"
     ]
    },
    {
     "data": {
      "application/vnd.jupyter.widget-view+json": {
       "model_id": "082b6ef1249e4b5aa87fd85deee06d5a",
       "version_major": 2,
       "version_minor": 0
      },
      "text/plain": [
       "HBox(children=(IntProgress(value=0, max=188), HTML(value='')))"
      ]
     },
     "metadata": {},
     "output_type": "display_data"
    },
    {
     "name": "stdout",
     "output_type": "stream",
     "text": [
      "\n",
      "ADMGPINVDGGGFFEKLWKGGLVLQELSQWTVRSIHDLRFISSHQTGIPARGSHIIA\n",
      "ADGMPINVGDGGLFEKKLWGLKVLQELSQWTVRSIHDLRFISSHQTGIPARGSHYIA\n"
     ]
    },
    {
     "data": {
      "application/vnd.jupyter.widget-view+json": {
       "model_id": "5222a43bf4514b98acf6a21592cca28c",
       "version_major": 2,
       "version_minor": 0
      },
      "text/plain": [
       "HBox(children=(IntProgress(value=0, max=188), HTML(value='')))"
      ]
     },
     "metadata": {},
     "output_type": "display_data"
    },
    {
     "name": "stdout",
     "output_type": "stream",
     "text": [
      "\n",
      "CDDGGGAAFSRRSTLIQHQKVHSGETRKCRKHGPAFVHGSSLTADGQIPTGEKHGRA\n",
      "DCGDCGKAFSRRSTLIQHQKVHSGETRKCRKHGPAFVHGSSLTADGQIPTGEKHGRA\n"
     ]
    },
    {
     "data": {
      "application/vnd.jupyter.widget-view+json": {
       "model_id": "6e199c1d2ad540d2a190e6df6b746a39",
       "version_major": 2,
       "version_minor": 0
      },
      "text/plain": [
       "HBox(children=(IntProgress(value=0, max=190), HTML(value='')))"
      ]
     },
     "metadata": {},
     "output_type": "display_data"
    },
    {
     "name": "stdout",
     "output_type": "stream",
     "text": [
      "\n",
      "LKMHRRTHTLPCTCKICGKAFSRPWLLQGHVRTHTGEKPYACSHCSRAFADRSNLRAH\n",
      "LKMHIRTHTLPCTCKICGKAFSRPWLLQGHVRTHTGEKPYACSHCSRAFADRSNLRAH\n"
     ]
    },
    {
     "data": {
      "application/vnd.jupyter.widget-view+json": {
       "model_id": "8ca98ba52d17424f81593b65813a5af0",
       "version_major": 2,
       "version_minor": 0
      },
      "text/plain": [
       "HBox(children=(IntProgress(value=0, max=190), HTML(value='')))"
      ]
     },
     "metadata": {},
     "output_type": "display_data"
    },
    {
     "name": "stdout",
     "output_type": "stream",
     "text": [
      "\n",
      "NKIGAYTTHLMKRIQRGPVRGISIKLQEEERERRDYYVPEVSALDQIIIEVDPDTKEM\n",
      "NKIAGYVTHLMKRIQRGPVRGISIKLQEEERERRDNYVPEVSALDQEIIEVDPDTKEM\n"
     ]
    },
    {
     "data": {
      "application/vnd.jupyter.widget-view+json": {
       "model_id": "77618f61afc6490d83f43d43f444ce4a",
       "version_major": 2,
       "version_minor": 0
      },
      "text/plain": [
       "HBox(children=(IntProgress(value=0, max=192), HTML(value='')))"
      ]
     },
     "metadata": {},
     "output_type": "display_data"
    },
    {
     "name": "stdout",
     "output_type": "stream",
     "text": [
      "\n",
      "FIDDVSSAVLRASYGQSAAMPAFAGAMSLAGAQGSLWSVEGGNKLVCSGLLLKKTINVA\n",
      "FIDDVVSAVLRASYGQSAAMPAFAGAMSLAGAQGSLWSVEGGNKLVCSGLLKLTKANVI\n"
     ]
    },
    {
     "data": {
      "application/vnd.jupyter.widget-view+json": {
       "model_id": "8d90c66cf9734131a7ed2d6d5383f5ba",
       "version_major": 2,
       "version_minor": 0
      },
      "text/plain": [
       "HBox(children=(IntProgress(value=0, max=192), HTML(value='')))"
      ]
     },
     "metadata": {},
     "output_type": "display_data"
    },
    {
     "name": "stdout",
     "output_type": "stream",
     "text": [
      "\n",
      "ATGSANMTKKKVSQKKQRGRPSSQPRRNIVGGRISHGWKEGDPEITQWKGTVLDQVPIN\n",
      "ATGSANMTKKKVSQKKQRGRPSSQPRRNIVGCRISHGWKEGDEPITQWKGTVLDQVPIN\n"
     ]
    },
    {
     "data": {
      "application/vnd.jupyter.widget-view+json": {
       "model_id": "1b83cc92ab5b4c3da54d88a8792602c1",
       "version_major": 2,
       "version_minor": 0
      },
      "text/plain": [
       "HBox(children=(IntProgress(value=0, max=194), HTML(value='')))"
      ]
     },
     "metadata": {},
     "output_type": "display_data"
    },
    {
     "name": "stdout",
     "output_type": "stream",
     "text": [
      "\n",
      "RELSVQLQPTDALLCVANLPPSLTQQQEFELVRPFGSLERCFLVYSERTGQSKGYGFAEY\n",
      "RELSVQLQPTDALLCVANLPPSLTQQQFEELVRPFGSLERCFLVYSERTGQSKGYGFAEY\n"
     ]
    },
    {
     "data": {
      "application/vnd.jupyter.widget-view+json": {
       "model_id": "53f2a8afa6b84ae3a34b5dd50703252b",
       "version_major": 2,
       "version_minor": 0
      },
      "text/plain": [
       "HBox(children=(IntProgress(value=0, max=194), HTML(value='')))"
      ]
     },
     "metadata": {},
     "output_type": "display_data"
    },
    {
     "name": "stdout",
     "output_type": "stream",
     "text": [
      "\n",
      "RKETDANAIIMKVDKDRQVMVLEEEFQNISPEELKMELEERQPRFVVYSYKYVHDDGRVS\n",
      "RKETDNAAIIMKVDKDRQMVVLEEEFQNISPEELKMELPERQPRFVVYSYKYVHDDGRVS\n"
     ]
    },
    {
     "data": {
      "application/vnd.jupyter.widget-view+json": {
       "model_id": "f517e6ec94304f4d9c3a123bae963664",
       "version_major": 2,
       "version_minor": 0
      },
      "text/plain": [
       "HBox(children=(IntProgress(value=0, max=197), HTML(value='')))"
      ]
     },
     "metadata": {},
     "output_type": "display_data"
    },
    {
     "name": "stdout",
     "output_type": "stream",
     "text": [
      "\n",
      "GLSLPRQGICFSLFKTALLLTTAAPRSSPALLTISALSLALVLPVKELNVRFRDRLPTPIP\n",
      "GLSLPRQIGCFSLFKTLASLLTALPRSSPAELTISALSLALLVPVKELNVRFRDRLPTPIP\n"
     ]
    },
    {
     "data": {
      "application/vnd.jupyter.widget-view+json": {
       "model_id": "c3e6b0ee3e724061a2de85c42cdefc19",
       "version_major": 2,
       "version_minor": 0
      },
      "text/plain": [
       "HBox(children=(IntProgress(value=0, max=197), HTML(value='')))"
      ]
     },
     "metadata": {},
     "output_type": "display_data"
    },
    {
     "name": "stdout",
     "output_type": "stream",
     "text": [
      "\n",
      "TIVGSAAFNMFVVIVAYACIAPIGEERKIHLKRVFVVTASWSIAFYVYLYLILAVFSPGVV\n",
      "TIVGSAAFNMFVVIAVCIYVIPAGESRKIKHLRVFFVTASWSIFAYVWLYLILAVFSPGVV\n"
     ]
    },
    {
     "data": {
      "application/vnd.jupyter.widget-view+json": {
       "model_id": "c8210292f1ea47d4a8b26c68c48e2aa5",
       "version_major": 2,
       "version_minor": 0
      },
      "text/plain": [
       "HBox(children=(IntProgress(value=0, max=199), HTML(value='')))"
      ]
     },
     "metadata": {},
     "output_type": "display_data"
    },
    {
     "name": "stdout",
     "output_type": "stream",
     "text": [
      "\n",
      "FKVPLQKSFEKKLAPEECFSPLDLFNIIREQNEELGIIIDLTYTQRYYKPEDLPETVPYLKI\n",
      "FKVPLQKSFEKKLAPEECFSPLDLFNKIREQNEELGLIIDLTYTQRYYKPEDLPETVPYLKI\n"
     ]
    },
    {
     "data": {
      "application/vnd.jupyter.widget-view+json": {
       "model_id": "b03863ec5da54825a984b16cb1635c8a",
       "version_major": 2,
       "version_minor": 0
      },
      "text/plain": [
       "HBox(children=(IntProgress(value=0, max=199), HTML(value='')))"
      ]
     },
     "metadata": {},
     "output_type": "display_data"
    },
    {
     "name": "stdout",
     "output_type": "stream",
     "text": [
      "\n",
      "GPQGGRARGAMAHVGSRKRSRSRSRSRGRGSSKRKKKSKRDTSRNCSASTQQGRKASTAPGA\n",
      "GPQGGRARGAMAHVGSRKRSRSRSRSRGRGSEKRKKKSRKDTSRNCSASTSQGRKASTAPGA\n"
     ]
    },
    {
     "data": {
      "application/vnd.jupyter.widget-view+json": {
       "model_id": "d0b20ca10947458496a427888cb5d9dc",
       "version_major": 2,
       "version_minor": 0
      },
      "text/plain": [
       "HBox(children=(IntProgress(value=0, max=202), HTML(value='')))"
      ]
     },
     "metadata": {},
     "output_type": "display_data"
    },
    {
     "name": "stdout",
     "output_type": "stream",
     "text": [
      "\n",
      "SLHIHERTHTGDKPYECKVCGKATFCSSSIRYHRRTHTGEKPYECKHCKKAFISNYRRYHRET\n",
      "SLHIHERTHTGDKPYECKVCGKAFTCSSSIRYHERTHTGEKPYECKHCGKAFISNYIRYHERT\n"
     ]
    },
    {
     "data": {
      "application/vnd.jupyter.widget-view+json": {
       "model_id": "248571c96d3346919463c30ffae2f69f",
       "version_major": 2,
       "version_minor": 0
      },
      "text/plain": [
       "HBox(children=(IntProgress(value=0, max=202), HTML(value='')))"
      ]
     },
     "metadata": {},
     "output_type": "display_data"
    },
    {
     "name": "stdout",
     "output_type": "stream",
     "text": [
      "\n",
      "APTEMAKAAPGSTKPKTKVVKAKAGAKKTGGTGGKTKPSTKKKKVRSGGGSGSSGGQVSLKKS\n",
      "APTEMAKAAPGSTKPKKTKVKAKAGAKKTKGTKGKTKPSKTRKKVRSGGGSGGSGGQVSLKKS\n"
     ]
    },
    {
     "data": {
      "application/vnd.jupyter.widget-view+json": {
       "model_id": "e260b7e6c21c41cdb179ad256e76b4f4",
       "version_major": 2,
       "version_minor": 0
      },
      "text/plain": [
       "HBox(children=(IntProgress(value=0, max=204), HTML(value='')))"
      ]
     },
     "metadata": {},
     "output_type": "display_data"
    },
    {
     "name": "stdout",
     "output_type": "stream",
     "text": [
      "\n",
      "GTEKLDDNSIFLQGPGIHPHHCDLNTDTGVVVVTPRSMDAETYVEGQRISETTLLQSGMKVQFG\n",
      "GTEKLDDNSIQLFGPGIQPHHCDLTNMDGVVTVTPRSMDAETYVEGQRISETTMLQSGMKVQFG\n"
     ]
    },
    {
     "data": {
      "application/vnd.jupyter.widget-view+json": {
       "model_id": "d4fa440475394343aecae987178da8f8",
       "version_major": 2,
       "version_minor": 0
      },
      "text/plain": [
       "HBox(children=(IntProgress(value=0, max=204), HTML(value='')))"
      ]
     },
     "metadata": {},
     "output_type": "display_data"
    },
    {
     "name": "stdout",
     "output_type": "stream",
     "text": [
      "\n",
      "VANMRNSKLKDINRAWKFSRFMFGKKNVMMVALGRSPSDEYDDNLHQVSKRLREGVGLLFTNRT\n",
      "VANMRNSKLKDIRNAWKHSRMFFGKNKVMMVALGRSPSDEYKDNLHQVSKRLRGEVGLLFTNRT\n"
     ]
    },
    {
     "data": {
      "application/vnd.jupyter.widget-view+json": {
       "model_id": "83870146a5a14c16a170159b5e75bb55",
       "version_major": 2,
       "version_minor": 0
      },
      "text/plain": [
       "HBox(children=(IntProgress(value=0, max=207), HTML(value='')))"
      ]
     },
     "metadata": {},
     "output_type": "display_data"
    },
    {
     "name": "stdout",
     "output_type": "stream",
     "text": [
      "\n",
      "VFPPLRKLFLEKKLDVTGVFLDGEGHQSSFYNTTEMSSLYNSSHCAFQGALRPVFSCCIPNGDTS\n",
      "VFPPLKRLFLEKKLDTVGVFLDCEHGQISFYNVTEMSLIYNFSHCAFQGALRPVFSLCIPNGDTS\n"
     ]
    },
    {
     "data": {
      "application/vnd.jupyter.widget-view+json": {
       "model_id": "df4d3eab8ee3467097cc7c6a6e8f7cf3",
       "version_major": 2,
       "version_minor": 0
      },
      "text/plain": [
       "HBox(children=(IntProgress(value=0, max=207), HTML(value='')))"
      ]
     },
     "metadata": {},
     "output_type": "display_data"
    },
    {
     "name": "stdout",
     "output_type": "stream",
     "text": [
      "\n",
      "ELPPDSDTVGMDSSYLSVKEAGVKPPQDRASSDLPSPLEKADSESNKKGKRRNRTTFTSYQLEEL\n",
      "ELPPDSDTVGMDSSYLSVKEAGVKGPQDRASSDLPSPLEKADSESNKGKKRRNRTTFTSYQLEEL\n"
     ]
    },
    {
     "data": {
      "application/vnd.jupyter.widget-view+json": {
       "model_id": "8202dba5f9ce4b1db655ff44e0ab7265",
       "version_major": 2,
       "version_minor": 0
      },
      "text/plain": [
       "HBox(children=(IntProgress(value=0, max=209), HTML(value='')))"
      ]
     },
     "metadata": {},
     "output_type": "display_data"
    },
    {
     "name": "stdout",
     "output_type": "stream",
     "text": [
      "\n",
      "DQQVHFTPTEGDFHHAIQTLLLQVAAAFQQEEELMILEEIKIPRPEADGMPINVGDGGFLEKKWWG\n",
      "DQQVHFTPTEGDFHQAIHTLLLQVAAFAYQIEELMILLEYKIPRNEADGMPINVGDGGLFEKKLWG\n"
     ]
    },
    {
     "data": {
      "application/vnd.jupyter.widget-view+json": {
       "model_id": "5444ed1b9bf048b7882199b970e53431",
       "version_major": 2,
       "version_minor": 0
      },
      "text/plain": [
       "HBox(children=(IntProgress(value=0, max=209), HTML(value='')))"
      ]
     },
     "metadata": {},
     "output_type": "display_data"
    },
    {
     "name": "stdout",
     "output_type": "stream",
     "text": [
      "\n",
      "SILTPEVIGPIWLMLLLGTVHCISVSTTTPKPPLTSGGRKRRLLRKAAELEVHREGDGSSTTDNTQ\n",
      "SIPLTEVIGPIWLMLLLGTVHCQIVSTRTPKPPLSTGGKRRRKLRKAAHLEVHREGDGSSTTDNTQ\n"
     ]
    },
    {
     "data": {
      "application/vnd.jupyter.widget-view+json": {
       "model_id": "ddab1585289e4ecab88c33322d9a8853",
       "version_major": 2,
       "version_minor": 0
      },
      "text/plain": [
       "HBox(children=(IntProgress(value=0, max=212), HTML(value='')))"
      ]
     },
     "metadata": {},
     "output_type": "display_data"
    },
    {
     "name": "stdout",
     "output_type": "stream",
     "text": [
      "\n",
      "GAEAAREGVSGPDLPVCEPSGESAPPDSALPHAARGWAPFPVAPVPALLRRGGLRPAPASGGGAWPS\n",
      "GAEAAREGVSGPDLPVCEPSGESAAPDSALPHAARGWAPFPVAPVPAHLRRGGLRPAPASGGGAWPS\n"
     ]
    },
    {
     "data": {
      "application/vnd.jupyter.widget-view+json": {
       "model_id": "16b20d9771564cf88b0f6b5197445cf0",
       "version_major": 2,
       "version_minor": 0
      },
      "text/plain": [
       "HBox(children=(IntProgress(value=0, max=212), HTML(value='')))"
      ]
     },
     "metadata": {},
     "output_type": "display_data"
    },
    {
     "name": "stdout",
     "output_type": "stream",
     "text": [
      "\n",
      "SKLGLGKYTDVFQQEEIQLTDFLLLTDQDKKELGITTGGARRKLMAAISELKNNRKKLFEPPNARTS\n",
      "SKLGLGKYTDVFQQQEIDLQTFLTLTDQDLKELGITTFGARRKMLLAISELNKNRRKLFESPNARTS\n"
     ]
    },
    {
     "data": {
      "application/vnd.jupyter.widget-view+json": {
       "model_id": "14491b3d027e4bd9806da31baa2cdfea",
       "version_major": 2,
       "version_minor": 0
      },
      "text/plain": [
       "HBox(children=(IntProgress(value=0, max=212), HTML(value='')))"
      ]
     },
     "metadata": {},
     "output_type": "display_data"
    },
    {
     "name": "stdout",
     "output_type": "stream",
     "text": [
      "\n",
      "YVDITYDFIIRRKPLFYTINLIIPCCLITSLAILVYYLPSDCGEKMTLCISVLLALTVFLLLISKIV\n",
      "YVDITYDFIIRRKPLFYTINLIIPCVLITSLAILVFYLPSDCGEKMTLCISVLLALTVFLLLISKIV\n"
     ]
    },
    {
     "data": {
      "application/vnd.jupyter.widget-view+json": {
       "model_id": "09a9488bc1a747f49a9cb3613bf6e811",
       "version_major": 2,
       "version_minor": 0
      },
      "text/plain": [
       "HBox(children=(IntProgress(value=0, max=212), HTML(value='')))"
      ]
     },
     "metadata": {},
     "output_type": "display_data"
    },
    {
     "name": "stdout",
     "output_type": "stream",
     "text": [
      "\n",
      "LLIIGFLLCSLTCLLLETVASSPLPLSALGIQKETGSSRPSGGNHRSWLNNFRYYLWQLISSALPPA\n",
      "LLIIGFLLCSLTCLLLETVASSPLPLSALGIQEKTGSKPRSGGNHRSWLNNFRDYLWQLIKSALPPA\n"
     ]
    },
    {
     "data": {
      "application/vnd.jupyter.widget-view+json": {
       "model_id": "930355484d0943a584caafa800b97840",
       "version_major": 2,
       "version_minor": 0
      },
      "text/plain": [
       "HBox(children=(IntProgress(value=0, max=212), HTML(value='')))"
      ]
     },
     "metadata": {},
     "output_type": "display_data"
    },
    {
     "name": "stdout",
     "output_type": "stream",
     "text": [
      "\n",
      "TDQGTTLLLNVTDLKTYQGIWDTFCKKWSPHRAATSYRLKLSPADTTRGQEITVGRSETSHCFTGLS\n",
      "TDQGTTLYLNVTDLKTYQIGWDTFCVKWSPHRAATSYRLKLSPADGTRGQEITVRGSETSHCFTGLS\n"
     ]
    },
    {
     "data": {
      "application/vnd.jupyter.widget-view+json": {
       "model_id": "15c105f10ead4400a8f980a3317b1403",
       "version_major": 2,
       "version_minor": 0
      },
      "text/plain": [
       "HBox(children=(IntProgress(value=0, max=215), HTML(value='')))"
      ]
     },
     "metadata": {},
     "output_type": "display_data"
    },
    {
     "name": "stdout",
     "output_type": "stream",
     "text": [
      "\n",
      "GTMLTSENTISYAGCMSQLFFLTLSWGWWMVLFTMMAYDRYVAICFPLHYSTIMNHHCMVALLSMVMA\n",
      "GTMLTSENTISYAGCMSQLFLFTWSLGAEMVLFTTMAYDRYVAICFPLHYSTIMNHHMCVALLSMVMA\n"
     ]
    },
    {
     "data": {
      "application/vnd.jupyter.widget-view+json": {
       "model_id": "6d005950b03f41b58c83ccc4e30feca5",
       "version_major": 2,
       "version_minor": 0
      },
      "text/plain": [
       "HBox(children=(IntProgress(value=0, max=215), HTML(value='')))"
      ]
     },
     "metadata": {},
     "output_type": "display_data"
    },
    {
     "name": "stdout",
     "output_type": "stream",
     "text": [
      "\n",
      "RPICSANHKESKMTIFEKENFIGRQWEISDDYPSLQAMGWFNNEVGSCKIQSGAWVCYQYPGYRGYQY\n",
      "RPICSANHKESKMTIFEKENFIGRQWEISDDYPSLQAMGWFNNEVGSMKIQSGAWVCYQYPGYRGYQY\n"
     ]
    },
    {
     "data": {
      "application/vnd.jupyter.widget-view+json": {
       "model_id": "405478b6689e45ab8ad878103efa3267",
       "version_major": 2,
       "version_minor": 0
      },
      "text/plain": [
       "HBox(children=(IntProgress(value=0, max=218), HTML(value='')))"
      ]
     },
     "metadata": {},
     "output_type": "display_data"
    },
    {
     "name": "stdout",
     "output_type": "stream",
     "text": [
      "\n",
      "MKIIKENADEDSDASLSSTERPIPIPSPLTPPDLRLRAEEIDPVYDFLHPGQQGKKPEYYYPNFLPSPF\n",
      "MKIIKENADEDSASDLSDSERIPIPPSPLTPPDLNLRAEEIDPVYFDLHPGQGHTKPEYYYPNFLPSPF\n"
     ]
    },
    {
     "data": {
      "application/vnd.jupyter.widget-view+json": {
       "model_id": "a7cbda3cacf04b6bb56269d02b639038",
       "version_major": 2,
       "version_minor": 0
      },
      "text/plain": [
       "HBox(children=(IntProgress(value=0, max=218), HTML(value='')))"
      ]
     },
     "metadata": {},
     "output_type": "display_data"
    },
    {
     "name": "stdout",
     "output_type": "stream",
     "text": [
      "\n",
      "GGGRAASVPCSVAPEKSCVRPQPLQVRRTFSLDTILSSYLLQQWPRDADGAFCCCTNDKATQTPLSWQE\n",
      "GGGRAASVPCSVAPEKSVCRPQPLQVRRTFSLDTILSSYLLGQWPRDADGAFTCCTNDKATQTPLSWQE\n"
     ]
    },
    {
     "data": {
      "application/vnd.jupyter.widget-view+json": {
       "model_id": "712cae7ce8804aeba7cafe8c4b9208b6",
       "version_major": 2,
       "version_minor": 0
      },
      "text/plain": [
       "HBox(children=(IntProgress(value=0, max=221), HTML(value='')))"
      ]
     },
     "metadata": {},
     "output_type": "display_data"
    },
    {
     "name": "stdout",
     "output_type": "stream",
     "text": [
      "\n",
      "LICKIKGNNLFKFPIVVVGNKSDDTHREVALDNGTTCMAEENCFFWEASAKTDVNVQELFHMLLNYKKKP\n",
      "LICKIKGNNLHKFPIVLVGNKSDDTHREVALNDGATCAMEWNCAFMEISAKTDVNVQELFHMLLNYKKKP\n"
     ]
    },
    {
     "data": {
      "application/vnd.jupyter.widget-view+json": {
       "model_id": "9fe288751ec547edaab304f227168537",
       "version_major": 2,
       "version_minor": 0
      },
      "text/plain": [
       "HBox(children=(IntProgress(value=0, max=221), HTML(value='')))"
      ]
     },
     "metadata": {},
     "output_type": "display_data"
    },
    {
     "name": "stdout",
     "output_type": "stream",
     "text": [
      "\n",
      "AEVKKPGSSVKVSCAASGGTFSSYAISWVRQAPGQGLEWMGGIIPIFGTANYAKKFGQRVTITADKSTST\n",
      "AEVKKPGSSVKVSCKASGGTFSSYAISWVRQAPGQGLEWMGGIIPIFGTANYAQKFQGRVTITADKSTST\n"
     ]
    },
    {
     "data": {
      "application/vnd.jupyter.widget-view+json": {
       "model_id": "dc82c141e55a43118880d670b8506cea",
       "version_major": 2,
       "version_minor": 0
      },
      "text/plain": [
       "HBox(children=(IntProgress(value=0, max=221), HTML(value='')))"
      ]
     },
     "metadata": {},
     "output_type": "display_data"
    },
    {
     "name": "stdout",
     "output_type": "stream",
     "text": [
      "\n",
      "ITTLNIESNFITGKGIVAIMRCLQFNETLEELRFQNHRHGGLHAAEMEIARLLKANNTLLMGGYHFELPG\n",
      "ITTLNIESNFITGKGIVAIMRCLQFNETLTELRFHNQRHMLGHHAEMEIARLLKANNTLLKMGYHFELPG\n"
     ]
    },
    {
     "data": {
      "application/vnd.jupyter.widget-view+json": {
       "model_id": "7a080c25bcd1433b98e4f98dd410de50",
       "version_major": 2,
       "version_minor": 0
      },
      "text/plain": [
       "HBox(children=(IntProgress(value=0, max=221), HTML(value='')))"
      ]
     },
     "metadata": {},
     "output_type": "display_data"
    },
    {
     "name": "stdout",
     "output_type": "stream",
     "text": [
      "\n",
      "NVWVALFKNNEPVMYTYDEYKKGFLDAASGSAVLLLPPGDRVFLQMPSEQAGGLYAGQYVHSSFSGYLLY\n",
      "NVWVALFKNNEPVMYTYDEYKKGFLDQASGSAVLLLRPGDRVFLQMPSEQAAGLYAGQYVHSSFSGYLLY\n"
     ]
    },
    {
     "data": {
      "application/vnd.jupyter.widget-view+json": {
       "model_id": "1e810d2a24e84965bd48fb715841843d",
       "version_major": 2,
       "version_minor": 0
      },
      "text/plain": [
       "HBox(children=(IntProgress(value=0, max=224), HTML(value='')))"
      ]
     },
     "metadata": {},
     "output_type": "display_data"
    },
    {
     "name": "stdout",
     "output_type": "stream",
     "text": [
      "\n",
      "YGTQRTLILESQNWRYAGTTWEVVFRVPSSCTTDRSGITSGHESGEVKDKNVQVVELPIVDSLHPRPPYLP\n",
      "YGTQRTLILESQNWRYATGGWETVFRPVSETCTDRSGISTGHWSGEVKDKNVQVVELPIVDSLHPRPPYLP\n"
     ]
    },
    {
     "data": {
      "application/vnd.jupyter.widget-view+json": {
       "model_id": "cdc8be19db544c2f9cc037a5f29e385c",
       "version_major": 2,
       "version_minor": 0
      },
      "text/plain": [
       "HBox(children=(IntProgress(value=0, max=224), HTML(value='')))"
      ]
     },
     "metadata": {},
     "output_type": "display_data"
    },
    {
     "name": "stdout",
     "output_type": "stream",
     "text": [
      "\n",
      "VSEEEKGGKVYQVFESVAKYYVDMNDMMVLSIGGRWDDLLLKWMHPPPGTQLLDVAGGTGDIAFRFLNYVQ\n",
      "VSEEEKGGKVYQVFESVAKKYDVMNDMMSLGIHRVWKDLLLWKMHPLPGTQLLDVAGGTGDIAFRFLNYVQ\n"
     ]
    },
    {
     "data": {
      "application/vnd.jupyter.widget-view+json": {
       "model_id": "8884971e0dbf496ea894626d95b7ed77",
       "version_major": 2,
       "version_minor": 0
      },
      "text/plain": [
       "HBox(children=(IntProgress(value=0, max=227), HTML(value='')))"
      ]
     },
     "metadata": {},
     "output_type": "display_data"
    },
    {
     "name": "stdout",
     "output_type": "stream",
     "text": [
      "\n",
      "PKKKNQQLKVGILHLGSRQKKIRQQLRSQACTWKVISSSIISQTPGINLDLGSGVKVKIIPKEEHCKMPEAG\n",
      "PKKKNQQLKVGILHLGSRQKKIRIQLRSQCATWKVICKSCISQTPGINLDLGSGVKVKIIPKEEHCKMPEAG\n"
     ]
    },
    {
     "data": {
      "application/vnd.jupyter.widget-view+json": {
       "model_id": "3e8163b55fb24de3bc6f3c6ed2a9f46e",
       "version_major": 2,
       "version_minor": 0
      },
      "text/plain": [
       "HBox(children=(IntProgress(value=0, max=227), HTML(value='')))"
      ]
     },
     "metadata": {},
     "output_type": "display_data"
    },
    {
     "name": "stdout",
     "output_type": "stream",
     "text": [
      "\n",
      "PVIKPQTSAVEQERWDEDSFYGLWDTNDEQGLNSEFKSETAAIPSAPVLPPPPVHSSIPPPGPVPMGMPPMS\n",
      "PVIKPQTSAVEQERWDEDSFYGLWDTNDEQGLNSEFKSETAAIPSAPVLPPPPVHSSIPPPGPVPMGMPPMS\n"
     ]
    },
    {
     "data": {
      "application/vnd.jupyter.widget-view+json": {
       "model_id": "7ad90e267c1e4b40b4bd133772c6221a",
       "version_major": 2,
       "version_minor": 0
      },
      "text/plain": [
       "HBox(children=(IntProgress(value=0, max=227), HTML(value='')))"
      ]
     },
     "metadata": {},
     "output_type": "display_data"
    },
    {
     "name": "stdout",
     "output_type": "stream",
     "text": [
      "\n",
      "NGFVLPCLGVHPVQGLPPEDQRSVKLTDDVVALIIIENYKDLLLAGIEVGLDFSPRFAGTGEQKEEQRQVLI\n",
      "NGFVLPCLGVHPVQGLPPEDQRSVTLKDLDVALPIIENYKDRLLAIGEVGLDFSPRFAGTGEQKEEQRQVLI\n"
     ]
    },
    {
     "data": {
      "application/vnd.jupyter.widget-view+json": {
       "model_id": "c3e0bdfa5f8d49999a338e3ea7409fb0",
       "version_major": 2,
       "version_minor": 0
      },
      "text/plain": [
       "HBox(children=(IntProgress(value=0, max=227), HTML(value='')))"
      ]
     },
     "metadata": {},
     "output_type": "display_data"
    },
    {
     "name": "stdout",
     "output_type": "stream",
     "text": [
      "\n",
      "QEEESFAEGHSEASLASALVEGEIAEEAAEKATSRGSNSGMSDNIDLTIVEDEEEESVALEQAQKVRYEGSY\n",
      "QEEESFAEGHSEASLASALVEGEIAEEAAEKATSRGSNSGMDSNIDLTIVEDEEEESVALEQAQKVRYEGSY\n"
     ]
    },
    {
     "data": {
      "application/vnd.jupyter.widget-view+json": {
       "model_id": "f6dfcb3ac1cf4638877b8fbed7367723",
       "version_major": 2,
       "version_minor": 0
      },
      "text/plain": [
       "HBox(children=(IntProgress(value=0, max=227), HTML(value='')))"
      ]
     },
     "metadata": {},
     "output_type": "display_data"
    },
    {
     "name": "stdout",
     "output_type": "stream",
     "text": [
      "\n",
      "RVLEEARFAVAFTSSMKEMAQAQWPHAKGKVYVQSQGIATTPNAAFNWNFFLQRSEIQNSADNLHIFLLICG\n",
      "RVLEEARFAVAFTESMKEMAQAQWPHAKGKVYVQSQGIATTPNAAFNWNTFLQRSEINQSADNLHIFLLICG\n"
     ]
    },
    {
     "data": {
      "application/vnd.jupyter.widget-view+json": {
       "model_id": "80b2d47b34424537a8943b0fbbcc7c37",
       "version_major": 2,
       "version_minor": 0
      },
      "text/plain": [
       "HBox(children=(IntProgress(value=0, max=230), HTML(value='')))"
      ]
     },
     "metadata": {},
     "output_type": "display_data"
    },
    {
     "name": "stdout",
     "output_type": "stream",
     "text": [
      "\n",
      "ALTEGDTQLNWINNSVVAEELLSHHENLVFLSETVNQPHHQNVSVPSNNVHAPYSSDKEHCMVTVVYYDCMSI\n",
      "ALTEGDTQLNWNIVSFPVAEELSHHENLVSFLETVNQPHHQNVSVPSNNVHAPYSSDKEHMCTVVYFDDCMSI\n"
     ]
    },
    {
     "data": {
      "application/vnd.jupyter.widget-view+json": {
       "model_id": "17e34c92bed84e8fbb8f6bf378297603",
       "version_major": 2,
       "version_minor": 0
      },
      "text/plain": [
       "HBox(children=(IntProgress(value=0, max=230), HTML(value='')))"
      ]
     },
     "metadata": {},
     "output_type": "display_data"
    },
    {
     "name": "stdout",
     "output_type": "stream",
     "text": [
      "\n",
      "VPRASVPDGFLSELTQQLAQATGKPQQYIAVVHVPDQLMAFGGSSEPCALCSLHSIGKIGGAQNSRYSSLLCG\n",
      "VPRASVPDGFLSELTQQLAQATGKPPQYIAVHVVPDQLMAFGGSSEPCALCSLHSIGKIGGAQNRSYSKLLCG\n"
     ]
    },
    {
     "data": {
      "application/vnd.jupyter.widget-view+json": {
       "model_id": "96f4fd00a9324c7a9e0af121f9f5eecd",
       "version_major": 2,
       "version_minor": 0
      },
      "text/plain": [
       "HBox(children=(IntProgress(value=0, max=234), HTML(value='')))"
      ]
     },
     "metadata": {},
     "output_type": "display_data"
    },
    {
     "name": "stdout",
     "output_type": "stream",
     "text": [
      "\n",
      "IAGVLQRDARLRQLEEGRVSKLRASVADPGQLKILTGDWFQEARSQRHHNAHFGSDLVRASMRRKKSTRGDQAP\n",
      "IAGVLQRDARLRQLEEGRVSKLRASVADPGQLKILTGDWFQEARSQRHHNAHFGSDLVRASMRRKKSTRGDQAP\n"
     ]
    },
    {
     "data": {
      "application/vnd.jupyter.widget-view+json": {
       "model_id": "0b93faaa5bf0486ab714f3a05bd92bb4",
       "version_major": 2,
       "version_minor": 0
      },
      "text/plain": [
       "HBox(children=(IntProgress(value=0, max=234), HTML(value='')))"
      ]
     },
     "metadata": {},
     "output_type": "display_data"
    },
    {
     "name": "stdout",
     "output_type": "stream",
     "text": [
      "\n",
      "ESKEKSTVADTSIQKLEKSKQTLPGLSNGSQIKAPIPKARKMIYKSTDLNKDDNQSFPRQRTDSLKAGRRPRGI\n",
      "ESKEKSTVADTSIQKLEKSKQTLPGLSNGSQIKAPIPKARKMIYKSTDLNKDDNQSFPRQRTDSLKARGAPRGI\n"
     ]
    },
    {
     "data": {
      "application/vnd.jupyter.widget-view+json": {
       "model_id": "5b470412251f4050945b076441a3929b",
       "version_major": 2,
       "version_minor": 0
      },
      "text/plain": [
       "HBox(children=(IntProgress(value=0, max=234), HTML(value='')))"
      ]
     },
     "metadata": {},
     "output_type": "display_data"
    },
    {
     "name": "stdout",
     "output_type": "stream",
     "text": [
      "\n",
      "WFLNGQEEKAGMVSSGILNQGTWTFQTMVMLETVPRSGEVYTCQVEHPSVTSPLTVEWRARSESAQSKMLSGVG\n",
      "WFLNGQEEKAGMVSTGLIQNGDWTFQTLVMLETVPRSGEVYTCQVEHPSVTSPLTVEWRARSESAQSKMLSGVG\n"
     ]
    },
    {
     "data": {
      "application/vnd.jupyter.widget-view+json": {
       "model_id": "ccea77bc5f30458d98daf90f29a5fe6f",
       "version_major": 2,
       "version_minor": 0
      },
      "text/plain": [
       "HBox(children=(IntProgress(value=0, max=234), HTML(value='')))"
      ]
     },
     "metadata": {},
     "output_type": "display_data"
    },
    {
     "name": "stdout",
     "output_type": "stream",
     "text": [
      "\n",
      "KKRRIFIHSVGAGTINALLDCLLEDEVISQEDMNKDRVENDTVMDKAVVLIDLTVGKGPKSCCKFIKHLCEEDP\n",
      "KKRRIFIHSVGAGTINALLDCLLEDEVISQEDMNKVRDENDTVMDKARVLIDLVTGKGPKSCCKFIKHLCEEDP\n"
     ]
    },
    {
     "data": {
      "application/vnd.jupyter.widget-view+json": {
       "model_id": "a869219e40d34b47ad914532aa2e5883",
       "version_major": 2,
       "version_minor": 0
      },
      "text/plain": [
       "HBox(children=(IntProgress(value=0, max=234), HTML(value='')))"
      ]
     },
     "metadata": {},
     "output_type": "display_data"
    },
    {
     "name": "stdout",
     "output_type": "stream",
     "text": [
      "\n",
      "FKLATTALYFTYSALEEMMERNKDHPAFAPLYFPMELHRKEALKTDMEYFFGNWEEEQVQCPKAAQKYVERIHY\n",
      "FKLATTALYFTYSALEEEMERNKDHPAFAPLYFPMELHRKEALTKDMEYFFGENWEEQVQCPKAAQKYVERIHY\n"
     ]
    },
    {
     "data": {
      "application/vnd.jupyter.widget-view+json": {
       "model_id": "1b3d4b53245446a0af81394f5a1f2a21",
       "version_major": 2,
       "version_minor": 0
      },
      "text/plain": [
       "HBox(children=(IntProgress(value=0, max=234), HTML(value='')))"
      ]
     },
     "metadata": {},
     "output_type": "display_data"
    },
    {
     "name": "stdout",
     "output_type": "stream",
     "text": [
      "\n",
      "ARNTAAVLEAAQELLRNRPILLGHVVVAPPGAPGLAVALIIVGGTPSPDPAGLVTPRTRVSLGGEPPSEAQPQP\n",
      "ARNTAAVLEAAQELLRNRPISLGHVVVAPPGAPGLVAALHIVGGTPSPDPAGLVTPRTRVSLGGEPPSEAQPQP\n"
     ]
    },
    {
     "data": {
      "application/vnd.jupyter.widget-view+json": {
       "model_id": "4297d3ee34a8430ebf3937ef617e1fda",
       "version_major": 2,
       "version_minor": 0
      },
      "text/plain": [
       "HBox(children=(IntProgress(value=0, max=237), HTML(value='')))"
      ]
     },
     "metadata": {},
     "output_type": "display_data"
    },
    {
     "name": "stdout",
     "output_type": "stream",
     "text": [
      "\n",
      "SHKPSAEDAEGQSPLSQKYSPSTEKCLPEIQGIFDRDPDTLLYLQLQKSEPAEPCIGSKAPKDDKTIIEEQATKI\n",
      "SHKPSAEDAEGQSPLSQKYSPSTEKCLPEIQGIFDRDPDTLLYLLQQKSEPAEPCIGSKAPKDDKTIIEEQATKI\n"
     ]
    },
    {
     "data": {
      "application/vnd.jupyter.widget-view+json": {
       "model_id": "4ac886cfff0e41848387bddd962f7025",
       "version_major": 2,
       "version_minor": 0
      },
      "text/plain": [
       "HBox(children=(IntProgress(value=0, max=237), HTML(value='')))"
      ]
     },
     "metadata": {},
     "output_type": "display_data"
    },
    {
     "name": "stdout",
     "output_type": "stream",
     "text": [
      "\n",
      "KDKDKVPPSFWIPSLTPEAKATTLEKPSRVTTTPMSGKPLRMSDLTPVHFTPLDSSVDRVGLITRSERYVCAVTR\n",
      "KDKDKVLPSFWIPSLTPEAKATKLEKPSRTVTCPMSGKPLRMSDLTPVHFTPLDSSVDRVGLITRSERYVCAVTR\n"
     ]
    },
    {
     "data": {
      "application/vnd.jupyter.widget-view+json": {
       "model_id": "c98728f893af4bcdb6704c92f9fa0470",
       "version_major": 2,
       "version_minor": 0
      },
      "text/plain": [
       "HBox(children=(IntProgress(value=0, max=241), HTML(value='')))"
      ]
     },
     "metadata": {},
     "output_type": "display_data"
    },
    {
     "name": "stdout",
     "output_type": "stream",
     "text": [
      "\n",
      "GKAAYTGPKERVKKTQYQSAQRAELVVAITLVQDFDQPIPIISSADVVVYQADDTETALIKYSMDDQLNQLFNLLQ\n",
      "GKAAYTGPKERVIKTQYQSAQRAELVAVITVLQDFDQPINIISDSAYVVQATRDVETALIKYSMDDQLNQLFNLLQ\n"
     ]
    },
    {
     "data": {
      "application/vnd.jupyter.widget-view+json": {
       "model_id": "99923d5020e84bbd95a34633d571c80d",
       "version_major": 2,
       "version_minor": 0
      },
      "text/plain": [
       "HBox(children=(IntProgress(value=0, max=241), HTML(value='')))"
      ]
     },
     "metadata": {},
     "output_type": "display_data"
    },
    {
     "name": "stdout",
     "output_type": "stream",
     "text": [
      "\n",
      "NIDNFRLTLRAIKLWAKRHYIYSNILGFLGGVSWAMLVCRTAQLPNYAIASTLVHKFFLVFSKWEWPNPVLLKQPE\n",
      "NIDNFRLTLRAIKLWAKRHNIYSNILGFLGGVSWAMLVARTCQLYPNAIASTLVHKFFLVFSKWEWPNPVLLKQPE\n"
     ]
    },
    {
     "data": {
      "application/vnd.jupyter.widget-view+json": {
       "model_id": "71b7580d1d3643d88d7e72fc6993d4e0",
       "version_major": 2,
       "version_minor": 0
      },
      "text/plain": [
       "HBox(children=(IntProgress(value=0, max=241), HTML(value='')))"
      ]
     },
     "metadata": {},
     "output_type": "display_data"
    },
    {
     "name": "stdout",
     "output_type": "stream",
     "text": [
      "\n",
      "GFDCHLNGTASKKKLSVHKLTPDVLAEPLSSERHFFVMAQYVENFQGNDAPVQQEINSATEYFESARVECAIQTCP\n",
      "GFDCHLNGTASQKKSLVHKTLPDVLAEPLSSERHEFVMAQYVNEFQGNDAPVEQEINSAETYFESARVECAIQTCP\n"
     ]
    },
    {
     "data": {
      "application/vnd.jupyter.widget-view+json": {
       "model_id": "c54fb5cb50804c1c81f4496ce8063e9b",
       "version_major": 2,
       "version_minor": 0
      },
      "text/plain": [
       "HBox(children=(IntProgress(value=0, max=241), HTML(value='')))"
      ]
     },
     "metadata": {},
     "output_type": "display_data"
    },
    {
     "name": "stdout",
     "output_type": "stream",
     "text": [
      "\n",
      "ICSFKDRCVSILCCKFKCVVLSSRGMKAVLLADTIEDLFSTDIPPTPAVDDGGRCYFTKICKCKLKDIACLKCGNI\n",
      "ICSFKDRCVSILCCKFCKQVLSSRGMKAVLLADTEIDLFSTDIPPTNAVDFTGRCYFTKICKCKLKDIACLKCGNI\n"
     ]
    },
    {
     "data": {
      "application/vnd.jupyter.widget-view+json": {
       "model_id": "55eee444c2c743c39f4d86b8dc132f79",
       "version_major": 2,
       "version_minor": 0
      },
      "text/plain": [
       "HBox(children=(IntProgress(value=0, max=241), HTML(value='')))"
      ]
     },
     "metadata": {},
     "output_type": "display_data"
    },
    {
     "name": "stdout",
     "output_type": "stream",
     "text": [
      "\n",
      "ATGVPVTRRQFDHMKDMFDEYVKKRTLQNWFWFIISIIIKLPFESFKKMVSTSLLEELHRTALSWLDQHCSLPILR\n",
      "ATGVPVTRRQFDHMKDMFDEYVKTRTLQNWKFWIFSIIIKPLFESFKGMVSTSSLEELHRTALSWLDQHCSLPILR\n"
     ]
    },
    {
     "data": {
      "application/vnd.jupyter.widget-view+json": {
       "model_id": "0d837969e1a542a8bede3a103b92f786",
       "version_major": 2,
       "version_minor": 0
      },
      "text/plain": [
       "HBox(children=(IntProgress(value=0, max=241), HTML(value='')))"
      ]
     },
     "metadata": {},
     "output_type": "display_data"
    },
    {
     "name": "stdout",
     "output_type": "stream",
     "text": [
      "\n",
      "SRENELKQVVAKADIDDYKVETDIIVADFSSGREIPLIPEEALKDKVDGILVNNVGVFYPYPFYFTQLSEDKLWDI\n",
      "SRNEEKLQVVAKDIADTYKVETDIIVADFSSGREIYLPIREALKDKDVGILVNNVGVFYPYPQYFTQLSEDKLWDI\n"
     ]
    },
    {
     "data": {
      "application/vnd.jupyter.widget-view+json": {
       "model_id": "e647ff6c036b443bb4cbc160a8d4f7c9",
       "version_major": 2,
       "version_minor": 0
      },
      "text/plain": [
       "HBox(children=(IntProgress(value=0, max=244), HTML(value='')))"
      ]
     },
     "metadata": {},
     "output_type": "display_data"
    },
    {
     "name": "stdout",
     "output_type": "stream",
     "text": [
      "\n",
      "IKRLKLDTKVHLKDLKFYMWEHGDDFSLSKKMDQDLITTQKKVVVHLETILGASVQVKKLKKMKYSFQLWIAMMSAK\n",
      "IKRLKLDTKVHLKDLKFYWMEHDGGSFLMSKVDQDLIMTQKKVVVHLETILGASVQHVKLKKMKYSFQLWIAMMSAK\n"
     ]
    },
    {
     "data": {
      "application/vnd.jupyter.widget-view+json": {
       "model_id": "6807adfcaf3945189446f320cbdcf2bc",
       "version_major": 2,
       "version_minor": 0
      },
      "text/plain": [
       "HBox(children=(IntProgress(value=0, max=244), HTML(value='')))"
      ]
     },
     "metadata": {},
     "output_type": "display_data"
    },
    {
     "name": "stdout",
     "output_type": "stream",
     "text": [
      "\n",
      "QPYPPAQYPPPPQNGIPAEAPYPPPHPTQDSSGQTPVPTEHGMTLYTPAQTHPEQPGSEASTQPIAGTQTVPQTDEA\n",
      "QPYPPAQYPPPPQNGIPAEYAPPPPHPTQDYSGQTPVPTEHGMTLYTPAQTHPEQPGSEASTQPIAGTQTVPQTDEA\n"
     ]
    },
    {
     "data": {
      "application/vnd.jupyter.widget-view+json": {
       "model_id": "1120a1cbd235465d997df8d944e684cd",
       "version_major": 2,
       "version_minor": 0
      },
      "text/plain": [
       "HBox(children=(IntProgress(value=0, max=248), HTML(value='')))"
      ]
     },
     "metadata": {},
     "output_type": "display_data"
    },
    {
     "name": "stdout",
     "output_type": "stream",
     "text": [
      "\n",
      "CSSGQHQCDSSCTVFNGTTSSSCRCRPGWKPHHGIPNNQKDTVCTDTTFSTWTPPPGVHSQTLSRFFDKVQDLGRDSK\n",
      "CSSGQHQCDSSTVCFNTVGSYSCRCRPGWKPRHGIPNNQKDTVCEDMTFSTWTPPPGVHSQTLSRFFDKVQDLGRDSK\n"
     ]
    },
    {
     "data": {
      "application/vnd.jupyter.widget-view+json": {
       "model_id": "fdf449d89e0b4918ae1f8527d7a1b449",
       "version_major": 2,
       "version_minor": 0
      },
      "text/plain": [
       "HBox(children=(IntProgress(value=0, max=248), HTML(value='')))"
      ]
     },
     "metadata": {},
     "output_type": "display_data"
    },
    {
     "name": "stdout",
     "output_type": "stream",
     "text": [
      "\n",
      "AVARVGPVSVAIDASLTQFSFYSKGVYYDESCNSDNLNHAVLVAGYIIQGNGWHWIIKSSGGENWGNKGYILMARNKN\n",
      "AVARVGPVSVAIDASLTSFQFYSKGVYYDESCNSDNLNHAVLAVGYGIQKGNKHWIIKNSWGENWGNKGYILMARNKN\n"
     ]
    },
    {
     "data": {
      "application/vnd.jupyter.widget-view+json": {
       "model_id": "06d5d02fed414600aa01b9a22e3ea6ec",
       "version_major": 2,
       "version_minor": 0
      },
      "text/plain": [
       "HBox(children=(IntProgress(value=0, max=248), HTML(value='')))"
      ]
     },
     "metadata": {},
     "output_type": "display_data"
    },
    {
     "name": "stdout",
     "output_type": "stream",
     "text": [
      "\n",
      "TNLVSLDFNFTTESNKLSSEKRNEEVNAYHQETWKRNKTNNLMRFIFRDTPQYTIEFRRQQRPKGVCFSQMIFKKHKS\n",
      "TNLVSLDFNFTTESNKLSSEKRNYEVNAYHQETWKRNKTFNLMRFIFRTDPQYTIEFGRQQRPKVGCFSQMIFKKHKS\n"
     ]
    },
    {
     "data": {
      "application/vnd.jupyter.widget-view+json": {
       "model_id": "77e95399106e419ababc2c942e31361c",
       "version_major": 2,
       "version_minor": 0
      },
      "text/plain": [
       "HBox(children=(IntProgress(value=0, max=248), HTML(value='')))"
      ]
     },
     "metadata": {},
     "output_type": "display_data"
    },
    {
     "name": "stdout",
     "output_type": "stream",
     "text": [
      "\n",
      "SHGESMAQPLVVFRGNQGFNNNWLRVVPRTRFGAFARGKAVVLYTKKSGAHLRIIDGGSGYLCEMEPVAHFGLGKDEA\n",
      "SHGESMAQPLSVFRGNQGFNNNWLRVVPRTRFGAFARGAKVVLYTKKSGAHLRIIDGGSGYLCEMEPVAHFGLGKDEA\n"
     ]
    },
    {
     "data": {
      "application/vnd.jupyter.widget-view+json": {
       "model_id": "dbe88720ecfc4df99b8fd8342b81d296",
       "version_major": 2,
       "version_minor": 0
      },
      "text/plain": [
       "HBox(children=(IntProgress(value=0, max=248), HTML(value='')))"
      ]
     },
     "metadata": {},
     "output_type": "display_data"
    },
    {
     "name": "stdout",
     "output_type": "stream",
     "text": [
      "\n",
      "WFGPKEVSTCCATAVLGNQLGTAVGFLPLPVVLPNTQTTTNLLACNISMTFGGTSAVATLLFILTAIAFKEKPRYPPS\n",
      "WFGPKEVSTACATAVLGNQLGTAVGFLLPPVLVPNTQNDTNLLACNISTMFYGTSAVATLLFILTAIAFKEKPRYPPS\n"
     ]
    },
    {
     "data": {
      "application/vnd.jupyter.widget-view+json": {
       "model_id": "20301aaaf64f40b4ab70cb96968204d9",
       "version_major": 2,
       "version_minor": 0
      },
      "text/plain": [
       "HBox(children=(IntProgress(value=0, max=248), HTML(value='')))"
      ]
     },
     "metadata": {},
     "output_type": "display_data"
    },
    {
     "name": "stdout",
     "output_type": "stream",
     "text": [
      "\n",
      "KKCVPCTAARPLPSCLLCNQRCLCSAESLLDYGTCLCCVKGLFYHCSDDDEDNCADEPCSCGPSSCFVRWAAMSLISL\n",
      "CKCVPCTAARPLPSCWLCNQRCLCSAESLLDYGTCLCCVKGLFYHCSTDDEDNCADEPCSCGPSSCFVRWAAMSLISL\n"
     ]
    },
    {
     "data": {
      "application/vnd.jupyter.widget-view+json": {
       "model_id": "9ce56266576343f5b4ec258240370ef5",
       "version_major": 2,
       "version_minor": 0
      },
      "text/plain": [
       "HBox(children=(IntProgress(value=0, max=248), HTML(value='')))"
      ]
     },
     "metadata": {},
     "output_type": "display_data"
    },
    {
     "name": "stdout",
     "output_type": "stream",
     "text": [
      "\n",
      "LWRSCVRQSSGFTECRPYFTILGLPAMLQMARALAIVGIVLGAIGLLVSIFALCKIRIGSMEDSAKANMTLTSGIMFI\n",
      "LWRSCVRQSSGFTECRPYFTILGLPAMLQAVRALMIVGIVLGAIGLLVSIFALKCIRIGSMEDSAKANMTLTSGIMFI\n"
     ]
    },
    {
     "data": {
      "application/vnd.jupyter.widget-view+json": {
       "model_id": "e723c81356844d1fa51b521cbe26c996",
       "version_major": 2,
       "version_minor": 0
      },
      "text/plain": [
       "HBox(children=(IntProgress(value=0, max=248), HTML(value='')))"
      ]
     },
     "metadata": {},
     "output_type": "display_data"
    },
    {
     "name": "stdout",
     "output_type": "stream",
     "text": [
      "\n",
      "TSIPAACWWVIISTTTVGYGDMYPITVPGRILGVGCVVSGIVLLALPITFIYHSFVQCYHELKFRSARYSRSLSTEFL\n",
      "TSIPAACWWVIISMTTVGYGDMYPITVPGRILGGVCVVSGIVLLALPITFIYHSFVQCYHELKFRSARYSRSLSTEFL\n"
     ]
    },
    {
     "data": {
      "application/vnd.jupyter.widget-view+json": {
       "model_id": "f58b95c9e0cb4347a7bf44950c3ef722",
       "version_major": 2,
       "version_minor": 0
      },
      "text/plain": [
       "HBox(children=(IntProgress(value=0, max=248), HTML(value='')))"
      ]
     },
     "metadata": {},
     "output_type": "display_data"
    },
    {
     "name": "stdout",
     "output_type": "stream",
     "text": [
      "\n",
      "GSKAAGEGSGAGLSPANCQSDRVNLEKSLLMKAAALPTFSHGHCTAEEVFASEDESEESSSSSAEEEDSENEEAIRKK\n",
      "GSKAAGEGSKAGLSPANCQSDRVNLEKSLLMKKAALPTFDSGHCTAEEVFASEDESEESSSLSAEEEDSENEEAIRKK\n"
     ]
    },
    {
     "data": {
      "application/vnd.jupyter.widget-view+json": {
       "model_id": "7b5f8c069fd1438da73a7425f0cb4a58",
       "version_major": 2,
       "version_minor": 0
      },
      "text/plain": [
       "HBox(children=(IntProgress(value=0, max=252), HTML(value='')))"
      ]
     },
     "metadata": {},
     "output_type": "display_data"
    },
    {
     "name": "stdout",
     "output_type": "stream",
     "text": [
      "\n",
      "PPRRRRHRNRAPSSHKMNKMMMSEEQMKLNSPTKAEPLTWAQLNKTLQATLKCTENTKMTQTPESMLLAALMIVSTVSA\n",
      "PPRRRRHRNRAPSSHKMNKMMMSEEQMKLPSTNKAEPLTWAQLNKLTQLATKCLENTKMTQTPESMLLAALMIVSTVSA\n"
     ]
    },
    {
     "data": {
      "application/vnd.jupyter.widget-view+json": {
       "model_id": "7bd1c40fd13647b7ba11bdd1ea8c5960",
       "version_major": 2,
       "version_minor": 0
      },
      "text/plain": [
       "HBox(children=(IntProgress(value=0, max=252), HTML(value='')))"
      ]
     },
     "metadata": {},
     "output_type": "display_data"
    },
    {
     "name": "stdout",
     "output_type": "stream",
     "text": [
      "\n",
      "PFLFMVSKTGEAETITSHYLFALGVYRTLYNFNWIWYYHFEGFFFLIAIVALGQVTLVYCDFFYLYITKVLKKGKLSLP\n",
      "PQLFMVSKTGEAETITSHYLFALGVYRTLYLFNWIWRYHFEGFFDLIAIVAGLVQTVLYCDFFYLYITKVLKGKKLSLP\n"
     ]
    },
    {
     "data": {
      "application/vnd.jupyter.widget-view+json": {
       "model_id": "35b7ba86431b45a39f27aabc631455bb",
       "version_major": 2,
       "version_minor": 0
      },
      "text/plain": [
       "HBox(children=(IntProgress(value=0, max=256), HTML(value='')))"
      ]
     },
     "metadata": {},
     "output_type": "display_data"
    },
    {
     "name": "stdout",
     "output_type": "stream",
     "text": [
      "\n",
      "HCTVSIVLQAPRFVMKLNDKLVRISIFSVQLCDMYGIQSEERWGICYLGEKTSWYEVHCIKKNVVRARRQLGTIGLTGIH\n",
      "HCTVSIVLQAPRFVMKLNDKLVRISIFSVQCLDMYGIQSEWREGYCILGEKTSWYEVHCICKNVVRARRQLGTIGLTGIH\n"
     ]
    },
    {
     "data": {
      "application/vnd.jupyter.widget-view+json": {
       "model_id": "4d256bedc03548449fd9c020b0491616",
       "version_major": 2,
       "version_minor": 0
      },
      "text/plain": [
       "HBox(children=(IntProgress(value=0, max=256), HTML(value='')))"
      ]
     },
     "metadata": {},
     "output_type": "display_data"
    },
    {
     "name": "stdout",
     "output_type": "stream",
     "text": [
      "\n",
      "KALSEEMADTLEEGAASPTSPDYSLDSPGPEKMALAFSEQEEHELPVLSRQASTSGELCPPPSGSGSFGEEPPAPQYTGP\n",
      "KALSEEMADTLEEGSASPTSPDYSLDSPGPEKMALAFSEQEEHELPVLSRQASTGSELCSPSPGSGSFGEEPPAPQYTGP\n"
     ]
    },
    {
     "data": {
      "application/vnd.jupyter.widget-view+json": {
       "model_id": "7634c644c04046639254a46d9b509f55",
       "version_major": 2,
       "version_minor": 0
      },
      "text/plain": [
       "HBox(children=(IntProgress(value=0, max=256), HTML(value='')))"
      ]
     },
     "metadata": {},
     "output_type": "display_data"
    },
    {
     "name": "stdout",
     "output_type": "stream",
     "text": [
      "\n",
      "RGAAGSGGPIGPPGRPGPQGPPGAAGEKVVPGEKGPIGPTGRDGVQGPVGLPGPAGPPGVAGEDGDKGEVGDPGQKGTKG\n",
      "RGAAGSGGPIGPPGRPGPQGPPGAAGEKGVPGEKGPIGPTGRDGVQGPVGLPGPAGPPGVAGEDGDKGEVGDPGQKGTKG\n"
     ]
    },
    {
     "data": {
      "application/vnd.jupyter.widget-view+json": {
       "model_id": "536e06046f7b4830b21166995535cfcf",
       "version_major": 2,
       "version_minor": 0
      },
      "text/plain": [
       "HBox(children=(IntProgress(value=0, max=256), HTML(value='')))"
      ]
     },
     "metadata": {},
     "output_type": "display_data"
    },
    {
     "name": "stdout",
     "output_type": "stream",
     "text": [
      "\n",
      "HDKSDRGHDKSDRDRERGYDKDDRERERDRERDRDRGYDKDDREEGKERRHHRREELAPYPKSKAKVSRKDEELDPMDPS\n",
      "HDKSDRGHDKSDRDRERGYDKVDRERERDRERDRDRGYDKADREEGKERRHHRREELAPYPKSKKAVSRKDEELDPMDPS\n"
     ]
    },
    {
     "data": {
      "application/vnd.jupyter.widget-view+json": {
       "model_id": "c00fbc9fb73e4e358a129c9728f11247",
       "version_major": 2,
       "version_minor": 0
      },
      "text/plain": [
       "HBox(children=(IntProgress(value=0, max=260), HTML(value='')))"
      ]
     },
     "metadata": {},
     "output_type": "display_data"
    },
    {
     "name": "stdout",
     "output_type": "stream",
     "text": [
      "\n",
      "KPYTCKQCGKAFSVSSSLRRHETHHSAEKPYECQQCGKTFHHLGSFQIHMRRHTGDRPHKCKICGKGFDRPSLVRYHERIH\n",
      "KPYTCKQCGKAFSVSSSLRRHETTHSAEKPYECKQCGKTFHHLGSFQIHMKRHTGDRPHKCKICGKGFDRPSLVRYHERIH\n"
     ]
    },
    {
     "data": {
      "application/vnd.jupyter.widget-view+json": {
       "model_id": "85c31029f9a34d4ca828a8f84bb44267",
       "version_major": 2,
       "version_minor": 0
      },
      "text/plain": [
       "HBox(children=(IntProgress(value=0, max=260), HTML(value='')))"
      ]
     },
     "metadata": {},
     "output_type": "display_data"
    },
    {
     "name": "stdout",
     "output_type": "stream",
     "text": [
      "\n",
      "CLAGLVFVSEAGPTGTGESKPCLMVKVDDAVRGSPAINVAVVHFRKAADDTWEPFASGKTSESGELHGLTTEEEFVEGIYK\n",
      "CLAGLVFVSEAGPTGTGESKCPLMVKVLDAVRGSPAINVAVHVFRKAADDTWEPFASGKTSESGELHGLTTEEEFVEGIYK\n"
     ]
    },
    {
     "data": {
      "application/vnd.jupyter.widget-view+json": {
       "model_id": "e7f2a5acf2774d789800aa4b4b2763c0",
       "version_major": 2,
       "version_minor": 0
      },
      "text/plain": [
       "HBox(children=(IntProgress(value=0, max=260), HTML(value='')))"
      ]
     },
     "metadata": {},
     "output_type": "display_data"
    },
    {
     "name": "stdout",
     "output_type": "stream",
     "text": [
      "\n",
      "CNNNFAMKGKRKTLNDSDVLSAMEEMEFQRFVTPLEKLLEAYRRRQKGKKEASEQKKKDKDKKTDSEEQDKSRDEDNDEDE\n",
      "CANNFAMKGKRKTLNASDVLSAMEEMEFQRFVTPLKEALEAYRREQKGKKEASEQKKKDKDKKTDSEEQDKSRDEDNDEDE\n"
     ]
    },
    {
     "data": {
      "application/vnd.jupyter.widget-view+json": {
       "model_id": "7ee6188065e54f1787c111db36757a38",
       "version_major": 2,
       "version_minor": 0
      },
      "text/plain": [
       "HBox(children=(IntProgress(value=0, max=260), HTML(value='')))"
      ]
     },
     "metadata": {},
     "output_type": "display_data"
    },
    {
     "name": "stdout",
     "output_type": "stream",
     "text": [
      "\n",
      "LVAAFVLRSINPFGNSRLVLFYVEYHTPWYLFELFPFILLGVFGGLGGAFFRRNNIAWCRRRKSTFKGKYPVLEVIIVAAI\n",
      "LVAAFVLRSINPFGNSRLVLFYVEYHTPWYLFELFPFILLGVFGGLWGAFFIRANIAWCRRRKSTKFGKYPVLEVIIVAAI\n"
     ]
    },
    {
     "data": {
      "application/vnd.jupyter.widget-view+json": {
       "model_id": "1e3e0ed32fe649f4a1275e0db351b23a",
       "version_major": 2,
       "version_minor": 0
      },
      "text/plain": [
       "HBox(children=(IntProgress(value=0, max=260), HTML(value='')))"
      ]
     },
     "metadata": {},
     "output_type": "display_data"
    },
    {
     "name": "stdout",
     "output_type": "stream",
     "text": [
      "\n",
      "APWVWEGHYTAKADIFALGIIWAAWLERIIFTDTEKKKELLLSYVKQVTEIVPVEGMLELNPKMELLIPVKKKSMNGRMKQ\n",
      "APEVWEGHYTAKADIFALGIIIWAMLERITFIDTETKKELLGSYVKQGTEIVPVGEALLENPKMELLIPVKKKSMNGRMKQ\n"
     ]
    },
    {
     "data": {
      "application/vnd.jupyter.widget-view+json": {
       "model_id": "b32633266274416bb3666ad24f7126a8",
       "version_major": 2,
       "version_minor": 0
      },
      "text/plain": [
       "HBox(children=(IntProgress(value=0, max=260), HTML(value='')))"
      ]
     },
     "metadata": {},
     "output_type": "display_data"
    },
    {
     "name": "stdout",
     "output_type": "stream",
     "text": [
      "\n",
      "RNLYPGIATKEELAQGIDIPEPRVQIWFNQERSCQLRHHRRQSRPWPGRRDPQKGRRKRTAITGSTQALLLRAFEKDRFPG\n",
      "RNLYPGIATKEELAQGIDIPEPRVQIWFQNERSCQLRQHRRQSRPWPGRRDPQKGRRKRTAITGSQTALLLRAFEKDRFPG\n"
     ]
    },
    {
     "data": {
      "application/vnd.jupyter.widget-view+json": {
       "model_id": "1141acb4532f470c88a2f7680c442def",
       "version_major": 2,
       "version_minor": 0
      },
      "text/plain": [
       "HBox(children=(IntProgress(value=0, max=260), HTML(value='')))"
      ]
     },
     "metadata": {},
     "output_type": "display_data"
    },
    {
     "name": "stdout",
     "output_type": "stream",
     "text": [
      "\n",
      "KSLKVDPRACFRQFFTKIKTADRQYMEGFDDELEAFKERVRGRAKLRIEKMKKEYEEEERKKRLGGGGLDPVEVYESLPEE\n",
      "KSLKVDPRACFRQFFTKIKTADRQYMEGFNDELEAFKERVRGRAKLRIEKAMKEYEEEERKKRLGPGGLDPVEVYESLPEE\n"
     ]
    },
    {
     "data": {
      "application/vnd.jupyter.widget-view+json": {
       "model_id": "260d4729d09a4ea99e7b4790d24918b9",
       "version_major": 2,
       "version_minor": 0
      },
      "text/plain": [
       "HBox(children=(IntProgress(value=0, max=265), HTML(value='')))"
      ]
     },
     "metadata": {},
     "output_type": "display_data"
    },
    {
     "name": "stdout",
     "output_type": "stream",
     "text": [
      "\n",
      "LLLLTLLCTVVGWATSNYFVGAIQEIPKAKEFMANFHKTLILKKGKTLTNEASKKKVELDNCPSVSPYLRGQSKLIFKPDLT\n",
      "LLLLTLCLTVVGWATSNYFVGAIQEIPKAKEFMANFHKTLILGKGKTLTNEASTKKVELDNCPSVSPYLRGQSKLIFKPDLT\n"
     ]
    },
    {
     "data": {
      "application/vnd.jupyter.widget-view+json": {
       "model_id": "64df7d7bcbd24c62b0adec50c42ddfe0",
       "version_major": 2,
       "version_minor": 0
      },
      "text/plain": [
       "HBox(children=(IntProgress(value=0, max=265), HTML(value='')))"
      ]
     },
     "metadata": {},
     "output_type": "display_data"
    },
    {
     "name": "stdout",
     "output_type": "stream",
     "text": [
      "\n",
      "AGFLGMAVAVLLCGCIVATVSFFWEELLTQHVAGLLFLMTGIFCTISLCTYAASISYDLNRLPKLIYSLPADVEHGYSWSIF\n",
      "AGFLGMAVAVLLCGCIVATVSFFWEESLTQHVAGLLFLMTGIFCTISLCTYAASISYDLNRLPKLIYSLPADVEHGYSWSIF\n"
     ]
    },
    {
     "data": {
      "application/vnd.jupyter.widget-view+json": {
       "model_id": "2b1e7c028698451aa092c21277eaf34c",
       "version_major": 2,
       "version_minor": 0
      },
      "text/plain": [
       "HBox(children=(IntProgress(value=0, max=269), HTML(value='')))"
      ]
     },
     "metadata": {},
     "output_type": "display_data"
    },
    {
     "name": "stdout",
     "output_type": "stream",
     "text": [
      "\n",
      "QPSQAAPAGGVSQPAPARGDFAYAAPAPPDGALSHPQAPRWPPHPGKSREDRDPQRDGPPGPCAVAQPGPAQAGPQGQGVLAP\n",
      "QPSQAAPAEGVSQPAPARGDFAYAAPAPPDGALSHPQAPRWPPHPGKSREDRDPQRDGLPGPCAVAQPGPAQAGPQGQGVLAP\n"
     ]
    },
    {
     "data": {
      "application/vnd.jupyter.widget-view+json": {
       "model_id": "a7844e0a5187468b83dd2f5ac0685511",
       "version_major": 2,
       "version_minor": 0
      },
      "text/plain": [
       "HBox(children=(IntProgress(value=0, max=269), HTML(value='')))"
      ]
     },
     "metadata": {},
     "output_type": "display_data"
    },
    {
     "name": "stdout",
     "output_type": "stream",
     "text": [
      "\n",
      "QPTQFSDTFSGQSISPAKVTAGQPTPAVYTSSEKPEAHTSAGQPLAYNTKQPTPIANTSSQQAVFTSARQLSPARSTTTQPPK\n",
      "QPTQFSDTFSGQSISPAKVTAGQPTPAVYTSSEKPEAHTSAGQPLAYNTKQPTPIANTSSQQAVFTSARQLPSARTSTTQPPK\n"
     ]
    },
    {
     "data": {
      "application/vnd.jupyter.widget-view+json": {
       "model_id": "5c96bf974ee84fba8924fa7e7827f1ff",
       "version_major": 2,
       "version_minor": 0
      },
      "text/plain": [
       "HBox(children=(IntProgress(value=0, max=269), HTML(value='')))"
      ]
     },
     "metadata": {},
     "output_type": "display_data"
    },
    {
     "name": "stdout",
     "output_type": "stream",
     "text": [
      "\n",
      "AWIADVDEINNGDDYPCLDDLEGLAAVGDDLPVGLEELRQLELQVLTAHSWREKASKTFLKKNSCYTLLEVLCPCADAGSDST\n",
      "AWIADVDEIQNGDHYPCLDDLEGLVAVGRDLPVGLEELRQLELQVLTAHSWREKASKTFLKKNSCYTLLEVLCPCADAGSDST\n"
     ]
    },
    {
     "data": {
      "application/vnd.jupyter.widget-view+json": {
       "model_id": "224aae25c4394db1b0b35501d7a14e23",
       "version_major": 2,
       "version_minor": 0
      },
      "text/plain": [
       "HBox(children=(IntProgress(value=0, max=269), HTML(value='')))"
      ]
     },
     "metadata": {},
     "output_type": "display_data"
    },
    {
     "name": "stdout",
     "output_type": "stream",
     "text": [
      "\n",
      "QYLFPKAVVSLRRVWTTVHHDDYMELHFKKDIVDAGLAGDTNLYAMYLIGERTAKLQAAVVLNPGYSSIPPVFQLCLNWGKEK\n",
      "QYLFPAKVVSRLVKWVTVAHEDYMELHFTKDIVDAGLAGDTNLYYMALIERGTAKLQAAVVLNPGYSSIPPVFQLCLNWKGEK\n"
     ]
    },
    {
     "data": {
      "application/vnd.jupyter.widget-view+json": {
       "model_id": "05b71e9783aa4536a1b02b3752601036",
       "version_major": 2,
       "version_minor": 0
      },
      "text/plain": [
       "HBox(children=(IntProgress(value=0, max=269), HTML(value='')))"
      ]
     },
     "metadata": {},
     "output_type": "display_data"
    },
    {
     "name": "stdout",
     "output_type": "stream",
     "text": [
      "\n",
      "AKDKLVYVHTNGPKKKKVTLHIKWPKSVEVEGYGSKKADIEQRAAAAACQLFKGWGLLGPRLENFDAAKYRVLADRFGSPADS\n",
      "AKDKLVYVHTNGPKKKKVTLHIKWPKSVEVEGYGSKKIDAERQAAAAACQLFKGWGLLGPRNELFDAAKYRVLADRFGSPADS\n"
     ]
    },
    {
     "data": {
      "application/vnd.jupyter.widget-view+json": {
       "model_id": "849b69b67e9645729bd276e41ddce12a",
       "version_major": 2,
       "version_minor": 0
      },
      "text/plain": [
       "HBox(children=(IntProgress(value=0, max=269), HTML(value='')))"
      ]
     },
     "metadata": {},
     "output_type": "display_data"
    },
    {
     "name": "stdout",
     "output_type": "stream",
     "text": [
      "\n",
      "VLQVLWEEQQQCLQELSREQTGDLGTEQPVPGGEGMDWNICCWPSVVPGRMVEVECPRFLRMLTSRNGSCFRNCTQDGWSETF\n",
      "VLQVLWEEQDQCLQELSREQTGDLGTEQPVPGCEGMWDNISCWPSSVPGRMVEVECPRFLRMLTSRNGSLFRNCTQDGWSETF\n"
     ]
    },
    {
     "data": {
      "application/vnd.jupyter.widget-view+json": {
       "model_id": "4a16d01434b24af7a4c247fef3d4aed4",
       "version_major": 2,
       "version_minor": 0
      },
      "text/plain": [
       "HBox(children=(IntProgress(value=0, max=269), HTML(value='')))"
      ]
     },
     "metadata": {},
     "output_type": "display_data"
    },
    {
     "name": "stdout",
     "output_type": "stream",
     "text": [
      "\n",
      "LGSLVLLVWVLAVCCSRAARGTIGARRTGQPLKEDPSAVPVFSVDYGELDFQRWEKTPEPPVPVVPEQTEYATIVFPSGMGTS\n",
      "LGSLVLLVWVLAVICSRAARGTIGARRTGQPLKEDPSAVPVFSVDYGELDFQWREKTPEPPVPCVPEQTEYATIVFPSGMGTS\n"
     ]
    },
    {
     "data": {
      "application/vnd.jupyter.widget-view+json": {
       "model_id": "f8b3c77d9e8c4b42a0dc86120097cabf",
       "version_major": 2,
       "version_minor": 0
      },
      "text/plain": [
       "HBox(children=(IntProgress(value=0, max=274), HTML(value='')))"
      ]
     },
     "metadata": {},
     "output_type": "display_data"
    },
    {
     "name": "stdout",
     "output_type": "stream",
     "text": [
      "\n",
      "QPPPVPAKKSRERLANGLHPVPMPGGGALPSPDAPCLPVKRGSPASPTSPSDCPPALAPRLPSGQAGGSPPSTRPPPWLSELPE\n",
      "QPPPVPAKKSRERLANGLHPVPMGPSGALPSPDAPCLPVKRGSPASPTSPSDCPPALAPRPLSGQAPGSPPSTRPPPWLSELPE\n"
     ]
    },
    {
     "data": {
      "application/vnd.jupyter.widget-view+json": {
       "model_id": "12c0856cc26a4c7687063b65f2f69b35",
       "version_major": 2,
       "version_minor": 0
      },
      "text/plain": [
       "HBox(children=(IntProgress(value=0, max=274), HTML(value='')))"
      ]
     },
     "metadata": {},
     "output_type": "display_data"
    },
    {
     "name": "stdout",
     "output_type": "stream",
     "text": [
      "\n",
      "LQMIQEPKLLLVTVGKTATLHCTVTSLLPVGPVLWFRGVGPGRELIYNQKEGHFPRVTVTSTDLKRNNMDFSIRISSITPADVG\n",
      "LQMIQPEKLLLVTVGKTATLHCTVTSLLPVGPVLWFRGVGPGRELIYNQKEGHFPRVTTVSDLTKRNNMDFSIRISSITPADVG\n"
     ]
    },
    {
     "data": {
      "application/vnd.jupyter.widget-view+json": {
       "model_id": "fbe2613017fe46a9992855cf00ca3fc5",
       "version_major": 2,
       "version_minor": 0
      },
      "text/plain": [
       "HBox(children=(IntProgress(value=0, max=274), HTML(value='')))"
      ]
     },
     "metadata": {},
     "output_type": "display_data"
    },
    {
     "name": "stdout",
     "output_type": "stream",
     "text": [
      "\n",
      "HLRPCPASQLPGLLSHGLLAGLSFAVGSSSSLLPLLLLLLLLPLAAQGGGLGQAALLALEVGVVGLGASYLLLCTALHLPSSLF\n",
      "HLRPCPASQLPGLLSHGLLAGLSFAVGSSSGLLPLLLLLLLPLLAAQGGGGLQAALLALEVGLVGLGASYLLLCTALHLPSSLF\n"
     ]
    },
    {
     "data": {
      "application/vnd.jupyter.widget-view+json": {
       "model_id": "3522a4fa7bc14e8482bfc7eafa8c1026",
       "version_major": 2,
       "version_minor": 0
      },
      "text/plain": [
       "HBox(children=(IntProgress(value=0, max=278), HTML(value='')))"
      ]
     },
     "metadata": {},
     "output_type": "display_data"
    },
    {
     "name": "stdout",
     "output_type": "stream",
     "text": [
      "\n",
      "PTPALRVPSSGPYDCPASFSHPLTRVAPQPPEEDDAPYDVPLTPKPEAPLPDELEWEGGRPPGPPIYAAPSNLKRASALLNLYEA\n",
      "PPTALRVPSSGPYDCPASFSHPLTRVAPQPPGEDDAPYDVPLTPKPPAELEPDLEWEGGREPGPPIYAAPSNLKRASALLNLYEA\n"
     ]
    },
    {
     "data": {
      "application/vnd.jupyter.widget-view+json": {
       "model_id": "35abbe82b3c04c299af16d852161ee59",
       "version_major": 2,
       "version_minor": 0
      },
      "text/plain": [
       "HBox(children=(IntProgress(value=0, max=278), HTML(value='')))"
      ]
     },
     "metadata": {},
     "output_type": "display_data"
    },
    {
     "name": "stdout",
     "output_type": "stream",
     "text": [
      "\n",
      "DAARQATHHDEKTEEVKERSVFDIPIFTEFFLNSKDAREAELRQLRKSEMNFNEERAALQKHVESRRTAVEKLEVDVIQERSRNT\n",
      "DAARQATHDHEKETEVKERSVFDIPIFTEEFLNHSKAREAELRQLRKSNMEFEERNAALQKHVESMRTAVEKLEVDVIQERSRNT\n"
     ]
    },
    {
     "data": {
      "application/vnd.jupyter.widget-view+json": {
       "model_id": "00ad2e6eb3444c98b5cdfb193ce09a02",
       "version_major": 2,
       "version_minor": 0
      },
      "text/plain": [
       "HBox(children=(IntProgress(value=0, max=278), HTML(value='')))"
      ]
     },
     "metadata": {},
     "output_type": "display_data"
    },
    {
     "name": "stdout",
     "output_type": "stream",
     "text": [
      "\n",
      "DFYTRVLGMTLIQKCDFPIMKFSYYFLAYEDKNDIPKEKDEKIAWALSRKALLELTHNWGTEDDETQHYSNGSSDPRGFGHIGIA\n",
      "DFYTRVLGMTLIQKCDFPIMKFSLYFLAYEDKNDIPKEKDEKIAWALSRKATLELTHNWGTEDDETQSYHNGNSDPRGFGHIGIA\n"
     ]
    },
    {
     "data": {
      "application/vnd.jupyter.widget-view+json": {
       "model_id": "9e03297d370846adbf078725d0b190ad",
       "version_major": 2,
       "version_minor": 0
      },
      "text/plain": [
       "HBox(children=(IntProgress(value=0, max=278), HTML(value='')))"
      ]
     },
     "metadata": {},
     "output_type": "display_data"
    },
    {
     "name": "stdout",
     "output_type": "stream",
     "text": [
      "\n",
      "TGLGALLVHNRAAPLLRKTYFGGGTASAYLAGEDFYIPRQSVAQRFEDGTISFLDVIALKHGDDTLERLTGGMENIKQHTFTLAQ\n",
      "TGLGALLVHNRAAPLLRKTYFGGGTASAYLAGEDFYIPRQSVAQRFEDGTISFLDVIALKHGFDTLERLTGGMENIKQHTFTLAQ\n"
     ]
    },
    {
     "data": {
      "application/vnd.jupyter.widget-view+json": {
       "model_id": "6b35b7e7940d41a1a8d85668c0895250",
       "version_major": 2,
       "version_minor": 0
      },
      "text/plain": [
       "HBox(children=(IntProgress(value=0, max=278), HTML(value='')))"
      ]
     },
     "metadata": {},
     "output_type": "display_data"
    },
    {
     "name": "stdout",
     "output_type": "stream",
     "text": [
      "\n",
      "EVEHLTKVTGLSTREVRKWFSDRRYHCRNLKGSRAMIPGDHSSIIIDSVPEVSFSPSSKVPEVTCIPTTATLITHPSAKRQSWHQ\n",
      "EVEHLTKVTGLSTREVRKWFSDRRYHCRNLKGSRAMIPGDHSSIIIDSVPEVSFSPSSKVPEVTCIPTTATLATHPSAKRQSWHQ\n"
     ]
    },
    {
     "data": {
      "application/vnd.jupyter.widget-view+json": {
       "model_id": "fe345766119b44718e0f7a4d949f45e5",
       "version_major": 2,
       "version_minor": 0
      },
      "text/plain": [
       "HBox(children=(IntProgress(value=0, max=278), HTML(value='')))"
      ]
     },
     "metadata": {},
     "output_type": "display_data"
    },
    {
     "name": "stdout",
     "output_type": "stream",
     "text": [
      "\n",
      "ERVNLSAAQTLRAAFIKAEKENPGLTQDIIMKILEKKSEVVNTTESLLRMAADDEVVYEIMRPEPEFQDLNEKARALKQILSKIP\n",
      "ERVNLSAAQTLRAAFIKAEKENPGLTQDIIMKILEKKSVEVNFTESLLRMAADDVEEYMIERPEPEFQDLNEKARALKQILSKIP\n"
     ]
    },
    {
     "data": {
      "application/vnd.jupyter.widget-view+json": {
       "model_id": "9f1975723ae24d76b7c434aac17b8330",
       "version_major": 2,
       "version_minor": 0
      },
      "text/plain": [
       "HBox(children=(IntProgress(value=0, max=278), HTML(value='')))"
      ]
     },
     "metadata": {},
     "output_type": "display_data"
    },
    {
     "name": "stdout",
     "output_type": "stream",
     "text": [
      "\n",
      "NDANPGIRDKQGYNAVHYSAAYGHRLCQQLIASETPLDVLMETSTTDMLSDSNDRATISPLHLAAYHGHHQALEVLVQSLLDLDV\n",
      "NDANPGIRDKQGYNAVHYSAAYGHRLCLQLIASETPLDVLMETSGTDMLSDSDNRATISPLHLAAYHGHHQALEVLVQSLLDLDV\n"
     ]
    },
    {
     "data": {
      "application/vnd.jupyter.widget-view+json": {
       "model_id": "8131ab67a4214c7890b359d29ea63d1a",
       "version_major": 2,
       "version_minor": 0
      },
      "text/plain": [
       "HBox(children=(IntProgress(value=0, max=278), HTML(value='')))"
      ]
     },
     "metadata": {},
     "output_type": "display_data"
    },
    {
     "name": "stdout",
     "output_type": "stream",
     "text": [
      "\n",
      "FNSLPLPRAVLASPCAATVTILDDDHAGIFTFECDTIHVSESIGVMEVKVLRSSGARGTVIVPFRTVEGTAKGGGEDFEDTYGEL\n",
      "FNSLPLPRAVLASPCVATVTILDDDHAGIFTFECDTIHVSESIGVMEVKVLRTSGARGTVIVPFRTVEGTAKGGGEDFEDTYGEL\n"
     ]
    },
    {
     "data": {
      "application/vnd.jupyter.widget-view+json": {
       "model_id": "27a6a07ed1f94e548103a9a2cf1b2e27",
       "version_major": 2,
       "version_minor": 0
      },
      "text/plain": [
       "HBox(children=(IntProgress(value=0, max=278), HTML(value='')))"
      ]
     },
     "metadata": {},
     "output_type": "display_data"
    },
    {
     "name": "stdout",
     "output_type": "stream",
     "text": [
      "\n",
      "SNHLRHHMIIHSGVREFTCETCGKSFKRKNHLEVHRRTHTGETPLQCEICYYQCRQRASLNWHMKKHTAEVQYNFTCDRCGKRFE\n",
      "SNHLRRHMIIHSGVREFTCETCGKSFKRKNHLEVHRRTHTGETPLQCEICGYQCRQRASLNWHMKKHTAEVQYNFTCDRCGKRFE\n"
     ]
    },
    {
     "data": {
      "application/vnd.jupyter.widget-view+json": {
       "model_id": "f7c2014ccf9641918a5b466d59f2444e",
       "version_major": 2,
       "version_minor": 0
      },
      "text/plain": [
       "HBox(children=(IntProgress(value=0, max=283), HTML(value='')))"
      ]
     },
     "metadata": {},
     "output_type": "display_data"
    },
    {
     "name": "stdout",
     "output_type": "stream",
     "text": [
      "\n",
      "FMKVLKCEVELAMMRKKTDDSFTQNQTRLVVIIDGLDACEQDKVLQMLTTVVRLFSKGPFIAIFASDPHIIIKAINQNLSNVLRDS\n",
      "FMKVLKCEVELMARMAKTIDSFTQNQTRLVVIIDGLDACEQDKVLQMLDTVRVLFSKGPFIAIFASDPHIIIKAINQNLNSVLRDS\n"
     ]
    },
    {
     "data": {
      "application/vnd.jupyter.widget-view+json": {
       "model_id": "6260217663814c7d8959ca55d382fc08",
       "version_major": 2,
       "version_minor": 0
      },
      "text/plain": [
       "HBox(children=(IntProgress(value=0, max=283), HTML(value='')))"
      ]
     },
     "metadata": {},
     "output_type": "display_data"
    },
    {
     "name": "stdout",
     "output_type": "stream",
     "text": [
      "\n",
      "QERDLLKTRRISDDTFTIMYYLTTHEDHSDVAYHNSLHAAAAQQTTHVLLSTPALDAVFTDLEILAAIFAAAIDDVDHPGVSNQFL\n",
      "QERDLLKTFRISSDTFITYMMTLEDHYHSDVAYHNSLHAADVAQSTHVLLSTPALDAVFTDLEILAAIFAAAIHDVDHPGVSNQFL\n"
     ]
    },
    {
     "data": {
      "application/vnd.jupyter.widget-view+json": {
       "model_id": "c8f581af04534432ab137ae4286213f9",
       "version_major": 2,
       "version_minor": 0
      },
      "text/plain": [
       "HBox(children=(IntProgress(value=0, max=288), HTML(value='')))"
      ]
     },
     "metadata": {},
     "output_type": "display_data"
    },
    {
     "name": "stdout",
     "output_type": "stream",
     "text": [
      "\n",
      "NKLMHQEQLKVMFIGGPNTYKDIHIEEGEEVFYQLEGDMVLRVLEQGKHRDVVIRQGEIFLLPARVHHSPQRFANTVGLVVERRRLE\n",
      "NKLMHQEQLKVMFIGGPNTRKDYHIEEGEEVFYQLEGDMVLRVLEQGKHRDVVIRQGEIFLLPARVPHSPQRFANTVGLVVERRRLE\n"
     ]
    },
    {
     "data": {
      "application/vnd.jupyter.widget-view+json": {
       "model_id": "3c45b8e0ae73487596f30dccd870b2e9",
       "version_major": 2,
       "version_minor": 0
      },
      "text/plain": [
       "HBox(children=(IntProgress(value=0, max=288), HTML(value='')))"
      ]
     },
     "metadata": {},
     "output_type": "display_data"
    },
    {
     "name": "stdout",
     "output_type": "stream",
     "text": [
      "\n",
      "GGTTVLVELTPDIHICGIKKQQFNNLDAFVAHKQSGQCLTGTSAAPPSTVQFSSEETVPATTTTQTTRTITSETQTITVSAPEFVFE\n",
      "GGTTVLVELTPDIHICGICKQQFNNLDAFVAHKQSGCQLTGTSAAAPSTVQFVSEETVPATQTQTTTRTITSETQTITVSAPEFVFE\n"
     ]
    },
    {
     "data": {
      "application/vnd.jupyter.widget-view+json": {
       "model_id": "72b53c1b7f404f028bc0df3aac052ef9",
       "version_major": 2,
       "version_minor": 0
      },
      "text/plain": [
       "HBox(children=(IntProgress(value=0, max=288), HTML(value='')))"
      ]
     },
     "metadata": {},
     "output_type": "display_data"
    },
    {
     "name": "stdout",
     "output_type": "stream",
     "text": [
      "\n",
      "FNRPSKVIQHQSMHSGLKPYKCVVCQKAFRFLSSLSIHQRFHVGNRVNLTRHQKTHTQRKPFCCNFCGKTFHRFSEKTQHLLIHTRK\n",
      "FNRPSKVIQHQSMHSGLKPYKCDVCQKAFRFLSSLSIHQRFHVGNRVNLTRHQKTHTQRKPFSCNFCGKTFHRFSEKTQHLLIHTRK\n"
     ]
    },
    {
     "data": {
      "application/vnd.jupyter.widget-view+json": {
       "model_id": "d44042a0cecf4b309c21086114093511",
       "version_major": 2,
       "version_minor": 0
      },
      "text/plain": [
       "HBox(children=(IntProgress(value=0, max=288), HTML(value='')))"
      ]
     },
     "metadata": {},
     "output_type": "display_data"
    },
    {
     "name": "stdout",
     "output_type": "stream",
     "text": [
      "\n",
      "GEAGVRLDYISLHRKGARSSISILEQEKVVAQQIRQLFPKFADTPIYNDEADPLVGWSLPQPWRMDTAYYVMVVKVIAHQQNLLLAN\n",
      "GEAGVRLDYISLHRKGARSSISILEQEKVVAQQIRQLFPKFADTPIYNDEADPLVGWSLPQPWRADVTYAAMVVKVIAQHQNLLLAN\n"
     ]
    },
    {
     "data": {
      "application/vnd.jupyter.widget-view+json": {
       "model_id": "492a1c5d895545e5b52dc2d7723ea3b2",
       "version_major": 2,
       "version_minor": 0
      },
      "text/plain": [
       "HBox(children=(IntProgress(value=0, max=288), HTML(value='')))"
      ]
     },
     "metadata": {},
     "output_type": "display_data"
    },
    {
     "name": "stdout",
     "output_type": "stream",
     "text": [
      "\n",
      "LSILGSYTLVIRAVLCIPSGAGRTKAFSTCGSHLMVSVLFYTTLMVMYVSSTSGNPAMMQKIITLVYTATMPFNLPLIYSLRNKDMK\n",
      "LSILGSYTLVIRAVLCIPSGAGRTKAFSTCGSHLMVVSLFYGTLMVMYVSPTSGNPAGMQKIITLVYTAMTPFLNPLIYSLRNKDMK\n"
     ]
    },
    {
     "data": {
      "application/vnd.jupyter.widget-view+json": {
       "model_id": "428490d535b74376a9cf9c300809c3d3",
       "version_major": 2,
       "version_minor": 0
      },
      "text/plain": [
       "HBox(children=(IntProgress(value=0, max=288), HTML(value='')))"
      ]
     },
     "metadata": {},
     "output_type": "display_data"
    },
    {
     "name": "stdout",
     "output_type": "stream",
     "text": [
      "\n",
      "TLKSFWQSFNNPWTKELEYIVSVNTLVLGHSEPGEASCSPLSSQSSEESSRQSCMVMPGVTSGSTLGAGSIGTDINAEILDLQRLQS\n",
      "TLKSQWFSFTNPWTKELEYIVSVNTLVLGHSEPGEASFLPCSSQSSEESSRQSCMSVPGMSTGTVLGAGSIGTDIANEILDLQRLQS\n"
     ]
    },
    {
     "data": {
      "application/vnd.jupyter.widget-view+json": {
       "model_id": "066f857d0afa4d53ba5fc91f66f0eece",
       "version_major": 2,
       "version_minor": 0
      },
      "text/plain": [
       "HBox(children=(IntProgress(value=0, max=288), HTML(value='')))"
      ]
     },
     "metadata": {},
     "output_type": "display_data"
    },
    {
     "name": "stdout",
     "output_type": "stream",
     "text": [
      "\n",
      "DADLYCQNMNSGNLVSVLTQAEGAFVASLIKESSTDSSNVWIGLHDPKKNRRWHWSSGSLVSYKSWDTGSPSSANAGYCASLTSCSG\n",
      "DADLYCQNMNSGNLVSVLTQAEGAFVASLIKESSTDDSNVWIGLHDPKKNRRWHWSSGSLVSYKSWDTGSPSSANAGYCASLTSCSG\n"
     ]
    },
    {
     "data": {
      "application/vnd.jupyter.widget-view+json": {
       "model_id": "3376a3ef39644530a7b7bf0bbe7aee92",
       "version_major": 2,
       "version_minor": 0
      },
      "text/plain": [
       "HBox(children=(IntProgress(value=0, max=288), HTML(value='')))"
      ]
     },
     "metadata": {},
     "output_type": "display_data"
    },
    {
     "name": "stdout",
     "output_type": "stream",
     "text": [
      "\n",
      "SDYSFAFQRYLQRLLLVHGRWSIYRMCKFLRYFFYKNFFFTLVHFWYSFFNGYSAQTAYEDWFITLYNVLTTSPPVLMMGLLDQVDS\n",
      "SDYSFAQFRYLQRLLLVHGRWSYIRMCKFLRYFFYKNFAFTLVHFWYSFFNGYSAQTAYEDWFITLYNVLYTSLPVLLMGLLDQDVS\n"
     ]
    },
    {
     "data": {
      "application/vnd.jupyter.widget-view+json": {
       "model_id": "68dec50826b549b6afbeb71eef89c082",
       "version_major": 2,
       "version_minor": 0
      },
      "text/plain": [
       "HBox(children=(IntProgress(value=0, max=288), HTML(value='')))"
      ]
     },
     "metadata": {},
     "output_type": "display_data"
    },
    {
     "name": "stdout",
     "output_type": "stream",
     "text": [
      "\n",
      "KGPSYGLSAEVKNRLLSKYDPQKEAELRTWIEGLTGLSIGPDFQKGLGDGTILCTLMNKLQPGSVPKINRSMQNWHQLENLSNFIKA\n",
      "KGPSYGLSAEVKNRLLSKYDPQKEAELRTWIEGLTGLSIGPDFQKGLKDGTILCTLMNKLQPGSVPKINRSMQNWHQLENLSNFIKA\n"
     ]
    },
    {
     "data": {
      "application/vnd.jupyter.widget-view+json": {
       "model_id": "2b498a01e6fc411e8db9f8846685b554",
       "version_major": 2,
       "version_minor": 0
      },
      "text/plain": [
       "HBox(children=(IntProgress(value=0, max=293), HTML(value='')))"
      ]
     },
     "metadata": {},
     "output_type": "display_data"
    },
    {
     "name": "stdout",
     "output_type": "stream",
     "text": [
      "\n",
      "CRGGVDTAAAPAGGAPPAHAPGPGRDAASAARGSRMRPHIFTLVVPFPTPLEAEIAHGSLAPDAEPHQRVVGKDLTVSGRILVVRWKA\n",
      "CRGGVDTAAAPAGGAPPAHAPGPGRDAASAARGSRMRPHIFTLSVPFPTPLEAEIAHGSLAPDAEPHQRVVGKDLTVSGRILVVRWKA\n"
     ]
    },
    {
     "data": {
      "application/vnd.jupyter.widget-view+json": {
       "model_id": "9e30a4d84677465cb49b0b0efcbd4548",
       "version_major": 2,
       "version_minor": 0
      },
      "text/plain": [
       "HBox(children=(IntProgress(value=0, max=293), HTML(value='')))"
      ]
     },
     "metadata": {},
     "output_type": "display_data"
    },
    {
     "name": "stdout",
     "output_type": "stream",
     "text": [
      "\n",
      "IGMDPSSGQLVSGGVAEEAKQALKKMGEILKAAGCDFTNVVKTTVLLADINDFNTVNEIKKQYFKSNFPARAAYQVAALPKGSRIEIE\n",
      "IGMDPSSGQLVSGGVAEEAKQALKNMGEILKAAGCDFTNVVKTTVLLADINDFNTVNEIYKQYFKSNFPARAAYQVAALPKGSRIEIE\n"
     ]
    },
    {
     "data": {
      "application/vnd.jupyter.widget-view+json": {
       "model_id": "a5c0cc1855ba478aa32663a8740180d1",
       "version_major": 2,
       "version_minor": 0
      },
      "text/plain": [
       "HBox(children=(IntProgress(value=0, max=293), HTML(value='')))"
      ]
     },
     "metadata": {},
     "output_type": "display_data"
    },
    {
     "name": "stdout",
     "output_type": "stream",
     "text": [
      "\n",
      "CRADHLAQPQPQGHLAPVLRCGCCWRARGLPGGCCLHTEGGCSLGAQAGGRTAGWEARGRRDLGLTTTSAHSRSLLHLSSWRRPDVGE\n",
      "CRADHLAQPQPQGHLAPVLRCGECWRARGLPGGCCLHTEGGCSLGAQAGWRTAGWEARGRRDLGLETTSAHSRSLLHLSSWRRPDVGE\n"
     ]
    },
    {
     "data": {
      "application/vnd.jupyter.widget-view+json": {
       "model_id": "a83f0a8a5ef14ddd860c82e064ee8d16",
       "version_major": 2,
       "version_minor": 0
      },
      "text/plain": [
       "HBox(children=(IntProgress(value=0, max=293), HTML(value='')))"
      ]
     },
     "metadata": {},
     "output_type": "display_data"
    },
    {
     "name": "stdout",
     "output_type": "stream",
     "text": [
      "\n",
      "GARRLQLPGAAQRTTDAVPPQLSLACCYEVLSAAKRQRLNELRDAAYCFMSHHYLEVLREPVAFGRLSGAERDLLLRRRLRGGRAHLL\n",
      "GARRLQLPGAAQRATDAVGPQLSLANCYEVLSAAKRQRLNELRDAAYCFMSDHYLEVLREPAVFGRLSGAERDLLLRRRLRAGRAHLL\n"
     ]
    },
    {
     "data": {
      "application/vnd.jupyter.widget-view+json": {
       "model_id": "7dafa14bd62b421f92ea4bfa3888e6b1",
       "version_major": 2,
       "version_minor": 0
      },
      "text/plain": [
       "HBox(children=(IntProgress(value=0, max=293), HTML(value='')))"
      ]
     },
     "metadata": {},
     "output_type": "display_data"
    },
    {
     "name": "stdout",
     "output_type": "stream",
     "text": [
      "\n",
      "MEVFFPKFKLDQKYEMHELLRQMGIRRIFSPFADLSELSATGRNLQVSRVLQRTVIEVDERGTEAVAGILSEITAYSMPPVIKVDRPF\n",
      "MEVFFPKFKLDQKYEMHELLRQMGIRRIFSPFADLSELSATGRNLQVSRVLQRTVIEVDERGTEAVAGILSEITAYSMPPVIKVDRPF\n"
     ]
    },
    {
     "data": {
      "application/vnd.jupyter.widget-view+json": {
       "model_id": "feacbe641dff427a8794640b1ebd23dd",
       "version_major": 2,
       "version_minor": 0
      },
      "text/plain": [
       "HBox(children=(IntProgress(value=0, max=293), HTML(value='')))"
      ]
     },
     "metadata": {},
     "output_type": "display_data"
    },
    {
     "name": "stdout",
     "output_type": "stream",
     "text": [
      "\n",
      "PAGRRHLPLSRRRERMSSNKEQRSAVFVILFALITILILYSSNSANEVFHYGSLRGRSRRPVNLKKWSITDGYVPILGNKTLPSRCHQ\n",
      "PAGRRHLPLSRRRREMSSNKEQRSAVFVILFALITILILYSSNSANEVFHYGSLRGRSRRPVNLKKWSITDGYVPILGNKTLPSRCHQ\n"
     ]
    },
    {
     "data": {
      "application/vnd.jupyter.widget-view+json": {
       "model_id": "bea3549f4cee4fe49189f107cda0c731",
       "version_major": 2,
       "version_minor": 0
      },
      "text/plain": [
       "HBox(children=(IntProgress(value=0, max=299), HTML(value='')))"
      ]
     },
     "metadata": {},
     "output_type": "display_data"
    },
    {
     "name": "stdout",
     "output_type": "stream",
     "text": [
      "\n",
      "IIPEAPMRSSQVSALGLEAQEDEDPSYKWREEHRLSATQQSELRDVCDYAIETMPSFPKEGSADVEPNQESLVAEACDTPEHWEAVPQS\n",
      "IIPEAPMRSSQVSALGLEAQEDEDPSYKWREEHRLSATQQSELRDVCDYAIETMPSFPKEGSADVEPNQESLVAEACDTPEHWEAVPQS\n"
     ]
    },
    {
     "data": {
      "application/vnd.jupyter.widget-view+json": {
       "model_id": "1a4ae71504dd4f169faf56a0b1e6fb34",
       "version_major": 2,
       "version_minor": 0
      },
      "text/plain": [
       "HBox(children=(IntProgress(value=0, max=299), HTML(value='')))"
      ]
     },
     "metadata": {},
     "output_type": "display_data"
    },
    {
     "name": "stdout",
     "output_type": "stream",
     "text": [
      "\n",
      "YKPPIYHFYSHIVSNDTVTIIVNQPNNYSFCCTSSSTYLVNQAFADQVVTAVHKVNGSGMTFESQLLSNFYTNKAFSIKKEAPFVLEAS\n",
      "YKPPIYHFYSHIVSNDTTVIVKNQPVNYSFSCTYHSTYLVNQAAFDQRVATVHVKNGSMGTFESQLSLNFYTNAKFSIKKEAPFVLEAS\n"
     ]
    },
    {
     "data": {
      "application/vnd.jupyter.widget-view+json": {
       "model_id": "03388f8477b04724a93904a16e48ca6f",
       "version_major": 2,
       "version_minor": 0
      },
      "text/plain": [
       "HBox(children=(IntProgress(value=0, max=299), HTML(value='')))"
      ]
     },
     "metadata": {},
     "output_type": "display_data"
    },
    {
     "name": "stdout",
     "output_type": "stream",
     "text": [
      "\n",
      "QNHSHQTEADFNLQDFRDTVDLDISSDSSMMSPTLASGDFPFSPCDISPFGPCLSPPLDRRALQPSPLRPPDVPPPEQYWKEVADQNQR\n",
      "QNHSHQTEADFNLQDFRDTVDDLISDSSSMMSPTLASGDFPFSPCDISPFGPCLSPPLDPRALQSPPLRPPDVPPPEQYWKEVADQNQR\n"
     ]
    },
    {
     "data": {
      "application/vnd.jupyter.widget-view+json": {
       "model_id": "d2c9fb00590e4b7b9bc43ffb04d7dc2a",
       "version_major": 2,
       "version_minor": 0
      },
      "text/plain": [
       "HBox(children=(IntProgress(value=0, max=299), HTML(value='')))"
      ]
     },
     "metadata": {},
     "output_type": "display_data"
    },
    {
     "name": "stdout",
     "output_type": "stream",
     "text": [
      "\n",
      "NMQPLKGEVVRQAFLGLMPYYKDHLEREVEIARLRAVQKKARFAKLKVCVFKEEMPITPYECLLLNSLRFERSESDGQLFEHHCEVDVS\n",
      "NMQPLKGEKVRQAFLGLMPYYKDHLERIVEIARLRAVQRKARFAKLKVCVFKEEMPITPYECPLLNSLRFERSESDGQLFEHHCEVDVS\n"
     ]
    },
    {
     "data": {
      "application/vnd.jupyter.widget-view+json": {
       "model_id": "f857cb246b1c422ca4b208a236e0f511",
       "version_major": 2,
       "version_minor": 0
      },
      "text/plain": [
       "HBox(children=(IntProgress(value=0, max=299), HTML(value='')))"
      ]
     },
     "metadata": {},
     "output_type": "display_data"
    },
    {
     "name": "stdout",
     "output_type": "stream",
     "text": [
      "\n",
      "NTWARNRYYYSPDSVEFWAFSFDEMAKYDLPATIDFIVKKTGQKQLHYVGHQSGTTIGFIFFSTNPSLAKRIKTFYALAPVATVKYTKS\n",
      "NTWARRNLYYSPDSVEFWAFSFDEMAKYDLPATIDFIVKKTGQKQLHYVGHSQGTTIGFIAFSTNPSLAKRIKTFYALAPVATVKYTKS\n"
     ]
    },
    {
     "data": {
      "application/vnd.jupyter.widget-view+json": {
       "model_id": "07fba72427874b70b0841e2ee462939a",
       "version_major": 2,
       "version_minor": 0
      },
      "text/plain": [
       "HBox(children=(IntProgress(value=0, max=299), HTML(value='')))"
      ]
     },
     "metadata": {},
     "output_type": "display_data"
    },
    {
     "name": "stdout",
     "output_type": "stream",
     "text": [
      "\n",
      "FRRRVVQEERSAGATANLPLRSGRNEVVLSRRRVPPNLQRFRGTTTAKSVCRMLSDLCQGSMHSPCANDLFSYMTCQQHEIQNPDQKQS\n",
      "RFGRNVQEERSAGATANLPLRSGRNMEVSLVRRVPNLPQRFGRTTTAKSVCRMLSDLCQGSMHSPCANDLFYSMTCQHQEIQNPDQKQS\n"
     ]
    },
    {
     "data": {
      "application/vnd.jupyter.widget-view+json": {
       "model_id": "94c87d2c190f4f858b8efc46cccbedb5",
       "version_major": 2,
       "version_minor": 0
      },
      "text/plain": [
       "HBox(children=(IntProgress(value=0, max=299), HTML(value='')))"
      ]
     },
     "metadata": {},
     "output_type": "display_data"
    },
    {
     "name": "stdout",
     "output_type": "stream",
     "text": [
      "\n",
      "YDGKDYIALNEHLRSCTAADTAAQITQRKWEAARAEEQQRAYLEGTCCEWLRRYLEGNENTLQRAEHPKTHVTHHLVSDHEATLRCWAL\n",
      "YDGKDYIALNEHLRSCTAADTAAQITQRKWEAARAAEQQRAYLEGTCVEWLRRYLENGKETLQRAEHPKTHVTHHLVSDHEATLRCWAL\n"
     ]
    },
    {
     "data": {
      "application/vnd.jupyter.widget-view+json": {
       "model_id": "da9ee16d27fc4178bfeb1553ae2c5bce",
       "version_major": 2,
       "version_minor": 0
      },
      "text/plain": [
       "HBox(children=(IntProgress(value=0, max=305), HTML(value='')))"
      ]
     },
     "metadata": {},
     "output_type": "display_data"
    },
    {
     "name": "stdout",
     "output_type": "stream",
     "text": [
      "\n",
      "QAPHKEHLYKLLVIGDLGVGKTSIIKRYVHQNFSSHYRATIGVDFALKVLHWDPETVVRLQLWIDAGQERFGNMTRVYYREAMGAFIVFD\n",
      "QAPHKEHLYKLLVIGDLGVGKTSIIKRYVHQNFSSHYRATIGVDFALKVLHWDPETVVRLQLWDIAGQERFGNMTRVYYREAMGAFIVFD\n"
     ]
    },
    {
     "data": {
      "application/vnd.jupyter.widget-view+json": {
       "model_id": "06ff118c8b064da9bff71d17701be814",
       "version_major": 2,
       "version_minor": 0
      },
      "text/plain": [
       "HBox(children=(IntProgress(value=0, max=305), HTML(value='')))"
      ]
     },
     "metadata": {},
     "output_type": "display_data"
    },
    {
     "name": "stdout",
     "output_type": "stream",
     "text": [
      "\n",
      "CGYSGGGSGCGGGSSGGSGGGYVSSQQVTQTSCAPQPSYGGGSSGGGGSGGGSCFSSGGGGGSSGGGGGSSGIGSCCIISGGSSVCGGGS\n",
      "CGYSGGGSGCGGGSSGGSGSGYVSSQQVTQTSCAPQPSYGGGSSGGGGSGGSGCFSSGGGGGSSGCGGGSSGIGSGCIISGGGSVCGGGS\n"
     ]
    },
    {
     "data": {
      "application/vnd.jupyter.widget-view+json": {
       "model_id": "370b25f6c4e7450b9f942f2de6cfedaa",
       "version_major": 2,
       "version_minor": 0
      },
      "text/plain": [
       "HBox(children=(IntProgress(value=0, max=310), HTML(value='')))"
      ]
     },
     "metadata": {},
     "output_type": "display_data"
    },
    {
     "name": "stdout",
     "output_type": "stream",
     "text": [
      "\n",
      "DPKYFRYPDAFYPQFFLQEQRRFKKNEAFVPFSSGKRICLGEAMARMELFLYFTSTLQNFSLCSLVPLVDIDITPKLSFFGNITPTYELCL\n",
      "DPKYFRYPDAFYPQHFLDEQGRFKKNEAFVPFSSGKRICLGEAMARMELFLYFTSTLQNFSLCSLVPLVDIDITPKLSGFGNITPTYELCL\n"
     ]
    },
    {
     "data": {
      "application/vnd.jupyter.widget-view+json": {
       "model_id": "d4f22c73ca924d72b7853838fb7e633d",
       "version_major": 2,
       "version_minor": 0
      },
      "text/plain": [
       "HBox(children=(IntProgress(value=0, max=310), HTML(value='')))"
      ]
     },
     "metadata": {},
     "output_type": "display_data"
    },
    {
     "name": "stdout",
     "output_type": "stream",
     "text": [
      "\n",
      "TLTATGGVQSTASSKNASCYFDIEWRDRRITLRASNGKFVTSKKNGQLAASVETAGDSLLFLMKLINRPIIVFRGEHGFIKCRKVTGTLDA\n",
      "TLTATGGVQSTASSKNASCYFDIEWRDRRITLRASNGKFVTSKKNGQLAASVETAGDSELFLMKLINRPIIVFRGEHGFIGCRKVTGTLDA\n"
     ]
    },
    {
     "data": {
      "application/vnd.jupyter.widget-view+json": {
       "model_id": "4b2f647a06d045afae666b438ffb0bf4",
       "version_major": 2,
       "version_minor": 0
      },
      "text/plain": [
       "HBox(children=(IntProgress(value=0, max=310), HTML(value='')))"
      ]
     },
     "metadata": {},
     "output_type": "display_data"
    },
    {
     "name": "stdout",
     "output_type": "stream",
     "text": [
      "\n",
      "KFLESGGKDVETRKQIAGLQKRIQDLETEENMLENKVQDELNQLRITQVSAPPAGSMTPKSPSTDIFMMIPPPSISSSSSMPTRNGTQPPP\n",
      "KFLESGGKDVETRKQIAGLQKRIQDLETENMELKNKVQDLENQLRITQVSAPPAGSMTPKSPSTDIFDMIPFSPISHQSSMPTRNGTQPPP\n"
     ]
    },
    {
     "data": {
      "application/vnd.jupyter.widget-view+json": {
       "model_id": "92145397966b434d94492645d9597122",
       "version_major": 2,
       "version_minor": 0
      },
      "text/plain": [
       "HBox(children=(IntProgress(value=0, max=310), HTML(value='')))"
      ]
     },
     "metadata": {},
     "output_type": "display_data"
    },
    {
     "name": "stdout",
     "output_type": "stream",
     "text": [
      "\n",
      "MPGLTAYFGLLEICKVGGEETVMVNAAAGAGGSVVGQIAKLKKCGVVAGGGSSEKVAYLQKLGDDVVFNYKTVESLEETLKKASPDGYDCY\n",
      "MPGLTAYFGLLEICGVKGGETVMVNAAAGAVGSVVGQIAKLKGCKVVGAVGSDEKVAYLQKLGFDVVFNYKTVESLEETLKKASPDGYDCY\n"
     ]
    },
    {
     "data": {
      "application/vnd.jupyter.widget-view+json": {
       "model_id": "6b7e89ccede94b8780118945bc6e245c",
       "version_major": 2,
       "version_minor": 0
      },
      "text/plain": [
       "HBox(children=(IntProgress(value=0, max=310), HTML(value='')))"
      ]
     },
     "metadata": {},
     "output_type": "display_data"
    },
    {
     "name": "stdout",
     "output_type": "stream",
     "text": [
      "\n",
      "LRGRPLGPVDKYRVRKKFPLPRTIWDGEQKTHCFKERTRSLLLEWYLQDPYPNPSKKRELAQATGLTPTQVGNWFKNRRQRDRAAAAKNRL\n",
      "LRGRPLGPVDKYRVRKKFPLPRTIWDGEQKTHCFKERTRSLLREWYLQDPYPNPSKKRELAQATGLTPTQVGNWFKNRRQRDRAAAAKNRL\n"
     ]
    },
    {
     "data": {
      "application/vnd.jupyter.widget-view+json": {
       "model_id": "3636c60aec994c888129ce967d869a68",
       "version_major": 2,
       "version_minor": 0
      },
      "text/plain": [
       "HBox(children=(IntProgress(value=0, max=310), HTML(value='')))"
      ]
     },
     "metadata": {},
     "output_type": "display_data"
    },
    {
     "name": "stdout",
     "output_type": "stream",
     "text": [
      "\n",
      "GQFLGDPPPGLCQPELQPDSNSNFMASAKDANENWHGMPGRVEPILRRSSSESPSDNQAFQAPGSPEEGVRSPPEGAEIPGAEPEKMGGAG\n",
      "GQFLGDPPPGLCQPELQPDSNSNFMASAKDANENWHGMPGRVEPILRRSSSESPSDNQAFQAPGSPEEGVRSPPEGAEIPGAEPEKMGGAG\n"
     ]
    },
    {
     "data": {
      "application/vnd.jupyter.widget-view+json": {
       "model_id": "759e3c845ea347e497f419a730398ab3",
       "version_major": 2,
       "version_minor": 0
      },
      "text/plain": [
       "HBox(children=(IntProgress(value=0, max=310), HTML(value='')))"
      ]
     },
     "metadata": {},
     "output_type": "display_data"
    },
    {
     "name": "stdout",
     "output_type": "stream",
     "text": [
      "\n",
      "PAPPQKTPPPSQKAPSVPTIPQKAVSPTAPKKKSLLLPAPSQKALPTSPTEYQMALSPPASRGKLPGDFDVLPTGPIGRAAVERQSSGGKP\n",
      "PAPPQKTPPPSQKAPSVPTIPQKAVSPTAPKKKSLLLPAPSQKALPTSPTEYQMALSPPASRGKLPGDFDVLPTGIPGRAVLERSQSGGKP\n"
     ]
    },
    {
     "data": {
      "application/vnd.jupyter.widget-view+json": {
       "model_id": "3f96b6df7d4e4e34bcd8a404fd18ad07",
       "version_major": 2,
       "version_minor": 0
      },
      "text/plain": [
       "HBox(children=(IntProgress(value=0, max=310), HTML(value='')))"
      ]
     },
     "metadata": {},
     "output_type": "display_data"
    },
    {
     "name": "stdout",
     "output_type": "stream",
     "text": [
      "\n",
      "LTKATDVSIQPITNTPMSGTTTTGTRLTASSSVTMPPGMDFTASAASHTVPIIVLNTSGLGTSTMGASTTTSAHGVRTTTGSTREPTSSTF\n",
      "LTKATDVSIQPITNTPMSGTRTTGTRLTASSSVTMAPGMDFTASAASHTVPGIVLNTSGLGTSTMGASSTTSAHGVRTTTGSTREPTSSTF\n"
     ]
    },
    {
     "data": {
      "application/vnd.jupyter.widget-view+json": {
       "model_id": "856421f04f8446a4889d7a14a2845838",
       "version_major": 2,
       "version_minor": 0
      },
      "text/plain": [
       "HBox(children=(IntProgress(value=0, max=310), HTML(value='')))"
      ]
     },
     "metadata": {},
     "output_type": "display_data"
    },
    {
     "name": "stdout",
     "output_type": "stream",
     "text": [
      "\n",
      "ALVTLLFTLALVILSYMYIIRTILRPPSASQRKKAFSTCSSHMIIVSIYYGSCIFMYANPSAKEKASLTKGIAILNTSVAPMLPPFITTLR\n",
      "ALVTLLFTLALVILSYMYIIRTILRIPSASQRKKAFSTCSSHMIVISISYGSCIFMYANPSAKEKASLTKGIAILNTSVAPMLNPFIYTLR\n"
     ]
    },
    {
     "data": {
      "application/vnd.jupyter.widget-view+json": {
       "model_id": "b8a38389107a4f3fb37ea9c8926681c9",
       "version_major": 2,
       "version_minor": 0
      },
      "text/plain": [
       "HBox(children=(IntProgress(value=0, max=310), HTML(value='')))"
      ]
     },
     "metadata": {},
     "output_type": "display_data"
    },
    {
     "name": "stdout",
     "output_type": "stream",
     "text": [
      "\n",
      "LKAGETIRRQQQQQQHQSPHHEALLRRDTNVLYYIKRRLACCARKLGRIREAVKIMRDLMKEFPPLTMLNIHENLLESLLELQAYPDVQAV\n",
      "LKAGETIYRQSQQCQHQSPQHEAQLRRDTNVLVYIKRRLAMCARKLGRIREAVKIMRDLMKEFPPLTMLNIHENLLESLLELQAYPDVQAV\n"
     ]
    },
    {
     "data": {
      "application/vnd.jupyter.widget-view+json": {
       "model_id": "f61c1ab6aa044a34a79600e3bbe2d9c3",
       "version_major": 2,
       "version_minor": 0
      },
      "text/plain": [
       "HBox(children=(IntProgress(value=0, max=310), HTML(value='')))"
      ]
     },
     "metadata": {},
     "output_type": "display_data"
    },
    {
     "name": "stdout",
     "output_type": "stream",
     "text": [
      "\n",
      "FSREPFVVWFQSPHTAVKDFVIIPLHTTPETSVKEIDELVEVYTDVKHRWKAENFIFMGDFNAGCSYVPKKAWKNIRLRTDPRFVWLIGDQ\n",
      "FSREPFVVWFQSPHTAVKDFVIIPLHTTPETSVKEIDELVEVYTDVKHRWKAENFIFMGDFNAGCSYVPKKAWKNIRLRTDPRFVWLIGDQ\n"
     ]
    },
    {
     "data": {
      "application/vnd.jupyter.widget-view+json": {
       "model_id": "ca9d692712684fa682f157f577185f3d",
       "version_major": 2,
       "version_minor": 0
      },
      "text/plain": [
       "HBox(children=(IntProgress(value=0, max=317), HTML(value='')))"
      ]
     },
     "metadata": {},
     "output_type": "display_data"
    },
    {
     "name": "stdout",
     "output_type": "stream",
     "text": [
      "\n",
      "HRFPFSRPELLKEWVLNIGRGNFKPKQHTVICSEHFRPECFSAFGNRKNLKHNAVPTVVAFQDPTQQVRENTDPASEGGNASSSQKEKVLPE\n",
      "HRFPFSRPELLKEWVLNIGRGNFKPKQHTVICSEHFRPECFSAFGNRKNLKHNAVPTVFAFQDPTQQVRENTDPASERGNASSSQKEKVLPE\n"
     ]
    },
    {
     "data": {
      "application/vnd.jupyter.widget-view+json": {
       "model_id": "e7bbd35fb78d4085b320ffe1cabc1e59",
       "version_major": 2,
       "version_minor": 0
      },
      "text/plain": [
       "HBox(children=(IntProgress(value=0, max=317), HTML(value='')))"
      ]
     },
     "metadata": {},
     "output_type": "display_data"
    },
    {
     "name": "stdout",
     "output_type": "stream",
     "text": [
      "\n",
      "SLLTQLRAEDLNIAPRKALTQPLPPPLLPTTIMIHYETDGFSLGVFLLLKKTSIPLHDHPGMHGMLKVLYGTVRSSCMDLLDAGGGQRPRAL\n",
      "SLLTQLRAEDLNIAPRKATLQPLPPNLPPVTYMHIYETDGFSLGVFLLKSGTSIPLHDHPGMHGMLKVLYGTVRISCMDKLDAGGGQRPRAL\n"
     ]
    },
    {
     "data": {
      "application/vnd.jupyter.widget-view+json": {
       "model_id": "56da9009ac7343e3b92c23473eed722c",
       "version_major": 2,
       "version_minor": 0
      },
      "text/plain": [
       "HBox(children=(IntProgress(value=0, max=317), HTML(value='')))"
      ]
     },
     "metadata": {},
     "output_type": "display_data"
    },
    {
     "name": "stdout",
     "output_type": "stream",
     "text": [
      "\n",
      "EPSRFISAPTKTPDKMGFDEVFMINLRRRQDRRERLMRALQAQEIECRLVEAVDGKAMNTSQVEALGIQMLPGYRDPYHGRPLTGGELGCFL\n",
      "EPSRFISAPTKTPDKMGFDEVFMINLRRRQDRRERMLRALQAQEIECRLVEAVDGKAMNTSQVEALGIQMLPGYRDPYHGRPLTKGELGCFL\n"
     ]
    },
    {
     "data": {
      "application/vnd.jupyter.widget-view+json": {
       "model_id": "e2b1f5196a384a50a2764b5f59b19a54",
       "version_major": 2,
       "version_minor": 0
      },
      "text/plain": [
       "HBox(children=(IntProgress(value=0, max=323), HTML(value='')))"
      ]
     },
     "metadata": {},
     "output_type": "display_data"
    },
    {
     "name": "stdout",
     "output_type": "stream",
     "text": [
      "\n",
      "LLINKAESTLPLSEGTQTVLSPSVTCGPTGLLLCPRVILTPPHCAEVSARDWIFQLKTQAHQGHWEEVVTLDEETLNTPCYCQLEPRCCHILL\n",
      "LLINKAESTLPLSEGTQTVLSPSVTCGPTGLLLCRPVILTMPHCAEVSARDWIFQLKTQAHQGHWEEVVTLDEETLNTPCYCQLEPRACHILL\n"
     ]
    },
    {
     "data": {
      "application/vnd.jupyter.widget-view+json": {
       "model_id": "d7c81f6a1bc54cbb9a7a2f4b7733e008",
       "version_major": 2,
       "version_minor": 0
      },
      "text/plain": [
       "HBox(children=(IntProgress(value=0, max=323), HTML(value='')))"
      ]
     },
     "metadata": {},
     "output_type": "display_data"
    },
    {
     "name": "stdout",
     "output_type": "stream",
     "text": [
      "\n",
      "LCDDLAPVARQLAPRKKLLPSNRRPAAVGAGLQNMCNTGYVNASLCQLTYTPLLANYMLSREHSQTCHRHKGCMLCTMQAHITRALHNPGHVI\n",
      "LCDDLAPVARQLAPREKLPLSNRRPAAVGAGLQNMGNTCYVNASLQCLTYTPPLANYMLSREHSQTCHRHKGCMLCTMQAHITRALHNPGHVI\n"
     ]
    },
    {
     "data": {
      "application/vnd.jupyter.widget-view+json": {
       "model_id": "f50015ca80024aa8afb2cdbccb75fc56",
       "version_major": 2,
       "version_minor": 0
      },
      "text/plain": [
       "HBox(children=(IntProgress(value=0, max=323), HTML(value='')))"
      ]
     },
     "metadata": {},
     "output_type": "display_data"
    },
    {
     "name": "stdout",
     "output_type": "stream",
     "text": [
      "\n",
      "KNGTTYNHGLVSCDNWMNINLREVICTSRDGGDFRWWPECIYRGSTIKYLRIPDEIIDMVKEEVVAKGRGRGGLQQKKQKQGRGMGGAGRGVF\n",
      "KNGETYNGHLVSCDNWMNINLREVICTSRDGDKFWRMPECYIRGSTIKYLRIPDEIIDMVKEEVVAKGRGRGGLQQQKQQKGRGMGGAGRGVF\n"
     ]
    },
    {
     "data": {
      "application/vnd.jupyter.widget-view+json": {
       "model_id": "83cc05dc4e1d41d39e574f95da307ee3",
       "version_major": 2,
       "version_minor": 0
      },
      "text/plain": [
       "HBox(children=(IntProgress(value=0, max=323), HTML(value='')))"
      ]
     },
     "metadata": {},
     "output_type": "display_data"
    },
    {
     "name": "stdout",
     "output_type": "stream",
     "text": [
      "\n",
      "MNAKVVVVLVLVLTALLLSDGKPVSLSYRCPCRFFESHVAARNVKHLKILNTNNCAQIILARLKNNNRQVIIDPLKKWIQEYLEKALNKRFKM\n",
      "MNAKVVVVLVLVLTALCLSDGKPVSLSYRCPCRFFESHVARANVKHLKILNTPNCALQIVARLKNNNRQVCIDPKLKWIQEYLEKALNKRFKM\n"
     ]
    },
    {
     "data": {
      "application/vnd.jupyter.widget-view+json": {
       "model_id": "8b141c2f6c9147ac8228a458b6b34aac",
       "version_major": 2,
       "version_minor": 0
      },
      "text/plain": [
       "HBox(children=(IntProgress(value=0, max=323), HTML(value='')))"
      ]
     },
     "metadata": {},
     "output_type": "display_data"
    },
    {
     "name": "stdout",
     "output_type": "stream",
     "text": [
      "\n",
      "GKAFSPTSRPTDEQIMHAGEKPYKCQECGNAFSGKSTLIQHQVTHTGQKPCHCSVYGKAFSQSSQLTPQQQTRVGEKPALNDGSKRYFIHIKK\n",
      "GKAFSPTSRPTEDQIMHAGEKPYKCQECGNAFSGKSTLIQHQVTHTGQKPCHCSVYGKAFSQSSQLTPPQQTRVGEKPALNDGSKRYFIHIKK\n"
     ]
    },
    {
     "data": {
      "application/vnd.jupyter.widget-view+json": {
       "model_id": "33276903df1540d29a7d1e669e97414c",
       "version_major": 2,
       "version_minor": 0
      },
      "text/plain": [
       "HBox(children=(IntProgress(value=0, max=323), HTML(value='')))"
      ]
     },
     "metadata": {},
     "output_type": "display_data"
    },
    {
     "name": "stdout",
     "output_type": "stream",
     "text": [
      "\n",
      "RTHTGEKPYECDECGRAFSQRSGLFQHQRLHTGEKRYQCSVCGKAFSQNAGLFHHLRIHTGEKPYQCNQCNKSFSRRSVLIKHQRIHTGERPY\n",
      "RTHTGEKPYECDECGRAFSQRSGLFQHQRLHTGEKRYQCSVCGKAFSQNAGLFHHLRIHTGEKPYQCNQCNKSFSRRSVLIKHQRIHTGERPY\n"
     ]
    },
    {
     "data": {
      "application/vnd.jupyter.widget-view+json": {
       "model_id": "a8def27171614eb4b4bdf0b3ec09d195",
       "version_major": 2,
       "version_minor": 0
      },
      "text/plain": [
       "HBox(children=(IntProgress(value=0, max=323), HTML(value='')))"
      ]
     },
     "metadata": {},
     "output_type": "display_data"
    },
    {
     "name": "stdout",
     "output_type": "stream",
     "text": [
      "\n",
      "GFGSYISEVKEVLQECKTVALKRRKASSRLENLGIEPEELLRQQQEFLAKARQQQAELAQQEWLQMQQAAQQAQLAAASASASNQAGSSQDEE\n",
      "GFGSYISEVKEVLQECKTVALKRRKASSRLENLGIPEEELLRQQQELFAKARQQQAELAQQEWLQMQQAAQQAQLAAASASASNQAGSSQDEE\n"
     ]
    },
    {
     "data": {
      "application/vnd.jupyter.widget-view+json": {
       "model_id": "7d51f429d1ab423dad448f0e2ddf636c",
       "version_major": 2,
       "version_minor": 0
      },
      "text/plain": [
       "HBox(children=(IntProgress(value=0, max=323), HTML(value='')))"
      ]
     },
     "metadata": {},
     "output_type": "display_data"
    },
    {
     "name": "stdout",
     "output_type": "stream",
     "text": [
      "\n",
      "YFSLRPDLKTKSYGNISERVELRKKLGKCSFKWYLDNVYPEMQISGSHAKPQPQIFNNPGPKRPKVLQRGRLYHLQTNKCLVAGGRPSQKGGL\n",
      "YFSLRPDLKTKSYGNISERVELRKKLGCKSFKWYLDNVYPEMQISGSHAKPQQPIFVNRGPKRPKVLQRGRLYHLQTNKCLVAQGRPSQKGGL\n"
     ]
    },
    {
     "data": {
      "application/vnd.jupyter.widget-view+json": {
       "model_id": "53129a5633e74153b7c0e49d10f740f1",
       "version_major": 2,
       "version_minor": 0
      },
      "text/plain": [
       "HBox(children=(IntProgress(value=0, max=323), HTML(value='')))"
      ]
     },
     "metadata": {},
     "output_type": "display_data"
    },
    {
     "name": "stdout",
     "output_type": "stream",
     "text": [
      "\n",
      "GLGDSIFFSPGISSTTSPKLNPPPSPHNAKKKHLKKKSNNNFMVVSATGQTWHFEATTYEREDAWVQAIQSQIAASLQCSCSKSKSKQLSTQS\n",
      "GLGDSICFSPGISSTTSPKLNPPPSPHANKKKHLKKKSTNNFMIVSATGQTWHFEATTYEERDAWVQAIQSQILASLQSCKSSKSKSQLTSQS\n"
     ]
    },
    {
     "data": {
      "application/vnd.jupyter.widget-view+json": {
       "model_id": "cd3dccba255c409a9ece3f963e0f7324",
       "version_major": 2,
       "version_minor": 0
      },
      "text/plain": [
       "HBox(children=(IntProgress(value=0, max=323), HTML(value='')))"
      ]
     },
     "metadata": {},
     "output_type": "display_data"
    },
    {
     "name": "stdout",
     "output_type": "stream",
     "text": [
      "\n",
      "YYNETIGFFYNNSGKELSSWHPRDKVVVVALGLTVSVLVLTTNLLVIAIAASNRRFHQPIYYLLGNLAAADLFAGVAYLLFFHHTGPRTARLS\n",
      "YYNETIGFFYNNSGKELSSHWRPKDVVVVALGLTVSVLVLLTNLLVIAAIASNRRFHQPIYYLLGNLAAADLFAGVAYLFLMFHTGPRTARLS\n"
     ]
    },
    {
     "data": {
      "application/vnd.jupyter.widget-view+json": {
       "model_id": "71b02db557684f979847e94ae693f1b8",
       "version_major": 2,
       "version_minor": 0
      },
      "text/plain": [
       "HBox(children=(IntProgress(value=0, max=323), HTML(value='')))"
      ]
     },
     "metadata": {},
     "output_type": "display_data"
    },
    {
     "name": "stdout",
     "output_type": "stream",
     "text": [
      "\n",
      "KNFAKYFLHQSHEEREHAEKLMKLQNQRGGRIFLQDIKKPDCDWDESGLNAMECALHLEKNVNQSLLELHKLATDKNDPHLCDFIETHYLNEQ\n",
      "KNFAKYFLHQSHEEREHAEKLMKLQNQRGGRIFLQDIKKPDCDDWESGLNAMECALHLEKNVNQSLLELHKLATDKNDPHLCDFIETHYLNEQ\n"
     ]
    },
    {
     "data": {
      "application/vnd.jupyter.widget-view+json": {
       "model_id": "f8da1e0422b84a658cf8b0721fb380f8",
       "version_major": 2,
       "version_minor": 0
      },
      "text/plain": [
       "HBox(children=(IntProgress(value=0, max=329), HTML(value='')))"
      ]
     },
     "metadata": {},
     "output_type": "display_data"
    },
    {
     "name": "stdout",
     "output_type": "stream",
     "text": [
      "\n",
      "LPTVLPAPVPGCSLWPEKAALKVLGEDLLPSSPGLLMVGEDMGPQDPAALGSSRSSPPRAAGSRSHKRKLSGPPLQLQPTPPLQLRCDRDERPP\n",
      "LPTVLPAPVPGCSLWPEKAALKVLGEDHLPSSPGLLMVGEDMQPKDPAALGSSRSSPPRAAGHRSHKRKLSGPPLQLQPTPPLQLRCDRDERPP\n"
     ]
    },
    {
     "data": {
      "application/vnd.jupyter.widget-view+json": {
       "model_id": "96bb6a7ac81e4eb988da26f34502c813",
       "version_major": 2,
       "version_minor": 0
      },
      "text/plain": [
       "HBox(children=(IntProgress(value=0, max=329), HTML(value='')))"
      ]
     },
     "metadata": {},
     "output_type": "display_data"
    },
    {
     "name": "stdout",
     "output_type": "stream",
     "text": [
      "\n",
      "SSYLFTDTPKRYFFVVEEDNTPLSVTVTPCDAPLWWKLSLQELPEDRSGEGSGDLEPLEQQKQQIINEEGEELFSYKGNVVEYFISSSSPSGLY\n",
      "SSYLFRDTPKRYFFVVEEDNTPLSVTVTPCDAPLEWKLSLQELPEDRSGEGSGDLEPLEQQKQQIINEEGTELFSYKGNDVEYFISSSSPSGLY\n"
     ]
    },
    {
     "data": {
      "application/vnd.jupyter.widget-view+json": {
       "model_id": "59f1f43e33fe4c8f93983465c37b672b",
       "version_major": 2,
       "version_minor": 0
      },
      "text/plain": [
       "HBox(children=(IntProgress(value=0, max=336), HTML(value='')))"
      ]
     },
     "metadata": {},
     "output_type": "display_data"
    },
    {
     "name": "stdout",
     "output_type": "stream",
     "text": [
      "\n",
      "SWWLMKSEPESRLEKGVDVKFSIEDLKAQPKQTTCWDGVRNQYARNFLRAMKLGEEAFFYHSNCKEPGIAGLMKIVKEAYPDHTQFEKNNPHYDP\n",
      "SHWLMKSEPESRLEKGVDVKFSIEDLKAQPKQTTCWDGVRNYQARNFLRAMKLGEEAFFYHSNCKEPGIAGLMKIVKEAYPDHTQFEKNNPHYDP\n"
     ]
    },
    {
     "data": {
      "application/vnd.jupyter.widget-view+json": {
       "model_id": "f9490b76ef1f472abbd777daa0329f0b",
       "version_major": 2,
       "version_minor": 0
      },
      "text/plain": [
       "HBox(children=(IntProgress(value=0, max=336), HTML(value='')))"
      ]
     },
     "metadata": {},
     "output_type": "display_data"
    },
    {
     "name": "stdout",
     "output_type": "stream",
     "text": [
      "\n",
      "DDDQRSSHYDELLAAEARAIKNGKLLHSKKEVPIHRVDDISGDQTKAKQLLPFQQRAGRSEAVVEYVFGGSRLLLYLPKETCLITFLLAGIECPR\n",
      "DDDQRSSHYDELLAAEARAIKNGKGLHSKKEVPIHRVADISGDTQKAKQFLPFLQRAGRSEAVVEYVFSGSRLKLYLPKETCLITFLLAGIECPR\n"
     ]
    },
    {
     "data": {
      "application/vnd.jupyter.widget-view+json": {
       "model_id": "4fcc4c2db0f64aa29a81c110c71a2b15",
       "version_major": 2,
       "version_minor": 0
      },
      "text/plain": [
       "HBox(children=(IntProgress(value=0, max=336), HTML(value='')))"
      ]
     },
     "metadata": {},
     "output_type": "display_data"
    },
    {
     "name": "stdout",
     "output_type": "stream",
     "text": [
      "\n",
      "AQPSPPTVYHERQRLELCVAAALNNLVQQLQFSQEAADEICKRLAPDSRLNPHRSLLGTGNYDVNVIMAAQQGLGLAAVWWDRRRPLSSLALPQV\n",
      "AQPSPPTVYHERQRLELCAVHALNNVLQQQLFSQEAADEICKRLAPDSRLNPHRSLLGTGNYDVNVIMAALQGLGLAAVWWDRRRPLSQLALPQV\n"
     ]
    },
    {
     "data": {
      "application/vnd.jupyter.widget-view+json": {
       "model_id": "141520ad7f9145d9ba66b016aa428ac7",
       "version_major": 2,
       "version_minor": 0
      },
      "text/plain": [
       "HBox(children=(IntProgress(value=0, max=336), HTML(value='')))"
      ]
     },
     "metadata": {},
     "output_type": "display_data"
    },
    {
     "name": "stdout",
     "output_type": "stream",
     "text": [
      "\n",
      "VYPMNCVPDVITTASAGSVSALPPAVVSASIGSSPGVASLLTEPSYSSSTCGSHTVPSHLAGLPSQEYAPGYNGSYLHSTYSSQPAPALPSPHPS\n",
      "VYPMNCVPDVITASKAGVSSALPPADVSASIGSSPGVASNLTEPSYSSSTCGSHTVPSLHAGLPSQEYAPGYNGSYLHSTYSSQPAPALPSPHPS\n"
     ]
    },
    {
     "data": {
      "application/vnd.jupyter.widget-view+json": {
       "model_id": "ad464d9f35c8440baab3303520d9b0d8",
       "version_major": 2,
       "version_minor": 0
      },
      "text/plain": [
       "HBox(children=(IntProgress(value=0, max=336), HTML(value='')))"
      ]
     },
     "metadata": {},
     "output_type": "display_data"
    },
    {
     "name": "stdout",
     "output_type": "stream",
     "text": [
      "\n",
      "LGRSHSSAGVRQGFSGQLCCWLTKEHTLAEALRLSPVPAGFWGPVEADRPPANSRRRVCPFCCCSCGDSVNEKTSLSSRVLPHPGEKTCRGGSVE\n",
      "LGRSHSSAGVRQGFSGQLCCWLTKEHTLAEALRLSPVPAGFWGPVEADRPPANSHRRVCPFCCCSCGDSVNEKTSLSQRVLPHPGEKTCRGGSVE\n"
     ]
    },
    {
     "data": {
      "application/vnd.jupyter.widget-view+json": {
       "model_id": "afce90264bdc4322bffc40fd7084a3b9",
       "version_major": 2,
       "version_minor": 0
      },
      "text/plain": [
       "HBox(children=(IntProgress(value=0, max=336), HTML(value='')))"
      ]
     },
     "metadata": {},
     "output_type": "display_data"
    },
    {
     "name": "stdout",
     "output_type": "stream",
     "text": [
      "\n",
      "ANAGCIAWEGGHGEFKLTDPDEVARRWGERKSKPNMNYDKSRLLARYYYDKNIMSKVHGKRYAYRFDFQGGAQACQPPPAHAHAAAAAAAAAAAA\n",
      "ANAGCIAWEGGHGEFKLTDPDEVARRWGERKSKPNMNYDKLSRALRYYYDKNIMSKVHGKRYAYRFDFQGLAQACQPPPAHAHAAAAAAAAAAAA\n"
     ]
    },
    {
     "data": {
      "application/vnd.jupyter.widget-view+json": {
       "model_id": "7460f8e71e114ebb85f8294b1bd22d04",
       "version_major": 2,
       "version_minor": 0
      },
      "text/plain": [
       "HBox(children=(IntProgress(value=0, max=336), HTML(value='')))"
      ]
     },
     "metadata": {},
     "output_type": "display_data"
    },
    {
     "name": "stdout",
     "output_type": "stream",
     "text": [
      "\n",
      "PGAGKGTQCARIVEKYGYTHLSAGELLRDERKNPDSQYGELIKKYIKEGKIVPVEITISLLKREMDQTAAANAQKNKFLIDGFPRNQDNLQGWNK\n",
      "PGAGKGTQCARIVEKYGYTHLSAGELLRDERKNPDSQYGELIEKYIKEGKIVPVEITISLLKREMDQTMAANAQKNKFLIDGFPRNQDNLQGWNK\n"
     ]
    },
    {
     "data": {
      "application/vnd.jupyter.widget-view+json": {
       "model_id": "5b591bf2691a48d7a4d5dcd4ed84eba9",
       "version_major": 2,
       "version_minor": 0
      },
      "text/plain": [
       "HBox(children=(IntProgress(value=0, max=336), HTML(value='')))"
      ]
     },
     "metadata": {},
     "output_type": "display_data"
    },
    {
     "name": "stdout",
     "output_type": "stream",
     "text": [
      "\n",
      "EPACSSWRAALWWDDVVENNLYNSVDDSEEEAENKKKYKPTTEENVAKKKKRRSRSRSSSRSSNIGWELERRRQRRSRSYYVRIIRMANHPPYRR\n",
      "EWACLNSAQRDLYWDVMLENYSNLVSLDLESAYENKSLPTEKNIHEIRASKRNSDRRSKSLGRNWICEGTLERPQRSRGRYVNQMIINYVKRPAT\n"
     ]
    },
    {
     "data": {
      "application/vnd.jupyter.widget-view+json": {
       "model_id": "6dbeea1b49744f6297eda4ab700351bf",
       "version_major": 2,
       "version_minor": 0
      },
      "text/plain": [
       "HBox(children=(IntProgress(value=0, max=336), HTML(value='')))"
      ]
     },
     "metadata": {},
     "output_type": "display_data"
    },
    {
     "name": "stdout",
     "output_type": "stream",
     "text": [
      "\n",
      "QDYQLCIHAQNGRKCQYVGNCSAAHSPEERDMTWFMKKNKILDMQTTYDMWLKKHNPGKPGEGTPISSREGEKQQIPPTDYADIMMGYHCWLCGK\n",
      "QQYDLCIHAQNGRKCQYVGNCSFAHSPEERDMWTFMKENKILDMQQTYDMWLKKHNPGKPGEGTPISSREGEKQIQMPTDYADIMMGYHCWLCGK\n"
     ]
    },
    {
     "data": {
      "application/vnd.jupyter.widget-view+json": {
       "model_id": "5c4b1f3850d44feaa3f7d185d699e7f7",
       "version_major": 2,
       "version_minor": 0
      },
      "text/plain": [
       "HBox(children=(IntProgress(value=0, max=336), HTML(value='')))"
      ]
     },
     "metadata": {},
     "output_type": "display_data"
    },
    {
     "name": "stdout",
     "output_type": "stream",
     "text": [
      "\n",
      "GKIIKRFEQKGFRLVAMKFLEASEEHLKHHYIDLDDRPFFPGLVKYMNSGPVVAMVWEGLNVVKTVRGGLMETNPADSKPGTIRGDFCIQVGRNI\n",
      "GKIIKRFEQKGFRLVAMKFLPASEEHLKQHYIDLKDRPFFPGLVKYMNSGPVVAMVWEGLNVVKTGRVMLGETNPADSKPGTIRGDFCIQVGRNI\n"
     ]
    },
    {
     "data": {
      "application/vnd.jupyter.widget-view+json": {
       "model_id": "73ede4e3d45544eebd217e2268540509",
       "version_major": 2,
       "version_minor": 0
      },
      "text/plain": [
       "HBox(children=(IntProgress(value=0, max=344), HTML(value='')))"
      ]
     },
     "metadata": {},
     "output_type": "display_data"
    },
    {
     "name": "stdout",
     "output_type": "stream",
     "text": [
      "\n",
      "PLGETYCEEHGEKIYFFCENDAEFLCVFCRETGPHQAHTVGFLEEAIQPYRDRLRSRLAALSTEDREIEDVKCQEDQKLQVLLTQISSKKHQVETA\n",
      "PLGETYCEEHGEKIYFFCENDAEFLCVFCREGPTHQAHTVGFLDEAIQPYRDRLRSRLEALSTERDEIEDVKCQEDQKLQVLLTQIESKKHQVETA\n"
     ]
    },
    {
     "data": {
      "application/vnd.jupyter.widget-view+json": {
       "model_id": "1f597e471cce447393c24cdd181d0005",
       "version_major": 2,
       "version_minor": 0
      },
      "text/plain": [
       "HBox(children=(IntProgress(value=0, max=344), HTML(value='')))"
      ]
     },
     "metadata": {},
     "output_type": "display_data"
    },
    {
     "name": "stdout",
     "output_type": "stream",
     "text": [
      "\n",
      "PKVDNNAIEFLLLDQQQGIHHWTPPKGHVEPGEDDLETALRETQEEAGIEAGQLTIIEGFKRELNYVARNKPKTVIIWLAEVKDYDVEIRLSHEHQ\n",
      "PKVDNNAIEFLLLQASDGIHHWTPPKGHVEPGEDDLETALRETQEEAGIEAGQLTIIEGFKRELNYVARNKPKTVIYWLAEVKDYDVEIRLSHEHQ\n"
     ]
    },
    {
     "data": {
      "application/vnd.jupyter.widget-view+json": {
       "model_id": "6b78b08958d64127961a1c6ab6bc785a",
       "version_major": 2,
       "version_minor": 0
      },
      "text/plain": [
       "HBox(children=(IntProgress(value=0, max=344), HTML(value='')))"
      ]
     },
     "metadata": {},
     "output_type": "display_data"
    },
    {
     "name": "stdout",
     "output_type": "stream",
     "text": [
      "\n",
      "FTNSVESLKSAHIKEPEREGKGTDLEKKDIKEGMVDVSSAAGYKKEETQLKISEMSIPQGQGAQIKKSVSDVPRGQESQVKKSESGVPKGQEAQVT\n",
      "FTNSVESLKSAHIKEPEREGKGTDLEKDKIGMEVKVDSDAGIPKRQETQLKISEMSIPQGQGAQIKKSVSDVPRGQESQVKKSESGVPKGQEAQVT\n"
     ]
    },
    {
     "data": {
      "application/vnd.jupyter.widget-view+json": {
       "model_id": "f6d52e7b217f44bf8874e19b52981d22",
       "version_major": 2,
       "version_minor": 0
      },
      "text/plain": [
       "HBox(children=(IntProgress(value=0, max=344), HTML(value='')))"
      ]
     },
     "metadata": {},
     "output_type": "display_data"
    },
    {
     "name": "stdout",
     "output_type": "stream",
     "text": [
      "\n",
      "RQAKPRKDIDPFPQMATLLPLRPKSCIPQIPEIQKEEFSLQQPPKSPNKSPEVKTAQTKPWKRLLYYPGSSKDDVIEKGSKYMSESSKVIHLTSFT\n",
      "RQAKPRKDIDPFPQMATLLPLRPKSCIPQIPEIQKEEFSLSQPPKSPNKSPEVKTATQKPWKRELLYPGSSKDDVIEKGSKYMSESSKVIHLTSFT\n"
     ]
    },
    {
     "data": {
      "application/vnd.jupyter.widget-view+json": {
       "model_id": "60fb6aeed37c4f5b9336762a7e238854",
       "version_major": 2,
       "version_minor": 0
      },
      "text/plain": [
       "HBox(children=(IntProgress(value=0, max=344), HTML(value='')))"
      ]
     },
     "metadata": {},
     "output_type": "display_data"
    },
    {
     "name": "stdout",
     "output_type": "stream",
     "text": [
      "\n",
      "THVVVYDGEHLGSSYAPRWVWMRRVFGHRTVSVLNGGFRWWLKGGHPVTSEPSRPEPAVFKATLDRSLLKTYEQVLENLESKRFLLQDSRSQGRFL\n",
      "THVVVYDGEHLGSFYAPRVWWMFRVFGHRTVSVLNGGFRNWLKEGHPVTSEPSRPEPAVFKATLDRSLLKTYEQVLENLESKRFQLVDSRSQGRFL\n"
     ]
    },
    {
     "data": {
      "application/vnd.jupyter.widget-view+json": {
       "model_id": "4f5bcd7b1d3b4800bbb2cfc087911984",
       "version_major": 2,
       "version_minor": 0
      },
      "text/plain": [
       "HBox(children=(IntProgress(value=0, max=344), HTML(value='')))"
      ]
     },
     "metadata": {},
     "output_type": "display_data"
    },
    {
     "name": "stdout",
     "output_type": "stream",
     "text": [
      "\n",
      "EMSNPTQTDADSDLVGDVCDTNEDSDGDGHQDTKDNCLQPPNSSQLDSDNDGLGDECDDDDDNDGIPDYVPPGPDNCRLVPNPNQKDSDGNGVGDV\n",
      "EMSNPTQTDADSDLVGDVCDTNEDSDGDGHQDTKDNCPQLPNSSQLDSDNDGLGDECDGDDDNDGIPDYVPPGPDNCRLVPNPNQKDSDGNGVGDV\n"
     ]
    },
    {
     "data": {
      "application/vnd.jupyter.widget-view+json": {
       "model_id": "804f9b10d9504886ae6ed7b9f5d78b38",
       "version_major": 2,
       "version_minor": 0
      },
      "text/plain": [
       "HBox(children=(IntProgress(value=0, max=351), HTML(value='')))"
      ]
     },
     "metadata": {},
     "output_type": "display_data"
    },
    {
     "name": "stdout",
     "output_type": "stream",
     "text": [
      "\n",
      "QAQPNPAEVKDVFLVPLAYFLHPQVHDQHYVTRLGHRFINHIFEYTNEDPKVTQIIKGMTANLAVLVAFIILEKKPTFEVQFNLNDVLASSEELFLK\n",
      "QAQPNPAEVKDVFLVPLAYFLHPQVHDQHYVTRLGHRFINHIFEYTNPEDGVTYQIKGMTANLAVLVAFIILEKKPTFEVQFNLNDVLASSEELFLK\n"
     ]
    },
    {
     "data": {
      "application/vnd.jupyter.widget-view+json": {
       "model_id": "e6ad7ecd06b94bfe9414164d729f6ddb",
       "version_major": 2,
       "version_minor": 0
      },
      "text/plain": [
       "HBox(children=(IntProgress(value=0, max=351), HTML(value='')))"
      ]
     },
     "metadata": {},
     "output_type": "display_data"
    },
    {
     "name": "stdout",
     "output_type": "stream",
     "text": [
      "\n",
      "RLPKPDLCPPVLYTLMTWRCDYDPSFRPRFTELVCSLSDYVQEMKDIMMQQERNARYRTPKILEPTAFQEPPPKPSSPKYRPPPQTNLLAPKLQFQV\n",
      "RLPKPDLCPPVLYTLMTRCWDYDPSDRPRFTELVCSLSDVYQMEKDIAMEQERNARYRTPKILEPTAFQEPPPKPSRPKYRPPPQTNLLAPKLQFQV\n"
     ]
    },
    {
     "data": {
      "application/vnd.jupyter.widget-view+json": {
       "model_id": "979ec44fa34b4be48bf551a54b34a101",
       "version_major": 2,
       "version_minor": 0
      },
      "text/plain": [
       "HBox(children=(IntProgress(value=0, max=351), HTML(value='')))"
      ]
     },
     "metadata": {},
     "output_type": "display_data"
    },
    {
     "name": "stdout",
     "output_type": "stream",
     "text": [
      "\n",
      "MTGGDVAPMGRGEVTMMKKLFDWANTSRRGLLLFMDEADAFLRKRATEEISKDLRALTNAFFYHMGQHSNKFMLVLASNPLEQFDCAINSRDDVMVH\n",
      "MTGGDVAPMGREGVTAMHKLFDWANTSRRGLLLFMDEADAFLRKRATEEISKDLRATLNAFLYHMGQHSNKFMLVLASNLPEQFDCAINSRIDVMVH\n"
     ]
    },
    {
     "data": {
      "application/vnd.jupyter.widget-view+json": {
       "model_id": "bcf824df0c67427baa07417aa94aea47",
       "version_major": 2,
       "version_minor": 0
      },
      "text/plain": [
       "HBox(children=(IntProgress(value=0, max=351), HTML(value='')))"
      ]
     },
     "metadata": {},
     "output_type": "display_data"
    },
    {
     "name": "stdout",
     "output_type": "stream",
     "text": [
      "\n",
      "FTELSRIVLMRHGMEKIWRPNRVFSQQDLCCRAIVSCTPVHLIDKLPLPTVIKSHLKSFSAANGMMAVMMHGRSYSLASGAGGGGSKGNSLKRSKSI\n",
      "FTELSRIVLMRHGMEKIWRPNRVFSLQDLCCRAIVSCTPVHLIDKLPLPVTIKSHLKSFSMANGMNAVMMHGRSYSLASGAGGGGSKGNSLKRSKSI\n"
     ]
    },
    {
     "data": {
      "application/vnd.jupyter.widget-view+json": {
       "model_id": "ec7c6f45ba354c568639f0f92ae847b0",
       "version_major": 2,
       "version_minor": 0
      },
      "text/plain": [
       "HBox(children=(IntProgress(value=0, max=351), HTML(value='')))"
      ]
     },
     "metadata": {},
     "output_type": "display_data"
    },
    {
     "name": "stdout",
     "output_type": "stream",
     "text": [
      "\n",
      "DVNIQIYPVDLGDKFRLVIASTLYEDGTLDDGEYNPTDDRPRSADQQEYMVYKGGRYEEEHTTSTEAATNLSAYVSYGGLLMRLQGDANNLHGFEVD\n",
      "DVNIQIYPVDLGDKFRLVIASTLYEDGTLDDGEYNPTDDRPSRADQFEYVMYGKVYRIEGDETSTEAATRLSAYVSYGGLLMRLQGDANNLHGFEVD\n"
     ]
    },
    {
     "data": {
      "application/vnd.jupyter.widget-view+json": {
       "model_id": "6943c43211d74a8baeafb4e5ed0bb7a7",
       "version_major": 2,
       "version_minor": 0
      },
      "text/plain": [
       "HBox(children=(IntProgress(value=0, max=351), HTML(value='')))"
      ]
     },
     "metadata": {},
     "output_type": "display_data"
    },
    {
     "name": "stdout",
     "output_type": "stream",
     "text": [
      "\n",
      "AEFQRRHSMQTPVRMEWSCIGTTQQVKHNNECRDVGVVLLAVLFEGGNIAVWFQQLPFVGKESISSCNTIESGITSPSVLFWEEYEHNNRKMSGLIV\n",
      "AEFQRRHSMQTPVRMEWSGICTTQQVKHNNECRDVGSVLLAVLFENGNIAVWQFQLPFVGKESISSCNTIESGITSPSVLFWWEYEHNNRKMSGLIV\n"
     ]
    },
    {
     "data": {
      "application/vnd.jupyter.widget-view+json": {
       "model_id": "5bdd1e3bbb9f446a9bca08411679ee65",
       "version_major": 2,
       "version_minor": 0
      },
      "text/plain": [
       "HBox(children=(IntProgress(value=0, max=351), HTML(value='')))"
      ]
     },
     "metadata": {},
     "output_type": "display_data"
    },
    {
     "name": "stdout",
     "output_type": "stream",
     "text": [
      "\n",
      "LNAAETWVDISSNTAGKTLFGKMMDYLQGSGETPQTDVRWMSETGIIDVFLLLGPSISDVFRQAYSLTGTQALPPLFSLGYHQSRWNYRDEADVLEV\n",
      "LNAAETWVDISSNTAGKTLFGKMMDYLQGSGETPQTDVRWMSETGIIDVFLLLGPSISDVFRQYASLTGTQALPPLFSLGYHQSRWNYRDEADVLEV\n"
     ]
    },
    {
     "data": {
      "application/vnd.jupyter.widget-view+json": {
       "model_id": "eadae3a37a1f46719b1fab09758b37b4",
       "version_major": 2,
       "version_minor": 0
      },
      "text/plain": [
       "HBox(children=(IntProgress(value=0, max=359), HTML(value='')))"
      ]
     },
     "metadata": {},
     "output_type": "display_data"
    },
    {
     "name": "stdout",
     "output_type": "stream",
     "text": [
      "\n",
      "KVVPRVGNGTLCPNSTSLCSFPEMEYGFFLWALVSSLFFHAVAGLLALFTLRHHKYGRFMSVSILLMGIVGPIAAGILTSAAAGAVYRAGAKEMIPFE\n",
      "KVVPRVGNGTLCPNSTSLCSFPEMWYGVFLWALVSSLFFHVPAGLLALFTLRHHKYGRFMSVSILLMGIVGPITAGILTSAAIAGVYRAAGKEMIPFE\n"
     ]
    },
    {
     "data": {
      "application/vnd.jupyter.widget-view+json": {
       "model_id": "96e6532b127f440d8cac4ae285d70ef2",
       "version_major": 2,
       "version_minor": 0
      },
      "text/plain": [
       "HBox(children=(IntProgress(value=0, max=359), HTML(value='')))"
      ]
     },
     "metadata": {},
     "output_type": "display_data"
    },
    {
     "name": "stdout",
     "output_type": "stream",
     "text": [
      "\n",
      "RLPTKDFEVDLLEIGGSQNLRFYWEEFVSEVDVLVFVVSSADRRRLPPARQWLLKLKKKDPDLPVVVVANKQDLSEAMSMGLLQRELGLQAIDNQREV\n",
      "RLPTKDFEVDLLEIGGSQNLRFYWKEFVSEVDVLVFVVDSADRLRLPWARQELHKLLDKDPDLPVVVVANKQDLSEAMSMGELQRELGLQAIDNQREV\n"
     ]
    },
    {
     "data": {
      "application/vnd.jupyter.widget-view+json": {
       "model_id": "61ecbeaf316243fd9a556c3bef8b8951",
       "version_major": 2,
       "version_minor": 0
      },
      "text/plain": [
       "HBox(children=(IntProgress(value=0, max=359), HTML(value='')))"
      ]
     },
     "metadata": {},
     "output_type": "display_data"
    },
    {
     "name": "stdout",
     "output_type": "stream",
     "text": [
      "\n",
      "RLLPTANSPSGSNQPTNPNRAQHPEGPQSREGATSPVLASLEPPTPTDLPSARRRPRVPAESGPGWLHKARRPTRGRLIDVLRHRGVPAQPRPAPGAH\n",
      "RLLPTANSPSGSNQPTNPNRAQHPEGPQSREGATSPVLASLEPPTPTDLPSARARPRVPAESGPGWLHKARRPTRGILRDVLRHRGVPAQPRPAPGAH\n"
     ]
    },
    {
     "data": {
      "application/vnd.jupyter.widget-view+json": {
       "model_id": "6d7ca9bb808447219067eeb74d38ef13",
       "version_major": 2,
       "version_minor": 0
      },
      "text/plain": [
       "HBox(children=(IntProgress(value=0, max=359), HTML(value='')))"
      ]
     },
     "metadata": {},
     "output_type": "display_data"
    },
    {
     "name": "stdout",
     "output_type": "stream",
     "text": [
      "\n",
      "RWKNVKVNDDNVGFGYLSLLQDATFKGWMDIMYAAVDSRNVELQKYPEESLYMYLYFVIFIIFGSFFNLNLFIGVIIDNFNQQKKKGGGQDIFMTEEQ\n",
      "RWKNVKVNFDNVGFGYLSLLQVATFKGWMDIMYAAVDSRNVELQPKYEESLYMYLYFVIFIIFGSFFTLNLFIGVIIDNFNQQKKKFGGQDIFMTEEQ\n"
     ]
    },
    {
     "data": {
      "application/vnd.jupyter.widget-view+json": {
       "model_id": "9f1b520bf2c743e0b4eca9fb40a4575f",
       "version_major": 2,
       "version_minor": 0
      },
      "text/plain": [
       "HBox(children=(IntProgress(value=0, max=359), HTML(value='')))"
      ]
     },
     "metadata": {},
     "output_type": "display_data"
    },
    {
     "name": "stdout",
     "output_type": "stream",
     "text": [
      "\n",
      "LAEVESTQVRITKKKPRQPNGIINQYRVKVLEVPTGIILENTLLTGNEEYINDPAVPEIMVVVEEVVLAYEGSAEMSDSLHSAATFIYNSHPDKNFPA\n",
      "LAEVESTQVRITWKKPRQPNGIINQYRVKVLVPETGIILENTLLTGNNEYINDPMAPEIVNIVEPMVGLYEGSAEMSSDLHSLATFIYNSHPDKNFPA\n"
     ]
    },
    {
     "data": {
      "application/vnd.jupyter.widget-view+json": {
       "model_id": "b3aa873dc435437baf4919c8b73b1f38",
       "version_major": 2,
       "version_minor": 0
      },
      "text/plain": [
       "HBox(children=(IntProgress(value=0, max=359), HTML(value='')))"
      ]
     },
     "metadata": {},
     "output_type": "display_data"
    },
    {
     "name": "stdout",
     "output_type": "stream",
     "text": [
      "\n",
      "FRTSSSLRKHETTHTEQQPYKCKCGKAFSDLFSFQHSETTHSEEEPYECKECGKAFSSFKYFCRHERTHSETKSYECQICGKAFSRFSYLKTHERTHT\n",
      "FRTSSSLRKHETTHTGEQPYKCKCGKAFSDLFSFQSHETTHSEEEPYECKECGKAFSSFKYFCRHERTHSEEKSYECQICGKAFSRFSYLKTHERTHT\n"
     ]
    },
    {
     "data": {
      "application/vnd.jupyter.widget-view+json": {
       "model_id": "5258b950495244a79961ad50077e5b10",
       "version_major": 2,
       "version_minor": 0
      },
      "text/plain": [
       "HBox(children=(IntProgress(value=0, max=359), HTML(value='')))"
      ]
     },
     "metadata": {},
     "output_type": "display_data"
    },
    {
     "name": "stdout",
     "output_type": "stream",
     "text": [
      "\n",
      "SGRCTLIFICGMQLVCVLERQIFDFLGYQWAPILANFVHIIIVLLGLFGTYQRIPYYTYGIAVLLVLWTVWNVFVICFYLEAGDLSKETDLILTFNIS\n",
      "SGRCTLIFICGMQLVCVLERQIFDFLGYQWAPILANFVHIIIVILGLFGTIQYRPRYITGYAVWLVLWVTWNVFVICFYLEAGDLSKETDLILTFNIS\n"
     ]
    },
    {
     "data": {
      "application/vnd.jupyter.widget-view+json": {
       "model_id": "3bf40b9de2144fa8a90c107419294e1f",
       "version_major": 2,
       "version_minor": 0
      },
      "text/plain": [
       "HBox(children=(IntProgress(value=0, max=359), HTML(value='')))"
      ]
     },
     "metadata": {},
     "output_type": "display_data"
    },
    {
     "name": "stdout",
     "output_type": "stream",
     "text": [
      "\n",
      "CLQDWGPFFSLAVPSMLIICVEWMYIEIGSFMLGLLSVVDLSAQAVIYEVATVTYMIPLGLSIGVCVRVGMALGAADTVQAKRSAVSGVLSIVGISLV\n",
      "CLQDWGPFFSLAVPSMLMICVEWWAYEIGSFLMGLLSVVDLSAQAVIYEVATVTYMIPLGLSIGVCVRVGMALGAADTVQAKRSAVSGVLSIVGISLV\n"
     ]
    },
    {
     "data": {
      "application/vnd.jupyter.widget-view+json": {
       "model_id": "f0ef348f1dd647af9162c549bf9cb592",
       "version_major": 2,
       "version_minor": 0
      },
      "text/plain": [
       "HBox(children=(IntProgress(value=0, max=367), HTML(value='')))"
      ]
     },
     "metadata": {},
     "output_type": "display_data"
    },
    {
     "name": "stdout",
     "output_type": "stream",
     "text": [
      "\n",
      "DDQNWYKAELGGVEGFIPKNYIRVKPHPWYSGRISRQLAEEILMKRNHLGAFLIRESSSSPGEFSVSVNYGDQVQHFKVLREASGKFFLWEEKFNSLNE\n",
      "DDQNWYKAELRGVEGFIPKNYIRVKPHPWYSGRISRQLAEEILMKRNHLGAFLIRESESSPGEFSVSVNYGDQVQHFKVLREASGKYFLWEEKFNSLNE\n"
     ]
    },
    {
     "data": {
      "application/vnd.jupyter.widget-view+json": {
       "model_id": "6cce68bda3584e59bf039fd9c19d710f",
       "version_major": 2,
       "version_minor": 0
      },
      "text/plain": [
       "HBox(children=(IntProgress(value=0, max=367), HTML(value='')))"
      ]
     },
     "metadata": {},
     "output_type": "display_data"
    },
    {
     "name": "stdout",
     "output_type": "stream",
     "text": [
      "\n",
      "LHSLSEGDDARPPGPLACKRPPSPTLQHAASEDNLSSSTGEAPSRAVGHDGHGPPPWLRGKKKSLGKKREESLEAKRRKRRSRSFEVTGQGLSHPKTHL\n",
      "LHSLSEGDDARPPGPLACKRPPSPTLQHAASEDNLSSSTGEAPSRAVGHHGDGPRPWLRGQKKSLGKKREESLEAKRRKRRSRSFEVTGQGLSHPKTHL\n"
     ]
    },
    {
     "data": {
      "application/vnd.jupyter.widget-view+json": {
       "model_id": "423f1f0088af47d29335f09cab85a8fb",
       "version_major": 2,
       "version_minor": 0
      },
      "text/plain": [
       "HBox(children=(IntProgress(value=0, max=367), HTML(value='')))"
      ]
     },
     "metadata": {},
     "output_type": "display_data"
    },
    {
     "name": "stdout",
     "output_type": "stream",
     "text": [
      "\n",
      "WGFWDCSVCTFRNSAEAFKCSICDVRKGSTTRKPRINSQLVAQQVVQQAATPPPKPKKKKEKKEKQDKEKPEKKKEISSPVTKKNNKKKTKPKSDILKD\n",
      "EGFWDCSVCTFRNSAEAFKCSICDVRKGTSTRKPRINSQLVAQQVAQQYATPPPPKKEKKEKVEKQDKEKPEKDKEISPSVTKKNTNKKTKPKSDILKD\n"
     ]
    },
    {
     "data": {
      "application/vnd.jupyter.widget-view+json": {
       "model_id": "81edacc7b4124e8baec4ae97c3eb96b6",
       "version_major": 2,
       "version_minor": 0
      },
      "text/plain": [
       "HBox(children=(IntProgress(value=0, max=367), HTML(value='')))"
      ]
     },
     "metadata": {},
     "output_type": "display_data"
    },
    {
     "name": "stdout",
     "output_type": "stream",
     "text": [
      "\n",
      "AATASPPQAPSPNRGLVTPPMKTYIVFCGENWPHLTRVTPMGGGCLAQARATTPLCRGSVASAFFPVSPLCPQEVPEAKGGPVKAAPVRSSTWGTVKDS\n",
      "AATASPPQAPSPNRGLVTPPMKTYIVFCGENWPHLTRVTPMGGGCLAQARATLPLCRGSVASASFPVSPLCPQEVPEAKGKPVKAAPVRSSTWGTVKDS\n"
     ]
    },
    {
     "data": {
      "application/vnd.jupyter.widget-view+json": {
       "model_id": "42f6d763f6b9418c8eb14c670648d06f",
       "version_major": 2,
       "version_minor": 0
      },
      "text/plain": [
       "HBox(children=(IntProgress(value=0, max=367), HTML(value='')))"
      ]
     },
     "metadata": {},
     "output_type": "display_data"
    },
    {
     "name": "stdout",
     "output_type": "stream",
     "text": [
      "\n",
      "TGLGMCFSFQSSITVLGFYFVRRRVLANALASMGVSLGITLWPLLSRYLLENLGWRGTFLVFGGIFLHCCICGAIIRPVATSVAPETKECPPPPPETPA\n",
      "TGLGMCFSFQSSITVLGFYFVRRRVLANALASMGVSLGITLWPLLSRYLLENLGWRGTFLVFGGIFLHCCICGAIIRPVATSVAPETKECPPPPPETPA\n"
     ]
    },
    {
     "data": {
      "application/vnd.jupyter.widget-view+json": {
       "model_id": "1d80aa5671fe40b889494a87c05a0192",
       "version_major": 2,
       "version_minor": 0
      },
      "text/plain": [
       "HBox(children=(IntProgress(value=0, max=367), HTML(value='')))"
      ]
     },
     "metadata": {},
     "output_type": "display_data"
    },
    {
     "name": "stdout",
     "output_type": "stream",
     "text": [
      "\n",
      "WTPAPVQRTACNITAWGGEFGKEGEGRCEQVALSSGPPEGALHASREGPQPPGAENLRPSTGETFVQSGRWDGGWRGAMGGRRHRQASTPPRTPESIFV\n",
      "WTPAPVQRTACNITAWGGEFGKEGEGRCEQVALSSGPPEGALHASREGPQPPGAENLRPSTGETFVQSGRWDGGWRGAMKGRRHRQASTPPTRPESIFV\n"
     ]
    },
    {
     "data": {
      "application/vnd.jupyter.widget-view+json": {
       "model_id": "d078fb15d2cb406caa893364ab920389",
       "version_major": 2,
       "version_minor": 0
      },
      "text/plain": [
       "HBox(children=(IntProgress(value=0, max=367), HTML(value='')))"
      ]
     },
     "metadata": {},
     "output_type": "display_data"
    },
    {
     "name": "stdout",
     "output_type": "stream",
     "text": [
      "\n",
      "MLESALTQSSESVTLDLLTTYDLESLRNRKMGGRPGSALPRSAQLNSKRYLILIYSVEFRDIIYPLPLYYQGKPDPVVLQGIIRSLKEELGRLQGLDGQ\n",
      "MLESALTQSSESVTLDLLTYTDLESLRNRKMGGRPGSLAPRSAQLNSKRYLILIYSVEFDRIHYPLPLPYQGKPDPVVLQGIIRSLKEELGRLQGLDGQ\n"
     ]
    },
    {
     "data": {
      "application/vnd.jupyter.widget-view+json": {
       "model_id": "3c8c9102e40e464f8d49bf826af1039d",
       "version_major": 2,
       "version_minor": 0
      },
      "text/plain": [
       "HBox(children=(IntProgress(value=0, max=367), HTML(value='')))"
      ]
     },
     "metadata": {},
     "output_type": "display_data"
    },
    {
     "name": "stdout",
     "output_type": "stream",
     "text": [
      "\n",
      "FIPRYRFQSNHMDMVRIESPEEISLLPKTSWNIPQPGEGDVREEALSTGGLDLIFMPGLKFDGHKRLLRGGGGYYDAYLKRCLQHQEVKPYTLALAFKE\n",
      "FIPRYRFQSNHMDMVRIESPEEISLLPKTSWNIPQPGEGDVREEALSTGGLDLIFMPGLGFDKHGNRLGRGKGYYDAYLKRCLQHQEVKPYTLALAFKE\n"
     ]
    },
    {
     "data": {
      "application/vnd.jupyter.widget-view+json": {
       "model_id": "11a3638a7b594b2ebd63077b4f2b5566",
       "version_major": 2,
       "version_minor": 0
      },
      "text/plain": [
       "HBox(children=(IntProgress(value=0, max=367), HTML(value='')))"
      ]
     },
     "metadata": {},
     "output_type": "display_data"
    },
    {
     "name": "stdout",
     "output_type": "stream",
     "text": [
      "\n",
      "QEEEEWNDQKQIAVPLPPTLEFAVYTFNKQSKDWYAYKLVPVLASWKEQGYDKMTFSMNLQLGRTMCGKFEDDIDNCPFQESPELNNTTCCFTFIGIEP\n",
      "QEEEEWNDQKQIAVYLPPTLEFAVYTFNKQSKDWYAYKLVPVLASWKEQGYDKMTFSMNLQLGRTMCGKFEDDIDNCPFQESPELNNTCTCFFTIGIEP\n"
     ]
    },
    {
     "data": {
      "application/vnd.jupyter.widget-view+json": {
       "model_id": "4e10185e45ce42c08ec55a4de0568226",
       "version_major": 2,
       "version_minor": 0
      },
      "text/plain": [
       "HBox(children=(IntProgress(value=0, max=367), HTML(value='')))"
      ]
     },
     "metadata": {},
     "output_type": "display_data"
    },
    {
     "name": "stdout",
     "output_type": "stream",
     "text": [
      "\n",
      "SWHLSGSSYRDALQRYGTSHGAPPARGPRMSYGGSTCHAYSNTRDRYGRSWESYSSCGDFHYCDREHVCRKDQRNPPSLGRVLPDPREACGSSSYVASI\n",
      "SEHLSGSSYRDALQRYGTSHGAPPARGPRMSYGGSTCHAYSNTRDRYGRSWESYSSCGDFHYCDREHVCRKDQRNPPSLGRVLPDPREACGSSSYVASI\n"
     ]
    },
    {
     "data": {
      "application/vnd.jupyter.widget-view+json": {
       "model_id": "9188276cb68c48d7826292bdac72af3e",
       "version_major": 2,
       "version_minor": 0
      },
      "text/plain": [
       "HBox(children=(IntProgress(value=0, max=367), HTML(value='')))"
      ]
     },
     "metadata": {},
     "output_type": "display_data"
    },
    {
     "name": "stdout",
     "output_type": "stream",
     "text": [
      "\n",
      "AGSWAQSVLTQPPSASGTPGQRVTISCSGSSSNIGSNTVNWYQQLPGTAPKLLIYSNNQRPSGVPDRFSKSKSGTSASLAISGLQSEDEADYYCAAWDD\n",
      "AGSWAQSVLTQPPSASGTPGQRVTISCSGSSSNIGSNTVNWYQQLPGTAPKLLIYSNNQRPSGVPDRFSGSKSGTSASLAISGLQSEDEADYYCAAWDD\n"
     ]
    },
    {
     "data": {
      "application/vnd.jupyter.widget-view+json": {
       "model_id": "93936895b04b4b8db57b630a1f78cf9f",
       "version_major": 2,
       "version_minor": 0
      },
      "text/plain": [
       "HBox(children=(IntProgress(value=0, max=367), HTML(value='')))"
      ]
     },
     "metadata": {},
     "output_type": "display_data"
    },
    {
     "name": "stdout",
     "output_type": "stream",
     "text": [
      "\n",
      "NQEVVDNTRLESANFGLHISRIRKDSGEENAHPRRGQIIDFQGLLTDAIKGATSELALNTFHHNPDPSERLLKPLSAIIGMNSEMRELAAVVSRDIYLH\n",
      "NQEVVDNTRLESANFGLHISRIRKDSGEENAHPRRGQIIDFQGLLTDAIKGATSELALNTFDHNPDPSERLLKPLSAFIGMNSEMRELAAVVSRDIYLH\n"
     ]
    },
    {
     "data": {
      "application/vnd.jupyter.widget-view+json": {
       "model_id": "c81f0b73d1e24916a758457a730a91ce",
       "version_major": 2,
       "version_minor": 0
      },
      "text/plain": [
       "HBox(children=(IntProgress(value=0, max=376), HTML(value='')))"
      ]
     },
     "metadata": {},
     "output_type": "display_data"
    },
    {
     "name": "stdout",
     "output_type": "stream",
     "text": [
      "\n",
      "QRLIKYQMLLKGLLDFESPEDMEIDPGELGGSAKDGPKRTKDSAFSTELQQALAVIEDLIKSCELAVDLAVVTECPDDIGKGLKLLLHGPFSVWTIHKDR\n",
      "QRLIKYQMLLKGLLDFESPEDMEIDPGELGGSAKDGPKRTKDSAFSTELQQALAVIEDLIKSCELAVDLAAVTECPDDIGKLGKLLLHGPFSVWTIHKDR\n"
     ]
    },
    {
     "data": {
      "application/vnd.jupyter.widget-view+json": {
       "model_id": "1f7bbdb527fe44db8dd7e01ad9f582e5",
       "version_major": 2,
       "version_minor": 0
      },
      "text/plain": [
       "HBox(children=(IntProgress(value=0, max=376), HTML(value='')))"
      ]
     },
     "metadata": {},
     "output_type": "display_data"
    },
    {
     "name": "stdout",
     "output_type": "stream",
     "text": [
      "\n",
      "PSTNLYFADFYCMYTYYHYAILVLAPKGSLGDRFCRDRLPLLDIACNKFLTCSVDEGELVFRHAQDLILEIIYTEPVDLSLGTLGEISGHQLMSLSTADA\n",
      "PSTNLYFADFYCMYTAYHYAILVLAPKGSLGDRFCRDRLPLLDIACNKFLTCSVEDGELVFRHAQDLILEIIYTEPVDLSLGTLGEISGHQLMSLSTADA\n"
     ]
    },
    {
     "data": {
      "application/vnd.jupyter.widget-view+json": {
       "model_id": "2f57845e168846408afcf0988a74040c",
       "version_major": 2,
       "version_minor": 0
      },
      "text/plain": [
       "HBox(children=(IntProgress(value=0, max=376), HTML(value='')))"
      ]
     },
     "metadata": {},
     "output_type": "display_data"
    },
    {
     "name": "stdout",
     "output_type": "stream",
     "text": [
      "\n",
      "PPPDFFSRGVSSPIAGPAQPPWPPQPAPWSPPAFYDSSERIASRDERISVPAKRTGILQEAKRRSTTKPMFTFKEPKVSPNPELLSLLQNSEGKRGTGAG\n",
      "PPPDAFSRGVSSPIAGPAQPPPWPQPAPWSQPAFYDSSERIASRDERISVPAKRTGILQEAKRRSTTKPMFTFKEPKVSPNPELLSLLQNSEGKRGTGAG\n"
     ]
    },
    {
     "data": {
      "application/vnd.jupyter.widget-view+json": {
       "model_id": "012df2b0250940cdb0cba43a410de8cc",
       "version_major": 2,
       "version_minor": 0
      },
      "text/plain": [
       "HBox(children=(IntProgress(value=0, max=376), HTML(value='')))"
      ]
     },
     "metadata": {},
     "output_type": "display_data"
    },
    {
     "name": "stdout",
     "output_type": "stream",
     "text": [
      "\n",
      "LSRDMNAYIRPSPTRGTLGVGGTTNTEAILLCEGAGYDIILIETVGVGQEEFAVADMDVVFMLLLPPAGGDELQGIKRGIEIAMDLVAVTKSDDDLIVPA\n",
      "LSRDMNAYIRPSPTRGTLGGVTRTTNEAILLCEGAGYDIILIETVGVGQSEFAVADMVDMFVLLLPPAGGDELQGIKRGIIEMADLVAVTKSDGDLIVPA\n"
     ]
    },
    {
     "data": {
      "application/vnd.jupyter.widget-view+json": {
       "model_id": "2cd17fa4db474c4e91421c846b947eb1",
       "version_major": 2,
       "version_minor": 0
      },
      "text/plain": [
       "HBox(children=(IntProgress(value=0, max=376), HTML(value='')))"
      ]
     },
     "metadata": {},
     "output_type": "display_data"
    },
    {
     "name": "stdout",
     "output_type": "stream",
     "text": [
      "\n",
      "KMRSRSLALLLFGGSLRKKCRRACCQRWYFTNFGAEGSGPLPIIEIIDLPQGSEMMNTITNRRHSSVELLLGGGIGGVLDDAIAWVGTSSDYKPPDTGAG\n",
      "KMRSNSALRVLFSGSLRLKCRNACCQRWYFTFNGAECSGPLPIEAIIYLDQGSPEMNSTINIHRTSSVEGLCEGIGAGLVDVAIWVGTCSDYPKGDASTG\n"
     ]
    },
    {
     "data": {
      "application/vnd.jupyter.widget-view+json": {
       "model_id": "aadd27a7d75b472e9c4a06296043d912",
       "version_major": 2,
       "version_minor": 0
      },
      "text/plain": [
       "HBox(children=(IntProgress(value=0, max=376), HTML(value='')))"
      ]
     },
     "metadata": {},
     "output_type": "display_data"
    },
    {
     "name": "stdout",
     "output_type": "stream",
     "text": [
      "\n",
      "PPPHNQGHCCHGHGPPPGHLRRRGPGKKPPRFQCRQIGSVYRLPLPRKGEVLPLPEANFPSFPLPHHKHPLKPDNQPFPQSVSESCPGKFKSGFPQVSMF\n",
      "PPPHNQGHCCHGHGPPPGHLRRRGPGKGPRPFHCRQIGSVYRLPPLRKGEVLPLPEANFPSFPLPHHKHPLKPDNQPFPQSVSESCPGKFKSGFPQVSMF\n"
     ]
    },
    {
     "data": {
      "application/vnd.jupyter.widget-view+json": {
       "model_id": "87792e70da5849b5b9a78a9a1897d523",
       "version_major": 2,
       "version_minor": 0
      },
      "text/plain": [
       "HBox(children=(IntProgress(value=0, max=376), HTML(value='')))"
      ]
     },
     "metadata": {},
     "output_type": "display_data"
    },
    {
     "name": "stdout",
     "output_type": "stream",
     "text": [
      "\n",
      "KAEMVCAPSPAPAPPPKPASPGPPQVEEVGHGRGSSPPRLPPGVPVISLGHSRPPGVAMPTTELGTLRPPLLQLSTLGATPPTLLAHYHPHPFLNSVYIG\n",
      "KAEMVCAPSPAPAPPPKPASPGPPQVEEVGHRGGSSPPRLPPGVPVISLGHSRPPGVAMPTTELGTLRPPLLQLSTLGTAPPTLALHYHPHPFLNSVYIG\n"
     ]
    },
    {
     "data": {
      "application/vnd.jupyter.widget-view+json": {
       "model_id": "3de0a409c0f74630adb40995c663b471",
       "version_major": 2,
       "version_minor": 0
      },
      "text/plain": [
       "HBox(children=(IntProgress(value=0, max=376), HTML(value='')))"
      ]
     },
     "metadata": {},
     "output_type": "display_data"
    },
    {
     "name": "stdout",
     "output_type": "stream",
     "text": [
      "\n",
      "PLSSICDGSIALDAEPVTQPASLPRHSSTPDHTSTLEPPRLPQRKNLQSEKETYQLSKEVEILSRNLVEMQRCLSELTNRLHNGKKSSSVYPLSQDLPYV\n",
      "PLSSICDGSIALDAEPVTQPASLPRHSSTPDHTSTLEPPRLPQRKNLQSEKETYQLSKEVEILSRNLVEMQRCLSELTNRLHNGKKSSSVYPLSQDLPYV\n"
     ]
    },
    {
     "data": {
      "application/vnd.jupyter.widget-view+json": {
       "model_id": "16310bbcfe1f48a1824c402b6efd4b21",
       "version_major": 2,
       "version_minor": 0
      },
      "text/plain": [
       "HBox(children=(IntProgress(value=0, max=376), HTML(value='')))"
      ]
     },
     "metadata": {},
     "output_type": "display_data"
    },
    {
     "name": "stdout",
     "output_type": "stream",
     "text": [
      "\n",
      "ISTLANKNDEIQNFDDTLHHTLKGVSENQSNILSELDEEFFFLILYLDEVEESNCCVCEEQAARKSQQIQIQQSCQNNALEESNLNNFFATTTLDIKEPE\n",
      "ISTLANKNDEIQNFIDTLHHTLKGVQENSSNILSELDEEFDSLYSILDEVKESMINCIKQEQARKSQELQSQISQCNNALENSEELLEFATRSLDIKEPE\n"
     ]
    },
    {
     "data": {
      "application/vnd.jupyter.widget-view+json": {
       "model_id": "8476098fd6ca4fe98e387058cf9b7e75",
       "version_major": 2,
       "version_minor": 0
      },
      "text/plain": [
       "HBox(children=(IntProgress(value=0, max=376), HTML(value='')))"
      ]
     },
     "metadata": {},
     "output_type": "display_data"
    },
    {
     "name": "stdout",
     "output_type": "stream",
     "text": [
      "\n",
      "ELRDLCFCLDSERQRGRRAARQWFLFGTQASRAVREDLGGCWQKALELEGRQEELERENLALKELCLALGEEWGRPGGPSGAGGSGAGPAPELALPPCGP\n",
      "ELRDLCCFLDSERQRGRRAARQWQLFGTQASRAVREDLGGCWQKLAELEGRQEELLRENLALKELCLALGEEWGPRGGPSGAGGSGAGPAPELALPPCGP\n"
     ]
    },
    {
     "data": {
      "application/vnd.jupyter.widget-view+json": {
       "model_id": "d507039723be4660907398960e3893ec",
       "version_major": 2,
       "version_minor": 0
      },
      "text/plain": [
       "HBox(children=(IntProgress(value=0, max=376), HTML(value='')))"
      ]
     },
     "metadata": {},
     "output_type": "display_data"
    },
    {
     "name": "stdout",
     "output_type": "stream",
     "text": [
      "\n",
      "EYTTDKEPRGIIPLENLSIREVDDPRKPCCFELYIPNNKGQLIKACKTEADGYVVEGNHMVRRISAPTQEEKDEWIKSIQAVASVDPFYEMLAARKKRIS\n",
      "EYTTDKEPRGIIPLENLSIREVDDPRKPNCFELYIPNNKGQLIKACKTEADGRVVEGNHMVYRISAPTQEEKDEWIKSIQAAVSVDPFYEMLAARKKRIS\n"
     ]
    },
    {
     "data": {
      "application/vnd.jupyter.widget-view+json": {
       "model_id": "7fef467675e645fea15009268ecf1150",
       "version_major": 2,
       "version_minor": 0
      },
      "text/plain": [
       "HBox(children=(IntProgress(value=0, max=376), HTML(value='')))"
      ]
     },
     "metadata": {},
     "output_type": "display_data"
    },
    {
     "name": "stdout",
     "output_type": "stream",
     "text": [
      "\n",
      "DAVFAACTSTILSFTAIVLHTYLAVIHPLRYLSFMSHGAAWKAVALIWLVACCFPTFLIWLSKWQDAQLEEQGASYILPPSMGTQPGCGLLVVVTYTSIL\n",
      "DAVFAACTSTILSFTAIVLHTYLAVIHPLRYLSFMSHGAAWKAVALIWLVACCFPTFLIWLSKWQDAQLEEQGASYILPPSMGTQPGCGLLVIVTYTSIL\n"
     ]
    },
    {
     "data": {
      "application/vnd.jupyter.widget-view+json": {
       "model_id": "19ea7e1b99754eb2b669f0aad79f360c",
       "version_major": 2,
       "version_minor": 0
      },
      "text/plain": [
       "HBox(children=(IntProgress(value=0, max=376), HTML(value='')))"
      ]
     },
     "metadata": {},
     "output_type": "display_data"
    },
    {
     "name": "stdout",
     "output_type": "stream",
     "text": [
      "\n",
      "VVCGPEQNGAVGLVCARHLRVFEEEPTIFYTTRSLDLLHRDLTQQCEKMDIPFLSYLPTEVQLINEAYGLVVDAVLGPGVEPGEVGGPCTRALATLKLLS\n",
      "VVCGPEQNGAVGLVCARHLRVFEYEPTIFYPTRSLDLLHRDLTTQCEKMDIPFLSYLPTEVQLINEAYGLVVDAVLGPGVEPGEVGGPCTRALATLKLLS\n"
     ]
    },
    {
     "data": {
      "application/vnd.jupyter.widget-view+json": {
       "model_id": "f1557350df694c8c8e8d8729d2aab4fb",
       "version_major": 2,
       "version_minor": 0
      },
      "text/plain": [
       "HBox(children=(IntProgress(value=0, max=376), HTML(value='')))"
      ]
     },
     "metadata": {},
     "output_type": "display_data"
    },
    {
     "name": "stdout",
     "output_type": "stream",
     "text": [
      "\n",
      "IKKPLNAFMLYMMKREAKVVAECTLKESAAINQILGRRWHALSREEQAKKYELARKERQLHMQLYPGWGARNNYGKKKKRKRDKQPGETNEHSECFLNPC\n",
      "IKKPLNAFMLYMKEMRAKVVAECTLKESAAINQILGRRWHALSREEQAKYYELARKERQLHMQLYPGWSARDNYGKKKKRKRDKQPGETNEHSECFLNPC\n"
     ]
    },
    {
     "data": {
      "application/vnd.jupyter.widget-view+json": {
       "model_id": "d7e0be1acf104121b1e56b67f552015e",
       "version_major": 2,
       "version_minor": 0
      },
      "text/plain": [
       "HBox(children=(IntProgress(value=0, max=376), HTML(value='')))"
      ]
     },
     "metadata": {},
     "output_type": "display_data"
    },
    {
     "name": "stdout",
     "output_type": "stream",
     "text": [
      "\n",
      "RPFECSICGKSFRCRSTLDTHQRIHTGERPYECSECGKFHRHNSNHIRRRRNHFGERSFECTECGRVFSQNSHLIRHQKVHRRERTYKCSKCGKFFMDSS\n",
      "RPFECSICGKSFRCRSTLDTHQRIHTGERPYECSECGKFFRHNSNHIRHRRNHFGERSFECTECGRVFSQNSHLIRHQKVHTRERTYKCSKCGKFFMDSS\n"
     ]
    },
    {
     "data": {
      "application/vnd.jupyter.widget-view+json": {
       "model_id": "dab28e0102794d1cacc3057a46652641",
       "version_major": 2,
       "version_minor": 0
      },
      "text/plain": [
       "HBox(children=(IntProgress(value=0, max=376), HTML(value='')))"
      ]
     },
     "metadata": {},
     "output_type": "display_data"
    },
    {
     "name": "stdout",
     "output_type": "stream",
     "text": [
      "\n",
      "IQRPYCMRRFNESAAERHTNFCKDQSSRRVFNPAQTAALKASRAQGRAQGGMKKEPTVTSAVGALLQNRVLVATNEVPTKSGLAMDPASGAKLRQGFSKS\n",
      "IQRPYCMRRFNESAAERHTNFCKDQSSRRVFNPAQTAAKLASRAQGRAQMGPKKEPTVTSAVGALLQNRVLVATNEVPTKSGLAMDPASGAKLRQGFSKS\n"
     ]
    },
    {
     "data": {
      "application/vnd.jupyter.widget-view+json": {
       "model_id": "71c60cc8f50146d3a5e2529165c0bd7c",
       "version_major": 2,
       "version_minor": 0
      },
      "text/plain": [
       "HBox(children=(IntProgress(value=0, max=384), HTML(value='')))"
      ]
     },
     "metadata": {},
     "output_type": "display_data"
    },
    {
     "name": "stdout",
     "output_type": "stream",
     "text": [
      "\n",
      "QKLSGSESMESVDHTSDCPMQLFYFELQMAVKALLQQINIPLHQARNFRLTTQEVLEMGHNVSFLLLLPASDDVCTAPGQNNPTYPHSGFLNLPLQMFELG\n",
      "QKLSGSESMESVDHTSDCPMQLFFYELQMAVKALLQQINIPLHQARNFRLYTQEVLEMGHNVSFLLLLPASDDVCTAPGQNNPYTPHSGFLNLPLQMFELG\n"
     ]
    },
    {
     "data": {
      "application/vnd.jupyter.widget-view+json": {
       "model_id": "d2246e300c9a4b618e49094c06aaa6bd",
       "version_major": 2,
       "version_minor": 0
      },
      "text/plain": [
       "HBox(children=(IntProgress(value=0, max=384), HTML(value='')))"
      ]
     },
     "metadata": {},
     "output_type": "display_data"
    },
    {
     "name": "stdout",
     "output_type": "stream",
     "text": [
      "\n",
      "SHLQSLLLDTLLGTKHVDSAALIKIQERSLCVASPGFNVTPSDVRTLVNGFAKNPLQARREGLYFKGKDYRCVRADEYSLYAKNETNGVVVVKTHLYLLVA\n",
      "SHLQSLLLDTLLGTKHVDSAALIKIQERSLCVASPGFNVTPSDVRTLVNGFAKNPLQARREGLYFKGKDYRCVRADEYSLYAKNENTGVVVVKTHLYLLVA\n"
     ]
    },
    {
     "data": {
      "application/vnd.jupyter.widget-view+json": {
       "model_id": "6c6962df9b614f85833a37350760249e",
       "version_major": 2,
       "version_minor": 0
      },
      "text/plain": [
       "HBox(children=(IntProgress(value=0, max=384), HTML(value='')))"
      ]
     },
     "metadata": {},
     "output_type": "display_data"
    },
    {
     "name": "stdout",
     "output_type": "stream",
     "text": [
      "\n",
      "AGGGGLELALACDLRVAASSAVMGLIETTRGLLPGAGGTQRLPRCLGVALAKELIFGGRRLSGTEAHVLGLVNHAVAQNEEGDAAYQRARALAQEILPQAP\n",
      "ALGGGLELALACDLRVAASSAVMGLIETTRGLLPGAGGTQRLPRCLGVALAKELIFTGRRLSGTEAHVLGLVNHAVAQNEEGDAAYQRARALAQEILPQAP\n"
     ]
    },
    {
     "data": {
      "application/vnd.jupyter.widget-view+json": {
       "model_id": "ba47474bede9485b84618f04b233cca6",
       "version_major": 2,
       "version_minor": 0
      },
      "text/plain": [
       "HBox(children=(IntProgress(value=0, max=384), HTML(value='')))"
      ]
     },
     "metadata": {},
     "output_type": "display_data"
    },
    {
     "name": "stdout",
     "output_type": "stream",
     "text": [
      "\n",
      "FDVPLKVDIITFDTPAAGRFGIFTCFDILFFDPAIRVLRDYKVKHVVYPTAWMNQLPLLAAIEIQKAFAVAFGINVLAANVHHPVLGMTGSGIHTPLESFW\n",
      "FDVPLKVDLITFDTPFAGRFGIFTCFDILFFDPAIRVLRDYKVKHVVYPTAWMNQLPLLAAIEIQKAFAVAFGINVLAANVHHPVLGMTGSGIHTPLESFW\n"
     ]
    },
    {
     "data": {
      "application/vnd.jupyter.widget-view+json": {
       "model_id": "db811f03349544b49e4ed5a65fb029d7",
       "version_major": 2,
       "version_minor": 0
      },
      "text/plain": [
       "HBox(children=(IntProgress(value=0, max=384), HTML(value='')))"
      ]
     },
     "metadata": {},
     "output_type": "display_data"
    },
    {
     "name": "stdout",
     "output_type": "stream",
     "text": [
      "\n",
      "PTTATHNPTTTSHGNVTVHPTSNSTATSQGPSTATHSPATTSHGNATVHPTSNSTATSPGFTSSAHPEPPPPSPSPSPTSKETIGDYTWTNGSQPCVHLQA\n",
      "PTTATHNPTTTSHGNVTVHPTSNSTATSQGPSTATHSPATTSHGNATVHPTSNSTATSPGFTSSAHPEPPPPSPSPSPTSKETIGDYTWTNGSQPCVHLQA\n"
     ]
    },
    {
     "data": {
      "application/vnd.jupyter.widget-view+json": {
       "model_id": "b2f3722537c940a2885dee9aef5aeaa6",
       "version_major": 2,
       "version_minor": 0
      },
      "text/plain": [
       "HBox(children=(IntProgress(value=0, max=384), HTML(value='')))"
      ]
     },
     "metadata": {},
     "output_type": "display_data"
    },
    {
     "name": "stdout",
     "output_type": "stream",
     "text": [
      "\n",
      "KNCPGIGKVSSHLQEHSPNQRLLKSVQQCNGQNTLRNIVHLSKTFHPIVQNHDTFDLYKRNLKSSLLSSIQRKHHGGNNPVEFIGGEKTLLHGKHERTHTK\n",
      "KNCPGIGKVDSHLQEHSPNQRLLKSVQQCNGQNTLRNIVHLSKTHFPIVQNHDTFDLYRKNLKSSLSLINQKRRHGINNPVEFIGGEKTLLHGKHERTHTK\n"
     ]
    },
    {
     "data": {
      "application/vnd.jupyter.widget-view+json": {
       "model_id": "462e14a037794ac5a3fb51a0d85e8e3d",
       "version_major": 2,
       "version_minor": 0
      },
      "text/plain": [
       "HBox(children=(IntProgress(value=0, max=384), HTML(value='')))"
      ]
     },
     "metadata": {},
     "output_type": "display_data"
    },
    {
     "name": "stdout",
     "output_type": "stream",
     "text": [
      "\n",
      "EHGDSSVPVWSGMNVAGVSLKTLHPDLGTDKDKEQWKEVHKQVVESAYEVIKLKGYTSIMEGVVVADLIESAMKNLRRVHPVSTMIKGLYGIKDDVFLSVP\n",
      "EHGDSSVPVWSGMNVAGVSLKTLHPDLGTDKDKEQWKEVHKQVVESAYEVIKLKGYTSWAIGLSVADLAESIMKNLRRVHPVSTMIKGLYGIKDDVFLSVP\n"
     ]
    },
    {
     "data": {
      "application/vnd.jupyter.widget-view+json": {
       "model_id": "4c917d5001fd427b871da521f0affcc8",
       "version_major": 2,
       "version_minor": 0
      },
      "text/plain": [
       "HBox(children=(IntProgress(value=0, max=384), HTML(value='')))"
      ]
     },
     "metadata": {},
     "output_type": "display_data"
    },
    {
     "name": "stdout",
     "output_type": "stream",
     "text": [
      "\n",
      "LLTVTQNVEVPETPKASKALEVSEDVKSVKASGSVKATEVSKTPEAREAPATQASSTTQLTDTQVLAAENKSLAADTKKQNADPQAVTMPATETKKVSHVA\n",
      "LLTVTQNVEVPETPKASKALEVSEDVKVSKASGVSKATEVSKTPEAREAPATQASSTTQLTDTQVLAAENKSLAADTKKQNADPQAVTMPATETKKVSHVA\n"
     ]
    },
    {
     "data": {
      "application/vnd.jupyter.widget-view+json": {
       "model_id": "6aa5d9e6dc3248dda4931b87f1f3b020",
       "version_major": 2,
       "version_minor": 0
      },
      "text/plain": [
       "HBox(children=(IntProgress(value=0, max=394), HTML(value='')))"
      ]
     },
     "metadata": {},
     "output_type": "display_data"
    },
    {
     "name": "stdout",
     "output_type": "stream",
     "text": [
      "\n",
      "STLYVVFSPSSFSTSSSLILGGPEEEEVPSGVIPNLTESIPSSPPQGPPQGPSSQPLSCSCSSFSWSFFSEESSSQKGEDTGTCGGLPDSESSFTYTLDEKV\n",
      "STLYLVFSPSSFSTSSSLILGGPEEEEVPSGVIPNLTESIPSSPPQGPPQGPSQSPLSSCCSSFSWSSFSEESSSQKGEDTGTCQGLPDSESSFTYTLDEKV\n"
     ]
    },
    {
     "data": {
      "application/vnd.jupyter.widget-view+json": {
       "model_id": "06129155f33d456cbc2d5bc64c967918",
       "version_major": 2,
       "version_minor": 0
      },
      "text/plain": [
       "HBox(children=(IntProgress(value=0, max=394), HTML(value='')))"
      ]
     },
     "metadata": {},
     "output_type": "display_data"
    },
    {
     "name": "stdout",
     "output_type": "stream",
     "text": [
      "\n",
      "ALFLLLFLWLLGIIWAFGNNTQFCTIIMMEFLYRIVVGFILIFTFFNIKGQNTKCPMSCYYIVRVLGTLGILTVFVVCPLTIFNPDYFIPISTIIVLTLLLG\n",
      "ALFLLLFLWLLGIIWAFKNNTQFCTCISMEFLYRIVVGFILIFTFFNIKGQNTKCPMSCYYIVRVLGTLGILTVFWVCPLTIFNPDYFIPISITIVLTLLLG\n"
     ]
    },
    {
     "data": {
      "application/vnd.jupyter.widget-view+json": {
       "model_id": "9f2efda8e2464d17aeb05b46d68c68a3",
       "version_major": 2,
       "version_minor": 0
      },
      "text/plain": [
       "HBox(children=(IntProgress(value=0, max=394), HTML(value='')))"
      ]
     },
     "metadata": {},
     "output_type": "display_data"
    },
    {
     "name": "stdout",
     "output_type": "stream",
     "text": [
      "\n",
      "MRSVSSSSTASASAKKIIVKHVTVIGGGLMGAGIAQVAAATGHTVVLVDQTEDILAKKSKGIEELLRKVAKKKFAENLKAGDEFVEKTLSTIATSTDAASVV\n",
      "MRSVSSSSTASASAKKIIVKHVTVIGGGLMGAGIAQVAAATGHTVVLVDQTEDILAKSKKGIEESLRKVAKKKFAENLKAGDEFVEKTLSTIATSTDAASVV\n"
     ]
    },
    {
     "data": {
      "application/vnd.jupyter.widget-view+json": {
       "model_id": "5c640be92bc94dbfa01bf434baa727dd",
       "version_major": 2,
       "version_minor": 0
      },
      "text/plain": [
       "HBox(children=(IntProgress(value=0, max=394), HTML(value='')))"
      ]
     },
     "metadata": {},
     "output_type": "display_data"
    },
    {
     "name": "stdout",
     "output_type": "stream",
     "text": [
      "\n",
      "GSFGQVVKAYDRVQQEWVAIKIIKNKKAFLNQAQIEVRLLELMNKHDTEMKYYIVHLKRHMMFRHHLCLVFEMLSYNLYDLLRNTNFRGVLLNLTRKFAQMQ\n",
      "GSFGQVVKAYDRVEQEWVAIKIIKNKKAFLNQAQIEVRLLELMNKHDTEMKYYIVHLKRHFMFRNHLCLVFEMLSYNLYDLLRNTNFRGVSLNLTRKFAQQM\n"
     ]
    },
    {
     "data": {
      "application/vnd.jupyter.widget-view+json": {
       "model_id": "2fdd1742ca20468e84524e6682c926ec",
       "version_major": 2,
       "version_minor": 0
      },
      "text/plain": [
       "HBox(children=(IntProgress(value=0, max=404), HTML(value='')))"
      ]
     },
     "metadata": {},
     "output_type": "display_data"
    },
    {
     "name": "stdout",
     "output_type": "stream",
     "text": [
      "\n",
      "ALAEGLTEEEYQAFLVYAAGVYSNMGNYKSFGDTKFVPNLPKEKLEVRILGSEAAQQHPEEVGGLWQTCGELMFSLELRLRHLGLGKEGITTYFSGNCTMEDA\n",
      "ALAEGLTEEEYQAFLVYAAGVYSNMGNYKSFGDTKFVPNLPKEKLERVILGSEAAQQHPEEVRGLWQTCGELMFSLEPRLRHLGLGKEGITTYFSGNCTMEDA\n"
     ]
    },
    {
     "data": {
      "application/vnd.jupyter.widget-view+json": {
       "model_id": "593693bb85f54e37bfe4dcfbd653f761",
       "version_major": 2,
       "version_minor": 0
      },
      "text/plain": [
       "HBox(children=(IntProgress(value=0, max=404), HTML(value='')))"
      ]
     },
     "metadata": {},
     "output_type": "display_data"
    },
    {
     "name": "stdout",
     "output_type": "stream",
     "text": [
      "\n",
      "MAAFLRNQKYEDMHNIIHILQIRKLHHRLSNFPRLPGILAPETVLLPFCYKVFRKKEKKVRSQKATEFIDYSIEQSHHAILTPLQTHLTMKGSSMKCSSLSSE\n",
      "MRAFLRNQKYEDMHNIIHILQIRKLRHRLSNFPRLPGILAPETVLLPFCYKVFRKKEKVKRSQKATEFIDYSIEQSHHAILTPLQTHLTMKGSSMKCSSLSSE\n"
     ]
    },
    {
     "data": {
      "application/vnd.jupyter.widget-view+json": {
       "model_id": "3e8e890f65984803b05003c71ea26659",
       "version_major": 2,
       "version_minor": 0
      },
      "text/plain": [
       "HBox(children=(IntProgress(value=0, max=404), HTML(value='')))"
      ]
     },
     "metadata": {},
     "output_type": "display_data"
    },
    {
     "name": "stdout",
     "output_type": "stream",
     "text": [
      "\n",
      "ETMFTSKAPVEEAFLYAKFEFECRRRGADILAYPPVVAGGNRSNTHHYVKNNQLIKDGEMVLLDGGCESSCYVSDITRWWPVNGRFTAPQAELYEAVLEIQRD\n",
      "ETMFTSKAPVEEAFLYAKFEFECRARGADILAYPPVVAGGNRSNTLHYVKNNQLIKDGEMVLLDGGCESSCYVSDITRTWPVNGRFTAPQAELYEAVLEIQRD\n"
     ]
    },
    {
     "data": {
      "application/vnd.jupyter.widget-view+json": {
       "model_id": "d0708a7431ba45729cc595d86807ff01",
       "version_major": 2,
       "version_minor": 0
      },
      "text/plain": [
       "HBox(children=(IntProgress(value=0, max=404), HTML(value='')))"
      ]
     },
     "metadata": {},
     "output_type": "display_data"
    },
    {
     "name": "stdout",
     "output_type": "stream",
     "text": [
      "\n",
      "GKPVRLGYKIWCGTTSRGYLVWFEPSQGTLFTKPDRSLDLGGSMVIKFVDALQERGFLPYHIFFKKVFTSVKLMSILRKGGVAATGTVREYRTERCPLKDPKE\n",
      "GKPVRLGYKIWCGTTSRGYLVWFEPSQGTLFTKPDRSLDLGGSMVIKFVDALQERGFLPYHIFFDKVFTSVKLMSILRKKGVKATGTVREYRTERCPLKDPKE\n"
     ]
    },
    {
     "data": {
      "application/vnd.jupyter.widget-view+json": {
       "model_id": "be20596373734d2e9f3199bb019f2c2f",
       "version_major": 2,
       "version_minor": 0
      },
      "text/plain": [
       "HBox(children=(IntProgress(value=0, max=404), HTML(value='')))"
      ]
     },
     "metadata": {},
     "output_type": "display_data"
    },
    {
     "name": "stdout",
     "output_type": "stream",
     "text": [
      "\n",
      "LLWKGGATTPEPLSSFRWALLSTGLMFFYFSQVLQILGLVTEVNLNNMLCPAISDPFYGPWYRWIASGHQTLMTMTHGKVILLFSMMAGPLCKYLLDLLRLPA\n",
      "LLWKGGAYTPEPLSSFRWALLSTGLMFFYHFSVLQILGLVTEVNLNNMLCPAISDPFYGPWYRIWASGHQTLMTMTHGKLVILFSYMAGPLCKYLLDLLRLPA\n"
     ]
    },
    {
     "data": {
      "application/vnd.jupyter.widget-view+json": {
       "model_id": "baa94f83ee9d4cd283f12ce6201238b9",
       "version_major": 2,
       "version_minor": 0
      },
      "text/plain": [
       "HBox(children=(IntProgress(value=0, max=404), HTML(value='')))"
      ]
     },
     "metadata": {},
     "output_type": "display_data"
    },
    {
     "name": "stdout",
     "output_type": "stream",
     "text": [
      "\n",
      "SPTSPKVFPLSLCSTQPDGNVVIACLVQGFQPQEPLSVTWSESGQGVTARNFPPSQDASGDLYTTSSQLTLPATQCLAGKSVTCHVKHYTNPSQDVTVPCPVP\n",
      "SPTSPKVFPLSLCSTQPDGNVVIACLVQGFFPQEPLSVTWSESGQGVTARNFPPSQDASGDLYTTSSQLTLPATQCLAGKSVTCHVKHYTNPSQDVTVPCPVP\n"
     ]
    },
    {
     "data": {
      "application/vnd.jupyter.widget-view+json": {
       "model_id": "15e112e41de04e3791891e471025bb0d",
       "version_major": 2,
       "version_minor": 0
      },
      "text/plain": [
       "HBox(children=(IntProgress(value=0, max=404), HTML(value='')))"
      ]
     },
     "metadata": {},
     "output_type": "display_data"
    },
    {
     "name": "stdout",
     "output_type": "stream",
     "text": [
      "\n",
      "MSEEKPGEKVKTENDHINLKVAGQDGSVVQFKIKRHTPLSKLMKAYCERQGLSMRQIRFRFDGQPINETDTPAQLEMEDEDTIDVFQQQTGGVPESSLAGHSF\n",
      "MSEEKPKEGVKTENDHINLKVAGQDGSVVQFKIKRHTPLSKLMKAYCERQGLSMRQIRFRFDGQPINETDTPAQLEMEDEDTIDVFQQQTGGVPESSLAGHSF\n"
     ]
    },
    {
     "data": {
      "application/vnd.jupyter.widget-view+json": {
       "model_id": "07cb82382bc1461b93838df232ec9778",
       "version_major": 2,
       "version_minor": 0
      },
      "text/plain": [
       "HBox(children=(IntProgress(value=0, max=404), HTML(value='')))"
      ]
     },
     "metadata": {},
     "output_type": "display_data"
    },
    {
     "name": "stdout",
     "output_type": "stream",
     "text": [
      "\n",
      "MENQRNLNVETRRISHWKDYVNVRLEAIRAEYQKMPAFHHEEEKHNLEMLKKKGKDIFHRLHLSKAKMAHRREILGGTYAELMMMCHKPDVELLQAFGDILHR\n",
      "CENQRNLNVETTRISHWKDYVNVRLEAIRAEYQKMPAFHHEEEKHNLEMLKKKGKDIFHRLHLSKAKMAHRREILRGTYAELMKMCHKPDVELLQAFGDILHR\n"
     ]
    },
    {
     "data": {
      "application/vnd.jupyter.widget-view+json": {
       "model_id": "915462cc5db74f5d9537664418b18a23",
       "version_major": 2,
       "version_minor": 0
      },
      "text/plain": [
       "HBox(children=(IntProgress(value=0, max=404), HTML(value='')))"
      ]
     },
     "metadata": {},
     "output_type": "display_data"
    },
    {
     "name": "stdout",
     "output_type": "stream",
     "text": [
      "\n",
      "FPQSAAAAAAAAAAAAAGSPYSLLLDGSMKAEISSSSSGLPYASSLGYPTAGAGAFQGAAAAAAAAAAAAGGHTHSHPSPGNPGYAIPCNCWAWPSPGLQPPL\n",
      "FPQSAAAAAAAAAAAAAGSPYSLLDLGSKMAEISSSSSGLPYASSLGYPTAGAGAFHGAAAAAAAAAAAAGGHTHSHPSPGNPGYMIPCNCSAWPSPGLQPPL\n"
     ]
    },
    {
     "data": {
      "application/vnd.jupyter.widget-view+json": {
       "model_id": "ea6539d69f1d4a0da55bf10847bed2cc",
       "version_major": 2,
       "version_minor": 0
      },
      "text/plain": [
       "HBox(children=(IntProgress(value=0, max=404), HTML(value='')))"
      ]
     },
     "metadata": {},
     "output_type": "display_data"
    },
    {
     "name": "stdout",
     "output_type": "stream",
     "text": [
      "\n",
      "QLQSPMYFFLSHLSFADVCFSSNVTPKMLENLLSETKTISYVGCLVQCYFFIIVVVVVEYILAVMAFRDYAAGCCPLLYGSKMSRTVCVRLISVPYVYGFSVS\n",
      "QLQSPMYFFLSHLSFADVCFSSNVTPKMLENLLSETKTISYVGCLVQCYFFIAVVHVEVYILAVMAFDRYMAGCNPLLYGSKMSRTVCVRLISVPYVYGFSVS\n"
     ]
    },
    {
     "data": {
      "application/vnd.jupyter.widget-view+json": {
       "model_id": "c67a77a580d2444dbc17680f5b780a86",
       "version_major": 2,
       "version_minor": 0
      },
      "text/plain": [
       "HBox(children=(IntProgress(value=0, max=404), HTML(value='')))"
      ]
     },
     "metadata": {},
     "output_type": "display_data"
    },
    {
     "name": "stdout",
     "output_type": "stream",
     "text": [
      "\n",
      "TPKAVEKELNALYDVFLEVSQHWQSKDVILLGDFNADCASLTKKRLDKLELRTPEGFHWVIADGEDTTVRASTHCTYDRVVHHGERCRSLLHTAAAFDFPTSF\n",
      "TPKAVEKELNALYDVFLEVSQHWQSKDVILLGDFNADCASLTKKRLDKLELRTEPGFHWVIADGEDTTVRASTHCTYDRVVLHGERCRSLLHTAAAFDFPTSF\n"
     ]
    },
    {
     "data": {
      "application/vnd.jupyter.widget-view+json": {
       "model_id": "3be303e34fad4c24a84d5ff57dab508e",
       "version_major": 2,
       "version_minor": 0
      },
      "text/plain": [
       "HBox(children=(IntProgress(value=0, max=414), HTML(value='')))"
      ]
     },
     "metadata": {},
     "output_type": "display_data"
    },
    {
     "name": "stdout",
     "output_type": "stream",
     "text": [
      "\n",
      "ISHVEALVEIPVTQEVLQEPNSNVVKVAFTVRKAGRYEIVTKLGGLNVYYSPYYKIFQPGMVVPSKTKIVCFFSTLVLTCGQPHTLHIVPRDEYDPNTNNSMSL\n",
      "ISHVELAVEIPVTQEVLQEPNSNVVKVAFTVRKAGRYEITVKLGGLNVAYSPYYKIFQPGMVVPSKTKIVCHFSTLVLTCGQPHTLQIVPRDEYDNPTNNSMSL\n"
     ]
    },
    {
     "data": {
      "application/vnd.jupyter.widget-view+json": {
       "model_id": "336df9f33ec0443286d38bb2833792c1",
       "version_major": 2,
       "version_minor": 0
      },
      "text/plain": [
       "HBox(children=(IntProgress(value=0, max=414), HTML(value='')))"
      ]
     },
     "metadata": {},
     "output_type": "display_data"
    },
    {
     "name": "stdout",
     "output_type": "stream",
     "text": [
      "\n",
      "GTRRRLQDATEQDPRPGNDVASAETAGPPSPSGIRAQARAPRHRRAPAARPPVAPAPSADGEPLQEQGGGLFHRTRSVYNGLENLTWKKVERFLVEKFHQSFSL\n",
      "GTRRRLQDATEQDPRPGNDVASAETAGPPSPSGIRAQDRAPRHRRAPPARMPVAPAPSADGEPLQEQGGGLFHRTRSVYNGLELNTWMKVERLFVEKFHQSFSL\n"
     ]
    },
    {
     "data": {
      "application/vnd.jupyter.widget-view+json": {
       "model_id": "dc828031412d448eb6112982a97bc032",
       "version_major": 2,
       "version_minor": 0
      },
      "text/plain": [
       "HBox(children=(IntProgress(value=0, max=414), HTML(value='')))"
      ]
     },
     "metadata": {},
     "output_type": "display_data"
    },
    {
     "name": "stdout",
     "output_type": "stream",
     "text": [
      "\n",
      "AYLRNAVVVITGTTSGLGKECAKVFYAGGAKLVLCGRNGGALEELIRELTASHATKVQTHKPYLVTFDLTSSGAIVAAAAEILQCFGYVDILVNNAGISYRGTI\n",
      "AYLRNAVVVITGATSGLGKECAKVFYAAGAKLVLCGRNGGALEELIRELTASHATKVQTHKPYLVTFDLTDSGAIVAAAAEILQCFGYVDILVNNAGISYRGTI\n"
     ]
    },
    {
     "data": {
      "application/vnd.jupyter.widget-view+json": {
       "model_id": "abcef5a4fb344389a4876a29b378b7fb",
       "version_major": 2,
       "version_minor": 0
      },
      "text/plain": [
       "HBox(children=(IntProgress(value=0, max=414), HTML(value='')))"
      ]
     },
     "metadata": {},
     "output_type": "display_data"
    },
    {
     "name": "stdout",
     "output_type": "stream",
     "text": [
      "\n",
      "CPQHVGLPPPARTSPLVSGHCKNIPTLEYGFLVIIMKYAEQRIPTLNEYCVVDDEQHVFQNGSMLKPAVTTRELCVFSFYTLVGMSGAAEEVATGAEVVDLLVA\n",
      "CPQHVGLPPPARTSPLVSGHCKNIPTLEYGFLVQIMKYAEQRIPTLNEYCVVCDEQHVFQNGSMLKPAVCTRELCVFSFYTLGVMSGAAEEVATGAEVVDLLVA\n"
     ]
    },
    {
     "data": {
      "application/vnd.jupyter.widget-view+json": {
       "model_id": "86965f240909449fa3fac1bc3907b673",
       "version_major": 2,
       "version_minor": 0
      },
      "text/plain": [
       "HBox(children=(IntProgress(value=0, max=414), HTML(value='')))"
      ]
     },
     "metadata": {},
     "output_type": "display_data"
    },
    {
     "name": "stdout",
     "output_type": "stream",
     "text": [
      "\n",
      "RYVTVMNTQLWGVLVVATWVGGFVHSIVQLALMLLPPFCGPNILDNFYCDVPQVLRLACTDTSLLEFLLSSNGSLLDVVWFFLLLMYYLFILVMLRSHPGEARR\n",
      "RYVTVMNTQLWVGLVVATWVGGFVHSIVQLALMLPLPFCGPNILDNFYCDVPQVLRLACTDTSLLEFLKISNSGLLDVVWFFLLLMSYLFILVMLRSHPGEARR\n"
     ]
    },
    {
     "data": {
      "application/vnd.jupyter.widget-view+json": {
       "model_id": "558871336ef445b4bea2e3a67e0a2bcc",
       "version_major": 2,
       "version_minor": 0
      },
      "text/plain": [
       "HBox(children=(IntProgress(value=0, max=414), HTML(value='')))"
      ]
     },
     "metadata": {},
     "output_type": "display_data"
    },
    {
     "name": "stdout",
     "output_type": "stream",
     "text": [
      "\n",
      "ENRSNFPVVLSEYLIYIVLIRILPPNNQICIAKMSMLSKSTRVELLLRRFCELCGDRKLFQVRKVCAANFGDICHAVGQEATEKFLIPKFFELCSDAVWGMRKA\n",
      "ENRSNFPVVLSEYLIPIVVRYLTDPNNQIICKMASMLSKSTVERLLLPRFCELCGDRKLFQVRKVCAANFGDICHAVGQEATEKFLIPKFFELCSDAVWGMRKA\n"
     ]
    },
    {
     "data": {
      "application/vnd.jupyter.widget-view+json": {
       "model_id": "15dcbbcadb724f29bbf21048c0e52141",
       "version_major": 2,
       "version_minor": 0
      },
      "text/plain": [
       "HBox(children=(IntProgress(value=0, max=414), HTML(value='')))"
      ]
     },
     "metadata": {},
     "output_type": "display_data"
    },
    {
     "name": "stdout",
     "output_type": "stream",
     "text": [
      "\n",
      "KAPRLIPHAKTFSPGDGQPLQQFKSKQEFPPLFLHTGSIPQVRFRPLPQPREAWGLSDSFQPALPQRAAQTTPASHLPVSQTNYEARKKEVEQKTEAETVITEI\n",
      "KAPRLIPHAKTFSPGDGFPLLQFKSKQEFQPLFLHTGSIPQVPFRPLPQPREAWGLSDSFQPALPQRAAQTTPASHLNVSQYNTEARKKEVEQKTWAETVITEI\n"
     ]
    },
    {
     "data": {
      "application/vnd.jupyter.widget-view+json": {
       "model_id": "7e3e27f6cdb447a0a3664bbb89cef04e",
       "version_major": 2,
       "version_minor": 0
      },
      "text/plain": [
       "HBox(children=(IntProgress(value=0, max=414), HTML(value='')))"
      ]
     },
     "metadata": {},
     "output_type": "display_data"
    },
    {
     "name": "stdout",
     "output_type": "stream",
     "text": [
      "\n",
      "IVDIMAKWNRASSCKLSELLSLDLQGPVSNSPTEVQKHNLSYLFYNWSITKRTLTVWLIWFTGSLGFYSFSLNSVNLGGNEYLNLFLLGVVEIPAYTFVCIAMD\n",
      "IVDIMAKWNRASSCKLSELLSLDLQGPVSNSPTEVQKHNLSYLFYNWSITKRTLTVWLIWFTGSLGFYSFSLNSVNLGGNEYLNLFLLGVVEIPAYTFVCIAMD\n"
     ]
    },
    {
     "data": {
      "application/vnd.jupyter.widget-view+json": {
       "model_id": "d275b6a47917444b8f3ed5279a67286c",
       "version_major": 2,
       "version_minor": 0
      },
      "text/plain": [
       "HBox(children=(IntProgress(value=0, max=425), HTML(value='')))"
      ]
     },
     "metadata": {},
     "output_type": "display_data"
    },
    {
     "name": "stdout",
     "output_type": "stream",
     "text": [
      "\n",
      "LAIAILMKAYQRFRQKSKASFLLLASGLVITDFGFFNLLGAIAVFVYASDKEWIRFDQSNVLCSIFGICMVFSGCCPLLLGSVMAIERCIGVTKPIFHSKTTTSK\n",
      "LAIAILMKAYQRFRQKSKASFLLLASGLVITDFFGHLINGAIAVFVYASDKEWIRFDQSNVLCSIFGICMVFSGLCPLLLGSVMAIERCIGVTKPIFHSTKITSK\n"
     ]
    },
    {
     "data": {
      "application/vnd.jupyter.widget-view+json": {
       "model_id": "3d3b07145e8749b0b503bd4a5ac75524",
       "version_major": 2,
       "version_minor": 0
      },
      "text/plain": [
       "HBox(children=(IntProgress(value=0, max=425), HTML(value='')))"
      ]
     },
     "metadata": {},
     "output_type": "display_data"
    },
    {
     "name": "stdout",
     "output_type": "stream",
     "text": [
      "\n",
      "MAPKRQSPLPPQKKKPRPPPALGPETTSASAGLPKKGEKEQQEAIEHIDEVQNEIDRLNEQASEEILKVEQKYNKLRQPFFQKRSELIAKIPNFWVTTFVNHPQV\n",
      "MAPKRQSPLPPQKKKPRPPPALGPEETSASAGLPKKGEKEQQEAIEHIDEVQNEIDRLNEQASEEILKVEQKYNKLRQPFFQKRSELIAKIPNFWVTTFVNHPQV\n"
     ]
    },
    {
     "data": {
      "application/vnd.jupyter.widget-view+json": {
       "model_id": "92e26ca76f5e4064af82d25f67aed842",
       "version_major": 2,
       "version_minor": 0
      },
      "text/plain": [
       "HBox(children=(IntProgress(value=0, max=425), HTML(value='')))"
      ]
     },
     "metadata": {},
     "output_type": "display_data"
    },
    {
     "name": "stdout",
     "output_type": "stream",
     "text": [
      "\n",
      "ATQLLQHPFIKPAKPVSILRDLITEAMEIKAKRHEEQQRELEEEEEEDDEDELDSHTMVKTSVEEVSTMRATSTMSEGAQTMIEHNSTMLESDLGTMVINSEDEE\n",
      "ATQLLQHPFIKNAKPVSILRDLITEAMEIKAKRHEEQQRELEEEEENSDEDELDSHTMVKTSVESVGTMRATSTMSEGAQTMIEHNSTMLESDLGTMVINSEDEE\n"
     ]
    },
    {
     "data": {
      "application/vnd.jupyter.widget-view+json": {
       "model_id": "16e618a733d0423b9a0fb06ec70e92e7",
       "version_major": 2,
       "version_minor": 0
      },
      "text/plain": [
       "HBox(children=(IntProgress(value=0, max=425), HTML(value='')))"
      ]
     },
     "metadata": {},
     "output_type": "display_data"
    },
    {
     "name": "stdout",
     "output_type": "stream",
     "text": [
      "\n",
      "SSSAGPEGPQLDVPREFLPRTLTGYVPEDIWRKAEEAVNEVKRQAMSELQKAVSDAERKAHELITTERKMAERLAEAKKRQASEDALTVINQQEDSSSSCWNCGR\n",
      "SSSAGPEGPQLDVPREFLPRTLTGYVPEDIWRKAEEAVNEVKRQAMSELQKAVSDAERKAHELITTERAKMERALAEAKRQASEDALTVINQQEDSSESCWNCGR\n"
     ]
    },
    {
     "data": {
      "application/vnd.jupyter.widget-view+json": {
       "model_id": "4d289d5f03264a03a19346013d9bf555",
       "version_major": 2,
       "version_minor": 0
      },
      "text/plain": [
       "HBox(children=(IntProgress(value=0, max=425), HTML(value='')))"
      ]
     },
     "metadata": {},
     "output_type": "display_data"
    },
    {
     "name": "stdout",
     "output_type": "stream",
     "text": [
      "\n",
      "HKGKIIMHDPFAMRPFFGYNFGKYLAHWLSMAQHPAAKLPKIFHVNWFRKDKEGKFLWPGFGENSRVLEWMFNRIDGKASTKLTPIGYIPKEDALNLKGLGHINM\n",
      "HKGKIIMHDPFAMRPFFGYNFGKYLAHWLSMAQHPAAKLPKIFHVNWFRKDKEGKFLWPGFGENSRVLEWMFNRIDGKASTKLTPIGYIPKEDALNLKGLGHINM\n"
     ]
    },
    {
     "data": {
      "application/vnd.jupyter.widget-view+json": {
       "model_id": "9747a8dd61f74b83ad4d85dc589868d1",
       "version_major": 2,
       "version_minor": 0
      },
      "text/plain": [
       "HBox(children=(IntProgress(value=0, max=425), HTML(value='')))"
      ]
     },
     "metadata": {},
     "output_type": "display_data"
    },
    {
     "name": "stdout",
     "output_type": "stream",
     "text": [
      "\n",
      "VCLCVLMAVLAAAGLTQPVPAPDPAGGGLQRAEEAPRRQLRVSQTRGGESRALHGLALARYIQQARKAPSGRMSIVKNLQNLDPSHRISDRDYMGWMDFGRRSAE\n",
      "VCLCVLMAVLAAGALTQPVPPADPAGSGLQRAEEAPRRQLRVSQRTDGESRAHLGALLARYIQQARKAPSGRMSIVKNLQNLDPSHRISDRDYMGWMDFGRRSAE\n"
     ]
    },
    {
     "data": {
      "application/vnd.jupyter.widget-view+json": {
       "model_id": "be91a44e52d6436c86f835f2b262c31c",
       "version_major": 2,
       "version_minor": 0
      },
      "text/plain": [
       "HBox(children=(IntProgress(value=0, max=425), HTML(value='')))"
      ]
     },
     "metadata": {},
     "output_type": "display_data"
    },
    {
     "name": "stdout",
     "output_type": "stream",
     "text": [
      "\n",
      "RGYQQQDAHEMMRYLDLHLHLELQGFFNGVSRSALLQENSTLSASNKCCINGAASVVTIFIGGILQNEVNCLICGTESRKFDPFLDLSLDIPSQFRSKRSKNQEN\n",
      "RGYQQQDAHEFMRYLLDHLHLELQGGFNGVSRSAILQENSTLSASNKCCINGASTVVTAIFGGILQNEVNCLICGTESRKFDPFLDLSLDIPSQFRSKRSKNQEN\n"
     ]
    },
    {
     "data": {
      "application/vnd.jupyter.widget-view+json": {
       "model_id": "e53583033b4e493e8ab1b7c028ff701b",
       "version_major": 2,
       "version_minor": 0
      },
      "text/plain": [
       "HBox(children=(IntProgress(value=0, max=425), HTML(value='')))"
      ]
     },
     "metadata": {},
     "output_type": "display_data"
    },
    {
     "name": "stdout",
     "output_type": "stream",
     "text": [
      "\n",
      "VSEKGSCAASPPWRLIAVILGILCLVILVIAVVLGTMAIWRSNSGSNTLENGYFLSRNKENHSQPTQSSLEDSVTPTKAKKTTGVLSSPCPNPWIIYEKSCYLFS\n",
      "VSEKGSCAASPPWRLIAVILGILCLVILVIAVVLGTMAIWRSNSGSNTLENGYFLSRNKENHSQPTQSSLEDSVTPTKAVKTTGVLSSPCPPNWIIYEKSCYLFS\n"
     ]
    },
    {
     "data": {
      "application/vnd.jupyter.widget-view+json": {
       "model_id": "60143c0916f24c6a8c259780923da3ac",
       "version_major": 2,
       "version_minor": 0
      },
      "text/plain": [
       "HBox(children=(IntProgress(value=0, max=425), HTML(value='')))"
      ]
     },
     "metadata": {},
     "output_type": "display_data"
    },
    {
     "name": "stdout",
     "output_type": "stream",
     "text": [
      "\n",
      "CWKCGGVPPTTTLEMFYNDNDRVEESSNSYQIRREFLPAACLPAFLFSSTSSFFFLFSLPLSLSLFLPFFPSFFLSLLSSPSLFPSFLRQGLALSPRLECDGAIM\n",
      "CWKGVCVPQTTTLEMFYNDNDRVEESSNSYQIRREFLLPACLPAFLSFSTSFSFFLSFLPLSLSLFLPFFPSFFLSLSLSPSFLPSFLRQGLALSPRLECDGAIM\n"
     ]
    },
    {
     "data": {
      "application/vnd.jupyter.widget-view+json": {
       "model_id": "1c4cc817137f4662b5cf040940eec38b",
       "version_major": 2,
       "version_minor": 0
      },
      "text/plain": [
       "HBox(children=(IntProgress(value=0, max=425), HTML(value='')))"
      ]
     },
     "metadata": {},
     "output_type": "display_data"
    },
    {
     "name": "stdout",
     "output_type": "stream",
     "text": [
      "\n",
      "PSKKFTHNHQFFFVSEPLPKRSTVGVITVTDADAGENKAVTLSILNDNDNFVLDPYSGVIKSNVSFDRQQQSSYTFDVKATDGGQPPRSSTAKVTINVMDVNDNS\n",
      "NSPKFTHNHFQFFVSENLPKYSTVGVITVTDADAGENKAVTLSILNDNDNFVLDPYSGVIKSNVSFDREQQSSYTFDVKATDGGQPPRSSTAKVTINVMDVNDNS\n"
     ]
    },
    {
     "data": {
      "application/vnd.jupyter.widget-view+json": {
       "model_id": "adeee511438b49ad8ae416b60955e749",
       "version_major": 2,
       "version_minor": 0
      },
      "text/plain": [
       "HBox(children=(IntProgress(value=0, max=425), HTML(value='')))"
      ]
     },
     "metadata": {},
     "output_type": "display_data"
    },
    {
     "name": "stdout",
     "output_type": "stream",
     "text": [
      "\n",
      "DHQVLIKVHACGVNPVETYITSGTYSRKPLLPYTPSGDVAGVIEAGVDNASAFKGKDRVFTSSTISGGYAEYALAADHTVYKLPEKLDFKQGAAIGIPYFTAYRA\n",
      "DHQVLIKVHACGVNPVETYIRSGTYSRKPLLPYTPGSDVAGVIEAVGDNASAFKKGDRVFTSSTISGGYAEYALAADHTVYKLPEKLDFKQGAAIGIPYFTAYRA\n"
     ]
    },
    {
     "data": {
      "application/vnd.jupyter.widget-view+json": {
       "model_id": "1fdaa1346c794c54a625af08e16de2d1",
       "version_major": 2,
       "version_minor": 0
      },
      "text/plain": [
       "HBox(children=(IntProgress(value=0, max=425), HTML(value='')))"
      ]
     },
     "metadata": {},
     "output_type": "display_data"
    },
    {
     "name": "stdout",
     "output_type": "stream",
     "text": [
      "\n",
      "AAVRAAAWLLLGAATGLTRGPAAAFTAARSDAGIRAMCSEIILRQEVLGDKFHRDLLIKVKFGESIEDLHTCRLLKIQIIPAGLYDDPYELASLRRRNITEAVMV\n",
      "AAVRAAAWLLLGAATGLTRGPAAAFTAARSDAGIRAMCSEIILRQEVLKDGFHRDLLIKVKFGESIEDLHTCRLLIKQDIPAGLYVDPYELASLRERNITEAVMV\n"
     ]
    },
    {
     "data": {
      "application/vnd.jupyter.widget-view+json": {
       "model_id": "50116e8ab7e84ee28db69d74c2b0bbc2",
       "version_major": 2,
       "version_minor": 0
      },
      "text/plain": [
       "HBox(children=(IntProgress(value=0, max=436), HTML(value='')))"
      ]
     },
     "metadata": {},
     "output_type": "display_data"
    },
    {
     "name": "stdout",
     "output_type": "stream",
     "text": [
      "\n",
      "NKIIIIHRNLEASAVIQGLVKDRSIFTGLMIDPRTKALVLNGKPGHLQFYSLQSDKQLYNLDIIQQEYINDYGLIQIELKKAAFGCFGNWLATVEQRQEKETELEL\n",
      "NKIIIIHRNLEASAVIQGLVKDRSIFTGLMIDPRTKALVLNGKPGHLQFYSLQSDKQLYNLDIIQQEYINDYGLIQIELTKAAFGCFGNWLATVEQRQEKETELEL\n"
     ]
    },
    {
     "data": {
      "application/vnd.jupyter.widget-view+json": {
       "model_id": "5d1caaf72bb64104816d178b6c195d4e",
       "version_major": 2,
       "version_minor": 0
      },
      "text/plain": [
       "HBox(children=(IntProgress(value=0, max=436), HTML(value='')))"
      ]
     },
     "metadata": {},
     "output_type": "display_data"
    },
    {
     "name": "stdout",
     "output_type": "stream",
     "text": [
      "\n",
      "HAASQVGKEEDRVGQVLLHVGSQAGREAGQFGHDIHQTAGHAKKEGDIAVHGVQPGVHEAGKEAGQFGGGVHHTLEQAGKEADKAVQGFHTGVHQAGKEAEKLGQG\n",
      "HAASQVGKEEDRVVQGLHHGVSQAGREAGQFGHDIHHTAGQAGKEGDIAVHGVQPGVHEAGKEAGQFGQGVHHTLEQAGKEADKAVQGFHTGVHQAGKEAEKLGQG\n"
     ]
    },
    {
     "data": {
      "application/vnd.jupyter.widget-view+json": {
       "model_id": "70b8f59987d7469a90c929ef522931eb",
       "version_major": 2,
       "version_minor": 0
      },
      "text/plain": [
       "HBox(children=(IntProgress(value=0, max=436), HTML(value='')))"
      ]
     },
     "metadata": {},
     "output_type": "display_data"
    },
    {
     "name": "stdout",
     "output_type": "stream",
     "text": [
      "\n",
      "FFLDRDGFLFRYILDYLRDLQLVLYDYFPERSRLQREAEYFELPELVRRLGAPQQPGPGPPPSRRGVHKEGSLGDELLPLGYSEPEQQEGASAGAPSPTLELASRS\n",
      "FFLDRDGFLFRYILDYLRDLQLVLPDYFPERSRLQREAEYFELPELVRRLGAPQQPGPGPPPSRRGVHKEGSLGDELLPLGYSEPEQQEGASAGAPSPTLELASRS\n"
     ]
    },
    {
     "data": {
      "application/vnd.jupyter.widget-view+json": {
       "model_id": "5b6d3d9ece3d46e2b3708cd1b36f8605",
       "version_major": 2,
       "version_minor": 0
      },
      "text/plain": [
       "HBox(children=(IntProgress(value=0, max=436), HTML(value='')))"
      ]
     },
     "metadata": {},
     "output_type": "display_data"
    },
    {
     "name": "stdout",
     "output_type": "stream",
     "text": [
      "\n",
      "SSSNPSSTTSSTPSSPAPFPTSSNPSSATTPPNPSPGQRDSRDNFPFAYYHHRQQQFFFPVPSAGHHWKCLLIAESLKENAFNISAFHHAAPLPEAADGTRLDDQP\n",
      "SSSNPSSTTSSTPSSPAPFPTSSNPSSATTPPNPSPGQRDSRFNFPAAYFIHHRQQFIFPVPSAGHCWKCLLIAESLKENAFNISAFAHAAPLPEAADGTRLDDQP\n"
     ]
    },
    {
     "data": {
      "application/vnd.jupyter.widget-view+json": {
       "model_id": "ed75192972c74f5195f7bf6e8aa9cf5d",
       "version_major": 2,
       "version_minor": 0
      },
      "text/plain": [
       "HBox(children=(IntProgress(value=0, max=436), HTML(value='')))"
      ]
     },
     "metadata": {},
     "output_type": "display_data"
    },
    {
     "name": "stdout",
     "output_type": "stream",
     "text": [
      "\n",
      "TGGTHGNEMSVGRLARHWLHAPAELQRASFSAVPVLANPAATSGCRRYVDHDLNRTFTSSFLNSRPTPDDPYEVTRARELNQLLGPKASGQAFFDVLDLHNTTANM\n",
      "TGGTHGNEMSGVYLARHWLHAPAELQRASFSAVPVLANPAATSGCRRYVDHDLNRTFTSSFLNSRPTPDDPYEVTRARELNQLLGPKASGQAFDFVLDLHNTTANM\n"
     ]
    },
    {
     "data": {
      "application/vnd.jupyter.widget-view+json": {
       "model_id": "e593e354788d411088184b9ae18f2205",
       "version_major": 2,
       "version_minor": 0
      },
      "text/plain": [
       "HBox(children=(IntProgress(value=0, max=436), HTML(value='')))"
      ]
     },
     "metadata": {},
     "output_type": "display_data"
    },
    {
     "name": "stdout",
     "output_type": "stream",
     "text": [
      "\n",
      "EWECLNDDQRDLYRDVMLENYSNLVSMGHSISKPNVISYLEQGKEPWLADRELTRGQWPVLESRCETKKLFLKKAEYEEISTQWEIMEKLTRRDQFCSSFRDDWEC\n",
      "EWECLNDDQRDLYRDVMLENYSNLVSMGHSISKPNVISYLEQGKEPWLADRELTRGQWPVLESRCETKKLFLKKEIYEIESTQWEIMEKLTRRDFQCSSFRDDWEC\n"
     ]
    },
    {
     "data": {
      "application/vnd.jupyter.widget-view+json": {
       "model_id": "23a95bb14484441a97465d9d58f62f99",
       "version_major": 2,
       "version_minor": 0
      },
      "text/plain": [
       "HBox(children=(IntProgress(value=0, max=449), HTML(value='')))"
      ]
     },
     "metadata": {},
     "output_type": "display_data"
    },
    {
     "name": "stdout",
     "output_type": "stream",
     "text": [
      "\n",
      "EDENETKVIKQCYQDHNLSQNGSAPTPFLCAMQLFSHMHAVISTTACMRRSSQIFTFSNIIPVVCDPLSDYNVWSMLKPINTTGTLKPDDRVVVAATRLDSRSFFWN\n",
      "EDENETKVIKQCYQDHNLSQNGSAPTFPLCAMQLFSHMHAVISTATCMRRSSIQSTFSINPEIVCDPLSDYNVWSMLKPINTTGTLKPDDRVVVAATRLDSRSFFWN\n"
     ]
    },
    {
     "data": {
      "application/vnd.jupyter.widget-view+json": {
       "model_id": "8a94eec93f2546089f7796dfbc42c503",
       "version_major": 2,
       "version_minor": 0
      },
      "text/plain": [
       "HBox(children=(IntProgress(value=0, max=449), HTML(value='')))"
      ]
     },
     "metadata": {},
     "output_type": "display_data"
    },
    {
     "name": "stdout",
     "output_type": "stream",
     "text": [
      "\n",
      "GDQLIQSHHYAAAAIRPRCVELRHLCDDFINGNKKKWDILGKSLEFHRQLDKVSQWCEAGIYLLASQAVDKCQSREGVDIALNDIAFFLGTVKEYPLLSPKEFYNEF\n",
      "GDQLIQSHHYAADAIRPRCVELRHLCDDFINGNKKKWDILGKSLEFHRQLDKVSQWCEAGIYLLASQAVDKCQSREGVDIALNDIATFLGTVKEYPLLSPKEFYNEF\n"
     ]
    },
    {
     "data": {
      "application/vnd.jupyter.widget-view+json": {
       "model_id": "684466323ce542e884875bdccc08a8ec",
       "version_major": 2,
       "version_minor": 0
      },
      "text/plain": [
       "HBox(children=(IntProgress(value=0, max=449), HTML(value='')))"
      ]
     },
     "metadata": {},
     "output_type": "display_data"
    },
    {
     "name": "stdout",
     "output_type": "stream",
     "text": [
      "\n",
      "PTMAQGVIEYKEKFKFDPFISTNIQYFLDRFYTINRSFIMNLHQHTLFFGGDTNPVHPKHIGSIDPTCNVADVVKDAEYTAKMLCEQYPLVAEELEVEEFNAKAPDK\n",
      "PTMAQGVIEYKEKFGFDPFISTNIQYFLDRFYTNRISFRMLINQHTLLFGGDTNPVHPKHIGSIDPTCNVADVVKDAYETAKMLCEQYYLVAPELEVEEFNAKAPDK\n"
     ]
    },
    {
     "data": {
      "application/vnd.jupyter.widget-view+json": {
       "model_id": "e8086e103d8b4d7c8aef691044700e40",
       "version_major": 2,
       "version_minor": 0
      },
      "text/plain": [
       "HBox(children=(IntProgress(value=0, max=449), HTML(value='')))"
      ]
     },
     "metadata": {},
     "output_type": "display_data"
    },
    {
     "name": "stdout",
     "output_type": "stream",
     "text": [
      "\n",
      "DASDMMQLLLKTQTDFNDMEDDPDIQSIMASARARMCKILGKEFQQYLPVVMGLPKMTASIKEEVALLDTQDMENMSDDDGWEFVNLGDQQSFGIKTAGLEEKSTAC\n",
      "DASDVMQLLLKTQTDFNDMEDDDPQISYMISAWARMCKILGKEFQQYLPVVMGPLMKTASIKPEVALLDTQDMENMSDDDGWEFVNLGDQQSFGIKTAGLEEKSTAC\n"
     ]
    },
    {
     "data": {
      "application/vnd.jupyter.widget-view+json": {
       "model_id": "8899cb42d5ae44f69c61f07d43af0059",
       "version_major": 2,
       "version_minor": 0
      },
      "text/plain": [
       "HBox(children=(IntProgress(value=0, max=449), HTML(value='')))"
      ]
     },
     "metadata": {},
     "output_type": "display_data"
    },
    {
     "name": "stdout",
     "output_type": "stream",
     "text": [
      "\n",
      "ASTVSPPICGGCLSCSKDNGCSRCQQKLFFFLRREEGRQRGELLHSCPSDYRGDYGPHMNNCARRCRIENNSCSSCDSCCCCCVGGFYHRGGFFDCPPDGFAPLELT\n",
      "ASYVSNPICKGCLSCSKDNGCSRCQQKLFFFLRREGMRQYGECLHSCPSGYYGHRAPDMNRCARCRIENCDSCFSKDFCTKCKVGFYLHRGRCFDECPDGFAPLEET\n"
     ]
    },
    {
     "data": {
      "application/vnd.jupyter.widget-view+json": {
       "model_id": "13f5bbebe6a842a1875f03674359caaa",
       "version_major": 2,
       "version_minor": 0
      },
      "text/plain": [
       "HBox(children=(IntProgress(value=0, max=449), HTML(value='')))"
      ]
     },
     "metadata": {},
     "output_type": "display_data"
    },
    {
     "name": "stdout",
     "output_type": "stream",
     "text": [
      "\n",
      "IGSLILCLIIEALFWKQIKKSQTSHTRRICVVNIALSLLIADVWFIVGATVTDTNNPSGVFTAAVFFHHFFYLSLFFMMLMLGLLLAYRIILVFHHAMQQLMAVVGF\n",
      "IGSLILCLIIEALFWKQIKKSQTSHTRRICMVNIALSLLIADVWFIVGATVDTTVNPSGVCTAAVFFTHFFYLSLFFWMLMLGILLAYRIILVFHHMAQHLMMAVGF\n"
     ]
    },
    {
     "data": {
      "application/vnd.jupyter.widget-view+json": {
       "model_id": "5b17c8f0854542c2be8ca8a2f47898e1",
       "version_major": 2,
       "version_minor": 0
      },
      "text/plain": [
       "HBox(children=(IntProgress(value=0, max=449), HTML(value='')))"
      ]
     },
     "metadata": {},
     "output_type": "display_data"
    },
    {
     "name": "stdout",
     "output_type": "stream",
     "text": [
      "\n",
      "GGFTCFFRDHSYQEEAAMELKVEDPFYWVSPGVLLVLAVLPVLLLQITVGLIFLCLQYRLRGKLRAEIENLHRTFDPHFLRVPCWKITLFVIVPVLGPLVALIICYN\n",
      "GGFTCFFRDHSYQEEAAMELKVEDPFYWVSPGVLVLLAVLPVLLLQITVGLIFLCLQYRLRGKLRAEIENLHRTFDPHFLRVPCWKITLFVIVPVLGPLVALIICYN\n"
     ]
    },
    {
     "data": {
      "application/vnd.jupyter.widget-view+json": {
       "model_id": "23edab14cc264b7596cdf2e512965640",
       "version_major": 2,
       "version_minor": 0
      },
      "text/plain": [
       "HBox(children=(IntProgress(value=0, max=449), HTML(value='')))"
      ]
     },
     "metadata": {},
     "output_type": "display_data"
    },
    {
     "name": "stdout",
     "output_type": "stream",
     "text": [
      "\n",
      "TFPNVTILSTLETLQIIKPLDVCCVTKNLLAFYVDRVFKDHQEPNPKILRKISSAANSFLYMQKTLRQCQEQRQCHCRQEATNATRVIHDPYDQLEVHAAAIKSLGE\n",
      "TFPNVTILSTLETLQIIKPLDVCCVTKNLLAFYVDRVFKDHQEPNPKILRKISSIANSFLYMQKTLRQCQEQRQCHCRQEATNATRVIHDNYDQLEVHAAAIKSLGE\n"
     ]
    },
    {
     "data": {
      "application/vnd.jupyter.widget-view+json": {
       "model_id": "6c0eac34d04f4967946660e023ca6559",
       "version_major": 2,
       "version_minor": 0
      },
      "text/plain": [
       "HBox(children=(IntProgress(value=0, max=461), HTML(value='')))"
      ]
     },
     "metadata": {},
     "output_type": "display_data"
    },
    {
     "name": "stdout",
     "output_type": "stream",
     "text": [
      "\n",
      "MVTLLPIEGQEIHFFEILESECVLYTGWIERAGSSSIYPEAKARLPEEALGGSNEEPMLPKETVLSLKRYNLGSSAMKRNVPGHVLQRPLYLTRIQVTLLCNSSAEAL\n",
      "MVTLLPIEGQEIHFFEILESECVLYTGWIERASGSSIYPEAKARLPLEALLGSNKEPMLPKETVLSLKRYNLGSSAMKRNVPGHVLQRPSYLTRIQVTLLCNSSAEAL\n"
     ]
    },
    {
     "data": {
      "application/vnd.jupyter.widget-view+json": {
       "model_id": "d41152bfe9f5449caa770c1a8d366752",
       "version_major": 2,
       "version_minor": 0
      },
      "text/plain": [
       "HBox(children=(IntProgress(value=0, max=461), HTML(value='')))"
      ]
     },
     "metadata": {},
     "output_type": "display_data"
    },
    {
     "name": "stdout",
     "output_type": "stream",
     "text": [
      "\n",
      "NHPLGMNQLQALHVKALSRAMLLTSYLPPPLLRHRLKTHTTVIHQLDKALIKLGLQGLTAQEVKSACYLRGNLSTHIGEDRCRTWGLEWLQISSSLKEAELSLLLHNV\n",
      "NHPLGMNQLQALHVKALSRAMLLTSYLPPPLLRHRLKTHTTVIHQLDKALAKLGIGQLTAQEVKSACYLRGLNSTHIGEDRCRTWLGEWLQISCSLKEAELSLLLHNV\n"
     ]
    },
    {
     "data": {
      "application/vnd.jupyter.widget-view+json": {
       "model_id": "7620c401202e46f6a0c0f82b205fb652",
       "version_major": 2,
       "version_minor": 0
      },
      "text/plain": [
       "HBox(children=(IntProgress(value=0, max=461), HTML(value='')))"
      ]
     },
     "metadata": {},
     "output_type": "display_data"
    },
    {
     "name": "stdout",
     "output_type": "stream",
     "text": [
      "\n",
      "EAEEDNQEEGESEAEGETAAESEFDPEIEMEAREVAKRKCPDHGLDLSTYCQEDRQLICVLVPCIGAHQGHQLSTLDEAFEELRSKDSGGLKAAMIELVERLKFKSSD\n",
      "EAEEDNQEEGESEAEGETEAESEFDPEIEMEAERVAKRKCPDHGLDLSTYCQEDRQLICVLCPVIGAHQGHQLSTLDEAFEELRSKDSGGLKAAMIELVERLKFKSSD\n"
     ]
    },
    {
     "data": {
      "application/vnd.jupyter.widget-view+json": {
       "model_id": "7ef0b90d28fb4533899ed28927b75ef5",
       "version_major": 2,
       "version_minor": 0
      },
      "text/plain": [
       "HBox(children=(IntProgress(value=0, max=461), HTML(value='')))"
      ]
     },
     "metadata": {},
     "output_type": "display_data"
    },
    {
     "name": "stdout",
     "output_type": "stream",
     "text": [
      "\n",
      "LSFPEGALIRLLPRAQDGVDDGFWRGEFGGRVGVFPSLLVEELLGPPGPPELSDPEQMLPSPSPPSFSPPAPTSVLDGPPAPVLPGDKALDFPGFLDMMAPRLRPMRP\n",
      "LSFPEGALIRLLPRAQDGVDDGFWRGEFGGRVGVFPSLLVEELLGPPGPPELSDPEQMLPSPSPPSFSPPAPTSVLDGPPAPVLPGDKALDFPGFLDMMAPRLRPMRP\n"
     ]
    },
    {
     "data": {
      "application/vnd.jupyter.widget-view+json": {
       "model_id": "d65f74e5c55945b0a5d008cdaea43ba9",
       "version_major": 2,
       "version_minor": 0
      },
      "text/plain": [
       "HBox(children=(IntProgress(value=0, max=461), HTML(value='')))"
      ]
     },
     "metadata": {},
     "output_type": "display_data"
    },
    {
     "name": "stdout",
     "output_type": "stream",
     "text": [
      "\n",
      "GLALAGYVRPLHTLLSALVVAVALGVLWVAEETRAAVRRCRRSHPAACLLAAVAVGLLVLWVAGGACCFLFSIAGPVLLILVHASLRLRNLKNKIENKIESIGLKRTP\n",
      "GLALAGYVRPLHTLLSALVVAVALGVLVWAAETRAAVRRCRRSHPAACLAAVLAVGLLVLWVAGGACTFLFSIAGPVLLILVHASLRLRNLKNKIENKIESIGLKRTP\n"
     ]
    },
    {
     "data": {
      "application/vnd.jupyter.widget-view+json": {
       "model_id": "85845446d2aa49efb6882f81203c9c1c",
       "version_major": 2,
       "version_minor": 0
      },
      "text/plain": [
       "HBox(children=(IntProgress(value=0, max=475), HTML(value='')))"
      ]
     },
     "metadata": {},
     "output_type": "display_data"
    },
    {
     "name": "stdout",
     "output_type": "stream",
     "text": [
      "\n",
      "TSKIFQCNKYVKVMHKFSNSNRHKIRHTENHKTFCEEFCKSLLMCSRLTQHKIIHTRENFYKCEECGKTFNWSTNSSKPKKIHTGEKPYKCEVCGKAFHQSSILTKHKI\n",
      "TSKIFQCNKYVKVMHKFSNSNRHKIRHTENKHFRCKECDKSLCMLSRLTQHKKIHTRENFYKCEECGKTFNWSTNLSKPKKIHTGEKPYKCEVCGKAFHQSSILTKHKI\n"
     ]
    },
    {
     "data": {
      "application/vnd.jupyter.widget-view+json": {
       "model_id": "88fe9f6ebdb24c30a8008d247750e2f3",
       "version_major": 2,
       "version_minor": 0
      },
      "text/plain": [
       "HBox(children=(IntProgress(value=0, max=475), HTML(value='')))"
      ]
     },
     "metadata": {},
     "output_type": "display_data"
    },
    {
     "name": "stdout",
     "output_type": "stream",
     "text": [
      "\n",
      "TPLDRELSVWHNITITAIEIRNHSQQSRVPVAIKVLDVNDNAPEFASEYAECFLEGKGGGQVITTVSAMKDDDPGNGHYFLYSLLPEMVNNPNFTIKKNEDNSLSILAK\n",
      "TPLDRELSVWHNITIIATEIRNHSQISRVPVAIKVLDVNDNAPEFASEYEAFLCENGKPGQVIQTVSAMDKDDPKNGHYFLYSLLPEMVNNPNFTIKKNEDNSLSILAK\n"
     ]
    },
    {
     "data": {
      "application/vnd.jupyter.widget-view+json": {
       "model_id": "3407f63b20d64e5e8c449b396e755936",
       "version_major": 2,
       "version_minor": 0
      },
      "text/plain": [
       "HBox(children=(IntProgress(value=0, max=475), HTML(value='')))"
      ]
     },
     "metadata": {},
     "output_type": "display_data"
    },
    {
     "name": "stdout",
     "output_type": "stream",
     "text": [
      "\n",
      "VLLDPYIASWKGLVRFLNSLGTIFSFISKDVVSKLRIMERLRGPPQSEHYRSQQAMVAEHLSNRLVDLERRSHHPESGCRTVLRLHRALHWLQLFLEGLRTSPEDARTS\n",
      "VLLDPYIASWKGLVRFLNSLGTIFSFISKDVVSKLRIMERLRGGPQSEHYRSLQAMVAHELSNRLVDLERRSHHPESGCRTVLRLHRALHWLQLFLEGLRTSPEDARTS\n"
     ]
    },
    {
     "data": {
      "application/vnd.jupyter.widget-view+json": {
       "model_id": "22dbe23af2cd47af8f80460a7c8dc5e6",
       "version_major": 2,
       "version_minor": 0
      },
      "text/plain": [
       "HBox(children=(IntProgress(value=0, max=475), HTML(value='')))"
      ]
     },
     "metadata": {},
     "output_type": "display_data"
    },
    {
     "name": "stdout",
     "output_type": "stream",
     "text": [
      "\n",
      "KLVIPAHVRAQYVVLLRRSHGDRSRGKRQSQSFREVAGRFLASEASTHLLVFGMEQRLPPNSLEVQAVLRLFQEPVPKAALHRHGRLSPRSAQARVTVEWLRVRDDGSN\n",
      "KLVIPAHVRAQYVVLLRRSHGDRSRGKRFSQSFREVAGRFLASEASTHLLVFGMEQRLPPNSELVQAVLRLFQEPVPKAALHRHGRLSPRSAQARVTVEWLRVRDDGSN\n"
     ]
    },
    {
     "data": {
      "application/vnd.jupyter.widget-view+json": {
       "model_id": "6531982edffa4cb99ae2c892132d9fbc",
       "version_major": 2,
       "version_minor": 0
      },
      "text/plain": [
       "HBox(children=(IntProgress(value=0, max=475), HTML(value='')))"
      ]
     },
     "metadata": {},
     "output_type": "display_data"
    },
    {
     "name": "stdout",
     "output_type": "stream",
     "text": [
      "\n",
      "RSLLQGDEIWNALTDNYGNVVPMDWKSSHTRTLHLLTLNLSEKGVSDSLLFTTSDDEERLEQLDMHSIIVSCVNDEPLFTADQVIEEIEEMMQESPDPEDDETPTQSDR\n",
      "RSLLQGDEIWNALTDNYGNVMPVDWKSSHTRTLHLLTLNLSEKGVSDSLLFDTSDDEELREQLDMHSIIVSCVNDEPLFTADQVIEEIEEMMQESPDPEDDETPTQSDR\n"
     ]
    },
    {
     "data": {
      "application/vnd.jupyter.widget-view+json": {
       "model_id": "bab8ad231c9a4ff386842951305a9498",
       "version_major": 2,
       "version_minor": 0
      },
      "text/plain": [
       "HBox(children=(IntProgress(value=0, max=475), HTML(value='')))"
      ]
     },
     "metadata": {},
     "output_type": "display_data"
    },
    {
     "name": "stdout",
     "output_type": "stream",
     "text": [
      "\n",
      "PLGVRAPLAGPSAAARSPEQLCAPAEAAPCPAEPERSSQAALEPSSSADAGAVACRALEADSGDARRAPRARGERRRHTIAGSVDCGLLKQMKELEQEKEVLLQGLEMM\n",
      "PLGVRAPLAGPSAAARSPEQLCAPAEAAPCPAEPERSQSAALEPSSSADAGAVACRALEADSGDARRAPRARGERRRHTIASGVDCGLLKQMKELEQEKEVLLQGLEMM\n"
     ]
    },
    {
     "data": {
      "application/vnd.jupyter.widget-view+json": {
       "model_id": "04fe67f84aba4419a804e8023d4c8610",
       "version_major": 2,
       "version_minor": 0
      },
      "text/plain": [
       "HBox(children=(IntProgress(value=0, max=475), HTML(value='')))"
      ]
     },
     "metadata": {},
     "output_type": "display_data"
    },
    {
     "name": "stdout",
     "output_type": "stream",
     "text": [
      "\n",
      "NSLEAVKRKIQALQQQADEAEDRAQGLQRELDGERERREKAEGDVAALNRRIQLVEEELDRAQERLATALQKLEEAEKAADESERGMKVIENRAMKDEEKMEIQEMQLK\n",
      "NSLEAVKRKIQALQQQADEAEDRAQGLQRELDGERERREKAEGDVAALNRRIQLVEEELDRAQERLATALQKLEEAEKAADESERGMKVIENRAMKDEEKMEIQEMQLK\n"
     ]
    },
    {
     "data": {
      "application/vnd.jupyter.widget-view+json": {
       "model_id": "bed95ca566e140b58f5cb056e0330b4d",
       "version_major": 2,
       "version_minor": 0
      },
      "text/plain": [
       "HBox(children=(IntProgress(value=0, max=475), HTML(value='')))"
      ]
     },
     "metadata": {},
     "output_type": "display_data"
    },
    {
     "name": "stdout",
     "output_type": "stream",
     "text": [
      "\n",
      "GRVADFLSWCRQKNDSGLDYQSCPTSEDCENNPVDFFWRKASIQYSKDSSGVIHVMLNGSEPTGAYPIKGFFADYEIPNLQKEKITRIEIWVVHEIGGPNVESCGEGSM\n",
      "GRVADFLSWCRQKNDSGLDYQSCPTSEDCENNPVDSFWKRASIQYSKDSSGVIHVMLNGSEPTGAYPIKGFFADYEIPNLQKEKITRIEIWVMHEIGGPNVESCGEGSM\n"
     ]
    },
    {
     "data": {
      "application/vnd.jupyter.widget-view+json": {
       "model_id": "cca39c27dc9b48d9a3fc32751aff92a4",
       "version_major": 2,
       "version_minor": 0
      },
      "text/plain": [
       "HBox(children=(IntProgress(value=0, max=475), HTML(value='')))"
      ]
     },
     "metadata": {},
     "output_type": "display_data"
    },
    {
     "name": "stdout",
     "output_type": "stream",
     "text": [
      "\n",
      "DAAWGMDRVEEKEPEVTISSIRPISERANTRREVESRSSGLESSEARQKFAGAKAISSDMFFGREVDAEYEARSRLQQLSGSSAISSSDLFGDMDGAHGAGSVSLGNVL\n",
      "DAAWGMDRVEEKEPEVTISSIRPISERATNRREVESRSSGLESSEARQKFAGAKAISSDMFFGREVDAEYEARSRLQQLSGSSAISSSDLFGDMDGAHGAGSVSLGNVL\n"
     ]
    },
    {
     "data": {
      "application/vnd.jupyter.widget-view+json": {
       "model_id": "5e2fafdb4d6d42acb866c8ad22ec5cc3",
       "version_major": 2,
       "version_minor": 0
      },
      "text/plain": [
       "HBox(children=(IntProgress(value=0, max=475), HTML(value='')))"
      ]
     },
     "metadata": {},
     "output_type": "display_data"
    },
    {
     "name": "stdout",
     "output_type": "stream",
     "text": [
      "\n",
      "PSQYDAIKEEDLVVWVDPLDGTKEYTEGLLDNVTVLIGIYYEGKAAIGVINQPYYNYEAGPDAVLGRTIWGVLGLGAFFGFLVVVPAGKHIITTRRSHSNKLVTDCVAA\n",
      "PSQYSAIKEEDLVVWVDPLDGTKEYTEGLLDNVTVLIGIAYEGKAIAGVINQPYYNYEAGPDAVLGRTIWGVLGLGAFGFQLKEVPAGKHIITTTRSHSNKLVTDCVAA\n"
     ]
    },
    {
     "data": {
      "application/vnd.jupyter.widget-view+json": {
       "model_id": "70b18afc0f8841f18f0684dea51726d6",
       "version_major": 2,
       "version_minor": 0
      },
      "text/plain": [
       "HBox(children=(IntProgress(value=0, max=475), HTML(value='')))"
      ]
     },
     "metadata": {},
     "output_type": "display_data"
    },
    {
     "name": "stdout",
     "output_type": "stream",
     "text": [
      "\n",
      "VSSFYVKRAELWDTWKVAKHLERRRVFHAMWLSFLKKKLPLSYKKKVLLVHAAIILPQLAQPTLMIDFLTRACDLGGALSLLLANGLFILIHKHNLYYPDFRYKLYGLL\n",
      "VSSFYVKRAELWDTWKVAHLKEHRRVFQAMWLSFLKHKLPLSLYKKVLLIVHDAILPQLAQPTLMIDFLTRACDLGGALSLLALNGLFILIHKHNLEYPDFYRKLYGLL\n"
     ]
    },
    {
     "data": {
      "application/vnd.jupyter.widget-view+json": {
       "model_id": "09d4115f2aff40b8ab7713ccdf341d34",
       "version_major": 2,
       "version_minor": 0
      },
      "text/plain": [
       "HBox(children=(IntProgress(value=0, max=475), HTML(value='')))"
      ]
     },
     "metadata": {},
     "output_type": "display_data"
    },
    {
     "name": "stdout",
     "output_type": "stream",
     "text": [
      "\n",
      "MQLDADILHIPVIKPFMPETTALGAAMAAGAAEGVSVWSLEPQALSVLRMERFEPQIQATESEIRYATWKKAVMKSMGWVTSQSPEGGDPSIFSSLPLGFFIVSSMVML\n",
      "MQLQADILHIPVIKPFMPETTALGAAMAAGAAEGVSVWSLEPQALSVLRMERFEPQIQATESEIRYATWKKAVMKSMGWVTSQSPEGGDPSIFSSLPLGFFIVSSMVML\n"
     ]
    },
    {
     "data": {
      "application/vnd.jupyter.widget-view+json": {
       "model_id": "ac2760407ed74e148e88a9861b0eeaaf",
       "version_major": 2,
       "version_minor": 0
      },
      "text/plain": [
       "HBox(children=(IntProgress(value=0, max=475), HTML(value='')))"
      ]
     },
     "metadata": {},
     "output_type": "display_data"
    },
    {
     "name": "stdout",
     "output_type": "stream",
     "text": [
      "\n",
      "LMGETVENVSKESERIWRLQRARTILEFEKMLPEWLRSRFRMGELCKVAEDDFRLCLRINVVEKWWNTTVVSFNLEDPGPVRRTDFNKIQDSSRNNSKTTLNAFEEVEE\n",
      "LMGETVENVSKESERIWRLQRARTILEFEKMLPEWLRSRFRMGELCKVAEDDFRLCLRINEVKWTEWKTHVSFLNEDPGPVRRTDFNKIQDSSRNNSKTTLNAFEEVEE\n"
     ]
    },
    {
     "data": {
      "application/vnd.jupyter.widget-view+json": {
       "model_id": "21064630f9dc45838bfb6513590e1e16",
       "version_major": 2,
       "version_minor": 0
      },
      "text/plain": [
       "HBox(children=(IntProgress(value=0, max=489), HTML(value='')))"
      ]
     },
     "metadata": {},
     "output_type": "display_data"
    },
    {
     "name": "stdout",
     "output_type": "stream",
     "text": [
      "\n",
      "EQTRPSCSAGASTSTAMGRSPPPQTSSSAPPNTSSTESLKPLANRHATASKNIFREDPIIAMVLNATKVFKYESSEENQRRMFHATVATQTFFFHVKVLNINLKRKFIKK\n",
      "EQTRPSCSAGASTSTAMGRSPPPQTSSSAPPNTSSTESLKPLANRHATASKNIFREDPIIAMVLNATKVFKYESSENEQRRMFHATVATQTQFFHVKVLNINLKRKFIKK\n"
     ]
    },
    {
     "data": {
      "application/vnd.jupyter.widget-view+json": {
       "model_id": "23b577b5016c49a2a4f839ae93a8cd77",
       "version_major": 2,
       "version_minor": 0
      },
      "text/plain": [
       "HBox(children=(IntProgress(value=0, max=489), HTML(value='')))"
      ]
     },
     "metadata": {},
     "output_type": "display_data"
    },
    {
     "name": "stdout",
     "output_type": "stream",
     "text": [
      "\n",
      "GGHFDRSSSQPPRGGITKDSTSPGFSPHHMLHLQAAKLALLASIQAFSLLRSRLGDRDFSRLLDITPASSLSFVLDTTGSMGEEIANAKAIIAHLVEQRRGSPMEPVHYV\n",
      "GGHFDRSSSQPPRGGINKDSTSPGFSPHHMLHLQAAKLALLASIQAFSLLRSRLGDRDFSRLLDITPASSLSFVLDTTGSMGEEINAAKIQARHLVEQRRGSPMEPVHYV\n"
     ]
    },
    {
     "data": {
      "application/vnd.jupyter.widget-view+json": {
       "model_id": "573ec186bfa04897bb91ed905ec5ee38",
       "version_major": 2,
       "version_minor": 0
      },
      "text/plain": [
       "HBox(children=(IntProgress(value=0, max=489), HTML(value='')))"
      ]
     },
     "metadata": {},
     "output_type": "display_data"
    },
    {
     "name": "stdout",
     "output_type": "stream",
     "text": [
      "\n",
      "MYLSSQSSPIHSSTVDGNDTERKPKAQEDDVNSNLKDLSLQKIIQFVETYAEERKKYNVDQSVGNNDWSSNQEVKLEIPSFNESSSLQVTCSSAENDGILSESDIQEDNK\n",
      "MYLSSQSSPIHSSTVDGNDTERKPKAQEDDVNSNLKDLSLQKIIQFVETYAEERKKYNVDQSVGNNDPSWNQEVKLEIPSFNESSSLQVTCSSAENDGILSESDIQEDNK\n"
     ]
    },
    {
     "data": {
      "application/vnd.jupyter.widget-view+json": {
       "model_id": "ea9faebb41b141a3a34ff4bf0a12f8cd",
       "version_major": 2,
       "version_minor": 0
      },
      "text/plain": [
       "HBox(children=(IntProgress(value=0, max=489), HTML(value='')))"
      ]
     },
     "metadata": {},
     "output_type": "display_data"
    },
    {
     "name": "stdout",
     "output_type": "stream",
     "text": [
      "\n",
      "PLGSMPEIRDNSPEPNDPEEPQEVSSTPSDKGKKKRKRCIWSTPKRRHKKGSLPGGTASSRHGIQKKLKRVDQVPQKKDDSTCNSTVETRAQKARTECARKSRSEEIIDG\n",
      "PLGSMPEIRDNSPEPNDPEEPQEVSSTPSDKKGKKRKRCIWSTPKRRHKKKSLPGGTASSRHGIQKKLKRVDQVPQKKDDSTCNSTVETRAQKARTECARKSRSEEIIDG\n"
     ]
    },
    {
     "data": {
      "application/vnd.jupyter.widget-view+json": {
       "model_id": "49c33450c42f49a4bd90f28a55d3d748",
       "version_major": 2,
       "version_minor": 0
      },
      "text/plain": [
       "HBox(children=(IntProgress(value=0, max=489), HTML(value='')))"
      ]
     },
     "metadata": {},
     "output_type": "display_data"
    },
    {
     "name": "stdout",
     "output_type": "stream",
     "text": [
      "\n",
      "FIAVGYVDDTQFVRFDSDAASPRTEPRPPWIEQEGPEYWDGETRNMKSSAQTYRENLRIALRYYNQSEAGSHIIQRMYGCDLGPDGRLLRGHDQSAYDGKDYIALNEDLS\n",
      "FIAVGYVDDTQFVRFDSDAASPRTEPRAPWIEQEGPEYWDGETRNMKASAQTYRENLRIALRYYNQSEAGSHIIQRMYGCDLGPDGRLLRGHDQSAYDGKDYIALNEDLS\n"
     ]
    },
    {
     "data": {
      "application/vnd.jupyter.widget-view+json": {
       "model_id": "9eaf4d85ef8346b7a94ad6b21e3151bc",
       "version_major": 2,
       "version_minor": 0
      },
      "text/plain": [
       "HBox(children=(IntProgress(value=0, max=505), HTML(value='')))"
      ]
     },
     "metadata": {},
     "output_type": "display_data"
    },
    {
     "name": "stdout",
     "output_type": "stream",
     "text": [
      "\n",
      "TLGSGNLRMAVMLPEGEDLNEWVAVNTVDFFNQINMLYGTITDFCTEPSCPVMSAPPKYEYHWADGTNIKKPIKCASPKYIYYLMTWVQDQLDDETLFPSKIGVPFPKNFM\n",
      "TLGSGNLRMAVMLPEGEDLNEWVAVNTVDFFNQINMLYGTITDFCTEESCPVMSAGPKYEYHWADGTNIKKPIKCSAPKYIDYLMTWVQDQLDDETLFPSKIGVPFPKNFM\n"
     ]
    },
    {
     "data": {
      "application/vnd.jupyter.widget-view+json": {
       "model_id": "a8d08d9442df495f800f8929de167876",
       "version_major": 2,
       "version_minor": 0
      },
      "text/plain": [
       "HBox(children=(IntProgress(value=0, max=505), HTML(value='')))"
      ]
     },
     "metadata": {},
     "output_type": "display_data"
    },
    {
     "name": "stdout",
     "output_type": "stream",
     "text": [
      "\n",
      "GPNSSKTYGIWWKRLTELLSNPQFIVDGATRTDICQGALGDCLWLLAIASLTLNHTLLDRVVPHGQQSFNGYAGIFHQWLWFQGEWVDVVVDDLLPIKDGKLVVVHSAEGN\n",
      "GPNSSKTYGIKWKRPTELLSNPQFIVDGATRTDICQGALGDCWLLAAIASLTLNDTLLHRVVPHGQSFQNGYAGIFHFQLWQFGEWVDVVVDDLLPIKDGKLVFVHSAEGN\n"
     ]
    },
    {
     "data": {
      "application/vnd.jupyter.widget-view+json": {
       "model_id": "34c39500be37487da958e5bed82ff119",
       "version_major": 2,
       "version_minor": 0
      },
      "text/plain": [
       "HBox(children=(IntProgress(value=0, max=505), HTML(value='')))"
      ]
     },
     "metadata": {},
     "output_type": "display_data"
    },
    {
     "name": "stdout",
     "output_type": "stream",
     "text": [
      "\n",
      "QMVSALLDAEPPILYSEYDPTRPFSEASMMGLLTNLADRELVHMINNAKRVPGFVDLTLHQQVVLLECAWLEILMIGLVWRSHEHPGKLLFAPNLLLDRNQGKCMEGVMEI\n",
      "QMVSALLDAEPPILYSEYDPTRPFSEASMMGLLTNLADRELVHMINWAKRVPGFVDLTLHDQVHLLECAWLEILMIGLVWRSMEHPGKLLFAPNLLLDRNQGKCVEGMVEI\n"
     ]
    },
    {
     "data": {
      "application/vnd.jupyter.widget-view+json": {
       "model_id": "6914974707e947829353e3a7815384ab",
       "version_major": 2,
       "version_minor": 0
      },
      "text/plain": [
       "HBox(children=(IntProgress(value=0, max=505), HTML(value='')))"
      ]
     },
     "metadata": {},
     "output_type": "display_data"
    },
    {
     "name": "stdout",
     "output_type": "stream",
     "text": [
      "\n",
      "KDCQESDEALGPTMMSWNAVEKLCAKSANAIETKGFNKKDLELALSPIHNSSALPTTGRSCLVLAKKCFSEEVSWEAVELDVNNINMDTDTSQLGFHQSNQWAVDSGGISE\n",
      "KDCQESDEALGPTMMSWNAVEKLCAKSANAIETKGFNKKDLELALSPIHNSSALPTTGRSCVNLAKKCFSGEVSWEAVELDVNNINMDTDTSQLGFHQSNQWAVDSGGISE\n"
     ]
    },
    {
     "data": {
      "application/vnd.jupyter.widget-view+json": {
       "model_id": "15629ac26faa44179e35a2169d642488",
       "version_major": 2,
       "version_minor": 0
      },
      "text/plain": [
       "HBox(children=(IntProgress(value=0, max=505), HTML(value='')))"
      ]
     },
     "metadata": {},
     "output_type": "display_data"
    },
    {
     "name": "stdout",
     "output_type": "stream",
     "text": [
      "\n",
      "RRRRRRHRRCRRRCCNHQQRPQNRYQIPHSSVVHRNPFRSQKMSQLQRVPFFDQEDPDSYLEEEDNLPFPYPKYPRRGWGGFYQRAGLPSNVGLWGHQGGILASLPPPSLY\n",
      "RRRRRRHRRCRRRCCNHQQRPQNYRQIPHSHSVFRNPHRSQKMSQLHRVPFFDQEDPDSYLEEEDNLPFPYPKYPRRGWGGFYQRAGLPSNVGLWGHQGGILASLPPPSLY\n"
     ]
    },
    {
     "data": {
      "application/vnd.jupyter.widget-view+json": {
       "model_id": "31b750d97ac14a3c9bbba95f95da2610",
       "version_major": 2,
       "version_minor": 0
      },
      "text/plain": [
       "HBox(children=(IntProgress(value=0, max=505), HTML(value='')))"
      ]
     },
     "metadata": {},
     "output_type": "display_data"
    },
    {
     "name": "stdout",
     "output_type": "stream",
     "text": [
      "\n",
      "SCTCSQQWGQQQQHVVLSRRRREVEEKGGGGNQYYQQQQWSWGMDGFFKKGFFLLGTPPSPSSSNMNMMTASPADTPPPPPFFSSFAKKWWWWHGDPPPRNCASAWSFSTA\n",
      "SCTCSGQQWKCSQHVCLVRSELIEQVNKGDYGWTAQNYSQFWGMTLEDGFKFRLGTLPPSPMLLSMNEMTASLPATTDLPEFFVASYKWPGWTHGPLDQKNCAASWAFSTA\n"
     ]
    },
    {
     "data": {
      "application/vnd.jupyter.widget-view+json": {
       "model_id": "9c26d50ac7e546a396caf1e3b88c3d43",
       "version_major": 2,
       "version_minor": 0
      },
      "text/plain": [
       "HBox(children=(IntProgress(value=0, max=505), HTML(value='')))"
      ]
     },
     "metadata": {},
     "output_type": "display_data"
    },
    {
     "name": "stdout",
     "output_type": "stream",
     "text": [
      "\n",
      "FKATYDGNDTTRRREVLVVPTAILAFLVNHFFTPLEILWTFSIELESVAILPQLCFVSKTGEAETITSHYLFALGVYRTLYLFNWIWRHYFGFFFDLIAIVAGLVQTVLYC\n",
      "FKATYDGNHDTFRVEFLVVPTAILAFLVNHDFTPLEILWTFSIYLESVAILPQLFMVSKTGEAETITSHYLFALGVYRTLYLFNWIWRYHFEGFFDLIAIVAGLVQTVLYC\n"
     ]
    },
    {
     "data": {
      "application/vnd.jupyter.widget-view+json": {
       "model_id": "7b6a2f70de3646d78e0f9a8887e60d76",
       "version_major": 2,
       "version_minor": 0
      },
      "text/plain": [
       "HBox(children=(IntProgress(value=0, max=505), HTML(value='')))"
      ]
     },
     "metadata": {},
     "output_type": "display_data"
    },
    {
     "name": "stdout",
     "output_type": "stream",
     "text": [
      "\n",
      "LADQILAGNAVRAKVREGRRGRGTGEAEEEYVGPRLSRRILQQARQQQEELEAEHGTGDKPAAPRERTTRLGPRMPQDGSDDEDEEWPTLEKAATMTAGGHHAEVVVDPED\n",
      "LADQILAGNAVRAGVREKRRGRGTGEAEEEYVGPRLSRRILQQARQQQEELEAEHGTGDKPAAPRERTTRLGPRMPQDGSDDEDEEWPTLEKAATMTAAGHHAEVVVDPED\n"
     ]
    },
    {
     "data": {
      "application/vnd.jupyter.widget-view+json": {
       "model_id": "8cbb5c7482ea474fb015a10e5fcc8aca",
       "version_major": 2,
       "version_minor": 0
      },
      "text/plain": [
       "HBox(children=(IntProgress(value=0, max=505), HTML(value='')))"
      ]
     },
     "metadata": {},
     "output_type": "display_data"
    },
    {
     "name": "stdout",
     "output_type": "stream",
     "text": [
      "\n",
      "FIGFATTIHQIVRQWKYKDDDDDQLFYTRLYLDPGNREKLLLNLDHKSRIFQNLNGALDEVVLKFDNRRVRIRNVAYDTLPIVVHGNGPTKLQLNYLGNYVPNGWTPEGGC\n",
      "FIGFATTIHQIVRQWKYKDDDDDQLFYTRLYLDPGLREKLSLNLDHKSRIFQNLNGALDEVVLKFDRNRVRIRNVAYDTLPIVVHGNGPTKLQLNYLGNYVPNGWTPEGGC\n"
     ]
    },
    {
     "data": {
      "application/vnd.jupyter.widget-view+json": {
       "model_id": "e51ce915be9042a490d6941711e557eb",
       "version_major": 2,
       "version_minor": 0
      },
      "text/plain": [
       "HBox(children=(IntProgress(value=0, max=505), HTML(value='')))"
      ]
     },
     "metadata": {},
     "output_type": "display_data"
    },
    {
     "name": "stdout",
     "output_type": "stream",
     "text": [
      "\n",
      "MLCASFLGLGLSVIAVGPTFQDLATNVNRNISSSLFIFVGRALGYLSGSVIGGFLVDMMNYFLLGGISMASTTVGLYLVPFCKTAILLTVMMSIFGVSIGILDTGGNVLIL\n",
      "MLCASFLGLGLSVAIVGPTFQDLATNVNRNISSLSFIFVGRALGYLSGSVIGGFLVDVMNYFLLLGISMSATTVGLYLVPFCKTAILLTVMMSIFGVSIGILDTGGNVLIL\n"
     ]
    },
    {
     "data": {
      "application/vnd.jupyter.widget-view+json": {
       "model_id": "c4bdc81d4b134726b93116fd81a77f3b",
       "version_major": 2,
       "version_minor": 0
      },
      "text/plain": [
       "HBox(children=(IntProgress(value=0, max=505), HTML(value='')))"
      ]
     },
     "metadata": {},
     "output_type": "display_data"
    },
    {
     "name": "stdout",
     "output_type": "stream",
     "text": [
      "\n",
      "RGHNQFAYDGKDYIALNWDLSSETAADTAAQITQRKWEAARVAEQLRTYLEGTCVEWLRRYLENGKETLQRADPPKTHVTHHPISDHEATLRCWALGFYPAEITLTWQRDG\n",
      "RGHNQFAYDGKDYIALNEDLSSWTAADTAAQITQRKWEAARVAEQLRTYLEGTCVEWLRRYLENGKETLQRADPPKTHVTHHPISDHEATLRCWALGFYPAEITLTWQRDG\n"
     ]
    },
    {
     "data": {
      "application/vnd.jupyter.widget-view+json": {
       "model_id": "691048161e82488d9ebd0cae0b14936f",
       "version_major": 2,
       "version_minor": 0
      },
      "text/plain": [
       "HBox(children=(IntProgress(value=0, max=505), HTML(value='')))"
      ]
     },
     "metadata": {},
     "output_type": "display_data"
    },
    {
     "name": "stdout",
     "output_type": "stream",
     "text": [
      "\n",
      "QGGAQRLPRAALGVTWGLDASSPLRGAVPVSTKRRLEEEQEPLRKQFLSEENMATHFQQLSLHNDHPYCSPPMTFSPALPPLRSPCSELLLWRYPGSLIPEALRLLRLGDT\n",
      "QGGAQRLPRAALGVTWGLDASSPLRGAVPMSTKRRLEEEQEPLRKQFLSEENMATHFSQLSLHNDHPYCSPPMTFSPALPPLRSPCSELLLWRYPGSLIPEALRLLRLGDT\n"
     ]
    },
    {
     "data": {
      "application/vnd.jupyter.widget-view+json": {
       "model_id": "6aef9d590d3f458a85d827812378c746",
       "version_major": 2,
       "version_minor": 0
      },
      "text/plain": [
       "HBox(children=(IntProgress(value=0, max=505), HTML(value='')))"
      ]
     },
     "metadata": {},
     "output_type": "display_data"
    },
    {
     "name": "stdout",
     "output_type": "stream",
     "text": [
      "\n",
      "LDAEIDLLSSTLAELNGGRGHASRRPDRQAYEPPPPPAYRTGSLKPNPASPLPASPYGGPTPASYTTASTPAGPAFPVQVKVAQPVRGCGPPRRGASQASGPLPGPHFPLP\n",
      "LDAEIDLLSSTLAELNGGRGHASRRPDRQAYEPPPPPAYRTGSLKPNPASPLPASPYGGPTPASYTTASTPAGPAFPVQVKVAQPVRGCGPPRRGASQASGPLPGPHFPLP\n"
     ]
    },
    {
     "data": {
      "application/vnd.jupyter.widget-view+json": {
       "model_id": "9929b49bde874194ad7f35d59dfa5a40",
       "version_major": 2,
       "version_minor": 0
      },
      "text/plain": [
       "HBox(children=(IntProgress(value=0, max=505), HTML(value='')))"
      ]
     },
     "metadata": {},
     "output_type": "display_data"
    },
    {
     "name": "stdout",
     "output_type": "stream",
     "text": [
      "\n",
      "RLKEPPVDICLSKAISSSLKGFLSAMRLAHRGCNVDTPVSTLTPVKTSEFENFKTKMVITSKKDYPLSKNFPYSLEHLQTSYCGLVRVDMRMLCLKSLRKLDLSHNHIKKL\n",
      "RLKEPPVDICLSKAISSSLKGFLSAMRLAHRGCNVDTPVSTLTPVKTSEFENFKTKMVITSKKDYPLSKNFPYSLEHLQTSYCGLVRVDMRMLCLKSLRKLDLSHNHIKKL\n"
     ]
    },
    {
     "data": {
      "application/vnd.jupyter.widget-view+json": {
       "model_id": "5bdfbc9c1ef3480cac12a44d6dc289d3",
       "version_major": 2,
       "version_minor": 0
      },
      "text/plain": [
       "HBox(children=(IntProgress(value=0, max=521), HTML(value='')))"
      ]
     },
     "metadata": {},
     "output_type": "display_data"
    },
    {
     "name": "stdout",
     "output_type": "stream",
     "text": [
      "\n",
      "DFEMSDEQSKEEESEDGREDETTDTQRGPRCEERGLPEGRGELRGLVVPSGAEDIDLNSPDHPNHKSNESLLITVLWRRLSTFGRRGSSRPSKRQPDQIRKQESPIREGNQE\n",
      "DFEMSDEQSKEEESEDGREDETTDTQRGPRECERGLPEGRGELRGLVVPSGAEDIDLNSPDHPNHKSNESLLITVLWRRLSTFGRRGSSRPSKRQPDQIRKQESPIREGNQE\n"
     ]
    },
    {
     "data": {
      "application/vnd.jupyter.widget-view+json": {
       "model_id": "1a62e0baa0084bbd9521f7ad74cbb2fc",
       "version_major": 2,
       "version_minor": 0
      },
      "text/plain": [
       "HBox(children=(IntProgress(value=0, max=521), HTML(value='')))"
      ]
     },
     "metadata": {},
     "output_type": "display_data"
    },
    {
     "name": "stdout",
     "output_type": "stream",
     "text": [
      "\n",
      "EHSITLQVSDVNDNAPAFTQTSYTLFVRENNSPALHIGSVSATDRDSGTNYQVTYSLLPPQDPHLPLASLVSINADNGHLFALRSLDYEALQAFDFRVAASDRGSPALSSEA\n",
      "EHSITLQVSDVNDNAPAFTQTSYTLFVRENNSPALHIGSVSATDRDSGTNAQVTYSLLPPQDPHLPLASLVSINADNGHLFALRSLDYEALQAFDFRVGASDRGSPALSSEA\n"
     ]
    },
    {
     "data": {
      "application/vnd.jupyter.widget-view+json": {
       "model_id": "fe2a44de620740fda4b4e26b08d19fad",
       "version_major": 2,
       "version_minor": 0
      },
      "text/plain": [
       "HBox(children=(IntProgress(value=0, max=521), HTML(value='')))"
      ]
     },
     "metadata": {},
     "output_type": "display_data"
    },
    {
     "name": "stdout",
     "output_type": "stream",
     "text": [
      "\n",
      "RPIKILTRLTIIVDDPHSPNVLRATSDRLRASDVVAVFPKTEKLFHAATTHLDVDLVCITVTEKLPFYFKRPPINVAIDRGLAFELVYSPIIKDSTMRRYTISSALNLMQIC\n",
      "RPIKILTRLTIIVSDPSHCNVLRATSSRARLYDVVAVFPKTEKLFHIACTHLDVDLVCITVTEKLPFYFKRPPINVAIDRGLAFELVYSPAIKDSTMRRYTISSALNLMQIC\n"
     ]
    },
    {
     "data": {
      "application/vnd.jupyter.widget-view+json": {
       "model_id": "d67863bdf8ac483cb877aab16181eda9",
       "version_major": 2,
       "version_minor": 0
      },
      "text/plain": [
       "HBox(children=(IntProgress(value=0, max=521), HTML(value='')))"
      ]
     },
     "metadata": {},
     "output_type": "display_data"
    },
    {
     "name": "stdout",
     "output_type": "stream",
     "text": [
      "\n",
      "DSLKEDIQKADLVISQAGAGSCLETLEKGKPLVVVINEKLMNNHQLELAKQLHKEGHLFYCTVRVLTCPGQAKSIASAPGKCQSSAALTSTAFSGLDFGLLSGYLHKQALVT\n",
      "DSLKEDIQKADLVISHAGAGSCLETLEKGKPLVVVINEKLMNNHQLELAKQLHKEGHLFYCTCRVLTCPGQAKSIASAPGKCQDSAALTSTAFSGLDFGLLSGYLHKQALVT\n"
     ]
    },
    {
     "data": {
      "application/vnd.jupyter.widget-view+json": {
       "model_id": "5f54b559f8e1428a978748de7c5ed4f1",
       "version_major": 2,
       "version_minor": 0
      },
      "text/plain": [
       "HBox(children=(IntProgress(value=0, max=521), HTML(value='')))"
      ]
     },
     "metadata": {},
     "output_type": "display_data"
    },
    {
     "name": "stdout",
     "output_type": "stream",
     "text": [
      "\n",
      "PLFGWMKWPKNDDYKPTHYPGSDIVTKTLLRELKWHLKERERLIQEIENEQKVKKTGVDYNWLRNYQNPHTTIPVTEQRQLEVLCSQVQPCQTGTILSRFREVLAENDVLPW\n",
      "PLFGWMKWPKNDSYKPTHYPGSDIVTKTLLRELKWHLKERERLIQEIENEQKVKKTGVDYNWLRNYQNPHTTIPVTEQRQLEVLCSQVQPCQTGTILSRFREVLAENDVLPW\n"
     ]
    },
    {
     "data": {
      "application/vnd.jupyter.widget-view+json": {
       "model_id": "45de6e54161b406bbde317044e1409ab",
       "version_major": 2,
       "version_minor": 0
      },
      "text/plain": [
       "HBox(children=(IntProgress(value=0, max=521), HTML(value='')))"
      ]
     },
     "metadata": {},
     "output_type": "display_data"
    },
    {
     "name": "stdout",
     "output_type": "stream",
     "text": [
      "\n",
      "PVYKPYLTLCAGRRYCSTIRTYMVMWRWERRRREQQVTAHHCGGWKRRGPHALTCEAICAKPCLNGGCCVVPDCCQQPPGGWWCHHCKVVVEVRTSITLSSHHCFNTAGSFT\n",
      "PVYKPYLTLCAGRRICSTYRTMYRVMWREVRREVQQTHAVCCQGWKKRHPGALTCEAICAKPCLNGGVCVRPDQCECAPGWGGKHCHVDVDECRTSITLCSHHCFNTAGSFT\n"
     ]
    },
    {
     "data": {
      "application/vnd.jupyter.widget-view+json": {
       "model_id": "18c77621cb284e93b5556623b71688c8",
       "version_major": 2,
       "version_minor": 0
      },
      "text/plain": [
       "HBox(children=(IntProgress(value=0, max=521), HTML(value='')))"
      ]
     },
     "metadata": {},
     "output_type": "display_data"
    },
    {
     "name": "stdout",
     "output_type": "stream",
     "text": [
      "\n",
      "MADVEDGEETCALASHSGSSGSKSGGDKMFSLKKWNAVAMWSWDVECDTCAICRQVVDDACLRCQAENKQEDCVVVWGECNHSFHNCMSLWWVKQNRNCPLCQQDWVVQRIG\n",
      "MADVEDGEETCALASHSGSSGSKSGGDKMFSLKKWNAVAMWSWDVECDTCAICRVQVMDACLRCQAENKQEDCVVVWGECNHSFHNCCMSLWVKQNNRCPLCQQDWVVQRIG\n"
     ]
    },
    {
     "data": {
      "application/vnd.jupyter.widget-view+json": {
       "model_id": "27add9136a3b435b8e5117bc81378547",
       "version_major": 2,
       "version_minor": 0
      },
      "text/plain": [
       "HBox(children=(IntProgress(value=0, max=521), HTML(value='')))"
      ]
     },
     "metadata": {},
     "output_type": "display_data"
    },
    {
     "name": "stdout",
     "output_type": "stream",
     "text": [
      "\n",
      "SARNAAVERRNLITVCRFVVKTLIDRSCFETIDDSSPEFNNFAAILEQILSHRLKEISQSCRLWAHLQIPLQGQVTWFGYESPRSFWDYIRVACRKVSQNCICSIENMENVS\n",
      "SARNAAVERRNLITVCRFSVKTLIDRSCFETIDDSSPEFNNFAAILEQILSHRLKEISQSCRWLAHLQIPLQGQVTWFGYESPRSFWDYIRVACRKVSQNCICSIENMENVS\n"
     ]
    },
    {
     "data": {
      "application/vnd.jupyter.widget-view+json": {
       "model_id": "bb0a95f8d4934ec4aa4f8ecd35f72e60",
       "version_major": 2,
       "version_minor": 0
      },
      "text/plain": [
       "HBox(children=(IntProgress(value=0, max=521), HTML(value='')))"
      ]
     },
     "metadata": {},
     "output_type": "display_data"
    },
    {
     "name": "stdout",
     "output_type": "stream",
     "text": [
      "\n",
      "SNRAEDFRGLGCEVLGVSVDSQFTHLAWINTPRKEGGLGPLPINLLADVTRRLSEDYGVLKTDEGIAYRGLFIIDGKGLVQRITTLNDPGRRSVDMALRLVQAFQYTDEHGE\n",
      "SNRAEDFRKLGCEVLGVSVDSQFTHLAWINTPRKEGGLGPLNIPLLADVTRRLSEDYGVLKTDEGIAYRGLFIIDGKGVLRQITVNDLPVGRSVDEALRLVQAFQYTDEHGE\n"
     ]
    },
    {
     "data": {
      "application/vnd.jupyter.widget-view+json": {
       "model_id": "a347135730214d9e93a6625f303232cf",
       "version_major": 2,
       "version_minor": 0
      },
      "text/plain": [
       "HBox(children=(IntProgress(value=0, max=521), HTML(value='')))"
      ]
     },
     "metadata": {},
     "output_type": "display_data"
    },
    {
     "name": "stdout",
     "output_type": "stream",
     "text": [
      "\n",
      "VEDLAATSVTIFPNAELGGPFDQMNGVAGDGMINIDDTGEKRSLDLYYPSSFAPVSAPNNQFTTTGGKYDISPPPGAYSYPEYYIINVISAGLLQGVTSPTASTTTSSSVSA\n",
      "VEDLAATSVTIFPNAELGGPFDQMNGVAGDGMINIDMTGEKRSLDLPYPSSFAPVSAPRNQTFTYMGKFSIDPQYPGASCYPEGIINIVSAGILQGVTSPASTTASSSVTSA\n"
     ]
    },
    {
     "data": {
      "application/vnd.jupyter.widget-view+json": {
       "model_id": "ea2cc25e7a9a48a68335a4684ce91328",
       "version_major": 2,
       "version_minor": 0
      },
      "text/plain": [
       "HBox(children=(IntProgress(value=0, max=521), HTML(value='')))"
      ]
     },
     "metadata": {},
     "output_type": "display_data"
    },
    {
     "name": "stdout",
     "output_type": "stream",
     "text": [
      "\n",
      "LKEVGDDDSEISKESSGVKKRIRRRFEEVEEEEPVIPGPPSESPGLMTLKQIKQMMEAATRQIEERKKQLSFISPPTPQPKTPSSSQPERLPIGNTIQPSQAATFMNDAIEK\n",
      "LKEVFGDDSEISKESSGVKKRRIPRFEEVEEEPEVIPGPPSESPGMLTKLQIKQMMEAATRQIEERKKQLSFISPPTPQPKTPSSSQPERLPIGNTIQPSQAATFMNDAIEK\n"
     ]
    },
    {
     "data": {
      "application/vnd.jupyter.widget-view+json": {
       "model_id": "8cd7a439ab4f46c981d9ab77a5e49cf3",
       "version_major": 2,
       "version_minor": 0
      },
      "text/plain": [
       "HBox(children=(IntProgress(value=0, max=521), HTML(value='')))"
      ]
     },
     "metadata": {},
     "output_type": "display_data"
    },
    {
     "name": "stdout",
     "output_type": "stream",
     "text": [
      "\n",
      "ELERNLSLTVWDVGGQEKMRTVWGCYCENTDGLVYVVDSTDKQRLEESRRQFEHILKNEHIKNVPVVLLANKQDMPGALTAEDITRMFKVKKLCSDRNWYVQPCCALTGEGL\n",
      "ELERNLSLTVWDVGGQEKMRTVWGCYCENTDGLVYVVDSTDKQRLEESQRQFEHILKNEHIKNVPVVLLANKQDMPGALTAEDITRMFKVKKLCSDRNWYVQPCCALTGEGL\n"
     ]
    },
    {
     "data": {
      "application/vnd.jupyter.widget-view+json": {
       "model_id": "d901c64b3119495c86e1e69cba8a4a05",
       "version_major": 2,
       "version_minor": 0
      },
      "text/plain": [
       "HBox(children=(IntProgress(value=0, max=521), HTML(value='')))"
      ]
     },
     "metadata": {},
     "output_type": "display_data"
    },
    {
     "name": "stdout",
     "output_type": "stream",
     "text": [
      "\n",
      "FNDAFENFALDFSREKKLELGLDYLTAPNPPSIREELCTASHDTIIVHTISDSWDFSSSEELQYTIFTGQANFISKSWCSGWLWPERRKKVEACSSSRLAGAPRGLYNSVDS\n",
      "FNDAFENFALDFSREKKLLEGLDYLTAPNPPSIREELCTASHDTITVHWISDDEFSISSYELQYTIFTGQANFISKSWCSWGLWPEIRKCKEAVSCSRLAGAPRGLYNSVDS\n"
     ]
    },
    {
     "data": {
      "application/vnd.jupyter.widget-view+json": {
       "model_id": "514d0882b6c44d13b219b44ca6f1df85",
       "version_major": 2,
       "version_minor": 0
      },
      "text/plain": [
       "HBox(children=(IntProgress(value=0, max=521), HTML(value='')))"
      ]
     },
     "metadata": {},
     "output_type": "display_data"
    },
    {
     "name": "stdout",
     "output_type": "stream",
     "text": [
      "\n",
      "LSTCQSIIKGLKNQSRVKLNIVRCPPVTTVLIRRPDLRYQLGFSVQNGIICSLMRGGIAERGGVRVGHRIIEINGQSVVATPHEKIVHILSNAVGEIHMTTMPAAMYRLLTA\n",
      "LSTCQSIIKGLKNQSRVKLNIVRCPPVTTVLIRRPDLRYQLGFSVQNGIICSLMRGGIAERGGVRVGHRIIEINGQSVVATPHEKIVHILSNAVGEIHMKTMPAAMYRLLTA\n"
     ]
    },
    {
     "data": {
      "application/vnd.jupyter.widget-view+json": {
       "model_id": "c41749f24c9c41d6ac913b23c6ddb168",
       "version_major": 2,
       "version_minor": 0
      },
      "text/plain": [
       "HBox(children=(IntProgress(value=0, max=521), HTML(value='')))"
      ]
     },
     "metadata": {},
     "output_type": "display_data"
    },
    {
     "name": "stdout",
     "output_type": "stream",
     "text": [
      "\n",
      "TGKFEMESEKNYDEFMKLLGISSDVAEKIRKTFIVTEVQQDGQDFTWSQHYSGGHTMTNNTTVGKESNIQTMGGKTFKATVQMEGGKLVVNFPPRHQTSEIVGDKLVEVSTI\n",
      "TGKFEMESEKNYDEFMKLLGISSDVIEKARNFKIVTEVQQDGQDFTWSQHYSGGHTMTNKFTVGKESNIQTMGGKTFKATVQMEGGKLVVNFPNYHQTSEIVGDKLVEVSTI\n"
     ]
    },
    {
     "data": {
      "application/vnd.jupyter.widget-view+json": {
       "model_id": "2bdb7f35a3054d229b7850ba468c5179",
       "version_major": 2,
       "version_minor": 0
      },
      "text/plain": [
       "HBox(children=(IntProgress(value=0, max=521), HTML(value='')))"
      ]
     },
     "metadata": {},
     "output_type": "display_data"
    },
    {
     "name": "stdout",
     "output_type": "stream",
     "text": [
      "\n",
      "CKENGAYDAKHFLCYYYYGGMIYTGKKNFERALYFYEQAITTPAMMASHVILESKKKYILVSIILLGKVQQLPKYTSQIVGRFIKPLSNAYHELAQVYSTNPPSELRNLVNK\n",
      "CKENGAYDAKHFLCYYYYGGMIYTGLKNFERALYFYEQAITTPAMAVSHIMLESYKKYILVSLILLGKVQQLPKYTSQIVGRFIKPLSNAYHELAQVYSTNNPSELRNLVNK\n"
     ]
    },
    {
     "data": {
      "application/vnd.jupyter.widget-view+json": {
       "model_id": "64dceb56296840419dbc711895dbd23b",
       "version_major": 2,
       "version_minor": 0
      },
      "text/plain": [
       "HBox(children=(IntProgress(value=0, max=521), HTML(value='')))"
      ]
     },
     "metadata": {},
     "output_type": "display_data"
    },
    {
     "name": "stdout",
     "output_type": "stream",
     "text": [
      "\n",
      "PLGRVSFELFADKVPKTAENFRALSTGEKGFGYKGSCFHRIIPGFMCQGGDFTRHNGTGGKSIYGEKFEDENFILKHTGPGILSMANAGPNTNGSQFFICTAKTEWLDGKHV\n",
      "PLGRVSFELFADKVPKTAENFRALSTGEKGFGYKGSCFHRIIPGFMCQGGDFTRHNGTGGKSIYGEKFEDENFILKHTGPGILSMANAGPNTNGSQFFICTAKTEWLDGKHV\n"
     ]
    },
    {
     "data": {
      "application/vnd.jupyter.widget-view+json": {
       "model_id": "394574d7fba14b4eade37f1192cefee9",
       "version_major": 2,
       "version_minor": 0
      },
      "text/plain": [
       "HBox(children=(IntProgress(value=0, max=521), HTML(value='')))"
      ]
     },
     "metadata": {},
     "output_type": "display_data"
    },
    {
     "name": "stdout",
     "output_type": "stream",
     "text": [
      "\n",
      "RPPRRSSQPSPTAVPASDSPPTKQEVKKAGERHKLAKERREERAKYLAAKKAVWLEKEEKAKALREKQLQERRRRLEEQRLKAEQRRAALEERQRQKLEKNKEREEAAIQRS\n",
      "RPPRRSSQPSPTAVPASDSPPTKQEVKKAGERHKLAKERREERAKYLAAKKAVWLEKEEKAKALREKQLQERRRRLEEQRLKAEQRRAALEERQRQKLEKNKERYEAAIQRS\n"
     ]
    },
    {
     "data": {
      "application/vnd.jupyter.widget-view+json": {
       "model_id": "fcbb58f36fe4431a90b384abf05d5d7d",
       "version_major": 2,
       "version_minor": 0
      },
      "text/plain": [
       "HBox(children=(IntProgress(value=0, max=538), HTML(value='')))"
      ]
     },
     "metadata": {},
     "output_type": "display_data"
    },
    {
     "name": "stdout",
     "output_type": "stream",
     "text": [
      "\n",
      "GKYATTARNSFIVLIIFTICFVPYHAFRFIYISQQLNVSSCYWKEIVHKTNEIMLVLSSFNSCLDPVMYFLMSSNIRKIMCQLLFRRFQGEPSRSESTSEFKPGYSLHDTSVA\n",
      "GKYATTARNSFIVLIIFTICFVPYHAFRFIYISSQLNVSSCYWKEIVHKTNEIMLVLSSFNSCLDPVMYFLMSSNIRKIMCQLLFRRFQGEPSRSESTSEFKPGYSLHDTSVA\n"
     ]
    },
    {
     "data": {
      "application/vnd.jupyter.widget-view+json": {
       "model_id": "d951037c4df84c76b822e06280af012c",
       "version_major": 2,
       "version_minor": 0
      },
      "text/plain": [
       "HBox(children=(IntProgress(value=0, max=538), HTML(value='')))"
      ]
     },
     "metadata": {},
     "output_type": "display_data"
    },
    {
     "name": "stdout",
     "output_type": "stream",
     "text": [
      "\n",
      "RPTPRTSTAVEVSPGEDMTHCSPQKTSPLTKITSGHLSQQDLESQMRELIYTDSDLVVTPIIDNPKIMKQPPVKFDAKILHLPTYSVDKLLFLKDQDWNDFLQQVCSQIDSTE\n",
      "RPTPRTSTAVEVSPGEDMTHCSPQKTSPLTKITSGHLSQQDLESQMRELIYTDSDLVVTPIIDNPKIMKQPPVKFDAKILHLPTYSVDKLLFLKDQDWNDFLQQVCSQIDSTE\n"
     ]
    },
    {
     "data": {
      "application/vnd.jupyter.widget-view+json": {
       "model_id": "924ce619446e41d894f27274762b035d",
       "version_major": 2,
       "version_minor": 0
      },
      "text/plain": [
       "HBox(children=(IntProgress(value=0, max=538), HTML(value='')))"
      ]
     },
     "metadata": {},
     "output_type": "display_data"
    },
    {
     "name": "stdout",
     "output_type": "stream",
     "text": [
      "\n",
      "CTEYNKKNSVPQHVGIRILEDYDHHGLLRVRMVNLQVEDSGLYQCVIYQPPKEHHMLFDRIRLVVTKGFSGTPGSNENTSQNVYKIPPTTTKALCPLYTSPRTVTQAPPKSTA\n",
      "CTERPSKNSHPVQVGRIILEDYHDHGLLRVRMVNLQVEDSGLYQCVIYQPPKEPHMLFDRIRLVVTKGFSGTPGSNENSTQNVYKIPPTTTKALCPLYTSPRTVTQAPPKSTA\n"
     ]
    },
    {
     "data": {
      "application/vnd.jupyter.widget-view+json": {
       "model_id": "fd9c529ac6f848e880c74a47986972f4",
       "version_major": 2,
       "version_minor": 0
      },
      "text/plain": [
       "HBox(children=(IntProgress(value=0, max=538), HTML(value='')))"
      ]
     },
     "metadata": {},
     "output_type": "display_data"
    },
    {
     "name": "stdout",
     "output_type": "stream",
     "text": [
      "\n",
      "WACAGYFLLQILRRIGAVGQAVSRTAWSALWLAVVAPGKAASGVFWWLGGGWYQFVTLISWLNVFLLTRCLRNICKFLVLLIPLFLLLAGLSLRGQGNFFSFLPVLNWASMHR\n",
      "WACAGYFLLQILRRIGAVGQAVSRTAWSALWLAVVAPGKAASGVFWWLGIGWYQFVTLISWLNVFLLTRCLRNICKFLVLLIPLFLLLAGLSLRGQGNFFSFLPVLNWASMHR\n"
     ]
    },
    {
     "data": {
      "application/vnd.jupyter.widget-view+json": {
       "model_id": "61120ccae6554d2f9bf497e19dd5c5b6",
       "version_major": 2,
       "version_minor": 0
      },
      "text/plain": [
       "HBox(children=(IntProgress(value=0, max=538), HTML(value='')))"
      ]
     },
     "metadata": {},
     "output_type": "display_data"
    },
    {
     "name": "stdout",
     "output_type": "stream",
     "text": [
      "\n",
      "NKRKSRVRHYLVKCPQNSSGEVVTSVTSLAPLQPKKGKRQKEKPDIPPAVPAKAPIAPTFHKPKLLKPQRKVTLPKIAEENLTYAELELIKPHRAAKGAPTSTVYAQILFEEN\n",
      "NKRKSRVRHYLVKCPQNSSGETVTSVTSLAPLQPKKGKRQKEKPDIPPAVPAKAPIAPTFHKPKLLKPQRKVTLPKIAEENLTYAELELIKPHRAAKGAPTSTVYAQILFEEN\n"
     ]
    },
    {
     "data": {
      "application/vnd.jupyter.widget-view+json": {
       "model_id": "133ed623accb44cbb1c44e40a0466f04",
       "version_major": 2,
       "version_minor": 0
      },
      "text/plain": [
       "HBox(children=(IntProgress(value=0, max=538), HTML(value='')))"
      ]
     },
     "metadata": {},
     "output_type": "display_data"
    },
    {
     "name": "stdout",
     "output_type": "stream",
     "text": [
      "\n",
      "KNLRKSEEDLTAVVSVSTKFPAYERVLLREAGFKRPVVFFLPIAIDMEAKLANELPDWFQTAKTEPKDAGSEKSTGVVRLNTVRQIIEQKKHLLLDVTPKAVDLLNYTQWFPI\n",
      "KNLRKSREDLTAVVSVSTKFPAYERVLLREAGFKRPVVLFGPIADIAMEKLANELPDWFQTAKTEPKDAGSEKSTGVVRLNTVRQIIEQDKHALLDVTPKAVDLLNYTQWFPI\n"
     ]
    },
    {
     "data": {
      "application/vnd.jupyter.widget-view+json": {
       "model_id": "206084d2824b41cf92367882102a7e69",
       "version_major": 2,
       "version_minor": 0
      },
      "text/plain": [
       "HBox(children=(IntProgress(value=0, max=538), HTML(value='')))"
      ]
     },
     "metadata": {},
     "output_type": "display_data"
    },
    {
     "name": "stdout",
     "output_type": "stream",
     "text": [
      "\n",
      "AVEALLRAVFGVVVDEAIQKGTSVSQKVCEWKEPEELKQLLDLELRSQGESQKQILERCRAVIRSYVTTGHPRFFNLQSSGLDPHALAGRIITESLNTSQYTYEIAPVFVLME\n",
      "AVEALLRAVFGVVVDEAIQKGTSVSQKVCEWKEPEELKQLLDLELRSQGESQKQILERCRAVIRYSVKTGHPRFFNQLFSGLDPHALAGRIITESLNTSQYTYEIAPVFVLME\n"
     ]
    },
    {
     "data": {
      "application/vnd.jupyter.widget-view+json": {
       "model_id": "21ab51f834584b818bc427c86d5d3352",
       "version_major": 2,
       "version_minor": 0
      },
      "text/plain": [
       "HBox(children=(IntProgress(value=0, max=538), HTML(value='')))"
      ]
     },
     "metadata": {},
     "output_type": "display_data"
    },
    {
     "name": "stdout",
     "output_type": "stream",
     "text": [
      "\n",
      "EDEELGGSSRVPVGGGPEATLISSDVRTLSEPDDKGEEQVNFCESSNDFGPYEGGGPVAGLDSDGGPTPSSYAPSHPPRPLLPLDMQGNQILVFPSSSSSSSSQAPGQPPGNQ\n",
      "EDEELGGSSRVPVGGGPEATLSISDVRTLSEPPDKGEEQVNFCESSNDFGPYEGGGPVAGLDDSGGPTPSSYAPSHPPRPLLPLDMQGNQILVFPSSSSSSSSQAPGQPPGNQ\n"
     ]
    },
    {
     "data": {
      "application/vnd.jupyter.widget-view+json": {
       "model_id": "26866a94b7cd40f19055331771e0759c",
       "version_major": 2,
       "version_minor": 0
      },
      "text/plain": [
       "HBox(children=(IntProgress(value=0, max=538), HTML(value='')))"
      ]
     },
     "metadata": {},
     "output_type": "display_data"
    },
    {
     "name": "stdout",
     "output_type": "stream",
     "text": [
      "\n",
      "NVHIHQESALTQLLKAGGSLKKFLFHPGDTVPSTARIGYEQLALGVTQILLGVVSCVLGVCLSLGPWTVLSASGCAFWAGSVVIAAGAGAIVHEKHPGKLAGYISSLLTLAGF\n",
      "NVHIHQESALTQLLKAGGSLKKFLFHPGDTVPSTARIGYEQLALGVTQILLGVVSCVLGVCLSLGPWTVLSASGCAFWAGSVVIAAGAGAIVHEKHPGKLAGYISSLLTLAGF\n"
     ]
    },
    {
     "data": {
      "application/vnd.jupyter.widget-view+json": {
       "model_id": "4e09ec49668a4646b7630a39b0b7631b",
       "version_major": 2,
       "version_minor": 0
      },
      "text/plain": [
       "HBox(children=(IntProgress(value=0, max=538), HTML(value='')))"
      ]
     },
     "metadata": {},
     "output_type": "display_data"
    },
    {
     "name": "stdout",
     "output_type": "stream",
     "text": [
      "\n",
      "AVIATWLLWLYISKTESKDAFYFAGMFRITNIEFLPEYRQKESREFLSVSRTVQQVINLVYTTSAFSKFYEQSVVADVSSNNKGGLLVHVWIVFVMPRAKGHIFCEDCVAAIL\n",
      "AVIAWTLLWLYISKTESKDAFYFAGMFRITNIEFLPEYRQKESREFLSVSRTVQQVINLVYTTSAFSKFYEQSVVADVSSNNKGGLLVHFWIVFVMPRAKGHIFCEDCVAAIL\n"
     ]
    },
    {
     "data": {
      "application/vnd.jupyter.widget-view+json": {
       "model_id": "bf9d055d98a64d53b587aad4f0d5fb9f",
       "version_major": 2,
       "version_minor": 0
      },
      "text/plain": [
       "HBox(children=(IntProgress(value=0, max=538), HTML(value='')))"
      ]
     },
     "metadata": {},
     "output_type": "display_data"
    },
    {
     "name": "stdout",
     "output_type": "stream",
     "text": [
      "\n",
      "FELVDDHFVELNVGVTGLPVSDSRIIAGLLVQKFFSVYRPADDMMMIVVVTETIQPLFSTSGSEFILNSEAQFQTSQFWIMEKTKAIMKHLHQQNVKLLISVVKQPDLVSYYA\n",
      "FELVDDHFVELNVGVTGLPVSDSRIIAGLVLQKDFSVYRPADGDMRMVIVTETIQPLFSTSGSEFILNSEAQFQTSQFWIMEKTKAIMKHLHSQNVKLLISSVKQPDLVSYYA\n"
     ]
    },
    {
     "data": {
      "application/vnd.jupyter.widget-view+json": {
       "model_id": "bed1599c16d2490087f8ee9ee2803aa4",
       "version_major": 2,
       "version_minor": 0
      },
      "text/plain": [
       "HBox(children=(IntProgress(value=0, max=538), HTML(value='')))"
      ]
     },
     "metadata": {},
     "output_type": "display_data"
    },
    {
     "name": "stdout",
     "output_type": "stream",
     "text": [
      "\n",
      "TNPWSPRRHVVPPLLEQTQYSWERQAAFRFKRKLPKYLLFTSPQENPWKHKTRRRLQHHSMADQVPPGWPPQAQQTTWARYPLAVTRYTEELCCSSIIYHQNDWPPPVVVEQQ\n",
      "TNPWSPRHRVVQPTLEQTQYSWERQAAFRFKRKLPKYLLFTSPQENPWGHKRTYRLQIHSMADQVLPPGWQEEQAITWARYPLAVTKYRESELCSSSIYHQNDPWHPPVVFEQ\n"
     ]
    },
    {
     "data": {
      "application/vnd.jupyter.widget-view+json": {
       "model_id": "a113abaafee44ed09a453066b58aae52",
       "version_major": 2,
       "version_minor": 0
      },
      "text/plain": [
       "HBox(children=(IntProgress(value=0, max=538), HTML(value='')))"
      ]
     },
     "metadata": {},
     "output_type": "display_data"
    },
    {
     "name": "stdout",
     "output_type": "stream",
     "text": [
      "\n",
      "ILKAKGTLPRPERQALFGSWELIYGASQELLPYLEGGCWGQGLEGFCRHLELYNQFAANSERSQTTLQEQLKKNKGFRRFVRLQEGRPEFGGLQLQDLLPLPLQRLQQYENLV\n",
      "ILKAKGTLRPPERQALFGSWELIYGASQELLPYLEGGCWGQGLEGFCRHLELYNQFAANSERSQTTLQEQLKKNKGFRRFVRLQEGRPEFGGLQLQDLLPLPLQRLQQYENLV\n"
     ]
    },
    {
     "data": {
      "application/vnd.jupyter.widget-view+json": {
       "model_id": "931cb6eb885e4d179e2958f4b31b05fd",
       "version_major": 2,
       "version_minor": 0
      },
      "text/plain": [
       "HBox(children=(IntProgress(value=0, max=538), HTML(value='')))"
      ]
     },
     "metadata": {},
     "output_type": "display_data"
    },
    {
     "name": "stdout",
     "output_type": "stream",
     "text": [
      "\n",
      "QIHRVQQRVTIKKALTLKYGEELARAKAVASKEIGKRKLEQDRFGPNKMMRLDSSPVSSPRKHSAELIAMEKRRLQKLEYEYALKIQKLKEARALKAKEQQNISPVVEEEPEF\n",
      "QIHRVQQRVTIKKALTLKYGEELARAKAVASKEIGKRKLEQDRFGPNKMMRLDSSPVSSPRKHSAELIAMEKRRLQKLEYEYALKIQKLKEARALKAKEQQNISPVVEEEPEF\n"
     ]
    },
    {
     "data": {
      "application/vnd.jupyter.widget-view+json": {
       "model_id": "59a65834592344358f5a5eecbe5b7e26",
       "version_major": 2,
       "version_minor": 0
      },
      "text/plain": [
       "HBox(children=(IntProgress(value=0, max=538), HTML(value='')))"
      ]
     },
     "metadata": {},
     "output_type": "display_data"
    },
    {
     "name": "stdout",
     "output_type": "stream",
     "text": [
      "\n",
      "LGENLSHYSSGVPHHGEASHHGGSYLPHGPNPYSESFHHSEASHLSGLQHDESQHQHVPQRGWPHHQHVHHHGRSRHHEAHQHGKPPHHGETISPHSSVGSYQRGISDYHSEY\n",
      "LGENLSHYSSGVPHHGEASHHGGSYLPHGPNPYSESFHHSEASHLSGLQHDESQHHQVPHRGWPHHHQVHHHGRSRHHEAHQHGKSPHHGETISPHSSVGSYQRGISDYHSEY\n"
     ]
    },
    {
     "data": {
      "application/vnd.jupyter.widget-view+json": {
       "model_id": "b66bcba7c4864415b9b01ee5d3c0f570",
       "version_major": 2,
       "version_minor": 0
      },
      "text/plain": [
       "HBox(children=(IntProgress(value=0, max=538), HTML(value='')))"
      ]
     },
     "metadata": {},
     "output_type": "display_data"
    },
    {
     "name": "stdout",
     "output_type": "stream",
     "text": [
      "\n",
      "SELPLAPVPRKAFVEEEQEVLMKTPMLAPMPGGGKDMPPPLLLQVQKLDPPEAADDAWWAAAAAEKKTTEGTTEGGGYCCPGGPCPPPPVSVRLPPPPPLKTVPPRPPPEQPP\n",
      "SELSPVQPARKAFVEEVEAQLMTKHPLAMYPNLGKDMPPDLLLQVLKQLDPERKLEDAWARCEAREKTTEVPTESGKYPCGESCPRPPETPVSRLRPQLPKTPVSSRRPEPPK\n"
     ]
    },
    {
     "data": {
      "application/vnd.jupyter.widget-view+json": {
       "model_id": "c8032f1aad644da9816786ea6909ff2d",
       "version_major": 2,
       "version_minor": 0
      },
      "text/plain": [
       "HBox(children=(IntProgress(value=0, max=538), HTML(value='')))"
      ]
     },
     "metadata": {},
     "output_type": "display_data"
    },
    {
     "name": "stdout",
     "output_type": "stream",
     "text": [
      "\n",
      "LNISFPATGCQKLIEVDDERKLRTFYEKRMATEVAADALGEEWKGYVVRISGGNDKQGFPMKQGVLTHGRVRLLLSKGHSCYRPRTTGERKRKSVRGCIVDANLSVLNLVIVK\n",
      "LNISFPATGCQKLIEVDDERKLRTFYEKRMATEVAADALGEEWKGYVVRISGGNDKQGFPMKQGVLTHGRVRLLLSKGHSCYRPRRTGERKRKSVRGCIVDANLSVLNLVIVK\n"
     ]
    },
    {
     "data": {
      "application/vnd.jupyter.widget-view+json": {
       "model_id": "7f8a8be05c7745da95cfcb0bf4796c0c",
       "version_major": 2,
       "version_minor": 0
      },
      "text/plain": [
       "HBox(children=(IntProgress(value=0, max=538), HTML(value='')))"
      ]
     },
     "metadata": {},
     "output_type": "display_data"
    },
    {
     "name": "stdout",
     "output_type": "stream",
     "text": [
      "\n",
      "LITGGGRGIGRQLAREFAERGARKIVLWGRTEKCLKETTEEIRQMGTECHYFICDVGNREEVYQTAKAVREKVGDITILVNNAAVVHGKSMLDSDDDALLKSQHNNTLGQFWT\n",
      "LITGGGRGIGRQLAREFAERGARKIVLWGRTEKCLKETTEEIRQMGTECHYFICDVGNREEVYQTAKAVREKVGDITILVNNAAVVHGKSLMDSDDDALLKSQHINTLGQFWT\n"
     ]
    },
    {
     "data": {
      "application/vnd.jupyter.widget-view+json": {
       "model_id": "bda7e3d2b17e4db28a32d5d907472b28",
       "version_major": 2,
       "version_minor": 0
      },
      "text/plain": [
       "HBox(children=(IntProgress(value=0, max=557), HTML(value='')))"
      ]
     },
     "metadata": {},
     "output_type": "display_data"
    },
    {
     "name": "stdout",
     "output_type": "stream",
     "text": [
      "\n",
      "AIAMICGLVCLWKGAPTTSLISVVVTTIIAKVLEDNKLPGAACSLTCGGADIGTAMKKDERVNLLSFTGSTQVKGQVGLMVQERFKRSLLELGGNNAIIAFEDADLSLVVPSAL\n",
      "AIAMICGNVCLWKGAPTTSLISVAVTKIIAKVLEDNKLPGAICSLTCGGADIGTAMAKDERVNLLSFTGSTQVGKQVGLMVQERFGRSLLELGGNNAIIAFEDADLSLVVPSAL\n"
     ]
    },
    {
     "data": {
      "application/vnd.jupyter.widget-view+json": {
       "model_id": "0beaab3e3b0f4d93a738b4e48ad78931",
       "version_major": 2,
       "version_minor": 0
      },
      "text/plain": [
       "HBox(children=(IntProgress(value=0, max=557), HTML(value='')))"
      ]
     },
     "metadata": {},
     "output_type": "display_data"
    },
    {
     "name": "stdout",
     "output_type": "stream",
     "text": [
      "\n",
      "SVLPRYGPPCLFKHHLSTKSNAFCTDSSSLRLSTLQLVKNHMAVHYNKILSAKAAVDCSVPSSVSTSIKYADQQRREKKKKELAQCEKEFKLTKTAMRANYKNNSKSLFNTLQK\n",
      "SVLPRYGPPCLFKGHLSTKSNAFCTDSSSLRLSTLQLVKNHMAVHYNKILSAKAAVDCSVPVSVSTSIKYADQQRREKLKKELAQCEKEFKLTKTAMRANYKNNSKSLFNTLQK\n"
     ]
    },
    {
     "data": {
      "application/vnd.jupyter.widget-view+json": {
       "model_id": "e6cf2061103b4b57adcbe5ff32db3d3d",
       "version_major": 2,
       "version_minor": 0
      },
      "text/plain": [
       "HBox(children=(IntProgress(value=0, max=557), HTML(value='')))"
      ]
     },
     "metadata": {},
     "output_type": "display_data"
    },
    {
     "name": "stdout",
     "output_type": "stream",
     "text": [
      "\n",
      "KAAFDMFDADGGGDISVKELGTVMRMGLQTPTEEELDAIIEEVDEDGSGTIDFEEFLVMMVRQMKEDAKGKSEEEAAECFRIFDRNADGYIDPEELAEIFRASGEHVTDEEIES\n",
      "KAAFDMFDADGGGDISVKELGTVMRMLGQTPTKEELDAIIEEVDEDGSGTIDFEEFLVMMVRQMKEDAKGKSEEELAECFRIFDRNADGYIDPEELAEIFRASGEHVTDEEIES\n"
     ]
    },
    {
     "data": {
      "application/vnd.jupyter.widget-view+json": {
       "model_id": "146f4a75e94a4df4b9a3da7a8d207f57",
       "version_major": 2,
       "version_minor": 0
      },
      "text/plain": [
       "HBox(children=(IntProgress(value=0, max=557), HTML(value='')))"
      ]
     },
     "metadata": {},
     "output_type": "display_data"
    },
    {
     "name": "stdout",
     "output_type": "stream",
     "text": [
      "\n",
      "VTSLLSPTPATALAVRYASKKSGGSSKNLGGKSSGRRQGIKKEEGHYVHAGNIIATQRHFRWHPGAHVGVGKNKCLYALEEGIVRYTKEVYVPHPRNEEAVDLITRLPKGAVLY\n",
      "VTSLLSPTPATALAVRYASKKSGGSSKNLGGKSSGRRQGIKKMEGHYVHAGNIIATQRHFRWHPGAHVGVGKNKCLYALEEGIVRYTKEVYVPHPRNTEAVDLITRLPKGAVLY\n"
     ]
    },
    {
     "data": {
      "application/vnd.jupyter.widget-view+json": {
       "model_id": "588aad2222834fd39613659e4315330d",
       "version_major": 2,
       "version_minor": 0
      },
      "text/plain": [
       "HBox(children=(IntProgress(value=0, max=557), HTML(value='')))"
      ]
     },
     "metadata": {},
     "output_type": "display_data"
    },
    {
     "name": "stdout",
     "output_type": "stream",
     "text": [
      "\n",
      "WDKDLRVSDKYLLAMVIAYFSRAGFPSWQYQRLHFFLALYLANDMEEDDEDSKQNIFHFLYGKNRSRIPLLRKRRFQLYRSMNPRAKRNRSHIPLVRKRRFQLRRCMNPRARKN\n",
      "WDKDLRVSDKYLLAMVIAYFSRAGFPSWQYQRLHFFLALYLANDMEEDDEDSKQNIFHFLYGKNRSRIPLLRKRRFQLYRSMNPRARKNRSHIPLVRKRRFQLRRCMNPRARKN\n"
     ]
    },
    {
     "data": {
      "application/vnd.jupyter.widget-view+json": {
       "model_id": "04d51b1661b34680a8e74c6463ee9b7c",
       "version_major": 2,
       "version_minor": 0
      },
      "text/plain": [
       "HBox(children=(IntProgress(value=0, max=557), HTML(value='')))"
      ]
     },
     "metadata": {},
     "output_type": "display_data"
    },
    {
     "name": "stdout",
     "output_type": "stream",
     "text": [
      "\n",
      "EDKYMCESSGFYPAEINITEEKQTQKFPHPIEESIDVITGPTIKNMDGTFNVTSCLKLNSSQEDPGTVYQCVVRHASLHTPLRSNFTLTAARHSLSETEKTDNFSIHWWPISFI\n",
      "EDKYMCESSGFYPEAINITWEKQTQKFPHPIEISEDVITGPTIKNMDGTFNVTSCLKLNSSQEDPGTVYQCVVRHASLHTPLRSNFTLTAARHSLSETEKTDNFSIHWWPISFI\n"
     ]
    },
    {
     "data": {
      "application/vnd.jupyter.widget-view+json": {
       "model_id": "1784c7aba68146a68a60861b076f4ed9",
       "version_major": 2,
       "version_minor": 0
      },
      "text/plain": [
       "HBox(children=(IntProgress(value=0, max=557), HTML(value='')))"
      ]
     },
     "metadata": {},
     "output_type": "display_data"
    },
    {
     "name": "stdout",
     "output_type": "stream",
     "text": [
      "\n",
      "VFGHSSGPMVEKYSVATQIVMGGVTGWCAGFLFQKVGKLATTAVGGGFLLQQIASHSGYVQIDWKRVEKDVNKAKRQIKKRANKAAPEINNLIEEATEFIKQNIVISSGFVGGF\n",
      "VFGHSSGPMVEKYSVATQIVMGGVTGWCAGFLFQKVGKLAATAVGGGFLLLQIASHSGYVQIDWKRVEKDVNKAKRQIKKRANKAAPEINNLIEEATEFIKQNIVISSGFVGGF\n"
     ]
    },
    {
     "data": {
      "application/vnd.jupyter.widget-view+json": {
       "model_id": "061337cb29b546fd9e16e7e6efa4d420",
       "version_major": 2,
       "version_minor": 0
      },
      "text/plain": [
       "HBox(children=(IntProgress(value=0, max=557), HTML(value='')))"
      ]
     },
     "metadata": {},
     "output_type": "display_data"
    },
    {
     "name": "stdout",
     "output_type": "stream",
     "text": [
      "\n",
      "IAMSSIYLAGKVEEQPLWAHDIYSVSNRYFNPSSEPLGLDSRLWELRDSIVQRELLMLRVLRFQVSFQHPKHYLLYYLVSLKNWLNCHSWQRTPVAVTAWLALRDSYHGGLCLR\n",
      "IAMSSIYLAGKVEEQPLWAHDIISVSNRYFNPSSEPLGLDSRLWELRDSIVQRELLMLRVLRFQVSFQHPHKYLLYYLVSLKNWLNCHSWQRTPVAVTAWALLRDSYHGGLCLR\n"
     ]
    },
    {
     "data": {
      "application/vnd.jupyter.widget-view+json": {
       "model_id": "22705982d9c14e5f9099131a7499a1eb",
       "version_major": 2,
       "version_minor": 0
      },
      "text/plain": [
       "HBox(children=(IntProgress(value=0, max=557), HTML(value='')))"
      ]
     },
     "metadata": {},
     "output_type": "display_data"
    },
    {
     "name": "stdout",
     "output_type": "stream",
     "text": [
      "\n",
      "MRLPAQLLGLMLLWIPGSSADIVMTQTPLSLSVTPGQPASISCKSSQSLLHSDGKTYLYWYLQKPGQSPQLLIYEVSSRFSGVPDRFSGSGSGTDFTLKISRVEAEDVGVYYCM\n",
      "MRLPAQLLGLLMLWIPGSSADIVMTQTPLSLSVTPGQPASISCKSSQSLLHSDGKTYLYWYLQKPGQSPQLLIYEVSSRFSGVPDRFSGSGSGTDFTLKISRVEAEDVGVYYCM\n"
     ]
    },
    {
     "data": {
      "application/vnd.jupyter.widget-view+json": {
       "model_id": "844d76097bed4bdebef7f71190f23b97",
       "version_major": 2,
       "version_minor": 0
      },
      "text/plain": [
       "HBox(children=(IntProgress(value=0, max=577), HTML(value='')))"
      ]
     },
     "metadata": {},
     "output_type": "display_data"
    },
    {
     "name": "stdout",
     "output_type": "stream",
     "text": [
      "\n",
      "PLEESERDRREESRRHGRNWGGPDFERVRCGLEHERQGRRAGLSSAGDMTLSMTGRERSEYLRWKQEERKIDQERLQRHRKPTGQWRREWDAEKTDGMKKDGPVPAHEPSHRYDD\n",
      "PLEESERDRREESRRHGRNWGGPDFERVRCGLEHERQGRRAGLGSAGDMTLSMTGRERSEYLRWKQEREKIDQERLQRHRKPTGQWRREWDAEKTDGMFKDGPVPAHEPSHRYDD\n"
     ]
    },
    {
     "data": {
      "application/vnd.jupyter.widget-view+json": {
       "model_id": "d4075a3d8ec84ac0bc15ae587acde823",
       "version_major": 2,
       "version_minor": 0
      },
      "text/plain": [
       "HBox(children=(IntProgress(value=0, max=577), HTML(value='')))"
      ]
     },
     "metadata": {},
     "output_type": "display_data"
    },
    {
     "name": "stdout",
     "output_type": "stream",
     "text": [
      "\n",
      "VREPGPGVELGVENGLLCQLIHSPEFNLFSNSVVFESNFIQTHVPEAHFQVTKPGNWRDVEEGSATVILGVTSSVPSLPLPNVLLMANVTWPQGPFTTWSTPGDAPVINLSRLLP\n",
      "VREPGPGVELGVENGLLCQLIHSPEFNLFSNSVVFESNFIQTHVPEADFQVTKPGNWRDVCEGSATVILGVTSSVPSLPLPNVLLMANVTWPQGPFTTWSTPGDAPVINLSRLLP\n"
     ]
    },
    {
     "data": {
      "application/vnd.jupyter.widget-view+json": {
       "model_id": "8349f7d7ac7749bd962083c8ba749ddb",
       "version_major": 2,
       "version_minor": 0
      },
      "text/plain": [
       "HBox(children=(IntProgress(value=0, max=577), HTML(value='')))"
      ]
     },
     "metadata": {},
     "output_type": "display_data"
    },
    {
     "name": "stdout",
     "output_type": "stream",
     "text": [
      "\n",
      "AASQILENGEEAPGPDPSLDRMLSSSSSVSSLNSSTLSGSQMSLSGDAEAVQVRGSVHFALHYEEGAAELRVHVIQQGLALAARRRRSDPYVKSYLLPDKQSKRKTAVKKRNLNP\n",
      "AASQILENGEEAPGPDPSLDRMLSSSSSVSSLNSSTLSGSQMSLSGDAEAVQVRGSVHFALHYEPGAAELRVHVIQCQGLAAARRRRSDPYVKSYLLPDKQSKRKTAVKKRNLNP\n"
     ]
    },
    {
     "data": {
      "application/vnd.jupyter.widget-view+json": {
       "model_id": "9634a25393fc4baab3cbe6a49353a28c",
       "version_major": 2,
       "version_minor": 0
      },
      "text/plain": [
       "HBox(children=(IntProgress(value=0, max=577), HTML(value='')))"
      ]
     },
     "metadata": {},
     "output_type": "display_data"
    },
    {
     "name": "stdout",
     "output_type": "stream",
     "text": [
      "\n",
      "CDVQERVLSVLLNELDVGGLKTIERRGSKSSQQEFQEVFNRSVMIIAATNRPDVLDTALLRPGRLDKIIIIPPPDHKGRLSILKVKTCTMPIGPDVSLENLAAETCFFSGADLRN\n",
      "CDVQERVLSVLLNELDGVGLKTIERRGSKSSQQEFQEVFNRSVMIIAATNRPDVLDTALLRPGRLDKIIYIPPPDHKGRLSILKVCTKTMPIGPDVSLENLAAETCFFSGADLRN\n"
     ]
    },
    {
     "data": {
      "application/vnd.jupyter.widget-view+json": {
       "model_id": "0e1eed3e8c79450ba3f45700ef2f1dc9",
       "version_major": 2,
       "version_minor": 0
      },
      "text/plain": [
       "HBox(children=(IntProgress(value=0, max=577), HTML(value='')))"
      ]
     },
     "metadata": {},
     "output_type": "display_data"
    },
    {
     "name": "stdout",
     "output_type": "stream",
     "text": [
      "\n",
      "VLPIFTLEPRSFLDKLSDYYYHADFLSEAALEENYPLNLKKVVKIELSGFYKKPPGLKKPYPPPPGFTFRFLWIHNRTSPTTTFAYEQSSHHPPISPAFVNNTKVGFCLSGSALA\n",
      "VLPTFILEPRSFLDKLSDYYYHADFLSEAALEENPYFRLKKVVKWYLSGFYKKPKGLKKPYNPILGETFRCLWIHPRTNSKTFYIAEQVSHHPPISAFYVSNRKDGFCLSGSILA\n"
     ]
    },
    {
     "data": {
      "application/vnd.jupyter.widget-view+json": {
       "model_id": "ff8364aae6ef412297149a32732b3bb5",
       "version_major": 2,
       "version_minor": 0
      },
      "text/plain": [
       "HBox(children=(IntProgress(value=0, max=577), HTML(value='')))"
      ]
     },
     "metadata": {},
     "output_type": "display_data"
    },
    {
     "name": "stdout",
     "output_type": "stream",
     "text": [
      "\n",
      "KMDRVKQVCGDYLLSRMDVTSCISYRNFASCMGDSRLLNKVDAYIEQHLLLISEEEEFLKLPRKLLVEMLEDNVLLPSNGKLYTKVINWVQRSIWENGDSLEELMEEVQTLYYSA\n",
      "KMDRVKQVCGDYLLSRMDVTSCISYRNFASCMGDSRLLNKVDAYIQEHLLQISEEEEFLKLPRLKLEVMLEDNVCLPSNGKLYTKVINWVQRSIWENGDSLEELMEEVQTLYYSA\n"
     ]
    },
    {
     "data": {
      "application/vnd.jupyter.widget-view+json": {
       "model_id": "74b1ee8a8d4840bb9d1ab1460e07afda",
       "version_major": 2,
       "version_minor": 0
      },
      "text/plain": [
       "HBox(children=(IntProgress(value=0, max=577), HTML(value='')))"
      ]
     },
     "metadata": {},
     "output_type": "display_data"
    },
    {
     "name": "stdout",
     "output_type": "stream",
     "text": [
      "\n",
      "SVWRDKEMDSDQQRSYEIDSEICPPDDDLLLPSCKEPPEDVLSPTSVATYLSSQSPPKAVSSMGTTDSQEIINNSENYEKLKYQIHLLTTEGNNQQNFIQLLKKQSCSEAIITIV\n",
      "SVWRDKEMDSDQQRSYEIDSEICPPDDLASLPSCKENPEDVLSPTSVATYLSSKSQPSAKVSVMGTDQSESINTSNETEYLKQKIHDLETELEGYQNFIFQLQKHSQCSEAIITV\n"
     ]
    },
    {
     "data": {
      "application/vnd.jupyter.widget-view+json": {
       "model_id": "530e5fea57af474ba3678c8a7c1b1798",
       "version_major": 2,
       "version_minor": 0
      },
      "text/plain": [
       "HBox(children=(IntProgress(value=0, max=577), HTML(value='')))"
      ]
     },
     "metadata": {},
     "output_type": "display_data"
    },
    {
     "name": "stdout",
     "output_type": "stream",
     "text": [
      "\n",
      "FLRKSNLKAPSRHYFALPTNPGEQFYMFCTLAAWLINKAGRPFEQPQEYDDPNIAASNILSELRSFGRTADFPPSKLKSGYGEHCCYVLDCFAEEALKYIGHTWKRPIYPVEELE\n",
      "FLRKSNLKAPSRHYFALPTNPGEQFYMFCTLAAWLINKAGRPFEQPQEYDDPNATISNILSELRSFGRTADFPPSKLKSGYGEHVCYVLDCFAEEALKYIGFTWKRPIYPVEELE\n"
     ]
    },
    {
     "data": {
      "application/vnd.jupyter.widget-view+json": {
       "model_id": "c0cf5cdca11d4c6e8f204ab233b9b910",
       "version_major": 2,
       "version_minor": 0
      },
      "text/plain": [
       "HBox(children=(IntProgress(value=0, max=577), HTML(value='')))"
      ]
     },
     "metadata": {},
     "output_type": "display_data"
    },
    {
     "name": "stdout",
     "output_type": "stream",
     "text": [
      "\n",
      "ELAILNGTYRDANIKSPALAFSLAATAQAAPRIITGPAPVLPPAALRTPTPAGPTIMPLIRQITTAVMPNGTPHPTAAIVPPEGPAGLIYTPYEYYYTLAPATSILEYIPEPSGV\n",
      "ELAILNGTYRDANIKSPALAFSLAATAQAAPRIITGPAPVLPPAALRTPTPAGPTIMPLIRQIQTAVMPNGTPHPTAAIVPPGPEAGLIYTPYEYPYTLAPATSILEYPIEPSGV\n"
     ]
    },
    {
     "data": {
      "application/vnd.jupyter.widget-view+json": {
       "model_id": "2fd25e1567854172856acec3f3192a08",
       "version_major": 2,
       "version_minor": 0
      },
      "text/plain": [
       "HBox(children=(IntProgress(value=0, max=577), HTML(value='')))"
      ]
     },
     "metadata": {},
     "output_type": "display_data"
    },
    {
     "name": "stdout",
     "output_type": "stream",
     "text": [
      "\n",
      "WDLGGQTSIRPWYRCYYSNTDAVIYVVSDCDDDRIGISKSELVAMLEEEELRKAILVVFANKQDMEGAMTSEMEANLLGLPALKDRKWQIFKTSAKKGTGLDEAMEELVWTLKSR\n",
      "WDLGGQTSIRPYWRCYYSNTDAVIYVVDSCDRDRIGISKSELVAMLEEEELRKAILVVFANKQDMEQAMTSSEMANSLGLPALKDRKWQIFKTSATKGTGLDEAMEWLVETLKSR\n"
     ]
    },
    {
     "data": {
      "application/vnd.jupyter.widget-view+json": {
       "model_id": "daee32851e2c4a94896c63145d319175",
       "version_major": 2,
       "version_minor": 0
      },
      "text/plain": [
       "HBox(children=(IntProgress(value=0, max=577), HTML(value='')))"
      ]
     },
     "metadata": {},
     "output_type": "display_data"
    },
    {
     "name": "stdout",
     "output_type": "stream",
     "text": [
      "\n",
      "SQLQASRIQEDATENIEGDSSSPSSRSGQRTSADTHGALDDHGEEFNFGDVFVHQAIHTIEYCLGCISNTASYLRLWALSLAHAQLSEVLWTMVMNSGLQTRGWGGIVGVFIIFA\n",
      "SQLQASRIQEDATENIEGDSSSPSSRSGQRTSADTHGALDDHGEEFNFGDVFVHQAIHTIEYCLGCISNTASYLRLWALSLAHAQLSEVLWTMVMNSGLQTRGWGGIVGVFIIFA\n"
     ]
    },
    {
     "data": {
      "application/vnd.jupyter.widget-view+json": {
       "model_id": "9f9eb65a099b40ae991389bd909f0264",
       "version_major": 2,
       "version_minor": 0
      },
      "text/plain": [
       "HBox(children=(IntProgress(value=0, max=577), HTML(value='')))"
      ]
     },
     "metadata": {},
     "output_type": "display_data"
    },
    {
     "name": "stdout",
     "output_type": "stream",
     "text": [
      "\n",
      "PYERARQKMLLELFCKVPHLTKECLVALRCRGETCNLKAALRQEFSNLEEILEYQNTTFFGTGCISMIDYLLWPWFERLDVYGILDCVSHTPALRLWISAMKWDPTVCALLMDKS\n",
      "PYERARQKMLLELFCKVPHLTKECLVALRCGRECTNLKAALRQEFSNLEEILEYQNTTFFGGTCISMIDYLLWPWFERLDVYGILDCVSHTPALRLWISAMKWDPTVCALLMDKS\n"
     ]
    },
    {
     "data": {
      "application/vnd.jupyter.widget-view+json": {
       "model_id": "242ea8fc6df245bfb579ad75b8c42b8c",
       "version_major": 2,
       "version_minor": 0
      },
      "text/plain": [
       "HBox(children=(IntProgress(value=0, max=577), HTML(value='')))"
      ]
     },
     "metadata": {},
     "output_type": "display_data"
    },
    {
     "name": "stdout",
     "output_type": "stream",
     "text": [
      "\n",
      "REGRELTIQMDQQLLLSSNSFPEVEFRVIRSLTLGKVTENLGLDSEVAKANAMGFAGCMSSVQYNHIAPLKAALRHATVAPVTVHGTLTESSCGFMVDSDVNAVTTVHSSSDPFG\n",
      "REGRELTIQMDQQLRLSYNFSPEVEFRVIRSLTLGKVTENLGLDSEVAKANAMGFAGCMSSVQYNHIAPLKAALRHATVAPVTVHGTLTESSCGFMVDSDVNAVTTVHSSSDPFG\n"
     ]
    },
    {
     "data": {
      "application/vnd.jupyter.widget-view+json": {
       "model_id": "e942dcb56e4d4325a1889653850503cd",
       "version_major": 2,
       "version_minor": 0
      },
      "text/plain": [
       "HBox(children=(IntProgress(value=0, max=577), HTML(value='')))"
      ]
     },
     "metadata": {},
     "output_type": "display_data"
    },
    {
     "name": "stdout",
     "output_type": "stream",
     "text": [
      "\n",
      "IRELQTIIRDKTASRGDFMFSADRLIRLVVEEGLNQLPYKECMVTTPTGYKYEGVKFEKGNCGVSIMRSGEAMEQGLRDCCRSIRIGKILIQSDEETQRAKVYYAKFPPDIYRRK\n",
      "IRELQTIIRDKTASRGDFMFSADRLIRLVVEEGLNQLPYKECMVTTPTGYKYEGVKFEKGNCGVSIMRSGEAMEQGLRDCCRSIRIGKILIQSDEETQRAKVYYAKFPPDIYRRK\n"
     ]
    },
    {
     "data": {
      "application/vnd.jupyter.widget-view+json": {
       "model_id": "39a471e61c6643f2aea38facb760bacc",
       "version_major": 2,
       "version_minor": 0
      },
      "text/plain": [
       "HBox(children=(IntProgress(value=0, max=577), HTML(value='')))"
      ]
     },
     "metadata": {},
     "output_type": "display_data"
    },
    {
     "name": "stdout",
     "output_type": "stream",
     "text": [
      "\n",
      "AAPCSRAPSPIDHPRAEECGRAARDWQAAPPAAPVRDPLGEASWAPESGEDMENLYVQKKLQSVGTCFNREELPSVLQWPQGEELGATSVTNKPGLSAMRKETDQQVGERKLTYC\n",
      "AAPCSRAPSPIDHPRAEECGRAARDWQAAPPAAPVRDPLGEASWAPESGEDMENLYVQLKLQSVGTCFNREELPSVLQWPQGEELGATSVTNKPGLSAMRKETDQQVGERKLTYC\n"
     ]
    },
    {
     "data": {
      "application/vnd.jupyter.widget-view+json": {
       "model_id": "b1eeba434b1c482ba2f0a044a27742c5",
       "version_major": 2,
       "version_minor": 0
      },
      "text/plain": [
       "HBox(children=(IntProgress(value=0, max=577), HTML(value='')))"
      ]
     },
     "metadata": {},
     "output_type": "display_data"
    },
    {
     "name": "stdout",
     "output_type": "stream",
     "text": [
      "\n",
      "KSRDRDRHREITNKSKESTWALIHSVSDAFSGWLLMLLIGLLSGSLAGLIDISAWWHTDLGECICTGGFWFNHEHCCWNSEHVTFEERDKCPEWNSWWQLIISTDEGAFAYIVNY\n",
      "KSRDRDRHREITNKSKESTWALIHSVSDAFSGWLLMLLIGLLSGSLAGLIDISAHWMTDLKEGICTGGFWFNHEHCCWNSEHVTFEERDKCPEWNSWSQLIISTDEGAFAYIVNY\n"
     ]
    },
    {
     "data": {
      "application/vnd.jupyter.widget-view+json": {
       "model_id": "f05c0b259ea540c1a835267f0667d223",
       "version_major": 2,
       "version_minor": 0
      },
      "text/plain": [
       "HBox(children=(IntProgress(value=0, max=577), HTML(value='')))"
      ]
     },
     "metadata": {},
     "output_type": "display_data"
    },
    {
     "name": "stdout",
     "output_type": "stream",
     "text": [
      "\n",
      "WPIPAFEAPEEVPTTKKIKLSGLALDHKVTGDLFYTHVTEMGQRLSQKAPSLEDGSDAFMSPQDVRGTSENLPERSVPLRKSLCSPTFLWSLLTMMMQQLRIIFYMAVVNKMLEY\n",
      "WPIEAFPAPEEVNYTKKIKLSGLALDHKVTGDLFYTHVTTMGQRLSQKAPSLEDGSDAFMSPQDVRGTSENLPERSVPLRKSLCSPTFLWSLLTMGMTQLRIIFYMAAVNKMLEY\n"
     ]
    },
    {
     "data": {
      "application/vnd.jupyter.widget-view+json": {
       "model_id": "b0dbcf64f80740a3b85fb22f0375338a",
       "version_major": 2,
       "version_minor": 0
      },
      "text/plain": [
       "HBox(children=(IntProgress(value=0, max=577), HTML(value='')))"
      ]
     },
     "metadata": {},
     "output_type": "display_data"
    },
    {
     "name": "stdout",
     "output_type": "stream",
     "text": [
      "\n",
      "SIQERHTDHSFPNKECGIGQKQLQQIERQKKCLAFRNPGPQVADFNPTTRQQKKKARMSKMNEYFSTKYKIMRKYDKSGRLICNDADLCDCLEKNCLGCFYPCPKCNSNKCGPEC\n",
      "SIQERHTDHSFPEKNCQIGQKQLQQIERQLKCLAFRNPGPQVADFNPETRQQKKKARMSKMNEYFSTKYKIMRKYDKSGRLICNDADLCDCLEKNCLGCFYPCPKCNSNKCGPEC\n"
     ]
    },
    {
     "data": {
      "application/vnd.jupyter.widget-view+json": {
       "model_id": "a62a991af2c944b3b67cbda0c2ac461c",
       "version_major": 2,
       "version_minor": 0
      },
      "text/plain": [
       "HBox(children=(IntProgress(value=0, max=577), HTML(value='')))"
      ]
     },
     "metadata": {},
     "output_type": "display_data"
    },
    {
     "name": "stdout",
     "output_type": "stream",
     "text": [
      "\n",
      "SERLALRQRLCCRSFKWYLENVYPEMRVYNNTLTYGEVRNSKASAYCLDQGAEDGDRAILYPCHGMSSQLVRYSADGLLQLGPLGSTAFLPDSKCLVDDGTGRMPTLKKCEDVAR\n",
      "SERLALRQRLKCRSFKWYLENVYPEMRVYNNTLTYGEVRNSKASAYCLDQGAEDGDRAILYPCHGMSSQLVRYSADGLLQLGPLGSTAFLPDSKCLVDDGTGRMPTLKKCEDVAR\n"
     ]
    },
    {
     "data": {
      "application/vnd.jupyter.widget-view+json": {
       "model_id": "e15555f684bc4da2829f14eb6d4afc4d",
       "version_major": 2,
       "version_minor": 0
      },
      "text/plain": [
       "HBox(children=(IntProgress(value=0, max=577), HTML(value='')))"
      ]
     },
     "metadata": {},
     "output_type": "display_data"
    },
    {
     "name": "stdout",
     "output_type": "stream",
     "text": [
      "\n",
      "NRYTFNEDEGELPEWFVQEEKQHRIQRLPVGKKEVEHYRKRWREIRARPIKKVAEAKARKKRRMLKRLEQTRKKAEAVVNTVDISEREKVAQLRSLYKKAGLGKEKRHVTYVVAK\n",
      "NRYTFNEDEGELPEWFVQEEKQHRIRQLPVGKKEVEHYRKRWREINARPIKKVAEAKARKKRRMLKRLEQTRKKAEAVVNTVDISEREKVAQLRSLYKKAGLGKEKRHVTYVVAK\n"
     ]
    },
    {
     "data": {
      "application/vnd.jupyter.widget-view+json": {
       "model_id": "7a6df906265d42ff8540fb26505c78f7",
       "version_major": 2,
       "version_minor": 0
      },
      "text/plain": [
       "HBox(children=(IntProgress(value=0, max=577), HTML(value='')))"
      ]
     },
     "metadata": {},
     "output_type": "display_data"
    },
    {
     "name": "stdout",
     "output_type": "stream",
     "text": [
      "\n",
      "DITVPPKGASILQQAGVEMKSEFLATKAKQFQRSQQVVLTKLFNLFCCYIYHVLWHSEFPKPQILKHACKECLEKCIEQNITSISFPALGTGNMEIKKETAAEILFDEVLTFAKD\n",
      "DITVGPVAKSILQQAGVEMKSEFLATKAKQFQRSQLVLVTKGFNLFCKYIYHVLWHSEFPKPQILKHAMKECLEKCIEQNITSISFPALGTGNMEIKKETAAEILFDEVLTFAKD\n"
     ]
    },
    {
     "data": {
      "application/vnd.jupyter.widget-view+json": {
       "model_id": "af5589f99b5b42b1813273894dce5395",
       "version_major": 2,
       "version_minor": 0
      },
      "text/plain": [
       "HBox(children=(IntProgress(value=0, max=577), HTML(value='')))"
      ]
     },
     "metadata": {},
     "output_type": "display_data"
    },
    {
     "name": "stdout",
     "output_type": "stream",
     "text": [
      "\n",
      "GVLVCALWFFIPESPRWLISQGRFEEAEVIIRKAAKANGIVVPSTIFDPSELQDLSSKKQQSHNILDLLRTWNIRMVTIMSIMLWMTISVGYFGLSLDTPNLHGDIFVNCFLSAM\n",
      "GVLCVALWWFIPESPRWLISQGRFEEAEVIIRKAAKANGIVVPSTIFDPSELQDLSSKKQQSHNILDLLRTWNIRMVTIMSIMLWMTISVGYFGLSLDTPNLHGDIFVNCFLSAM\n"
     ]
    },
    {
     "data": {
      "application/vnd.jupyter.widget-view+json": {
       "model_id": "91b386cba8f64c06ba5c23e4f3a8117e",
       "version_major": 2,
       "version_minor": 0
      },
      "text/plain": [
       "HBox(children=(IntProgress(value=0, max=577), HTML(value='')))"
      ]
     },
     "metadata": {},
     "output_type": "display_data"
    },
    {
     "name": "stdout",
     "output_type": "stream",
     "text": [
      "\n",
      "SCQKGERVLLQYYLGHSSPKCLPPTLHLVCTQFSLYLVDERLLLVPMLWWNHGLPSPLLLARLLPPPRPSCVQPLLLGGQGGQLQLLHLAGEGASVPRLAGPPQSLPSRIDSLPA\n",
      "SCQKGERVLLTQYLGHSSPKCLPPTLHLVCTQFSLYLVDERLPLVPMLKWNHGLPSPLLLARLLPPPRPSCVQPLLLGGQGGQLQLLHLAGEGASVPRLAGPPQSLPSRIDSLPA\n"
     ]
    },
    {
     "data": {
      "application/vnd.jupyter.widget-view+json": {
       "model_id": "6abfedbb98014f4dbef0a42b588a1d2a",
       "version_major": 2,
       "version_minor": 0
      },
      "text/plain": [
       "HBox(children=(IntProgress(value=0, max=577), HTML(value='')))"
      ]
     },
     "metadata": {},
     "output_type": "display_data"
    },
    {
     "name": "stdout",
     "output_type": "stream",
     "text": [
      "\n",
      "EEDIASRYPTLETWQVKSRQNKTNKNSVSSCDQEHQSALEEAQKPPNNNVVIPECAHGGLYKPVQCHPSTGYCWVVLVDTGRPIPGTSTRYEQPKCDNTARAHPAKARDLYKGRQ\n",
      "EEDIASRYPTLWTEQVKSRQNKTNKNSVSSCDQEHQSALEEAKQPKNDNVVIPECAHGGLYKPVQCHPSTGYCWCVLVDTGRPIPGTSTRYEQPKCDNTARAHPAKARDLYKGRQ\n"
     ]
    },
    {
     "data": {
      "application/vnd.jupyter.widget-view+json": {
       "model_id": "531e18aad25e4c9991780de2e982d1d6",
       "version_major": 2,
       "version_minor": 0
      },
      "text/plain": [
       "HBox(children=(IntProgress(value=0, max=577), HTML(value='')))"
      ]
     },
     "metadata": {},
     "output_type": "display_data"
    },
    {
     "name": "stdout",
     "output_type": "stream",
     "text": [
      "\n",
      "SQLVLRRDSRSLEGSSDTALPLRRAGSLCSPLDEPVSPPSRAQRSRSLPQPKLGTQLPSWLLAPASRPQRRRPFLSGDEDPKASTLRVVVFGSDRISGKVARAYSNLRRLENNRP\n",
      "SQLVLRRDSRSLEGSSDTALPLRRAGSLCSPLDEPVSPPSRAQRSRSLPQPKLGTQLPSWLLAPASRPQRRRPFLSGDEDPKASTLRVVVFGSDRISGKVARAYSNLRRLENNRP\n"
     ]
    },
    {
     "data": {
      "application/vnd.jupyter.widget-view+json": {
       "model_id": "c49f1f1c33eb407d8dafa04c6d0844b3",
       "version_major": 2,
       "version_minor": 0
      },
      "text/plain": [
       "HBox(children=(IntProgress(value=0, max=577), HTML(value='')))"
      ]
     },
     "metadata": {},
     "output_type": "display_data"
    },
    {
     "name": "stdout",
     "output_type": "stream",
     "text": [
      "\n",
      "EEPVKKVLEKKFHTVSGSKCEIKVAQPKEVYQQQQYGSGGRGNNRGNGGGGGGGGGGGGQQSQWNQGYGNYWQQGGYYQGGGGPGYGYYDYSPGYYGYYGPGYDYQSGSTNYGSK\n",
      "EEPVKKVLEKKFHTVSGSKCEIKVAQPKEVYQQQQYGSGGRGNRNRGNRGSGGGGGGGGQSQSWNQGYGNYWNQGYGYQQGYGPGYGGYDYSPYGYYGYGPGYDYSQGSTNYGKS\n"
     ]
    },
    {
     "data": {
      "application/vnd.jupyter.widget-view+json": {
       "model_id": "39ef071ed183460480a0c750ec51d4ec",
       "version_major": 2,
       "version_minor": 0
      },
      "text/plain": [
       "HBox(children=(IntProgress(value=0, max=577), HTML(value='')))"
      ]
     },
     "metadata": {},
     "output_type": "display_data"
    },
    {
     "name": "stdout",
     "output_type": "stream",
     "text": [
      "\n",
      "HPTLLTEAPLNPKANREKMTQIMFETFNVPAMAVAIQAVLSLYASRGTTIIVLDSGDGVTHNVIIYEGYAHPAAIMRLDLAGRDLTDYMLKITTERSYFSVTTAEERIVRDIKEK\n",
      "HPTLLTEAPLNPKANREKMTQIMFETFNVPAMYVAIQAVLSLYASGRTTGIVLDSGDGVTHNVPIYEGYALPHAIMRLDLAGRDLTDYLMKILTERGYSFVTTAEREIVRDIKEK\n"
     ]
    },
    {
     "data": {
      "application/vnd.jupyter.widget-view+json": {
       "model_id": "6ca39e54c5484edfbf1ee2810bfaead9",
       "version_major": 2,
       "version_minor": 0
      },
      "text/plain": [
       "HBox(children=(IntProgress(value=0, max=577), HTML(value='')))"
      ]
     },
     "metadata": {},
     "output_type": "display_data"
    },
    {
     "name": "stdout",
     "output_type": "stream",
     "text": [
      "\n",
      "EVVTESEGKKEMNVFGGVVVCTGHHTNAHLLPESFPGIEKFKGFYHQSRYYKNPEGFTGKRVIIIGIGNSGGDLAVEISQTAKQVFLSTRRGAWILNRVGDYGYPADVLFSSRLT\n",
      "EVVTESEGKKEMNVFDGVMVCTGHHTNAHLPLESFPGIEKFKGQYFHSRDYKNPEGFTGKRVIIIGIGNSGGDLAVEISQTAKQVFLSTRRGAWILNRVGDYGYPADVLFSSRLT\n"
     ]
    },
    {
     "data": {
      "application/vnd.jupyter.widget-view+json": {
       "model_id": "3e94d47618734cd996167e9f60534e3f",
       "version_major": 2,
       "version_minor": 0
      },
      "text/plain": [
       "HBox(children=(IntProgress(value=0, max=577), HTML(value='')))"
      ]
     },
     "metadata": {},
     "output_type": "display_data"
    },
    {
     "name": "stdout",
     "output_type": "stream",
     "text": [
      "\n",
      "SMAETTMMPEEIELEMAKIQRLREVLVRRESELRFMMDQIDLCKDIMDLKQLQENLVAIPEKEKTKLQKQREDELIQKIHKLVQKRDFLVDDAEVERLREQEEDKEMADFLRIKL\n",
      "SMAETTMMPEEIELEMAKIQRLREVLVRRESELRFMMDDIQLCKDIMDLKQELQNLVAIPEKEKTKLQKQREDELIQKIHKLVQKRDFLVDDAEVERLREQEEDKEMADFLRIKL\n"
     ]
    },
    {
     "data": {
      "application/vnd.jupyter.widget-view+json": {
       "model_id": "103408440c0945569853debc0c7d9d9e",
       "version_major": 2,
       "version_minor": 0
      },
      "text/plain": [
       "HBox(children=(IntProgress(value=0, max=577), HTML(value='')))"
      ]
     },
     "metadata": {},
     "output_type": "display_data"
    },
    {
     "name": "stdout",
     "output_type": "stream",
     "text": [
      "\n",
      "NTLHDTGDKELKKFSLTSLELDSESTTELPLVEKFSYCSLSTPSLFANNNMEIFHPPQSTAASVAKESSLASSFLEETEEYIHSNAMEVCNNETISVSSYKIWKDDCLLMVWSVT\n",
      "NTLHDTGDKELKKFSLTSELLDSESLTELPLVEKFSYCSLSTPSLFANNNMEIFHPPQSTAASVAKESSLASSFLEETTEYIHSNAMEVCNNETISVSSYKIWKDDCLLMVWSVT\n"
     ]
    },
    {
     "data": {
      "application/vnd.jupyter.widget-view+json": {
       "model_id": "555e684c12a742099a01d9026aa10516",
       "version_major": 2,
       "version_minor": 0
      },
      "text/plain": [
       "HBox(children=(IntProgress(value=0, max=577), HTML(value='')))"
      ]
     },
     "metadata": {},
     "output_type": "display_data"
    },
    {
     "name": "stdout",
     "output_type": "stream",
     "text": [
      "\n",
      "MCIFATTLPWASVLRVWDMFFCEGVKIIFRVALVLLRHTLGSVEKLRSCQGMYETMEQLRNLPQQCMQEDFLVHEVTNLPVTEALIERENAAQLKKWRETREELQYRPSRRLHGS\n",
      "MCIFARTLPWASVLRVWDMFFCEGVKIIFRVALVLLRHTLGSVEKLRSCQGMYETMEQLRNLPQQCMQEDFLVHEVTNLPVTEALIERENAAQLKKWRETRGELQYRPSRRLHGS\n"
     ]
    },
    {
     "data": {
      "application/vnd.jupyter.widget-view+json": {
       "model_id": "4d48a39ac6fa4ce985a1e6067af05074",
       "version_major": 2,
       "version_minor": 0
      },
      "text/plain": [
       "HBox(children=(IntProgress(value=0, max=598), HTML(value='')))"
      ]
     },
     "metadata": {},
     "output_type": "display_data"
    },
    {
     "name": "stdout",
     "output_type": "stream",
     "text": [
      "\n",
      "GEKPYECHICHTRFTQSGTMKIHILQKHGENVPKYQCPHCATIIARKSDLRVHMRNLHAYSAAELKCRYCSAVFHERYALIQHQKTHKNEKRFKCKHCSYACKQERHMTAHIRTHT\n",
      "GEKPYECHICHTRFTQSGTMKIHILQKHGENVPKYQCPHCATIIARKSDLRVHMRNLHAYSAAELKCRYCSAVFHERYALIQHQKTHKNEKRFKCKHCSYACKQERHMTAHIRTHT\n"
     ]
    },
    {
     "data": {
      "application/vnd.jupyter.widget-view+json": {
       "model_id": "91b8371b2f514eed8263b00df71de2b6",
       "version_major": 2,
       "version_minor": 0
      },
      "text/plain": [
       "HBox(children=(IntProgress(value=0, max=598), HTML(value='')))"
      ]
     },
     "metadata": {},
     "output_type": "display_data"
    },
    {
     "name": "stdout",
     "output_type": "stream",
     "text": [
      "\n",
      "ARSWSPSSSASSSASPGRSQSPRAAAAALSQQQLLQERLRLERERKQQEELMKAFETPEEKRARRLAKKEAKERKKREKMGWGEEYMGYTTTFNPFGDNNLLGTFIWNKALEKKGI\n",
      "ARSWSPSSSASSSASPGRSQSPRAAAAALSQQQSLQERLRLREERKQQEELMKAFETPEEKRARRLAKKEAKERKKREKMGWGEEYMGYTNTDNPFGDNNLLGTFIWNKALEKKGI\n"
     ]
    },
    {
     "data": {
      "application/vnd.jupyter.widget-view+json": {
       "model_id": "bba6b31d03b64856ae02d1a1b8fbba8b",
       "version_major": 2,
       "version_minor": 0
      },
      "text/plain": [
       "HBox(children=(IntProgress(value=0, max=598), HTML(value='')))"
      ]
     },
     "metadata": {},
     "output_type": "display_data"
    },
    {
     "name": "stdout",
     "output_type": "stream",
     "text": [
      "\n",
      "ECGILSEELKNLVMNTGPYYFVKNLPLHELITPEFISTFIKKGSCYALTYNTHIDEDNTVALLPNGKLILSLDKDTYEETGLQGHPSFFSGRKIMKFIVSIDLMELSLNLDSKKYE\n",
      "ECGILSEELKNLVMNTGPYYFVKNLPLHELITPEFISTFIKKGSCYALTYNTHIDEDNTVALLPNGKLILSLDKDTYEETGLQGHPSQFSGRKIMKFIVSIDLMELSLNLDSKKYE\n"
     ]
    },
    {
     "data": {
      "application/vnd.jupyter.widget-view+json": {
       "model_id": "e54839168df44763ba8ea315beaa2b3d",
       "version_major": 2,
       "version_minor": 0
      },
      "text/plain": [
       "HBox(children=(IntProgress(value=0, max=621), HTML(value='')))"
      ]
     },
     "metadata": {},
     "output_type": "display_data"
    },
    {
     "name": "stdout",
     "output_type": "stream",
     "text": [
      "\n",
      "VEPKGSLEVNCSTTCNQPEVGGLETSLDKILLDEQAQEKHILVSNISHDTVLQCHFTCSGKQESMNSNVSVYQPPRQVILTLQPTLVAVGKSFTIECRVPTVEPLDSLTLFLFRGNE\n",
      "VEPKGSLEVNCSTTCNQPEVGGLETSLDKILLDEQAQWKHYLVSNISHDTVLQCHFTCSGKQESMNSNVSVYQPPRQVILTLQPTLVAVGKSFTIECRVPTVEPLDSLTLFLFRGNE\n"
     ]
    },
    {
     "data": {
      "application/vnd.jupyter.widget-view+json": {
       "model_id": "2cfc8f604c774dfdb3ad42eda599babe",
       "version_major": 2,
       "version_minor": 0
      },
      "text/plain": [
       "HBox(children=(IntProgress(value=0, max=621), HTML(value='')))"
      ]
     },
     "metadata": {},
     "output_type": "display_data"
    },
    {
     "name": "stdout",
     "output_type": "stream",
     "text": [
      "\n",
      "RKGPFFGLAMFANMPVESELERGARMKSVGILSPSYLTLRYYMHFLENQVRHQLEMPGHYSHLAAFYEDKKGVLHAGPGRGSSLPPVYWLPSIHRYMYPMKKITQPAGCMSQFIKFF\n",
      "RKGPFFGLACFANMPVESELERGARMKSVGILSPSYTLLYRYMHFLENQVRHQLEMPGHYSHLAAFYEDKKGVLHAGPGRGSSLPPVYWLPSIHRYMYPEMKITHPAGCMSQFIKFF\n"
     ]
    },
    {
     "data": {
      "application/vnd.jupyter.widget-view+json": {
       "model_id": "c7087bcc73574264baa40a740693eaca",
       "version_major": 2,
       "version_minor": 0
      },
      "text/plain": [
       "HBox(children=(IntProgress(value=0, max=621), HTML(value='')))"
      ]
     },
     "metadata": {},
     "output_type": "display_data"
    },
    {
     "name": "stdout",
     "output_type": "stream",
     "text": [
      "\n",
      "PDEKCPPKDINNHFVQYYRDALAGNVVSNLGHSFFSQSFLGSKEGGGFLYVTSTYQSLDDLVLPTPPYLFGILIQKWETPWAKVFPIRLMLRLGAEYRLYPCPLFSVRFRKPLFGET\n",
      "PDEKCLPKDIFNHFVQLYRDALAGNVVSNLGHSFFSQSFLGSKEHGGFLYVTSTYQSLQDLVLPTPPYLFGILIQKWETPWAKVFPIRLMLRLGAEYRLYPCPLFSVRFRKPLFGET\n"
     ]
    },
    {
     "data": {
      "application/vnd.jupyter.widget-view+json": {
       "model_id": "ae78ddaf160248ceaea1629e5c0a602a",
       "version_major": 2,
       "version_minor": 0
      },
      "text/plain": [
       "HBox(children=(IntProgress(value=0, max=621), HTML(value='')))"
      ]
     },
     "metadata": {},
     "output_type": "display_data"
    },
    {
     "name": "stdout",
     "output_type": "stream",
     "text": [
      "\n",
      "SCGSCGGSKGVCGSCGGCKGGCGSCGSKGGCCSGSCCVPVCCSSSGGSCGSGGGVCGFRGGSKGGCGSCGSCCCQSYKPCCPSSGCGSSCQQSSCCKPSCSQSSCCCPCCSQSSCCK\n",
      "SCGSCGGSKGVCGSCGGCKGGCGSCGGSKGGCGSSCCVPVCCSSSCGSCGGSKGVCGFRGGSKGGCGSCGCSQCSCYKPCCCSSGCGSSCCQSSCCKPSCSQSSCCKPCCSQSSCCK\n"
     ]
    },
    {
     "data": {
      "application/vnd.jupyter.widget-view+json": {
       "model_id": "e72224cd71a944a89b4e36ec94ac17a2",
       "version_major": 2,
       "version_minor": 0
      },
      "text/plain": [
       "HBox(children=(IntProgress(value=0, max=621), HTML(value='')))"
      ]
     },
     "metadata": {},
     "output_type": "display_data"
    },
    {
     "name": "stdout",
     "output_type": "stream",
     "text": [
      "\n",
      "STPITIAYRGRSRNKTQDFEELSQIRSAEPSQSFSPNLGSPSPPETPNLSHCSVCIGKYLLLEPLEGDVHFRAVHLHSGEELVCKVDFISCYSESLAPCFCLSAHSNINQTTEIILG\n",
      "STPITIARYGRSRNKTQDFEELSSIRSAEPSQSFSPNLGSPSPPETPNLSHCVSCIGKYLLLEPLEGDHVFRAVHLHSGEELVCKVFDISCYQESLAPCFCLSAHSNINQITEIILG\n"
     ]
    },
    {
     "data": {
      "application/vnd.jupyter.widget-view+json": {
       "model_id": "1c87cb71dbf84658aca73a89d0fd31df",
       "version_major": 2,
       "version_minor": 0
      },
      "text/plain": [
       "HBox(children=(IntProgress(value=0, max=621), HTML(value='')))"
      ]
     },
     "metadata": {},
     "output_type": "display_data"
    },
    {
     "name": "stdout",
     "output_type": "stream",
     "text": [
      "\n",
      "AAQALVSNGCRGSIINISSIVGKVGNVGQTNYAASKAGVIGLTQTAARELGRHGIRCNSVLPGFIATPMTQKVPQKVVDKITEMIPMGHLGDPEDVADVVAFLASEDSGYITGTSVE\n",
      "AAQALVSNGCRGSIINISSIVGKVGNVGQTNYAASKAGVIGLTQTAARELGRHGIRCNSVLPGFIATPMTQKVPQKVVDKITEMIPMGHLGDPEDVADVVAFLASEDSGYITGTSVE\n"
     ]
    },
    {
     "data": {
      "application/vnd.jupyter.widget-view+json": {
       "model_id": "9b98d7f9865e4e2cb0c8231116ecd4f4",
       "version_major": 2,
       "version_minor": 0
      },
      "text/plain": [
       "HBox(children=(IntProgress(value=0, max=646), HTML(value='')))"
      ]
     },
     "metadata": {},
     "output_type": "display_data"
    },
    {
     "name": "stdout",
     "output_type": "stream",
     "text": [
      "\n",
      "LFHYCIGNGFSRELTRRGSFTDFSTLPSGAFKAASFFIGLSMMLIIACIICFTLFFFCNTATVYKICAWMQLTSAACLVLGCAIFPDGWDSDEVKRMVKEKTDGTTLKACSVRWAIIL\n",
      "LFHYCIGNGFSRELTCRGSFTDFSTLPSGAFKAASFFIGLSMMLIIACIICFTLFFFCNTATVYKICAWMQLTSAACLVLGCMIFPDGWDSDEVKRMCGEKTDKYTLGACSVRWAYIL\n"
     ]
    },
    {
     "data": {
      "application/vnd.jupyter.widget-view+json": {
       "model_id": "c7eb8335a5504f6b82c7483ea600ed33",
       "version_major": 2,
       "version_minor": 0
      },
      "text/plain": [
       "HBox(children=(IntProgress(value=0, max=646), HTML(value='')))"
      ]
     },
     "metadata": {},
     "output_type": "display_data"
    },
    {
     "name": "stdout",
     "output_type": "stream",
     "text": [
      "\n",
      "RCKLSRTGPEFENVIKRLLCARTFHTRIGGDLTHGIINRGRRANAEQMGLQGSAQHFNIFPLLDWTDGKKTEVQKREGTDSIPAAGRSGTANQPSIAPHRCLFSRGITALDGLKRGRG\n",
      "RCKLSRTGPEFENVIKRLLCARTFHTRIGGDLTHGIINRGRRANAEQMGLQGSAQHFNIFPLDLWTQGKKTEVQKREGTDSIPAAGRSGTANQPSIAPHRCLFSRGITALDGLKRGRG\n"
     ]
    },
    {
     "data": {
      "application/vnd.jupyter.widget-view+json": {
       "model_id": "478f5644d26f4839af97ffa67e3372e0",
       "version_major": 2,
       "version_minor": 0
      },
      "text/plain": [
       "HBox(children=(IntProgress(value=0, max=646), HTML(value='')))"
      ]
     },
     "metadata": {},
     "output_type": "display_data"
    },
    {
     "name": "stdout",
     "output_type": "stream",
     "text": [
      "\n",
      "VQAMQISSEKEEDDNEKRQDPGDNEWWGGGGGGGMEKSSGPWNKTAPVQAPPAPVITTETPEAETTSGVRYPPGARLTTTRKTPQGPPEIYSDTQFPSLQDTAKHVESRKDKEMEKSF\n",
      "VQAMQISSEKEEDDNEKRQDPGDNWEEGGGGGGGMEKSSGPWNKTAPVQAPPAPVIVTETPEPAMTSGVYRPPGARLTTTRKTPQGPPEIYSDTQFPSLQSTAKHVESRKDKEMEKSF\n"
     ]
    },
    {
     "data": {
      "application/vnd.jupyter.widget-view+json": {
       "model_id": "100cd56efebe4a90972a5dde48dde84c",
       "version_major": 2,
       "version_minor": 0
      },
      "text/plain": [
       "HBox(children=(IntProgress(value=0, max=646), HTML(value='')))"
      ]
     },
     "metadata": {},
     "output_type": "display_data"
    },
    {
     "name": "stdout",
     "output_type": "stream",
     "text": [
      "\n",
      "MPPPPTTQGAPRTSSFTPTTLTNGTSHSPTALNGASSPPNGFSNGPSSSSSSSLANQQLPPACGARQLSKLKRFLTTLQQFGNDISPEIGERVRTLVLGLVNSTLTIEEFHSKLQEAT\n",
      "MPPPPTTQGAPRTSSFTPTTLTNGTSHSPTALNGAPSPPNGFSNGPSSSSSSSLANQQLPPACGARQLSKLKRFLTTLQQFGNDISPEIGERVRTLVLGLVNSTLTIEEFHSKLQEAT\n"
     ]
    },
    {
     "data": {
      "application/vnd.jupyter.widget-view+json": {
       "model_id": "70bcc292bd0746dc8e8b43f04d0592ae",
       "version_major": 2,
       "version_minor": 0
      },
      "text/plain": [
       "HBox(children=(IntProgress(value=0, max=646), HTML(value='')))"
      ]
     },
     "metadata": {},
     "output_type": "display_data"
    },
    {
     "name": "stdout",
     "output_type": "stream",
     "text": [
      "\n",
      "AFSPAAGNTWRTVADGVQLETHTVQGLSPNTIYLFLVRAVGAWGSSEPSPVSEPVRTQDSSPSRPVEDPWRGQQGLAEVAVRLQEPIVLGPRTLQVSWTVDGPVQLVQGFRVSWRVAG\n",
      "AFSPAAGNTWRTVADGVQLETHTVSGLQPNTIYLFLVRAVGAWGLSEPSPVSEPVRTQDSSPSRPVEDPWRGQQGLAEVAVRLQEPIVLGPRTLQVSWTVDGPVQLVQGFRVSWRVAG\n"
     ]
    },
    {
     "data": {
      "application/vnd.jupyter.widget-view+json": {
       "model_id": "6be3617920894d39b014f0531e6af8cf",
       "version_major": 2,
       "version_minor": 0
      },
      "text/plain": [
       "HBox(children=(IntProgress(value=0, max=646), HTML(value='')))"
      ]
     },
     "metadata": {},
     "output_type": "display_data"
    },
    {
     "name": "stdout",
     "output_type": "stream",
     "text": [
      "\n",
      "SPVILQFGHAETLLPLLLLMGYFKDKEPLTAYYNKKQMHRKFRSGLIVPYASNLIFVLYHMENKKTPKEQFRVQMLLNEKVLPLAYSQETVSFYEDLKNHYKDILQSCQTSEECELAR\n",
      "SPVILQFGHAETLLPLLSLMGYFKDKEPLTAYNYKKQMHRKFRSGLIVPYASNLIFVLYHCENAKTPKEQFRVQMLLNEKVLPLAYSQETVSFYEDLKNHYKDILQSCQTSEECELAR\n"
     ]
    },
    {
     "data": {
      "application/vnd.jupyter.widget-view+json": {
       "model_id": "82e03c879e4044059648248ac445aff6",
       "version_major": 2,
       "version_minor": 0
      },
      "text/plain": [
       "HBox(children=(IntProgress(value=0, max=646), HTML(value='')))"
      ]
     },
     "metadata": {},
     "output_type": "display_data"
    },
    {
     "name": "stdout",
     "output_type": "stream",
     "text": [
      "\n",
      "SNICAVAAVQGGKVGRKHGIKRGRRPSIRSPAQRARGPWIHESKHPAFAKQQINLEMPNSRATTELAWVCSSTSRKKKWARSLTLSTAPLSPPPSLVHCEDCSCLPGCHSGDLYNLAP\n",
      "SNICAVFAVQGGKVGRKHGIKRGRRPSIRSPAQRARGPWIHESKHPAFAKQQINLEMPNSRATTELAWVCSSTSRKKKWARSLTLSTAPLSPPPSLVHCEDCSCLPGCHSGDLYNLAP\n"
     ]
    },
    {
     "data": {
      "application/vnd.jupyter.widget-view+json": {
       "model_id": "645d3fd368344ee1815c3079f4172959",
       "version_major": 2,
       "version_minor": 0
      },
      "text/plain": [
       "HBox(children=(IntProgress(value=0, max=646), HTML(value='')))"
      ]
     },
     "metadata": {},
     "output_type": "display_data"
    },
    {
     "name": "stdout",
     "output_type": "stream",
     "text": [
      "\n",
      "LLCTLFISLRSSDHRQVNSLMQTEECPPMLDATQQQQQVAACEGRAFDNEQDGVTYYSSFFHFCLLLASLHVMTMLTNWYGPKETRGAISTTWAVVVKACASWAGLLLYLWTLVAPLL\n",
      "LLCTLFISLRSSDHRQVNSLMQTEECPPMLDATQQQQQVAACEGRAFDNEQDGVTYSYSFFHFCLVLASLHVMMTLTNWYKPGETRKMISTWTAVWVKICASWAGLLLYLWTLVAPLL\n"
     ]
    },
    {
     "data": {
      "application/vnd.jupyter.widget-view+json": {
       "model_id": "8481ce1e6029473093921eaebbc13019",
       "version_major": 2,
       "version_minor": 0
      },
      "text/plain": [
       "HBox(children=(IntProgress(value=0, max=646), HTML(value='')))"
      ]
     },
     "metadata": {},
     "output_type": "display_data"
    },
    {
     "name": "stdout",
     "output_type": "stream",
     "text": [
      "\n",
      "VLHRRRRYKKKQVEEQMRDNSPVHLQYSMYGHKTTHHTTERPSASLYEQHMVSPMVHVYRSPSFGPKHLEEEEERNEKEGSDAKQQQRSLLEQENHSPLTGSNMKYKTTNQSTEFLSF\n",
      "VLHRRRRYKKKQVDEQMRDNSPVHLQYSMYGHKTTHHTTERPSASLYEQHMVSPMVHVYRSPSFGPKHLEEEEERNEKEGSDAKHLQRSLLEQENHSPLTGSNMKYKTTNQSTEFLSF\n"
     ]
    },
    {
     "data": {
      "application/vnd.jupyter.widget-view+json": {
       "model_id": "a2281027cfe64961bb912d1a5c6c28c0",
       "version_major": 2,
       "version_minor": 0
      },
      "text/plain": [
       "HBox(children=(IntProgress(value=0, max=646), HTML(value='')))"
      ]
     },
     "metadata": {},
     "output_type": "display_data"
    },
    {
     "name": "stdout",
     "output_type": "stream",
     "text": [
      "\n",
      "DVLTTYVTILIGDFLRACFVRFCNYCWCWDLEEGYYSYTEFDISGNVLALIFNQGMIMWGSFFAPSLPGINILRRHTSCYFQMWAVMCCNVPEARVFKASRSNNFYLGMLLLILFLST\n",
      "DVLTTYVTILIGDFLRACFVRFCNYCWCWDLEYGYPSYTEFDISGNVLALIFNQGMIWMGSFFAPSLPGINILRLHTSMYFQCWAVMCCNVPEARVFKASRSNNFYLGMLLLILFLST\n"
     ]
    },
    {
     "data": {
      "application/vnd.jupyter.widget-view+json": {
       "model_id": "45195f5f4d324e76addf78161779e773",
       "version_major": 2,
       "version_minor": 0
      },
      "text/plain": [
       "HBox(children=(IntProgress(value=0, max=646), HTML(value='')))"
      ]
     },
     "metadata": {},
     "output_type": "display_data"
    },
    {
     "name": "stdout",
     "output_type": "stream",
     "text": [
      "\n",
      "GELHHDIDGFNEEKSNWMRYVNPAHSPREQNLAACQNGMINYFYIIKPIPANQELLVWYCRDFAERLHYPPPGTLTMTMLTQTQSSLKQPSTKKNELCPKNVPKREYSVKEILKLDSN\n",
      "GELHHFIDGFNEEKSNWMRYVNPAHSPREQNLAACQNGMNIYFYTIKPIPANQELLVWYCRDFAERLHYPYPGELTMMNLTQTQSSLKQPSTEKNELCPKNVPKREYSVKEILKLDSN\n"
     ]
    },
    {
     "data": {
      "application/vnd.jupyter.widget-view+json": {
       "model_id": "def9c0cbc70448ad82a52de1ffdb18ba",
       "version_major": 2,
       "version_minor": 0
      },
      "text/plain": [
       "HBox(children=(IntProgress(value=0, max=646), HTML(value='')))"
      ]
     },
     "metadata": {},
     "output_type": "display_data"
    },
    {
     "name": "stdout",
     "output_type": "stream",
     "text": [
      "\n",
      "LIFNKIHHLLNQFCSAHTLQEVYIELFDQIDENLKQALQKDLNLMAPGLTIQAVRVTKPKIPEAIRRNFELMEAEKTKLLIAAQKQKVVEKEAETERKKAVIEAEKIAQVAKIRFQQK\n",
      "LIFNKIHHELNQFCSAHTLQEVYIELFDQIDENLKQALQKDLNLMAPGLTIQAVRVTKPKIPEAIRRNFELMEAEKTKLLIAAQKQKVVEKEAETERKKAVIEAEKIAQVAKIRFQQK\n"
     ]
    },
    {
     "data": {
      "application/vnd.jupyter.widget-view+json": {
       "model_id": "a6585245ddae4a3d86f36245c8a569c0",
       "version_major": 2,
       "version_minor": 0
      },
      "text/plain": [
       "HBox(children=(IntProgress(value=0, max=646), HTML(value='')))"
      ]
     },
     "metadata": {},
     "output_type": "display_data"
    },
    {
     "name": "stdout",
     "output_type": "stream",
     "text": [
      "\n",
      "VDLHTAGQDEYSILPYSFIIGVHGYVLVYSVTSLHQSVSIESLYQKLHEGHGKTRVPVVLVGNKADLSPEREVQAVEGKKLAESWGATFMESSARENQLTQGIFTKVIQEIARVENSY\n",
      "HLVDTAGQDEYSILPYSFIIGVHGYVLVYSVTSLHSFQVIESLYQKLHEGHGKTRVPVVLVGNKADLSPEREVQAVEGKKLAESWGATFMESSARENQLTQGIFTKVIQEIARVENSY\n"
     ]
    },
    {
     "data": {
      "application/vnd.jupyter.widget-view+json": {
       "model_id": "be890f1ebcdd42338a572978a1a790ab",
       "version_major": 2,
       "version_minor": 0
      },
      "text/plain": [
       "HBox(children=(IntProgress(value=0, max=673), HTML(value='')))"
      ]
     },
     "metadata": {},
     "output_type": "display_data"
    },
    {
     "name": "stdout",
     "output_type": "stream",
     "text": [
      "\n",
      "VTVNGNLVDYHTIHPSLPMENGPGAADLYSTPQYRWEPSDESSRKREEEEEEKEEFEEERSREEKRSIKHHAMVSVFQFIMKQSYICALIAMMAWSITYHSWLTFVLLIWSCTLWMIRN\n",
      "VTVNGNPVDYHTIHPSLPMENGPGKADLYSTPQYRWEPSDESSEKREEEEEEKEEFEEERSREEKRSIKVHAMVSVFQFIMKQSYICALIAMMAWSITYHSWLTFVLLIWSCTLWMIRN\n"
     ]
    },
    {
     "data": {
      "application/vnd.jupyter.widget-view+json": {
       "model_id": "9d5f137777ba4f56a125bda5274ccd66",
       "version_major": 2,
       "version_minor": 0
      },
      "text/plain": [
       "HBox(children=(IntProgress(value=0, max=673), HTML(value='')))"
      ]
     },
     "metadata": {},
     "output_type": "display_data"
    },
    {
     "name": "stdout",
     "output_type": "stream",
     "text": [
      "\n",
      "PSGPPGKPGYGSPGLQGEPGLPGPPGPSAVGKPGVPGLPGKPGERGPYGPKGDVGPAGLPGPRGPPGPPGIPGPAGISVPGKPGQQGPTGAPGPRGFPGEKGAPGVPGMNGQKGEMGYG\n",
      "PSGPPGKPGYGSPGLQGEPGLPGPPGPSAVGKPGVPGLPGKPGERGPYGPKGDVGPAGLPGPRGPPGPPGIPGPAGISVPGKPGQQGPTGAPGPRGFPGEKGAPGVPGMNGQKGEMGYG\n"
     ]
    },
    {
     "data": {
      "application/vnd.jupyter.widget-view+json": {
       "model_id": "9dea3c5235764ed894ec977082e65973",
       "version_major": 2,
       "version_minor": 0
      },
      "text/plain": [
       "HBox(children=(IntProgress(value=0, max=673), HTML(value='')))"
      ]
     },
     "metadata": {},
     "output_type": "display_data"
    },
    {
     "name": "stdout",
     "output_type": "stream",
     "text": [
      "\n",
      "FYCDMPAVMRLACADTRVHKTALYIISFIVLSIPLSLISISYVFIVVAILRIRSAEGRQQAYSTCSSHILVVLLQYGCTSFIYLSPSSSYSPEMGRVVSVAYTFITPINNPLIYSLRNK\n",
      "FYCDMPAVMRLACADTRVHKTALYIISFIVLSIPLSLISISYVFIVVAILRIRSAEGRQQAYSTCSSHILVVLLQYGCTSFIYLSPSSSYSPEMGRVVSVAYTFITPILNPLIYSLRNK\n"
     ]
    },
    {
     "data": {
      "application/vnd.jupyter.widget-view+json": {
       "model_id": "3a30ed4766934833b1061cfc1713b1ab",
       "version_major": 2,
       "version_minor": 0
      },
      "text/plain": [
       "HBox(children=(IntProgress(value=0, max=673), HTML(value='')))"
      ]
     },
     "metadata": {},
     "output_type": "display_data"
    },
    {
     "name": "stdout",
     "output_type": "stream",
     "text": [
      "\n",
      "LATCYFFTIEFGLCKQEGQRRAYGAGLLSSIGELKHALSDKAVCKAQDPKTTCLQECLITTFQEAYFVSESFEEAKEKMRDFAKSITRPFSVYFNPYTQSIEILKDTRSIENVVQDLRS\n",
      "LATCYFFTIEFGLCKQEGQLRAYGAGLLSSIGELKHALSDKACVKAFDPKTTCLQECLITTFQEAYFVSESFEEAKEKMRDFAKSITRPFSVYFNPYTQSIEILKDTRSIENVVQDLRS\n"
     ]
    },
    {
     "data": {
      "application/vnd.jupyter.widget-view+json": {
       "model_id": "d99199adf3734192893706f93510246d",
       "version_major": 2,
       "version_minor": 0
      },
      "text/plain": [
       "HBox(children=(IntProgress(value=0, max=673), HTML(value='')))"
      ]
     },
     "metadata": {},
     "output_type": "display_data"
    },
    {
     "name": "stdout",
     "output_type": "stream",
     "text": [
      "\n",
      "SQENYGSSMGGPNRNVTVTQTPSSGDWGLNNSKAGREMMMNSNSGMRPGGDYNTSLPRPALGGSIPTLPLRSNSIPGARPVLQQQQQMLQMEGPEIPGGMGANPYGQAAASNQLGSWPD\n",
      "SQENYGSSMGGPNRNVTVTQTPSSGDWGLPNSKAGRMEPMNSNSMGRPGGDYNTSLPRPALGGSIPTLPLRSNSIPGARPVLQQQQQMLQMRPGEIPMGMGANPYGQAAASNQLGSWPD\n"
     ]
    },
    {
     "data": {
      "application/vnd.jupyter.widget-view+json": {
       "model_id": "45abd31f07bc44cca1dd74f084420d90",
       "version_major": 2,
       "version_minor": 0
      },
      "text/plain": [
       "HBox(children=(IntProgress(value=0, max=673), HTML(value='')))"
      ]
     },
     "metadata": {},
     "output_type": "display_data"
    },
    {
     "name": "stdout",
     "output_type": "stream",
     "text": [
      "\n",
      "CCKFCKQVLSSRGMKAVLLADTEIDLFSTDPIPTNAVDFTGRCYFTKICKCKLKDIACLKCGNIVGYHVIVPCSSCLPSCNNGHFWMFHSQAVYDINRLDSTGVNILLWGNLPEIEEST\n",
      "CCKFCKQVLSSRGMKAVLLADTEIDLFSTDIPPTNAVDFTGRCYFTKICKCKLKDIACLKCGNIVGYHVIVPCSSCLPSCNNGHFWMFHSQAVYDINRLDSTGVNILLWGNLPEIEEST\n"
     ]
    },
    {
     "data": {
      "application/vnd.jupyter.widget-view+json": {
       "model_id": "31e33cb2b62b410cbd1ed06f2412fb4c",
       "version_major": 2,
       "version_minor": 0
      },
      "text/plain": [
       "HBox(children=(IntProgress(value=0, max=673), HTML(value='')))"
      ]
     },
     "metadata": {},
     "output_type": "display_data"
    },
    {
     "name": "stdout",
     "output_type": "stream",
     "text": [
      "\n",
      "GQVWIALYNLLLSPEAQARYCLTSFKAARLLKLRAFLTDTLLDQLPNLAHLQSFLAHLTLTETQPPKKDLVLEQIPEIWERLERERNGKIQAIAKHQLQHVFSPSEQDLRLQARRWAET\n",
      "GQVWIALYNLLLSPEAQARYCLTSFAKGRLLKLRAFLTDTLLDQLPNLAHLQSFLAHLTLTETQPPKKDLVLEQIPEIWERLERENRGKWQAIAKHQLQHVFSPSEQDLRLQARRWAET\n"
     ]
    },
    {
     "data": {
      "application/vnd.jupyter.widget-view+json": {
       "model_id": "a409569d8fc24537840e81f7bf14e170",
       "version_major": 2,
       "version_minor": 0
      },
      "text/plain": [
       "HBox(children=(IntProgress(value=0, max=673), HTML(value='')))"
      ]
     },
     "metadata": {},
     "output_type": "display_data"
    },
    {
     "name": "stdout",
     "output_type": "stream",
     "text": [
      "\n",
      "GKTAIIRQFLFGDYPERHRPTDGPRLYRPAVLLDGAVYDLSIRDGDDAGPGSSPGGPEEWPDAKDWSLQDTDAFVLVYDICSPDSFDYVKALRQRIAETRPAGAPEAPILVVGNKRDRQ\n",
      "GKTAIIRQFLFGDYPERHRPTDGPRLYRPAVLLDGAVYDLSIRDGDVAGPGSSPGGPEEWPDAKDWSLQDTDAFVLVYDICSPDSFDYVKALRQRIAETRPAGAPEAPILVVGNKRDRQ\n"
     ]
    },
    {
     "data": {
      "application/vnd.jupyter.widget-view+json": {
       "model_id": "b33a1ec521e44ab697eb2b6cd08d65f1",
       "version_major": 2,
       "version_minor": 0
      },
      "text/plain": [
       "HBox(children=(IntProgress(value=0, max=673), HTML(value='')))"
      ]
     },
     "metadata": {},
     "output_type": "display_data"
    },
    {
     "name": "stdout",
     "output_type": "stream",
     "text": [
      "\n",
      "SLSQQKFCKRKLQEKIPAEALDFTTKLPRVLSLYIFSFLDPRSLCRCAQVCWHWKNLAELDQLWCLKMLRFNWYINFSPTPFEQGIWKKHYIQMVKELHITKPKTPPKDGFVIADVQLV\n",
      "SLSQQKFCCRKLQEKIPAEALDFTTKLPRVLSLYIFSFLDPRSLCRCAQVCWHWKNLAELDQLWMLKCLRFNWYINFSPTPFEQGIWKKHYIQMVKELHITKPKTPPKDGFVIADVQLV\n"
     ]
    },
    {
     "data": {
      "application/vnd.jupyter.widget-view+json": {
       "model_id": "48fa38a31e9f4875aa518d9ff65e00c0",
       "version_major": 2,
       "version_minor": 0
      },
      "text/plain": [
       "HBox(children=(IntProgress(value=0, max=673), HTML(value='')))"
      ]
     },
     "metadata": {},
     "output_type": "display_data"
    },
    {
     "name": "stdout",
     "output_type": "stream",
     "text": [
      "\n",
      "GETHLWSQQVSEDGKPHPFKINLESEPQDGNYFHEKHNIRPKFVVIPGRSSGCSTPSGIDCGSGRSTPSSVSTVSTICPGDLVVAAKLAPNIPLMEELLGKKIVHQAFTNPMQLYSDDN\n",
      "GETHLWSPQVSEDGKAHPFKINLESEPQDGNYFEHKHNIRPKPFVIPGRSSGCSTPSGIDCGSGRSTPSSVSTVSTICPGDLKVAAKLAPNIPLEMELPGVKIVHAQFNTPMQLYSDDN\n"
     ]
    },
    {
     "data": {
      "application/vnd.jupyter.widget-view+json": {
       "model_id": "c43837ccf2984e0a97b9065ae543d1f6",
       "version_major": 2,
       "version_minor": 0
      },
      "text/plain": [
       "HBox(children=(IntProgress(value=0, max=673), HTML(value='')))"
      ]
     },
     "metadata": {},
     "output_type": "display_data"
    },
    {
     "name": "stdout",
     "output_type": "stream",
     "text": [
      "\n",
      "MRPVDADEAREPREEPGSPLSPAPRAGRENLASLERERARAHWRRAALKKEIQSLLDAIKSEVEAEERGARAPAPRPRAAEEERVARLCAEAERKAAEAAMRGRRIVELHQRIAGCECC\n",
      "MRPVDADEAREPREEPGSPLSPAPRAGRENLASLERERARAHWRARRKLLEIQSLLDAIKSEVEAEERGARAPAPRPRAEAEERVARLCAEAERKAAEAARMGRRIVELHQRIAGCECC\n"
     ]
    },
    {
     "data": {
      "application/vnd.jupyter.widget-view+json": {
       "model_id": "faab8354a40940df986489a7e5eb076c",
       "version_major": 2,
       "version_minor": 0
      },
      "text/plain": [
       "HBox(children=(IntProgress(value=0, max=673), HTML(value='')))"
      ]
     },
     "metadata": {},
     "output_type": "display_data"
    },
    {
     "name": "stdout",
     "output_type": "stream",
     "text": [
      "\n",
      "GNEEELAFRKAKIRHPLATFFHLFFRSSAVVTYVSCDWFSKSFVGCFVMVLLLLSLDFWSVKNVTGRLLVGLRWWNQIDEDGKSWHIFEARKVSPNSIAATEAEARIFWLGLIICPMIW\n",
      "GNEEELAFRKAKIRHPLATFFHLFFRVSAIVTYVSCDWFSKSFVGCFVMVLLLLSLDFWSVKNVTGRLLVGLRWWNQIDEDGKSHWIFEARKVSPNSIAATEAEARIFWLGLIICPMIW\n"
     ]
    },
    {
     "data": {
      "application/vnd.jupyter.widget-view+json": {
       "model_id": "68d4a06527894911bf3aae5aaa9c554c",
       "version_major": 2,
       "version_minor": 0
      },
      "text/plain": [
       "HBox(children=(IntProgress(value=0, max=673), HTML(value='')))"
      ]
     },
     "metadata": {},
     "output_type": "display_data"
    },
    {
     "name": "stdout",
     "output_type": "stream",
     "text": [
      "\n",
      "LLLTVMAFDQYLAICRPLLYPNIMTGHLYAKLVILCWVCGFLWFLIPIVLISQKPFCGPNIIDHVVCDPGPLFALDCVSAPRIQLFCTTLSSLVIFGNFLFIIGSYTLVLKALLGMPSS\n",
      "LLLTVMAFDQYLAICRPLLYPNIMTGHLYAKLVILCWVCGFLWFLIPIVLISQKPFCGPNIIDHVVCDPGPLFALDCVSAPRIQLFCYTLSSLVIFGNFLFIIGSYTLVLKAVLGMPSS\n"
     ]
    },
    {
     "data": {
      "application/vnd.jupyter.widget-view+json": {
       "model_id": "335b78025a01488a9ba4d0bf653ea5bb",
       "version_major": 2,
       "version_minor": 0
      },
      "text/plain": [
       "HBox(children=(IntProgress(value=0, max=673), HTML(value='')))"
      ]
     },
     "metadata": {},
     "output_type": "display_data"
    },
    {
     "name": "stdout",
     "output_type": "stream",
     "text": [
      "\n",
      "SSESQLASTESDKPTTGRVYESDSSNHCMLSPSSSGHLADSDTLSSAEENEPSQAETAVEGDPGGVSGATVGRKSRRSRSESETSMMAAKKNRQSDDKQNGRVAKVKGHRSQKHKEIIR\n",
      "SSESQLASTESDKPTTGRVYESDSSNHCMLSPSSSGHLADSDTLSSAEENEPSQAETAVEGDPSGVSGATVGRKSRRSRSESETSTMAAKKNRQSSDKQNGRVAKVKGHRSQKHKERIR\n"
     ]
    },
    {
     "data": {
      "application/vnd.jupyter.widget-view+json": {
       "model_id": "e16ee9d1bf464333b0f5292a4ef584cc",
       "version_major": 2,
       "version_minor": 0
      },
      "text/plain": [
       "HBox(children=(IntProgress(value=0, max=673), HTML(value='')))"
      ]
     },
     "metadata": {},
     "output_type": "display_data"
    },
    {
     "name": "stdout",
     "output_type": "stream",
     "text": [
      "\n",
      "PPALGFKYDYAAGGGGGDGGGGAGPPHDPPSCQSLESDSSSSLLNGGNKGAGAGDPGSLVSPLNPGGGLSASGAPYWPINSRSRKKRKPYSKLQLAELEGEFLVNEFITRQRRRELSDR\n",
      "PPALGFKYDYAAGGGGGDGGGGAGPPHDPPSCQSLESDSSSSLLNEGNKGAGAGDPGSLVSPLNPGGGLSASGAPWYPINSRSRKKRKPYSKLQLAELEGEFLVNEFITRQRRRELSDR\n"
     ]
    },
    {
     "data": {
      "application/vnd.jupyter.widget-view+json": {
       "model_id": "969129a31bea4cf6a2a6748ebbb7c811",
       "version_major": 2,
       "version_minor": 0
      },
      "text/plain": [
       "HBox(children=(IntProgress(value=0, max=673), HTML(value='')))"
      ]
     },
     "metadata": {},
     "output_type": "display_data"
    },
    {
     "name": "stdout",
     "output_type": "stream",
     "text": [
      "\n",
      "QVGIPVDDEAGQRLGYSVTAAKQGIFQVVSCRICMAIPAMAIPPLIMDTLKEKDFLKRRPWLGAPLQVGLVGFLLVFATPLCCALFPQKSSIHISNLEPELRAQIHEQNPSVVEYYYKN\n",
      "QVGIPVADEAGQRLGYSVTAAKQGIFQVVISRICMAIPAMAIPPLIMDTLEKKDFLKRRPWLGAPLQVGLVGFCLVFATPLCCALFPQKSSIHISNLEPELRAQIHEQNPSVEVVYYNK\n"
     ]
    },
    {
     "data": {
      "application/vnd.jupyter.widget-view+json": {
       "model_id": "5b78f0a23efe442c852b2c542d59ce6c",
       "version_major": 2,
       "version_minor": 0
      },
      "text/plain": [
       "HBox(children=(IntProgress(value=0, max=673), HTML(value='')))"
      ]
     },
     "metadata": {},
     "output_type": "display_data"
    },
    {
     "name": "stdout",
     "output_type": "stream",
     "text": [
      "\n",
      "VYNVGLCICLFDITKLEDAYVFPGDGASHTKVHFRCVVFHPFLDEILIGKIKGSSPEGVHSSLGFFDDILIPPELLQQPAKFDEAEQVWVWEYETEEGAHDLYMDTGEEIRFRVVDESF\n",
      "VYNVGLCICLFDITKLEDAYVFPGDGASHTKVHFRCVVFHPFLDEILIGKIKGCSPEGVHVSLGFFDDILIPPESLQQPAKFDEAEQVWVWEYETEEGAHDLYMDTGEEIRFRVVDESF\n"
     ]
    },
    {
     "data": {
      "application/vnd.jupyter.widget-view+json": {
       "model_id": "5c996ff6d0374ffebaefcde474c5fc20",
       "version_major": 2,
       "version_minor": 0
      },
      "text/plain": [
       "HBox(children=(IntProgress(value=0, max=673), HTML(value='')))"
      ]
     },
     "metadata": {},
     "output_type": "display_data"
    },
    {
     "name": "stdout",
     "output_type": "stream",
     "text": [
      "\n",
      "IGGYYRRAASNMALGKFRAALRDYETVVKVKPHDKDAKMKYQECNKIVKQKAFERAIAGDEHRSSVVDSLDIESMTIEDEYSGPKLEDGKVTISFMKELMQWYKDHKKLHRKCAYQILV\n",
      "IKGYYRRAASNMALGKFRAALRDYETVVKVKPHDKDAKMKYQECNKIVKQKAFERAIAGDEHKRSVVDSLDIESMTIEDEYSGPKLEDGKVTISFMKELMQWYKDQKKLHRKCAYQILV\n"
     ]
    },
    {
     "data": {
      "application/vnd.jupyter.widget-view+json": {
       "model_id": "2298cffa52a54591a8e3660182ce5983",
       "version_major": 2,
       "version_minor": 0
      },
      "text/plain": [
       "HBox(children=(IntProgress(value=0, max=673), HTML(value='')))"
      ]
     },
     "metadata": {},
     "output_type": "display_data"
    },
    {
     "name": "stdout",
     "output_type": "stream",
     "text": [
      "\n",
      "LKGSLLFTAGPLEEERFGFPAFSGISRLTWLVSLFGELSLVSATLEERKEDQYMKMTVCLETEKKSPLSWIEEKGPGLKRNRYLSFFFKSGSLENVPNVGVNKNIFLKDQNIFVQKLLG\n",
      "LKGSLLFTAGPLEEERFGFPAFSGISRLTWLVSLFGELSLVSATLEERKEDQYMKMTVCLETEKKSPLSWIEEKGPGLKRNRYLSFHFKSGSLENVPNVGVNKNIFLKDQNIFVQKLLG\n"
     ]
    },
    {
     "data": {
      "application/vnd.jupyter.widget-view+json": {
       "model_id": "73ff37ffc4674358a46346476ad6dc81",
       "version_major": 2,
       "version_minor": 0
      },
      "text/plain": [
       "HBox(children=(IntProgress(value=0, max=673), HTML(value='')))"
      ]
     },
     "metadata": {},
     "output_type": "display_data"
    },
    {
     "name": "stdout",
     "output_type": "stream",
     "text": [
      "\n",
      "EETHLTSLDPVKQFAAWFEEAVQCPDIGEANAMCLATCTRDGKPSARMLLLKFFKKDGFRFFTNFESRKGKELDSNPFASLVFYWEPLNRQVRVEGPVKKLPEEEAECYFHSRPKSSQI\n",
      "EETHLTSLDPVKQFAAWFEEAVQCPDIGEANAMCLATCTRDGKPSARMLLLKGFGKDGFRFFTNFESRKGKELDSNPFASLVFYWEPLNRQVRVEGPVKKLPEEEAECYFHSRPKSSQI\n"
     ]
    },
    {
     "data": {
      "application/vnd.jupyter.widget-view+json": {
       "model_id": "ebace3abe3cc4b08a564634ace243c05",
       "version_major": 2,
       "version_minor": 0
      },
      "text/plain": [
       "HBox(children=(IntProgress(value=0, max=702), HTML(value='')))"
      ]
     },
     "metadata": {},
     "output_type": "display_data"
    },
    {
     "name": "stdout",
     "output_type": "stream",
     "text": [
      "\n",
      "RLAYSEYPDDSLDLDPSMLDSIWKPLDFFANEKGANFHDVTTDNKLLRISKNGKVLISIRLTLTLSCPMDLKNFPMDVQTCTMQLESFGYTMNDLIFWWLSDGPVQVAEGLTLPQFILKE\n",
      "RLAYSEYPDDSLDLDPSMLDSIWKPDLFFANEKGANFHDVTTDNKLLRISKNGKVLYSIRLTLTLSCPMDLKNFPMDVQTCTMQLESFGYTMNDLIFEWLSDGPVQVAEGLTLPQFILKE\n"
     ]
    },
    {
     "data": {
      "application/vnd.jupyter.widget-view+json": {
       "model_id": "ff72e62382fb4b96bc176326a679830e",
       "version_major": 2,
       "version_minor": 0
      },
      "text/plain": [
       "HBox(children=(IntProgress(value=0, max=702), HTML(value='')))"
      ]
     },
     "metadata": {},
     "output_type": "display_data"
    },
    {
     "name": "stdout",
     "output_type": "stream",
     "text": [
      "\n",
      "FISVLFAPTRLSCMLARLEIKQLGNRSQPGIKFITLLSYGGGTSNLILEGVKKLSDSYMVTVNLLVPGKESKKIISVRTTGSRAAFVKAVGFKDSQKKLLLDPKVLRIFPDFFVLKETTQ\n",
      "FISVLFAPTRLSCMLARLEIKQLGNRSQPGIKFTIPLSGYGGTSNLILEGVKKLSDSYMVTVNGLVPGKESKIVFSVRNTGSRAAFVKAVGFKDSQKKVLLDPKVLRIFPDKFVLKERTQ\n"
     ]
    },
    {
     "data": {
      "application/vnd.jupyter.widget-view+json": {
       "model_id": "4e647f2f76204e968369fd367c58b936",
       "version_major": 2,
       "version_minor": 0
      },
      "text/plain": [
       "HBox(children=(IntProgress(value=0, max=702), HTML(value='')))"
      ]
     },
     "metadata": {},
     "output_type": "display_data"
    },
    {
     "name": "stdout",
     "output_type": "stream",
     "text": [
      "\n",
      "WTEGGITPVFEPRAVSHLVTWQDGRCSSEFLASLPQPKSHLSVATGFFCATIFWLLKYRPEFLKSYDAAGTIHDYVVAMLCGLPRPLMSDQNAASWGYFNTQSQSWNVETLRSSGFPVHL\n",
      "WTEGGITPVFEPRAVSHLVTWQDGRCSSEFLASLPQPKSHLSVATGFGCATIFWLLKYRPEFLKSYDAAGTIHDYVVAMLCGLPRPLMSDQNAASWGYFNTQSQSWNVETLRSSGFPVHL\n"
     ]
    },
    {
     "data": {
      "application/vnd.jupyter.widget-view+json": {
       "model_id": "55c4a673b4cc441fbcd22fcd9dc5edb1",
       "version_major": 2,
       "version_minor": 0
      },
      "text/plain": [
       "HBox(children=(IntProgress(value=0, max=702), HTML(value='')))"
      ]
     },
     "metadata": {},
     "output_type": "display_data"
    },
    {
     "name": "stdout",
     "output_type": "stream",
     "text": [
      "\n",
      "WSVQVDHQLFALEKLDVTGNGHEEVVAMAWDGQTYIIDHNRVVVRFQVDENIRAFCAGLYACKEGRNSPCLVYVTFNQKIYVYWEVQLERMESTNLVKLLETKPEYHSLLQELGVDPDDL\n",
      "WSVQVDHQLFALEKLDVTGNGHEEVVACAWDGQTYIIDHNRTVVRFQVDENIRAFCAGLYACKEGRNSPCLVYVTFNQKIYVYWEVQLERMESTNLVKLLETKPEYHSLLQELGVDPDDL\n"
     ]
    },
    {
     "data": {
      "application/vnd.jupyter.widget-view+json": {
       "model_id": "30cc429ac61e407b9261f3d9f78555a8",
       "version_major": 2,
       "version_minor": 0
      },
      "text/plain": [
       "HBox(children=(IntProgress(value=0, max=702), HTML(value='')))"
      ]
     },
     "metadata": {},
     "output_type": "display_data"
    },
    {
     "name": "stdout",
     "output_type": "stream",
     "text": [
      "\n",
      "ESLTVEVDIDRNPPQLQGRRKFNILTSNQKTLTPEKGQSQGLIWDFGYLTLVEQRSGGSGKGGNKGPLGVTEELHIISFTVKYTYQGLKQELKTDTLPVVISINMNLQSIAAASVLWFNL\n",
      "ESLTVEVSIDRNPPQLQGFRKFNILTSNQKTLTPEKGQSQGLIWDFGYLTLVEQRSGGSGKGSNKGPLGVTEELHIISFTVKYTYQGLKQELKTDTLPVVIISNMNQLSIAWASVLWFNL\n"
     ]
    },
    {
     "data": {
      "application/vnd.jupyter.widget-view+json": {
       "model_id": "2b91dd67b917458a97273a77ff08b1a5",
       "version_major": 2,
       "version_minor": 0
      },
      "text/plain": [
       "HBox(children=(IntProgress(value=0, max=702), HTML(value='')))"
      ]
     },
     "metadata": {},
     "output_type": "display_data"
    },
    {
     "name": "stdout",
     "output_type": "stream",
     "text": [
      "\n",
      "PAYLKRLPVPESITGFARLTVSEWLRLLPFLGVLALLGYLAVRPFLPKKKQQKDSLINLKIQKENPKVVNENNIEDLCTLKAAYCRCWRSKTFPACDGSHNKHNELTGDNVGPLILKKKE\n",
      "PAYLKRLPVPESITGFARLTVSEWLRLLPFLGVLALLGYLAVRPFLPKKKQQKDSLINLKIQKENPKVVNEINIEDLCLTKAAYCRCWRSKTFPACDGSHNKHNELTGDNVGPLILKKKE\n"
     ]
    },
    {
     "data": {
      "application/vnd.jupyter.widget-view+json": {
       "model_id": "161622499f51459088df2b0321663a06",
       "version_major": 2,
       "version_minor": 0
      },
      "text/plain": [
       "HBox(children=(IntProgress(value=0, max=702), HTML(value='')))"
      ]
     },
     "metadata": {},
     "output_type": "display_data"
    },
    {
     "name": "stdout",
     "output_type": "stream",
     "text": [
      "\n",
      "ITQQDLAPQQRAAPQQKRSSPSEGLCPPGHHISEDGRDCISCKYGQDYSTHWNDLLFCLRCTRDDSGEVELSPCTTTRNTVCQCEEGTFREEDSPEMRCKRTGGCPRCMVKVDDCTPWSD\n",
      "ITQQDLAPQQRAAPQQKRSSPSEGLCPPGHHISEDGRDCISCKYGQDYSTHWNDLLFCLRCTRCDSGEVELSPCTTTRNTVCQCEEGTFREEDSPEMCRKCRTGCPRGMVKVGDCTPWSD\n"
     ]
    },
    {
     "data": {
      "application/vnd.jupyter.widget-view+json": {
       "model_id": "0c6194e1cd87494e983aba84f699a12b",
       "version_major": 2,
       "version_minor": 0
      },
      "text/plain": [
       "HBox(children=(IntProgress(value=0, max=702), HTML(value='')))"
      ]
     },
     "metadata": {},
     "output_type": "display_data"
    },
    {
     "name": "stdout",
     "output_type": "stream",
     "text": [
      "\n",
      "EHTFVTRLNRYRGYNPDDDYSTQWLLVMEKLKCCGVNNYTDFSGSFSMETGTTHYRRSCCKSIGSVSCDGRDVSPNVIQQKGCHFKLLKITKTQSFTLSGSSLGAAVIQRWGSRYVAQAG\n",
      "EHTFVTLRKNYRGYNEPDDYSTQWNLVMEKLKCCGVNNYTDFSGSSFEMTTGHTYPRSCCKSIGSVSCDGRDVSPNVIHQKGCFHKLLKITKTQSFTLSGSSLGAAVIQRWGSRYVAQAG\n"
     ]
    },
    {
     "data": {
      "application/vnd.jupyter.widget-view+json": {
       "model_id": "4db4aca6ae3c4df2887577ca81e11acf",
       "version_major": 2,
       "version_minor": 0
      },
      "text/plain": [
       "HBox(children=(IntProgress(value=0, max=702), HTML(value='')))"
      ]
     },
     "metadata": {},
     "output_type": "display_data"
    },
    {
     "name": "stdout",
     "output_type": "stream",
     "text": [
      "\n",
      "QEVANSLALKSVHALSRLGGALAEEQATPENPTIRKSLAGMLTPYVARKLAVASVTEILKMLNQNTESPYLWITNNTRAELLEFLESQQENMIKKCDGDKTYGSEFVYSDHAKELIVGEI\n",
      "QEVANSLAKLSVHALSRLGGYLAEEQATPENPTIRKSLAGMLTPYVARKLAVASVTEILKMLNSNTESPYLIWNNSTRAELLEFLESQQENMIKKGDCDKTYGSEFVYSDHAKELIVGEI\n"
     ]
    },
    {
     "data": {
      "application/vnd.jupyter.widget-view+json": {
       "model_id": "1fd3c19398df47aab368d00dd67fd2ba",
       "version_major": 2,
       "version_minor": 0
      },
      "text/plain": [
       "HBox(children=(IntProgress(value=0, max=702), HTML(value='')))"
      ]
     },
     "metadata": {},
     "output_type": "display_data"
    },
    {
     "name": "stdout",
     "output_type": "stream",
     "text": [
      "\n",
      "TQFWDLNAKLVEIPTKMRVERWAFNFSELIRDKPGRQSFQYFLKKEFSGENLGFWEACEDLKYGDQSKVKEKAEEIYKLFLAPGARRIWNIDGKTMDITVKGLKHPHRYVLDAAQTHIYM\n",
      "TQFWDLNAKLVEIPTKMRVERWAFNFSELIRDPKGRQSFQYFLKKEFSGENLGFWEACEDLKYGDQSKVKEKAEEIYKLFLAPGARRWINIDGKTMDITVKGLKHPHRYVLDAAQTHIYM\n"
     ]
    },
    {
     "data": {
      "application/vnd.jupyter.widget-view+json": {
       "model_id": "e8d48cb170b4417a81785196fe1e40ac",
       "version_major": 2,
       "version_minor": 0
      },
      "text/plain": [
       "HBox(children=(IntProgress(value=0, max=702), HTML(value='')))"
      ]
     },
     "metadata": {},
     "output_type": "display_data"
    },
    {
     "name": "stdout",
     "output_type": "stream",
     "text": [
      "\n",
      "CKVWRNPLNLFRGAEYRRYTWVTGKEPLTYYDMNLSAQDHQTFFTCDTDFRPPSDTVHGAAQWRENPPARKKAAAQALELNNDCATAYVLLAEEAETTIVDAERLKKQALAAGETIYRQS\n",
      "CKVWRNPLNLFRGAEYRRYTWVTGKEPLTYYDMNLSAQDHQTFFTCDTDFLRPSDTVMQKAWRERNPPARIKAAYQALELNNDCATAYVLLAEEEATTIVDAERLFKQALKAGETIYRQS\n"
     ]
    },
    {
     "data": {
      "application/vnd.jupyter.widget-view+json": {
       "model_id": "649cdc63ce4845a78e1d1f84544cdcd4",
       "version_major": 2,
       "version_minor": 0
      },
      "text/plain": [
       "HBox(children=(IntProgress(value=0, max=702), HTML(value='')))"
      ]
     },
     "metadata": {},
     "output_type": "display_data"
    },
    {
     "name": "stdout",
     "output_type": "stream",
     "text": [
      "\n",
      "PHGGGGRSSVSGIVATVFGATLFGGRYVLHNHGRGGSQVIIPYRCDKYDIMHLRPMGDLGQLLFLWEDARDKDSIRRVVQSHNVVINLRGIDWETKNFDFEDVVFKIPQAIAQLSKEAGV\n",
      "PHGKGGRSSVSGIVATVFGATGFLGRYVVNHLGRMGSQVIIPYRCDKYDIMHLRPMGDLGQLLFLEWDARDKDSIRRVVQHSNVVINLIGRDWETKNFDFEDVFVKIPQAIAQLSKEAGV\n"
     ]
    },
    {
     "data": {
      "application/vnd.jupyter.widget-view+json": {
       "model_id": "afc82410d69f40188affd301c1be4c1b",
       "version_major": 2,
       "version_minor": 0
      },
      "text/plain": [
       "HBox(children=(IntProgress(value=0, max=702), HTML(value='')))"
      ]
     },
     "metadata": {},
     "output_type": "display_data"
    },
    {
     "name": "stdout",
     "output_type": "stream",
     "text": [
      "\n",
      "ECINAASFNFLGLLDNPRVKAAALASLKKYGVGTCGPRGFYGTFDVHLDLEDRLAKFMKTEEAIIYYSGFAATISAAYPSSKRGDIVFVDRAACFAIQKGQQASRSDILLFKHNDMADLE\n",
      "ECINFASFNFLGLLDNPRVKAAALASLKKYGVGTCGPRGFYGTFDVHLDLEDRLAKFMKTEEAIIYSYGFATIASAIPAYSKRGDIVFVDRAACFAIQKGLQASRSDIKLFKHNDMADLE\n"
     ]
    },
    {
     "data": {
      "application/vnd.jupyter.widget-view+json": {
       "model_id": "7cc7a582ba764ad284b9fab94f8f2f6c",
       "version_major": 2,
       "version_minor": 0
      },
      "text/plain": [
       "HBox(children=(IntProgress(value=0, max=702), HTML(value='')))"
      ]
     },
     "metadata": {},
     "output_type": "display_data"
    },
    {
     "name": "stdout",
     "output_type": "stream",
     "text": [
      "\n",
      "LNLDQNVVRLQRNKTGERVFKCDICSKTFKYNSDLQRHQRSHTGEKPYECGRCGRAFTHSSNLVLHHHIHTGNKPFKCDECGKTFGNNSHLRLHRRIHTGEKPFGCGECGKAFSRSSTLI\n",
      "LNLDQNVVRLQRNKTGERVFKCDICSKTFKYNSDLSRHQRSHTGEKPYECGRCGRAFTHSSNLVLHHHIHTGNKPFKCDECGKTFGLNSHLRLHRRIHTGEKPFGCGECGKAFSRSSTLI\n"
     ]
    },
    {
     "data": {
      "application/vnd.jupyter.widget-view+json": {
       "model_id": "2d76ae8805e14500b355690d534d320e",
       "version_major": 2,
       "version_minor": 0
      },
      "text/plain": [
       "HBox(children=(IntProgress(value=0, max=702), HTML(value='')))"
      ]
     },
     "metadata": {},
     "output_type": "display_data"
    },
    {
     "name": "stdout",
     "output_type": "stream",
     "text": [
      "\n",
      "LQLPATNLANLANLPPGTKLYLTTNSKNPSGKGKLLLIPQAGILRANNNANQQSGSAASGGSGAGGGGGGGGGGGSGSGGGGSTGGGGGTAGGTTQSTAGGPGISQHLTYTSYILKQTPQ\n",
      "LQLPATNLANLANLPPGTKLYLTTNSKNPSGKGKLLLIPQGAILRATNNANLQSGSAASGGSGAGGGGGGGGGGGSGSGGGGSTGGGGGTAGGGTQSTAGPGGISQHLTYTSYILKQTPQ\n"
     ]
    },
    {
     "data": {
      "application/vnd.jupyter.widget-view+json": {
       "model_id": "04e32644f5d240088f3bba0fc9d28245",
       "version_major": 2,
       "version_minor": 0
      },
      "text/plain": [
       "HBox(children=(IntProgress(value=0, max=702), HTML(value='')))"
      ]
     },
     "metadata": {},
     "output_type": "display_data"
    },
    {
     "name": "stdout",
     "output_type": "stream",
     "text": [
      "\n",
      "MQNEKFFRNDFSGEVDFRDIDLTDWYLTPAQDSLKKSPFYPSDYQQQSSLALNSFCMVQEHLHLEQQQHHHQKQVVVEPQQQLCQKMKHQMVNGMFENWNSNQFVPFNCPQQDPQQYNVF\n",
      "MQNEKFFRNDFSGEVDFRDIDLTDEILTYVQDSLSKSPFIPSDYQQQQSLALNSSCMVQEHLHLEQQQQHHQKQVVVEPQQQLCQKMKHMQVNGMFENWNSNQFVPFNCPQQDPQQYNVF\n"
     ]
    },
    {
     "data": {
      "application/vnd.jupyter.widget-view+json": {
       "model_id": "c74b8bd19ccf4205b5eb2ac75edd5bc7",
       "version_major": 2,
       "version_minor": 0
      },
      "text/plain": [
       "HBox(children=(IntProgress(value=0, max=702), HTML(value='')))"
      ]
     },
     "metadata": {},
     "output_type": "display_data"
    },
    {
     "name": "stdout",
     "output_type": "stream",
     "text": [
      "\n",
      "KRKVLEATGPGGSQAINLLRRSNSTTQVSQPRSGSPRPETTTDLFMPFPGSPSGKKRPASLSTAPEEKGATWNVLDDQPRGFTLPSNARSSSALDSPAGPRRKECTVALAPNFTANNRSN\n",
      "KRKVLEATGPGGSQAINNLRRSNSTTQVSQPRSGSPRPTEPTDFLMLFEGSPSGKKRPASLSTAPSEKGATWNVLDDQPRGFTLPSNARSSSALDSPAGPRRKECTVALAPNFTANNRSN\n"
     ]
    },
    {
     "data": {
      "application/vnd.jupyter.widget-view+json": {
       "model_id": "13b5e7016fc14ea5a9b77a03b0bfa9c5",
       "version_major": 2,
       "version_minor": 0
      },
      "text/plain": [
       "HBox(children=(IntProgress(value=0, max=702), HTML(value='')))"
      ]
     },
     "metadata": {},
     "output_type": "display_data"
    },
    {
     "name": "stdout",
     "output_type": "stream",
     "text": [
      "\n",
      "NMDWDRLKAKDLLANFLSFKPKGGVIFSVKIYPSEFGKERMKEEQQVGPVELLSIPEDAPEKDWTSREKLRDYQFKRLKYYYAVVDCDSPETASKIYECDDGLEFESSCFSIDLRFIPDD\n",
      "NMDWDRLKAKDLLALFNSFKPKGGVIFSVKIYPSEFGKERMKEEQVQGPVELLSIPEDAPEKDWTSREKLRDYQFKRLKYYYAVVDCDSPETASKIYEDCDGLEFESSCSFIDLRFIPDD\n"
     ]
    },
    {
     "data": {
      "application/vnd.jupyter.widget-view+json": {
       "model_id": "61cf392e4e0b4b58a0f4707a940b1ba7",
       "version_major": 2,
       "version_minor": 0
      },
      "text/plain": [
       "HBox(children=(IntProgress(value=0, max=702), HTML(value='')))"
      ]
     },
     "metadata": {},
     "output_type": "display_data"
    },
    {
     "name": "stdout",
     "output_type": "stream",
     "text": [
      "\n",
      "VPSVAAAYPLGLSPTTAASPNLSYSRPYGHLLSYPYTEPANPGDSYPSCQLPAALSQPLCGPAWPPQELEADSEKPRLSEEESPRRPQAPAKKLRKPRTIYSSLQLHQNNFRFQHTQYLA\n",
      "VPSVAAAYPLGLSPTTAASPNLSYSRPYGHLLSYPYTEPANPGDSYLSCQQPAALSQPLCGPAEHPQELEADSEKPRLSPEPSERRPQAPAKKLRKPRTIYSSLQLQHLNQRFQHTQYLA\n"
     ]
    },
    {
     "data": {
      "application/vnd.jupyter.widget-view+json": {
       "model_id": "b46571896fcf4c61ab9403ae57f94a91",
       "version_major": 2,
       "version_minor": 0
      },
      "text/plain": [
       "HBox(children=(IntProgress(value=0, max=702), HTML(value='')))"
      ]
     },
     "metadata": {},
     "output_type": "display_data"
    },
    {
     "name": "stdout",
     "output_type": "stream",
     "text": [
      "\n",
      "LYHVVKYTGGSAELLFFVGELCFPDEGFSGLVSIHVSLLEYAMQDIPLTPIFTDTVIFRIIPWIMTPNILPPVSVFVCCMKDNYLFLKEVKNLVEKTNCELCKVFQYLNRGDRWIQDEIE\n",
      "LYHVVKYTGGSAELLFFVEGLCFPDEGFSGLVSIHVSLLEYMAQDIPLTPIFTDTVIFRIAPWIMTPNILPPVSVFVCCMKDNYLFLKEVKNLVEKTNCELKVCFQYLNRGDRWIQDEIE\n"
     ]
    },
    {
     "data": {
      "application/vnd.jupyter.widget-view+json": {
       "model_id": "32bd6d50c4ce420d935b47d73f5d7d01",
       "version_major": 2,
       "version_minor": 0
      },
      "text/plain": [
       "HBox(children=(IntProgress(value=0, max=702), HTML(value='')))"
      ]
     },
     "metadata": {},
     "output_type": "display_data"
    },
    {
     "name": "stdout",
     "output_type": "stream",
     "text": [
      "\n",
      "TFVSPEAISPDLVKKIRDFHRKILLLPEMMRMFSENLAHHLEIDSGVITLDPQTASRSLVLSEDRKSVRYRTQKKLLPDSPLRFDGLPAVLGFPGFSSGRHRWQVDLQLGDGGGCTVGVA\n",
      "TFVSPEAISPDLVKKIRDFHRKILTLPEMMRMFSENLAHHLEIDSGVITLDPQTASRSLVLSEDRKSVRYTRQKKSLPDSPLRFDGLPAVLGFPGFSSGRHRWQVDLQLGDGGGCTVGVA\n"
     ]
    },
    {
     "data": {
      "application/vnd.jupyter.widget-view+json": {
       "model_id": "09a718ea601c43309a3de76cff5efd82",
       "version_major": 2,
       "version_minor": 0
      },
      "text/plain": [
       "HBox(children=(IntProgress(value=0, max=702), HTML(value='')))"
      ]
     },
     "metadata": {},
     "output_type": "display_data"
    },
    {
     "name": "stdout",
     "output_type": "stream",
     "text": [
      "\n",
      "ENDYNPGSMNIVSNASCTTNCLAPLAKVIHERFGIVEGLMTTVHSYTATQKTVDGPSRKAWRDGRGAHQNIPPASTGAAKAVTKVIPELKGKLTGMAFRVPTPDVSVVDLTCRLAQPAPY\n",
      "ENDYNPGSMNIVSNASCTTNCLAPLAKVIHERFGIVEGLMTTVHSYTATQKTVDGPSRKAWRDGRGAHQNIIPASTGAAKAVTKVIPELKGKLTGMAFRVPTPDVSVVDLTCRLAQPAPY\n"
     ]
    },
    {
     "data": {
      "application/vnd.jupyter.widget-view+json": {
       "model_id": "faeb4b7aad5446aca715bccc927eef4a",
       "version_major": 2,
       "version_minor": 0
      },
      "text/plain": [
       "HBox(children=(IntProgress(value=0, max=702), HTML(value='')))"
      ]
     },
     "metadata": {},
     "output_type": "display_data"
    },
    {
     "name": "stdout",
     "output_type": "stream",
     "text": [
      "\n",
      "PPRSRISVPIKRNAILHRNEWRPPAGAQKARSIKMIRRPKIAMVCGHYDYYYAQLDMLRRRMASPSPIHYEQENTGVEDYGQETRHGPSPSQWPAEYLQRKFEAQQYKLKVEKQLGLRPS\n",
      "PPRSRISVPIKRNAILHRNEWRPPAGAQKARSIKMIERPKIAAVCGHYDYYYAQLDMLRRRAHKPSYHPIPQENTGVEDYGQETRHGPSPSQWPAEYLQRKFEAQQYKLKVEKQLGLRPS\n"
     ]
    },
    {
     "data": {
      "application/vnd.jupyter.widget-view+json": {
       "model_id": "38e7827d702342c786976624018fc70a",
       "version_major": 2,
       "version_minor": 0
      },
      "text/plain": [
       "HBox(children=(IntProgress(value=0, max=702), HTML(value='')))"
      ]
     },
     "metadata": {},
     "output_type": "display_data"
    },
    {
     "name": "stdout",
     "output_type": "stream",
     "text": [
      "\n",
      "AGPVGDDLFHWQATIMGPPDSAYQGGVFFLTVHFPTDYPFKPPKAIFTTKIYHPNINSNGSICLDILRSQWSPALTVSKVLLSICSLLCDPNPDDPLVPDIAQIYKSDKEKYNRHAREWT\n",
      "AGPVGDDLFHWQATIMGPPDSAYQGGVFFLTVHFPTDYPFKPPKIAFTTKIYHPNINSNGSICLDILRSQWSPALTVSKVLLSICSLLCDPNPDDPLVPDIAQIYKSDKEKYNRHAREWT\n"
     ]
    },
    {
     "data": {
      "application/vnd.jupyter.widget-view+json": {
       "model_id": "a9bd965e85ce4f2c907befe24337ce09",
       "version_major": 2,
       "version_minor": 0
      },
      "text/plain": [
       "HBox(children=(IntProgress(value=0, max=702), HTML(value='')))"
      ]
     },
     "metadata": {},
     "output_type": "display_data"
    },
    {
     "name": "stdout",
     "output_type": "stream",
     "text": [
      "\n",
      "APAAGMNAAVRSAVRTGISHGHTVYVVHDGFEGLAKGQVQEVGWHDVAGWLGGRGSMLGTKRTLPKGQLESIVNEIRRYGIHALLVVGGFEAYEGVLQLVEARGRYEELCIVMCVIPATI\n",
      "APAAGMNAAVRSAVRTGISHGHTVYVVHDGFEGLAKGQVQEVGWHDVAGWLGRGGSMLGTKRTLPKGQLESIVENIRIYGIHALLVVGGFEAYEGVLQLVEARGRYEELCIVMCVIPATI\n"
     ]
    },
    {
     "data": {
      "application/vnd.jupyter.widget-view+json": {
       "model_id": "f2e573a838fb473684d103a8b60f8b71",
       "version_major": 2,
       "version_minor": 0
      },
      "text/plain": [
       "HBox(children=(IntProgress(value=0, max=702), HTML(value='')))"
      ]
     },
     "metadata": {},
     "output_type": "display_data"
    },
    {
     "name": "stdout",
     "output_type": "stream",
     "text": [
      "\n",
      "RVQLPPEIQLAQRLAGNEQVTRARAVRKLRKIYVARTQRAAGGFTHDELLKVWKGLFYCMWMQDKPLLQEELGRTISQLVHAFQTTEAQHLFLQAQWQTMNREWTGIDRLRLDKFYMLMR\n",
      "RVQLPPEIQLAQRLAGNEQVTRDRAVRKLRKYIVARTQRAAGGFTHDELLKVWKGLFYCMWMQDKPLLQEELGRTISQLVHAFQTTEAQHLFLQAFWQTMNREWTGIDRLRLDKFYMLMR\n"
     ]
    },
    {
     "data": {
      "application/vnd.jupyter.widget-view+json": {
       "model_id": "0607d84812d948fa9d7033f4d133fd65",
       "version_major": 2,
       "version_minor": 0
      },
      "text/plain": [
       "HBox(children=(IntProgress(value=0, max=702), HTML(value='')))"
      ]
     },
     "metadata": {},
     "output_type": "display_data"
    },
    {
     "name": "stdout",
     "output_type": "stream",
     "text": [
      "\n",
      "TRRLSALHPPEKHGGRTMVQLFEKGYGKDAAGIAMEAIAFARNQGDDVVLVDTAGRMQDNAPLMTALAKLINVTTPDLVLFVGEALVGNEAVDQLVKFNRALADHSMAQTPRLIDGIVLT\n",
      "TRRLSALHPPEKHGGRTMVQLFEKGYGKDAAGIAMEAIAFARNQGFDVVLVDTAGRMQDNAPLMTALAKLITVNTPDLVLFVGEALVGNEAVDQLVKFNRALADHSMAQTPRLIDGIVLT\n"
     ]
    },
    {
     "data": {
      "application/vnd.jupyter.widget-view+json": {
       "model_id": "5fbc8e735d374d7d9068d175fb30ade8",
       "version_major": 2,
       "version_minor": 0
      },
      "text/plain": [
       "HBox(children=(IntProgress(value=0, max=702), HTML(value='')))"
      ]
     },
     "metadata": {},
     "output_type": "display_data"
    },
    {
     "name": "stdout",
     "output_type": "stream",
     "text": [
      "\n",
      "TLSLLPLVRRARGRVVNVSSVMGRVSLFGGGYCISKYGVEAFSDSRRRELSYFGVKVAMIEPGYFKTAVTSKERFLKSFLEIWDRSSPEVKEAYGEKFVADYKKSAEQMEQKCTQDLSLV\n",
      "TLSLLPLVRRARGRVVNVSSVMGRVSLFGGGYCISKYGVEAFSDSLRRELSYFGVKVAMIEPGYFKTAVTSKERFLKSFLEIWDRSSPEVKEAYGEKFVADYKKSAEQMEQKCTQDLSLV\n"
     ]
    },
    {
     "data": {
      "application/vnd.jupyter.widget-view+json": {
       "model_id": "bc2a3ac66b064875937b00202523fb1c",
       "version_major": 2,
       "version_minor": 0
      },
      "text/plain": [
       "HBox(children=(IntProgress(value=0, max=702), HTML(value='')))"
      ]
     },
     "metadata": {},
     "output_type": "display_data"
    },
    {
     "name": "stdout",
     "output_type": "stream",
     "text": [
      "\n",
      "ESQTVLSSGSDPKVESSSSAPGLTSVSPPVTSTTSAASPEEEEESEDESEILEESPCGRWQKRREEVNQRNVPGIDSAYLAMDTEEGVEVVWNEVFQSERKNYKLQEEKVRAVFDNLIQL\n",
      "ESQTVLSSGSDPKVESSSSAPGLTSVSPPVTSTTSAASPEEEEESEDESEILEESPCGRWQKRREEVNQRNVPGIDSAYLAMDTEEGVEVVWNEVQFSERKNYKLQEEKVRAVFDNLIQL\n"
     ]
    },
    {
     "data": {
      "application/vnd.jupyter.widget-view+json": {
       "model_id": "b994e7c591bb499cbf977b9f7f487991",
       "version_major": 2,
       "version_minor": 0
      },
      "text/plain": [
       "HBox(children=(IntProgress(value=0, max=702), HTML(value='')))"
      ]
     },
     "metadata": {},
     "output_type": "display_data"
    },
    {
     "name": "stdout",
     "output_type": "stream",
     "text": [
      "\n",
      "LRRKENPHVRYIEQTHTKLESSVCANEMRKVSKSSTHPQHNPNENEILVADTYDQSQSPMAKAHGTSSYTPSKSSFNLATVVAETLGLGVQEESETQGPMSPLGDELYHCLEGNHKKQPF\n",
      "LRRKENPHVRYIEQTHTKLEHSVCANEMRKVSKSSTHPQHNPNENEILVADTYDQSQSPMAKAHGTSSYTPDKSSFNLATVVAETLGLGVQEESETQGPMSPLGDELYHCLEGNHKKQPF\n"
     ]
    },
    {
     "data": {
      "application/vnd.jupyter.widget-view+json": {
       "model_id": "eacb80c2ff114f99b7373461cf4cf3ba",
       "version_major": 2,
       "version_minor": 0
      },
      "text/plain": [
       "HBox(children=(IntProgress(value=0, max=702), HTML(value='')))"
      ]
     },
     "metadata": {},
     "output_type": "display_data"
    },
    {
     "name": "stdout",
     "output_type": "stream",
     "text": [
      "\n",
      "NGLTALPAESFTSSPLSDVNLSHNQLREVSVSAFTTHSQGRALHVDLSHNLIHRLVPHPTRAGLPAPTIQSLNLAWNRLHAVPNLRDLPLRYLSLDGNPLAVIGPGAFAGLGGLTHLSLA\n",
      "NGLTALPAESFTSSPLSDVNLSHNQLREVSVSAFTTHSQGRALHVDLSHNLIHRLVPHPTRAGLPAPTIQSLNLAWNRLHAVPNLRDLPLRYLSLDGNPLAVIGPGAFAGLGGLTHLSLA\n"
     ]
    },
    {
     "data": {
      "application/vnd.jupyter.widget-view+json": {
       "model_id": "17917e39813f4f53b7370a44b224de16",
       "version_major": 2,
       "version_minor": 0
      },
      "text/plain": [
       "HBox(children=(IntProgress(value=0, max=702), HTML(value='')))"
      ]
     },
     "metadata": {},
     "output_type": "display_data"
    },
    {
     "name": "stdout",
     "output_type": "stream",
     "text": [
      "\n",
      "NPGALIKDIRENGMKVGLAIKPGTSVEYLAPWANQIDMALVMTVEPGFGGQKFMEDMMPKVHWLRFQFPSLDIEVDGGVGPDTVHKCEEAGANMIVSGSAIMRSEDPRSVINLLRNVCSE\n",
      "NPGALIKDIRENGMKVGLAIKPGTSVEYLAPWANQIDMALVMTVEPGFGGQKFMEDMMPKVHWLRTQFPSLDIEVDGGVGPDTVHKCAEAGANMIVSGSAIMRSEDPRSVINLLRNVCSE\n"
     ]
    },
    {
     "data": {
      "application/vnd.jupyter.widget-view+json": {
       "model_id": "c214fb17bb73403e9c4589d101aae37f",
       "version_major": 2,
       "version_minor": 0
      },
      "text/plain": [
       "HBox(children=(IntProgress(value=0, max=702), HTML(value='')))"
      ]
     },
     "metadata": {},
     "output_type": "display_data"
    },
    {
     "name": "stdout",
     "output_type": "stream",
     "text": [
      "\n",
      "VCPECGRGFCQRSDLIKHQRTHTGEKPYLCPECGRRFSQKASLSIHQRKHSGEKPYVCRECGRFHRYTSSLTNHKRIHSGERPFVCQECGRGFRQKIALLLHQRTHLEEKPFVCPECGRG\n",
      "VCPECGRGFCQRSDLIKHQRTHTGEKPYLCPECGRRFSQKASLSIHQRKHSGEKPYVCRECGRHFRYTSSLTNHKRIHSGERPFVCQECGRGFRQKIALLLHQRTHLEEKPFVCPECGRG\n"
     ]
    },
    {
     "data": {
      "application/vnd.jupyter.widget-view+json": {
       "model_id": "1625bd93dd5f4c0781da16da57726bc3",
       "version_major": 2,
       "version_minor": 0
      },
      "text/plain": [
       "HBox(children=(IntProgress(value=0, max=702), HTML(value='')))"
      ]
     },
     "metadata": {},
     "output_type": "display_data"
    },
    {
     "name": "stdout",
     "output_type": "stream",
     "text": [
      "\n",
      "VQPPEMIGPMRPEQFSDEVEPATPEEGEPATQRQDPAAAQEGEDEGASAGQGPKPEADSQEQGHPQTGCECEDGPDGQEMDPPNPEEVKTPEEEMRSHYVAQTGILWLLMNNCFLNLSPR\n",
      "VQPPEMIGPMRPEQFSDEVEPATPEEGEPATQRQDPAAAQEGEDEGASAGQGPKPEADSQEQGHPQTGCECEDGPDGQEMDPPNPEEVKTPEEEMRSHYVAQTGILWLLMNNCFLNLSPR\n"
     ]
    },
    {
     "data": {
      "application/vnd.jupyter.widget-view+json": {
       "model_id": "e7dabe9fe8d54ef59013efa7e7f0316d",
       "version_major": 2,
       "version_minor": 0
      },
      "text/plain": [
       "HBox(children=(IntProgress(value=0, max=702), HTML(value='')))"
      ]
     },
     "metadata": {},
     "output_type": "display_data"
    },
    {
     "name": "stdout",
     "output_type": "stream",
     "text": [
      "\n",
      "HAALRETVNALISDQKLQEIFSRGPYSVQGHRVKIYQPEGEEGWLYGVVSHHDSITRLMEVSVTESGEIKVVDPRLIHVMLMDNSAPQSEGGTLKAVKSSKGKKKRESIEGKDGRRRKSA\n",
      "HAALRETVNALISDQKLQEIFSRGPYSVQGHRVKIYQPEGEEGWLYGVVSHQDSITRLMEVSVTESGEIKSVDPRLIHVMLMDNSAPQSEGGTLKAVKSSKGKKKRESIEGKDGRRRKSA\n"
     ]
    },
    {
     "data": {
      "application/vnd.jupyter.widget-view+json": {
       "model_id": "27a51909bc194ef8997191dedd58220f",
       "version_major": 2,
       "version_minor": 0
      },
      "text/plain": [
       "HBox(children=(IntProgress(value=0, max=702), HTML(value='')))"
      ]
     },
     "metadata": {},
     "output_type": "display_data"
    },
    {
     "name": "stdout",
     "output_type": "stream",
     "text": [
      "\n",
      "AYKWSYAQMQPSLPLQFLVWVTFPLVLILFSALFCHLISPQAGVSVIPEMKTILRGVLVKEYLTMKAFVAKVVALTAGLGSGIPVGKEGPFVHIASICAAVLSKFMSVFCGVYEQPYYYS\n",
      "AYKWSYAQMQPSLPLQFLVWVTFPLVLILFSALFCHLISPQAVGSGIPEMKTILRGVVLKEYLTMKAFVAKVVALTAGLGSGIPVGKEGPFVHIASICAAVLSKFMSVFCGVYEQPYYYS\n"
     ]
    },
    {
     "data": {
      "application/vnd.jupyter.widget-view+json": {
       "model_id": "3ce954914cfe4ff093424dc804d0c57c",
       "version_major": 2,
       "version_minor": 0
      },
      "text/plain": [
       "HBox(children=(IntProgress(value=0, max=702), HTML(value='')))"
      ]
     },
     "metadata": {},
     "output_type": "display_data"
    },
    {
     "name": "stdout",
     "output_type": "stream",
     "text": [
      "\n",
      "PNTKDLSLNKLGIQTDKHGDIIVDEFFNPRVKGIYAVDGVCCKLANLPVAIAAGRKLAHRLFEYKEDSKLDYNNIPTVVFSHPPIGTVGLTEDEAIHKYGIENVKTYSTSFTPMYHAVTK\n",
      "PNTKDLSLNKLGIQTDDKGHIIVDEFQNTNVKGIYAVGDVCGKALLTPVAIAAGRKLAHRLFEYKEDSKLDYNNIPTVVFSHPPIGTVGLTEDEAIHKYGIENVKTYSTSFTPMYHAVTK\n"
     ]
    },
    {
     "data": {
      "application/vnd.jupyter.widget-view+json": {
       "model_id": "a36149df378c4195bed1a4037457c2f3",
       "version_major": 2,
       "version_minor": 0
      },
      "text/plain": [
       "HBox(children=(IntProgress(value=0, max=702), HTML(value='')))"
      ]
     },
     "metadata": {},
     "output_type": "display_data"
    },
    {
     "name": "stdout",
     "output_type": "stream",
     "text": [
      "\n",
      "LKVPPYLGYRFLGERDCGAPCEPGRANGLMYFKEEERRFARLWVGVWSVLCCASTLFTLVTYLVDMRRFSYPERPIIFLSGCYFMVAVAHVAGFLLEDRAVCVERFSDDGYRTVAQGTKK\n",
      "LKVPPYLGYRFLGERDCGAPCEPGRANGLMYFKEEERRFARLWVGVWSVLCCASTLFTVLTYLVDMRRFSYPERPIIFLSGCYFMVAVAHVAGFLLEDRAVCVERFSDDGYRTVAQGTKK\n"
     ]
    },
    {
     "data": {
      "application/vnd.jupyter.widget-view+json": {
       "model_id": "926c6fc013d448c18341178474b839d2",
       "version_major": 2,
       "version_minor": 0
      },
      "text/plain": [
       "HBox(children=(IntProgress(value=0, max=702), HTML(value='')))"
      ]
     },
     "metadata": {},
     "output_type": "display_data"
    },
    {
     "name": "stdout",
     "output_type": "stream",
     "text": [
      "\n",
      "DKDKTSTVAPTIHTTVPSPTTTPTPKEKPEAGTYSVNNGNDTCLLATMGLQLNITQDKVASVININPNTTHSTGSCRSHTALLRLNSSTIKYLDFVFAVKENNRFYLKEVNISMYLVNGS\n",
      "DKDKTSTVAPTIHTTVPSPTTTPTPKEKPEAGTYSVNNGNDTCLLATMGLQLNITQDKVASVININPNTTHSTGSCRSHTALLRLNSSTIKYLDFVFAVKNENRFYLKEVNISMYLVNGS\n"
     ]
    },
    {
     "data": {
      "application/vnd.jupyter.widget-view+json": {
       "model_id": "d945a015d0d148baa9bd7675fbf322ee",
       "version_major": 2,
       "version_minor": 0
      },
      "text/plain": [
       "HBox(children=(IntProgress(value=0, max=702), HTML(value='')))"
      ]
     },
     "metadata": {},
     "output_type": "display_data"
    },
    {
     "name": "stdout",
     "output_type": "stream",
     "text": [
      "\n",
      "GAPGKDGPAGLRGFPGERGLPGTAGGPGLKGNEGPSGPPGPAGSPGERGAAGSGGPIGPPGRPGPQGPPGAAGEKGVPGEKGPIGPTGRDGVQGPVGLPGPAGPPVGAGEDGDKGEVGDP\n",
      "GAPGKDGPAGLRGFPGERGLPGTAGGPGLKGNEGPSGPPGPAGSPGERGAAGSGGPIGPPGRPGPQGPPGAAGEKGVPGEKGPIGPTGRDGVQGPVGLPGPAGPPGVAGEDGDKGEVGDP\n"
     ]
    },
    {
     "data": {
      "application/vnd.jupyter.widget-view+json": {
       "model_id": "aace83a90b8d4edaae3c60cb7b404fa4",
       "version_major": 2,
       "version_minor": 0
      },
      "text/plain": [
       "HBox(children=(IntProgress(value=0, max=702), HTML(value='')))"
      ]
     },
     "metadata": {},
     "output_type": "display_data"
    },
    {
     "name": "stdout",
     "output_type": "stream",
     "text": [
      "\n",
      "QKQRLEFAFYVIEQTGTQPFNRAMFFNVGFKEAMKDSVWDCVIFHDVHHLPENDNNYYGCGEMPRHFAAKLDKYMYILPYKEFFGGVSGTVVEQFRKINGFPNAFWGWGGEDDDLWNRVH\n",
      "QKQRLEFAFYVIEQTGTQPFNRAMLFNVGFKEAMKDSVWDCVIFHDVDHLPENDRNYYGCGEMPRHFAAKLDKYMYILPYKEFFGGVSGLTVEQFRKINGFPNAFWGWGGEDDDLWNRVH\n"
     ]
    },
    {
     "data": {
      "application/vnd.jupyter.widget-view+json": {
       "model_id": "46fd3c2c79f34675b09649d57b6d1de0",
       "version_major": 2,
       "version_minor": 0
      },
      "text/plain": [
       "HBox(children=(IntProgress(value=0, max=702), HTML(value='')))"
      ]
     },
     "metadata": {},
     "output_type": "display_data"
    },
    {
     "name": "stdout",
     "output_type": "stream",
     "text": [
      "\n",
      "KQVLSSRGMKAVLLADTEIDLFSTDIPPTNAVDFTGRCYFTKICKCKLKDIACLKCGNIVGYHVIVPCSSCLLSCNNGHFWMFHSQAVYDINRLDSTGVNVLNWGNLPEIEESTDEDVLN\n",
      "KQVLSSRGMKAVLLADTEIDLFSTDIPPTNAVDFTGRCYFTKICKCKLKDIACLKCGNIVGYHVIVPCSSCLLSCNNGHFWMFHSQAVYDINRLDSTGVNVLLWGNLPEIEESTDEDVLN\n"
     ]
    },
    {
     "data": {
      "application/vnd.jupyter.widget-view+json": {
       "model_id": "73bac407c255456eafa45984ae074921",
       "version_major": 2,
       "version_minor": 0
      },
      "text/plain": [
       "HBox(children=(IntProgress(value=0, max=702), HTML(value='')))"
      ]
     },
     "metadata": {},
     "output_type": "display_data"
    },
    {
     "name": "stdout",
     "output_type": "stream",
     "text": [
      "\n",
      "SSYLNPNSLEGKKGYYKGTCASVKVYKLGIFSVVSCLKKESFTVTKKGLALKSSMDSRISLNYPPGVFTSPVLVQLKIQPVDPALVAHLKAQQDTFYSVQSTSPLIHIQHPSTYPFQKPV\n",
      "SSYLNPNSLEGMKGGYKGTCASVKVYKLGIFSVVSCLKKESFTVTKKGLALKSSMDSRISLNYPPGVFTSPVLVQLKIQPVDPALVAHLKAQQDTFYSVQSTSPLIHIQHPSTYPFQKPV\n"
     ]
    },
    {
     "data": {
      "application/vnd.jupyter.widget-view+json": {
       "model_id": "83711deadaae48f3a9e02e2006ce9c7e",
       "version_major": 2,
       "version_minor": 0
      },
      "text/plain": [
       "HBox(children=(IntProgress(value=0, max=702), HTML(value='')))"
      ]
     },
     "metadata": {},
     "output_type": "display_data"
    },
    {
     "name": "stdout",
     "output_type": "stream",
     "text": [
      "\n",
      "SYELAFSALKYQDILETILIDSCIFPSTTIPDHLSSLIIVMLYDFQDRKFQTRVLSDNEEPISEVQEVENLLNSFKIKLAAALARCRIKHDALSIYHILPETVRKSELRATSLLLYAWIN\n",
      "SYELAFSALKYQDILETILIDSCIFPSTTIPDHLSSLIIVMLYDFQDRKFQTRVLSDNEEPISEVQEVENLLNSFKIKLAAALARCRIKHDALSIYHILPETVRKQELRASTLPLYAWIN\n"
     ]
    },
    {
     "data": {
      "application/vnd.jupyter.widget-view+json": {
       "model_id": "5c17dd4b01774dbfb6b4b2db4b2f03a8",
       "version_major": 2,
       "version_minor": 0
      },
      "text/plain": [
       "HBox(children=(IntProgress(value=0, max=702), HTML(value='')))"
      ]
     },
     "metadata": {},
     "output_type": "display_data"
    },
    {
     "name": "stdout",
     "output_type": "stream",
     "text": [
      "\n",
      "TAVQNSETHETCDAHHRGHSRACTGHSKRHRSRALGVQTPSIRKSLVTSVRAMSEAVYQDLAQVWAQQIHSPLTCEQLTLLTRLRGPLCAQVQTLYSMATQAAYVFPAESWLVPATLPGP\n",
      "TAVHNSEIQETCDAHHRGHSRACTGHSKRHRSRALGVQTPSIRKSLVTSVRAMSEAVYQDLAQVWAQQIHSPLTCEQLTLLTRLRGPLCAQVQTLYSMATQAAYVFPAESWLVPATLPGP\n"
     ]
    },
    {
     "data": {
      "application/vnd.jupyter.widget-view+json": {
       "model_id": "81fa032e3cae4cc389bacca813ae238f",
       "version_major": 2,
       "version_minor": 0
      },
      "text/plain": [
       "HBox(children=(IntProgress(value=0, max=702), HTML(value='')))"
      ]
     },
     "metadata": {},
     "output_type": "display_data"
    },
    {
     "name": "stdout",
     "output_type": "stream",
     "text": [
      "\n",
      "LALLTLIISVTTSWLNSFKSPQVYLKEEEEKNEKRQKLVRKKQQEAQGEKASRYIENVLKPHQEMKLRKLEERFYQMTGEAWKLSSGHLLGGDEGTSQQSFETSNREAAKSQNLPKPLTE\n",
      "LALLTLIISVTTSWLNSFKSPQVYLKEEEEKNEKRQKLVRKKQQEAQGEKASRYIENVLKPHQEMKLRKLEERFYQMTGEAWKLSSGHKLGGDEGTSQTSFETSNREAAKSQNLPKPLTE\n"
     ]
    },
    {
     "data": {
      "application/vnd.jupyter.widget-view+json": {
       "model_id": "2d9bd3213ac6498ab0ba08b59183d43c",
       "version_major": 2,
       "version_minor": 0
      },
      "text/plain": [
       "HBox(children=(IntProgress(value=0, max=702), HTML(value='')))"
      ]
     },
     "metadata": {},
     "output_type": "display_data"
    },
    {
     "name": "stdout",
     "output_type": "stream",
     "text": [
      "\n",
      "RQVLVSADDRVKKCIGGVIFFHETLYQKDDNGVPFVRTIQDKGIVVGIKVDKGVVPLAGTDGETTTQGLDGLSERCAQYKKDGADFKKWRCVLKISERTPSALAILENANVLARYASICQ\n",
      "RQVLFSADDRVKKCIGGVIFFHETLYQKDDNGVPFVRTIQDKGIVVGIKVDKGVVPLAGTDGETTTQGLDGLSERCAQYKKDGADFAKWRCVLKISERTPSALAILENANVLARYASICQ\n"
     ]
    },
    {
     "data": {
      "application/vnd.jupyter.widget-view+json": {
       "model_id": "2b0742cb6a914a9aaa664ee1238a4255",
       "version_major": 2,
       "version_minor": 0
      },
      "text/plain": [
       "HBox(children=(IntProgress(value=0, max=734), HTML(value='')))"
      ]
     },
     "metadata": {},
     "output_type": "display_data"
    },
    {
     "name": "stdout",
     "output_type": "stream",
     "text": [
      "\n",
      "SEVFIGRLPQDVYEHQLIPLFQRVGRLYEFRLMMTFSGLNRGFAYARYSSRRGAQAAIATLHNHPLRPSCPLLVCRSTEKCELSVDGLPPNLTRSALLLALQPLGPGLQEARLLPSPGPAP\n",
      "SEVFIGRLPQDVYEHQLIPLFQRVGRLYEFRLMMTFSGLNRGFAYARYSSRRGAQAAIATLHNHPLRPSCPLLVCRSTEKCELSVDGLPPNLTRSALLLALQPLGPGLQEARLLPSPGPAP\n"
     ]
    },
    {
     "data": {
      "application/vnd.jupyter.widget-view+json": {
       "model_id": "fc1202d602cd4838918177ee2fc0e7a4",
       "version_major": 2,
       "version_minor": 0
      },
      "text/plain": [
       "HBox(children=(IntProgress(value=0, max=734), HTML(value='')))"
      ]
     },
     "metadata": {},
     "output_type": "display_data"
    },
    {
     "name": "stdout",
     "output_type": "stream",
     "text": [
      "\n",
      "MELRGAPLVVICQGKIMLEDGNVHVTQGAGRFIPCSPFSDYVYKRIKARRKMADLHAVPRGMYDGPVFDLTTTPKGGTPAGSARGSPTRPNPPVRNLQQSGFSLSGTQVDEGVRSASKRIV\n",
      "MELRGAPLVVICQGKIMLEDGNLHVTQGAGRFIPCSPFSDYVYKRIKARRKMADLHAVPRGMYDGPVFDLTTTPKGGTPAGSARGSPTRPNPPVRNLHQSGFSLSGTQVDEGVRSASKRIV\n"
     ]
    },
    {
     "data": {
      "application/vnd.jupyter.widget-view+json": {
       "model_id": "9cdecbe57d2c474aac8305d71c6e477b",
       "version_major": 2,
       "version_minor": 0
      },
      "text/plain": [
       "HBox(children=(IntProgress(value=0, max=734), HTML(value='')))"
      ]
     },
     "metadata": {},
     "output_type": "display_data"
    },
    {
     "name": "stdout",
     "output_type": "stream",
     "text": [
      "\n",
      "GTHSPESDSIQWFHNGNLIPTHTQPSYRFKANNNDSGEYTCQTGQTSLSDPVHLTVLSEWLVLQTPHLEFQEGETIVLRCHSWKDKPLVKVTFQQNGKSKKFSRSDPNFSIPQANHSHSGD\n",
      "GTHSPESDSIQWFHNGNLIPTHTQPSYRFKANNNDSGEYTCQTGQTSLSDPVHLTVLSEWLVLQTPHLEFQEGETIVLRCHSWKDKPLVKVTFFQNGKSKKFSRSDPNFSIPQANHSHSGD\n"
     ]
    },
    {
     "data": {
      "application/vnd.jupyter.widget-view+json": {
       "model_id": "6dd198e1296b4cefb9529b5adcacbd05",
       "version_major": 2,
       "version_minor": 0
      },
      "text/plain": [
       "HBox(children=(IntProgress(value=0, max=734), HTML(value='')))"
      ]
     },
     "metadata": {},
     "output_type": "display_data"
    },
    {
     "name": "stdout",
     "output_type": "stream",
     "text": [
      "\n",
      "RKELLISTSELKEMSEYYFDGKGKAFRPIIVALMARACNIHNHNHRHVQASQRAIALIAEMIHTASLVHDDVIDDASSRRGKHTVNKIWGEKKAVLAGDLILSAASIALARIGNTTVISIL\n",
      "RKELLISTSELKEMSEYYFDGKGKAFRPIIVALMARACNIHHNNSRHVQASQRAIALIAEMIHTASLVHDDVIDDASSRRGKHTVNKIWGEKKAVLAGDLILSAASIALARIGNTTVISIL\n"
     ]
    },
    {
     "data": {
      "application/vnd.jupyter.widget-view+json": {
       "model_id": "f6d0223bb3324001a4b15be059b0c52a",
       "version_major": 2,
       "version_minor": 0
      },
      "text/plain": [
       "HBox(children=(IntProgress(value=0, max=734), HTML(value='')))"
      ]
     },
     "metadata": {},
     "output_type": "display_data"
    },
    {
     "name": "stdout",
     "output_type": "stream",
     "text": [
      "\n",
      "ITRAFCLHQEIMRLACADITFNLRYPVPIISLTIFLDCLIILFSYILILNTVIGIASGEERAKALNTCISHICSVLIFYVTVMGLTFIYRFGKNVPEVVHIIMSYIYFLFPPLMNVPIISI\n",
      "ITRAFCLHQEIMRLACADITFNRLYPVILISLTIFLDCLIILFSYILILNTVIGIASGEERAKALNTCISHISCVLIFYVTVMGLTFIYRFGKNVPEVVHIIMSYIYFLFPPLMNPVIYSI\n"
     ]
    },
    {
     "data": {
      "application/vnd.jupyter.widget-view+json": {
       "model_id": "3f82d81f4c1d40bd812210d9f8647c2f",
       "version_major": 2,
       "version_minor": 0
      },
      "text/plain": [
       "HBox(children=(IntProgress(value=0, max=734), HTML(value='')))"
      ]
     },
     "metadata": {},
     "output_type": "display_data"
    },
    {
     "name": "stdout",
     "output_type": "stream",
     "text": [
      "\n",
      "MGFIFSKSMNESMKNQKEFMLMNARLQLERQLIMQSEMRERQMAMQIAWSREFLKYFGTFFGLAASILIAGAIKKKKPAFLVPIVPLSFILTYQYDLGYGTLLERMKGEAEDILETEKSKL\n",
      "MGFIFSKSMNESMKNQKEFMLMNARLQLERQLIMQSEMRERQMAMQIAWSREFLKYFGTFFGLAAISLTAGAIKKKKPAFLVPIVPLSFILTYQYDLGYGTLLERMKGEAEDILETEKSKL\n"
     ]
    },
    {
     "data": {
      "application/vnd.jupyter.widget-view+json": {
       "model_id": "3692c47c41e243148be737dee8e78dab",
       "version_major": 2,
       "version_minor": 0
      },
      "text/plain": [
       "HBox(children=(IntProgress(value=0, max=734), HTML(value='')))"
      ]
     },
     "metadata": {},
     "output_type": "display_data"
    },
    {
     "name": "stdout",
     "output_type": "stream",
     "text": [
      "\n",
      "TVQRRVEPKVTVYPARTQTLHHHNLLVCSVNGFYPGSIEVRWFRNSQEEKAGVVSTGLIQNGDWTFQTLVMLETVPRSGEVYTCQVEHPSVTSPLTVEWRAQSESAQSKMLSGVGGFVLGL\n",
      "TVQRRVEPKVTVYPARTQTLQHHNLLVCSVNGFYPGSIEVRWFRNSQEEKAGVVSTGLIQNGDWTFQTLVMLETVPRSGEVYTCQVEHPSVTSPLTVEWRAQSESAQSKMLSGVGGFVLGL\n"
     ]
    },
    {
     "data": {
      "application/vnd.jupyter.widget-view+json": {
       "model_id": "cc59bf7b51bf4a40a3e842cce48087ac",
       "version_major": 2,
       "version_minor": 0
      },
      "text/plain": [
       "HBox(children=(IntProgress(value=0, max=734), HTML(value='')))"
      ]
     },
     "metadata": {},
     "output_type": "display_data"
    },
    {
     "name": "stdout",
     "output_type": "stream",
     "text": [
      "\n",
      "RDGRKVTVIERDLKEPDRIVGEFLQPGGYHVLKDLGLGDTVEGLDAQVVNGYMIHDQESKSEVQIPYPLSENNQVQSGRAFHHGRFIMSLRKAAMAEPNAKFIEGVVLQLLERDDVVMGVQ\n",
      "RDGRKVTVIERDLKEPDRIVGEFLQPGGYHVLKDLGLGDTVEGLDAQVVNGYMIHDQESKSEVQIPYPLSENNQVQSGRAFHHGRFIMSLRKAAMAEPNAKFIEGVVLQLLEEDDVVMGVQ\n"
     ]
    },
    {
     "data": {
      "application/vnd.jupyter.widget-view+json": {
       "model_id": "5d5e081e7db54a1880087938ad2da4fa",
       "version_major": 2,
       "version_minor": 0
      },
      "text/plain": [
       "HBox(children=(IntProgress(value=0, max=734), HTML(value='')))"
      ]
     },
     "metadata": {},
     "output_type": "display_data"
    },
    {
     "name": "stdout",
     "output_type": "stream",
     "text": [
      "\n",
      "SLFFSLVPPGRSMEVTVPATLNVLNGSSARLPCTFNSCTTVNHGQFSLNWTYQECNNCSEEMFLQFRMKIINLKLERFQDRVEFSGNPSKYDVSVMLRNVQPEDEGIYNCYIMNPPDRHRG\n",
      "SLFFSLVPPGRSMEVTVPATLNVLNGSDARLPCTFNSCYTVNHKQFSLNWTYQECNNCSEEMFLQFRMKIINLKLERFQDRVEFSGNPSKYDVSVMLRNVQPEDEGIYNCYIMNPPDRHRG\n"
     ]
    },
    {
     "data": {
      "application/vnd.jupyter.widget-view+json": {
       "model_id": "8562e9d7ef41466bb83a42c228ce05c8",
       "version_major": 2,
       "version_minor": 0
      },
      "text/plain": [
       "HBox(children=(IntProgress(value=0, max=734), HTML(value='')))"
      ]
     },
     "metadata": {},
     "output_type": "display_data"
    },
    {
     "name": "stdout",
     "output_type": "stream",
     "text": [
      "\n",
      "KQGGKARAKAKSRSSRAGLQFPVRRVHRLLRKGNYSERVGAGAPVYLAAVLEYLTAEILELAGNAARDNKKTRIIPHRLRLAIRNDEELNLLLRRVTIAGGGPQNIQNAVLLKPPEESHHK\n",
      "KQGGKARAKAKSRSSRAGLQFPVGRVHRLLRKGNYSERVGAGAPVYLAAVLEYLTAEILELAGNAARDNKKTRIIPRHLQLAIRNDEELNKLLGRVTIAQGGVLPNIQAVLLPKKTESHHK\n"
     ]
    },
    {
     "data": {
      "application/vnd.jupyter.widget-view+json": {
       "model_id": "fd78e9d7da834748b91b51e8f95fb6fe",
       "version_major": 2,
       "version_minor": 0
      },
      "text/plain": [
       "HBox(children=(IntProgress(value=0, max=734), HTML(value='')))"
      ]
     },
     "metadata": {},
     "output_type": "display_data"
    },
    {
     "name": "stdout",
     "output_type": "stream",
     "text": [
      "\n",
      "AVRARSPECLLLLVDSGAEVAATERQGGRTALHLATEMEELGLVTHLVTKLRANVNARTFAGNTPLHLAAGLGYPTTTRLLLKAGADIHAENEEPLCPLPSPPTSDSDSDSEGPEKDTRSS\n",
      "AVRARSPECLDLLVDSGAEVEATERQGGRTALHLATEMEELGLVTHLVTKLRANVNARTFAGNTPLHLAAGLGYPTLTRLLLKAGADIHAENEEPLCPLPSPPTSDSDSDSEGPEKDTRSS\n"
     ]
    },
    {
     "data": {
      "application/vnd.jupyter.widget-view+json": {
       "model_id": "ccf4b99ca99a46d8b3b5245db3fbc745",
       "version_major": 2,
       "version_minor": 0
      },
      "text/plain": [
       "HBox(children=(IntProgress(value=0, max=734), HTML(value='')))"
      ]
     },
     "metadata": {},
     "output_type": "display_data"
    },
    {
     "name": "stdout",
     "output_type": "stream",
     "text": [
      "\n",
      "QHPELTPLLEKERDGLRCRGNRSPVPDVEDPATEEPGESFCDKVMRWFQAMLQRLHTWWHGVLAWVKEKVVALVHAVQALWKQQFSFCCLLSELFMSSFQSYGAPRGDKEELTPQKCSEPQ\n",
      "QHPELTPLLEKERDGLRCRGNRSPVPDVEDPATEEPGESFCDKVMRWFQAMLQRLQTWWHGVLAWVKEKVVALVHAVQALWKQFQSFCCSLSELFMSSFQSYGAPRGDKEELTPQKCSEPQ\n"
     ]
    },
    {
     "data": {
      "application/vnd.jupyter.widget-view+json": {
       "model_id": "0a08244459ab4d84b05a16e23060a139",
       "version_major": 2,
       "version_minor": 0
      },
      "text/plain": [
       "HBox(children=(IntProgress(value=0, max=734), HTML(value='')))"
      ]
     },
     "metadata": {},
     "output_type": "display_data"
    },
    {
     "name": "stdout",
     "output_type": "stream",
     "text": [
      "\n",
      "SFYADIYMEDGLIKQIGDNLIVPGGVKTIEANGKMVIPGGIDVHTHQQMPYKGMTTVDDFFQGTKAALAGGTTMIIDHVVPEPESSLTYAYEKWREWADGKSCCDYALHVDITHWNDSVKQ\n",
      "SFYADIYMEDGLIKQIGDNLIVPGGVKTIEANGKMVIPGGIDVHTHFQMPYKGMTTVDDFFQGTKAALAGGTTMIIDHVVPEPESSLTEAYEKWREWADGKSCCDYALHVDITHWNDSVKQ\n"
     ]
    },
    {
     "data": {
      "application/vnd.jupyter.widget-view+json": {
       "model_id": "6daa8a3be44142b6bf3f0c16a1dbaa94",
       "version_major": 2,
       "version_minor": 0
      },
      "text/plain": [
       "HBox(children=(IntProgress(value=0, max=734), HTML(value='')))"
      ]
     },
     "metadata": {},
     "output_type": "display_data"
    },
    {
     "name": "stdout",
     "output_type": "stream",
     "text": [
      "\n",
      "ELQEAQDQRRDAELRVHELEKLDVEYRGQAQAIFELKEQISLAEKKMLDYERLQRAEAQGKQEVESLREKLLVAENRLQAVEALCSSQHTHMIESNDISEETIRTKETVEGLQDLKNKRDK\n",
      "ELQEAQDQRRDAELRVHELEKLDVEYRGQAQAIEFLKEQISLAEKKMLDYERLQRAEAQGKQEVESLREKLLVAENRLQAVEALCSSQHTHMIESNDISEETIRTKETVEGLQDKLNKRDK\n"
     ]
    },
    {
     "data": {
      "application/vnd.jupyter.widget-view+json": {
       "model_id": "b64c39264a8c4c808983d8fdad31fd6d",
       "version_major": 2,
       "version_minor": 0
      },
      "text/plain": [
       "HBox(children=(IntProgress(value=0, max=734), HTML(value='')))"
      ]
     },
     "metadata": {},
     "output_type": "display_data"
    },
    {
     "name": "stdout",
     "output_type": "stream",
     "text": [
      "\n",
      "SLLCLMVQGVVDRELQLAGFDPSQDGLQPGALSSLTNGSAAMLDCGRDCYAIRVATALTLMTGLYQVLMGVLRLGFVSAYLSQPLLDGFAMGGSVTILTSQLHHLLGVRIPRHQGPGMVVL\n",
      "SLLCLMVGQVVDRELQLAGFDPSQDGLQPGANSSTLNGSAAMLDCGRDCYAIRVATALTLMTGLYQVLMGVLRLGFVSAYLSQPLLDGFAMGASVTILTSQLKHLLGVRIPRHQGPGMVVL\n"
     ]
    },
    {
     "data": {
      "application/vnd.jupyter.widget-view+json": {
       "model_id": "a1012ee081fc4dccb7d8cc486231cfce",
       "version_major": 2,
       "version_minor": 0
      },
      "text/plain": [
       "HBox(children=(IntProgress(value=0, max=734), HTML(value='')))"
      ]
     },
     "metadata": {},
     "output_type": "display_data"
    },
    {
     "name": "stdout",
     "output_type": "stream",
     "text": [
      "\n",
      "RTACLLLPGRLDCRLGPGAPAGAQPAQPPSSYSLPLLCLKVFRWPDLRHSSEVRRLCCCESYGKINPPLVCCNPHHLSRLCELESPPPPYSRYPMDFLKPTADCPDAVPSSAETGGTNYLA\n",
      "RTACLLLPGRLDCRLGPGAPAGAQPAQPPSSYSLPLLLCKVFRWPDLRHSSEVKRLCCCESYGKINPELVCCNPHHLSRLCELESPPPPYSRYPMDFLKPTADCPDAVPSSAETGGTNYLA\n"
     ]
    },
    {
     "data": {
      "application/vnd.jupyter.widget-view+json": {
       "model_id": "b8bf28e0ae29473d8cb62e4d74afd473",
       "version_major": 2,
       "version_minor": 0
      },
      "text/plain": [
       "HBox(children=(IntProgress(value=0, max=734), HTML(value='')))"
      ]
     },
     "metadata": {},
     "output_type": "display_data"
    },
    {
     "name": "stdout",
     "output_type": "stream",
     "text": [
      "\n",
      "SVLTVKTSTREWNGTYHCIFRYKNSYSIATKDVIVHPLPLKLNIMVDPLEATVSCSGSHHIKCCIEEDGDYKVTFHTGSSSLPAAKEVNKKQVCYKHNFNASSVSWCSKTVDVCCHFTNAA\n",
      "SVLTVKTSTREWNGTYHCIFRYKNSYSIATKDVIVHPLPLKLNIMVDPLEATVSCSGSHHIKCCIEEDGDYKVTFHTGSSSLPAAKEVNKKQVCYKHNFNASSVSWCSKTVDVCCHFTNAA\n"
     ]
    },
    {
     "data": {
      "application/vnd.jupyter.widget-view+json": {
       "model_id": "b785406674bc49d1898b8f1e5511183c",
       "version_major": 2,
       "version_minor": 0
      },
      "text/plain": [
       "HBox(children=(IntProgress(value=0, max=734), HTML(value='')))"
      ]
     },
     "metadata": {},
     "output_type": "display_data"
    },
    {
     "name": "stdout",
     "output_type": "stream",
     "text": [
      "\n",
      "GGTCFNTLGGHSCVCGNGTGSESCSQNIDDCATAVCFHGATCHDRVASFYCACPMGKTGLLCHLDDACVSNPCHEDAICDTNPVNGRAICTCPGTFTGGACDQDVDECSIGANPCEHLGRC\n",
      "GGTCFNTLGGHSCVCVNGWTGESCSQNIDDCATAVCFHGATCHDRVASFYCACPMGKTGLLCHLDDACVSNPCHEDAICDTNPVNGRAICTCPPGFTGGACDQDVDECSIGANPCEHLGRC\n"
     ]
    },
    {
     "data": {
      "application/vnd.jupyter.widget-view+json": {
       "model_id": "2232731992bd4917ab86ec56349c4509",
       "version_major": 2,
       "version_minor": 0
      },
      "text/plain": [
       "HBox(children=(IntProgress(value=0, max=734), HTML(value='')))"
      ]
     },
     "metadata": {},
     "output_type": "display_data"
    },
    {
     "name": "stdout",
     "output_type": "stream",
     "text": [
      "\n",
      "LLSLAVDDLLLAVACMPFTLLPNLMGTFIFGTVICKAVSYLMGVSVSVSTLSLVAIALERYSAICRPLQARVWQTRSHAARVIVATWLLSGLLMVPYPVYTVVQPVGPRVLQCVHRWPSAR\n",
      "LLSLAVSDLLLAVACMPFTLLPNLMGTFIFGTVICKAVSYLMGVSVSVSTLSLVAIALERYSAICRPLQARVWQTRSHAARVIVATWLLSGLLMVPYPVYTVVQPVGPRVLQCVHRWPSAR\n"
     ]
    },
    {
     "data": {
      "application/vnd.jupyter.widget-view+json": {
       "model_id": "d4e00da4d12442ee935632e3c2fc01b1",
       "version_major": 2,
       "version_minor": 0
      },
      "text/plain": [
       "HBox(children=(IntProgress(value=0, max=734), HTML(value='')))"
      ]
     },
     "metadata": {},
     "output_type": "display_data"
    },
    {
     "name": "stdout",
     "output_type": "stream",
     "text": [
      "\n",
      "KAFGSGANLAYHQRIHTGEKPFECKECGKAFGSGSNLTHHQRIHTGEKPYECKECGKAFSFGSGLIRHQIIHSGEKPYECKECGKSFSFESALIRHHRIHTGEKPYECIDCGKAFGSGSNL\n",
      "KAFGSGANLAYHQRIHTGEKPFECKECGKAFGSGSNLTHHQRIHTGEKPYECKECGKAFSFGSGLIRHQIIHSGEKPYECKECGKSFSFESALIRHHRIHTGEKPYECIDCGKAFGSGSNL\n"
     ]
    },
    {
     "data": {
      "application/vnd.jupyter.widget-view+json": {
       "model_id": "cd3b37be2f9b4585b11bba8f979716b3",
       "version_major": 2,
       "version_minor": 0
      },
      "text/plain": [
       "HBox(children=(IntProgress(value=0, max=734), HTML(value='')))"
      ]
     },
     "metadata": {},
     "output_type": "display_data"
    },
    {
     "name": "stdout",
     "output_type": "stream",
     "text": [
      "\n",
      "AATLGADVVVTDLEELQDLLKMNINMNKHLVTGSVQKKVKKWGEEIEGFPSPPDFILMADCIYYEESLEPLLKTLKDISGFETCIICCYEQRTMGKNPEIEKKYFELLQLDFDFEKIPLEK\n",
      "AATLGADVVVTDLEELQDLLKMNINMNKHLVTGSVQAKVLKWGEEIEGFPSPPDFILMADCIYYEESLEPLLKTLKDISGFETCIICCYEQRTMGKNPEIEKKYFELLQLDFDFEKIPLEK\n"
     ]
    },
    {
     "data": {
      "application/vnd.jupyter.widget-view+json": {
       "model_id": "855edb1ace914be39bca99824f969ccd",
       "version_major": 2,
       "version_minor": 0
      },
      "text/plain": [
       "HBox(children=(IntProgress(value=0, max=734), HTML(value='')))"
      ]
     },
     "metadata": {},
     "output_type": "display_data"
    },
    {
     "name": "stdout",
     "output_type": "stream",
     "text": [
      "\n",
      "IIDENKFVCKEDYLSNSSVAFENSLHSATTGSDPSLSPSSQDPSQDDAKDSESANVSDKEAGSNENDDQNLGAKRGGPRTTIKAKQLETLKAAFAATPKPTRHIREQLAQETGLNMRVIQV\n",
      "IIDENKFVCKEDYLSNSSVAKENSLHSATTGSDPSLSPDSQDPSQDDAKDSESANVSDKEAGSNENDDQNLGAKRRGPRTTIKAKQLETLKAAFAATPKPTRHIREQLAQETGLNMRVIQV\n"
     ]
    },
    {
     "data": {
      "application/vnd.jupyter.widget-view+json": {
       "model_id": "b9bbadd46e744474b4f19750b140044c",
       "version_major": 2,
       "version_minor": 0
      },
      "text/plain": [
       "HBox(children=(IntProgress(value=0, max=734), HTML(value='')))"
      ]
     },
     "metadata": {},
     "output_type": "display_data"
    },
    {
     "name": "stdout",
     "output_type": "stream",
     "text": [
      "\n",
      "AVSWVPEEGEKLDQEDEDQVKGTGQWTNKMEFVLSVAGEIIGLGNVWRFPYLCYKNGGGAFFIPYFIFFFVCGIPVFFLEVALGQYTSQGSVTAWRKICPLFQGIGLASVVIESYLNVYYI\n",
      "AVSWVPEEGEKLDQEDEDQVKDRGQWTNKMEFVLSVAGEIIGLGNVWRFPYLCYKNGGGAFFIPYFIFFFVCGIPVFFLEVALGQYTSQGSVTAWRKICPLFQGIGLASVVIESYLNVYYI\n"
     ]
    },
    {
     "data": {
      "application/vnd.jupyter.widget-view+json": {
       "model_id": "ec33ac898319446dbaafe1e12dfcb5e5",
       "version_major": 2,
       "version_minor": 0
      },
      "text/plain": [
       "HBox(children=(IntProgress(value=0, max=734), HTML(value='')))"
      ]
     },
     "metadata": {},
     "output_type": "display_data"
    },
    {
     "name": "stdout",
     "output_type": "stream",
     "text": [
      "\n",
      "QEMDNLVAEHPGLVSVVNIGSSFENRPMNVLKFSTGGDKPAIWLDAGIHAREWVTQTAALWTANKIVSDYGKDPSITSIILLLDIFLLPVTNPDGYVFSQTKNRMWRKTRSKVSGSLCVGV\n",
      "QEMDNLVAEHPGLVSKVNIGSSFENRPMNVLKFSTGGDKPAIWLDAGIHAREWVTQATALWTANKIVSDYGKDPSITSILDALDIFLLPVTNPDGYVFSQTKNRMWRKTRSKVSGSLCVGV\n"
     ]
    },
    {
     "data": {
      "application/vnd.jupyter.widget-view+json": {
       "model_id": "959c5b7d5f8042ae8294d8cac8108813",
       "version_major": 2,
       "version_minor": 0
      },
      "text/plain": [
       "HBox(children=(IntProgress(value=0, max=734), HTML(value='')))"
      ]
     },
     "metadata": {},
     "output_type": "display_data"
    },
    {
     "name": "stdout",
     "output_type": "stream",
     "text": [
      "\n",
      "SQTSVYLQEWDIPFEQVELGEPIGQGRWGRVHRGRWHGEVAIRLLEMDGHNQDHLKLFKKEVMNYRQTRHENVVLFMGACNMPPHLAIITSFCKGRTLHSVFRDPKTLLIINKTRQIAQEI\n",
      "SQTSVYLQEWDIPFEQVELGEPIGQGRWGRVHRGRWHGEVAIRLLEMDGHNQDHLKLFKKEVMNYRQTRHENVVLFMGACMNPPHLAIITSFCKGRTLHSFVRDPKTSLDINKTRQIAQEI\n"
     ]
    },
    {
     "data": {
      "application/vnd.jupyter.widget-view+json": {
       "model_id": "349ff95ad264448cbfe35cd419b1febc",
       "version_major": 2,
       "version_minor": 0
      },
      "text/plain": [
       "HBox(children=(IntProgress(value=0, max=734), HTML(value='')))"
      ]
     },
     "metadata": {},
     "output_type": "display_data"
    },
    {
     "name": "stdout",
     "output_type": "stream",
     "text": [
      "\n",
      "GGAGLSGRASGGAQSPLRYLHVLWQQDAEPRDELRCKIPAGRLRRAARPHRRLGPTGKEVHALKRLRSDANNNDVETVQQLLEDGADPCAADDKGRTALHFASCNGNDQIVQLLLDHGADP\n",
      "GGAGLSGRASGGAQSPLRYLHVLWQQDAEPRDELRCKIPAGRLRRAARPHRRLGPTGKEVHALKRLRDSANANDVETVQQLLEDGADPCAADDKGRTALHFASCNGNDQIVQLLLDHGADP\n"
     ]
    },
    {
     "data": {
      "application/vnd.jupyter.widget-view+json": {
       "model_id": "3e4e35d4b3a744ca9cd49943ff711958",
       "version_major": 2,
       "version_minor": 0
      },
      "text/plain": [
       "HBox(children=(IntProgress(value=0, max=734), HTML(value='')))"
      ]
     },
     "metadata": {},
     "output_type": "display_data"
    },
    {
     "name": "stdout",
     "output_type": "stream",
     "text": [
      "\n",
      "QCTRVTTLTGKKIIETWKDARIHVVEEVEPSSGGGGCYVQDLSSDLQVGVIKPWLLLGSQDIAADLDTLKKNKVTHNILVAYGVENAFLSDFTYKSISILDLPETNILSYFPECFEFIEEA\n",
      "QCTRVTTLTGKKIIETWKDARIHVVEEVEPSSGGGCGYVQDLSSDLQVGVIKPWLLLGSQDAAHDLDTLKKNKVTHILNVAYGVENAFLSDFTYKSISILDLPETNILSYFPECFEFIEEA\n"
     ]
    },
    {
     "data": {
      "application/vnd.jupyter.widget-view+json": {
       "model_id": "401f076d654241d39752111ff4c12786",
       "version_major": 2,
       "version_minor": 0
      },
      "text/plain": [
       "HBox(children=(IntProgress(value=0, max=734), HTML(value='')))"
      ]
     },
     "metadata": {},
     "output_type": "display_data"
    },
    {
     "name": "stdout",
     "output_type": "stream",
     "text": [
      "\n",
      "VKKEVKEEEPGAPGKEGAAEGPLDPSGYNPAKNNYHPVEDACWKPGQKVPYLAVRRTFEKIEEVSARLRMVETLSNLLRSVVALSPPDLLPVLYLSLNHLGPPQQGLELGVQGGGLLVAVA\n",
      "VKKEVKEEEPGAPGKEGAAEGPLDPSGYNPAKNNYHPVEDACWKPGQKVPYLAVARTFEKIEEVSARLRMVETLSNLLRSVVALSPPDLLPVLYLSLNHLGPPQQGLELGVGDGVLLKAVA\n"
     ]
    },
    {
     "data": {
      "application/vnd.jupyter.widget-view+json": {
       "model_id": "fd8b8da5d7e9491590530385df695c9e",
       "version_major": 2,
       "version_minor": 0
      },
      "text/plain": [
       "HBox(children=(IntProgress(value=0, max=734), HTML(value='')))"
      ]
     },
     "metadata": {},
     "output_type": "display_data"
    },
    {
     "name": "stdout",
     "output_type": "stream",
     "text": [
      "\n",
      "STKSMKKSHEHGSKKSSHKTKPKILGKKKAVKEKIPSHHFMPGSPTKTVYKKPQEKKGKCCGRATQNPSVLTCRGQRCPCYSNRKACLDCICRGCQNSYMANGEKKLEAFAVPEKALEQTR\n",
      "STKSMKKSHEHGSKKSHSKTKPGILKKDKAVKEKIPSHHFMPGSPTKTVYKKPQEKKGCKCGRATQNPSVLTCRGQRCPCYSNRKACLDCICRGCQNSYMANGEKKLEAFAVPEKALEQTR\n"
     ]
    },
    {
     "data": {
      "application/vnd.jupyter.widget-view+json": {
       "model_id": "a42e4014403143aaa8370bcc0ec09f50",
       "version_major": 2,
       "version_minor": 0
      },
      "text/plain": [
       "HBox(children=(IntProgress(value=0, max=769), HTML(value='')))"
      ]
     },
     "metadata": {},
     "output_type": "display_data"
    },
    {
     "name": "stdout",
     "output_type": "stream",
     "text": [
      "\n",
      "LGRGVELIKDTEDPDDEGEGEEGLSVTPSSPEGDSPKESPPEILSGARSVVATMGDVWLPWAEGSGCDGPVVLGTEGQFIGDPEKGMGKDTSSHHMNRVIAGVTESLGEAGTEAQIEVTSEW\n",
      "LGRGVELIKDTEDPDDEGEGEEGLSVTPSSPEGDSPKESPPEILSGARSVVATMGDVWLPWAEGSGCDGPVVLGTEGQFIGDPEKGMGKDTSSLHMNRVIAGVTESLGEAGTEAQIEVTSEW\n"
     ]
    },
    {
     "data": {
      "application/vnd.jupyter.widget-view+json": {
       "model_id": "4bf39d422d684d61867a20134361cc4c",
       "version_major": 2,
       "version_minor": 0
      },
      "text/plain": [
       "HBox(children=(IntProgress(value=0, max=769), HTML(value='')))"
      ]
     },
     "metadata": {},
     "output_type": "display_data"
    },
    {
     "name": "stdout",
     "output_type": "stream",
     "text": [
      "\n",
      "LLAEQHQRTSSGTSIAGNPFQAKQGPSQNFPRESCKPVSHGVIFKQQNLSSSSNAQDRPDHHHSFQAKGIWKKPEEMPTACPGHSPRSQMALTGISPPLAQSPPEVPKQQLLSYELGQGHAQ\n",
      "LLAEQHQRTSSGTSIAGNPFQAKQGPSQNFPRESCKPVSHGVIFKQQNLSSSSNADQRPHDSHSFQAKGIWKKPEEMPTACPGHSPRSQMALTGISPPLAQSPPEVPKQQLLSYELGQGHAQ\n"
     ]
    },
    {
     "data": {
      "application/vnd.jupyter.widget-view+json": {
       "model_id": "db1ff3b7256646428af460056513605e",
       "version_major": 2,
       "version_minor": 0
      },
      "text/plain": [
       "HBox(children=(IntProgress(value=0, max=769), HTML(value='')))"
      ]
     },
     "metadata": {},
     "output_type": "display_data"
    },
    {
     "name": "stdout",
     "output_type": "stream",
     "text": [
      "\n",
      "NEEKLEIGIQDASSENCQLQESQKQLLQEAEVEKWQVSELNKQKITFEDKSVAAEQVLNDKENHIETLTERLLKIKDQAAVLEEDITDDGNLELEMNSELKDGAYLDNPPKGALKKLIHAAK\n",
      "NEEKLEIGIQDASSENCQLQESQKQLLQEAEVWKEQVSELNKQKITFEDSKVHAEQVLNDKENHIETLTERLLKIKDQAAVLEEDITDDGNLELEMNSELKDGAYLDNPPKGALKKLIHAAK\n"
     ]
    },
    {
     "data": {
      "application/vnd.jupyter.widget-view+json": {
       "model_id": "bf43d7997c3b42ecb1260edc1585d2f2",
       "version_major": 2,
       "version_minor": 0
      },
      "text/plain": [
       "HBox(children=(IntProgress(value=0, max=769), HTML(value='')))"
      ]
     },
     "metadata": {},
     "output_type": "display_data"
    },
    {
     "name": "stdout",
     "output_type": "stream",
     "text": [
      "\n",
      "DDISLLHESQSDRASFGEGTEPDQEPPPPYQEQVPVPVYHPTPSQTRLATQLTEEEQIRIAQRIGLIQHLPKGVYDPGRDGSEKKIRECVICMMDFVYGDPIRFLPCMHIYHLDCIDDWLMR\n",
      "DDISLLHESQSDRASFGEGTEPDQEPPPPYQEQVPVPVYHPTPSQTRLATQLTEEEQIRIAQRIGLIQHLPKGVYDPGRDGSEKKIRECVICMMDFVYGDPIRFLPCMHIYHLDCIDDWLMR\n"
     ]
    },
    {
     "data": {
      "application/vnd.jupyter.widget-view+json": {
       "model_id": "8f638a883d514c6e83f17cc83ecd9813",
       "version_major": 2,
       "version_minor": 0
      },
      "text/plain": [
       "HBox(children=(IntProgress(value=0, max=769), HTML(value='')))"
      ]
     },
     "metadata": {},
     "output_type": "display_data"
    },
    {
     "name": "stdout",
     "output_type": "stream",
     "text": [
      "\n",
      "LLEQILNNNDSLTRKSESSNTTSLTRSKIGWTPEKTNRFPSCEELETTKVTMQKSDDVLHDLGQKEKETNSMVPPKESLSMLKLPDLPQNSVKLQTTNTTRSVLKDAEKILRGVQNNKKVLE\n",
      "LLEQILNNNDSLTRKSESSNTTSLTRSKIGWTPEKTNRFPSCEELETTKVTMQKSDDVLHDLGQKEKETNSMVQPKESLSMLKLPDLPQNSVKLQTTNTTRSVLKDAEKILRGVQNNKKVLE\n"
     ]
    },
    {
     "data": {
      "application/vnd.jupyter.widget-view+json": {
       "model_id": "9f07776196a04681b3c5d1f2119e8840",
       "version_major": 2,
       "version_minor": 0
      },
      "text/plain": [
       "HBox(children=(IntProgress(value=0, max=769), HTML(value='')))"
      ]
     },
     "metadata": {},
     "output_type": "display_data"
    },
    {
     "name": "stdout",
     "output_type": "stream",
     "text": [
      "\n",
      "LPLWQEKTQLSSLSRLLGLMRPSSLRQYLDSVPLPPCQEQQPKASAELDHKACYLCHSLLMLAGVVVSCQDITPDQWGELQLLCMQLDRHISTQIRESPQAMHRTMLKDAATQTYIRWQELL\n",
      "LPLWQEKTQLSSLSRLLGLMRPSSLRQYLDSVPLPPCQEQQPKASAELDHKACYLCHSLLMLAGVVVSCQDITPDQWGELQLLCMQLDRHISTQIRESPQAMHRTMLKDLATQTYIRWQELL\n"
     ]
    },
    {
     "data": {
      "application/vnd.jupyter.widget-view+json": {
       "model_id": "3add6aaeec14480d837955e8ea8e1c51",
       "version_major": 2,
       "version_minor": 0
      },
      "text/plain": [
       "HBox(children=(IntProgress(value=0, max=769), HTML(value='')))"
      ]
     },
     "metadata": {},
     "output_type": "display_data"
    },
    {
     "name": "stdout",
     "output_type": "stream",
     "text": [
      "\n",
      "HCPDCGQQWFPSLELGHWLYQTELVENECYQVFLDRINRADYCPECYPDNPANRSLVLPWSFPLEWAPQNLTRWTFEKACHPFLGNPPLVRKRIHDSRVAGFNPALQLILTRTDKTLNKKLG\n",
      "HCPDCGQQWFPSLELGHWLYQTELVENECYQVFLDRINRADYCPECYPDNPANRSLVLPWSFPLEWAPQNLTRWTFEKACHPFLLGPPLVRKRIHDSRVAGFNPALQLILTRTDKTLNKKLG\n"
     ]
    },
    {
     "data": {
      "application/vnd.jupyter.widget-view+json": {
       "model_id": "b0ec8a81874e486b8058caf4943f8bd1",
       "version_major": 2,
       "version_minor": 0
      },
      "text/plain": [
       "HBox(children=(IntProgress(value=0, max=769), HTML(value='')))"
      ]
     },
     "metadata": {},
     "output_type": "display_data"
    },
    {
     "name": "stdout",
     "output_type": "stream",
     "text": [
      "\n",
      "SVQGQGPVTMEAERSKATAVALGSFPAGGPAELSLRLGEPLTIVSEDGDWWTVLSEVSGREYIIPSVHVAKVSHGWLYEGLSREKAEELLLLPGNPGGAFLIRESQTRRGSYSLVVRLSRPA\n",
      "SVQGQGPVTMEAERSKATAVALGSFPAGGPAELSLRLGEPLTIVSEDGDWWTVLSEVSGREYNIPSVHVAKVSHGWLYEGLSREKAEELLLLPGNPGGAFLIRESQTRRGSYSLSVRLSRPA\n"
     ]
    },
    {
     "data": {
      "application/vnd.jupyter.widget-view+json": {
       "model_id": "f73f13701cde462997fea25552328c4d",
       "version_major": 2,
       "version_minor": 0
      },
      "text/plain": [
       "HBox(children=(IntProgress(value=0, max=769), HTML(value='')))"
      ]
     },
     "metadata": {},
     "output_type": "display_data"
    },
    {
     "name": "stdout",
     "output_type": "stream",
     "text": [
      "\n",
      "CFPYYPPPGVLFPKKEPDDSRDEDEDEDESSEEDSEDEEPPPKRRLQKKTPAKSPGKAASVKQRGSKPAPKVSAAQRGKARPLPKKAPPKAKTPAKKTRPSSTVIKKPSGGSSKKPATSARK\n",
      "CFPYYPSPGVLFPKKEPDDSRDEDEDEDESSEEDSEDEEPPPKRRLQKKTPAKSPGKAASVKQRGSKPAPKVSAAQRGKARPLPKKAPPKAKTPAKKTRPSSTVIKKPSGGSSKKPATSARK\n"
     ]
    },
    {
     "data": {
      "application/vnd.jupyter.widget-view+json": {
       "model_id": "420b2741897144ffb003ab2fe7250cf4",
       "version_major": 2,
       "version_minor": 0
      },
      "text/plain": [
       "HBox(children=(IntProgress(value=0, max=769), HTML(value='')))"
      ]
     },
     "metadata": {},
     "output_type": "display_data"
    },
    {
     "name": "stdout",
     "output_type": "stream",
     "text": [
      "\n",
      "GLNPFGDSTHAAAAAAAAAAFKLSPKAAHHSSSGQSSAFTPQGSGYANALGHHHHHHHHHHTTSQVPSYGGAASAAFNSTREFLFRQRSSGLSEAASGGGQHGLFAGSASSLHAPAGIPEPP\n",
      "GLNPFGDSTHAAAAAAAAAAFKLSPAAAHDLSSGQSSAFTPQGSGYANALGHHHHHHHHHHHTSQVPSYGGAASAAFNSTREFLFRQRSSGLSEAASGGGQHGLFAGSASSLHAPAGIPEPP\n"
     ]
    },
    {
     "data": {
      "application/vnd.jupyter.widget-view+json": {
       "model_id": "5d4dff43241742a6a06f0eb380b434ef",
       "version_major": 2,
       "version_minor": 0
      },
      "text/plain": [
       "HBox(children=(IntProgress(value=0, max=769), HTML(value='')))"
      ]
     },
     "metadata": {},
     "output_type": "display_data"
    },
    {
     "name": "stdout",
     "output_type": "stream",
     "text": [
      "\n",
      "AFPPRRRLRLGPRGLPLLLSGLLLPLCRAFNLDVSDPPEYSGPEGSYFFFAVDFFVPSASSRMFLLVGAPKANTTQPGIVEGGQVLKCDWSSTRRCQPIEFDATGNRDYAKDDPLEFKSHQW\n",
      "AFPPRRRLRLGPRGLPLLLSGLLLPLCRAFNLDVDSPAEYSGPEGSYFGFAVDFFVPSASSRMFLLVGAPKANTTQPGIVEGGQVLKCDWSSTRRCQPIEFDATGNRDYAKDDPLEFKSHQW\n"
     ]
    },
    {
     "data": {
      "application/vnd.jupyter.widget-view+json": {
       "model_id": "911c68a206df46ddb3de5270795a9247",
       "version_major": 2,
       "version_minor": 0
      },
      "text/plain": [
       "HBox(children=(IntProgress(value=0, max=769), HTML(value='')))"
      ]
     },
     "metadata": {},
     "output_type": "display_data"
    },
    {
     "name": "stdout",
     "output_type": "stream",
     "text": [
      "\n",
      "QVKARPDLLPGWTVRTVLGSSENALGVCSTDAAPLAAVDLKWEHNPAVFLGPGCVYAAAPVGRFTAHWRVPLLTAAGPALGFGKVDEYALTTRAGPSYAKLGDFVAALHRRLGWERQALMLY\n",
      "QVKARPDLLPGWTVRTVLGSSENALGVCSDTAAPLAAVDLKWEHNPAVFLGPGCVYAAAPVGRFTAHWRVPLLTAGAPALGFGVKDEYALTTRAGPSYAKLGDFVAALHRRLGWERQALMLY\n"
     ]
    },
    {
     "data": {
      "application/vnd.jupyter.widget-view+json": {
       "model_id": "a33331a663a344ef916b76844e3a5dad",
       "version_major": 2,
       "version_minor": 0
      },
      "text/plain": [
       "HBox(children=(IntProgress(value=0, max=769), HTML(value='')))"
      ]
     },
     "metadata": {},
     "output_type": "display_data"
    },
    {
     "name": "stdout",
     "output_type": "stream",
     "text": [
      "\n",
      "ALSFSGAIGLTFLMLGCALEDYGVYWPLFVLIFHAISPIPHFIAKRVTYDSDATSSACRELAYFFTTGIVVSAFGFPVILARVAVIKWGACGLVLAGNAVIFLTIQGFFLIFGRGDDFSWEQ\n",
      "ALSFSGAIGLTFLMLGCALEDYGVYWPLFVLIFHAISPIPHFIAKRVTYDSDATSSACRELAYFFTTGIVVSAFGFPVILARVAVIKWGACGLVLAGNAVIFLTIQGFFLIFGRGDDFSWEQ\n"
     ]
    },
    {
     "data": {
      "application/vnd.jupyter.widget-view+json": {
       "model_id": "a471ec90e6f347f98e541ab8de9fe2c6",
       "version_major": 2,
       "version_minor": 0
      },
      "text/plain": [
       "HBox(children=(IntProgress(value=0, max=769), HTML(value='')))"
      ]
     },
     "metadata": {},
     "output_type": "display_data"
    },
    {
     "name": "stdout",
     "output_type": "stream",
     "text": [
      "\n",
      "GNHIEGSPERDPSPVPKPSPKITRKTDPETFLNKGDTRSSLLSATRKFKTSVSFTVTMAANGNRNSKLMEPNLIKDWQHMQSKGCFFLEEDGEIISHQYRMQIAQRSMVYLTIKPLNLSQVE\n",
      "GNHIEGSPERDPSPVPKPSPKITRKTDPETFLNKGDTRSSLLSATRKFKTSVSFTVTMGANGNRNSKLMEPNLIKDWQHMQSKGCFFLEEDGEIISHQYRMQIAQRSMVYLTIKPLNLSQVE\n"
     ]
    },
    {
     "data": {
      "application/vnd.jupyter.widget-view+json": {
       "model_id": "7d20c991f45849f586b85dab1cf1ce73",
       "version_major": 2,
       "version_minor": 0
      },
      "text/plain": [
       "HBox(children=(IntProgress(value=0, max=769), HTML(value='')))"
      ]
     },
     "metadata": {},
     "output_type": "display_data"
    },
    {
     "name": "stdout",
     "output_type": "stream",
     "text": [
      "\n",
      "PKASPAPSHNSGTPAPYAQAVAPPAPSGPSTTQPRPPSVQPSGGGGGGSGGGGSSSSNSSSAGGGAGKQNGYYSTSSVVADSPAEVALSSSGGNNASSQALGPPSGPHNPPPSTSKEPSAAA\n",
      "PKASPAPSHNSGTPAPYAQAVAPPAPSGPSTTQPRPPSVQPSGGGGGGSGGGGSSSSSNSSAGGGAGKQNGATSYSSVVADSPAEVALSSSGGNNASSQALGPPSGPHNPPPSTSKEPSAAA\n"
     ]
    },
    {
     "data": {
      "application/vnd.jupyter.widget-view+json": {
       "model_id": "28b6c20dc99c4625a9d3ce6515fa7870",
       "version_major": 2,
       "version_minor": 0
      },
      "text/plain": [
       "HBox(children=(IntProgress(value=0, max=769), HTML(value='')))"
      ]
     },
     "metadata": {},
     "output_type": "display_data"
    },
    {
     "name": "stdout",
     "output_type": "stream",
     "text": [
      "\n",
      "CSGVIHVTKEVKEVATLSCGHNVSVEELAQTRIYWQKEKKMVLTMMSGDKNIWPEYKNRTIFDITNNLSIVILALRPSDEGTYECVVLKYEKDAFKREHLAEVTLSVKADFPTPSISDFEIP\n",
      "CSGVIHVTKEVKEVATLSCGHNVSVEELAQTRIYWQKEKKMVLTMMSGDMNIWPEYKNRTIFDITNNLSIVILALRPSDEGTYECVVLKYEKDAFKREHLAEVTLSVKADFPTPSISDFEIP\n"
     ]
    },
    {
     "data": {
      "application/vnd.jupyter.widget-view+json": {
       "model_id": "d55bf84d0bf6462cb1a0684364fd3a27",
       "version_major": 2,
       "version_minor": 0
      },
      "text/plain": [
       "HBox(children=(IntProgress(value=0, max=769), HTML(value='')))"
      ]
     },
     "metadata": {},
     "output_type": "display_data"
    },
    {
     "name": "stdout",
     "output_type": "stream",
     "text": [
      "\n",
      "RSRSSSWGRNRRRSDSLKESRHRRFRSSQSKSRSKSLPRRSTSARQSTTPRRNFGSRGRSRSKSLQKRSKSIGKSQSSSPQKQTSSGTKSRSHGRHSDSIARSPCKSPKGYTNSETKVQTAK\n",
      "RSRSSSWGRNRRRSDSLKESRHRRFSYSQSKSRSKSLPRRSTSARQSRTPRRNFGSRGRSRSKSLQKRSKSIGKSQSSSPQKQTSSGTKSRSHGRHSDSIARSPCKSPKGYTNSETKVQTAK\n"
     ]
    },
    {
     "data": {
      "application/vnd.jupyter.widget-view+json": {
       "model_id": "5ceb4b653ced4ce7b55bfbae3f95780a",
       "version_major": 2,
       "version_minor": 0
      },
      "text/plain": [
       "HBox(children=(IntProgress(value=0, max=808), HTML(value='')))"
      ]
     },
     "metadata": {},
     "output_type": "display_data"
    },
    {
     "name": "stdout",
     "output_type": "stream",
     "text": [
      "\n",
      "ASKDLSPEKNTYETELSQWEMSDRLENCDLEESNSRDYLEAKGKMEKQQENQKEYFRQGMIIYDKMSIFNQHTYLSQHSRWHSTEKPYKCKECGKAFRRASHLTQHQSIHTGEKPYECKQCGK\n",
      "ASKDLSPEKNTYETELSQWEMSDRLENCDLEESNSRDYLEAKGKMEKQQENQKEYFRQGMIIYDKMSIFNQHTYLSQHSRCHSTEKPYKCKECGKAFRRASHLTQHQSIHTGEKPYECKQCGK\n"
     ]
    },
    {
     "data": {
      "application/vnd.jupyter.widget-view+json": {
       "model_id": "15980db929174ed9b65f589d29811a62",
       "version_major": 2,
       "version_minor": 0
      },
      "text/plain": [
       "HBox(children=(IntProgress(value=0, max=808), HTML(value='')))"
      ]
     },
     "metadata": {},
     "output_type": "display_data"
    },
    {
     "name": "stdout",
     "output_type": "stream",
     "text": [
      "\n",
      "NIIRFFPMTKEFIDGSLQMGGKVLVHGNAGISRSAAFVIAYIMETFGMKYRDAFAYVQERRFCINPNAGFVHQLQEEAAIYLAKLTIQMMSPLQIERSLSVHSGTTGSLKRTHEEEDDFGTMQ\n",
      "NIIRFFPMTKEFIDGSLQMGGKVLVHGNAGISRSAAFVIAYIMETFGMKYRDAFAYVQERRFCINPNAGFVHQLQEYEAIYLAKLTIQMMSPLQIERSLSVHSGTTGSLKRTHEEEDDFGTMQ\n"
     ]
    },
    {
     "data": {
      "application/vnd.jupyter.widget-view+json": {
       "model_id": "f34dab4c47c34781a6d1bd239110ca8a",
       "version_major": 2,
       "version_minor": 0
      },
      "text/plain": [
       "HBox(children=(IntProgress(value=0, max=808), HTML(value='')))"
      ]
     },
     "metadata": {},
     "output_type": "display_data"
    },
    {
     "name": "stdout",
     "output_type": "stream",
     "text": [
      "\n",
      "GLPEEATALAAPSPPRARARAAPRPLGAHGRRRSPAKRAEAASMLAADVRGKTRSLGRAEVALGAQGPREKPAPPQKAKRSVPPASPARAPPATETPGPEKAATDLPAPETPRKKTPIQKPPR\n",
      "GLPEEATALAAPSPPRARARAAPRPLGAHGRRRSPAKRAEAASMLAADVRGKTRSLGRAEVALGAQGPREKPAPPQKAKRSVPPASPARAPPATETPGPEKAATDLPAPETPRKKTPIQKPPR\n"
     ]
    },
    {
     "data": {
      "application/vnd.jupyter.widget-view+json": {
       "model_id": "3ca3c20795b44c95a90ce85bb8e234a3",
       "version_major": 2,
       "version_minor": 0
      },
      "text/plain": [
       "HBox(children=(IntProgress(value=0, max=808), HTML(value='')))"
      ]
     },
     "metadata": {},
     "output_type": "display_data"
    },
    {
     "name": "stdout",
     "output_type": "stream",
     "text": [
      "\n",
      "AQDTVDFLSLDLSYECQNEASLRQKLSKLQTIEPKVKVFIFNLKLPDCPSTMKNPASLLFSLFEAINKDQVLTIGFDINEFLSCSSSSKKSMSCSLTGSLALQPDQQQHDTETDSSPASAYQR\n",
      "AQDTVDFLSLDLSYECQNEASLRQKLSKLQTIEPKVKVFIFNLKLPDCPSTMKNPASLLFSLFEAINKDQVLTIGFDINEFLSCSSSSKKSMSCSLTGSLALQPDQQQDHETTDSSPASAYQR\n"
     ]
    },
    {
     "data": {
      "application/vnd.jupyter.widget-view+json": {
       "model_id": "8dcd2500ae904aaabcbd29b77e24a690",
       "version_major": 2,
       "version_minor": 0
      },
      "text/plain": [
       "HBox(children=(IntProgress(value=0, max=808), HTML(value='')))"
      ]
     },
     "metadata": {},
     "output_type": "display_data"
    },
    {
     "name": "stdout",
     "output_type": "stream",
     "text": [
      "\n",
      "AVISEDKRQVSSPKPQIIYGARGTRYQTFVNFNYCTGILGSQSITSGGDIEYVDVSKKTAWELGVCAGFQPDAMCNIEKNENYQPKYGYIVWGEEEVVKCKFFSDQQFTTVVPPFPIVLSVII\n",
      "AVISEDKRQVSSPKPQIIYGARGTRYQTFVNFNYCTGILGSQSITSGKHYWEVDVSKKTAWILGVCAGFQPDAMCNIEKNENYQPKYGYWVIGLEEGVKCSAFQDSSFHTPSVPFIVPLSVII\n"
     ]
    },
    {
     "data": {
      "application/vnd.jupyter.widget-view+json": {
       "model_id": "7c79cdb704214d7e9bc05f5a1a8db705",
       "version_major": 2,
       "version_minor": 0
      },
      "text/plain": [
       "HBox(children=(IntProgress(value=0, max=808), HTML(value='')))"
      ]
     },
     "metadata": {},
     "output_type": "display_data"
    },
    {
     "name": "stdout",
     "output_type": "stream",
     "text": [
      "\n",
      "VSYRIKEIAQDALKFMHMGRRKKLTTTDIDYALKLKNVEELYGFHAQEFIPFRFASGGGRELYFYEEKEVDLSDIINTPLPRVPLDVCLKAHWLSIEGCQPAIPENPPPAPKEQQKAEATEPL\n",
      "VSYRIKEIAQDALKFMHMGKRQKLTTSDIDYALKLKNVEPLYGFHAQEFIPFRFASGGGRELYFYEEKEVDLSDIINTPLPRVPLDVCLKAHWLSIEGCQPAIPENPPPAPKEQQKAEATEPL\n"
     ]
    },
    {
     "data": {
      "application/vnd.jupyter.widget-view+json": {
       "model_id": "53b68fda4b0741a081244923b6c86366",
       "version_major": 2,
       "version_minor": 0
      },
      "text/plain": [
       "HBox(children=(IntProgress(value=0, max=808), HTML(value='')))"
      ]
     },
     "metadata": {},
     "output_type": "display_data"
    },
    {
     "name": "stdout",
     "output_type": "stream",
     "text": [
      "\n",
      "NTRNVKAQSQTDRVDLGTLRGYYNQSEAGSHTVQRMYGCDGGSDWRFLRGYHQYAYDGKDYIALKEDLRSWTAADMAAQTTKHKWEAAHVAEQLRAYLEGTCVEWLRRYLENGKETLQRTDAP\n",
      "NTRNVKAQSQTDRVDLGTLRGYYNQSEAGSHTVQRMYGCDVGSDWRFLRGYHQYAYDGKDYIALKEDLRSWTAADMAAQTTKHKWEAAHVAEQLRAYLEGTCVEWLRRYLENGKETLQRTDAP\n"
     ]
    },
    {
     "data": {
      "application/vnd.jupyter.widget-view+json": {
       "model_id": "f07169dafc82431fad77eb7459d11ff4",
       "version_major": 2,
       "version_minor": 0
      },
      "text/plain": [
       "HBox(children=(IntProgress(value=0, max=808), HTML(value='')))"
      ]
     },
     "metadata": {},
     "output_type": "display_data"
    },
    {
     "name": "stdout",
     "output_type": "stream",
     "text": [
      "\n",
      "DEHTPVEDEEEVTHQKSSSSDSNSEEHRKKKTSRRSNKKKRKNKSSKRKHRKYSDSDSSSESDTNSDSDDDKKRVKAKKKKKKKKHKTKKKKNKKTKKESSDSCCKDSEEDLSEATWMEQPNV\n",
      "DEHTPVEDEEEVTHQKSSSSDSNSEEHRKKKTSRSRNKKKRKNKSSKRKHRKYSDSDSNSESDTNSDSDDDKKRVKAKKKKKKKKHKTKKKKNKKTKKESSDSSCKDSEEDLSEATWMEQPNV\n"
     ]
    },
    {
     "data": {
      "application/vnd.jupyter.widget-view+json": {
       "model_id": "62d6e5af5fa2468390ad021ab36c128f",
       "version_major": 2,
       "version_minor": 0
      },
      "text/plain": [
       "HBox(children=(IntProgress(value=0, max=808), HTML(value='')))"
      ]
     },
     "metadata": {},
     "output_type": "display_data"
    },
    {
     "name": "stdout",
     "output_type": "stream",
     "text": [
      "\n",
      "FREARSGIKEEKSRGFSNEVSSKNRIPQEKCILQTDVKVEENPDADSDFDAKSSADDEIEETRVNCRREKVIETPENDFKHHRSQNHSRSPSEERGHSTRHHTKGSRTSRGHEKREDQHQQKQ\n",
      "FREARSGIKEEKSRGFSNEVSSKNRIPQEKCILQTDVKVEENPDADSDFDAKSSADDEIEETRVNCRREKVIETPENDFKHHRSQNHSRSPSEERGHSTRHHTKGSRTSRGHEKREDQHQQKQ\n"
     ]
    },
    {
     "data": {
      "application/vnd.jupyter.widget-view+json": {
       "model_id": "40bcd3517c2e4241b2b80f4ef40eae55",
       "version_major": 2,
       "version_minor": 0
      },
      "text/plain": [
       "HBox(children=(IntProgress(value=0, max=808), HTML(value='')))"
      ]
     },
     "metadata": {},
     "output_type": "display_data"
    },
    {
     "name": "stdout",
     "output_type": "stream",
     "text": [
      "\n",
      "QRHESHHIRDFCFQEIEKDIHNFEFQWQEEERNGHEAPMTEIKELTGSTDRHDQRHAGNKPIKDQLGSFFHSHLPELHIFQPEWKIGNQVEKSIINASLILTSQRISCSPKTRISNNYGNNSL\n",
      "QRHESHHIRDFCFQEIEKDIHNFEFQWQEEERNGHEAPMTEIKELTGSTDRHDQRHAGNKPIKDQLGSSFHSHLPELHIFQPEWKIGNQVEKSIINASLILTSQRISCSPKTRISNNYGNNSL\n"
     ]
    },
    {
     "data": {
      "application/vnd.jupyter.widget-view+json": {
       "model_id": "afdb9d0fdbd24c759630aee4e105c931",
       "version_major": 2,
       "version_minor": 0
      },
      "text/plain": [
       "HBox(children=(IntProgress(value=0, max=808), HTML(value='')))"
      ]
     },
     "metadata": {},
     "output_type": "display_data"
    },
    {
     "name": "stdout",
     "output_type": "stream",
     "text": [
      "\n",
      "LLGSRLETTLYSDQELAYLQQGEEAMQKALGILSNQEGWKKESQQDNGDKMMSKVVPDVGKVFRLEVVVDQMPRRLYEELVERMEAMGEWPPNVKEIKVLQKIGKDTFITHELAAEAAGNLVG\n",
      "LLGSRLEETLYSDQELAYLQQGEEAMQKALGILSNQEGWKKESQQDNGDKVMSKVVPDVGKVFRLEVVVDQPMERLYEELVERMEAMGEWNPNVKEIKVLQKIGKDTFITHELAAEAAGNLVG\n"
     ]
    },
    {
     "data": {
      "application/vnd.jupyter.widget-view+json": {
       "model_id": "b3867d9d281241a7a59965b4b73dd22b",
       "version_major": 2,
       "version_minor": 0
      },
      "text/plain": [
       "HBox(children=(IntProgress(value=0, max=808), HTML(value='')))"
      ]
     },
     "metadata": {},
     "output_type": "display_data"
    },
    {
     "name": "stdout",
     "output_type": "stream",
     "text": [
      "\n",
      "PQRGSRAPESRVVAQVLTLLDGASGDREVVVVGATNRPDALDPALRRPGFFDREVVIGTPTLKQRKEILQVITSKMPISSHVDLGLLAEMTVGYVGADLTALCREAAMHLALHSEKNQDNPVI\n",
      "PQRGSRAPESRVVAQVLTLLDGASGDREVVVVGATNRPDALDPALRRPGRFDREVVIGTPTLKQRKEILQVITSKMPISSHVDLGLLAEMTVGYVGADLTALCREAAMHALLHSEKNQDNPVI\n"
     ]
    },
    {
     "data": {
      "application/vnd.jupyter.widget-view+json": {
       "model_id": "99c40b0afad443368fe62233d88f1326",
       "version_major": 2,
       "version_minor": 0
      },
      "text/plain": [
       "HBox(children=(IntProgress(value=0, max=808), HTML(value='')))"
      ]
     },
     "metadata": {},
     "output_type": "display_data"
    },
    {
     "name": "stdout",
     "output_type": "stream",
     "text": [
      "\n",
      "CRKQDGGQAGIHECLQYAGPVPALTQACQIPCQDDCQLTSWSKFSSCNGDCGAVRTRKRTLVGSSKKKEKCKNSHLYPLIETQYCPCDKYNAQPVGNWSDIILPEGKVEVLLGMKVGQDIKEC\n",
      "CRKQDGGQAGIHECLQYAGPVPALTQACQIPCQDDCQLTSWSKFSSCNGDCGAVRTRKRTLVGKSKKKEKCKNSHLYPLIETQYCPCDKYNAQPVGNWSDCILPEGKVEVLLGMKVQGDIKEC\n"
     ]
    },
    {
     "data": {
      "application/vnd.jupyter.widget-view+json": {
       "model_id": "e6095ed7cc954f568afc07ca7674974c",
       "version_major": 2,
       "version_minor": 0
      },
      "text/plain": [
       "HBox(children=(IntProgress(value=0, max=808), HTML(value='')))"
      ]
     },
     "metadata": {},
     "output_type": "display_data"
    },
    {
     "name": "stdout",
     "output_type": "stream",
     "text": [
      "\n",
      "DLGALQRQLPDTPPYSASDSCSPPQVKKACYPTLRPTAGRTPAPFLHPTAAPAMPPMHPLQSTSGMGDSCQIHGGFHSCHSNASHLATPLDQSVSSHLGIGCSYPQQPLCHSPGASLPPTKKR\n",
      "DLGALQRQLPDTPPYSASDSCSPPQVKGACYPTLRPTAGRTPAPFLHPTAAPAMPPMHPLQSTSGMGDSCQIHGGFHSCHSNASHLATPLDQSVSSHLGIGCSYPQQPLCHSPGASLPPTKKR\n"
     ]
    },
    {
     "data": {
      "application/vnd.jupyter.widget-view+json": {
       "model_id": "5a8983230d3a487fbc935dcd642bcb98",
       "version_major": 2,
       "version_minor": 0
      },
      "text/plain": [
       "HBox(children=(IntProgress(value=0, max=808), HTML(value='')))"
      ]
     },
     "metadata": {},
     "output_type": "display_data"
    },
    {
     "name": "stdout",
     "output_type": "stream",
     "text": [
      "\n",
      "LFVEAFTSRRCEVLKMMVQAWPFPCLLLGSLMKTPDLEILHYVVDGIDCLLKQKVRPRRWKLQVLELRDVDENFWTIWSGARPLSCSPEMASKRQTVEDCPRTGEKQPLKVFMDVCLKEKFMD\n",
      "LFVEAFTSRRCEVLKVMVQAWPFPCLPLGSLMKTPDLEILHYVVDGIDCLLAQKVRPRRWKLQVLELRDVDENFWTIWSGARPLSCSPEAMSKRQTVEDCPRTGEKQPLKVFMDVCLKEKFMD\n"
     ]
    },
    {
     "data": {
      "application/vnd.jupyter.widget-view+json": {
       "model_id": "4fe5e5a43af14cb391c821ca65810933",
       "version_major": 2,
       "version_minor": 0
      },
      "text/plain": [
       "HBox(children=(IntProgress(value=0, max=808), HTML(value='')))"
      ]
     },
     "metadata": {},
     "output_type": "display_data"
    },
    {
     "name": "stdout",
     "output_type": "stream",
     "text": [
      "\n",
      "CDNDTVPSSVSINRIITRKVQQPNPQPVPASSHSIVSTGSVTHVSSVSTDSAGSSYSISGILGITSPSADTNKRKRDEGIQESPVPNGHSPPKRDFLRKQMRGDLFTQQQLEVLDRVFERQHY\n",
      "CDNDTVPSVSSINRIIRTKVQQPPNQPVPASSHSIVSTGSVTQVSSVSTDSAGSSYSISGILGITSPSADTNKRKRDEGIQESPVPNGHSLPGRDFLRKQMRGDLFTQQQLEVLDRVFERQHY\n"
     ]
    },
    {
     "data": {
      "application/vnd.jupyter.widget-view+json": {
       "model_id": "0cf149ed14154e5dbd7046d6518529c8",
       "version_major": 2,
       "version_minor": 0
      },
      "text/plain": [
       "HBox(children=(IntProgress(value=0, max=808), HTML(value='')))"
      ]
     },
     "metadata": {},
     "output_type": "display_data"
    },
    {
     "name": "stdout",
     "output_type": "stream",
     "text": [
      "\n",
      "DEYRNDYCEGYVPRHYHRDIESGYRIHCSKSSVRSRRSSPKRKRNRHCSSHQSRSKSHRRKRSRSIEDDEEGHLICQSGDVLRARYEIVDTLGEGAFGKVVECIDHGMDGMHVAVKIVKNNGR\n",
      "DEYRNDYCEGYVPRHYHRDIESGYRIHCSKSSVRSRRSSPKRKRNRHCSSHQSRSKSHRRKRSRSIEDDEEGHLICQSGDVLRARYEIVDTLGEGAFGKVVECIDHGMDGMHVAVKIVKNVGR\n"
     ]
    },
    {
     "data": {
      "application/vnd.jupyter.widget-view+json": {
       "model_id": "2f03d3fa4239450d970d2569cc826597",
       "version_major": 2,
       "version_minor": 0
      },
      "text/plain": [
       "HBox(children=(IntProgress(value=0, max=808), HTML(value='')))"
      ]
     },
     "metadata": {},
     "output_type": "display_data"
    },
    {
     "name": "stdout",
     "output_type": "stream",
     "text": [
      "\n",
      "QNLVLIPLHAAPHQAVAEIDALYDVYLDVIDKWGTDDMLFLGDFNADCSYVRAQDWAAIRLRSSEVFKWLIPDSADTTVGNSDCAYDRIVACGARLRRSLKPQSATVHDFQEEFGLDQTQALA\n",
      "QNLVLIPLHAAPHQAVAEIDALYDVYLDVIDKWGTDDMLFLGDFNADCSYVRAQDWAAIRLRSSEVFKWLIPDSADTTVGNSDCAYDRIVACGARLRRSLKPQSATVHDFQEEFGLDQTQALA\n"
     ]
    },
    {
     "data": {
      "application/vnd.jupyter.widget-view+json": {
       "model_id": "2a7da6d16d024507acdade6196c2e22c",
       "version_major": 2,
       "version_minor": 0
      },
      "text/plain": [
       "HBox(children=(IntProgress(value=0, max=808), HTML(value='')))"
      ]
     },
     "metadata": {},
     "output_type": "display_data"
    },
    {
     "name": "stdout",
     "output_type": "stream",
     "text": [
      "\n",
      "EQANYTIQSLKDTKTTVDAMKLGVKEMKKAYKQVKIDQIEDLQDQLEDMMEDANEIQEALSRSYGTPELDEDDLEAELDALGDELLADEDSSYLDEAASAPAIPEGVPTDTKNKDGVLVDEFG\n",
      "EQANYTIQSLKDTKTTVDAMKLGVKEMKKAYKQVKIDQIEDLQDQLEDMMEDANEIQEALSRSYGTPELDEDDLEAELDALGDELLADEDSSYLDEAASAPAIPEGVPTDTKNKDGVLVDEFG\n"
     ]
    },
    {
     "data": {
      "application/vnd.jupyter.widget-view+json": {
       "model_id": "78d9ccf6dfc04835b57a2f491f5be29f",
       "version_major": 2,
       "version_minor": 0
      },
      "text/plain": [
       "HBox(children=(IntProgress(value=0, max=808), HTML(value='')))"
      ]
     },
     "metadata": {},
     "output_type": "display_data"
    },
    {
     "name": "stdout",
     "output_type": "stream",
     "text": [
      "\n",
      "KSLLLELPILLCCFRALSGSLSMRNDAVNEIVAVKNNFPVIEIVQCRMCHLQFPGEKCSRGRGTCIATTEEACMVGRMFKRDGNPWLTFMGCLKNCADVKGIRWSVYLVNFRCCRSHDLCNED\n",
      "KSLLLELPILLCCFRALSGSLSMRNDAVNEIVAVKNNFPVIEIVQCRMCHLQFPGEKCSRGRGICTATTEEACMVGRMFKRDGNPWLTFMGCLKNCADVKGIRWSVYLVNFRCCRSHDLCNED\n"
     ]
    },
    {
     "data": {
      "application/vnd.jupyter.widget-view+json": {
       "model_id": "97de9b9191c14bbb9934964473862b77",
       "version_major": 2,
       "version_minor": 0
      },
      "text/plain": [
       "HBox(children=(IntProgress(value=0, max=808), HTML(value='')))"
      ]
     },
     "metadata": {},
     "output_type": "display_data"
    },
    {
     "name": "stdout",
     "output_type": "stream",
     "text": [
      "\n",
      "LTCSSLPGSPGKTAPLPGPAQAGAGQPLPKGALCVAAIVEAPAPHTSQERVWIIRRLLSAAALAGCCLTSTPLLLLPPAAQAARCPGRWFCGGSSLPTGGAQTILSSWWWFHFLNWLAQQEEE\n",
      "LTCLSLPGSPGKTAPLPGPAQAGAGQPLPKGCAAVKAEVGIPAPHTSQEVRIHIRRLLSWAAPGACGLRSTPCALPQALPQARPCPGRWFFPGCSLPTGGAQTILSLWTWRHFLNWALQQREE\n"
     ]
    },
    {
     "data": {
      "application/vnd.jupyter.widget-view+json": {
       "model_id": "682dab05f16b4bfea8d84577fd589121",
       "version_major": 2,
       "version_minor": 0
      },
      "text/plain": [
       "HBox(children=(IntProgress(value=0, max=808), HTML(value='')))"
      ]
     },
     "metadata": {},
     "output_type": "display_data"
    },
    {
     "name": "stdout",
     "output_type": "stream",
     "text": [
      "\n",
      "MENFRNIQVDEANLLTQQGLIVPDPPPYNKGAFRIEINFPAEYPFKPPRITFKTKIYHPNIDEKGQVCLPVISAENWKPAKTDDQVIQSLIALVNDPQPEHPLRADLAEEYSNDRKKFCKNAE\n",
      "MENFRNIQVDEANLLTWQGLIVPDNPPYNKGAFRIEINFPAEYPFKPPRITFKTKIYHPNIDEKGQVCLPVISAENWKPATKTDQVIQSLIALVNDPQPEHPLRADLAEEYSNDRKKFCKNAE\n"
     ]
    },
    {
     "data": {
      "application/vnd.jupyter.widget-view+json": {
       "model_id": "4b35f5df383947139a9777c9e074ebe2",
       "version_major": 2,
       "version_minor": 0
      },
      "text/plain": [
       "HBox(children=(IntProgress(value=0, max=808), HTML(value='')))"
      ]
     },
     "metadata": {},
     "output_type": "display_data"
    },
    {
     "name": "stdout",
     "output_type": "stream",
     "text": [
      "\n",
      "HQINIYLSDRISLHRRLPERWNPLCKEKKYDYDNLPRTSVIIAFNNEAWSLLLRTVYSVLETSPDILLEEVILVDDYSDREHLKERLANELSGPPKVRLIRANKREGLVRARLLGASAARGDV\n",
      "HQINIYLSDRISLHRRLPERWNPLCKEKKYDYDNLPRTSVIIAFYNEAWSTLLRTVYSVLETSPDILLEEVILVDDYSDREHLKERLANELSGLPKVRLIRANKREGLVRARLLGASAARGDV\n"
     ]
    },
    {
     "data": {
      "application/vnd.jupyter.widget-view+json": {
       "model_id": "d54e290a272e42eda841b0b06aff4322",
       "version_major": 2,
       "version_minor": 0
      },
      "text/plain": [
       "HBox(children=(IntProgress(value=0, max=808), HTML(value='')))"
      ]
     },
     "metadata": {},
     "output_type": "display_data"
    },
    {
     "name": "stdout",
     "output_type": "stream",
     "text": [
      "\n",
      "LDAFIYDAAVLNYKAGRDEGCKLVTIGSGYIFATTGYGIALQKSSPWKRQIDLALLQFVGDGEMEELETLWLTGICHNEKNEVMSSQLDIDNMAGVFYMLAAAMALSLITFIWEHLFYWKLRF\n",
      "LDAFIYDAAVLNYKAGRDEGCKLVTIGSGYIFATTGYGIALQKGSPWKRQIDLALLQFVGDGEMEELETLWLTGICHNEKNEVMSSQLDIDNMAGVFYMLAAAMALSLITFIWEHLFYWKLRF\n"
     ]
    },
    {
     "data": {
      "application/vnd.jupyter.widget-view+json": {
       "model_id": "c1b70affbe0f48589ffad87c3d35cdac",
       "version_major": 2,
       "version_minor": 0
      },
      "text/plain": [
       "HBox(children=(IntProgress(value=0, max=808), HTML(value='')))"
      ]
     },
     "metadata": {},
     "output_type": "display_data"
    },
    {
     "name": "stdout",
     "output_type": "stream",
     "text": [
      "\n",
      "GIETGSEDLEILPNGLAFISSGLKYPGIKSFNPNSPGKILLMDLNEEDPTVLLLGITGSKFDVSSFNPHGISTFTDEDNAMYLLVVNHPDAKSTVELFKFQEEEKSLLHLKTIRHKLLPNLND\n",
      "GIETGSEDLEILPNGLAFISSGLKYPGIKSFNPNSPGKILLMDLNEEDPTVLELGITGSKFDVSSFNPHGISTFTDEDNAMYLLVVNHPDAKSTVELFKFQEEEKSLLHLKTIRHKLLPNLND\n"
     ]
    },
    {
     "data": {
      "application/vnd.jupyter.widget-view+json": {
       "model_id": "2e22bac6142c40e79af1faa0a488dcb0",
       "version_major": 2,
       "version_minor": 0
      },
      "text/plain": [
       "HBox(children=(IntProgress(value=0, max=808), HTML(value='')))"
      ]
     },
     "metadata": {},
     "output_type": "display_data"
    },
    {
     "name": "stdout",
     "output_type": "stream",
     "text": [
      "\n",
      "SSGNDDDLTIPRAAINKMIKETLPNVRVANDARELVVNCCTEFIHLISSEANEICNKSEKKTISPEHVIQALESLGFGSYISEVKEVLQECKTVALKRRKASSRLENLGIPEEELLRQQQELF\n",
      "SSGNDDDLTIPRAAINKMIKETLPNVRVANDARELVVNCCTEFIHLISSEANEICNKSEKKTISPEHVIQALESLGFGSYISEVKEVLQECKTVALKRRKASSRLENLGIPEEELLRQQQELF\n"
     ]
    },
    {
     "data": {
      "application/vnd.jupyter.widget-view+json": {
       "model_id": "ab47633d7ac744da912755e46730fd78",
       "version_major": 2,
       "version_minor": 0
      },
      "text/plain": [
       "HBox(children=(IntProgress(value=0, max=808), HTML(value='')))"
      ]
     },
     "metadata": {},
     "output_type": "display_data"
    },
    {
     "name": "stdout",
     "output_type": "stream",
     "text": [
      "\n",
      "NFDKCISNQIRQMEEVKISKKSKVGILPFVAEFEEFAGLAESIFKNAERRGDLDKAYTKLIRGVFVNVEKVANESQKTPRDVVMMENFHHIFATLSRLKISCLEAEKKEAKQKTYDHLQSYVI\n",
      "NFDKCISNQIRQMEEVKISKKSKVGILPFVAEFEEFAGLAESIFKNAERRGDLDKAYTKLIRGVFVNVEKVANESQKTPRDVVMMENFHHIFATLSRLKISCLEAEKKEAKQKYTDHLQSYVI\n"
     ]
    },
    {
     "data": {
      "application/vnd.jupyter.widget-view+json": {
       "model_id": "be9db7c3dee847e98adee718baf81a12",
       "version_major": 2,
       "version_minor": 0
      },
      "text/plain": [
       "HBox(children=(IntProgress(value=0, max=808), HTML(value='')))"
      ]
     },
     "metadata": {},
     "output_type": "display_data"
    },
    {
     "name": "stdout",
     "output_type": "stream",
     "text": [
      "\n",
      "QIAKIYQQNPEAYSHTERISLVSSFAASLFLGSYSPIDYSDGSGMNLLQIQDKVWSQACLGACAPHLEEKLSPPPVCVSVVGAISSYYVQRYGFPPGCKVVAFTGDNPASLAGMRLEEGDIAV\n",
      "QIAKIYQQNPEAYSHTERISLVSSFAASLFLGSYSPIDYSDGSGMNLLQIQDKVWSQACLGACAPHLEEKLSPPVPSCSVVGAISSYYVQRYGFPPGCKVVAFTGDNPASLAGMRLEEGDIAV\n"
     ]
    },
    {
     "data": {
      "application/vnd.jupyter.widget-view+json": {
       "model_id": "1396247db9234f53b612690c06d8f107",
       "version_major": 2,
       "version_minor": 0
      },
      "text/plain": [
       "HBox(children=(IntProgress(value=0, max=850), HTML(value='')))"
      ]
     },
     "metadata": {},
     "output_type": "display_data"
    },
    {
     "name": "stdout",
     "output_type": "stream",
     "text": [
      "\n",
      "SRTEDETRTQILSIKKVTSEDLKRSYVCHARSAKGEVAKAAKVKQKVPAPRYTVELAGGFGATVLLVVILIVVYHYVLLEMVLFYRAHFGTDETILDGKEYDIYVSYARNAEEEEFVLLTLRGV\n",
      "SRTEDETRTQILSIKKVTSEDLKRSYVCHARSAKGEVAKAAKVKQKVPAPRYTVELACGFGATVLLVVILIVVYHVYWLEMVLFYRAHFGTDETILDGKEYDIYVSYARNAEEEEFVLLTLRGV\n"
     ]
    },
    {
     "data": {
      "application/vnd.jupyter.widget-view+json": {
       "model_id": "ce3195e2508b4df3a8c3c2f753478001",
       "version_major": 2,
       "version_minor": 0
      },
      "text/plain": [
       "HBox(children=(IntProgress(value=0, max=850), HTML(value='')))"
      ]
     },
     "metadata": {},
     "output_type": "display_data"
    },
    {
     "name": "stdout",
     "output_type": "stream",
     "text": [
      "\n",
      "LHRPLDHEMGGNRPDVIESIDSQVLQEARPPLVSADDEIYSTSKAFIGPIYKPPEKKKRNEGRNEAHVLNGINDRGGQKEKQKFNSEKSEIDNELFQFYKEIEELEKEKDGFENSCKESEPSQE\n",
      "LHRPLHDEMPGNRPDVIESIDSQVLQEARPPLVSADDEIYSTSKAFIGPIYKPPEKKKRNEGRNEAHVLNGINDRGGQKEKQKFNSEKSEIDNELFQFYKEIEELEKEKDGFENSCKESEPSQE\n"
     ]
    },
    {
     "data": {
      "application/vnd.jupyter.widget-view+json": {
       "model_id": "206b05c69f2b4e3291c6c6d217593789",
       "version_major": 2,
       "version_minor": 0
      },
      "text/plain": [
       "HBox(children=(IntProgress(value=0, max=850), HTML(value='')))"
      ]
     },
     "metadata": {},
     "output_type": "display_data"
    },
    {
     "name": "stdout",
     "output_type": "stream",
     "text": [
      "\n",
      "SALESHKRIHTGEKPYRCQVCDTAFTWNSQLARHTRIHTGEKTYKCNECGKTFSYKSSLVWHRRLHGGEKSYKCKVCDKAFVCRSYVAKHTRIHSGMKPYKCNECSKTFSNRSSVVCRHRIHSG\n",
      "SALESHKRIHTGEKPYRCQVCDTAFTWNSQLARHTRIHTGEKTYKCNECGKTFSYKSSLVWHRRLHGGEKSYKCKVCDKAFVCRSYVAKHTRIHSGMKPYKCNECSKTFSNRSSLVCHRRIHSG\n"
     ]
    },
    {
     "data": {
      "application/vnd.jupyter.widget-view+json": {
       "model_id": "4370115ce89f4bcaaa1ffb64d6b56ed2",
       "version_major": 2,
       "version_minor": 0
      },
      "text/plain": [
       "HBox(children=(IntProgress(value=0, max=850), HTML(value='')))"
      ]
     },
     "metadata": {},
     "output_type": "display_data"
    },
    {
     "name": "stdout",
     "output_type": "stream",
     "text": [
      "\n",
      "KEVPSSAVLRSLRVNVGPDGEETRAQTVQKSPEFLSTSESSSLLQDLQPSDSTSFILLNLTRAGLGSSAEHLVFVQDEAEDSGNDFLSSESTDSSIPWFLRVQELAHDSLIAATRAQLAKNAKT\n",
      "KEVPSSAVLRSLRVNVGPDGEETRAQTVQKSPEFLSTSESSSLLQDLQPSDSTSFILLNLTRAGLGSSAEHLVFVQDEAEDSGNDFLSSESTDSSIPWFLRVQELAHDSLIAATRAQLAKNAKT\n"
     ]
    },
    {
     "data": {
      "application/vnd.jupyter.widget-view+json": {
       "model_id": "be046fe67c01420cac68de211b15773d",
       "version_major": 2,
       "version_minor": 0
      },
      "text/plain": [
       "HBox(children=(IntProgress(value=0, max=850), HTML(value='')))"
      ]
     },
     "metadata": {},
     "output_type": "display_data"
    },
    {
     "name": "stdout",
     "output_type": "stream",
     "text": [
      "\n",
      "KIDEKPETFESLVAKLNDAERELSEISERLKASSQVLSESPSQDSLDAFMSEMKSGDTLVGSSRKKLHLRTFELRKEQQRLKGLIKIVKPAEIPELKKTETQTTGAENKAKKLTLPLFGAMKGG\n",
      "KIDEKPETFESLVAKLNDAERELSEISERLKASSQVLSESPSQDSLDAFMSEMKSGSTLDGVSRKKLHLRTFELRKEQQRLKGLIKIVKPAEIPELKKTETQTTGAENKAKKLTLPLFGAMKGG\n"
     ]
    },
    {
     "data": {
      "application/vnd.jupyter.widget-view+json": {
       "model_id": "382c0b2f81264fa3b17dd08f448624dd",
       "version_major": 2,
       "version_minor": 0
      },
      "text/plain": [
       "HBox(children=(IntProgress(value=0, max=850), HTML(value='')))"
      ]
     },
     "metadata": {},
     "output_type": "display_data"
    },
    {
     "name": "stdout",
     "output_type": "stream",
     "text": [
      "\n",
      "GCGPSCCAPVYCCLCVCCCVPACSCSSCGKRGCGSCGGSKGCCGSCGCSQCCSCKPCCCSSGCGSSCCQCSCCKPYCSQCSCCKPCCSSSGRGSSCCQSSCCKPCCSSSGCGSSCCQSSCCKPC\n",
      "GCGPSCCAPVYCCKPVCCCVPACSCSSCGKRGCGSCGGSKGGCGSCGCSQCSCCKPCCCSSGCGSSCCQCSCCKPYCSQCSCCKPCCSSSGRGSSCCQSSCCKPCCSSSGCGSSCCQSSCCKPC\n"
     ]
    },
    {
     "data": {
      "application/vnd.jupyter.widget-view+json": {
       "model_id": "5f98737741734e60918f4208de16d87d",
       "version_major": 2,
       "version_minor": 0
      },
      "text/plain": [
       "HBox(children=(IntProgress(value=0, max=850), HTML(value='')))"
      ]
     },
     "metadata": {},
     "output_type": "display_data"
    },
    {
     "name": "stdout",
     "output_type": "stream",
     "text": [
      "\n",
      "PGPGNRWGGCADNLSYGLLMGAKFSDAPMKVKKTGSQANLMKRLHNSEVGRQALRASLEMKKKCHGVSGSCSIRTCWKGLQELQDVAADLKTRYLSATKVVHRPMGRRKHLVPKDLDIRPVKDS\n",
      "PGPGNRWGGCADNLSYGLLMGAKFSDAPMKVKKTGSQANKLMRLHNSEVGRQALRASLEMKCKCHGVSGSCSIRTCWKGLQELQDVAADLKTRYLSATKVVHRPMGTRKHLVPKDLDIRPVKDS\n"
     ]
    },
    {
     "data": {
      "application/vnd.jupyter.widget-view+json": {
       "model_id": "7e165b0d13cb4c499324f3d1f8de1349",
       "version_major": 2,
       "version_minor": 0
      },
      "text/plain": [
       "HBox(children=(IntProgress(value=0, max=850), HTML(value='')))"
      ]
     },
     "metadata": {},
     "output_type": "display_data"
    },
    {
     "name": "stdout",
     "output_type": "stream",
     "text": [
      "\n",
      "GFKRKAGTSSLTECVLNKATNVAHWTTPSLKCIRDPALVHQRPAPPSTVTTAGVTPQPESLSPSGKEPAASSPSSNNTAATTAAIVPGSQLMPSKSPSTGTTEISSHESSHGTPSQTTAKNWEL\n",
      "GFKRKAGTSSLTECVLNKATNVAHWTTPSLKCIRDPALVHQRPAPPSTVTTAGVTPQPESLSPSGKEPAASSPSSNNTAATTAAIVPGSQLMPSKSPSTGTTEISSHESSHGTPSQTTAKNWEL\n"
     ]
    },
    {
     "data": {
      "application/vnd.jupyter.widget-view+json": {
       "model_id": "06516fc44be94c418037857dbeb942da",
       "version_major": 2,
       "version_minor": 0
      },
      "text/plain": [
       "HBox(children=(IntProgress(value=0, max=850), HTML(value='')))"
      ]
     },
     "metadata": {},
     "output_type": "display_data"
    },
    {
     "name": "stdout",
     "output_type": "stream",
     "text": [
      "\n",
      "KRASSVLPEHHEAFNRLLGDPVVQKFLAWDKDLRVSDKYLLAMVIAFYSRAGLFSWQYQRIHFFLALYLASDMEEDNQAPKQDIFSFLYKKNYSQRPLFHKLRYQLLCSMRWRTWVSPEEMEEI\n",
      "KRASSVLPEHHEAFNRLLGDPVVQKFLAWDKDLRVSDKYLLAMVIAYFSRAGLFSWQYQRIHFFLALYLASDMEEDNQAPKQDIFSFLYGKNYSQRPLFHKLRYQLLCSMRWRTWVSPEEMEEI\n"
     ]
    },
    {
     "data": {
      "application/vnd.jupyter.widget-view+json": {
       "model_id": "7e87ec6ab8a74876ba75259ce7c2c5db",
       "version_major": 2,
       "version_minor": 0
      },
      "text/plain": [
       "HBox(children=(IntProgress(value=0, max=850), HTML(value='')))"
      ]
     },
     "metadata": {},
     "output_type": "display_data"
    },
    {
     "name": "stdout",
     "output_type": "stream",
     "text": [
      "\n",
      "FKEKNESLQYETSNPTVQLKIPQLRVSSVSKSQPDGSGLLDVMYQVSKTSSVLEGSALQKLKNILPKQNKIECSGPVTHSSVDSYFLHGDLSPLCLNSKNGTVDGTSENTEDGLDRKDSKQPRK\n",
      "FKEKNESLQYETSNPTVQLKIPQLRVSSVSKSQPDGSGLLDVMYQVSKTSSVLEGSALQKLKNILPKQNKIECSGPVTHSSVDSYFLHGDLSPLCLNSKNGTVDGTSENTEDGLDRKDSKQPRK\n"
     ]
    },
    {
     "data": {
      "application/vnd.jupyter.widget-view+json": {
       "model_id": "a82908ce90d74e71bda473bfb296165c",
       "version_major": 2,
       "version_minor": 0
      },
      "text/plain": [
       "HBox(children=(IntProgress(value=0, max=850), HTML(value='')))"
      ]
     },
     "metadata": {},
     "output_type": "display_data"
    },
    {
     "name": "stdout",
     "output_type": "stream",
     "text": [
      "\n",
      "DILGTCATEQSRCLRAYLGLIGTAMTPNFVSNVNTSVALSCTCRGSGNLQEEEEMLEGFFSHNPCLTEAIAAKMRFHSQLFSQDWPHPTFAVMAHQNENPAVRPQPWVPSLFSCTLPLILLLSL\n",
      "DILGTCATEQSRCLRAYLGLIGTAMTPNFVSNVNTSVALSCTCRGSGNLQEECEMLEGFFSHNPCLTEAIAAKMRFHSQLFSQDWPHPTFAVMAHQNENPAVRPQPWVPSLFSCTLPLILLLSL\n"
     ]
    },
    {
     "data": {
      "application/vnd.jupyter.widget-view+json": {
       "model_id": "3b4b3437282a495aa9382c737824facb",
       "version_major": 2,
       "version_minor": 0
      },
      "text/plain": [
       "HBox(children=(IntProgress(value=0, max=850), HTML(value='')))"
      ]
     },
     "metadata": {},
     "output_type": "display_data"
    },
    {
     "name": "stdout",
     "output_type": "stream",
     "text": [
      "\n",
      "LALACDIRVAASSAKMLGVETKLAIIPGGGGTQRLPRAIGMSLAKELIFSARVLDGKEAKAVGLISHVLEQNQEGDAAYRKALDLAREFLPQGPVAMRVAKLAINQGMEVDLVTGLAIEEACYA\n",
      "LALACDIRVAASSAKMGLVETKLAIIPGGGGTQRLPRAIGMSLAKELIFSARVLDGKEAKAVGLISHVLEQNQEGDAAYRKALDLAREFLPQGPVAMRVAKLAINQGMEVDLVTGLAIEEACYA\n"
     ]
    },
    {
     "data": {
      "application/vnd.jupyter.widget-view+json": {
       "model_id": "fb1de187f74343ada668ef81cc0b1eb8",
       "version_major": 2,
       "version_minor": 0
      },
      "text/plain": [
       "HBox(children=(IntProgress(value=0, max=850), HTML(value='')))"
      ]
     },
     "metadata": {},
     "output_type": "display_data"
    },
    {
     "name": "stdout",
     "output_type": "stream",
     "text": [
      "\n",
      "TDHQELKMPLFVLFLSIYLTFVGVNLGLILLIRADTSLNTPCAFFLSNLAVVDFCYSSVITPKMLGNFLYKQNVISFDACATQLGCFLTFMISESLLLASMAYDRYVAICNPLLYMVVHTPGIC\n",
      "TDHQELKMPLFVLFLSIYLFTVVGNLGLILLIRADTSLNTPMYFFLSNLAFVDFCYSSVITPKMLGNFLYKQNVISFDACATQLGCFLTFMISESLLLASMAYDRYVAICNPLLYMVVMTPGIC\n"
     ]
    },
    {
     "data": {
      "application/vnd.jupyter.widget-view+json": {
       "model_id": "69aadde768a74bc39390eb4881fefc67",
       "version_major": 2,
       "version_minor": 0
      },
      "text/plain": [
       "HBox(children=(IntProgress(value=0, max=850), HTML(value='')))"
      ]
     },
     "metadata": {},
     "output_type": "display_data"
    },
    {
     "name": "stdout",
     "output_type": "stream",
     "text": [
      "\n",
      "AEKRARVVRELQQSERKYVIILEIVRDVYVAPLALAASNNTNAALAANIQIICCDILQILSLNRQQLLRDDRQQEEGGPAYYVVVWVTSSGGTNTTNNNYYNFNNIIIKIIEKKAAAYFIRREF\n",
      "AEKRARVVRELLQSERKYVQILEIVRDVYVAPLKAALSSNRAILSAANIQIIFCDILQILSLNRQFLDNLRDRLQEWGPAHCVGEIVTKFGSQLNTYTNFFNNYPVILKTIEKCREMIPAFRTF\n"
     ]
    },
    {
     "data": {
      "application/vnd.jupyter.widget-view+json": {
       "model_id": "112f13c38ebb4636a3f72cae265bc987",
       "version_major": 2,
       "version_minor": 0
      },
      "text/plain": [
       "HBox(children=(IntProgress(value=0, max=850), HTML(value='')))"
      ]
     },
     "metadata": {},
     "output_type": "display_data"
    },
    {
     "name": "stdout",
     "output_type": "stream",
     "text": [
      "\n",
      "ACSVLWVIFAFSALFSFTVKWLRRSRHIAQTGLKVLGSRDPPASAFQSAGITGVSRCPGHPSRKFHQVDINSFTRITDRALYWKPAPRLSSPPLRAAPGNCQQMEAARLFLSLRLWAWRGGGES\n",
      "ACSVLWVIFAFSALFSFTVKWLRRSRHIAQTGLKVLGSRDPPASAFQSAGITGVSRCPGHPSRKFHQVDINSFTRITDRALYWKPAPRLSSPPLRAAPGNCQQMAPARLFLSLRLWAWRGGGES\n"
     ]
    },
    {
     "data": {
      "application/vnd.jupyter.widget-view+json": {
       "model_id": "ef3ede9387fa437dacf5c52ac3474d1f",
       "version_major": 2,
       "version_minor": 0
      },
      "text/plain": [
       "HBox(children=(IntProgress(value=0, max=850), HTML(value='')))"
      ]
     },
     "metadata": {},
     "output_type": "display_data"
    },
    {
     "name": "stdout",
     "output_type": "stream",
     "text": [
      "\n",
      "HPSHQPPASTLSPNPTSSTESLGYLSSLSSSQPPEPLRPLKHPSHKPRGRSLPRRRNPGWVSWSDSMQADSETDTIICPMCKAPERSCPHTWWVPSSPRVIRGVGRCSDPNLGLSWRQEAAAAW\n",
      "HPSHQPPASTLSPNPTSSTESLGYLSSLSSSQPPEPLRPLKHPSHKPRGRSLPRRRNPGWVSWSDSMQADSETDTIICPMCKAPERSCPHTWWVPSSPRVIRGVGRCSDPNLGLSWRQEAARAW\n"
     ]
    },
    {
     "data": {
      "application/vnd.jupyter.widget-view+json": {
       "model_id": "858c581dfb3a4241ad76f193a780a2c0",
       "version_major": 2,
       "version_minor": 0
      },
      "text/plain": [
       "HBox(children=(IntProgress(value=0, max=850), HTML(value='')))"
      ]
     },
     "metadata": {},
     "output_type": "display_data"
    },
    {
     "name": "stdout",
     "output_type": "stream",
     "text": [
      "\n",
      "LSLKVVPRVGNGTLCPNSTSLCSFPEMWYGVFLWALVSSLFFHVPGALLLAFTLRHHKYGRFMSVSILLMGIVGPIITAALTSAAIAGVYRAAGKEMIPFEALTLGTGQTFCVLVVSFLRILAT\n",
      "LSLKVVPRVGNGTLCPNSTSLCSFPEMWYGVFLWALVSSLFFHVPAGLLALFTLRHHKYGRFMSVSILLMGIVGPITAGILTSAAIAGVYRAAGKEMIPFEALTLGTGQTFCVLVVSFLRILAT\n"
     ]
    },
    {
     "data": {
      "application/vnd.jupyter.widget-view+json": {
       "model_id": "533727f803574251bf29f0b1895d89ba",
       "version_major": 2,
       "version_minor": 0
      },
      "text/plain": [
       "HBox(children=(IntProgress(value=0, max=850), HTML(value='')))"
      ]
     },
     "metadata": {},
     "output_type": "display_data"
    },
    {
     "name": "stdout",
     "output_type": "stream",
     "text": [
      "\n",
      "ELAPNLPPMDYRKSPIVHVPMSLIIQMEELRENPFKERIVAAFSEDGEGNLTFNDFVDMFSVLCESAPRELKANYAFKIYDFNTDNFICKEDLELTLARLTKSELDEEEVVLVCDKVIEEADLD\n",
      "ELAPNLVPMDYRKSPIVHVPMSLIIQMPELRENPFKERIVAAFSEDGEGNLTFNDFVDMFSVLCESAPRELKANYAFKIYDFNTDNFICKEDLELTLARLTKSELDEEEVVLVCDKVIEEADLD\n"
     ]
    },
    {
     "data": {
      "application/vnd.jupyter.widget-view+json": {
       "model_id": "ffd82abc5f91407f90dbbe103a8e8dfa",
       "version_major": 2,
       "version_minor": 0
      },
      "text/plain": [
       "HBox(children=(IntProgress(value=0, max=850), HTML(value='')))"
      ]
     },
     "metadata": {},
     "output_type": "display_data"
    },
    {
     "name": "stdout",
     "output_type": "stream",
     "text": [
      "\n",
      "TFQLPMCTNKFIDHISCELLAVVRLACVDTSSNEAAIMVSSIVLLMTPFCLVLLSYIRIISTILKIQSREGRKKAFFTCASHLTVVAYLCTTTTQTYIQPHSPPSVLQEKLISVFYAIVMPLLN\n",
      "TFQLPMCTNKFIDHISCELLAVVRLACVDTSSNEAAIMVSSIVLLMTPFCLVLLSYIRIISTILKIQSREGRKKAFHTCASHLTVVALCYGTTIFTYIQPHSGPSVLQEKLISVFYAIVMPLLN\n"
     ]
    },
    {
     "data": {
      "application/vnd.jupyter.widget-view+json": {
       "model_id": "54f76bac48d842be97fe7def76fc7f73",
       "version_major": 2,
       "version_minor": 0
      },
      "text/plain": [
       "HBox(children=(IntProgress(value=0, max=850), HTML(value='')))"
      ]
     },
     "metadata": {},
     "output_type": "display_data"
    },
    {
     "name": "stdout",
     "output_type": "stream",
     "text": [
      "\n",
      "QVWFQNRRAKWKKRKKTTNVFRAPGTLLPTPGLPPFPSAAAAAAAAMGDSLCSFHANDTRWAAAAMPGVSQLPLPPALGRQQAMAQSLSQCSLAAGPPPNSMGLSNSLAGSNGAGLQSHLYQPA\n",
      "QVWFQNRRAKWKKRKKTTNVFRAPGTLLPTPGLPQFPSAAAAAAAAMGDSLCSFHANDTRWAAAAMPGVSQLPLPPALGRQQAMAQSLSQCSLAAGPPPNSMGLSNSLAGSNGAGLQSHLYQPA\n"
     ]
    },
    {
     "data": {
      "application/vnd.jupyter.widget-view+json": {
       "model_id": "de5339b19518445a899a73d3d489663a",
       "version_major": 2,
       "version_minor": 0
      },
      "text/plain": [
       "HBox(children=(IntProgress(value=0, max=850), HTML(value='')))"
      ]
     },
     "metadata": {},
     "output_type": "display_data"
    },
    {
     "name": "stdout",
     "output_type": "stream",
     "text": [
      "\n",
      "MKPYPGTEEESFITPLVLYCVLAATPTAIIFEGEISMYFIKSTRESLIAQEKTILTGECCYLNPLLRRIIRFTGVFAFGFKATDIFVNAGFVVTGHLTPYFLTVCKPNYTSADCQAHHQFINNG\n",
      "MKPYPGTEEESFITPLVLYCVLAATPTAIIFIGEISMYFIKSTRESLIAQEKTILTGECCYLNPLLRRIIRFTGVFAFGLFATDIFVNAGQVVTGHLTPYFLTVCKPNYTSADCQAHHQFINNG\n"
     ]
    },
    {
     "data": {
      "application/vnd.jupyter.widget-view+json": {
       "model_id": "cbc888f6e1e84522b9bfe88f22eea63f",
       "version_major": 2,
       "version_minor": 0
      },
      "text/plain": [
       "HBox(children=(IntProgress(value=0, max=850), HTML(value='')))"
      ]
     },
     "metadata": {},
     "output_type": "display_data"
    },
    {
     "name": "stdout",
     "output_type": "stream",
     "text": [
      "\n",
      "LQARERGLGEANPAYALILDFQPPPLQNLSEMGIIHELGYSSIIPMMKRAFSACGTLGLIMSGIFDNPGPIKNTLKKAFTMLWSFVVTYYLESLRVALSNEEMVPFIFHLKTQTANMLSGPIST\n",
      "LQARERGLGEANPAYALILDFQPPELQNLSEMGINHELGYSSIIPMMKRAFSACGTLGLIMSGIFDNPGPIKNTLKKAFTMLWSFTVYTRLESLRVALSNEEMVPFIFHLKTQTANMLSGPIST\n"
     ]
    },
    {
     "data": {
      "application/vnd.jupyter.widget-view+json": {
       "model_id": "07ebd853bc4b46db95b37da9cb8d6f0b",
       "version_major": 2,
       "version_minor": 0
      },
      "text/plain": [
       "HBox(children=(IntProgress(value=0, max=850), HTML(value='')))"
      ]
     },
     "metadata": {},
     "output_type": "display_data"
    },
    {
     "name": "stdout",
     "output_type": "stream",
     "text": [
      "\n",
      "IEGFTEDEEDESGGEGQYRERDEFVVKIEDIETFKEALKTGKEPPAIWKVQAKLLQKFVPEIRDGQREAFATNSYLGYFGDAKSKYKRIYVKFIENANKKEYVRVCSKKPRNKPSQTIRTVQAK\n",
      "IEGFTDEEDTESGGEGQYRERDEFVVKIEDIETFKEALKTGKEPPAIWKVQKALLQKFVPEIRDGQREFAATNSYLGYFGDAKSKYKRIYVKFIENANKKEYVRVCSKKPRNKPSQTIRTVQAK\n"
     ]
    },
    {
     "data": {
      "application/vnd.jupyter.widget-view+json": {
       "model_id": "29de697a45d3466c90dd95c011afba54",
       "version_major": 2,
       "version_minor": 0
      },
      "text/plain": [
       "HBox(children=(IntProgress(value=0, max=850), HTML(value='')))"
      ]
     },
     "metadata": {},
     "output_type": "display_data"
    },
    {
     "name": "stdout",
     "output_type": "stream",
     "text": [
      "\n",
      "GQASVGKTSILEQLLYGNHVVGSEMIETQEDIYVGSIETDRGVREQVRFYDRRGLRDGAELPRHCFSCTDGYVLVYSTDSRESFQRVELLKKEIDKSKDKKEVTIVVLGNKCDLQEQRRVDPDV\n",
      "GQASVGKTSILEQLLYGNHVVGSEMIETQEDIYVGSIETDRGVREQVRFYDTRGLRDGAELPRHCFSCTDGYVLVYSTDSRESFQRVELLKKEIDKSKDKKEVTIVVLGNKCDLQEQRRVDPDV\n"
     ]
    },
    {
     "data": {
      "application/vnd.jupyter.widget-view+json": {
       "model_id": "91f266afebb8406bbefdc6c1d1890f8b",
       "version_major": 2,
       "version_minor": 0
      },
      "text/plain": [
       "HBox(children=(IntProgress(value=0, max=850), HTML(value='')))"
      ]
     },
     "metadata": {},
     "output_type": "display_data"
    },
    {
     "name": "stdout",
     "output_type": "stream",
     "text": [
      "\n",
      "SLLLALAAGLAVARPPNIVLIFADDLGYGDLGCYGHPSSTTPNLDQLAAGGLRFTDTYVPVSLCTPSRAALLTGRLPVRMGMYPGVLVPSSRGGLPLEEVTVAEVLAARGYLTGAMGKWHLGVG\n",
      "SLLLALAAGLAVARPPNIVLIFADDLGYGDLGCYGHPSSTTPNLDQLAAGGLRFTDFYVPVSLCTPSRAALLTGRLPVRMGMYPGVLVPSSRGGLPLEEVTVAEVLAARGYLTGMAGKWHLGVG\n"
     ]
    },
    {
     "data": {
      "application/vnd.jupyter.widget-view+json": {
       "model_id": "01721ea394ef44aab6fc6694c4a92dc4",
       "version_major": 2,
       "version_minor": 0
      },
      "text/plain": [
       "HBox(children=(IntProgress(value=0, max=850), HTML(value='')))"
      ]
     },
     "metadata": {},
     "output_type": "display_data"
    },
    {
     "name": "stdout",
     "output_type": "stream",
     "text": [
      "\n",
      "DDTSSEVLDELYRATREFTRSRKEAQKMLKNLVKVALKLGLLLRGDQLGGEELALLRRFRHRARCLACTAVSFHQVDFTFDRRVLAAGLLECRDLLHQAVGPHLTAKSHGRINHVFGHLADCDF\n",
      "DDTSSEVLDELYRATREFTRSRKEAQKMLKNLVKVALKLGLLLRGDQLGGEELALLRRFRHRARCLAMTAVSFHQVDFTFDRRVLAAGLLECRDLLHQAVGPHLTAKSHGRINHVFGHLADCDF\n"
     ]
    },
    {
     "data": {
      "application/vnd.jupyter.widget-view+json": {
       "model_id": "1e0573c7f031473cab2ef8fe516c35fe",
       "version_major": 2,
       "version_minor": 0
      },
      "text/plain": [
       "HBox(children=(IntProgress(value=0, max=850), HTML(value='')))"
      ]
     },
     "metadata": {},
     "output_type": "display_data"
    },
    {
     "name": "stdout",
     "output_type": "stream",
     "text": [
      "\n",
      "QTVAWFPLYYELKIAFVINLLSPYTKGASLIYRKFLHPLLSQEEERDDIYIVQAKERGYETMVNFGRQGLNLAATAAVTAAVKSSGAITELLRSFSMHDLTTIQGDEPVGQRPYQPLPEAKKKS\n",
      "QTVAWFPLYYELKIAFVIWLLSPYTKGASLIYRKFLHPLLSSKEREIDDYIVQAKERGYETMVNFGRQGLNLAATAAVTAAVKSQGAITERLRSFSMHDLTTIQGDEPVGQRPYQPLPEAKKKS\n"
     ]
    },
    {
     "data": {
      "application/vnd.jupyter.widget-view+json": {
       "model_id": "f8111c6c55954dbda528b30940f1b1ab",
       "version_major": 2,
       "version_minor": 0
      },
      "text/plain": [
       "HBox(children=(IntProgress(value=0, max=850), HTML(value='')))"
      ]
     },
     "metadata": {},
     "output_type": "display_data"
    },
    {
     "name": "stdout",
     "output_type": "stream",
     "text": [
      "\n",
      "GENLASKIADFGLSRGEEVYVKKTMGRLPVRWMAIESLNYSVYTTKSDVWSFGVLLWEIVSGGLTPYCGMTCAELYEKLPQGYRMYQPRNCDDEVYELMRQCWRDRPEERPPFIQIALQLGRML\n",
      "GENLASKIADFGLSRGEEVYVKKTMGRLPVRWMAIESLNYSVYTTKSDVWSFGVLLWEIVSLGGTPYCGMTCAELYEKLPQGYRMEQPRNCDDEVYELMRQCWRDRPYERPPFAQIALQLGRML\n"
     ]
    },
    {
     "data": {
      "application/vnd.jupyter.widget-view+json": {
       "model_id": "0089e5de7d5b43a795e5c992d487efc5",
       "version_major": 2,
       "version_minor": 0
      },
      "text/plain": [
       "HBox(children=(IntProgress(value=0, max=850), HTML(value='')))"
      ]
     },
     "metadata": {},
     "output_type": "display_data"
    },
    {
     "name": "stdout",
     "output_type": "stream",
     "text": [
      "\n",
      "EFRRAKHYKSPSELLEICELSQEKMSSVFEDSNVYMLHMMYQAMGVCLYMQDWEGALQYGQKIIKPYSKHYPLYSLNVASMWLKLGRLYMGLEHKAAGEKALKKAIAIMEVAHGKDHPYISEIK\n",
      "EFRRAKHYKSPSELLEICELSQEKMSSVFEDSNVYMLHMMYQAMGVCLYMQDWEGALQYGQKIIKPYSKHYPLYSLNVASMWLKLGRLYMGLEHKAAGEKALKKAIAIMEVAHGKDHPYISEIK\n"
     ]
    },
    {
     "data": {
      "application/vnd.jupyter.widget-view+json": {
       "model_id": "85308fc2aae34b68abb5c9f179c1ddb4",
       "version_major": 2,
       "version_minor": 0
      },
      "text/plain": [
       "HBox(children=(IntProgress(value=0, max=850), HTML(value='')))"
      ]
     },
     "metadata": {},
     "output_type": "display_data"
    },
    {
     "name": "stdout",
     "output_type": "stream",
     "text": [
      "\n",
      "WNSYNNRRDLNFERGGDITLRCPVMLVVGDQAPHEDAVVECNSKLDPTQTSFLKMDDSGGQPQLTQPGKLTEAFKYFLQGMGYMASSCMTRLSRSRTASLTSAASVDGNRSRSRTLSQSSESGT\n",
      "WNSYNNRRDLNFERGGDITLRCPVMLVVGDQAPHEDAVVECNSKLDPTQTSFLKMADSGGQPQLTQPGKLTEAFKYFLQGMGYMASSCMTRLSRSRTASLTSAASVDGNRSRSRTLSQSSESGT\n"
     ]
    },
    {
     "data": {
      "application/vnd.jupyter.widget-view+json": {
       "model_id": "a43319789cf64751a52b6dd0185c9730",
       "version_major": 2,
       "version_minor": 0
      },
      "text/plain": [
       "HBox(children=(IntProgress(value=0, max=850), HTML(value='')))"
      ]
     },
     "metadata": {},
     "output_type": "display_data"
    },
    {
     "name": "stdout",
     "output_type": "stream",
     "text": [
      "\n",
      "DDGAEETEEEVVAENPCQNHHCKHGKVCELSENNTPMCVVQDPTSCPAPIGEFEKVCSNDNKTFDSSCHFFATKFTLEGTKKGHKLHLDYIGPCKYIPPCLDSELTEFPLRMRDWLKNVLVTLY\n",
      "DDGAEETEEEVVAENPCQNHHCKHGKVCELDENNTPMCVCQDPTSCPAPIGEFEKVCSNDNKTFDSSCHFFATKCTLEGTKKGHKLHLDYIGPCKYIPPCLDSELTEFPLRMRDWLKNVLVTLY\n"
     ]
    },
    {
     "data": {
      "application/vnd.jupyter.widget-view+json": {
       "model_id": "f8e1bf70cc1e4ffb9c3cec10401458e7",
       "version_major": 2,
       "version_minor": 0
      },
      "text/plain": [
       "HBox(children=(IntProgress(value=0, max=898), HTML(value='')))"
      ]
     },
     "metadata": {},
     "output_type": "display_data"
    },
    {
     "name": "stdout",
     "output_type": "stream",
     "text": [
      "\n",
      "QMNHLNTIANAMAAAQIHSPSSRAGTSVIKERIPESPSPAPSEEENHRPGSQTSSHTSSSVSSSPSQMDHHLERMEEPPVQIPIMKSPLDKIQLTPGQALPAGFPGPFIFADSLSSVETLLTNIQ\n",
      "QMNHLNTIANMAAAAQIHSPLSRAGTSVIKERIPESPSPAPSLEENHRPGSQTSSHTSSSVSSSPSQMDHHLERMEEVPVQIPIMKSPLDKIQLTPGQALPAGFPGPFIFADSLSSVETLLTNIQ\n"
     ]
    },
    {
     "data": {
      "application/vnd.jupyter.widget-view+json": {
       "model_id": "9344569fee074f5fba3555467bbe780b",
       "version_major": 2,
       "version_minor": 0
      },
      "text/plain": [
       "HBox(children=(IntProgress(value=0, max=898), HTML(value='')))"
      ]
     },
     "metadata": {},
     "output_type": "display_data"
    },
    {
     "name": "stdout",
     "output_type": "stream",
     "text": [
      "\n",
      "MAQHPCQDQEQKVEMTSKQQRSTSIEETMRPQEKQVTITETLWDQVLTVFKDIQKELQEDARIRGMSNCSMTPMTSAPRTGSIRPPDSLMTPKLRRLQFSSGEQPSGGRIHNLKTQLFSQSAYYP\n",
      "MAQHPCQDQEQKVEMTSKQQRSTSIEETMRPQEKQVTITETLWDQVLTVFKDIQKELQEDARIRGMSNCSMTPMTSAPRTGSIRPPDSLMTPKLRRLQFSSGEQPSGGRIHNLKTQLFSQSAYYP\n"
     ]
    },
    {
     "data": {
      "application/vnd.jupyter.widget-view+json": {
       "model_id": "13f3d48e718e4304a75ea44c722342a2",
       "version_major": 2,
       "version_minor": 0
      },
      "text/plain": [
       "HBox(children=(IntProgress(value=0, max=898), HTML(value='')))"
      ]
     },
     "metadata": {},
     "output_type": "display_data"
    },
    {
     "name": "stdout",
     "output_type": "stream",
     "text": [
      "\n",
      "LCKTCIEAHQRVKFTKDHLIRKEEDVSESVGASGSRPQFCPVHKQEQLKLFCETCDRLTCRDCQLLEHKEHRYQFLEEAFQNQKGAIENLLAKLLEKKNYVHFAATQVQNRIKEVNETNKRVEQE\n",
      "LCKTCIEAHQRVKFTKDHLIRKKEDVSESVGASGQRPVFCPVHKQEQLKLFCETCDRLTCRDCQLLEHKEHRYQFLEEAFQNQKGAIENLLAKLLEKKNYVHFAATQVQNRIKEVNETNKRVEQE\n"
     ]
    },
    {
     "data": {
      "application/vnd.jupyter.widget-view+json": {
       "model_id": "44020278bcbd44689e9e0e7a568961ad",
       "version_major": 2,
       "version_minor": 0
      },
      "text/plain": [
       "HBox(children=(IntProgress(value=0, max=898), HTML(value='')))"
      ]
     },
     "metadata": {},
     "output_type": "display_data"
    },
    {
     "name": "stdout",
     "output_type": "stream",
     "text": [
      "\n",
      "HRLHTPMYFLLSQLSLMDVMLVSTTVPKMAADYLTGSKAISRAGCGAQIFFLPTLGGGECFLLAAMAYDRYAAVCHPLRYPTLMSWQLCLRMNLSCWLLGAADGLLQAVATLSFPYCGAHEIDHF\n",
      "HRLHTPMYFLLSQLSLMDVMLVSTTVPKMAADYLTGSKAISRAGCGAQIFFLPTLGGGECFLLAAMAYDRYAAVCHPLRYPTLMSWQLCLRMNLSCWLLGAADGLLQAVATLSFPYCGAHEIDHF\n"
     ]
    },
    {
     "data": {
      "application/vnd.jupyter.widget-view+json": {
       "model_id": "d1881481bb1e41e6b2edcacbe4e3de9a",
       "version_major": 2,
       "version_minor": 0
      },
      "text/plain": [
       "HBox(children=(IntProgress(value=0, max=898), HTML(value='')))"
      ]
     },
     "metadata": {},
     "output_type": "display_data"
    },
    {
     "name": "stdout",
     "output_type": "stream",
     "text": [
      "\n",
      "RSLYSLGGARSISFNVASGSGWAGGYGFGRGRASGFAGSMFGSVALGSVCPSCCPPGGIHQVTINKSLLAPNLVELEPEIQKVRAQEREQIKVLNNKFASFIDKVRFLEQQNQVLETKWELLQQL\n",
      "RSLYSLGGARSISFNVASGSGWAGGYGFGRGRASGFAGSMFGSVALGSVCPSLCPPGGIHQVTINKSLLAPLNVELDPEIQKVRAQEREQIKVLNNKFASFIDKVRFLEQQNQVLETKWELLQQL\n"
     ]
    },
    {
     "data": {
      "application/vnd.jupyter.widget-view+json": {
       "model_id": "0a9f5d956b924a5aab8cdee5af8257db",
       "version_major": 2,
       "version_minor": 0
      },
      "text/plain": [
       "HBox(children=(IntProgress(value=0, max=898), HTML(value='')))"
      ]
     },
     "metadata": {},
     "output_type": "display_data"
    },
    {
     "name": "stdout",
     "output_type": "stream",
     "text": [
      "\n",
      "PVAPRTKERSTVSLPAHRHPEPPKCKDFVPFGGGIREDIARRFPLYPLDFTDGIIGKNAAVGKYITTTLFLYFACLLPTIAFGSLNDENTDGAIDVQKTIAGQSIGGLLYALFSGQPLVILLTTA\n",
      "PVAPRTKERSTVSLPAHRHPEPPKCKDFVPFGKGIREDIARRFPLYPLDFTDGIIGKNKAVGKYITTTLFLYFACLLPTIAFGSLNDENTDGAIDVQKTIAGQSIGGLLYALFSGQPLVILLTTA\n"
     ]
    },
    {
     "data": {
      "application/vnd.jupyter.widget-view+json": {
       "model_id": "1c13f57662a04db1b2b702c7dfaf7976",
       "version_major": 2,
       "version_minor": 0
      },
      "text/plain": [
       "HBox(children=(IntProgress(value=0, max=898), HTML(value='')))"
      ]
     },
     "metadata": {},
     "output_type": "display_data"
    },
    {
     "name": "stdout",
     "output_type": "stream",
     "text": [
      "\n",
      "VFKEEDPIHLRCHSWKNTLAKKVTYNQLGKFRKYFHHNSDFYIPKATLKDSGSYFCRGLFGSKNVSSETVNITITQGLAVSTISSFFPPGYQVSFCLVMVLLFAVDTGLYFVVKTNIRSSTRDWK\n",
      "VFKEEDPIHLRCHSWKNTALHKVTYLQNGKGRKYFHHNSDFYIPKATLKDSGSYFCRGLFGSKNVSSETVNITITQGLAVSTISSFFPPGYQVSFCLVMVLLFAVDTGLYFSVKTNIRSSTRDWK\n"
     ]
    },
    {
     "data": {
      "application/vnd.jupyter.widget-view+json": {
       "model_id": "a5fb7bc0b28c4e518f252dabf315565d",
       "version_major": 2,
       "version_minor": 0
      },
      "text/plain": [
       "HBox(children=(IntProgress(value=0, max=898), HTML(value='')))"
      ]
     },
     "metadata": {},
     "output_type": "display_data"
    },
    {
     "name": "stdout",
     "output_type": "stream",
     "text": [
      "\n",
      "VNQPKFNQRRISSAKFLGELYNYRMVESAVIFRTLYSFTSFGVNPDGSPSSLDPPEHLFRIRLVCTILDTCGQYFDRGSSKRKLDFFLVYFQRYVWWKKSLEVWTKDHPFPIDIDYMISDTLELL\n",
      "VNQPKFNQRRISSAKFLGELYNYRMVESAVIFRTLYSFTSFGVNPDGSPSSLDPPEHLFRIRLVCTILDTCGQYFDRGSSKRKLDCFLVYFQRYVWWKKSLEVWTKDHPFPIDIDYMISDTLELL\n"
     ]
    },
    {
     "data": {
      "application/vnd.jupyter.widget-view+json": {
       "model_id": "c245df33f7b94011a7ddfc361f37ac24",
       "version_major": 2,
       "version_minor": 0
      },
      "text/plain": [
       "HBox(children=(IntProgress(value=0, max=898), HTML(value='')))"
      ]
     },
     "metadata": {},
     "output_type": "display_data"
    },
    {
     "name": "stdout",
     "output_type": "stream",
     "text": [
      "\n",
      "GTDFRASAAPLPRLAHQSWALLHEESPLNNFLLSHGPGIRFFNLTSTFSRHSDYPLSLQWLPGTAYLRRVPPPPMERMEWRRGGYAPLLYLQSHCDVPADRDRYVRELMRHIPVDSYGKCLQNRE\n",
      "GTDFRASAAPLPRLAHQSWALLHEESPLNNFLLSHGPGIRLFNLTSTFSRHSDYPLSLQWLPGTAYLRRPVPPPMERAEWRRRGYAPLLYLQSHCDVPADRDRYVRELMRHIPVDSYGKCLQNRE\n"
     ]
    },
    {
     "data": {
      "application/vnd.jupyter.widget-view+json": {
       "model_id": "fd099ec884b9441f9c633681fb4e377f",
       "version_major": 2,
       "version_minor": 0
      },
      "text/plain": [
       "HBox(children=(IntProgress(value=0, max=898), HTML(value='')))"
      ]
     },
     "metadata": {},
     "output_type": "display_data"
    },
    {
     "name": "stdout",
     "output_type": "stream",
     "text": [
      "\n",
      "SALQDKKDSYQPCVNIPIPTSLKEETRLIESSTKPVVKLLYNRSNNKYSYTSNSDDHLLKNIELFDKLSLRFNGRVLFIKDVIGDEICCWSFYGQGRKLAEVCCTSIVYATEKKQTKVEFPEARI\n",
      "SALQDKKDSYQPVCNIPIITSLKEEERLIESSTKPVVKLLYNRSNNKYSYTSNSDDHLLKNIELFDKLSLRFNGRVLFIKDVIGDEICCWSFYGQGRKLAEVCCTSIVYATEKKQTKVEFPEARI\n"
     ]
    },
    {
     "data": {
      "application/vnd.jupyter.widget-view+json": {
       "model_id": "841647c56ec7471783cd86650c90c917",
       "version_major": 2,
       "version_minor": 0
      },
      "text/plain": [
       "HBox(children=(IntProgress(value=0, max=898), HTML(value='')))"
      ]
     },
     "metadata": {},
     "output_type": "display_data"
    },
    {
     "name": "stdout",
     "output_type": "stream",
     "text": [
      "\n",
      "CYTFSHASEDIRKTFEINQKSGEITLRAPLDFETIESYSIIIQATDGGLLFGKSTVIIHVIDVNDNAPEIEVSTSITPTPENTPETVVMVFSIQDIDSGDNGRIVCSIPEDLPFVLKSSVENYYT\n",
      "CYTFSHASEDIRKTFEINQKSGEITLRAPLDFETIESYSIIIQATDGGGLFGKSTVIIHVIDVNDNAPEITVSSITSPIPENTPETVVMVFSIQDIDSGDNGRIVCSIPEDLPFVLKSSVENYYT\n"
     ]
    },
    {
     "data": {
      "application/vnd.jupyter.widget-view+json": {
       "model_id": "e90f3a18a3284f29bc3c3a4625f241cd",
       "version_major": 2,
       "version_minor": 0
      },
      "text/plain": [
       "HBox(children=(IntProgress(value=0, max=898), HTML(value='')))"
      ]
     },
     "metadata": {},
     "output_type": "display_data"
    },
    {
     "name": "stdout",
     "output_type": "stream",
     "text": [
      "\n",
      "FPHPFLPNVDFVGGLHCKPAKPLPKEMEEFVQSSGENGVVVFSLGSMVSNMTEERANVIATALAKIPKQVLWRFDGNKPDALGLNTRLYKWIPQNDLLGHPKTRAFITHGGANGIYEAIIHGIPM\n",
      "FPHPFLPNVDFVGGLHCKPAKPLPKEMEEFVQSSGENGVVVFSLGSMVSNMTEERANVIATALAKIPQKVLWRFDGNKPDALGLNTRLYKWIPQNDLLGHPKTRAFITHGGANGIYEAIYHGIPM\n"
     ]
    },
    {
     "data": {
      "application/vnd.jupyter.widget-view+json": {
       "model_id": "ade81b1a9d2f491790ed6c644a325ec5",
       "version_major": 2,
       "version_minor": 0
      },
      "text/plain": [
       "HBox(children=(IntProgress(value=0, max=898), HTML(value='')))"
      ]
     },
     "metadata": {},
     "output_type": "display_data"
    },
    {
     "name": "stdout",
     "output_type": "stream",
     "text": [
      "\n",
      "SKDDWREFRTLVIEMVMADTMCCFFQQIKAMKTALQQPEAIEKPKALSLMLHTADISHPAKAWDLHHRWTMSLLEEFFRQGDREAELGLPFSPLCDRKSTMVAQSQVGFIDFIVEPTFTVLTDMT\n",
      "SKDDWREFRTLVIEMVMATDMSCHFQQIKAMKTALQQPEAIEKPKALSLMLHTADISHPAKAWDLHHRWTMSLLEEFFRQGDREAELGLPFSPLCDRKSTMVAQSQVGFIDFIVEPTFTVLTDMT\n"
     ]
    },
    {
     "data": {
      "application/vnd.jupyter.widget-view+json": {
       "model_id": "8fc37dd2c11d46f2abc2f9d70dba7aa5",
       "version_major": 2,
       "version_minor": 0
      },
      "text/plain": [
       "HBox(children=(IntProgress(value=0, max=898), HTML(value='')))"
      ]
     },
     "metadata": {},
     "output_type": "display_data"
    },
    {
     "name": "stdout",
     "output_type": "stream",
     "text": [
      "\n",
      "CHHCKGNLSQDMLLTHQCSHATEHPLPCAQCPKHFTPQADLSSTSQHADSETPPTCEHCARTTHHPSRLTYHLRVHNSTERPFPCPDCPKRFADQARLTSHRRAHASERPFRCAQCGRSFSLKIS\n",
      "CHHCGKNLSQDMLLTHQCSHATEHPLPCAQCPKHFTPQADLSSTSQDHASETPPTCPHCARTFTHPSRLTYHLRVHNSTERPFPCPDCPKRFADQARLTSHRRAHASERPFRCAQCGRSFSLKIS\n"
     ]
    },
    {
     "data": {
      "application/vnd.jupyter.widget-view+json": {
       "model_id": "e3bdd3c7a63e43608e81e72b2947c63c",
       "version_major": 2,
       "version_minor": 0
      },
      "text/plain": [
       "HBox(children=(IntProgress(value=0, max=898), HTML(value='')))"
      ]
     },
     "metadata": {},
     "output_type": "display_data"
    },
    {
     "name": "stdout",
     "output_type": "stream",
     "text": [
      "\n",
      "NQNIKKAIEVQIQKPQEGRSTACQRQQVFCDEELLSETKNTSSDSLTKFKNGVVFLLDATKEGNVGRFLNHSCCPNLLVQNVFVETHNRNFPLVAFFTNRYVKARTELWWDYGYEAGTVPEKEIF\n",
      "NQNIKKAIEVQIQKPQEGRSTACQRQQVFCDEELLSETKNTSSDSLTKFNKGNVFLLDATKEGNVGRFLNHSCCPNLLVQNVFVETHNRNFPLVAFFTNRYVKARTELTWDYGYEAGTVPEKEIF\n"
     ]
    },
    {
     "data": {
      "application/vnd.jupyter.widget-view+json": {
       "model_id": "6b74203167004382b7d22b4242be6635",
       "version_major": 2,
       "version_minor": 0
      },
      "text/plain": [
       "HBox(children=(IntProgress(value=0, max=898), HTML(value='')))"
      ]
     },
     "metadata": {},
     "output_type": "display_data"
    },
    {
     "name": "stdout",
     "output_type": "stream",
     "text": [
      "\n",
      "FISRLVRGGLAESTGLLAVSDEILEVNGIEVAGKTLDQVTDMMVANSHNLIVTVKPANQRNNVVRGASGRLTGPPSAGPGPAEPDSDDDSSLDVIENRQPPSSNGLSQGPCPCHLLCGCRRPGTR\n",
      "FISRLVRGGLAESTGLLAVSDEILEVNGIEVAGKTLDQVTDMMVANSHNLIVTVKPANQRNNVVRGASGRLTGPPSAGPGPAEPDSDDDSSDLVIENRQPPSSNGLSQGPPCWDLHPGCRHPGTR\n"
     ]
    },
    {
     "data": {
      "application/vnd.jupyter.widget-view+json": {
       "model_id": "aec75b32b47a4b8cbacba0260e854602",
       "version_major": 2,
       "version_minor": 0
      },
      "text/plain": [
       "HBox(children=(IntProgress(value=0, max=898), HTML(value='')))"
      ]
     },
     "metadata": {},
     "output_type": "display_data"
    },
    {
     "name": "stdout",
     "output_type": "stream",
     "text": [
      "\n",
      "FDALVQAQTGLGTAAVIVMDRSTDIVKAIARRIEFYKHESCGQCTPCREGVDWMNKVMARFVRGDARPAEIDSLWEISKQIEGHTICALGDGAAWPVQGLIRHFRPELEERMQRFAQQHQARQAA\n",
      "FDALVQAQTGLGTAAVIVMDRSTDIVKAIARLIEFYKHESCGQCTPCREGVDWMNKVMARFVRGDARPAEIDSLWEISKQIEGHTICALGDGAAWPVQGLIRHFRPELEERMQRFAQQHQARQAA\n"
     ]
    },
    {
     "data": {
      "application/vnd.jupyter.widget-view+json": {
       "model_id": "35925049281f460eae8a6404418934c1",
       "version_major": 2,
       "version_minor": 0
      },
      "text/plain": [
       "HBox(children=(IntProgress(value=0, max=898), HTML(value='')))"
      ]
     },
     "metadata": {},
     "output_type": "display_data"
    },
    {
     "name": "stdout",
     "output_type": "stream",
     "text": [
      "\n",
      "KKGGKKEPVVAVEPPLAKEMKEFYHIQIRDLEDRLARYQRKWDELAVQEKMFRQEFEQLANNKKEIVAFLKRTLNQQVDEITDLNEQLQNLQLAKEMEKDAFEAQLAQVRHEFQETKDQLTTENI\n",
      "KKGGKKEPVVAVEPPLAKEMKEFYHIQIRDLEDRLARYQRKWDELAVQEKMFRQEFEQLANNKKEIVAFLKRTLNQQVDEITDLNEQLQNLQLAKEMEKDAFEAQLAQVRHEFQETKDQLTTENI\n"
     ]
    },
    {
     "data": {
      "application/vnd.jupyter.widget-view+json": {
       "model_id": "e234afe109bc41a683f4743cfbcc8791",
       "version_major": 2,
       "version_minor": 0
      },
      "text/plain": [
       "HBox(children=(IntProgress(value=0, max=898), HTML(value='')))"
      ]
     },
     "metadata": {},
     "output_type": "display_data"
    },
    {
     "name": "stdout",
     "output_type": "stream",
     "text": [
      "\n",
      "REGGVSSRELVKKVSDVIWNSLSRSYFKDRAHIQSLFSFITGWSPVGTKLDSSGVFFAVVGACQALGLRVVHLALSEDHAWVVFGPNGEQTAEVTWHGKGNEDRRGQTVNAGVAERSWLYLGGSY\n",
      "REGGVSSRELVKKVSDVIWNSLSRSYFKDRAHIQSLFSFITGWSPVGTKLDSSGVAFAVVGACQALGLRDVHLALSEDHAWVVFGPNGEQTAEVTWHGKGNEDRRGQTVNAGVAERSWLYLKGSY\n"
     ]
    },
    {
     "data": {
      "application/vnd.jupyter.widget-view+json": {
       "model_id": "2be62f30637a46438ea58eb17529d7d7",
       "version_major": 2,
       "version_minor": 0
      },
      "text/plain": [
       "HBox(children=(IntProgress(value=0, max=898), HTML(value='')))"
      ]
     },
     "metadata": {},
     "output_type": "display_data"
    },
    {
     "name": "stdout",
     "output_type": "stream",
     "text": [
      "\n",
      "TAVNILTTTEEGYRMLFQDLEKKKERLVVVDCESERLNAILGQIIKLEKNGIGYHYILANLGFMDIDLNKFKESGANVTFGQLVNYTDTIPAKIMQQWKNSDARDHTRVDWKRPKYTSALTYDGV\n",
      "TAVNILTTTEEGYRMLFQDLEKKKERLVVVDCESERLNAILGQIIKLEKNGIGYHYILANLGFMDIDLNKFKESGANVTGFQLVNYTDTIPAKIMQQWKNSDARDHTRVDWKRPKYTSALTYDGV\n"
     ]
    },
    {
     "data": {
      "application/vnd.jupyter.widget-view+json": {
       "model_id": "466194a1ef354ba6bfac7e72b1a15002",
       "version_major": 2,
       "version_minor": 0
      },
      "text/plain": [
       "HBox(children=(IntProgress(value=0, max=898), HTML(value='')))"
      ]
     },
     "metadata": {},
     "output_type": "display_data"
    },
    {
     "name": "stdout",
     "output_type": "stream",
     "text": [
      "\n",
      "RREETKEAAPLLTQTRLITQHALARHYHYNSCCRRKRREEPPGPSVSLSPMPPSVEGHSSKIIKRIEEAAPQEAAESFTVAAAAPPASTTRRRADDRLLTSRSHGGGHGRRDWEDREEEDFDDDD\n",
      "RREETKAEAPLLTQTRLITQSALHRAPHYNSCCRRKYRPEAPGPSVSLSPMPPSEVKLQSGKISREPEPAAGPQAEESATVSAPAPMSPTRRRALDHYLTLRSSGWIPDGRGRWVKDENVEFDSD\n"
     ]
    },
    {
     "data": {
      "application/vnd.jupyter.widget-view+json": {
       "model_id": "92b53d1a9564442a954f59b007051539",
       "version_major": 2,
       "version_minor": 0
      },
      "text/plain": [
       "HBox(children=(IntProgress(value=0, max=898), HTML(value='')))"
      ]
     },
     "metadata": {},
     "output_type": "display_data"
    },
    {
     "name": "stdout",
     "output_type": "stream",
     "text": [
      "\n",
      "MAGPSLACCLLGLLALTSACYIQNCPLGGKRAAPDLDVRKCLPCGPGGKGRCFGPNICCAEELGCFVGTAEALRCQEENYLPSPCQSGQKACGSGGRCAVLGLCCSPDGCAADPACDAEATFSQR\n",
      "MAGPSLACCLLGLLALTSACYIQNCPLGGKRAAPDLDVRKCLPCGPGGKGRCFGPNICCAEELGCFVGTAEALRCQEENYLPSPCQSGQKACGSGGRCAVLGLCCSPDGCHADPACDAEATFSQR\n"
     ]
    },
    {
     "data": {
      "application/vnd.jupyter.widget-view+json": {
       "model_id": "8ee449b5c3424f6fbac4552c37532df5",
       "version_major": 2,
       "version_minor": 0
      },
      "text/plain": [
       "HBox(children=(IntProgress(value=0, max=898), HTML(value='')))"
      ]
     },
     "metadata": {},
     "output_type": "display_data"
    },
    {
     "name": "stdout",
     "output_type": "stream",
     "text": [
      "\n",
      "SFSALQLVIVLVPGALFHLYAACKSINQECILQKPITTIIYILSVLLRISLAAIAFWLQIYLKGFQVKSLYLCDARSLGENMIIRCMVPEHFEKTIFLIAINTFTTITLILFVAEIFEIIFRRLY\n",
      "SFSALQLVIVLVPGALFHLYAACKSINQECILQKPIYTIIYILSVLLRISLAAIAFWLQIYLFGFQVKSLYLCDARSLGENMIIRCMVPEHFEKTIFLIAINTFTTITILLFVAEIFEIIFRRLY\n"
     ]
    },
    {
     "data": {
      "application/vnd.jupyter.widget-view+json": {
       "model_id": "4126a64b7aad443d89c16be2a29d15c2",
       "version_major": 2,
       "version_minor": 0
      },
      "text/plain": [
       "HBox(children=(IntProgress(value=0, max=898), HTML(value='')))"
      ]
     },
     "metadata": {},
     "output_type": "display_data"
    },
    {
     "name": "stdout",
     "output_type": "stream",
     "text": [
      "\n",
      "MEPDMYWNKPPPQPPYTAASAQFRRASFMGSTFNISLNKEEMEFQPQQEDEEDAHAGIIGRFLGLQSHDHHPNRANSRTKLLWPKRESLLHEGLPKNHKAAKQNVRGQEDNKAWKLKAVDAFKSA\n",
      "MEPDMYWNKPEPQPPYTAASAQFRRASFMGSTFNISLNKEEMEFQPNQEDEEDAHAGIIGRFLGLQSHDHHPPRANSRTKLLWPKRESLLHEGLPKNHKAAKQNVRGQEDNKAWKLKAVDAFKSA\n"
     ]
    },
    {
     "data": {
      "application/vnd.jupyter.widget-view+json": {
       "model_id": "dffb33565c6f4e9891f5649fb69173e7",
       "version_major": 2,
       "version_minor": 0
      },
      "text/plain": [
       "HBox(children=(IntProgress(value=0, max=898), HTML(value='')))"
      ]
     },
     "metadata": {},
     "output_type": "display_data"
    },
    {
     "name": "stdout",
     "output_type": "stream",
     "text": [
      "\n",
      "IGESTIYCGDNSVWSRAAPECKVVKCRFPVVENGKQISGFGKKYYYKATVMFECDKGFYLDGSDTIVCDSNSTWDPPVPKCLKVLPPSSTKPPALSHSVSTSSTTKSPASSASGPRPTYKPPVSN\n",
      "IGESTIYCGDNSVWSRAAPECKVVKCRFPVVENGKQISGFGKKFYYKATVMFECDKGFYLDGSDTIVCDSNSTWDPPVPKCLKVLPPSSTKPPALSHSVSTSSTTKSPASSASGPRPTYKPPVSN\n"
     ]
    },
    {
     "data": {
      "application/vnd.jupyter.widget-view+json": {
       "model_id": "6fe49e2324f140479e98f1c49fa3e3c8",
       "version_major": 2,
       "version_minor": 0
      },
      "text/plain": [
       "HBox(children=(IntProgress(value=0, max=898), HTML(value='')))"
      ]
     },
     "metadata": {},
     "output_type": "display_data"
    },
    {
     "name": "stdout",
     "output_type": "stream",
     "text": [
      "\n",
      "QTTCCRTTCCRPSCCVSSCCRPQCCQSVCCQPTCCRPSCCQTTCCRTTCCRPSCCVSSCCRPQCCQSVCCQPTCCRPSCCQTTCCRTTCCRPSCCVSSCCRPQCCQSVCCQPTCCRPSCCISSSC\n",
      "QTTCCRTTCCRPSCCVSSCCRPQCCQSVCCQPTCCRPSCCQTTCCRTTCCRPSCCVSSCCRPQCCQSVCCQPTCCRPSCCQTTCCRTTCCRPSCCVSSCCRPQCCQSVCCQPTCCRPSCCISSSC\n"
     ]
    },
    {
     "data": {
      "application/vnd.jupyter.widget-view+json": {
       "model_id": "670de1c9fc974e41a5e36f7700b55ae2",
       "version_major": 2,
       "version_minor": 0
      },
      "text/plain": [
       "HBox(children=(IntProgress(value=0, max=898), HTML(value='')))"
      ]
     },
     "metadata": {},
     "output_type": "display_data"
    },
    {
     "name": "stdout",
     "output_type": "stream",
     "text": [
      "\n",
      "YLYIDVMLENYMNLASVEWEIQPRTKRSSLQGQKLFNFIFSGIQMTRGYSGWKCCDCKNCGEVFREQFCLKTHMRVQNGGNTSEGNCYGKDTLSVHKEASTGQELSKFNPCGKVFTLTPGLAVHL\n",
      "YLYRDVMLENYMNLASVEWEIQPRTKRSSLQQGFLKNQIFSGIQMTRGYSGWKLCDCKNCGEVFREQFCLKTHMRVQNGGNTSEGNCYGKDTLSVHKEASTGQELSKFNPCGKVFTLTPGLAVHL\n"
     ]
    },
    {
     "data": {
      "application/vnd.jupyter.widget-view+json": {
       "model_id": "fd6142525712483ba25571a7feb3c8b7",
       "version_major": 2,
       "version_minor": 0
      },
      "text/plain": [
       "HBox(children=(IntProgress(value=0, max=898), HTML(value='')))"
      ]
     },
     "metadata": {},
     "output_type": "display_data"
    },
    {
     "name": "stdout",
     "output_type": "stream",
     "text": [
      "\n",
      "WIGTGHVVYQGAFYYNRAFTKNIIKYDLRQRFVASWALLPDVVYEDTTPWKWRGHSDIDFAVDESGLWVIYPAVDDRDEAQPEVIVLSRLDPGDLSVHRETTWKTRLRRNSYGNCFLVCGILYAV\n",
      "WIGTGHVVYQGAFYYNRAFTKNIIKYDLRQRFVASWALLPDVVYEDTTPWKWRGHSDIDFAVDESGLWVIYPAVDDRDEAQPEVIVLSRLDPGDLSVHRETTWKTRLRRNSYGNCFLVCGILYAV\n"
     ]
    },
    {
     "data": {
      "application/vnd.jupyter.widget-view+json": {
       "model_id": "2d9772a366db4737925616bf70ba562b",
       "version_major": 2,
       "version_minor": 0
      },
      "text/plain": [
       "HBox(children=(IntProgress(value=0, max=898), HTML(value='')))"
      ]
     },
     "metadata": {},
     "output_type": "display_data"
    },
    {
     "name": "stdout",
     "output_type": "stream",
     "text": [
      "\n",
      "ADGPNQVSELKSMEEELDKMEREACCFGSEDESSSKAETEYSFDDWDWQNGSLSSLSLPESTREAKSNLNNMSTTEEYLISKCVLDLKIMQTIMHENDDRLRNIEQILDEVEMKQKEQEERMSLW\n",
      "ADGPNQVDELKSMEEELDKMEREACCFGSEDESSSKAETEYSFDDWDWQNGSLSSLSLPESTREAKSNLNNMSTTEEYLISKCVLDLKIMQTIMHENDDRLRNIEQILDEVEMKQKEQEERMSLW\n"
     ]
    },
    {
     "data": {
      "application/vnd.jupyter.widget-view+json": {
       "model_id": "f4b8d061f6794f17a93eab65e5f1962f",
       "version_major": 2,
       "version_minor": 0
      },
      "text/plain": [
       "HBox(children=(IntProgress(value=0, max=898), HTML(value='')))"
      ]
     },
     "metadata": {},
     "output_type": "display_data"
    },
    {
     "name": "stdout",
     "output_type": "stream",
     "text": [
      "\n",
      "VVLVPYTSEHVPSRYHEWMKSEELQRLTASEPLTLEQEYAMCQQESEDADKCTFIVLDAEKWQAQPGATEESCMVGDVNLFLTDLEDLTLGEIEVMIAEPSCRGKGLGTEAVLAMLSYGVTTLGL\n",
      "VVLVPYTSEHVPSRYHEWMKSEELQRLTASEPLTLEQEYAMQCSWQEDADKCTFIVLDAEKWQAQPGATEESCMVGDVNLFLTDLEDLTLGEIEVMIAEPSCRGKGLGTEAVLAMLSYGVTTLGL\n"
     ]
    },
    {
     "data": {
      "application/vnd.jupyter.widget-view+json": {
       "model_id": "08c6fde2465340939915010386506764",
       "version_major": 2,
       "version_minor": 0
      },
      "text/plain": [
       "HBox(children=(IntProgress(value=0, max=898), HTML(value='')))"
      ]
     },
     "metadata": {},
     "output_type": "display_data"
    },
    {
     "name": "stdout",
     "output_type": "stream",
     "text": [
      "\n",
      "LEEQLDNETKERQAACKQVRRTEKKLKDVLLQVDDERNRAEQYKDQADKASTRLKQLKRQLEEAEEEAQRANASRRKLQRLEEDATETADAMNREVSSLKNKLRRGDLPFVVPRRMARKGAGDSS\n",
      "LEEQLDNETKERQAACKQVRRTEKKLKDVLLQVDDERRNAEQYKDQADKASTRLKQLKRQLEEAEEEAQRANASRRKLQRELEDATETADAMNREVSSLKNKLRRGDLPFVVPRRMARKGAGDGS\n"
     ]
    },
    {
     "data": {
      "application/vnd.jupyter.widget-view+json": {
       "model_id": "d724e70dfd84498387566f098afff78c",
       "version_major": 2,
       "version_minor": 0
      },
      "text/plain": [
       "HBox(children=(IntProgress(value=0, max=898), HTML(value='')))"
      ]
     },
     "metadata": {},
     "output_type": "display_data"
    },
    {
     "name": "stdout",
     "output_type": "stream",
     "text": [
      "\n",
      "AAALAFLSQESRTRAGGVGGRRVPAPVTMDSFFFGCELSGHTRSFTFKVEEEDDAEHVLALTMLCLTEGAKDENNVVEVVANNHDHQEIAVPVANLKLSCQPMLSLDDFQLQPPVTFRLKSGSGP\n",
      "AAALAFLSQESRTRAGGVGGLRVPAPVTMDSFFFGCELSGHTRSFTFKVEEEDDAEHVLALTMLCLTEGAKDECNVVEVVARNHDHQEIAVPVANLKLSCQPMLSLDDFQLQPPVTFRLKSGSGP\n"
     ]
    },
    {
     "data": {
      "application/vnd.jupyter.widget-view+json": {
       "model_id": "8f2bb1e9470a4f18994b3fba52b4f0e5",
       "version_major": 2,
       "version_minor": 0
      },
      "text/plain": [
       "HBox(children=(IntProgress(value=0, max=898), HTML(value='')))"
      ]
     },
     "metadata": {},
     "output_type": "display_data"
    },
    {
     "name": "stdout",
     "output_type": "stream",
     "text": [
      "\n",
      "EGDIKPYSSSDREFLKVAVEPPWLPPRNPRRATPPAHPPPRSSSLGNSPERGPLRPFVPEQELLRSLRLCPPHPTARLLLAADPGGSPAQRRRTRGTPPGLVAQSCCYSRHGGVNSSSPNTGNQD\n",
      "EGDIKPYSSSDREFLKVAVEPPWPLNRAPRRATPPAHPPPRSSSLGNSPERGPLRPFVPEQELLRSLRLCPPHPTARLLLAADPGGSPAQRRRTRGTPPGLVAQSCCYSRHGGVNSSSPNTGNQD\n"
     ]
    },
    {
     "data": {
      "application/vnd.jupyter.widget-view+json": {
       "model_id": "0d13bf2bb8db4e54955a67495cebff84",
       "version_major": 2,
       "version_minor": 0
      },
      "text/plain": [
       "HBox(children=(IntProgress(value=0, max=898), HTML(value='')))"
      ]
     },
     "metadata": {},
     "output_type": "display_data"
    },
    {
     "name": "stdout",
     "output_type": "stream",
     "text": [
      "\n",
      "NLKISLLNKDKIELDSSSPASKENEEKVCLEYENELEKLCEELQATLDGLTKIQVKMEKLSSTTKKIGELENYHYGEESKRPPLFHTWPTTHFYEVSHKLLEMYRKELLLKRTVAKELAHTGDPD\n",
      "NLKISLLNKDKIELDSSSPASKENEEKVCLEYNEELEKLCEELQATLDGLTKIQVKMEKLSSTTKGICELENYHYGEESKRPPLFHTWPTTHFYEVSHKLLEMYRKELLLKRTVAKELAHTGDPD\n"
     ]
    },
    {
     "data": {
      "application/vnd.jupyter.widget-view+json": {
       "model_id": "9b9c0cf4435c4d75917381594860c06f",
       "version_major": 2,
       "version_minor": 0
      },
      "text/plain": [
       "HBox(children=(IntProgress(value=0, max=898), HTML(value='')))"
      ]
     },
     "metadata": {},
     "output_type": "display_data"
    },
    {
     "name": "stdout",
     "output_type": "stream",
     "text": [
      "\n",
      "VAVSQPIRTDLPPPPPPPPHHYAGDFDGMSMDLPLPPPPSANQIGLPSAQVAAAERRKREEHQRYYEKEKARLEEERERKRRQQERKLGQMRTQSLNPAPFSPLTAQQMKPEKPSTLQRPQETVI\n",
      "VAVSQPIRTDLPPPPPPPPVHYAGDFDGMSMDLPLPPPPSANQIGLPSAQVAAAERRKREEHQRWYEKEKARLEEERERKRREQERKLGQMRTQSLNPAPFSPLTAQQMKPEKPSTLQRPQETVI\n"
     ]
    },
    {
     "data": {
      "application/vnd.jupyter.widget-view+json": {
       "model_id": "38ebe560201841a0b98277626e8565f6",
       "version_major": 2,
       "version_minor": 0
      },
      "text/plain": [
       "HBox(children=(IntProgress(value=0, max=898), HTML(value='')))"
      ]
     },
     "metadata": {},
     "output_type": "display_data"
    },
    {
     "name": "stdout",
     "output_type": "stream",
     "text": [
      "\n",
      "MARLCRRVPCTLLLGLAVVLLKARLVPAAARAELSRSDLSLIQQQQQQQQQQQQQKQQLEEAEEERTEVPGATSTLTVPVSVFLLKVQVNDIISRQYLSQAVVEVFVNYTKTNSTVTKSNGAVLI\n",
      "MARLCRRVPCTLLLGLAVVLLKARLVPAAARAELSRSDLSLIQQQQQQQQQQQQQQKQLEEAEEERTEVPGATSTLTVPVSVFMLKVQVNDIISRQYLSQAVVEVFVNYTKTNSTVTKSNGAVLI\n"
     ]
    },
    {
     "data": {
      "application/vnd.jupyter.widget-view+json": {
       "model_id": "ee8d16cfcb5946ef90d56eb85391b436",
       "version_major": 2,
       "version_minor": 0
      },
      "text/plain": [
       "HBox(children=(IntProgress(value=0, max=898), HTML(value='')))"
      ]
     },
     "metadata": {},
     "output_type": "display_data"
    },
    {
     "name": "stdout",
     "output_type": "stream",
     "text": [
      "\n",
      "VLESVARIVKVQLPAYLKRLPVPESITGFARLTVSEWLRLLPFLGVLALLGYLAVRPFLPKKKQQKDSLINLKIQKENPKVVNEINIEDLCLTKAAYCRCWRSKTFPACDGSHNKHNELTGDNVG\n",
      "VLESVARIVKVQLPAYLKRLPVPESITGFARLTVSEWLRLLPFLGVLALLGYLAVRPFLPKKKQQKDSLINLKIQKENPKVVNEINIEDLCLTKAAYCRCWRSKTFPACDGSHNKHNELTGDNVG\n"
     ]
    },
    {
     "data": {
      "application/vnd.jupyter.widget-view+json": {
       "model_id": "c4e5901593c94dfd8cb89bda7e27281b",
       "version_major": 2,
       "version_minor": 0
      },
      "text/plain": [
       "HBox(children=(IntProgress(value=0, max=898), HTML(value='')))"
      ]
     },
     "metadata": {},
     "output_type": "display_data"
    },
    {
     "name": "stdout",
     "output_type": "stream",
     "text": [
      "\n",
      "ADDVSGNKHETYTTILNQDAQNKSPSAVMSHESDAAHSDSARSSSSKLELSPDVNKIRKSEPKIKKSVSHERVSKMNFKLTGKGITFFSSESKKYERPKDDREEEFNTWVNNMYVFFVNLTFHAY\n",
      "ADDVSGNKHETIYTILNQDAQNKSPSAVMSHESDAAHSDSARSSSSKLELSPDVNKIRKSEPKIKKSVSHERVSKMNFKLTGKGITFFSSESKKYERPKDDREEEFNTWVNNMYVFFVNTLFHAY\n"
     ]
    },
    {
     "data": {
      "application/vnd.jupyter.widget-view+json": {
       "model_id": "4c8803eb96224bb2894a7924d4b66d1d",
       "version_major": 2,
       "version_minor": 0
      },
      "text/plain": [
       "HBox(children=(IntProgress(value=0, max=898), HTML(value='')))"
      ]
     },
     "metadata": {},
     "output_type": "display_data"
    },
    {
     "name": "stdout",
     "output_type": "stream",
     "text": [
      "\n",
      "TNIEVINCSITEIETTTSSIPGASDTDLIPTEVVKASSTSDPPALPDSTEAKPHITEVTASAETLSTAGTTESAAPDATVGTPLPTNSATEREVTAPGATTLSGALVTVSRNPLEETSALSVETP\n",
      "TNIEVINCSITEIETTTSSIPGASDTDLIPTEGVKASSTSDPPALPDSTEAKPHITEVTASAETLSTAGTTESAAPDATVGTPLPTNSATEREVTAPGATTLSGALVTVSRNPLEETSALSVETP\n"
     ]
    },
    {
     "data": {
      "application/vnd.jupyter.widget-view+json": {
       "model_id": "a3714b84628a41e091f9e6b10b2588ef",
       "version_major": 2,
       "version_minor": 0
      },
      "text/plain": [
       "HBox(children=(IntProgress(value=0, max=898), HTML(value='')))"
      ]
     },
     "metadata": {},
     "output_type": "display_data"
    },
    {
     "name": "stdout",
     "output_type": "stream",
     "text": [
      "\n",
      "KYKVSYKGPGPGIKFSAEALRCHLRDHVNVSMVEVTDFPFNTSEWEGYLPKESIRTKAGPWGRCAVVSSAGSLKSSQLGREIDDHDAVLRFNGAPTANFQQDVGTKTTIRLMNSQLVTTEKRFLK\n",
      "KYKVSYKGPGPGIKFSAEALRCHLRDHVNVSMVEVTDFPFNTSEWEGYLPKESIRTKAGPWGRCAVVSSAGSLKSSQLGREIDDHDAVLRFNGAPTANFQQDVGTKTTIRLMNSQLVTTEKRFLK\n"
     ]
    },
    {
     "data": {
      "application/vnd.jupyter.widget-view+json": {
       "model_id": "a325ce663be14ab8898cbac0a4b18ad5",
       "version_major": 2,
       "version_minor": 0
      },
      "text/plain": [
       "HBox(children=(IntProgress(value=0, max=898), HTML(value='')))"
      ]
     },
     "metadata": {},
     "output_type": "display_data"
    },
    {
     "name": "stdout",
     "output_type": "stream",
     "text": [
      "\n",
      "GMTELGCDSMEKLKALPLRELQLEKDTAKFKDFYQFTFTFAKNPGQKGLDLEMAVAYWKLVLSGRFKFLDCLNTFLMEHHKRSIPRDTWNLLLDFGNMIADDMSNYDEEGAWPVLIDDFVEYARP\n",
      "GMTELGCDSMEKLKALLPRLEQELKDTAKFKDFYQFTFTFAKNPGQKGLDLEMAVAYWKLVLSGRFKFLDLWNTFLMEHHKRSIPRDTWNLLLDFGNMIADDMSNYDEEGAWPVLIDDFVEYARP\n"
     ]
    },
    {
     "data": {
      "application/vnd.jupyter.widget-view+json": {
       "model_id": "593f78dd31394eec830b36291d4d7999",
       "version_major": 2,
       "version_minor": 0
      },
      "text/plain": [
       "HBox(children=(IntProgress(value=0, max=898), HTML(value='')))"
      ]
     },
     "metadata": {},
     "output_type": "display_data"
    },
    {
     "name": "stdout",
     "output_type": "stream",
     "text": [
      "\n",
      "CWLAPEQTAGKKKPFVYTQGQAVLNRAFFPCFDTPAVKYKYSALIEVPDGFTAVMSASTWEKRGPNKFFFQMCQPIPSYLIALAIGDLVSAEVGPRSRVAAEPCLIDAAKEEYNGVIEEFLATGE\n",
      "CWLAPEQTAGKKKPFVYTQGQAVLNRAFFPCFDTPAVKYKYSALIEVPDGFTAVMSASTWEKRGPNKFFFQMCQPIPSYLIALAIGDLVSAEVGPRSRVWAEPCLIDAAKEEYNGVIEEFLATGE\n"
     ]
    },
    {
     "data": {
      "application/vnd.jupyter.widget-view+json": {
       "model_id": "655749262dc7408ea1e0af7db1643314",
       "version_major": 2,
       "version_minor": 0
      },
      "text/plain": [
       "HBox(children=(IntProgress(value=0, max=898), HTML(value='')))"
      ]
     },
     "metadata": {},
     "output_type": "display_data"
    },
    {
     "name": "stdout",
     "output_type": "stream",
     "text": [
      "\n",
      "TAGSDASSKLRALQNRCLVPGWYAIHIERWLSAYHANQILVLDGKLLRTEPAKVMDMVQKFLGVTNTIDYHKTLAFDPKKGFWCQLLEGGKTKCLGKSKGRKYPEMDLDSRAFLKDYYRDHNIEL\n",
      "TAGSDASSKLRALQNRCLVPGWYATHIERWLSAYHANQILVLDGKLLRTEPAKVMDMVQKFLGVTNTIDYHKTLAFDPKKGFWCQLLEGGKTKCLGKSKGRKYPEMDLDSRAFLKDYYRDHNIEL\n"
     ]
    },
    {
     "data": {
      "application/vnd.jupyter.widget-view+json": {
       "model_id": "d2cb7dd72c424eeda2630e9f1b61cdfc",
       "version_major": 2,
       "version_minor": 0
      },
      "text/plain": [
       "HBox(children=(IntProgress(value=0, max=898), HTML(value='')))"
      ]
     },
     "metadata": {},
     "output_type": "display_data"
    },
    {
     "name": "stdout",
     "output_type": "stream",
     "text": [
      "\n",
      "LQPPEASIAVVSIPRQLPGSHSEAGVQGLSAGDDELLGSHCVAQTLLEGLLDSAPPPSASQNAEMIETSGDCTTQAGLQLLASSDPPALASKNAEVTGTMSQDTEVDMKEVELNELEPEKQPMNA\n",
      "LQPPEASIAVVSIPRQLPGSHSEAGVQGLSAGDDSELGSHCVAQTGLELLASGDPLPSASQNAEMIETGSDCVTQAGLQLLASSDPPALASKNAEVTGTMSQDTEVDMKEVELNELEPEKQPMNA\n"
     ]
    },
    {
     "data": {
      "application/vnd.jupyter.widget-view+json": {
       "model_id": "7acd1e5af2cd4944862268f1662490c7",
       "version_major": 2,
       "version_minor": 0
      },
      "text/plain": [
       "HBox(children=(IntProgress(value=0, max=951), HTML(value='')))"
      ]
     },
     "metadata": {},
     "output_type": "display_data"
    },
    {
     "name": "stdout",
     "output_type": "stream",
     "text": [
      "\n",
      "ALGFKELGPYSSKTRGIEIKERTYWCADPQFIIGGATRTDWGQAALCDGWLLAAIASLTLNEEILARVVPLNQSFQENYAGIFHFQFWQYGEWVEVVVDDRLPTKDGELLFVHSAEGSEFWSALLE\n",
      "ALGFKELGPYSSKTRGIEWKRPTEICADPQFIIGGATRTDICQGALGDCWLLAAIASLTLNEEILARVVPLNQSFQENYAGIFHFQFWQYGEWVEVVVDDRLPTKDGELLFVHSAEGSEFWSALLE\n"
     ]
    },
    {
     "data": {
      "application/vnd.jupyter.widget-view+json": {
       "model_id": "ffdf3e0b05ff40eabfa0fe5cb0d02240",
       "version_major": 2,
       "version_minor": 0
      },
      "text/plain": [
       "HBox(children=(IntProgress(value=0, max=951), HTML(value='')))"
      ]
     },
     "metadata": {},
     "output_type": "display_data"
    },
    {
     "name": "stdout",
     "output_type": "stream",
     "text": [
      "\n",
      "KRVDLLEQVAREHEEYQAGVDEFQLWLKAVVECGKNVLGRNVCLPIRQTLQRLDDIAKDFPRGEESLETLEEQSAGVIRNTSPLGAEKITGELEEMRKVLEKLRALWEEEEERLRGLLRSRGAWEQ\n",
      "KRVDLLEQVAREHEEYQAGVDEFQLWLKAVVEKVNGCLGRNCKLPITQRLSTLQDIAKDFPRGEESLETLEEQSAGVIRNTSPLGAEKITGELEEMRKVLEKLRALWEEEEERLRGLLRSRGAWEQ\n"
     ]
    },
    {
     "data": {
      "application/vnd.jupyter.widget-view+json": {
       "model_id": "3279c7dfa3814f8fbbbe79dca188dc3e",
       "version_major": 2,
       "version_minor": 0
      },
      "text/plain": [
       "HBox(children=(IntProgress(value=0, max=951), HTML(value='')))"
      ]
     },
     "metadata": {},
     "output_type": "display_data"
    },
    {
     "name": "stdout",
     "output_type": "stream",
     "text": [
      "\n",
      "QFSNLTQHKRIHTGEKPYKCKECCKAFNKFSNLTQHKRIHTGEKPYKCEECGNVFNECSHLTRHRRIHTGEKPYKCEECGKAFTQFASLTRHKRIHTGEKPYQCEECGKTFNRCSHLSSHKRIHTG\n",
      "QFSNLTQHKRIHTGEKPYKCKECCKAFNKFSNLTQHKRIHTGEKPYKCEECGNVFNECSHLTRHRRIHTGEKPYKCEECGKAFTQFASLTRHKRIHTGEKPYQCEECGKTFNRCSHLSSHKRIHTG\n"
     ]
    },
    {
     "data": {
      "application/vnd.jupyter.widget-view+json": {
       "model_id": "aa1889a2e681451db5ed15835c61d8a4",
       "version_major": 2,
       "version_minor": 0
      },
      "text/plain": [
       "HBox(children=(IntProgress(value=0, max=951), HTML(value='')))"
      ]
     },
     "metadata": {},
     "output_type": "display_data"
    },
    {
     "name": "stdout",
     "output_type": "stream",
     "text": [
      "\n",
      "KGPVPTFQPFQRSISADDDLQESSRPPQRKSLYESFVSSSDRLRELGPDGEEAEGPGAGDGPPRSFDWGYEERSGAHSSASPPRSRSRDRSHERNRDRDRDRRRDRDRDRDRDRERDRDRDRDRDR\n",
      "KGPVPTFQPFQRSISADDDLQESSRRPQRKSLYESFVSSSDRLRELGPDGEEAEGPGAGDGPPRSFDWGYEERSGAHSSASPPRSRSRDRSHERNRDRDRDRERDRDRDRDRDRERDRDRDRDRDR\n"
     ]
    },
    {
     "data": {
      "application/vnd.jupyter.widget-view+json": {
       "model_id": "b4420d0a8e0e4cfca083936e00195e5d",
       "version_major": 2,
       "version_minor": 0
      },
      "text/plain": [
       "HBox(children=(IntProgress(value=0, max=951), HTML(value='')))"
      ]
     },
     "metadata": {},
     "output_type": "display_data"
    },
    {
     "name": "stdout",
     "output_type": "stream",
     "text": [
      "\n",
      "VHRHLDVRILLTNIRTKSTFLPPLPTSVQNLAHPPEVVLTDFQTLDGSQYNPVKQQLVRYATSCYSCCPRLASVLLYSDYGIGEVPVEPLDVPLPSTIRPASPVAGSPKQPVRGYYRGAVGGTFDR\n",
      "VHRHLDVRILLTNIRTKSTFLPPLPTSVQNLAHPPEVVLTDFQTLDGSQYNPVKQQLVRYATSCYSCCPRLASVLLYSDYGIGEVPVEPLDVPLPSTIRPASPVAGSPKQPVRGYYRGAVGGTFDR\n"
     ]
    },
    {
     "data": {
      "application/vnd.jupyter.widget-view+json": {
       "model_id": "79bca93e27a14f9bbe11bf88766d11da",
       "version_major": 2,
       "version_minor": 0
      },
      "text/plain": [
       "HBox(children=(IntProgress(value=0, max=951), HTML(value='')))"
      ]
     },
     "metadata": {},
     "output_type": "display_data"
    },
    {
     "name": "stdout",
     "output_type": "stream",
     "text": [
      "\n",
      "MSISSALAMVFMGAKGNTAQQMSQALCFSKIGGEDGDIHRGFQSLLVAINRTDTEYVLRTAPGLFGEKSYDFLTGFTDSCGKFYQATIKQLDFVNDTEKSTTRVNSWVADKTKGENILLFYFDNIL\n",
      "MSISSALAMVFMGAKGNTAAQMSQALCFSKIGGEDGDIHRGFQSLLVAINRTDTEYVLRTANGLFGEKSYDFLTGFTDSCGKFYQATIKQLDFVNDTEKSTTRVNSWVADKTKGENILLFYFDNIL\n"
     ]
    },
    {
     "data": {
      "application/vnd.jupyter.widget-view+json": {
       "model_id": "3a1b6795893545db88e12f23738dc8c6",
       "version_major": 2,
       "version_minor": 0
      },
      "text/plain": [
       "HBox(children=(IntProgress(value=0, max=951), HTML(value='')))"
      ]
     },
     "metadata": {},
     "output_type": "display_data"
    },
    {
     "name": "stdout",
     "output_type": "stream",
     "text": [
      "\n",
      "FGEEHVGIIVAASFFRRASDVAAVRAALGPEGHGIKIISKIENHEGVKRFDEILEVSDGIMVARGDLGIEIPAEKVFLAQKMMIGRCNLAGKPVVCATQMLESMITKPRPRTAETSDVANAVLDGA\n",
      "FGVEHGVDIVFASFVRKASDVAAVRAALGPEGHGIKIISKIENHEGVKRFDEILEVSDGIMVARGDLGIEIPAEKVFLAQKMMIGRCNLAGKPVVCATQMLESMITKPRPTRAETSDVANAVLDGA\n"
     ]
    },
    {
     "data": {
      "application/vnd.jupyter.widget-view+json": {
       "model_id": "3a14e961f1fd466aaf5a83a005a8d958",
       "version_major": 2,
       "version_minor": 0
      },
      "text/plain": [
       "HBox(children=(IntProgress(value=0, max=951), HTML(value='')))"
      ]
     },
     "metadata": {},
     "output_type": "display_data"
    },
    {
     "name": "stdout",
     "output_type": "stream",
     "text": [
      "\n",
      "HQVLLHVGLPPREPVLSCRSNTYPKGFYCSWHLPTPTYIPNTFNVTVLHGSKIMVCEKDPALKNRCHIRYMHLFSTKYIKVSISSVNALGHNATAITFDEFTIVKPDPPENVVARPVPSNPRRLEV\n",
      "HQVLLHVGLPPREPVLSCRSNTYPKGFYCSWHLPTPTYIPNTFNVTVLHGSKIMVCEKDPALKNRCHIRYMHLFSTIKYKVSISVSNALGHNATAITFDEFTIVKPDPPENVVARPVPSNPRRLEV\n"
     ]
    },
    {
     "data": {
      "application/vnd.jupyter.widget-view+json": {
       "model_id": "4c2df35a943e42bcadd06fb22969abd6",
       "version_major": 2,
       "version_minor": 0
      },
      "text/plain": [
       "HBox(children=(IntProgress(value=0, max=951), HTML(value='')))"
      ]
     },
     "metadata": {},
     "output_type": "display_data"
    },
    {
     "name": "stdout",
     "output_type": "stream",
     "text": [
      "\n",
      "LGTHGASGAAGFVQAPLSQQRWVGVSSELHCEAVGSPVPEIQWWFEGQGPNDTCSQLWDGARLDRVHIHATYHQAAASTISITDELLTETETYERCCSSDPDNNHLTRPAPVVWVRAQAVVLVLEP\n",
      "LGTHGASGAAGFVQAPLSQQRWVGGSVELHCEAVGSPVPEIQWWFEGQGPNDTCSQLWDGARLDRVHIHATYHQHAASTISIDTLVEEDTGTYECRASNDPDRNHLTRAPRVKWVRAQAVVLVLEP\n"
     ]
    },
    {
     "data": {
      "application/vnd.jupyter.widget-view+json": {
       "model_id": "8703eb39aec34401b91d699488338b80",
       "version_major": 2,
       "version_minor": 0
      },
      "text/plain": [
       "HBox(children=(IntProgress(value=0, max=951), HTML(value='')))"
      ]
     },
     "metadata": {},
     "output_type": "display_data"
    },
    {
     "name": "stdout",
     "output_type": "stream",
     "text": [
      "\n",
      "AAGSPHHRALFPLDRAPGAPGGGQAKAISDIALSFLDMVNHFDSDFSHRLHLCDIKPENFAIRSDFTVVAIDVDMAFFEPKMREILEQNCTGDEDCNFFDCFSRCDLRVNKCGAQRVNNNLQVICD\n",
      "AAGSPHHRALFPLDRAPGAPGGGQAKAISDIALSFLDMVNHFDSDFSHRLHLCDIKPENFAIRSDFTVVAIDVDMAFFEPKMREILEQNCTGDEDCNFFDCFSRCDLRVNKCGAQRVNNNLQVICD\n"
     ]
    },
    {
     "data": {
      "application/vnd.jupyter.widget-view+json": {
       "model_id": "a62c4c2caa2145beb4a0c2a8d66315a2",
       "version_major": 2,
       "version_minor": 0
      },
      "text/plain": [
       "HBox(children=(IntProgress(value=0, max=951), HTML(value='')))"
      ]
     },
     "metadata": {},
     "output_type": "display_data"
    },
    {
     "name": "stdout",
     "output_type": "stream",
     "text": [
      "\n",
      "GKVLQPVLKMKVDELFLYWLSEASTQRMLQDCLRRIKAPGRDQPTPGDGEQPGAWPTAPLAAPRPSGLEPPGTPGPGPALPLGAASSPRNAPHVRGTRRSAGTRVVQTRKEPELPPATSFSIPTFY\n",
      "GKVLQPVLKMKVDELFLYWLSEASTQRMLQDCLRRIKAPGRDQPTPGDGEQPGAWPTAPLAAPRPSGLEPPGTPGPGPALPLGAASSPRNAPHVRGTRRSAGTRVVQTRKEEPLPPATSQSIPTFY\n"
     ]
    },
    {
     "data": {
      "application/vnd.jupyter.widget-view+json": {
       "model_id": "ed7b04cac12442afab2b7228bccbff59",
       "version_major": 2,
       "version_minor": 0
      },
      "text/plain": [
       "HBox(children=(IntProgress(value=0, max=951), HTML(value='')))"
      ]
     },
     "metadata": {},
     "output_type": "display_data"
    },
    {
     "name": "stdout",
     "output_type": "stream",
     "text": [
      "\n",
      "NLKVKDVQLPVITLNFVPGVGIFQCVSTGMTVTGKFFMGGNMEIIVALNITATNRLLRDEETGLPVFKSEGCEVILVNVKTNLPSNMLPKMVNKFLDSTLHKVLPGLMCPAIDAVLVYVNKKWTNL\n",
      "NLKVKDVQLPVITLNFVPGVGIFQCVSTGMTVTGKSFMGGNMEIIVALNITATNRLLRDEETGLPVFKSEGCEVILVNVKTNLPSNMLPKMVNKFLDSTLHKVLPGLMCPAIDAVLVYVNRKWTNL\n"
     ]
    },
    {
     "data": {
      "application/vnd.jupyter.widget-view+json": {
       "model_id": "f64dab7c48f24a1f9121161dd371edc1",
       "version_major": 2,
       "version_minor": 0
      },
      "text/plain": [
       "HBox(children=(IntProgress(value=0, max=951), HTML(value='')))"
      ]
     },
     "metadata": {},
     "output_type": "display_data"
    },
    {
     "name": "stdout",
     "output_type": "stream",
     "text": [
      "\n",
      "TQEQHSKEYIERFRREKNEGEIERIMMNYDKLKSRLGEIHDSKMRLEQDLKNQALDNREIDKKMNSIKPDLIQLRKIRDQHLVWLNHKGVRQKRLNVWLGIKNEDADENYFINEEDENLPHYDEKT\n",
      "TQEQHSKEYIERFRREGNEKEIERIMMNYDKLKSRLGEIHDSKMRLEQDLKNQALDNREIDKKMNSIKPDLIQLRKIRDQHLVWLNHKGVRQKRLNVWLGIKNEDADENYFINEEDENLPHYDEKT\n"
     ]
    },
    {
     "data": {
      "application/vnd.jupyter.widget-view+json": {
       "model_id": "41c567b164dc4b4fa212a6e68ccb7c3d",
       "version_major": 2,
       "version_minor": 0
      },
      "text/plain": [
       "HBox(children=(IntProgress(value=0, max=951), HTML(value='')))"
      ]
     },
     "metadata": {},
     "output_type": "display_data"
    },
    {
     "name": "stdout",
     "output_type": "stream",
     "text": [
      "\n",
      "LNTPKIDMERLLGGQLGLEDFIFAHVKGIEKEVNVYKSEDSLGLTITDNGVGYAFIKRIKDGGVIDSVKTICVGDHIESIGGNNIVGWRHYDVAKKLKELKKEELFTMKLIEPKKAFEIELRSKAG\n",
      "LNTPKIDMERLLGGQLGLEDFIFAHVKGIEKEVNVYKSEDSLGLTITDNGVGYAFIKRIKDGGVIDSVKTICVGDHIESINGENIVGWRHYDVAKKLKELKKEELFTMKLIEPKKAFEIELRSKAG\n"
     ]
    },
    {
     "data": {
      "application/vnd.jupyter.widget-view+json": {
       "model_id": "c8d5fc09f18c4d42893f26fb6099b75a",
       "version_major": 2,
       "version_minor": 0
      },
      "text/plain": [
       "HBox(children=(IntProgress(value=0, max=951), HTML(value='')))"
      ]
     },
     "metadata": {},
     "output_type": "display_data"
    },
    {
     "name": "stdout",
     "output_type": "stream",
     "text": [
      "\n",
      "MLQEQHNQPHKDIQAPPPELSLSLPFPIQWETVSIFTRKHGNLTVDHIQNNSSDGAKKPTPPDYYEECQSQPAVSSPHHIIPQKQHYAPPPSPSSVPNHQMPPPPQDVVTPNSVRSQVPALTTTYD\n",
      "MLQEQHNQPHKDIQAPPPELSLSLPFPIQWETVSIFTRKHGNLTVDHIQNNSDSGAKKPTPPDYYPECQSQPAVSSPHHIIPQKQHYAPPPSPSSPVNHQMPYPPQDVVTPNSVRSQVPALTTTYD\n"
     ]
    },
    {
     "data": {
      "application/vnd.jupyter.widget-view+json": {
       "model_id": "aa2407d5fd5e45bf859d14314adea630",
       "version_major": 2,
       "version_minor": 0
      },
      "text/plain": [
       "HBox(children=(IntProgress(value=0, max=951), HTML(value='')))"
      ]
     },
     "metadata": {},
     "output_type": "display_data"
    },
    {
     "name": "stdout",
     "output_type": "stream",
     "text": [
      "\n",
      "MTLLNLLLQTIFYGVTCLDDVLKRTKGGKDIKFLTAFRDLLFTTLAFPVSTFVFLAFWILFLYNRDLIYPKVLDTVIPMWLNHAMHTFIFPITLAEVVLRPHSYPSKKTGLTLLAAAASAYISRIL\n",
      "MTLLNLLLQTIFYGVTCLDDVLKRTKGGKDIKFLTAFRDLLFTTLAFPVSTFVFLAFWILFLYNRDLIYPKVLDTVIPVWLNHAMHTFIFPITLAEVVLRPHSYPSKKTGLTLLAAASIAYISRIL\n"
     ]
    },
    {
     "data": {
      "application/vnd.jupyter.widget-view+json": {
       "model_id": "ce223ffb4e75438a95250eec87646b1d",
       "version_major": 2,
       "version_minor": 0
      },
      "text/plain": [
       "HBox(children=(IntProgress(value=0, max=951), HTML(value='')))"
      ]
     },
     "metadata": {},
     "output_type": "display_data"
    },
    {
     "name": "stdout",
     "output_type": "stream",
     "text": [
      "\n",
      "ATLAVRRVKFFGQHGGEVNSSAFSPDGQMLLTGSEDGCVYGWETRSGQLLWRLGGHTGPVKFCRFSPDGHLFASASCDCTVRLWDVARAKCLRVLKGHQRSVETVSFSPDSRQLASGGWDKRVMLW\n",
      "ATLAVRRVKFFGQHGGEVNSSAFSPDGQMLLTGSEDGCVYGWETRSGQLLWRLGGHTGPVKFCRFSPDGHLFASASCDCTVRLWDVARAKCLRVLKGHQRSVETVSFSPDSRQLASGGWDKRVMLW\n"
     ]
    },
    {
     "data": {
      "application/vnd.jupyter.widget-view+json": {
       "model_id": "2633a54137b14f53ab8735efe92603f3",
       "version_major": 2,
       "version_minor": 0
      },
      "text/plain": [
       "HBox(children=(IntProgress(value=0, max=951), HTML(value='')))"
      ]
     },
     "metadata": {},
     "output_type": "display_data"
    },
    {
     "name": "stdout",
     "output_type": "stream",
     "text": [
      "\n",
      "HPVVHHEGYPFAAAAAAAAAAAASKCSHEENPYFHGWLIGHPEMSPPSYSMLSAYSPEYASGAAGLDHSHYGGVPPGAGPPGLGGPRPVKRRGTANRKERRRTQSINSAFAELRCCIPNVPADTKL\n",
      "HPVVHHEGYPFAAAAAAAAAAAASRCSHEENPYFHGWLIGHPEMSPPDYSMALSYSPEYASGAAGLDHSHYGGVPPGAGPPGLGGPRPVKRRGTANRKERRRTQSINSAFAELRECIPNVPADTKL\n"
     ]
    },
    {
     "data": {
      "application/vnd.jupyter.widget-view+json": {
       "model_id": "2e1136143766413cb679a0375a1478b5",
       "version_major": 2,
       "version_minor": 0
      },
      "text/plain": [
       "HBox(children=(IntProgress(value=0, max=951), HTML(value='')))"
      ]
     },
     "metadata": {},
     "output_type": "display_data"
    },
    {
     "name": "stdout",
     "output_type": "stream",
     "text": [
      "\n",
      "PTAPASAKRTKAAATAGGQGKAARKEKGGKHKGTSGPAALAEDKSEAQGPVQILTVGQSDHAQDAGETAAGGGERPSGQDLRATMQRKGISSSMSFEEDEEDEEENSSSSSQLNSNRTPSSATSRK\n",
      "PTAPASAKRTKAAATAGGQGGAARKEKKGKHKGTSGPAALAEDKSEAQGPVQILTVGQSDHAQDAGETAAGGGERPSGQDLRATMQRKGISSSMSFDEDEEDEEENSSSSSQLNSNTRPSSATSRK\n"
     ]
    },
    {
     "data": {
      "application/vnd.jupyter.widget-view+json": {
       "model_id": "e28ee8da945247adad516e7f9aa9ac13",
       "version_major": 2,
       "version_minor": 0
      },
      "text/plain": [
       "HBox(children=(IntProgress(value=0, max=951), HTML(value='')))"
      ]
     },
     "metadata": {},
     "output_type": "display_data"
    },
    {
     "name": "stdout",
     "output_type": "stream",
     "text": [
      "\n",
      "PQLPRKSSPKSTAPVMDLLGLDAPVACSIANSKTSNTLEKDLDLLASVPSPSSGSSRKVVGSMPTAGSAGSVPENLLNFPEPGSKSEEIGKKQLSKDSILSLYGSTPPQMPQQAMFMAPAQMAYPT\n",
      "PQLPRKSSPKSTAPVMDLLGLDAPVACSIANSKTSNTLEKDLDLLASVPSPSSSGSRKVVGSMPTAGSAGSVPENLNLFPEPGSKSEEIGKKQLSKDSILSLYGSQTPQMPTQAMFMAPAQMAYPT\n"
     ]
    },
    {
     "data": {
      "application/vnd.jupyter.widget-view+json": {
       "model_id": "621891783e9b4e939642f763d2fa5d8c",
       "version_major": 2,
       "version_minor": 0
      },
      "text/plain": [
       "HBox(children=(IntProgress(value=0, max=1010), HTML(value='')))"
      ]
     },
     "metadata": {},
     "output_type": "display_data"
    },
    {
     "name": "stdout",
     "output_type": "stream",
     "text": [
      "\n",
      "GVKKCCTLGCNKSCVVPISKQKLAEFGGECPADPLPCEELCDGDASCPQGHKCCSTGCGRTCLGDIEGGRGGDCPKVLVGLCIVGCVVDENCQAGEKCKCSGCGRFCVPPVLPPLKTMNPNWTVRSD\n",
      "GVKKCCTLGCNKSCVVPISKQKLAEFGGECPADPLPCEELCDGDASCPQGHKCCSTGCGRTCLGDIEGGRGGDCPKVLVGLCIVGCVMDENCQAGEKCCKSGCGRFCVPPVLPPKLTMNPNWTVRSD\n"
     ]
    },
    {
     "data": {
      "application/vnd.jupyter.widget-view+json": {
       "model_id": "c69c3c3bd5464c6f8f4654b9f187b2f4",
       "version_major": 2,
       "version_minor": 0
      },
      "text/plain": [
       "HBox(children=(IntProgress(value=0, max=1010), HTML(value='')))"
      ]
     },
     "metadata": {},
     "output_type": "display_data"
    },
    {
     "name": "stdout",
     "output_type": "stream",
     "text": [
      "\n",
      "RAKSCGERDVKGIRTLFLGIPDENFEDHSAPPPPEEKDSGFFMLRKDSERRTALHRTLTEDQDKIVRNLMESLAQGAEEPKLKWEHITTLIASLREFVRSTDRKIIATTLSKKLLELDFDSHGISQV\n",
      "RAKSCGERDVKGIRTLFLGIPDENFEDHSAPPSPEEKDSGFFMLRKDSERRATLHRILTEDQDKIVRNLMESLAQGAEEPKLKWEHITTLIASLREFVRSTDRKIIATTLSKLKLELDFDSHGISQV\n"
     ]
    },
    {
     "data": {
      "application/vnd.jupyter.widget-view+json": {
       "model_id": "798a7a91b02144098900e606eb04f9a2",
       "version_major": 2,
       "version_minor": 0
      },
      "text/plain": [
       "HBox(children=(IntProgress(value=0, max=1010), HTML(value='')))"
      ]
     },
     "metadata": {},
     "output_type": "display_data"
    },
    {
     "name": "stdout",
     "output_type": "stream",
     "text": [
      "\n",
      "ISDLLMILTFPFKILSDAKLGTGPLRTFVCQVTSVIFYFTMYISISFLGLITIDRYQKTTRPFKTSNKKNLLGAKILSVVIWAFMFLLSLPNMILTRQQPRDKNVKKCSFLKSEFGLVWHEIVNYIC\n",
      "ISDLLMILTFPFKILSDAKLGTGPLRTFVCQVTSVIFYFTMYISISFLGLITIDRYQKTTRPFKTSNPKNLLGAKILSVVIWAFMFLLSLPNMILTNRQPRDKNVKKCSFLKSEFGLVWHEIVNYIC\n"
     ]
    },
    {
     "data": {
      "application/vnd.jupyter.widget-view+json": {
       "model_id": "1299b49b84c6419e91f01766d8212c42",
       "version_major": 2,
       "version_minor": 0
      },
      "text/plain": [
       "HBox(children=(IntProgress(value=0, max=1010), HTML(value='')))"
      ]
     },
     "metadata": {},
     "output_type": "display_data"
    },
    {
     "name": "stdout",
     "output_type": "stream",
     "text": [
      "\n",
      "LEFRTLYAASCPPLPAAAQQPPVGGGGSRQRQRPEVSSSRRSVAPPPPPPDGPPPARAAACRVPPTAPSPALSRDLDRRRRQRPAPSPGRPGSSSSADRSQSQSSSSSDGGEESGKSSSPSKAKAPI\n",
      "LEFRTLYAASCPLPPAPPQKPSVIGGLQRGRSPHRVSRRRSVAPASPPPPDGPLAHRLAACRVSPATPGPALSDILRSVQRARTPSGPPARPSRSMWDLSRLSQLSGSSDGDNELKKSWGSKDTPAK\n"
     ]
    },
    {
     "data": {
      "application/vnd.jupyter.widget-view+json": {
       "model_id": "0607670be6944dd490f48238800edf6d",
       "version_major": 2,
       "version_minor": 0
      },
      "text/plain": [
       "HBox(children=(IntProgress(value=0, max=1010), HTML(value='')))"
      ]
     },
     "metadata": {},
     "output_type": "display_data"
    },
    {
     "name": "stdout",
     "output_type": "stream",
     "text": [
      "\n",
      "SKESEVLIYARRDSQCIDCFQAFLPVHCRYHRPHSEDGEASIVVNPPDLLMFCDQEFPILKCWAHSEVAAPCALENEDICQWNKMKYKSVYKNVILQVPVGLTVHTSLVCSVTLLITILCSTLILVA\n",
      "SKESEVLIYARRDSQCIDCFQAFLPVHCRYHRPHSEDGEASIVVNNPDLLMFCDQEFPILKCWAHSEVAAPCALENEDICQWNKMKYKSVYKNVILQVPVGLTVHTSLVCSVTLLITILCSTLILVA\n"
     ]
    },
    {
     "data": {
      "application/vnd.jupyter.widget-view+json": {
       "model_id": "a84a323d1725435eaa1470a81afcbd10",
       "version_major": 2,
       "version_minor": 0
      },
      "text/plain": [
       "HBox(children=(IntProgress(value=0, max=1010), HTML(value='')))"
      ]
     },
     "metadata": {},
     "output_type": "display_data"
    },
    {
     "name": "stdout",
     "output_type": "stream",
     "text": [
      "\n",
      "TVLTMTTNITHLREILPKYPYVKIADMYLMGGFVFSVMALLEYALVPNIFFGGGPQRQKAAAEKAASANNEKMRLDVNKIFYKDIKQNGTYYRSLWDPTGLNSNTRRTNTYDFSLYTMDPHENILLS\n",
      "TVLTMTTINTHLRETLPKIPYVKAIDMYLMGCFVFVFMALLEYALVNYIFFGRGPQRQKKAAEKAASANNEKMRLDVNKIFYKDIKQNGTQYRSLWDPTGNLSPTRRTTNYDFSLYTMDPHENILLS\n"
     ]
    },
    {
     "data": {
      "application/vnd.jupyter.widget-view+json": {
       "model_id": "f7b4a02cc4814434985dd0fc43a5766c",
       "version_major": 2,
       "version_minor": 0
      },
      "text/plain": [
       "HBox(children=(IntProgress(value=0, max=1010), HTML(value='')))"
      ]
     },
     "metadata": {},
     "output_type": "display_data"
    },
    {
     "name": "stdout",
     "output_type": "stream",
     "text": [
      "\n",
      "QTFLLPAEYAFFCNSYSKDRGPWIVKPVASSRGRGVYLINNPNQISLEENILVSRYNIPPLLIDDFKFDRVYYVLVTSYDPLVIYLYEEGLARFATVRYDQGAKNIRNQFMHLTNYSVNKKSGDYVS\n",
      "QTFLLPAEYAEFCNSYSKDRGPWIVKPVASSRGRGVYLINNPNQISLEENILVSRYINNPLLIDDFKFDVRLYVLVTSYDPLVIYLYEEGLARFATVRYDQGAKNIRNQFMHLTNYSVNKKSGDYVS\n"
     ]
    },
    {
     "data": {
      "application/vnd.jupyter.widget-view+json": {
       "model_id": "7491a0e552c74236904180f0ae1e1e58",
       "version_major": 2,
       "version_minor": 0
      },
      "text/plain": [
       "HBox(children=(IntProgress(value=0, max=1010), HTML(value='')))"
      ]
     },
     "metadata": {},
     "output_type": "display_data"
    },
    {
     "name": "stdout",
     "output_type": "stream",
     "text": [
      "\n",
      "SSAPTLPDVTIRNVSRHIQMSLMGKGEPPWLCRLQLELPLQAMEEQQLGNLEARWEVEKHKNEVSGSTSREVWADADFICPVLKQCTNPKLNENKNIHQAKECEKSPFLSLSPHQQWKPGLPRRNDA\n",
      "SSAPTLPDVTIRNVSRHIQMSLMGKGEPPWLCRLQLEPLLQAMEEQQLGNLEARWEVEKHGNEVSGSTSREVWEDADFICPVLKQCTNPKLNENKNIHQAKECEKSPFLSLSPHQQWKPGLPRRNDA\n"
     ]
    },
    {
     "data": {
      "application/vnd.jupyter.widget-view+json": {
       "model_id": "0294b60e7ceb41979ebc7ddf3d66e2a2",
       "version_major": 2,
       "version_minor": 0
      },
      "text/plain": [
       "HBox(children=(IntProgress(value=0, max=1010), HTML(value='')))"
      ]
     },
     "metadata": {},
     "output_type": "display_data"
    },
    {
     "name": "stdout",
     "output_type": "stream",
     "text": [
      "\n",
      "IKIWTSKQGEGMVKLLDELSPNTAPHKYYRGFRYVHPLTEEAIEEMERDGLERAIAFTQYPQYSCSTTGSSLNAIYRYYNQVGRKPTMKWSTIDRWPTHHLLIQCFADHILKELDHFPLEKRSEVVI\n",
      "IKIWTSKQGEGMVKLLDELSPNTAPHKYYIGFRYVHPLTEEAIEEMERDGLERAIAFTQYPQYSCSTTGSSLNAIYRYYNQVGRKPTMKWSTIDRWPTHHLLIQCFADHILKELDHFPLEKRSEVVI\n"
     ]
    },
    {
     "data": {
      "application/vnd.jupyter.widget-view+json": {
       "model_id": "621c6c9fbb904c018a361be4bdcca255",
       "version_major": 2,
       "version_minor": 0
      },
      "text/plain": [
       "HBox(children=(IntProgress(value=0, max=1010), HTML(value='')))"
      ]
     },
     "metadata": {},
     "output_type": "display_data"
    },
    {
     "name": "stdout",
     "output_type": "stream",
     "text": [
      "\n",
      "VAAATAAAGAGPAMAVWTRATAAGLVELLLRERWVRVVAELSGESLSLTGDAAAAELEPALGPAAAAFNGLPNGGGAGDSLPGSPSRGLGPPSPPAPPRGPAGEAGASPPVRRVRVVKQEAGGLGIS\n",
      "VAAATAAAGAGPAMAVWTRATKAGLVELLLRERWVRVVAELSGESLSLTGDAAAAELEPALGPAAAAFNGLPNGGGAGDSLPGSPSRGLGPPSPPAPPRGPAGEAGASPPVRRVRVVKQEAGGLGIS\n"
     ]
    },
    {
     "data": {
      "application/vnd.jupyter.widget-view+json": {
       "model_id": "e8a32300dcb842c09347046b1273d244",
       "version_major": 2,
       "version_minor": 0
      },
      "text/plain": [
       "HBox(children=(IntProgress(value=0, max=1010), HTML(value='')))"
      ]
     },
     "metadata": {},
     "output_type": "display_data"
    },
    {
     "name": "stdout",
     "output_type": "stream",
     "text": [
      "\n",
      "APASVLGLLLQKLRDDGCQAYYLQGGFNKFQTEYSEHCETNVDSSSSPSSSPPTSVLGLGGLRISSDCSDGESDRELPSSATESDGSPVPSSQPAFPVQILPYLYLGCAKDSTNLDVLGKYGIKYIL\n",
      "APASVLGLLLQKLRDDGCQAYYLQGGFNKFQTEYSEHCETNVDSSSSPSSSPPTSVLGLGGLRISSDCSDGESDRELPSSATESDGSPVPSSQPAFPVQILPYLYLGCAKDSTNLDVLGKYGIKYIL\n"
     ]
    },
    {
     "data": {
      "application/vnd.jupyter.widget-view+json": {
       "model_id": "db48073cf1cb4279bb5f6f915f72ee4d",
       "version_major": 2,
       "version_minor": 0
      },
      "text/plain": [
       "HBox(children=(IntProgress(value=0, max=1010), HTML(value='')))"
      ]
     },
     "metadata": {},
     "output_type": "display_data"
    },
    {
     "name": "stdout",
     "output_type": "stream",
     "text": [
      "\n",
      "SHLSFLDLCYTTTTVPQMLVNMGSSQKTISYGGCTVQYAVFHWLGCTECIVLAAMALDRYVAICKPLHYAVLMHRALCQQLVALAWLSGFGNSFVQVVLTVQLPFCGRQVLNNFFCEVPAVIKLSCA\n",
      "SHLSFLDLCYTTTTVPQMLVNMGSSQKTISYGGCTVQYAVFHWLGCTECIVLAAMALDRYVAICKPLHYAVLMHRALCQQLVALAWLSGFGNSFVQVVLTVQLPFCGRQVLNNFFCEVPAVIKLSCA\n"
     ]
    },
    {
     "data": {
      "application/vnd.jupyter.widget-view+json": {
       "model_id": "4f656e0466e54682bceaf9d2cccd1bdb",
       "version_major": 2,
       "version_minor": 0
      },
      "text/plain": [
       "HBox(children=(IntProgress(value=0, max=1010), HTML(value='')))"
      ]
     },
     "metadata": {},
     "output_type": "display_data"
    },
    {
     "name": "stdout",
     "output_type": "stream",
     "text": [
      "\n",
      "SYASLLIIKSHSNLIKGVSKEVKKSSHLLPCSFVAIGILVAFFLLIAQCPWTYYVYGLPPPPIWYAVLREFQVIQDLVVSVLTYPLSHFVGYLLAFTLGIEVLVLSFFYRYMLTAGLTAFAAWPFLT\n",
      "SYASLLIIKSHSNLIKGVSKEVKKPSHLLPCSFVAIGILVAFFLLIQACPWTYYVYGLLPLPIWYAVLREFQVIQDLVVSVLTYPLSHFVGYLLAFTLGIEVLVLSFFYRYMLTAGLTAFAAWPFLT\n"
     ]
    },
    {
     "data": {
      "application/vnd.jupyter.widget-view+json": {
       "model_id": "119176b9834d4d77891b789878dc37ec",
       "version_major": 2,
       "version_minor": 0
      },
      "text/plain": [
       "HBox(children=(IntProgress(value=0, max=1010), HTML(value='')))"
      ]
     },
     "metadata": {},
     "output_type": "display_data"
    },
    {
     "name": "stdout",
     "output_type": "stream",
     "text": [
      "\n",
      "KFRPVPGSALQIFELCAQEQRKEVRLESAERLAEAVQERQQYAWLCSQLRRKARLGSVSLDLCDGDTGEPRYTLHVVDSPTVKPSRHNHFAIFIIPQGRETEWLFGMDEGRKLQAASAGFRRLITVA\n",
      "KFRPVPGSALQIFELCAQEQRKPVRLESAERLAEAVQERQQYAWLCSQLRRKARLGSVSLDLCDGDTGEPRYTLHVVDSPTVKPSRDNHFAIFIIPQGRETEWLFGMDEGRKQLAASAGFRRLITVA\n"
     ]
    },
    {
     "data": {
      "application/vnd.jupyter.widget-view+json": {
       "model_id": "08391a18ca86456b902e0ec4ce153173",
       "version_major": 2,
       "version_minor": 0
      },
      "text/plain": [
       "HBox(children=(IntProgress(value=0, max=1010), HTML(value='')))"
      ]
     },
     "metadata": {},
     "output_type": "display_data"
    },
    {
     "name": "stdout",
     "output_type": "stream",
     "text": [
      "\n",
      "NINLVPKPVVPNNTTKYNSALDTNATMINSFNKFPYPTQAELSWLTAASKHPEEHIRIWFATQRLKHGISWSPEEVEEARKKMFNGTIQSVPPTITVLPAQLAPTKVTQPILQTALPCQILGQTSLV\n",
      "NINLVPKVPVPLNTTKYNSALDTNATMINSFNKFPYPTQAELSWLTAASKHPEEHIRIWFATQRLKHGISWSPEEVEEARKKMFNGTIQSVPPTITVLPAQLAPTKVTQPILQTALPCQILGQTSLV\n"
     ]
    },
    {
     "data": {
      "application/vnd.jupyter.widget-view+json": {
       "model_id": "f6769a2292394aa7b44c7a8449763fc9",
       "version_major": 2,
       "version_minor": 0
      },
      "text/plain": [
       "HBox(children=(IntProgress(value=0, max=1010), HTML(value='')))"
      ]
     },
     "metadata": {},
     "output_type": "display_data"
    },
    {
     "name": "stdout",
     "output_type": "stream",
     "text": [
      "\n",
      "AKTNTFCGTPDYIAPEILLGQKYNHSVDWWSFGVLYYEMLIGSSPFHGQDEEELFHSIRMDNPFYPRWLEKEAKDLLVKLFVREPEKRLGVRGDIRQHPLFREINWEELERKEIDPPFRPKVKSPFD\n",
      "AKTNTFCGTPDYIAPEILLGQKYNHSVDWWSFGVLLYEMLIGQSPFHGQDEEELFHSIRMDNPFYPRWLEKEAKDLLVKLFVREPEKRLGVRGDIRQHPLFREINWEELERKEIDPPFRPKVKSPFD\n"
     ]
    },
    {
     "data": {
      "application/vnd.jupyter.widget-view+json": {
       "model_id": "e653e84ab3524be6ad46f3f8f6c58716",
       "version_major": 2,
       "version_minor": 0
      },
      "text/plain": [
       "HBox(children=(IntProgress(value=0, max=1010), HTML(value='')))"
      ]
     },
     "metadata": {},
     "output_type": "display_data"
    },
    {
     "name": "stdout",
     "output_type": "stream",
     "text": [
      "\n",
      "VEETRHHAEVVKKVNEMIVTGQYGRLFAVVHFASRQWKVTSEDLILIGNELDLACGERIRLEKVLLVGADNFTLLGKPLLGKDLVRVEATVIEKTESWPRIIMRFRKRKNFKKKRIVTTPQTVLRIN\n",
      "VEETRHHAEVVKKVNEMIVTGQYGRLFAVVHFASRQWKVTSEDLILIGNELDLACGERIRLEKVLLVGADNFTLLGKPLLGKDLVRVEATVIEKTESWPRIIMRFRKRKNFKKKRIVTTPQTVLRIN\n"
     ]
    },
    {
     "data": {
      "application/vnd.jupyter.widget-view+json": {
       "model_id": "0d10c72cec9643e086a2f77d618d22ef",
       "version_major": 2,
       "version_minor": 0
      },
      "text/plain": [
       "HBox(children=(IntProgress(value=0, max=1010), HTML(value='')))"
      ]
     },
     "metadata": {},
     "output_type": "display_data"
    },
    {
     "name": "stdout",
     "output_type": "stream",
     "text": [
      "\n",
      "HVAATYGLPGVLLAVLNSGVQVDLEARDFEGLTPLHTAILALNVAMRPSDLCPRVLSTQARDRLDCVHMLLQMGANHTSQEIKSNKTVLHLAVQAANPTLVQLLLELLRGDLRTFVNMKAHGNTALH\n",
      "HVAATYGLPGVLLAVLNSGVQVDLEARDFEGLTPLHTAILALNVAMRPSDLCPRVLSTQARDRLDCVHMLLQMGANHTSQEIKSNKTVLHLAVQAANPTLVQLLLELPRGDLRTFVNMKAHGNTALH\n"
     ]
    },
    {
     "data": {
      "application/vnd.jupyter.widget-view+json": {
       "model_id": "c9946c183b984ac88e2ffb7f0f422dfe",
       "version_major": 2,
       "version_minor": 0
      },
      "text/plain": [
       "HBox(children=(IntProgress(value=0, max=1010), HTML(value='')))"
      ]
     },
     "metadata": {},
     "output_type": "display_data"
    },
    {
     "name": "stdout",
     "output_type": "stream",
     "text": [
      "\n",
      "SGTQFVCETVIRSLTLDAAPDHNPPCRQKSLQMTFALPEGPLGNEKEEIIHIAEEEAVMEEEEDEEDEEEEDELKDDVQSSQSASSEDYIIILPECFDTSRPLGDSMYSSALSQPGLERGAEGKPGV\n",
      "SGTQFVCETVIRSLTLDAAPDHNPPCRQKSLQMTFALPEGPLGNEKEEIIHIAEEEAVMEEEEDEEDEEEEDELKDEVQSQSSASSEDYIIILPECFDTSRPLGDSMYSSALSQPGLERGAEGKPGV\n"
     ]
    },
    {
     "data": {
      "application/vnd.jupyter.widget-view+json": {
       "model_id": "485bd705c6cb47f699f81e80cdb5a2f5",
       "version_major": 2,
       "version_minor": 0
      },
      "text/plain": [
       "HBox(children=(IntProgress(value=0, max=1010), HTML(value='')))"
      ]
     },
     "metadata": {},
     "output_type": "display_data"
    },
    {
     "name": "stdout",
     "output_type": "stream",
     "text": [
      "\n",
      "RLYKLYTSTEVLLDRGKGKLQDSVGYRISSNVDVALLWRNPDGDDDQLIQIEMKDVNVENVNQQRGEKSIFKGKSPSKIMGKENLEAGQPRTLLHLIHGKVKEFYSYQNEAVAIENIKRGLASLFQT\n",
      "RLYKLTYSTEVLLDRGKGKLQDSVGYRISSNVDVALLWRNPDGDDDQLIQITMKDVNVENVNQQRGEKSIFKGKSPSKIMGKENLEALQRPTLLHLIHGKVKEFYSYQNEAVAIENIKRGLASLFQT\n"
     ]
    },
    {
     "data": {
      "application/vnd.jupyter.widget-view+json": {
       "model_id": "e2a175b4ba39490b9d06b8e4684326cf",
       "version_major": 2,
       "version_minor": 0
      },
      "text/plain": [
       "HBox(children=(IntProgress(value=0, max=1010), HTML(value='')))"
      ]
     },
     "metadata": {},
     "output_type": "display_data"
    },
    {
     "name": "stdout",
     "output_type": "stream",
     "text": [
      "\n",
      "VLFEVHSLKLLAAHCHIQHQYLMPENVVEEKTKAMDLHAVLAELPRPRRPPLQWRYSEVSFMELDKFLEDVRNGIYPLMNFAATRPLGLPRVLAPPPEEVQKAKTPTPEPFDDETRKVIQMQCNLER\n",
      "VLFEVHSLKLLAAHCFIQHQYLMPENVVEEKTKAMDLHAVLAELPRPRRPPLQWRYSEVSFMELDKFLEDVRNGIYPLMNFAATRPLGLPRVLAPPPEEVQKAKTPTPEPFDSETRKVIQMQCNLER\n"
     ]
    },
    {
     "data": {
      "application/vnd.jupyter.widget-view+json": {
       "model_id": "9015d33799ad495785e162e81aa220a3",
       "version_major": 2,
       "version_minor": 0
      },
      "text/plain": [
       "HBox(children=(IntProgress(value=0, max=1010), HTML(value='')))"
      ]
     },
     "metadata": {},
     "output_type": "display_data"
    },
    {
     "name": "stdout",
     "output_type": "stream",
     "text": [
      "\n",
      "NSSSSSNSGAVAGSGNTEGHSTLNTMFPPTANMLLPTGEGQSGRAALRDKLMSQQKDALRKRKQPPTTVLSLLRQSQMDSSAVPKPGPDLLRKQGQGSFPISSMSQLLQSMSCQSSHLSSNSTPGCG\n",
      "NSSSSSNSGAVAGSGNTEGHSTLNTMFPPTANMLLPTGEGQSGRAALRDKLMSQQKDALRKRKQPPTTVLSLLRQSQMDSSAVPKPGPDLLRKQGQGSFPISSMSQLLQSMSCQSSHLSSNSTPGCG\n"
     ]
    },
    {
     "data": {
      "application/vnd.jupyter.widget-view+json": {
       "model_id": "c46449a716174e5d9b0f0fb5e1f87bd8",
       "version_major": 2,
       "version_minor": 0
      },
      "text/plain": [
       "HBox(children=(IntProgress(value=0, max=1010), HTML(value='')))"
      ]
     },
     "metadata": {},
     "output_type": "display_data"
    },
    {
     "name": "stdout",
     "output_type": "stream",
     "text": [
      "\n",
      "PRKRFTYSQDYLSAMVEPLDLKEEEKKKAQKKRQAWLTARGFQVTGLQSDTESSFQDLKLPPIKELNEWVEENSLFANVLEPVLDRDRWSWDRHHVDFDLYKKPPPFLELLPSPAPKPVTVRKKKGN\n",
      "PRKRFTYSQDYLSAMVEPLDLKEEEKKAQKKSRQAWLTARGFQVTGLQSDTESSFQDLKLPPIKELNEEWKENSLFANVLEPVLDRDRWSWDRHHVDFDLYKKPPPFLELLPSPAPKPVTVRKKKGN\n"
     ]
    },
    {
     "data": {
      "application/vnd.jupyter.widget-view+json": {
       "model_id": "f29f5835d4e94f35aa57258fc7d92751",
       "version_major": 2,
       "version_minor": 0
      },
      "text/plain": [
       "HBox(children=(IntProgress(value=0, max=1010), HTML(value='')))"
      ]
     },
     "metadata": {},
     "output_type": "display_data"
    },
    {
     "name": "stdout",
     "output_type": "stream",
     "text": [
      "\n",
      "DYNHEILGQQINDFTLPDVNLIGEHSDAAELGRMLQLILGCAVNCEQKQEYIQAIMMMEESVQHVVMTAIQELMSKESPVSAGNDAYVDLDRQLKKTTENELEALSAKEEIAQRCHELDMQVAALQE\n",
      "DYNHEILGQQINDFTLPDVNLIGEHSDAAELGRMLQLILGCAVNCEQKQEYIQAIMMMEESVQHVVMTAIQELMSKESPVSAGNDAYVDLDRQLKKTTEELNEALSAKEEIAQRCHELDMQVAALQE\n"
     ]
    },
    {
     "data": {
      "application/vnd.jupyter.widget-view+json": {
       "model_id": "d1b48dc176a94591b34a0b037bf28442",
       "version_major": 2,
       "version_minor": 0
      },
      "text/plain": [
       "HBox(children=(IntProgress(value=0, max=1010), HTML(value='')))"
      ]
     },
     "metadata": {},
     "output_type": "display_data"
    },
    {
     "name": "stdout",
     "output_type": "stream",
     "text": [
      "\n",
      "PRIQMLLFGLFSFFYVFTLLGNGTILGLISLDSRLHAPMYFFLSHLAVVDIYYACNTVPRMLVNLLHPAKPISFAGRMMQTFLFSTFAVTECLLLVVMSYDLYVAICHPLRYLAIMTWRVCITLAVT\n",
      "PRIQMLLFGLFSLFYVFTLLGNGTILGLISLDSRLHAPMYFFLSHLAVVDIAYACNTVPRMLVNLLHPAKPISFAGRMMQTFLFSTFAVTECLLLVVMSYDLYVAICHPLRYLAIMTWRVCITLAVT\n"
     ]
    },
    {
     "data": {
      "application/vnd.jupyter.widget-view+json": {
       "model_id": "14421a5c04ae429ab41c209b313ac31b",
       "version_major": 2,
       "version_minor": 0
      },
      "text/plain": [
       "HBox(children=(IntProgress(value=0, max=1010), HTML(value='')))"
      ]
     },
     "metadata": {},
     "output_type": "display_data"
    },
    {
     "name": "stdout",
     "output_type": "stream",
     "text": [
      "\n",
      "ELSSMSGFEEGSELNGFEGTDMKDMRLEAEAVVNDVLFAVNNMFVSKSLRCADDVAYINVETKERNRYCLELTEAGLKVVGYAFDQVDHDLQTPYHETVYSLLDTLSPAYREAFGNALLQRLEALKR\n",
      "ELSSMSGFEEGSELNGFEGTDMKDMRLEAEAVVNDVLFAVNNMFVSKSLRCADDVAYINVETKERNRYCLELTEAGLKVVGYAFDQVDDHLQTPYHETVYSLLDTLSPAYREAFGNALLQRLEALKR\n"
     ]
    },
    {
     "data": {
      "application/vnd.jupyter.widget-view+json": {
       "model_id": "c97a30393a674c12b5301e3b5fc11b17",
       "version_major": 2,
       "version_minor": 0
      },
      "text/plain": [
       "HBox(children=(IntProgress(value=0, max=1010), HTML(value='')))"
      ]
     },
     "metadata": {},
     "output_type": "display_data"
    },
    {
     "name": "stdout",
     "output_type": "stream",
     "text": [
      "\n",
      "AEAYSRSQLEEQAARSAEYGSSLQSSRSEIADLNVRIQKLRSQILSVKSHCLKLEENIKTAEEQGELAFQDAKTKLAQLEAALQQAKQDMARQLRKYQELMNVKLALDIEIATYRKLVEGEEGRMDS\n",
      "AEAYSRSQLEEQAARSAEYGSSLQSSRSEIADLNVRIQKLRSQILSVKSHCLKLEENIKTAEEQGELAFQDAKTKLAQLEAALQQAKQDMARQLRKYQELMNVKLALDIEIATYRKLVEGEEGRMDS\n"
     ]
    },
    {
     "data": {
      "application/vnd.jupyter.widget-view+json": {
       "model_id": "98551224432e47c5840a0fdc1098507b",
       "version_major": 2,
       "version_minor": 0
      },
      "text/plain": [
       "HBox(children=(IntProgress(value=0, max=1077), HTML(value='')))"
      ]
     },
     "metadata": {},
     "output_type": "display_data"
    },
    {
     "name": "stdout",
     "output_type": "stream",
     "text": [
      "\n",
      "KEKAVTDEKPKQKDKPGEEEEKCDISSKYHYLTENDLEESPKGLLDILKSLENTVTSAINKAQNGTPSWGGYPSIHAAQQLPNMMKLSLGSSGKSTPLKPMFGNEEIVSPTKNQTLVSPPSSQTSPMP\n",
      "KEKAVTDEKPKQKDKPGEEEEKCDISSKYHYLTENDLEESPKGGLDILKSLENTVTSAINKAQNGTPSWGGYPSIHAAYQLPNMMKLSLGSSGKSTPLKPMFGNSEIVSPTKNQTLVSPPSSQTSPMP\n"
     ]
    },
    {
     "data": {
      "application/vnd.jupyter.widget-view+json": {
       "model_id": "71b0ccf6071547899fcf72b4afcebd38",
       "version_major": 2,
       "version_minor": 0
      },
      "text/plain": [
       "HBox(children=(IntProgress(value=0, max=1077), HTML(value='')))"
      ]
     },
     "metadata": {},
     "output_type": "display_data"
    },
    {
     "name": "stdout",
     "output_type": "stream",
     "text": [
      "\n",
      "EGGFSKFAAEFSLHCETNLDGSCSSSSPPLPVLGLGGLRISSDSSSDIESDLDRDPNSATDSDGSPLSNSQPSFPVEILPFLYLGCAKDSTNLDVLEEFGIKYILNVTPNLPNLFENAGEFKYKQIPI\n",
      "EGGFSKFQAEFSLHCETNLDGSCSSSSPPLPVLGLGGLRISSDSSSDIESDLDRDPNSATDSDGSPLSNSQPSFPVEILPFLYLGCAKDSTNLDVLEEFGIKYILNVTPNLPNLFENAGEFKYKQIPI\n"
     ]
    },
    {
     "data": {
      "application/vnd.jupyter.widget-view+json": {
       "model_id": "b4b7e26906dd485aaacb8a72d7451e88",
       "version_major": 2,
       "version_minor": 0
      },
      "text/plain": [
       "HBox(children=(IntProgress(value=0, max=1077), HTML(value='')))"
      ]
     },
     "metadata": {},
     "output_type": "display_data"
    },
    {
     "name": "stdout",
     "output_type": "stream",
     "text": [
      "\n",
      "DLVQKPSYYVRLGSLSTKLHSRAYQQALSRVKEAKQKSQQTISQLHSTVHLIEFARKNVYSANQKIQDAQDKLYLSWVEWKRSIGYDDTDESHCAEHIESRTLAIARNLTQQLQTTCHTLLSNIQGVP\n",
      "DLVQKPSYYVRLGSLSTKLHSRAYQQALSRVKEAKQKSQQTISQLHSTVHLIEFARKNVYSANQKIQDAQDKLYLSWVEWKRSIGYDDTDESHCAEHIESRTLAIARNLTQQLQTTCHTLLSNIQGVP\n"
     ]
    },
    {
     "data": {
      "application/vnd.jupyter.widget-view+json": {
       "model_id": "0db55320be2c4f4996566f0c4c4a4f3e",
       "version_major": 2,
       "version_minor": 0
      },
      "text/plain": [
       "HBox(children=(IntProgress(value=0, max=1077), HTML(value='')))"
      ]
     },
     "metadata": {},
     "output_type": "display_data"
    },
    {
     "name": "stdout",
     "output_type": "stream",
     "text": [
      "\n",
      "ADTDEMSANKINSFELDRADRDPSNMYTKYIYHRIPRSREVQQSWPSTVFTTLHSMWLSFPLIHRVKPDLVLCNGPGTCVPICVSALLLGILGIKKVIIVYVESICRVETLSMSGKILFHLSDYFIVQ\n",
      "ADTDEMSANKINSFELDRADRDPSNMYTKYYIHRIPRSREVQQSWPSTVFTTLHSMWLSFPLIHRVKPDLVLCNGPGTCVPICVSALLLGILGIKKVIIVYVESICRVETLSMSGKILFHLSDYFIVQ\n"
     ]
    },
    {
     "data": {
      "application/vnd.jupyter.widget-view+json": {
       "model_id": "89d55058f9a34a2e8a154a46f690ae67",
       "version_major": 2,
       "version_minor": 0
      },
      "text/plain": [
       "HBox(children=(IntProgress(value=0, max=1077), HTML(value='')))"
      ]
     },
     "metadata": {},
     "output_type": "display_data"
    },
    {
     "name": "stdout",
     "output_type": "stream",
     "text": [
      "\n",
      "GTNNIHGRYPHTKKIKAKIIIIHPNFILESYVNDAILFHLKKAVRYNDYIQPICLPFDVFQILDGNTKCFISGEGRTKEEGNATNILQDAEVHYISREMCNSERSYGGIIPNTSFCAGDEDGAFDTCR\n",
      "GTNNIHGRYPHTKKIKIKAIIIHPNFILESYVNDIALFHLKKAVRYNDYIQPICLPFDVFQILDGNTKCFISGWGRTKEEGNATNILQDAEVHYISREMCNSERSYGGIIPNTSFCAGDEDGAFDTCR\n"
     ]
    },
    {
     "data": {
      "application/vnd.jupyter.widget-view+json": {
       "model_id": "11c5ccd678ca4f4ba4abe197a25fe87b",
       "version_major": 2,
       "version_minor": 0
      },
      "text/plain": [
       "HBox(children=(IntProgress(value=0, max=1077), HTML(value='')))"
      ]
     },
     "metadata": {},
     "output_type": "display_data"
    },
    {
     "name": "stdout",
     "output_type": "stream",
     "text": [
      "\n",
      "LLGCQDSPGLRAARPTSPPQDHRPTCPVGGTKDALDLPGGGSPRESHGLAQGSSEEEELPSLAFLLGSQHKLPWWWLPQSPVPASGLLSPEKWGPQGTHQFPSAERGGLNLAPSPANKAKKRPLFGSL\n",
      "LLGCQDSPGLRAARPTSPPQDHRPTCPGVGTKDALDLPGGSPVRESHGLAQGSSEEEELPSLAFLLGSQHKLLPWWLPQSPVPASGLLSPEKWGPQGTHQFPSAERRGLNLAPSPANKAKKRPLFGSL\n"
     ]
    },
    {
     "data": {
      "application/vnd.jupyter.widget-view+json": {
       "model_id": "1a0ff8c53ea248e98d565f76900b515c",
       "version_major": 2,
       "version_minor": 0
      },
      "text/plain": [
       "HBox(children=(IntProgress(value=0, max=1077), HTML(value='')))"
      ]
     },
     "metadata": {},
     "output_type": "display_data"
    },
    {
     "name": "stdout",
     "output_type": "stream",
     "text": [
      "\n",
      "PIVSLPEQEIKTLEEDEEELFKMRKALFRFASENDLPEWKERGTGDVKLLKHKEKGAIRLMMRRDKTLCICANHYITPMMELKPNAGSDRAWVWNTHADAFDECPKPELLAIRFLNAENAQKFKTKFE\n",
      "PIVSLPEQEIKTLEEDEEELFKMRAKLFRFASENDLPEWKERGTGDVKLLKHKEKGAIRLLMRRDKTLKICANHYITPMMELKPNAGSDRAWVWNTHADFADECPKPELLAIRFLNAENAQKFKTKFE\n"
     ]
    },
    {
     "data": {
      "application/vnd.jupyter.widget-view+json": {
       "model_id": "714e18d2bc6d4253997c75f34338ee07",
       "version_major": 2,
       "version_minor": 0
      },
      "text/plain": [
       "HBox(children=(IntProgress(value=0, max=1077), HTML(value='')))"
      ]
     },
     "metadata": {},
     "output_type": "display_data"
    },
    {
     "name": "stdout",
     "output_type": "stream",
     "text": [
      "\n",
      "EKNGNYYKDIKQYVFTTQNPNGTESEISVRATTDLNFALKNDKTVNATTYEKSTIEEETTTSEPSHKNIQRSTPNVPAFWTMLAKAINGTAVVMDDKDQLFHPIPESDVNATQGENQPDLEDLKIKIM\n",
      "EKNGNYYKDIKQYVFTTQNPNGTESEISVRATTDLNFALKNDKTVNATTYEKSTIEEETTTSEPSHKNIQRSTPNVPAFWTMLAKAINGTAVVMDDKDQLFHPIPESDVNATQGENQPDLEDLKIKIM\n"
     ]
    },
    {
     "data": {
      "application/vnd.jupyter.widget-view+json": {
       "model_id": "ee24d3e3be7243af94adadf4195b551b",
       "version_major": 2,
       "version_minor": 0
      },
      "text/plain": [
       "HBox(children=(IntProgress(value=0, max=1077), HTML(value='')))"
      ]
     },
     "metadata": {},
     "output_type": "display_data"
    },
    {
     "name": "stdout",
     "output_type": "stream",
     "text": [
      "\n",
      "HLVVHTGRKDFLCQYCAQRFGRKDHLTRHVKKSHSQELLKIKTEPVDMLGLLSCSSTVSKKEELSPVLCMASRDVMGTKAFPGMLPMGMYGAHIPTMPSTGVPHSLVHNTLPMGMSYPLESSPISSPA\n",
      "HLVVHTGRKDFLCQYCAQRFGRKDHLTRHVKKSHSQELLKIKTEPVDMLGLLSCSSTVSVKEELSPVLCMASRDVMGTKAFPGMLPMGMYGAHIPTMPSTGVPHSLVHNTLPMGMSYPLESSPISSPA\n"
     ]
    },
    {
     "data": {
      "application/vnd.jupyter.widget-view+json": {
       "model_id": "adbc89187ca24b3e8150830780fc2bbb",
       "version_major": 2,
       "version_minor": 0
      },
      "text/plain": [
       "HBox(children=(IntProgress(value=0, max=1077), HTML(value='')))"
      ]
     },
     "metadata": {},
     "output_type": "display_data"
    },
    {
     "name": "stdout",
     "output_type": "stream",
     "text": [
      "\n",
      "HDVDDSLRDSPHSERYVSALTTPARLSPVDFHYSLATQVPTFEITSNNSAHAVSLPPAAPISYRLAEQQPLLRHPAPPGPGPGPGPGPGPGADMQRSYDSYYYPAAGPGPRRGTCALGGSLGSLPASP\n",
      "HDSVDSLRDSPHSERYVSALTTPARLSPVDFHYSLATQVPTFEITSPNSAHAVSLPPAAPISYRLAEQQPLLRHPAPPGPGPGPGPGPGPGADMQRSYDSYYYPAAGPGPRRGTCALGGSLGSLPASP\n"
     ]
    },
    {
     "data": {
      "application/vnd.jupyter.widget-view+json": {
       "model_id": "e9c2c4d8d0e44db6ba5c034afc3e4c1b",
       "version_major": 2,
       "version_minor": 0
      },
      "text/plain": [
       "HBox(children=(IntProgress(value=0, max=1077), HTML(value='')))"
      ]
     },
     "metadata": {},
     "output_type": "display_data"
    },
    {
     "name": "stdout",
     "output_type": "stream",
     "text": [
      "\n",
      "GAEGPSTLDEGLFLRSQEAAATVQLFQEHHRKAEELLAAAAQRHQQLQKQCQQQQQKRQRLKEELEKHGMQVPAQAQSTQEEEAGPGDVASPKPLKGERPGAAHQAGPDVLIGQEDTLHPDLSPRGFQ\n",
      "GAEGPSTLDEGLFLRSQEAAATVQLFQEEHRKAEELLAAAAQRHQQLQQKCQQQQQKRQRLKEELEKHGMQVPAQAQSTQEEEAGPGDVASPKPLKGERPGAAHQAGPDVLIGQEDTLHPDLSPRGFQ\n"
     ]
    },
    {
     "data": {
      "application/vnd.jupyter.widget-view+json": {
       "model_id": "55b0565a857b4aa4acea19fd1beeb352",
       "version_major": 2,
       "version_minor": 0
      },
      "text/plain": [
       "HBox(children=(IntProgress(value=0, max=1077), HTML(value='')))"
      ]
     },
     "metadata": {},
     "output_type": "display_data"
    },
    {
     "name": "stdout",
     "output_type": "stream",
     "text": [
      "\n",
      "NASMSSNTPLVRIARLSSGESPLTAPLSSEEPPPLAKEESSIIRLTLGLPLGEGVVGVVVMEAAARRRRDKKVAPAAVVKLLLDDKKKKKDDDMMMMMMMKMKKKMIIMNKGLLNLGQQLLLLLGGGS\n",
      "NASMSSNTPLVRIARLSSGEGPTLANVSELELPADPKWELSRARLTLGKPLGEGCFGQVVMAEAIGIDKDRAAKPVTVAVKMLKDDATDKDLSDLVSEMEMMKMIGKHKNIINLLGACTQGGPLYVLV\n"
     ]
    },
    {
     "data": {
      "application/vnd.jupyter.widget-view+json": {
       "model_id": "b482f7c747db4ca8b529cd2f919b872d",
       "version_major": 2,
       "version_minor": 0
      },
      "text/plain": [
       "HBox(children=(IntProgress(value=0, max=1077), HTML(value='')))"
      ]
     },
     "metadata": {},
     "output_type": "display_data"
    },
    {
     "name": "stdout",
     "output_type": "stream",
     "text": [
      "\n",
      "PAGPEDQPLTPTGSPPQSGLGRHLGVVIGILVAVVLLLLLLLLLFLILRQRRHGKHWTSTQRKADFQHPAGAVGPEPTDRGLQWRSSPAADAQEENLYAAVKDTQPEDGVEMDTRAAASEAPQDVTYA\n",
      "PAGPEDQPLTPTGSDPQSGLGRHLGVVIGILVAVVLLLLLLLLLFLILRHRRQGKHWTSTQRKADFQHPAGAVGPEPTDRGLQWRSSPAADAQEENLYAAVKDTQPEDGVEMDTRAAASEAPQDVTYA\n"
     ]
    },
    {
     "data": {
      "application/vnd.jupyter.widget-view+json": {
       "model_id": "f2dc97441dcf405793a45f740509a568",
       "version_major": 2,
       "version_minor": 0
      },
      "text/plain": [
       "HBox(children=(IntProgress(value=0, max=1077), HTML(value='')))"
      ]
     },
     "metadata": {},
     "output_type": "display_data"
    },
    {
     "name": "stdout",
     "output_type": "stream",
     "text": [
      "\n",
      "NSAGNEFTQDQMGIVEDIKKCKKFVALDPIEEKKVPLSEHTIRYVLPDGKEIQLCQERFLMSECFFKPSLIKSMQLGLHTQTVSCLNKCDIALKRDLMGNILLCGGSTMLSGFPNRLQKELSSMCPND\n",
      "NSAGNEFTQDQMGIVEDIKKKCCFVALDPIEEKKVPLSEHTIRYVLPDGKEIQLCQERFLCSEMFFKPSLIKSMQLGLHTQTVSCLNKCDIALKRDLMGNILLCGGSTMLSGFPNRLQKELSSMCPND\n"
     ]
    },
    {
     "data": {
      "application/vnd.jupyter.widget-view+json": {
       "model_id": "cb3d7161ec60413eba5e1000b6334a1b",
       "version_major": 2,
       "version_minor": 0
      },
      "text/plain": [
       "HBox(children=(IntProgress(value=0, max=1077), HTML(value='')))"
      ]
     },
     "metadata": {},
     "output_type": "display_data"
    },
    {
     "name": "stdout",
     "output_type": "stream",
     "text": [
      "\n",
      "RLVSLYFDTKRYQEALHLGSQLLRELKKMDDKALLVEVQLLESTKYHALSNLEKARAALTSARTTANAIYCPPKLQATLDMQSGIIHAAEEKDWKTAYSYFYEAFGYYDSIDSPKAITSLKYMLLCKI\n",
      "RLVSLYFDTKRYQEALHLGSQLLRELKKMDDKALLVEVQLLESKTYHALSNLPKARAALTSARTTANAIYCPPKLQATLDMQSGIIHAAEEKDWKTAYSYFYEAFEGYDSIDSPKAITSLKYMLLCKI\n"
     ]
    },
    {
     "data": {
      "application/vnd.jupyter.widget-view+json": {
       "model_id": "3181d9ac8c9848b39005511bc8a6e38a",
       "version_major": 2,
       "version_minor": 0
      },
      "text/plain": [
       "HBox(children=(IntProgress(value=0, max=1077), HTML(value='')))"
      ]
     },
     "metadata": {},
     "output_type": "display_data"
    },
    {
     "name": "stdout",
     "output_type": "stream",
     "text": [
      "\n",
      "ICHPLRYRLIMSWSLCVELLVGSLLLGFLLSLPLTILIFHLPFCHNDEIYHFYCDMPAVMRLACADTRVHKTALYIISAFIILSIPPSLISSYVIFVVAILRIRSAEGRQQAYSTCSSHILVVLLQYG\n",
      "ICHPLRYRLIMSWSLCVELLVGSLVLGFLLSLPLTILIFHLPFCHNDEIYHFYCDMPAVMRLACADTRVHKTALYIISFIVLSIPLSLISISYVFIVVAILRIRSAEGRQQAYSTCSSHILVVLLQYG\n"
     ]
    },
    {
     "data": {
      "application/vnd.jupyter.widget-view+json": {
       "model_id": "3bb8852dda5944fb937b4aab976f0780",
       "version_major": 2,
       "version_minor": 0
      },
      "text/plain": [
       "HBox(children=(IntProgress(value=0, max=1077), HTML(value='')))"
      ]
     },
     "metadata": {},
     "output_type": "display_data"
    },
    {
     "name": "stdout",
     "output_type": "stream",
     "text": [
      "\n",
      "RLFSTGLAHRGLEDTDGDGDSGKYAFPVGLTHHYVPCSLSSKPLVVLHLVLEMGFSRVLCFTNSRENSHRLFLLVQAFGGVDVAEFSSRYGPGQRRMILKQFEQGKIQLLISTDATARGIDVQGVELV\n",
      "RLFSTGLAHRGLEDTDGDGDSGKYAFPVGLTHHYVPCSLSSKPLVVLHLVLEMGFSRVLCFTNSRENSHRLFLLVQAFGGVDVAEFSSRYGPGQRRMILKQFEQGKIQLLISTDATARGIDVQGVELV\n"
     ]
    },
    {
     "data": {
      "application/vnd.jupyter.widget-view+json": {
       "model_id": "a76655bc15e642a0824ef9a1d1168fe2",
       "version_major": 2,
       "version_minor": 0
      },
      "text/plain": [
       "HBox(children=(IntProgress(value=0, max=1077), HTML(value='')))"
      ]
     },
     "metadata": {},
     "output_type": "display_data"
    },
    {
     "name": "stdout",
     "output_type": "stream",
     "text": [
      "\n",
      "VLPLYRGSSVSASRVVKPRQSSPQLHLLASYTKKHHTSSVYSISERLEMKPGPQAQGLVMEAATHSQGDGDTSLDSKLTQQLIEFEKSLAGPGTEPDKILRHFSIMDFNSEKDIVRGSSKLITEQELP\n",
      "VLPLYRGSSVSASRVVKPRQSSPQLHNLASYTKKHHTSSVYSISERLEMKPGPQAQGLVMEAATHSQGDGSTDLDSKLTQQLIEFEKSLAGPGTEPDKILRHFSIMDFNSEKDIVRGSSKLITEQELP\n"
     ]
    },
    {
     "data": {
      "application/vnd.jupyter.widget-view+json": {
       "model_id": "06f05a88d043451498231cfd1fa7b7a6",
       "version_major": 2,
       "version_minor": 0
      },
      "text/plain": [
       "HBox(children=(IntProgress(value=0, max=1077), HTML(value='')))"
      ]
     },
     "metadata": {},
     "output_type": "display_data"
    },
    {
     "name": "stdout",
     "output_type": "stream",
     "text": [
      "\n",
      "HRVLKLAHTDIFILELLMISNNGLLTTLWFFLLLVSYIVILSLPKSQAGEGRRKAISTCTSHITVVTLHFVPCIYVYARPFTALPMDKAISVTFTVISPLNNPLIYTLRNHEMKSAARRLKRRLVPSD\n",
      "HRVLKLAHTDIFILELLMISNNGLLTTLWFFLLLVSYIVILSLPKSQAGEGRRKAISTCTSHITVVTLHFVPCIYVYARPFTALPMDKAISVTFTVISPLLNPLIYTLRNHEMKSAMRRLKRRLVPSD\n"
     ]
    },
    {
     "data": {
      "application/vnd.jupyter.widget-view+json": {
       "model_id": "0414185b692b4a8aa603a81649c602f4",
       "version_major": 2,
       "version_minor": 0
      },
      "text/plain": [
       "HBox(children=(IntProgress(value=0, max=1077), HTML(value='')))"
      ]
     },
     "metadata": {},
     "output_type": "display_data"
    },
    {
     "name": "stdout",
     "output_type": "stream",
     "text": [
      "\n",
      "LAPLMWRRAVSSVAGSAVGAEPGLLRLVVQRLPVGAAFCRACQTPNFVRGLHSEPGLEERAEGTVNEGRPESDAADHTGPKFDIDMMVSLRLQELARDICVQQVPPEMRYTDYFVIVSGSSTRHLHAM\n",
      "LAPLMWRRAVSSVAGSAVGAEPGLRLLAVQRLPVGAAFCRACQTPNFVRGLHSEPGLEERAEGTVNEGRPESDAADHTGPKFDIDMMVSLLRQENARDICVIQVPPEMRYTDYFVIVSGTSTRHLHAM\n"
     ]
    },
    {
     "data": {
      "application/vnd.jupyter.widget-view+json": {
       "model_id": "3b4b1325e8f7472a9b394c232b477c8a",
       "version_major": 2,
       "version_minor": 0
      },
      "text/plain": [
       "HBox(children=(IntProgress(value=0, max=1077), HTML(value='')))"
      ]
     },
     "metadata": {},
     "output_type": "display_data"
    },
    {
     "name": "stdout",
     "output_type": "stream",
     "text": [
      "\n",
      "MGALSDAIASSATTHGASIFTEKTVAKVQVNSEGCQVGVVLEDGTEVRSKMVLSNTSPQITFLKLTPQEWLPEEFLERISQLDTRSPVTKINVAVDRLPSFLAAPNAPRGQPLPHHQCSIHLNCEDTL\n",
      "MGALSDAIASSATTHGASIFTEKTVAKVQVNSEGCVQGVVLEDGTEVRSKMVLSNTSPQITFLKLTPQEWLPEEFLERISQLDTRSPVTKINVAVDRLPSFLAAPNAPRGQPLPHHQCSIHLNCEDTL\n"
     ]
    },
    {
     "data": {
      "application/vnd.jupyter.widget-view+json": {
       "model_id": "b3a64a13716844359ca94b6d43bf76b5",
       "version_major": 2,
       "version_minor": 0
      },
      "text/plain": [
       "HBox(children=(IntProgress(value=0, max=1077), HTML(value='')))"
      ]
     },
     "metadata": {},
     "output_type": "display_data"
    },
    {
     "name": "stdout",
     "output_type": "stream",
     "text": [
      "\n",
      "DEFGEQLSKVISLICIAVWIINIGHFNDPVHGGSWIRGAIYYFKIAVALAVAAIPEGLPAVITTCLALQRTTMAKKNAIVRSLPSVETLGCTSVICSDKTGTLTTNQMSVCRMFILDRVEGDTCSLNE\n",
      "DEFGEQLSKVISLICIAVWIINIGHFNDPVHGGSWIRGAIYYFKIAVALAVAAIPEGLPAVITTCLALGTRRMAKKNAIVRSLPSVETLGCTSVICSDKTGTLTTNQMSVCRMFILDRVEGDTCSLNE\n"
     ]
    },
    {
     "data": {
      "application/vnd.jupyter.widget-view+json": {
       "model_id": "07daeaa6d9b4401eb8ff3054e727a3d9",
       "version_major": 2,
       "version_minor": 0
      },
      "text/plain": [
       "HBox(children=(IntProgress(value=0, max=1077), HTML(value='')))"
      ]
     },
     "metadata": {},
     "output_type": "display_data"
    },
    {
     "name": "stdout",
     "output_type": "stream",
     "text": [
      "\n",
      "SKPPNPALGKTATDSDERIDDEIDTEVEETQEEKIKLECEQQPKKFRHSAISPKSLLHRKSRSKDYDVYSDNDICSQESEDNFAKELQQYIQAREMANAAQPEESTKKEGVKDTPQAAKQKNKNLKAG\n",
      "SKPPNPALGKTATDSDERIDDEIDTEVEETQEEKIKLECEQIPKKFRHSAISPKSSLHRKSRSKDYDVYSDNDICSQESEDNFAKELQQYIQAREMANAAQPEESTKKEGVKDTPQAAKQKNKNLKAG\n"
     ]
    },
    {
     "data": {
      "application/vnd.jupyter.widget-view+json": {
       "model_id": "e31bb1241add460f9d6d5efdb3315052",
       "version_major": 2,
       "version_minor": 0
      },
      "text/plain": [
       "HBox(children=(IntProgress(value=0, max=1077), HTML(value='')))"
      ]
     },
     "metadata": {},
     "output_type": "display_data"
    },
    {
     "name": "stdout",
     "output_type": "stream",
     "text": [
      "\n",
      "VVLAVQYLHSLHLIDRDLKEPNLLIDQQGYLQVTDFGFKKRVKGRTWTLCGTPEYLAPEIILSKGYNKAVDWIWLGVLIYEMAVGFPPFYADQPIQIYEKIVSGRVRFPSKLSSDLKHLLRSLLQVDL\n",
      "VVLAVQYLHSLDLIHRDLKPENLLIDQQGYLQVTDFGFAKRVKGRTWTLCGTPEYLAPEIILSKGYNKAVDWWALGVLIYEMAVGFPPFYADQPIQIYEKIVSGRVRFPSKLSSDLKHLLRSLLQVDL\n"
     ]
    },
    {
     "data": {
      "application/vnd.jupyter.widget-view+json": {
       "model_id": "0039c438472e4a8ca4fe5bfd4369702e",
       "version_major": 2,
       "version_minor": 0
      },
      "text/plain": [
       "HBox(children=(IntProgress(value=0, max=1077), HTML(value='')))"
      ]
     },
     "metadata": {},
     "output_type": "display_data"
    },
    {
     "name": "stdout",
     "output_type": "stream",
     "text": [
      "\n",
      "LLLRNIEKQSAQLTEIINSLIAPLNLSPTSSPLSSKSCSHKCLANGIYRSASENLDELSSSSSWLLNQKHSKKKRKDRTRLKSSSLTFMSTSARRRPLQSFHKRKLYRLSPTFYWTPQTLPSKETAFL\n",
      "LLLRNIEKQSAQLTEIINSLIAPLNLSPTSSPLSSKSCSHKCLANGIYRSASENLDELSSSSSWLLNQKHSKKKRKDRTRLKSSSLTFMSTSARTRPLQSFHKRKLYRLSPTFYWTPQTLPSKETAFL\n"
     ]
    },
    {
     "data": {
      "application/vnd.jupyter.widget-view+json": {
       "model_id": "5985e13b761d46c5a6439ec3eb74da01",
       "version_major": 2,
       "version_minor": 0
      },
      "text/plain": [
       "HBox(children=(IntProgress(value=0, max=1077), HTML(value='')))"
      ]
     },
     "metadata": {},
     "output_type": "display_data"
    },
    {
     "name": "stdout",
     "output_type": "stream",
     "text": [
      "\n",
      "LAAAQEFDPHTVMQRNYNVARVSGVWYSIFMASDDLNRIKENGDLRVFVRNIEHLKNGSLIFDFEYMVQGECVAVVVVCEKTEKNGEYSINEEGQNTVAVSETDYRLFITFHLQNFRNGTETHTLALY\n",
      "LIAAQEFDPHTVMQRNYNVARVSGVWYSIFMASDDLNRIKENGDLRVFVRNIEHLKNGSLIFDFEYMVQGECVAVVVVCEKTEKNGEYSINYEGQNTVAVSETDYRLFITFHLQNFRNGTETHTLALY\n"
     ]
    },
    {
     "data": {
      "application/vnd.jupyter.widget-view+json": {
       "model_id": "e53dfc66bac74401a4b09ffc772a2e97",
       "version_major": 2,
       "version_minor": 0
      },
      "text/plain": [
       "HBox(children=(IntProgress(value=0, max=1077), HTML(value='')))"
      ]
     },
     "metadata": {},
     "output_type": "display_data"
    },
    {
     "name": "stdout",
     "output_type": "stream",
     "text": [
      "\n",
      "LHAFVELHEFTDLNLVQALRQFWLSFRLPGEAQKIDRMMEAFFQRYCQCNNGVFQTTDTCYVLSFAIIMLNTSLHNPPVKDKPTVERFIAMNRGINDGGDLPEELLRNLYESIKNEPFKIPEDDGNDL\n",
      "LHAFVELHEFTDLNLVQALRQFLWSFRLPGEAQKIDRMMEAFAQRYCQCNNGVFQSTDTCYVLSFAIIMLNTSLHNPNVKDKPTVERFIAMNRGINDGGDLPEELLRNLYESIKNEPFKIPEDDGNDL\n"
     ]
    },
    {
     "data": {
      "application/vnd.jupyter.widget-view+json": {
       "model_id": "feb7c911e8474f4082561efb35449b1e",
       "version_major": 2,
       "version_minor": 0
      },
      "text/plain": [
       "HBox(children=(IntProgress(value=0, max=1077), HTML(value='')))"
      ]
     },
     "metadata": {},
     "output_type": "display_data"
    },
    {
     "name": "stdout",
     "output_type": "stream",
     "text": [
      "\n",
      "CEDKFTKSKTVYSILRHVAEVLEYTKDEQLESLFQRTAWVFDDKYKRPGYGAYDAFKHAVSDPSILDSLDLNEDEERVLINNINRRLTPQAVKIRADIEVACYGYEGIDAVKEALRAGLNCSTENMPI\n",
      "CEDKFTKSKTVYSILRHVAEVLEYTKDEQLESLFQRTAWVFDDKYKRPGYGAYDAFKHAVSDPSILDSLDLNEDEREVLINNINRRLTPQAVKIRADIEVACYGYEGIDAVKEALRAGLNCSTENMPI\n"
     ]
    },
    {
     "data": {
      "application/vnd.jupyter.widget-view+json": {
       "model_id": "96f811a367c64167bcad5b4cd198b3e5",
       "version_major": 2,
       "version_minor": 0
      },
      "text/plain": [
       "HBox(children=(IntProgress(value=0, max=1077), HTML(value='')))"
      ]
     },
     "metadata": {},
     "output_type": "display_data"
    },
    {
     "name": "stdout",
     "output_type": "stream",
     "text": [
      "\n",
      "APEKDPEQPPKGRVDSCVSDAAVPAQDPSNSDPGTETELADTALDLLLLLLTEQWKWLCTENMQKFLRLIFGTRVQLWEVVQVANLTSPQRWVQYLLLLQESIWPGGVLPKFPRPVRTQEQKLAAEKQ\n",
      "APEKDPEQPPKGRVDSCVSDAAVPAQDPSNSDPGTETELADTALDLLLLLLTEQWKWLCTENMQKFLRLIFGTLVQRWLEVQVANLTSPQRWVQYLLLLQESIWPGGVLPKFPRPVRTQEQKLAAEKQ\n"
     ]
    },
    {
     "data": {
      "application/vnd.jupyter.widget-view+json": {
       "model_id": "5ed1e8b76dcc43a6920cbe612da6235f",
       "version_major": 2,
       "version_minor": 0
      },
      "text/plain": [
       "HBox(children=(IntProgress(value=0, max=1077), HTML(value='')))"
      ]
     },
     "metadata": {},
     "output_type": "display_data"
    },
    {
     "name": "stdout",
     "output_type": "stream",
     "text": [
      "\n",
      "QIAICGMSTWSKRSLSQEDAPQTPRPVAEIVPSFINKDTETIIIMLEFIANLPPELKAALSERQPSLPELQQYVPALKDSNLSFEEFKKLIRRNQSEAADSNPSELKYLGLDTSSQKKRRPYVALFEK\n",
      "QIAICGMSTWSKRSLSQEDAPQTPRPVAEIVPSFINKDTETIIIMLEFIANLPPELKAALSERQPSLPELQQYVPALKDSNLSFEEFKKLIRNRQSEAADSNPSELKYLGLDTHSQKKRRPYVALFEK\n"
     ]
    },
    {
     "data": {
      "application/vnd.jupyter.widget-view+json": {
       "model_id": "c4d1c5e92c3444a99f38628c89a4bb53",
       "version_major": 2,
       "version_minor": 0
      },
      "text/plain": [
       "HBox(children=(IntProgress(value=0, max=1077), HTML(value='')))"
      ]
     },
     "metadata": {},
     "output_type": "display_data"
    },
    {
     "name": "stdout",
     "output_type": "stream",
     "text": [
      "\n",
      "LLLGRYTEEEQKTVALIKAVFGKSAMKHMVILFTRKEELEGQSFHDFIADADVKLKSIVKECGNRCCAFSNSKKTSKAEKESQVQELVELIEKMVQCNEGAYFSDDIYKDTEERLKQREEVLRKIYTD\n",
      "LLLGRYTEEEQKTVALIKAVFGKSAMKHMVILFTRKEELEGQSFHDFIADADVGLKSIVKECGNRCCAFSNSKKTSKAEKESQVQELVELIEKMVQCNEGAYFSDDIYKDTEERLKQREEVLRKIYTD\n"
     ]
    },
    {
     "data": {
      "application/vnd.jupyter.widget-view+json": {
       "model_id": "319ba7cc58ca449d97a5afe0c8ee0b58",
       "version_major": 2,
       "version_minor": 0
      },
      "text/plain": [
       "HBox(children=(IntProgress(value=0, max=1077), HTML(value='')))"
      ]
     },
     "metadata": {},
     "output_type": "display_data"
    },
    {
     "name": "stdout",
     "output_type": "stream",
     "text": [
      "\n",
      "MRQVGTSQSGTSQIGMSQPGTWQTGLSQPVPQQPPKSPPGMWNRGMWSWMGMQSSVVQLGNQAGRPSQSKNSTGGGSSPGRGQPGIWWPPGGGSLLLQQQDDDLQLSQLGLSQPGRSQPSVSSSGGMM\n",
      "MRQVGTSQSGTSQIGMSQPGTWQTGLSQPVPRQPNKSPPGMWQRGMWQPGMSQQVPSQLGMRQPGTSQSSKNQTGMSHPGRGQPGIWEPGPSQPGLSQQDLNQLVLSQPGLSQPGRSQPSVSQMGMRQ\n"
     ]
    },
    {
     "data": {
      "application/vnd.jupyter.widget-view+json": {
       "model_id": "b47470a985da4bd08510d733b1b1fde4",
       "version_major": 2,
       "version_minor": 0
      },
      "text/plain": [
       "HBox(children=(IntProgress(value=0, max=1077), HTML(value='')))"
      ]
     },
     "metadata": {},
     "output_type": "display_data"
    },
    {
     "name": "stdout",
     "output_type": "stream",
     "text": [
      "\n",
      "VQELMSCLDLKECGHAYSGIVAHQKHLLPTSPPISQASEGASSDIHTPAQMLLSTLQSTQRPTLPVGSLSSDKELTRPNETTIHTAGHSLAAGPEAGENQKQPEKNAGPATRTSATVPVLCLLAIIFI\n",
      "VQELMSCLDLKECGHAYSGIVAHQKHLLPTSPPISQASEGASSDIHTPAQMLLSTLQSTQRPTLPVGSLSSDKELTRPNETTIHTAGHSLAAGPEAGENQKQPEKNAGPTARTSATVPVLCLLAIIFI\n"
     ]
    },
    {
     "data": {
      "application/vnd.jupyter.widget-view+json": {
       "model_id": "2bce96257e384d869bc8c05333f3d85c",
       "version_major": 2,
       "version_minor": 0
      },
      "text/plain": [
       "HBox(children=(IntProgress(value=0, max=1077), HTML(value='')))"
      ]
     },
     "metadata": {},
     "output_type": "display_data"
    },
    {
     "name": "stdout",
     "output_type": "stream",
     "text": [
      "\n",
      "NRHKIRHTENKHFRCKECDKSLCMLSRLTQHKKIHTRENFYKCECCGKTFNWSTNLSKPKKIHTGEKPYKCEVCGKAFHQSSILTKHKIIRTGEKPYKCAHCGKAFKQSSHLTRHKIIHTEEKPYKCE\n",
      "NRHKIRHTENKHFRCKECDKSLCMLSRLTQHKKIHTRENFYKCEECGKTFNWSTNLSKPKKIHTGEKPYKCEVCGKAFHQSSILTKHKIIRTGEKPYKCAHCGKAFKQSSHLTRHKIIHTEEKPYKCE\n"
     ]
    },
    {
     "data": {
      "application/vnd.jupyter.widget-view+json": {
       "model_id": "731b524280884e7c87c32cb900eb1591",
       "version_major": 2,
       "version_minor": 0
      },
      "text/plain": [
       "HBox(children=(IntProgress(value=0, max=1077), HTML(value='')))"
      ]
     },
     "metadata": {},
     "output_type": "display_data"
    },
    {
     "name": "stdout",
     "output_type": "stream",
     "text": [
      "\n",
      "RVLHRDLKPQNLLINTEGAIKLADFGLARAFGVPVRTYTHEVVTLWYRAPEILLGCKYYSTAVDIWSLGCIFAEMVTRRALFPGDSEIDQLFRIFRTLGTPDEVVWPGVTSMPDYKPSFPKWARQDFD\n",
      "RVLHRDLKPQNLLINTEGAIKLADFGLARAFGVPVRTYTHEVVTLWYRAPEILLGCKYYSTAVDIWSLGCIFAEMVTRRALFPGDSEIDQLFRIFRTLGTPDEVVWPGVTSMPDYKPSFPKWARQDFS\n"
     ]
    },
    {
     "data": {
      "application/vnd.jupyter.widget-view+json": {
       "model_id": "b353df745800428b9ed4b720b0f23459",
       "version_major": 2,
       "version_minor": 0
      },
      "text/plain": [
       "HBox(children=(IntProgress(value=0, max=1077), HTML(value='')))"
      ]
     },
     "metadata": {},
     "output_type": "display_data"
    },
    {
     "name": "stdout",
     "output_type": "stream",
     "text": [
      "\n",
      "MRTPGPPPVLLLLLAGAPAARPTPPTCYSRMRALSQEITRDFNLLQVSEPEEPCVRYLPRLYLDIHNYCVLDKLRDFVASPPCWKVAQVDSLKDKARKLYTIMNSFCRRDLVFLLDDCNALEPIPYVT\n",
      "MRTPGPLPVLLLLLAGAPAARPTPPTCYSRMRALSQEITRDFNLLQVSEPSEPCVRYLPRLYLDIHNYCVLDKLRDFVASPPCWKVAQVDSLKDKARKLYTIMNSFCRRDLVFLLDDCNALEYPIPVT\n"
     ]
    },
    {
     "data": {
      "application/vnd.jupyter.widget-view+json": {
       "model_id": "ceee7320e0db4ce3a371a8321456c352",
       "version_major": 2,
       "version_minor": 0
      },
      "text/plain": [
       "HBox(children=(IntProgress(value=0, max=1077), HTML(value='')))"
      ]
     },
     "metadata": {},
     "output_type": "display_data"
    },
    {
     "name": "stdout",
     "output_type": "stream",
     "text": [
      "\n",
      "LNVDLTEFQTNLVPYNRIHFPLATYAPVISAEKAYHEQLSVAEITNACFEPANQMVKCDPRHGKYMCCCLYYRGDVVPKDVNAAIAAKITKRSIQFVDWCPTGFKVGINYQPPTVVPGGDLAKVQRAV\n",
      "LNVDLTEFQTNLVPYPRIHFPLATYAPVISAEKAYHEQLSVAEITNACFEPANQMVKCDPRHGKYMACCLLYRGDVVPKDVNAAIAAIKTKRSIQFVDWCPTGFKVGINYQPPTVVPGGDLAKVQRAV\n"
     ]
    },
    {
     "data": {
      "application/vnd.jupyter.widget-view+json": {
       "model_id": "789c307078e444d1bedde48941e8e427",
       "version_major": 2,
       "version_minor": 0
      },
      "text/plain": [
       "HBox(children=(IntProgress(value=0, max=1077), HTML(value='')))"
      ]
     },
     "metadata": {},
     "output_type": "display_data"
    },
    {
     "name": "stdout",
     "output_type": "stream",
     "text": [
      "\n",
      "PVQFNFNKIRPGEVLFRLHREPDLPGTLLQEDILVVINVSPLEWGHVLLVPEPARQLPQRLLPAALRAGIEAVLLSLHPGFRVGFNSLGGLASVNHLHLHGYYLAHRLPVEQAPSEPLDPGGHLHLLQ\n",
      "PVQFNFNKIRPGEVLFRLHREPDLPGTLLQEDILVVINVSPLEWGHVLLVPEPARQLPQRLLPGALRAGIEAVLLSLHPGFRVGFNSLGGLASVNHLHLHGYYLAHRLPVEQAPSEPLDPGGHLHLLQ\n"
     ]
    },
    {
     "data": {
      "application/vnd.jupyter.widget-view+json": {
       "model_id": "3c932c5697f74e639e6a586db301af90",
       "version_major": 2,
       "version_minor": 0
      },
      "text/plain": [
       "HBox(children=(IntProgress(value=0, max=1077), HTML(value='')))"
      ]
     },
     "metadata": {},
     "output_type": "display_data"
    },
    {
     "name": "stdout",
     "output_type": "stream",
     "text": [
      "\n",
      "SGALVGFSCPGVQDSAALTIQESPVHILSPQDRVSLTTTTSERVVLTCELSRVDFPATWYKDGQKVEESELLVVKMDGRKHRLILPEAKVQDSGEFECRTEGVSAFFGVTVQDPPVHIVDPREHVFVH\n",
      "SGALVGFSCPGVQDSAALTIQESPVHILSPQDRVSLTFTTSERVVLTCELSRVDFPATWYKDGQKVEESELLVVKMDGRKHRLILPEAKVQDSGEFECRTEGVSAFFGVTVQDPPVHIVDPREHVFVH\n"
     ]
    },
    {
     "data": {
      "application/vnd.jupyter.widget-view+json": {
       "model_id": "3f6992d866af42baa8e794a1d3462a54",
       "version_major": 2,
       "version_minor": 0
      },
      "text/plain": [
       "HBox(children=(IntProgress(value=0, max=1077), HTML(value='')))"
      ]
     },
     "metadata": {},
     "output_type": "display_data"
    },
    {
     "name": "stdout",
     "output_type": "stream",
     "text": [
      "\n",
      "QALAACSTCTPGEGGPPAAALICSYECHGSFLLHELTTTTFCFYCCNKSKKFLELLKLKNDCALNNSKGGYDNFNGLNCYYIYIIYDEPIIIDPDAWVVVVVAFFDDGWWLRGGHGA.AAQQ.ECVEQ\n",
      "QALYACSTCTPEGEEPAGICLACSYECHGSHKLFELYTKRNFRCDCGNSKFKNLECKLLPDKAKVNSGNKYNDNFFGLYCICKRPYPDPEDEIPDEMIQCVVCEDWFHGRHLGAIPPESGDFQEMVCQ\n"
     ]
    },
    {
     "data": {
      "application/vnd.jupyter.widget-view+json": {
       "model_id": "57ff885c3d7a4de48855c1bd8bc9f40b",
       "version_major": 2,
       "version_minor": 0
      },
      "text/plain": [
       "HBox(children=(IntProgress(value=0, max=1077), HTML(value='')))"
      ]
     },
     "metadata": {},
     "output_type": "display_data"
    },
    {
     "name": "stdout",
     "output_type": "stream",
     "text": [
      "\n",
      "VKTAQKLWADRISLAGSNIFTIGVQDFVPFVQCKAKFHAPSFFVDVPVQFDIYLKADCPHPIRFSKLCVSFNNQYENQFCVIEEASKANEVLENLTQGKMCLVPGKTRKLLFFFVAKTEDVGKKIEIT\n",
      "VKTAQKLWADRISLAGSNIFTIGVQDFVPFVQCKAKFHAPSFHVDVPVQFDIYLKADCPHPIRFSKLCVSFNNQEYNQFCVIEEASKANEVLENLTQGKMCLVPGKTRKLLFKFVAKTEDVGKKIEIT\n"
     ]
    },
    {
     "data": {
      "application/vnd.jupyter.widget-view+json": {
       "model_id": "1eb584718d2040b6a904ca710c04e05a",
       "version_major": 2,
       "version_minor": 0
      },
      "text/plain": [
       "HBox(children=(IntProgress(value=0, max=1077), HTML(value='')))"
      ]
     },
     "metadata": {},
     "output_type": "display_data"
    },
    {
     "name": "stdout",
     "output_type": "stream",
     "text": [
      "\n",
      "HNPQCTADLGAQYITCTPHYAKKHQRFYDELLAYGVLRPLSSPIEGMVMKEGDCNFVAPQGISSIIKHYLKESGAEVYFRHRVTQINLRDDKWEVSKQTGSPEQFDLIVLTMPVPEILQLQGDITTLI\n",
      "HNPQCTADLGAQYITCTPHYAKKHQRFYDELLAYGVLRPLSSPIEGMVMKEGDCNFVAPQGISSIIKHYLKESGAEVYFRHRVTQINLRDDKWEVSKQTGSPEQFDLIVLTMPVPEILQLQGDITTLI\n"
     ]
    },
    {
     "data": {
      "application/vnd.jupyter.widget-view+json": {
       "model_id": "c8950001f5d249a99795430aaf382388",
       "version_major": 2,
       "version_minor": 0
      },
      "text/plain": [
       "HBox(children=(IntProgress(value=0, max=1077), HTML(value='')))"
      ]
     },
     "metadata": {},
     "output_type": "display_data"
    },
    {
     "name": "stdout",
     "output_type": "stream",
     "text": [
      "\n",
      "VPPGPVETVELPEQVDAIVSEWMGYGLLHESMLSSVLHARTKWLKEGGLLPPASAELFIAPISDQMLEWRLKWSQQVKQHYGVDMSCLEGFATRCLMGHSEIVVQGLSGEDVLARPQRFAQLELSRAG\n",
      "VLPGPVETVELPEQVDAIVSEWMGYGLLHESMLSSVLHARTKWLKEGGLLLPASAELFIAPISDQMLEWRLGFWSQVKQHYGVDMSCLEGFATRCLMGHSEIVVQGLSGEDVLARPQRFAQLELSRAG\n"
     ]
    },
    {
     "data": {
      "application/vnd.jupyter.widget-view+json": {
       "model_id": "b795955e0948474c9bb9acc74f946489",
       "version_major": 2,
       "version_minor": 0
      },
      "text/plain": [
       "HBox(children=(IntProgress(value=0, max=1077), HTML(value='')))"
      ]
     },
     "metadata": {},
     "output_type": "display_data"
    },
    {
     "name": "stdout",
     "output_type": "stream",
     "text": [
      "\n",
      "AKPFLPGREPGANLLSPWAFPAAVAPPAGRPETTCDVCGKVFPHRSRLAKHQRYHAAVKPFGCEECGKGFVYRSHLAIHQRTHTGEKPFPCPDCGKRFVYKSHLVTHRRIHTGERPYRCAFCGAGFGR\n",
      "AKPFLPGREPGANLLSPWAFPAAVAPPAGRPETTCDVCGKVFPHRSRLAKHQRYHAAVKPFGCEECGKGFVYRSHLAIHQRTHTGEKPFPCPDCGKRFVYKSHLVTHRRIHTGERPYRCAFCGAGFGR\n"
     ]
    },
    {
     "data": {
      "application/vnd.jupyter.widget-view+json": {
       "model_id": "ee2648be41194c7c87e046411c291f99",
       "version_major": 2,
       "version_minor": 0
      },
      "text/plain": [
       "HBox(children=(IntProgress(value=0, max=1077), HTML(value='')))"
      ]
     },
     "metadata": {},
     "output_type": "display_data"
    },
    {
     "name": "stdout",
     "output_type": "stream",
     "text": [
      "\n",
      "SSTQANSIVLESSSSQEPTGDGKPPALPPKQSKKNSWNQIHSSSHQQDLESIINETFDIPSSPEKPTPNGGIPDHNLVLIRMKPDENGRFGFNVKGGYDQKMPVISSRVAPGTPADLCVPRLNEGDQV\n",
      "SSTQANSIVLESSPSQETPGDGKPPALPPKQSKKNSWNQIHYSHSQQDLESHINETFDIPSSPEKPTPNGGIPHDNLVLIRMKPDENGRFGFNVKGGYDQKMPVIVSRVAPGTPADLCVPRLNEGDQV\n"
     ]
    },
    {
     "data": {
      "application/vnd.jupyter.widget-view+json": {
       "model_id": "7cd78a64465c4e1b8bceebf7a5f3a916",
       "version_major": 2,
       "version_minor": 0
      },
      "text/plain": [
       "HBox(children=(IntProgress(value=0, max=1077), HTML(value='')))"
      ]
     },
     "metadata": {},
     "output_type": "display_data"
    },
    {
     "name": "stdout",
     "output_type": "stream",
     "text": [
      "\n",
      "EIPIDGTELSHYRQRALLQSQPVRRTPLLHNFLHMLSRSSSGIQGGEQSTVQDSATPSPPPPPPSPSTERPRTSAYARLRQRVSYPTAECCQHLGILCLCSRCSGTRVPSLLPHQDSVPPASARATTP\n",
      "EIPIDGTELSHYRQRALLQSQPVRRTPLLHNFLHMLSSRSSGIQVGEQSTVQDSATPSPPPPPPQPSTERPRTSAYIRLRQRVSYPTAECCQHLGILCLCSRCSGTRVPSLLPHQDSVPPASARATTP\n"
     ]
    },
    {
     "data": {
      "application/vnd.jupyter.widget-view+json": {
       "model_id": "a25e2f03c6b044c288849b4670233829",
       "version_major": 2,
       "version_minor": 0
      },
      "text/plain": [
       "HBox(children=(IntProgress(value=0, max=1077), HTML(value='')))"
      ]
     },
     "metadata": {},
     "output_type": "display_data"
    },
    {
     "name": "stdout",
     "output_type": "stream",
     "text": [
      "\n",
      "LVRVLFELARYHAPSTIFDLELLSVMSQRGTASGGEHEGSLRMKTELLVQMDGLARSEDLVFVLAASNLPWELDCAMLRRLEKRILVDLPSREARQAMIYHWLPPVSKSRALELHTELEYSVLSQETE\n",
      "LVRVLFELARYHAPSTIFLDELESVMSQRGTASGGEHEGSLRMKTELLVQMDGLARSEDLVFVLAASNLPWELDCAMLRRLEKRILVDLPSREARQAMIYHWLPPVSKSRALELHTELEYSVLSQETE\n"
     ]
    },
    {
     "data": {
      "application/vnd.jupyter.widget-view+json": {
       "model_id": "c0e29ba20a4548e195ac36487db2a910",
       "version_major": 2,
       "version_minor": 0
      },
      "text/plain": [
       "HBox(children=(IntProgress(value=0, max=1077), HTML(value='')))"
      ]
     },
     "metadata": {},
     "output_type": "display_data"
    },
    {
     "name": "stdout",
     "output_type": "stream",
     "text": [
      "\n",
      "WKDYVLIGDYSSSAQFYVTFAVFVFLYCIAALLLYVGYTSLYLDSRKLPMIDFVVTLVATFLWLVSTSAWAAKLTDIKIATGHNIIDELPPCKKKAVLCYFGSVTSMGSLNVSVIFGFLNMILWGGNA\n",
      "WKDYVLIGDYSSSAQFYVTFAVFVFLYCIAALLLYVGYTSLYLDSRKLPMIDFVVTLVATFLWLVSTSAWAKALTDIKIATGHNIIDELPPCKKKAVLCYFGSVTSMGSLNVSVIFGFLNMILWGGNA\n"
     ]
    },
    {
     "data": {
      "application/vnd.jupyter.widget-view+json": {
       "model_id": "63680cfdb6ea4018bcca8ea66f9ca566",
       "version_major": 2,
       "version_minor": 0
      },
      "text/plain": [
       "HBox(children=(IntProgress(value=0, max=1077), HTML(value='')))"
      ]
     },
     "metadata": {},
     "output_type": "display_data"
    },
    {
     "name": "stdout",
     "output_type": "stream",
     "text": [
      "\n",
      "ASHKIEKEEQEKKRKEEEERRRREEEERERLQKEEEKRRREEEERLRREEEERRRIEEERLRLEQQKQQQIAALNSQTAVFQQQYAAQQPYGNYEQQQIILRQLQEQHYQQYMQQLYQVQLAQQQAAL\n",
      "ASHKIEKEEQEKKRKEEEERRRREEEERERLQKEEEKRRREEEERLRREEEERRRIEEERLRLEQQKQQIMAALNSQTAVQFQQYAAQQYPGNYEQQQILIRQLQEQHYQQYMQQLYQVQLAQQQAAL\n"
     ]
    },
    {
     "data": {
      "application/vnd.jupyter.widget-view+json": {
       "model_id": "db4575ca5f0c4389b88994a5484e87cc",
       "version_major": 2,
       "version_minor": 0
      },
      "text/plain": [
       "HBox(children=(IntProgress(value=0, max=1077), HTML(value='')))"
      ]
     },
     "metadata": {},
     "output_type": "display_data"
    },
    {
     "name": "stdout",
     "output_type": "stream",
     "text": [
      "\n",
      "NLHSAHTKLQTWGQIFEKQRETKHHLFGGQSQKAVQPPHLFLWLMLLKNMLLAKFSFYFHEALSRQTTASEMKTLTAKANPDFFGKISSFIKRDDAANVSLIFDNRGSESFQGHGYHHPHSYREAPKG\n",
      "NLHSAHTKLQTWGQIFEKQRETKKHLFGGQSQKAVQPPHLFLWLMKLKNMLLAKFSFYFHEALSRQTTASEMKTLTAKANPDFFGKISSFIRKYDAANVSLIFDNRGSESFQGHGYHHPHSYREAPKG\n"
     ]
    },
    {
     "data": {
      "application/vnd.jupyter.widget-view+json": {
       "model_id": "bcfe69df2aed46c3940f28653e08c4b8",
       "version_major": 2,
       "version_minor": 0
      },
      "text/plain": [
       "HBox(children=(IntProgress(value=0, max=1077), HTML(value='')))"
      ]
     },
     "metadata": {},
     "output_type": "display_data"
    },
    {
     "name": "stdout",
     "output_type": "stream",
     "text": [
      "\n",
      "VAAEPKQSGSFRYLQGMLEAGEGGDWPPGGPPNRLKPTSAKLLAPLSGLQGLPECTRCGHVIGGTIVKARDLLYHPECFMCSDCGLNLKQGGYFFLDERLYCESHAAARVKPPEGYDVVAVYPNAKVE\n",
      "VAAEPKQSGSFRYLQGMLEAGEGGDWPGPGGPRNLKPTASKLGAPLSGLQGLPECTRCGHGIVGTIVKARDKLYHPECFMCSDCGLNLKQRGYFFLDERLYCESHAKARVKPPEGYDVVAVYPNAKVE\n"
     ]
    },
    {
     "data": {
      "application/vnd.jupyter.widget-view+json": {
       "model_id": "343dee31100f4db2a5216f2c87bb5b05",
       "version_major": 2,
       "version_minor": 0
      },
      "text/plain": [
       "HBox(children=(IntProgress(value=0, max=1077), HTML(value='')))"
      ]
     },
     "metadata": {},
     "output_type": "display_data"
    },
    {
     "name": "stdout",
     "output_type": "stream",
     "text": [
      "\n",
      "FDNLFSKMEQLFLQLILRIPSNILLPEDKCKETPYSEEDFQHLQKEIEQLQEKYKTELCTKQALLAELEEQKIVQAKLKQTLTFFDELHNVGRDHGTSDFRESLVSLVQNSRKLQNIRDNVEKESKRL\n",
      "FDNLFSKMEQLFLQLILRIPSNILLPEDKCKETPYSEEDFQHLQKEIEQLQEKYKTELCTKQALLAELEEQKIVQAKLKQTLTFFDELHNVGRDHGTSDFRESLVSLVQNSRKLQNIRDNVEKESKRL\n"
     ]
    },
    {
     "data": {
      "application/vnd.jupyter.widget-view+json": {
       "model_id": "f3c69c4bcec040fd8a3a441f7a18d248",
       "version_major": 2,
       "version_minor": 0
      },
      "text/plain": [
       "HBox(children=(IntProgress(value=0, max=1077), HTML(value='')))"
      ]
     },
     "metadata": {},
     "output_type": "display_data"
    },
    {
     "name": "stdout",
     "output_type": "stream",
     "text": [
      "\n",
      "HSWIKAIRRRNVRGEDSGRKPERRRLKTTRLKEYTIKSHSSLPPNNSYADFERFSKVLEEAAAAEEGLRELQRSRRLCHEDVEALAAIYEEKEAWYREESDSLGQDLRRLRQELLKTEALKRQAQEEA\n",
      "HSWIKAIRRRNVRGEDSGRKPERRRLKTTRLKEYTIKSHSSLPPNNSYADFERFSKVLEEAAAAEEGLRELQRSRRLCHEDVEALAAIYEEKEAWYREESDSLGQDLRRLRQELLKTEALKRQAQEEA\n"
     ]
    },
    {
     "data": {
      "application/vnd.jupyter.widget-view+json": {
       "model_id": "c1d125ba9ddd42db98d0b14cb099595b",
       "version_major": 2,
       "version_minor": 0
      },
      "text/plain": [
       "HBox(children=(IntProgress(value=0, max=1077), HTML(value='')))"
      ]
     },
     "metadata": {},
     "output_type": "display_data"
    },
    {
     "name": "stdout",
     "output_type": "stream",
     "text": [
      "\n",
      "LKQTKRNAKVYEKMASKLFEMTGERRLGEEIKIKITNMTFQYRKLKCMTDSESAPPDWPYYLAIDGILAKVPESCDGKLPDSQPPGPSTSQTEASLSPPAKSTPLYFPYNQCSYEGRFEDDRSDSSSS\n",
      "LKQTKRNAKVYEKMASKLFEMTGERRLGEEIKIKITNMTFQYRKLKCMTDSESAPPDWPYYLAIDGILAKVPESCDGKLPDSQPPGPSTSQTEASLSPPAKSTPLYFPYNQCSYEGRFEDDRSDSSSS\n"
     ]
    },
    {
     "data": {
      "application/vnd.jupyter.widget-view+json": {
       "model_id": "a09509c116134db3901d5b36b7f900ce",
       "version_major": 2,
       "version_minor": 0
      },
      "text/plain": [
       "HBox(children=(IntProgress(value=0, max=1077), HTML(value='')))"
      ]
     },
     "metadata": {},
     "output_type": "display_data"
    },
    {
     "name": "stdout",
     "output_type": "stream",
     "text": [
      "\n",
      "LKQDIPIHKETEDDRGHDTIGMVVHHKTGIIAAGTSTNGIKFKIHGRVGDSPIPAAGAYADDTAGAAAATGNGDILMRFLPSYQAVEYMRRGEDPTIACQKVISRIQKHFPEFFGAVICANVTGSYGA\n",
      "LKQDIPIHKETEDDRGHDTIGMVVIHKTGHIAAGTSTNGIKFKIHGRVGDSPIPGAGAYADDTAGAAAATGNGDILMRFLPSYQAVEYMRRGEDPTIACQKVISRIQKHFPEFFGAVICANVTGSYGA\n"
     ]
    },
    {
     "data": {
      "application/vnd.jupyter.widget-view+json": {
       "model_id": "88995c7928e4477e96442e1d36ef0d17",
       "version_major": 2,
       "version_minor": 0
      },
      "text/plain": [
       "HBox(children=(IntProgress(value=0, max=1077), HTML(value='')))"
      ]
     },
     "metadata": {},
     "output_type": "display_data"
    },
    {
     "name": "stdout",
     "output_type": "stream",
     "text": [
      "\n",
      "GEEARTISGGEEAETASGGEEAETASGGEEAGTASGGEEAGIASGGEAGTASGGEEAGTASGGDEAWTTSGKEEADLLGVRQEEYGAVPGERLLEATGKVWVLEEEGDEEREAEVSPFPKQPQVLGTE\n",
      "GEEARTISGGEEAETASGGEEAETASGGEEAGTASGGEEAGIASGGEAGTASGGEEAGTASGGDEAWTTSGKEEADLLGVRQTEYGAVPGERLLEATGKVWVLEEEGDEEREAEVSPFPKQPQVLGTE\n"
     ]
    },
    {
     "data": {
      "application/vnd.jupyter.widget-view+json": {
       "model_id": "d321f5bb22844619a8b4928ae8d43c6f",
       "version_major": 2,
       "version_minor": 0
      },
      "text/plain": [
       "HBox(children=(IntProgress(value=0, max=1077), HTML(value='')))"
      ]
     },
     "metadata": {},
     "output_type": "display_data"
    },
    {
     "name": "stdout",
     "output_type": "stream",
     "text": [
      "\n",
      "KVCQAYKAPRSHHCRCKNRCVMKMDHHCWWINNCCGYQNHASFTLFLLLAPLGCIQAAIIFVMTMYTQLYHRLSFGWNTVKIDMSAARRDPLPIVPFGLAAFATTLFALGLALGTTIAVGMLFFIQMK\n",
      "KVCQAYKAPRSHHCRKCNRCVMKMDHHCPWINNCCGYQNHASFTLFLLLAPLGCIHAAFIFVMTMYTQLYHRLSFGWNTVKIDMSAARRDPLPIVPFGLAAFATTLFALGLALGTTIAVGMLFFIQMK\n"
     ]
    },
    {
     "data": {
      "application/vnd.jupyter.widget-view+json": {
       "model_id": "d5fca4011e3a48feba8a0d62d02d2800",
       "version_major": 2,
       "version_minor": 0
      },
      "text/plain": [
       "HBox(children=(IntProgress(value=0, max=1077), HTML(value='')))"
      ]
     },
     "metadata": {},
     "output_type": "display_data"
    },
    {
     "name": "stdout",
     "output_type": "stream",
     "text": [
      "\n",
      "LALSTAAQAEPVQFKDCGSVDGVIKRVCVSPCPTQPCQLSKGQSYSVNVTFTSNIQSKSSKAVVHGILMGVPVPFPIPEPDGCGSGINCPIQKDKTYSYLNKLPVKSEYPSIKLVVEWQLQDDKNQSL\n",
      "LALSTAAQAEPVQFKDCGSVDGVIKEVNVSPCPTQPCQLSKGQSYSVNVTFTSNIQSKSSKAVVHGILMGVPVPFPIPEPDGCKSGINCPIQKDKTYSYLNKLPVKSEYPSIKLVVEWQLQDDKNQSL\n"
     ]
    },
    {
     "data": {
      "application/vnd.jupyter.widget-view+json": {
       "model_id": "9903f1367d2b462499eb624cef484a61",
       "version_major": 2,
       "version_minor": 0
      },
      "text/plain": [
       "HBox(children=(IntProgress(value=0, max=1077), HTML(value='')))"
      ]
     },
     "metadata": {},
     "output_type": "display_data"
    },
    {
     "name": "stdout",
     "output_type": "stream",
     "text": [
      "\n",
      "AASHHRVAMARLLQQTSDWIRVDPWESEQAQWMETVKVLRHHHSKLLRSPPQMEGPDHGKALFSTPAAVPELLLLCAADVLKFQTPNNLHKDAIQEIVVEKLFGVVVVGGHDLGPKISSEAPLLRHHQ\n",
      "AASHHRVAMARLALQTSDWIRVDPWESEQAQWMETVKVLRHHHSKLLRSPPQMEGPDHGKALFSTPAAVPELKLLCGADVLKTFQTPNLWKDAHIQEIVEKFGLVCVGRVGHDPKGYIAESPILRMHQ\n"
     ]
    },
    {
     "data": {
      "application/vnd.jupyter.widget-view+json": {
       "model_id": "4f51837fefe14952a5b5cdcab088dcfa",
       "version_major": 2,
       "version_minor": 0
      },
      "text/plain": [
       "HBox(children=(IntProgress(value=0, max=1077), HTML(value='')))"
      ]
     },
     "metadata": {},
     "output_type": "display_data"
    },
    {
     "name": "stdout",
     "output_type": "stream",
     "text": [
      "\n",
      "KSIHYLYFSMILSTVTLITVSTVSWFTEPPSKEMVSHLWWFFHHHPVVQKEQAPPAAPLSLTLSQNGMPEASSSSSQVFEMQSENTSKTHSCDMTPKQSKVVKAILWLCGIQEGKKEELPARAEAIIV\n",
      "KSIHYLYFSMILSTVTLITVSTVSWFTEPPSKEMVSHLTWFTRHDPVVQKEQAPPAAPLSLTLSQNGMPEASSSSSVQFEMVQENTSKTHSCDMTPKQSKVVKAILWLCGIQEKGKEELPARAEAIIV\n"
     ]
    },
    {
     "data": {
      "application/vnd.jupyter.widget-view+json": {
       "model_id": "b6561ea9e1e6482798906ac35d076204",
       "version_major": 2,
       "version_minor": 0
      },
      "text/plain": [
       "HBox(children=(IntProgress(value=0, max=1077), HTML(value='')))"
      ]
     },
     "metadata": {},
     "output_type": "display_data"
    },
    {
     "name": "stdout",
     "output_type": "stream",
     "text": [
      "\n",
      "DINDNAPVFEKSRYEVSTRENNPLSLHLIIIKAHDADLGINGKVSYRIQDSPVAHLVAIDSNTGEVTAQRSLNYEEMAGFEFQVIAEDSGQPMLASSVSVWVSLLDANDNAPEVVQPVLSDGKASLSV\n",
      "DINDNAPVFEKSRYEVSTRENNLPSLHLITIKAHDADLGINGKVSYRIQDSPVAHLVAIDSNTGEVTAQRSLNYEEMAGFEFQVIAEDSGQPMLASSVSVWVSLLDANDNAPEVVQPVLSDGKASLSV\n"
     ]
    },
    {
     "data": {
      "application/vnd.jupyter.widget-view+json": {
       "model_id": "88480ae574a3447e8a2ba1ade3117f34",
       "version_major": 2,
       "version_minor": 0
      },
      "text/plain": [
       "HBox(children=(IntProgress(value=0, max=1077), HTML(value='')))"
      ]
     },
     "metadata": {},
     "output_type": "display_data"
    },
    {
     "name": "stdout",
     "output_type": "stream",
     "text": [
      "\n",
      "SVPGIPGPSSPQPVQSEAKMRLKAALTQQHPPVTNGDTVKGHGSGVLRTQSEESRPQSLQQPATSTTETPASPAHTTPQTQSTSGRRRRAANEDPDEKRRKFLERNRAAASRCRQKRKVWVQSLEKKA\n",
      "SVPGIPGPSSPQPVQSEAKMRLKAALTQQHPPVTNGDTVKGHGSGLVRTQSEESRPQSLQQPATSTTETPASPAHTTPQTQSTSGRRRRAANEDPDEKRRKFLERNRAAASRCRQKRKVWVQSLEKKA\n"
     ]
    },
    {
     "data": {
      "application/vnd.jupyter.widget-view+json": {
       "model_id": "cb827506453f4cd78367eb1d92d3f8be",
       "version_major": 2,
       "version_minor": 0
      },
      "text/plain": [
       "HBox(children=(IntProgress(value=0, max=1077), HTML(value='')))"
      ]
     },
     "metadata": {},
     "output_type": "display_data"
    },
    {
     "name": "stdout",
     "output_type": "stream",
     "text": [
      "\n",
      "SDTFHTMNTQQSTPSNNVHTSLSHVQNGAPFPAAFPKDNIHFKPINTNLDRENEAAKTDALSLTSQNKTFDPKKENPIVLLSDFYYGQHKGEGQPEQKTHTTFKCLSCVKVLKNVKFMNHVKHHLEFE\n",
      "SDTFHTMNTQQSTPSNNVHTSLSHVQNGAPFPAAFPKDNIHFKPINTNLDRENELAKTDILSLTSQNKTFDPKKENPIVLLSDFYYGQHKGEGQPEQKTHTTFKCLSCVKVLKNVKFMNHVKHHLEFE\n"
     ]
    },
    {
     "data": {
      "application/vnd.jupyter.widget-view+json": {
       "model_id": "d76be982848243818acf2c07bbe66f82",
       "version_major": 2,
       "version_minor": 0
      },
      "text/plain": [
       "HBox(children=(IntProgress(value=0, max=1077), HTML(value='')))"
      ]
     },
     "metadata": {},
     "output_type": "display_data"
    },
    {
     "name": "stdout",
     "output_type": "stream",
     "text": [
      "\n",
      "HQRIHTGEKPYECSECEKTFCCQSALNVHRRSHTGEKPYECSQCGKFLCTKSALIAHQITHRGKGSYECNECGKFFCHKSTLTIHQRTHTGEKHGVFNKCGRISIVKSNCSQCKRMNTKENLYECSEH\n",
      "HQRIHTGEKPYECSECEKTFFCQSALNVHRRSHTGEKPYECSQCGKFLCTKSALIAHQITHRGKKSYECNECGKFFCHKSTLTIHQRTHTGEKHGVFNKCGRISIVKSNCSQCKRMNTKENLYECSEH\n"
     ]
    },
    {
     "data": {
      "application/vnd.jupyter.widget-view+json": {
       "model_id": "cd53f6ccc7ac4f93a2b3f4996c9968b7",
       "version_major": 2,
       "version_minor": 0
      },
      "text/plain": [
       "HBox(children=(IntProgress(value=0, max=1077), HTML(value='')))"
      ]
     },
     "metadata": {},
     "output_type": "display_data"
    },
    {
     "name": "stdout",
     "output_type": "stream",
     "text": [
      "\n",
      "PEMLWRRKKRRPCLEGMQQQGLGGVPARARAVTYHLEDLRRQQSIIWELKKAWQSSSGAASEPVVLGEEGCGFPSTNEYPDLEEERATYPQEEDRFLTPGRAQLLWSPWSPLDQEEACASRQLHSLAS\n",
      "PEMLWRRKKRRPCLEGMQQQGLGGVPARVRAVTYHLEDLRRRQSIINELKKAQWGSSGAASEPVVLGEEGCGFPSTNEYPDLEEERATYPQEEDRFLTPGRAQLLWSPWSPLDQEEACASRQLHSLAS\n"
     ]
    },
    {
     "data": {
      "application/vnd.jupyter.widget-view+json": {
       "model_id": "bfdb87d556794fc4a86d256f91f78f24",
       "version_major": 2,
       "version_minor": 0
      },
      "text/plain": [
       "HBox(children=(IntProgress(value=0, max=1077), HTML(value='')))"
      ]
     },
     "metadata": {},
     "output_type": "display_data"
    },
    {
     "name": "stdout",
     "output_type": "stream",
     "text": [
      "\n",
      "SIMSLTGISSKDAGDYKCKAKNLAGMSEAVVTVTVLGITTTPIPPDTSERTGDDPEWDVQPGSGRSTSSSSASSYLWSSSFSPTSSFSASTLSPPTSAAFSLSPFSSVTVSSTTTLSTSISASTTMAN\n",
      "SIMSLTGISSKDAGDYKCKAKNLAGMSEAVVTVTVLGITTTPIPPDTSERTGDHPEWDVQPGSGRSTSVSSASSYLWSSSFSPTSSFSASTLSPPSTASFSLSPFSSSTVSSTTTLSTSISASTTMAN\n"
     ]
    },
    {
     "data": {
      "application/vnd.jupyter.widget-view+json": {
       "model_id": "324a3911b968407e8fb5c94785443288",
       "version_major": 2,
       "version_minor": 0
      },
      "text/plain": [
       "HBox(children=(IntProgress(value=0, max=1077), HTML(value='')))"
      ]
     },
     "metadata": {},
     "output_type": "display_data"
    },
    {
     "name": "stdout",
     "output_type": "stream",
     "text": [
      "\n",
      "LSERFINVPPQIALPMYQQLKKELAGAHRTNKPCGKCYFYLLISKTFVEAGKNNSKKKPSNKKKAALMFANAEEEFFYEKAILKFNYSVQEESDTCLGGKWSFDDPVMMPLTAVALIPGDKMNEIMDK\n",
      "LSERFINVPPQIALPMYQQLQKELAGAHRTNKPCGKCYFYLLISKTFVEAGKNNSKKKPSNKKKAALMFANAEEEFFYEKAILKFNYSVQEESDTCLGGKWSFDDVPMTPLRTVMLIPGDKMNEIMDK\n"
     ]
    },
    {
     "data": {
      "application/vnd.jupyter.widget-view+json": {
       "model_id": "3ba1a5a1de5e4ca983403e819f9c79ad",
       "version_major": 2,
       "version_minor": 0
      },
      "text/plain": [
       "HBox(children=(IntProgress(value=0, max=1077), HTML(value='')))"
      ]
     },
     "metadata": {},
     "output_type": "display_data"
    },
    {
     "name": "stdout",
     "output_type": "stream",
     "text": [
      "\n",
      "EKLPEFNRLHLQRLVSNESQRRQLVGKLQVLVEEAFGCQLQNRDVLNPVEVERILLLRQGHICRLQDLVSPVYSYLWTRPAVGRAQLDAISEKVDVIAKRVLGLLERSSSSLTQDMLNGELKKLSEGL\n",
      "EKLPEFNRLHLQRLVSNESQRRQLVGKLQVLVEEAFGCQLQNRDVLNPVYVERILLLRQGHICRLQDLVSPVYSYLWTRPAVGRAQLDAISEKVDVIAKRVLGLLERSSMSLTQDMLNGELKKLSEGL\n"
     ]
    },
    {
     "data": {
      "application/vnd.jupyter.widget-view+json": {
       "model_id": "63b8696a8de94c2284df820b94aa055a",
       "version_major": 2,
       "version_minor": 0
      },
      "text/plain": [
       "HBox(children=(IntProgress(value=0, max=1077), HTML(value='')))"
      ]
     },
     "metadata": {},
     "output_type": "display_data"
    },
    {
     "name": "stdout",
     "output_type": "stream",
     "text": [
      "\n",
      "SRNSTSSQSQTSTASRKANSSVGKWQDRYGRAESPDLRRLPGAIDVIGQTIIISRVEGRRRANENSNIQLVSERSATEVDNNFSKPPPFFPPGAPPTHLPPPPFLPPPPTVSTAPPLIPPPGFPPPPG\n",
      "SRNSTSSQSQTSTASRKANSSVGKWQDRYGRAESPDLRRLPGAIDVIGQTITISRVEGRRRANENSNIQVLSERSATEVDNNFSKPPPFFPPGAPPTHLPPPPFLPPPPTVSTAPPLIPPPGFPPPPG\n"
     ]
    },
    {
     "data": {
      "application/vnd.jupyter.widget-view+json": {
       "model_id": "fee1bc5acfe7422db22b95e6d8f90d94",
       "version_major": 2,
       "version_minor": 0
      },
      "text/plain": [
       "HBox(children=(IntProgress(value=0, max=1077), HTML(value='')))"
      ]
     },
     "metadata": {},
     "output_type": "display_data"
    },
    {
     "name": "stdout",
     "output_type": "stream",
     "text": [
      "\n",
      "EVYHGTMEEDKQPEIYLTATDLKRLISKALEEEQSLDVGTIQFTDEIAGLSPAFGPDTQSELPTSFAVITEDATLSPELPPVEPQLETVDGAEHGLPDTSWSPPAMASTSLSEAPPFFMASSIFSLTD\n",
      "EVYHGTMEEDKQPEIYLTATDLKRLISKALEEEQSLDVGTIQFTDEIAGSLPAFGPDTQSELPTSFAVITEDATLSPELPPVEPQLETVDGAEHGLPDTSWSPPAMASTSLSEAPPFFMASSIFSLTD\n"
     ]
    },
    {
     "data": {
      "application/vnd.jupyter.widget-view+json": {
       "model_id": "ce808a785a7e48239aa1d48edc9d6e6c",
       "version_major": 2,
       "version_minor": 0
      },
      "text/plain": [
       "HBox(children=(IntProgress(value=0, max=1077), HTML(value='')))"
      ]
     },
     "metadata": {},
     "output_type": "display_data"
    },
    {
     "name": "stdout",
     "output_type": "stream",
     "text": [
      "\n",
      "AAIGIQRNRTVCYDLSPPALATHYMPYGMALTVIGFLLPFAALLACYCLLACRLCRQDGPAEPVAQERRGKAARMAVVVAAAFAISFLPHHITKTAYLAVRSTPGVPCTVLEAFAAAYKGTRPFASAN\n",
      "AATGIQRNRTVCYDLSPPALATHYMPYGMALTVIGFLLPFAALLACYCLLACRLCRQDGPAEPVAQERRGKAARMAVVVAAAFAISFLPFHITKTAYLAVRSTPGVPCTVLEAFAAAYKGTRPFASAN\n"
     ]
    },
    {
     "data": {
      "application/vnd.jupyter.widget-view+json": {
       "model_id": "dd7bac65d7ec46ce95a75575e40de159",
       "version_major": 2,
       "version_minor": 0
      },
      "text/plain": [
       "HBox(children=(IntProgress(value=0, max=1077), HTML(value='')))"
      ]
     },
     "metadata": {},
     "output_type": "display_data"
    },
    {
     "name": "stdout",
     "output_type": "stream",
     "text": [
      "\n",
      "QSLSQTGTELKIINDFLFQQSIDNINFFKVQRYCEKSMISKKLFGFTERYGAVFSSREQPKLAGFQQFLQSLQPRTTEALAAPADESQASVPQPASPLMHIEGFLAALTTANQDGRVILSRQGSLSES\n",
      "QSLSQTGTELKTINDFLFQSQIDNINLFKVQRYCEKSMISRKLFGFTERYGAVFSSREQPKLAGFQQFLQSLQPRTTEALAAPADESQASVPQPASPLMHIEGFLAALTTANQDGRVILSRQGSLSES\n"
     ]
    },
    {
     "data": {
      "application/vnd.jupyter.widget-view+json": {
       "model_id": "8ca491b4b79d4f19989dd36001f3c38c",
       "version_major": 2,
       "version_minor": 0
      },
      "text/plain": [
       "HBox(children=(IntProgress(value=0, max=1077), HTML(value='')))"
      ]
     },
     "metadata": {},
     "output_type": "display_data"
    },
    {
     "name": "stdout",
     "output_type": "stream",
     "text": [
      "\n",
      "LSQRTITVGVYEAAKLLNVDPDNVVLCLLAADEDDDRDVALQIHFTLIQAFCCENDINILRVSNGGRLAELLLLETDAGPAASEGAEQPPDLHCVLVTNPHSSQWKDPALSQLICFCRESRYMDQWVP\n",
      "LSQRTITVGVYEAAKLLNVDPDNVVLCLLAADEDDDRDVALQIHFTLIQAFCCENDINILRVSNPGRLAELLLLETDAGPAASEGAEQPPDLHCVLVTNPHSSQWKDPALSQLICFCRESRYMDQWVP\n"
     ]
    },
    {
     "data": {
      "application/vnd.jupyter.widget-view+json": {
       "model_id": "ab6ae44c11214110b158bc2aee60a495",
       "version_major": 2,
       "version_minor": 0
      },
      "text/plain": [
       "HBox(children=(IntProgress(value=0, max=1077), HTML(value='')))"
      ]
     },
     "metadata": {},
     "output_type": "display_data"
    },
    {
     "name": "stdout",
     "output_type": "stream",
     "text": [
      "\n",
      "KRRVLFSQAQVYELERRFKQQKYLSAPEREHLASMIHLTPTQVKIWFQNHRYKMKRQAKDKAAQQQLGQDSGGGGGGGGTGCPQQQQAQQQSPRRVAVPVLVKDGKPCQAGAPAPGAASLQGHAQQQA\n",
      "KRRVLFSQAQVYELERRFKQQKYLSAPEREHLASMIHLTPTQVKIWFQNHRYKMKRQAKDKAAQQQLQQDSGGGGGGGGTGCPQQQQAQQQSPRRVAVPVLVKDGKPCQAGAPAPGAASLQGHAQQQA\n"
     ]
    },
    {
     "data": {
      "application/vnd.jupyter.widget-view+json": {
       "model_id": "9d048166b38f4d23a803a748242e716a",
       "version_major": 2,
       "version_minor": 0
      },
      "text/plain": [
       "HBox(children=(IntProgress(value=0, max=1077), HTML(value='')))"
      ]
     },
     "metadata": {},
     "output_type": "display_data"
    },
    {
     "name": "stdout",
     "output_type": "stream",
     "text": [
      "\n",
      "YWQDENVYFQNDLKLRVRILIDGTLIIFRVKPEDSGKYTCVPSNSLGRSPSASAYLTVQYPARVLNMPPVIYVPVGIHGYICCPVDAEPAATVVKWNKDGRPLQVEKNLGWTLMEDGSIRIEEATEEA\n",
      "YWQDENVYFQNDLKLRVRILIDGTLIIFRVKPEDSGKYTCVPSNSLGRSPSASAYLTVQYPARVLNMPPVIYVPVGIHGYIRCPVDAEPPATVVKWNKDGRPLQVEKNLGWTLMEDGSIRIEEATEEA\n"
     ]
    },
    {
     "data": {
      "application/vnd.jupyter.widget-view+json": {
       "model_id": "169d37da346b424da8ddab51d1b06c5b",
       "version_major": 2,
       "version_minor": 0
      },
      "text/plain": [
       "HBox(children=(IntProgress(value=0, max=1077), HTML(value='')))"
      ]
     },
     "metadata": {},
     "output_type": "display_data"
    },
    {
     "name": "stdout",
     "output_type": "stream",
     "text": [
      "\n",
      "TFLQPLSWAVPPAPPQPGRVKEDLLELMMLQNAQMHQLLLSRLVAGALQPRPASPCPQVYLEVPQEEPEEEEEEMDVREKGPLVFHHHYLPYLMPSPGALPPWPAPFFPTPACQPYLQDVPRIQHCPA\n",
      "TFLQPLSWAVPPAPPQPGRVKEDLLELMMLQNAQMHQLLLSRLVAGALQPRPASPCPQVYLEVPQEEPEEEEEEMDVREKGPLVFHHHYLPYLMPSPGALLPWPAPFFPTPACQPYLQDVPRIQHCPA\n"
     ]
    },
    {
     "data": {
      "application/vnd.jupyter.widget-view+json": {
       "model_id": "82795c899e794ca8bdf40fcd744e0250",
       "version_major": 2,
       "version_minor": 0
      },
      "text/plain": [
       "HBox(children=(IntProgress(value=0, max=1077), HTML(value='')))"
      ]
     },
     "metadata": {},
     "output_type": "display_data"
    },
    {
     "name": "stdout",
     "output_type": "stream",
     "text": [
      "\n",
      "HLLFTADNHTEPPARFRATFAQHVQPGQYVLVAGVPGLQPARVAAVSTHVALGAYAPLTKHGTLVVTDVVASCFAAVADHHLAQLAFWPLRLFHSLAWGSWTPGEGVHWYPQLLYRLGRLLLEEGSFH\n",
      "HLLFTADNHTEPAARFRATFASHVQPGQYVLVAGVPGLQPARVAAVSTHVALGAYAPLTKHGTLVVEDVVASCFAAVADHHLAQLAFWPLRLFHSLAWGSWTPGEGVHWYPQLLYRLGRLLLEEGSFH\n"
     ]
    },
    {
     "data": {
      "application/vnd.jupyter.widget-view+json": {
       "model_id": "8986e794fd2a43f0a8ad7d83d9a89a8c",
       "version_major": 2,
       "version_minor": 0
      },
      "text/plain": [
       "HBox(children=(IntProgress(value=0, max=1077), HTML(value='')))"
      ]
     },
     "metadata": {},
     "output_type": "display_data"
    },
    {
     "name": "stdout",
     "output_type": "stream",
     "text": [
      "\n",
      "SLMRLDLGELKKLEYISEGAEFGNFNLKYLNLGMCNIKDMPNLTPLVGLEELEMSGNHFFEIRPGFFSGKSSGLKKWMWNSHVSLIERNAFDGAASLVELNALHNANSSLPHDDFLFPYRELVHHLHH\n",
      "SLMRLDLGELKKLEYISEGAFEGLFNLKYLNLGMCNIKDMPNLTPLVGLEELEMSGNHFPEIRPGSFHGLSSLKKLWVMNSQVSLIERNAFDGLASLVELNLAHNNLSSLPHDLFTPLRYLVELHLHH\n"
     ]
    },
    {
     "data": {
      "application/vnd.jupyter.widget-view+json": {
       "model_id": "358070fb052947a78861f9ec915d339a",
       "version_major": 2,
       "version_minor": 0
      },
      "text/plain": [
       "HBox(children=(IntProgress(value=0, max=1077), HTML(value='')))"
      ]
     },
     "metadata": {},
     "output_type": "display_data"
    },
    {
     "name": "stdout",
     "output_type": "stream",
     "text": [
      "\n",
      "SSRACNFFNNVGGNLKGLENWLLKSEKSSYQKCNSHSTTSSFSIEMEKVGDQELPDQDEMDLSDWLVTPQESHKLRKPENGSRETSEKFKLLFQSYNVNDWLVKTDSCTNCQGNQPKGVEIENLGNLK\n",
      "SSRACNFFNNVGGNLKGLENWLLKSEKSSYQKCNSHSTTSSFSIEMEKVGDQELPDQDEMDLSDWLVTPQESHKLRKPENGSRETSEKFKLLFQSYNVNDWLVKTDSCTNCQGNQPKGVEIENLGNLK\n"
     ]
    },
    {
     "data": {
      "application/vnd.jupyter.widget-view+json": {
       "model_id": "6c65aaf099bd4f07b01737bd0d19262a",
       "version_major": 2,
       "version_minor": 0
      },
      "text/plain": [
       "HBox(children=(IntProgress(value=0, max=1077), HTML(value='')))"
      ]
     },
     "metadata": {},
     "output_type": "display_data"
    },
    {
     "name": "stdout",
     "output_type": "stream",
     "text": [
      "\n",
      "EAEKRKLVAGLTANEGSQYNPQVADLKAFSKHIYNAYLKNFNMTKKKARSILTGKASHTAPFVIHDIETLWQAEKGLVWKQLVNGLPPYKEISVHVFYRCQCTTVETVEELTEFAKSIPSFSSLFLND\n",
      "EAEKRKLVAGLTANEGSQYNPQVADLKAFSKHIYNAYLKNFNMTKKKARSILTGKASHTAPFVIHDIETLWQAEKGLVWKQLVNGLPPYKEISVHVFYRCQCTTVETVRELTEFAKSIPSFSSLFLND\n"
     ]
    },
    {
     "data": {
      "application/vnd.jupyter.widget-view+json": {
       "model_id": "efb19045c98243bb9943df5e1d0f3750",
       "version_major": 2,
       "version_minor": 0
      },
      "text/plain": [
       "HBox(children=(IntProgress(value=0, max=1077), HTML(value='')))"
      ]
     },
     "metadata": {},
     "output_type": "display_data"
    },
    {
     "name": "stdout",
     "output_type": "stream",
     "text": [
      "\n",
      "SQLSPAEQNVAAILGVSESFIGKKASGQAIGKKVDKNVVRRLYLSFVLYTLLKETNIWTVSEKFNMPRGYIQNLLTGTASFSSCVLHFCEELEEFWVYAALLVELTKKLTYCVKAELIPLMEVTGVLE\n",
      "SQLSPAEQNVAAILGVSESFIGKKASGQAIGKKVDKNVVNRLYLSFVLYTLLKETNIWTVSEKFNMPRGYIQNLLTGTASFSSCVLHFCEELEEFWVYRALLVELTKKLTYCVKAELIPLMEVTGVLE\n"
     ]
    },
    {
     "data": {
      "application/vnd.jupyter.widget-view+json": {
       "model_id": "ceaed04c0dee48648e3a311f1f807cf7",
       "version_major": 2,
       "version_minor": 0
      },
      "text/plain": [
       "HBox(children=(IntProgress(value=0, max=1077), HTML(value='')))"
      ]
     },
     "metadata": {},
     "output_type": "display_data"
    },
    {
     "name": "stdout",
     "output_type": "stream",
     "text": [
      "\n",
      "AIEDIRQLKERVTNLGGHHKQIYRLAVKEEDVQNVMAALVEEKLDKLNNQSFGTDLPPVDHQVEEHNIFHNEVKAIGPHLAKDGDKEQNSELRAKYQKLLAASQARQQHLSSLQDYMQRCTNELYWLD\n",
      "IAEDIRQLKERVTNLRGKHKQIYRLAVKEVDPQVNWAALVEEKLDKLNNQSFGTDLPLVDHQVEEHNIFHNEVKAIGPHLAKDGDKEQNSELRAKYQKLLAASQARQQHLSSLQDYMQRCTNELYWLD\n"
     ]
    },
    {
     "data": {
      "application/vnd.jupyter.widget-view+json": {
       "model_id": "2b880d6de1774383b04cadaab4748f57",
       "version_major": 2,
       "version_minor": 0
      },
      "text/plain": [
       "HBox(children=(IntProgress(value=0, max=1077), HTML(value='')))"
      ]
     },
     "metadata": {},
     "output_type": "display_data"
    },
    {
     "name": "stdout",
     "output_type": "stream",
     "text": [
      "\n",
      "GLAFIAYPKAVTMMPLPTFWSILFFIMLLLLGLDSQFVEVEGQITSLVDLYPSFLRKGYRREIFIAFVCSYSYLLLLTMVTEGGMYVFQLFDYYAASGVCLLWVAFFECFVIAWIYGGDNLYDGIEDM\n",
      "GLAFIAYPKAVTMMPLPTFWSILFFIMLLLLGLDSQFVEVEGQITSLVDLYPSFLRKGYRREIFIAFVCSISYLLGLTMVTEGGMYVFQLFDYYAASGVCLLWVAFFECFVIAWIYGGDNLYDGIEDM\n"
     ]
    },
    {
     "data": {
      "application/vnd.jupyter.widget-view+json": {
       "model_id": "153847225fbc48de9860c5fd4c34a0bb",
       "version_major": 2,
       "version_minor": 0
      },
      "text/plain": [
       "HBox(children=(IntProgress(value=0, max=1077), HTML(value='')))"
      ]
     },
     "metadata": {},
     "output_type": "display_data"
    },
    {
     "name": "stdout",
     "output_type": "stream",
     "text": [
      "\n",
      "TLETPQPAENSMLVQKLEDKISLLNSEKWSLMEQIRRLKSEMDFLKNEHFAIPAVCDSVQPPLDQLPHKDSEDSGQHPDVNSSDKGKNDDIHLSISDEADSTIPKENSPNSFPRREREGMPPSSLSSK\n",
      "TLETPQPAENSMLVQKLEDKISLLNSEKWSLMEQIRRLKSEMDFLKNEHFAIPAVCDSVQPPLDQLPHKDSEDSGQHPDVNSSDKGKNTDIHLSISDEADSTIPKENSPNSFPRREREGMPPSSLSSK\n"
     ]
    },
    {
     "data": {
      "application/vnd.jupyter.widget-view+json": {
       "model_id": "b6338915d509436bba05aca137e2a6f0",
       "version_major": 2,
       "version_minor": 0
      },
      "text/plain": [
       "HBox(children=(IntProgress(value=0, max=1077), HTML(value='')))"
      ]
     },
     "metadata": {},
     "output_type": "display_data"
    },
    {
     "name": "stdout",
     "output_type": "stream",
     "text": [
      "\n",
      "AAAWSLYQAGCSLRLLCPQAFSTTVWQFLAVLQEQFGSMAGSNVYLTPPNSQGFAPHYDDIEAFVLQLEGRKLWRVYRPRVPTEELALTSSPNFSQDDLGEPVLQTVLEPGDLLYFPRGFIHQAECQD\n",
      "AAAWSLYQAGCSLRLLCPQAFSTTVWQFLAVLQEQFGSMAGSNVYLTPPNSQGFAPHYDDIEAFVLQLEGRKLWRVYRPRVPTEELALTSSPNFSQDDLGEPVLQTVLEPGDLLYFPRGFIHQAECQD\n"
     ]
    },
    {
     "data": {
      "application/vnd.jupyter.widget-view+json": {
       "model_id": "c61289d1d5b34cd4a47eae4f411e64c7",
       "version_major": 2,
       "version_minor": 0
      },
      "text/plain": [
       "HBox(children=(IntProgress(value=0, max=1077), HTML(value='')))"
      ]
     },
     "metadata": {},
     "output_type": "display_data"
    },
    {
     "name": "stdout",
     "output_type": "stream",
     "text": [
      "\n",
      "TETQQNTIVVDTGVTSLDIDKKKVKMQVWDTAGQERFRTITQSYYRSAHAAIIAYDLTRRSTFESIPHWIHEEEKYGAANVVIMLIGNKCDLWEKRHVLFEDACTLAEKYGLLAVLETSAKESKNIEE\n",
      "TETQQNTIGVDFTVRSLDIDGKKVKMQVWDTAGQERFRTITQSYYRSAHAAIIAYDLTRRSTFESIPHWIHEIEKYGAANVVIMLIGNKCDLWEKRHVLFEDACTLAEKYGLLAVLETSAKESKNIEE\n"
     ]
    },
    {
     "data": {
      "application/vnd.jupyter.widget-view+json": {
       "model_id": "03600056384d4ba4862c488bc2050628",
       "version_major": 2,
       "version_minor": 0
      },
      "text/plain": [
       "HBox(children=(IntProgress(value=0, max=1077), HTML(value='')))"
      ]
     },
     "metadata": {},
     "output_type": "display_data"
    },
    {
     "name": "stdout",
     "output_type": "stream",
     "text": [
      "\n",
      "QTLDLTGKNLHPDVTGRLLSQGVIAFCCPRSFMDQPLAEHFSPFRVQHMDNSNSVIEVSTLHGILSQCSKLQNLSLEGLRLSDPIVNTLAKNSNLVRNNLSGCSGFSEFALQTLLSSCSRLDELNLSW\n",
      "QTLDLTGKNLHPDVTGRLLSQGVIAFRCPRSFMDQPLAEHFSPFRVQHMDLSNSVIEVSTLHGILSQCSKLQNLSLEGLRLSDPIVNTLAKNSNLVRLNLSGCSGFSEFALQTLLSSCSRLDELNLSW\n"
     ]
    },
    {
     "data": {
      "application/vnd.jupyter.widget-view+json": {
       "model_id": "e71c6212a028455b8c9a65fedf66d3be",
       "version_major": 2,
       "version_minor": 0
      },
      "text/plain": [
       "HBox(children=(IntProgress(value=0, max=1077), HTML(value='')))"
      ]
     },
     "metadata": {},
     "output_type": "display_data"
    },
    {
     "name": "stdout",
     "output_type": "stream",
     "text": [
      "\n",
      "KGKWMYRGEWSHGFKGRYGVRSQLCTPATYEGTWSNGLQDGYGVETYGDGGTYQGQWAGGMRHGYGVRQSVPYGMATVIRSPLRTSLASLRSEQSNGSVLHDAAAAADSPAGTRGGFVLNFHADAELA\n",
      "KGKWMYRGEWSHGFKGRYGVRQSLCTPARYEGTWSNGLQDGYGVETYGDGGTYQGQWAGGMRHGYGVRQSVPYGMATVIRSPLRTSLASLRSEQSNGSVLHDAAAAADSPAGTRGGFVLNFHADAELA\n"
     ]
    },
    {
     "data": {
      "application/vnd.jupyter.widget-view+json": {
       "model_id": "2196678d1d48459cb92c6ba68cc2681e",
       "version_major": 2,
       "version_minor": 0
      },
      "text/plain": [
       "HBox(children=(IntProgress(value=0, max=1077), HTML(value='')))"
      ]
     },
     "metadata": {},
     "output_type": "display_data"
    },
    {
     "name": "stdout",
     "output_type": "stream",
     "text": [
      "\n",
      "LLKNISGSTVLKILPSYRDTIIPQQVFVKCHDYDNPYDDNLIPCKEAGLKFSKGEILQIVNREDPNWWQASHVKEGGSAGLIPSQFLEEKRKAFVRRDWDNSGPFCGTISSKKKKKMMYLTTRNAEFD\n",
      "LLKNISGSVTLKILPSYRDTITPQQVFVKCHFDYNPYNDNLIPCKEAGLKFSKGEILQIVNREDPNWWQASHVKEGGSAGLIPSQFLEEKRKAFVRRDWDNSGPFCGTISSKKKKKMMYLTTRNAEFD\n"
     ]
    },
    {
     "data": {
      "application/vnd.jupyter.widget-view+json": {
       "model_id": "c35e760c008440eca3cc7fd5d3d5d208",
       "version_major": 2,
       "version_minor": 0
      },
      "text/plain": [
       "HBox(children=(IntProgress(value=0, max=1077), HTML(value='')))"
      ]
     },
     "metadata": {},
     "output_type": "display_data"
    },
    {
     "name": "stdout",
     "output_type": "stream",
     "text": [
      "\n",
      "LPDLKEKENDELDIQLKVFDENKEDDLTELSHRLNDIRAEMDDMNEVYHLLYNMLKDTAAENYFLSILQHFLLIRNDYYIRPQYYKIIEECVSQIVLHCSGMDPDFKYRQRLDIDLTHLIDSCVNKAK\n",
      "LPDLKEKENDELDIQLKVFDENKEDDLTELSHRLNDIRAEMDDMNEVYHLLYNMLKDTAAENYFLSILQHFLLIRNDYYIRPQYYKIIEECVSQIVLHCSGMDPDFKYRQRLDIDLTHLIDSCVNKAK\n"
     ]
    },
    {
     "data": {
      "application/vnd.jupyter.widget-view+json": {
       "model_id": "3056d21da5db4b5f9de66c4251110265",
       "version_major": 2,
       "version_minor": 0
      },
      "text/plain": [
       "HBox(children=(IntProgress(value=0, max=1077), HTML(value='')))"
      ]
     },
     "metadata": {},
     "output_type": "display_data"
    },
    {
     "name": "stdout",
     "output_type": "stream",
     "text": [
      "\n",
      "GLHLLIQSLFAFLEHRRMRRAGQALKLPSPRRGSVALCIAAYQEDPDYLRKCLRSAQRISFPDLKVVMVMDGNRQEDAYMLDIFHEVLGGTEQAGFFVWRSNFFEAGEGETEASLQEGMDRVRDVVRA\n",
      "GLHLLIQSLFAFLEHRRMRRAGQALKLPSPRRGSVALCIAAYQEDPDYLRKCLRSAQRISFPDLKVVMVVDGNRQEDAYMLDIFHEVLGGTEQAGFFVWRSNFHEAGEGETEASLQEGMDRVRDVVRA\n"
     ]
    },
    {
     "data": {
      "application/vnd.jupyter.widget-view+json": {
       "model_id": "a97fde3d03cd457f93ce24400efa83dd",
       "version_major": 2,
       "version_minor": 0
      },
      "text/plain": [
       "HBox(children=(IntProgress(value=0, max=1077), HTML(value='')))"
      ]
     },
     "metadata": {},
     "output_type": "display_data"
    },
    {
     "name": "stdout",
     "output_type": "stream",
     "text": [
      "\n",
      "MWNPNAGQPGPNPYPPNIGCPGGSNPAHPPPINPPFPPGPCPPPPGAPHGNPAFPPGGPPHPVPQPGYPGCQPLGPYPPPPPPPGGPIPPVNPLAPGMVGPAVIVDKKMQKKMKKAHKKMHKHQKHHK\n",
      "MWNPNAGQPGPNPYPPNIGCPGGSNPAHPPPINPPFPPGPCPPPPGAPHGNPAFPPGGPPHPVPQPGYPGCQPLGPYPPPYPPPAPGIPPVNPLAPGMVGPAVIVDKKMQKKMKKAHKKMHKHQKHHK\n"
     ]
    },
    {
     "data": {
      "application/vnd.jupyter.widget-view+json": {
       "model_id": "85017ba1ee88412fb4f378534873f56b",
       "version_major": 2,
       "version_minor": 0
      },
      "text/plain": [
       "HBox(children=(IntProgress(value=0, max=1077), HTML(value='')))"
      ]
     },
     "metadata": {},
     "output_type": "display_data"
    },
    {
     "name": "stdout",
     "output_type": "stream",
     "text": [
      "\n",
      "GRRRRRLRRRPRGLRCSRLPPPPPLPLLLLGLLAAAGPGAARAKETAFVEVVLFESSPSGDYTTYTTGLTGRFSRAGATLSAEGEIVQMHPLGLCNNNDEEDLYEYGWVGVVKLEQPELDPKPCLTVL\n",
      "GRRRRRLRRRPRGLRCSRLPPPPPLPLLLGLLLAAAGPGAARAKETAFVEVVLFESSPSGDYTTYTTGLTGRFSRAGATLSAEGEIVQMHPLGLCNNNDEEDLYEYGWVGVVKLEQPELDPKPCLTVL\n"
     ]
    },
    {
     "data": {
      "application/vnd.jupyter.widget-view+json": {
       "model_id": "3d3a294c7cca4932b46287c997575226",
       "version_major": 2,
       "version_minor": 0
      },
      "text/plain": [
       "HBox(children=(IntProgress(value=0, max=1077), HTML(value='')))"
      ]
     },
     "metadata": {},
     "output_type": "display_data"
    },
    {
     "name": "stdout",
     "output_type": "stream",
     "text": [
      "\n",
      "VYVNYARTEDFFKLEREMGINKTGCIVIARYGKIFRGNKVKNAMLAGAIGIILYSDPADYFAPEVQPYPKGWNLPGTAAQRGNVLNLNGAGDPLTPGYPAKEYTFRLDVEEGVGIPRIPVHPIGYNDA\n",
      "VYVNYARTEDFFKLEREMGINCTGKIVIARYGKIFRGNKVKNAMLAGAIGIILYSDPADYFAPEVQPYPKGWNLPGTAAQRGNVLNLNGAGDPLTPGYPAKEYTFRLDVEEGVGIPRIPVHPIGYNDA\n"
     ]
    },
    {
     "data": {
      "application/vnd.jupyter.widget-view+json": {
       "model_id": "435736cdda7e4d9a9e939434f22e012f",
       "version_major": 2,
       "version_minor": 0
      },
      "text/plain": [
       "HBox(children=(IntProgress(value=0, max=1077), HTML(value='')))"
      ]
     },
     "metadata": {},
     "output_type": "display_data"
    },
    {
     "name": "stdout",
     "output_type": "stream",
     "text": [
      "\n",
      "SPGYLGTRCECQDGENQSVYQNLCREAEGKPLCSGRGDCSCNQCSCFESEFGKIYGPFCECDNFSCARNKGVLCGGHGECHHGECKCHAGYIGDNCNCSTDISTCRGRDGQICSERGHCLCGQCQCTE\n",
      "SPGYLGTRCECQDGENQSVYQNLCREAEGKPLCSGRGDCSCNQCSCFESEFGKIYGPFCECDNFSCARNKGVLCSGHGECHCGECKCHAGYIGDNCNCSTDISTCRGRDGQICSERGHCLCGQCQCTE\n"
     ]
    },
    {
     "data": {
      "application/vnd.jupyter.widget-view+json": {
       "model_id": "3e8fd9f0cfcd4df49c35fe95376d9820",
       "version_major": 2,
       "version_minor": 0
      },
      "text/plain": [
       "HBox(children=(IntProgress(value=0, max=1077), HTML(value='')))"
      ]
     },
     "metadata": {},
     "output_type": "display_data"
    },
    {
     "name": "stdout",
     "output_type": "stream",
     "text": [
      "\n",
      "GVSENLKHTTQDDASRTRAPGLSSQHPKPDTTVSGDTETGQSPGVFNTKESGMKDIKSELAEVKDTLKNKSDKLEELDGKVKGYEGQLRQLQEAAQGPTVTMTTNELYQAYVDSKIDALREELMEGMD\n",
      "GVSENLKHATQDDASRTRAPGLSSQHPKPDTTVSGDTETGQSPGVFNTKESGMKDIKSELAEVKDTLKNKSDKLEELDGKVKGYEGQLRQLQEAAQGPTVTMTTNELYQAYVDSKIDALREELMEGMD\n"
     ]
    },
    {
     "data": {
      "application/vnd.jupyter.widget-view+json": {
       "model_id": "e19abe25010243858fbd0603785226cd",
       "version_major": 2,
       "version_minor": 0
      },
      "text/plain": [
       "HBox(children=(IntProgress(value=0, max=1077), HTML(value='')))"
      ]
     },
     "metadata": {},
     "output_type": "display_data"
    },
    {
     "name": "stdout",
     "output_type": "stream",
     "text": [
      "\n",
      "PLGNGDLALKFGYPTPHGGCQKMDTTFTEGAVPGQFSNPAMALSDIRVAFSDYQHFALLYLEMRKGGLRNQWLQLYGGRAAGRRPRHPRFGSGMSPLCLHQPFLHAEGGTAGSWCLWPRVPAPPCPSL\n",
      "PLGNGDLALKFGYPTPHGGCQKMDTTFTEGAVPGQFSNPAMALSDIRVAFSDYQHFALLYLEMRKGGLRNQWLQLYGGRAAGRRPRHPRFGSGMSPLCLHQPFLHAEGGTAGSWCLWPRVPAPPCPSL\n"
     ]
    },
    {
     "data": {
      "application/vnd.jupyter.widget-view+json": {
       "model_id": "662aa475ffcf4546ae7f4b6e387c4184",
       "version_major": 2,
       "version_minor": 0
      },
      "text/plain": [
       "HBox(children=(IntProgress(value=0, max=1077), HTML(value='')))"
      ]
     },
     "metadata": {},
     "output_type": "display_data"
    },
    {
     "name": "stdout",
     "output_type": "stream",
     "text": [
      "\n",
      "GGGGGGGGSSAHSQDGSHQPVFISKVHTSVDGLQGIYPRVGMAHPYESWFKPSHPGLGAAGEVGSAGASSWWDVGAGWIDVQNPNSAAALPGSLHPAAGGLQTSLHSPLGGYNSDYSGLSHSAFSSGA\n",
      "GGGGGGGGSSAHSQDGSHQPVFISKVHTSVDGLQGIYPRVGMAHPYESWFKPSHPGLGAAGEVGSAGASSWWDVGAGWIDVQNPNSAAALPGSLHPAAGGLQTSLHSPLGGYNSDYSGLSHSAFSSGA\n"
     ]
    },
    {
     "data": {
      "application/vnd.jupyter.widget-view+json": {
       "model_id": "f747aab541fe449980d6fcf4364e68b3",
       "version_major": 2,
       "version_minor": 0
      },
      "text/plain": [
       "HBox(children=(IntProgress(value=0, max=1077), HTML(value='')))"
      ]
     },
     "metadata": {},
     "output_type": "display_data"
    },
    {
     "name": "stdout",
     "output_type": "stream",
     "text": [
      "\n",
      "LRMSEHRNEAGGNYLEMRLKSSFLRGLGSWKSNPLRLGGWTILLTLTMGQGEPGGPGQDPWVPHELLLPSLCSSDHASSWGSGSITCAWRGGDSSSHPLVSGHILSNSPVAAVMCSSMGTHLSPFKGT\n",
      "LRMSEHRNEALGNYLEMRLKSSFLRGLGSWKSNPLRLGGWTILLTLTMGQGEPGGPQGDPWVPHELLLPSLCDSSHASSWGSGSITCAWRGGDSSSHPLVSGHILSNSPVAAVMCSSMGTHLSPFKGT\n"
     ]
    },
    {
     "data": {
      "application/vnd.jupyter.widget-view+json": {
       "model_id": "1b38564ca26a48a389c7063afb1997fc",
       "version_major": 2,
       "version_minor": 0
      },
      "text/plain": [
       "HBox(children=(IntProgress(value=0, max=1077), HTML(value='')))"
      ]
     },
     "metadata": {},
     "output_type": "display_data"
    },
    {
     "name": "stdout",
     "output_type": "stream",
     "text": [
      "\n",
      "FLRAVRAALTSTVPDLLCLLARGSPRGLASGRLPLAVHSAQHGPGSGAPWLRIARRRRRFVLSKHWGDDCYLTNRLWQDLKPPSHVENGQELRLAPPVQWALQVQGNQLQTAVLCLRMAPPEPAGSRQ\n",
      "FLRAVRAALTSTVPDLLCLLARGSPRGLASGRLPLAVHSAQHGPGSGAPWLRIARRALRFVLSKHWGDDCYLTNRLWQDLKPPSHVENGQELRLAPPVQWALQVQGNQLQTAVLCLRMAPPEPAGSRQ\n"
     ]
    },
    {
     "data": {
      "application/vnd.jupyter.widget-view+json": {
       "model_id": "130138fdfb744abba0f686be01533d96",
       "version_major": 2,
       "version_minor": 0
      },
      "text/plain": [
       "HBox(children=(IntProgress(value=0, max=1077), HTML(value='')))"
      ]
     },
     "metadata": {},
     "output_type": "display_data"
    },
    {
     "name": "stdout",
     "output_type": "stream",
     "text": [
      "\n",
      "MLLLLLAVWVLTGELWPGAEARAAPYGVRLCGREFIRAVIFTCGGSRWRRSDILAHEAMGDTFPDADADEDSLAGELDEAMGSSEWLALTKSPQAFYRGRPSWQGTPGVLRGSRDVLAGLSSSCCKWG\n",
      "MLLLLLAVWVLTGELWPGAEARAAPYGVRLCGREFIRAVIFTCGGSRWRRSDILAHEAMGDTFPDADADEDSLAGELDEAMGSSEWLALTKSPQAFYRGRPSWQGTPGVLRGSRDVLAGLSSSCCKWG\n"
     ]
    },
    {
     "data": {
      "application/vnd.jupyter.widget-view+json": {
       "model_id": "5d50372906f34a83b9a704e4c22d9ae8",
       "version_major": 2,
       "version_minor": 0
      },
      "text/plain": [
       "HBox(children=(IntProgress(value=0, max=1077), HTML(value='')))"
      ]
     },
     "metadata": {},
     "output_type": "display_data"
    },
    {
     "name": "stdout",
     "output_type": "stream",
     "text": [
      "\n",
      "YECNDCGKSFRQKTTLSLHQRIHTGEKPYICKECGKSFHQKANLTVHQRTHTGEKPYICNECGKSFSQKTTLALHEKTHNEEKPYICSECGKSFRQKTTLVAHQRTHTGEKSYECPHCGKAFRMKSYL\n",
      "YECNDCGKSFRQKTTLSLHQRIHTGEKPYICKECGKSFHQKANLTVHQRTHTGEKPYICNECGKSFSQKTTLALHEKTHNEEKPYICSECGKSFRQKTTLVAHQRTHTGEKSYECPHCGKAFRMKSYL\n"
     ]
    },
    {
     "data": {
      "application/vnd.jupyter.widget-view+json": {
       "model_id": "39f0d1bca0484d828358d881c288cc76",
       "version_major": 2,
       "version_minor": 0
      },
      "text/plain": [
       "HBox(children=(IntProgress(value=0, max=1077), HTML(value='')))"
      ]
     },
     "metadata": {},
     "output_type": "display_data"
    },
    {
     "name": "stdout",
     "output_type": "stream",
     "text": [
      "\n",
      "ADVTQVTSLWLAHNEVRTVEPGALAVLSQLKNLDLSHNFISSFPWSDLRNLSALQLLKMNHNRLGSLPRDALGALPDLRSLRINNNRLRTLAPGTFDALSALSHLQLYHNPFHCGCGLVWLQAWAAST\n",
      "ADVTQVTSLWLAHNEVRTVEPGALAVLSQLKNLDLSHNFISSFPWSDLRNLSALQLLKMNHNRLGSLPRDALGALPDLRSLRINNNRLRTLAPGTFDALSALSHLQLYHNPFHCGCGLVWLQAWAAST\n"
     ]
    },
    {
     "data": {
      "application/vnd.jupyter.widget-view+json": {
       "model_id": "48cc8d91760c4fc58309b74a8b8ca9ac",
       "version_major": 2,
       "version_minor": 0
      },
      "text/plain": [
       "HBox(children=(IntProgress(value=0, max=1077), HTML(value='')))"
      ]
     },
     "metadata": {},
     "output_type": "display_data"
    },
    {
     "name": "stdout",
     "output_type": "stream",
     "text": [
      "\n",
      "GSPQDLVTKDITDTSIGAYWTSAPGMVRGYRVSWKSLYDDVDTGEKNLPEDIIHTMIENLQPETKYRISVFATYSSGEGEPLTGDATTELSQDSKTLKVDEETENTMRVTWKPAPGKVVNYRVVYRPH\n",
      "GSPQDLVTKDITDTSIGAYWTSAPGMVRGYRVSWKSLYDDVDTGEKNLPEDAIHTMIENLQPETKYRISVFATYSSGEGEPLTGDATTELSQDSKTLKVDEETENTMRVTWKPAPGKVVNYRVVYRPH\n"
     ]
    },
    {
     "data": {
      "application/vnd.jupyter.widget-view+json": {
       "model_id": "fe7cd265807641dca024ea6bffb033ff",
       "version_major": 2,
       "version_minor": 0
      },
      "text/plain": [
       "HBox(children=(IntProgress(value=0, max=1077), HTML(value='')))"
      ]
     },
     "metadata": {},
     "output_type": "display_data"
    },
    {
     "name": "stdout",
     "output_type": "stream",
     "text": [
      "\n",
      "TMEDLISYSFQVARGMFLLSSRKWCIRDLAARNILLSENNVVKICDFGLARDIYKNPDYVRKGDTRLPLKWMAPESIFDKIYSTKSDVWSYGVLLWEIFSLGGSPYPGVQMDEDFCSRLREGMRMRAP\n",
      "TMEDLISYSFQVARGMEFLSSRKCIHRDLAARNILLSENNVVKICDFGLARDIYKNPDYVRKGDTRLPLKWMAPESIFDKIYSTKSDVWSYGVLLWEIFSLGGSPYPGVQMDEDFCSRLREGMRMRAP\n"
     ]
    },
    {
     "data": {
      "application/vnd.jupyter.widget-view+json": {
       "model_id": "5386e5e45abc4c30814e84d66ecb6ecd",
       "version_major": 2,
       "version_minor": 0
      },
      "text/plain": [
       "HBox(children=(IntProgress(value=0, max=1077), HTML(value='')))"
      ]
     },
     "metadata": {},
     "output_type": "display_data"
    },
    {
     "name": "stdout",
     "output_type": "stream",
     "text": [
      "\n",
      "KAKCCEEELDFRAVVVDEVVLTIEQGLLLGRINGELITIYPQVVVVRVPTPWVQSDSDITVLRHLEKMGCRLMNRPQAILNCVNKFWTFQELAGHGVPLPDTFSYGGHENFAKIMDEAEVLEFPMVVK\n",
      "KAKCCEEELDFRAVVMDEVVLTIEQGNLGLRINGELITAYPQVVVVRVPTPWVQSDSDITVLRHLEKMGCRLMNRPQAILNCVNKFWTFQELAGHGVPLPDTFSYGGHENFAKMIDEAEVLEFPMVVK\n"
     ]
    },
    {
     "data": {
      "application/vnd.jupyter.widget-view+json": {
       "model_id": "d11ced3ccc154d2dab54bf2e60cef5ca",
       "version_major": 2,
       "version_minor": 0
      },
      "text/plain": [
       "HBox(children=(IntProgress(value=0, max=1077), HTML(value='')))"
      ]
     },
     "metadata": {},
     "output_type": "display_data"
    },
    {
     "name": "stdout",
     "output_type": "stream",
     "text": [
      "\n",
      "MSEYGRMTDTERDQIDQDAQIFMRTCSEIAQQLRTEAHKEIHSQQVKEHRTAVLDFIEDYLKRVCKLYSEQRAIRVKRVVDKKRLSKLEPEPNTKTRESTSSEKVSQSPSKDSEENPATEERPEKILA\n",
      "MSEYGRMTDTERDQIDQDAQIFMRTCSEAIQQLRTEAHKEIHSQQVKEHRTAVLDFIEDYLKRVCKLYSEQRAIRVKRVVDKKRLSKLEPEPNTKTRESTSSEKVSQSPSKDSEENPATEERPEKILA\n"
     ]
    },
    {
     "data": {
      "application/vnd.jupyter.widget-view+json": {
       "model_id": "f90fc80abec54b0185f58042bdfb0843",
       "version_major": 2,
       "version_minor": 0
      },
      "text/plain": [
       "HBox(children=(IntProgress(value=0, max=1077), HTML(value='')))"
      ]
     },
     "metadata": {},
     "output_type": "display_data"
    },
    {
     "name": "stdout",
     "output_type": "stream",
     "text": [
      "\n",
      "TAVFLLQLAAGILGFVFSDKARGKVSEIINNAIVHYRDDLDLQNLIDFGQKKFSCCGGISYKDWSQNMYFNCSEDNPSRERCSVPYSCCLPTPDQAVINTCCGQGMQAFDYLEASKVIYTNGCIDKLV\n",
      "TAVFLLQLAAGILGFVFSDKARGKVSEIINNAIVHYRDDLDLQNLIDFGQKKFSCCGGISYKDWSQNMYFNCSEDNPSRERCSVPYSCCLPTPDQAVINTMCGQGMQAFDYLEASKVIYTNGCIDKLV\n"
     ]
    },
    {
     "data": {
      "application/vnd.jupyter.widget-view+json": {
       "model_id": "4f5eae7397744bfda4ff47bfa3f4d7ee",
       "version_major": 2,
       "version_minor": 0
      },
      "text/plain": [
       "HBox(children=(IntProgress(value=0, max=1077), HTML(value='')))"
      ]
     },
     "metadata": {},
     "output_type": "display_data"
    },
    {
     "name": "stdout",
     "output_type": "stream",
     "text": [
      "\n",
      "VKDRPYGGQENRIQITFIVEDVNDNPATCQKFTFSIMVPERTAKGTLLLDLNKFCFDDDSEANNNRFNFTMPGSVGGGSRFLQDPAGSGKIVLIGDLDYENPSNLAAGNKYTVIIQVQDVAPPYYKNN\n",
      "VKDRPYGGQENRIQITFIVEDVNDNPATCQKFTFSIMVPERTAKGTLLLDLNKFCFDDDSEAPNNRFNFTMPSGVGSGSRFLQDPAGSGKIVLIGDLDYENPSNLAAGNKYTVIIQVQDVAPPYYKNN\n"
     ]
    },
    {
     "data": {
      "application/vnd.jupyter.widget-view+json": {
       "model_id": "4c86496a178945c1a46aed9f7a4efbae",
       "version_major": 2,
       "version_minor": 0
      },
      "text/plain": [
       "HBox(children=(IntProgress(value=0, max=1077), HTML(value='')))"
      ]
     },
     "metadata": {},
     "output_type": "display_data"
    },
    {
     "name": "stdout",
     "output_type": "stream",
     "text": [
      "\n",
      "PELASRLTRISAVLLEGMNKETFNLKEVLNSIGIQTCVEVNKTLMERGLPTLNAEIQANLIGQFSSIEEEDNPIWSLIDKRIKLYMRRLLCLPSPQKCMPPMPGGLAVIQQELEALGSQYANIVNLNK\n",
      "PELASRLTRISAVLLEGMNKETFNLKEVLNSIGIQTCVEVNKTLMERGLPTLNAEIQANLIGQFSSIEEEDNPIWSLIDKRIKLYMRRLLCLPSPQKCMPPMPGGLAVIQQELEALGSQYANIVNLNK\n"
     ]
    },
    {
     "data": {
      "application/vnd.jupyter.widget-view+json": {
       "model_id": "7d5e3408cbbf410f888c2c2a22ebb5fb",
       "version_major": 2,
       "version_minor": 0
      },
      "text/plain": [
       "HBox(children=(IntProgress(value=0, max=1077), HTML(value='')))"
      ]
     },
     "metadata": {},
     "output_type": "display_data"
    },
    {
     "name": "stdout",
     "output_type": "stream",
     "text": [
      "\n",
      "EEVPFVVTKCTAEIEHRALDVQGIYRVSGSRVRVERLCQAFENGRLLVELSGNSPHDVSSVLKRFLQELTEPVIPFHLYDAFISLAKTLHADPGDDPGTPSPSPEVIRSLKTLLVQLPDSNYNTLRHL\n",
      "EEVPFVVTKCTAEIEHRALDVQGIYRVSGSRVRVERLCQAFENGRALVELSGNSPHDVSSVLKRFLQELTEPVIPFHLYDAFISLAKTLHADPGDDPGTPSPSPEVIRSLKTLLVQLPDSNYNTLRHL\n"
     ]
    },
    {
     "data": {
      "application/vnd.jupyter.widget-view+json": {
       "model_id": "e0e1745a16194f2b8ed816621cdd043d",
       "version_major": 2,
       "version_minor": 0
      },
      "text/plain": [
       "HBox(children=(IntProgress(value=0, max=1077), HTML(value='')))"
      ]
     },
     "metadata": {},
     "output_type": "display_data"
    },
    {
     "name": "stdout",
     "output_type": "stream",
     "text": [
      "\n",
      "ELMGRGLHLSDIPIHDATRDVILVGEQAKAQGGLKKRMDKLKATLERTHQALEEEKKKTVDLLYSIFPGDVAQQLWQGQQVQARKFDDVTMLFSDIVGFTAICAQCTPQMVSIMLNELYTRFDHQCGF\n",
      "ELMGRGLHLSDIPIHDATRDVILVGEQAKAQDGLKKRMDKLKATLERTHQALEEEKKKTVDLLYSIFPGDVAQQLWQGQQVQARKFDDVTMLFSDIVGFTAICAQCTPMQVISMLNELYTRFDHQCGF\n"
     ]
    },
    {
     "data": {
      "application/vnd.jupyter.widget-view+json": {
       "model_id": "e6f61227dab34a86aab476ede4a0cd4c",
       "version_major": 2,
       "version_minor": 0
      },
      "text/plain": [
       "HBox(children=(IntProgress(value=0, max=1077), HTML(value='')))"
      ]
     },
     "metadata": {},
     "output_type": "display_data"
    },
    {
     "name": "stdout",
     "output_type": "stream",
     "text": [
      "\n",
      "DSFSAKASVSVTAEDEGTQRLTCAVILGNQSQETLQTVTIYSFPAPNVILTKPEVSEGTEVTVKCEAHPRAKVTLNGVPAQPLGPRAQLLLKATPEDNGRSFSCSATLEVAGQLIHKNQTRELRVLYG\n",
      "DSFSAKASVSVTAEDEGTQRLTCAVILGNQSQETLQTVTIYSFPAPNVILTKPEVSEGTEVTVKCEAHPRAKVTLNGVPAQPLGPRAQLLLKATPEDNGRSFSCSATLEVAGQLIHKNQTRELRVLYG\n"
     ]
    },
    {
     "data": {
      "application/vnd.jupyter.widget-view+json": {
       "model_id": "111cd7edc07f4f3e8127e1cd9a520c07",
       "version_major": 2,
       "version_minor": 0
      },
      "text/plain": [
       "HBox(children=(IntProgress(value=0, max=1077), HTML(value='')))"
      ]
     },
     "metadata": {},
     "output_type": "display_data"
    },
    {
     "name": "stdout",
     "output_type": "stream",
     "text": [
      "\n",
      "GPGAYVYLYIIKKTRTRSTQQFRVFESFYEHVNQKLPEPPPLASNLFAQLAENIASSLHVASCYVCGGMNMGDQWPWEARELMPQDNFLLTASSLEPAPSSQSIWFLKTSIIGKFCIARWGKAFTDPV\n",
      "GPGAYVYLYIIKKTRTRSTQQFRVFESFYEHVNQKLPEPPPLASNLFAQLAENIASSLHVASCYVCGGMNMGDQWPWEARELMPQDNFTLTASSLEPAPSSQSIWFLKTSIIGKFCIARWGKAFTDPV\n"
     ]
    },
    {
     "data": {
      "application/vnd.jupyter.widget-view+json": {
       "model_id": "3836b20bd47b447aaff3180c0b47832e",
       "version_major": 2,
       "version_minor": 0
      },
      "text/plain": [
       "HBox(children=(IntProgress(value=0, max=1077), HTML(value='')))"
      ]
     },
     "metadata": {},
     "output_type": "display_data"
    },
    {
     "name": "stdout",
     "output_type": "stream",
     "text": [
      "\n",
      "HPKQEKRSVFQTINQFLDLTLFTHRGFLLYLSGNVIMFFGLFAPLVFLSSYGKSQHYSSEKSAFLLSILAFMDVMARPSMGLVANTKPIRPRIQYFFAASVVANGVCMHLAPLSTTYVGFCVYAGFFG\n",
      "HPKQEKRSVFQTINQFLDLTLFTHRGFLLYLSGNVIMFFGLFAPLVFLSSYGKSQHYSSEKSAFLLSILAFVDMVARPSMGLVANTKPIRPRIQYFFAASVVANGVCHMLAPLSTTYVGFCVYAGFFG\n"
     ]
    },
    {
     "data": {
      "application/vnd.jupyter.widget-view+json": {
       "model_id": "193a670a4f884861a71a916cbed0f5f9",
       "version_major": 2,
       "version_minor": 0
      },
      "text/plain": [
       "HBox(children=(IntProgress(value=0, max=1077), HTML(value='')))"
      ]
     },
     "metadata": {},
     "output_type": "display_data"
    },
    {
     "name": "stdout",
     "output_type": "stream",
     "text": [
      "\n",
      "CPTWKVFDSNEESGYLVLTIVISGGFFIFQGQTLLEGFSLIGSKDWLKIVRRVDCLLFGTTIKDKSRLFRVQFSGSEKEQALEHCCSCVQKLAQYITVQVPDGNIQELQLIPGPPRATESQGKDSAKS\n",
      "CPTWKVFDSNEESGYLVLTIVISGHFFIFQGQTLLEGFSLIGSKDWLKIVRRVDCLLFGTTIKDKSRLFRVQFSGESKEQALEHCCSCVQKLAQYITVQVPDGNIQELQLIPGPPRATESQGKDSAKS\n"
     ]
    },
    {
     "data": {
      "application/vnd.jupyter.widget-view+json": {
       "model_id": "f5fef3fbcc7745828ae7673b88f95f93",
       "version_major": 2,
       "version_minor": 0
      },
      "text/plain": [
       "HBox(children=(IntProgress(value=0, max=1077), HTML(value='')))"
      ]
     },
     "metadata": {},
     "output_type": "display_data"
    },
    {
     "name": "stdout",
     "output_type": "stream",
     "text": [
      "\n",
      "LYPNIMTGHLYAKLVILCWVCGFLWFLIPIVLISQKPFCGPNIIDHVVCDPGPLFALDCVSAPRIQLFCYTLSSLVIFGNFLFIIGSYTLVLKAVLGMPSSTGRHKAFSTCGSHLAVVSLCYSPLMVM\n",
      "LYPNIMTGHLYAKLVILCWVCGFLWFLIPIVLISQKPFCGPNIIDHVVCDPGPLFALDCVSAPRIQLFCYTLSSLVIFGNFLFIIGSYTLVLKAVLGMPSSTGRHKAFSTCGSHLAVVSLCYSPLMVM\n"
     ]
    },
    {
     "data": {
      "application/vnd.jupyter.widget-view+json": {
       "model_id": "9974b27f5ee048fe839121fdc69746b5",
       "version_major": 2,
       "version_minor": 0
      },
      "text/plain": [
       "HBox(children=(IntProgress(value=0, max=1077), HTML(value='')))"
      ]
     },
     "metadata": {},
     "output_type": "display_data"
    },
    {
     "name": "stdout",
     "output_type": "stream",
     "text": [
      "\n",
      "LGLQDGSTSLLPEQLLSAPKQRVNVQKPPFSSPTLPSHFTLTSVVGDGQPQGIESQPKELGLENSHDGHNNVEILPPKPDCKLEKKKVELQEKSRWEVLQQEQRLMEEKNKRKKALAAKAIAERSKRT\n",
      "LGLQDGSTSLLPEQLLSAPKQRVNVQKPPFSSPTLPSHFTLTSPVGDGQPQGIESQPKELGLENSHDGHNNVEILPPKPDCKLEKKKVELQEKSRWEVLQQEQRLMEEKNKRKKALLAKAIAERSKRT\n"
     ]
    },
    {
     "data": {
      "application/vnd.jupyter.widget-view+json": {
       "model_id": "5aac4133f81d4593aa53476bdf75bd2f",
       "version_major": 2,
       "version_minor": 0
      },
      "text/plain": [
       "HBox(children=(IntProgress(value=0, max=1077), HTML(value='')))"
      ]
     },
     "metadata": {},
     "output_type": "display_data"
    },
    {
     "name": "stdout",
     "output_type": "stream",
     "text": [
      "\n",
      "SPGHRKRASPKGSLSSAQPHSWMLTPSPLNSHCAHREPISSSPQPVANGPKQKKKSNWRSTTRLRIIRLRDRLEPRPLAILEDYADPFDVQETGEGSAGASGAPEKVPENDGYMEPYEAQKMMAEIRG\n",
      "SPGHRKRASPKGSLSSAQPHSWMLTPSPLNSHCAHREPISSSPQPVANGPKQKKKSNWRSTTRLRIIRLRDRLEPRPLAILEDYADPFDVQETGEGSAGASGAPEKVPENDGYMEPYEAQKMMAEIRG\n"
     ]
    },
    {
     "data": {
      "application/vnd.jupyter.widget-view+json": {
       "model_id": "7946940575b14c2d8b51c01ebe58e876",
       "version_major": 2,
       "version_minor": 0
      },
      "text/plain": [
       "HBox(children=(IntProgress(value=0, max=1077), HTML(value='')))"
      ]
     },
     "metadata": {},
     "output_type": "display_data"
    },
    {
     "name": "stdout",
     "output_type": "stream",
     "text": [
      "\n",
      "DIPNFFQLFCNFSVSIYESVSETITKMLKAIEDLPKQDKAPDHGGLISKMLPGQDRGLCGELDQNLSRCFKFHEKCQKCQAHLSEDCPDVPALHTELDEAIRLVNVSNQQYGQILQMTRKHLEDTAYL\n",
      "DIPNFFQLFCNFSVSIYESVSETITKMLKAIEDLPKQDKAPDHGGLISKMLPGQDRGLCGELDQNLSRCFKFHEKCQKCQAHLSEDCPDVPALHTELDEAIRLVNVSNQQYGQILQMTRKHLEDTAYL\n"
     ]
    },
    {
     "data": {
      "application/vnd.jupyter.widget-view+json": {
       "model_id": "4103e40432174a97ae655c25be2b4f29",
       "version_major": 2,
       "version_minor": 0
      },
      "text/plain": [
       "HBox(children=(IntProgress(value=0, max=1077), HTML(value='')))"
      ]
     },
     "metadata": {},
     "output_type": "display_data"
    },
    {
     "name": "stdout",
     "output_type": "stream",
     "text": [
      "\n",
      "ARAYGRSRPKLWSAIPPYNAQQDYHARSYFQSHVVPPLLRKTDQDHGGTGRDGWIVDYIHIFGQGQRYLNRRNWAGTGHSLQQVTGHHDYNADLKPIDGFNGRFGYRRNTPALRQSTSVFGEVTFHPL\n",
      "ARAYGRSRPKLWSAIPPYNAQQDYHARSYFQSHVVPPLLRKTDQDHGGTGRDGWIVDYIHIFGQGQRYLNRRNWAGTGHSLQQVTGHDHYNADLKPIDGFNGRFGYRRNTPALRQSTSVFGEVTHFPL\n"
     ]
    },
    {
     "data": {
      "application/vnd.jupyter.widget-view+json": {
       "model_id": "05e90c45d82144cdba6684db3cc79078",
       "version_major": 2,
       "version_minor": 0
      },
      "text/plain": [
       "HBox(children=(IntProgress(value=0, max=1077), HTML(value='')))"
      ]
     },
     "metadata": {},
     "output_type": "display_data"
    },
    {
     "name": "stdout",
     "output_type": "stream",
     "text": [
      "\n",
      "SVAAAYPLGLSPTTAASPNLSYSRPYGHLSLYPYTEPANPGDSYLSCQQPAALSQPLCGPAEHPQELEADSEKPRLSPEPSERRPQAPAKKLRKPRTIYSSLQLQHLNQRFQHTQYLALPERAQLAAQ\n",
      "SVAAAYPLGLSPTTAASPNLSYSRPYGHLLSYPYTEPANPGDSYLSCQQPAALSQPLCGPAEHPQELEADSEKPRLSPEPSERRPQAPAKKLRKPRTIYSSLQLQHLNQRFQHTQYLALPERAQLAAQ\n"
     ]
    },
    {
     "data": {
      "application/vnd.jupyter.widget-view+json": {
       "model_id": "94910346f3b449878cf3b710a9c0e8cf",
       "version_major": 2,
       "version_minor": 0
      },
      "text/plain": [
       "HBox(children=(IntProgress(value=0, max=1077), HTML(value='')))"
      ]
     },
     "metadata": {},
     "output_type": "display_data"
    },
    {
     "name": "stdout",
     "output_type": "stream",
     "text": [
      "\n",
      "DFDVDDAKVLLGLKERSTSEPAVPPEAAEPHTEPEEQVPVEAENQPIEDEAKEQIQSLLHEMVHAEHVEGEDLQQEDGPTGEPQQEDDEFLMATDVDDRFETLEPEVSHEETEHSYHVEETVSQDCNQ\n",
      "DFDVDDAKVLLGLKERSTSEPAVPPEEAEPHTEPEEQVPVEAEPQNIEDEAKEQIQSLLHEMVHAEHVEGEDLQQEDGPTGEPQQEDDEFLMATDVDDRFETLEPEVSHEETEHSYHVEETVSQDCNQ\n"
     ]
    },
    {
     "data": {
      "application/vnd.jupyter.widget-view+json": {
       "model_id": "0a29abaae8cb4f9888c2f807a6abcddb",
       "version_major": 2,
       "version_minor": 0
      },
      "text/plain": [
       "HBox(children=(IntProgress(value=0, max=1077), HTML(value='')))"
      ]
     },
     "metadata": {},
     "output_type": "display_data"
    },
    {
     "name": "stdout",
     "output_type": "stream",
     "text": [
      "\n",
      "NAELLRQAKHEANDYRRQLQSLTCDLESLRGTNESLERQMREQEERHVREAASYQEALARLEEEGQSLKDEMARHLQEYQDLLNVKLALDIEIATYRKLLEGEENRITIPVQTFSNLQIRETSLDTKS\n",
      "NAELLRQAKHEANDYRRQLQSLTCDLESLRGTNESLERQMREQEERHVREAASYQEALARLEEEGQSLKDEMARHLQEYQDLLNVKLALDIEIATYRKLLEGEENRITIPVQTFSNLQIRETSLDTKS\n"
     ]
    },
    {
     "data": {
      "application/vnd.jupyter.widget-view+json": {
       "model_id": "58a1ae44504949ac8155b02d214aa487",
       "version_major": 2,
       "version_minor": 0
      },
      "text/plain": [
       "HBox(children=(IntProgress(value=0, max=1077), HTML(value='')))"
      ]
     },
     "metadata": {},
     "output_type": "display_data"
    },
    {
     "name": "stdout",
     "output_type": "stream",
     "text": [
      "\n",
      "SKPPAPNPTPPRNLDSRTFITIGDRNFEVEADDLVTISELGRGAYGVVEKVRHAQSGTIMAVKRRRATVNSQEQKRLLMDLDINMRTVDCFYTVTFYGALFREGDVWICMELMDTSLDKFYRKVLDKN\n",
      "SKPPAPNPTPPRNLDSRTFITIGDRNFEVEADDLVTISELGRGAYGVVEKVRHAQSGTIMAVKRIRATVNSQEQKRLLMDLDINMRTVDCFYTVTFYGALFREGDVWICMELMDTSLDKFYRKVLDKN\n"
     ]
    },
    {
     "data": {
      "application/vnd.jupyter.widget-view+json": {
       "model_id": "48a7202ae98b43a6bcda3d994dc68ae3",
       "version_major": 2,
       "version_minor": 0
      },
      "text/plain": [
       "HBox(children=(IntProgress(value=0, max=1077), HTML(value='')))"
      ]
     },
     "metadata": {},
     "output_type": "display_data"
    },
    {
     "name": "stdout",
     "output_type": "stream",
     "text": [
      "\n",
      "HSQTDSLEDEEIEAFYKMLTQRVEIDRTFAEAAGSGETLSVDQLVTFLQHQQREEAAGPALALSLIERYEPSETAKAQRQMTKDGFLMYLLDASGSAFSLAHRRVYSHMGQPLSHYLVSSSHNTYLLE\n",
      "HSQTDSLEDEEIEAFYKMLTQRVEIDRTFAEAAGSGETLSVDQLVTFLQHQQREEAAGPALALSLIERYEPSETAKAQRQMTKDGFLMYLLSADGSAFSLAHRRVYQDMGQPLSHYLVSSSHNTYLLE\n"
     ]
    },
    {
     "data": {
      "application/vnd.jupyter.widget-view+json": {
       "model_id": "4ac2c54a8d174f18aa6cb267ea008de2",
       "version_major": 2,
       "version_minor": 0
      },
      "text/plain": [
       "HBox(children=(IntProgress(value=0, max=1077), HTML(value='')))"
      ]
     },
     "metadata": {},
     "output_type": "display_data"
    },
    {
     "name": "stdout",
     "output_type": "stream",
     "text": [
      "\n",
      "KPYVCDRCGKAFRNSSGLTVHKRIHTGEKPYECDECGKAYISHSSLINHKVSHQGKQPYNCECGKSFNYRSVLDQHKRIHTGKKPYRCNECGKAFNIRSNLTKHKRTHTGEESLNVIYVGSYSGTSQK\n",
      "KPYVCDRCGKAFRNSSGLTVHKRIHTGEKPYECDECGKAYISHSSLINHKSVHQGKQPYNCECGKSFNYRSVLDQHKRIHTGKKPYRCNECGKAFNIRSNLTKHKRTHTGEESLNVIYVGSYSGTSQK\n"
     ]
    },
    {
     "data": {
      "application/vnd.jupyter.widget-view+json": {
       "model_id": "aee1c2b9ff3047e8b479d6b5b4f50861",
       "version_major": 2,
       "version_minor": 0
      },
      "text/plain": [
       "HBox(children=(IntProgress(value=0, max=1077), HTML(value='')))"
      ]
     },
     "metadata": {},
     "output_type": "display_data"
    },
    {
     "name": "stdout",
     "output_type": "stream",
     "text": [
      "\n",
      "RHGSPKHTRSHTSTATQTPRAGSSSRARSRAPGPRDTDDDEEEPDPYGFIVQTAEIAEIARLSQTLVKDVAILAQEIHDVAGDGDTLGSSEPAHSASLSNMPSTPASTISAREELVQRIPEASLNFQK\n",
      "RHGSPKHTRSHTSTATQTPRAGSSSRARSRAPGPRDTDDDEEEPDPYGFIVQTAEIAEIARLSQTLVKDVAILAQEIHDVAGDGDTLGSSEPAHSASLSNMPSTPASTISAREELVQRIPEASLNFQK\n"
     ]
    },
    {
     "data": {
      "application/vnd.jupyter.widget-view+json": {
       "model_id": "fc4aa547bbcc4e3299a1d2b9c52a75c7",
       "version_major": 2,
       "version_minor": 0
      },
      "text/plain": [
       "HBox(children=(IntProgress(value=0, max=1077), HTML(value='')))"
      ]
     },
     "metadata": {},
     "output_type": "display_data"
    },
    {
     "name": "stdout",
     "output_type": "stream",
     "text": [
      "\n",
      "LLEAKEAENITTGCAEHCSLNENITVPDTKVNFYAWKRMEVGQQAVEVWQGLALLSEAVLRGQALLVNSSQPWEPLQLHVDKAVSGLRSLTTLLRALGAQKEAISPPDAASAAPLRTITADTFRKLFR\n",
      "LLEAKEAENITTGCAEHCSLNENITVPDTKVNFYAWKRMEVGQQAVEVWQGLALLSEAVLRGQALLVNSSQPWEPLQLHVDKAVSGLRSLTTLLRALGAQKEAISPPDAASAAPLRTITADTFRKLFR\n"
     ]
    },
    {
     "data": {
      "application/vnd.jupyter.widget-view+json": {
       "model_id": "09fb0d193ec447b4b9de6bb9eda83a7e",
       "version_major": 2,
       "version_minor": 0
      },
      "text/plain": [
       "HBox(children=(IntProgress(value=0, max=1077), HTML(value='')))"
      ]
     },
     "metadata": {},
     "output_type": "display_data"
    },
    {
     "name": "stdout",
     "output_type": "stream",
     "text": [
      "\n",
      "IVKKQIVKLKLPSLKSVDLVIQELINTVKKCTKKLANFPRLCEETERIVANHIREREGKTKDQVLLLIDIQVSYINTNHEDFIGFANAQQRSSQVHKKTTVGNQGTNLPPSRQIVIRKGWLTISNIGI\n",
      "IVKKQIVKLKGPSLKSVDLVIQELINTVKKCTKKLANFPRLCEETERIVANHIREREGKTKDQVLLLIDIQVSYINTNHEDFIGFANAQQRSSQVHKKTTVGNQGTNLPPSRQIVIRKGWLTISNIGI\n"
     ]
    },
    {
     "data": {
      "application/vnd.jupyter.widget-view+json": {
       "model_id": "91024ca6b5ed4db2b6ba7653a66193f2",
       "version_major": 2,
       "version_minor": 0
      },
      "text/plain": [
       "HBox(children=(IntProgress(value=0, max=1077), HTML(value='')))"
      ]
     },
     "metadata": {},
     "output_type": "display_data"
    },
    {
     "name": "stdout",
     "output_type": "stream",
     "text": [
      "\n",
      "LILDVKAEPIDDGKGLNLSFPVAANVTVAGPIIGQIINLKASLDLLTAVTIETDPTTHQPVAVLGECASDPTSISLSLLDKHSQIINKFVNSVINTLKSTVSSLLQKEICPLIRIFIHSLDVNVIQQV\n",
      "LILDVKAEPIDDGKGLNLSFPVTANVTVAGPIIGQIINLKASLDLLTAVTIETDPQTHQPVAVLGECASDPTSISLSLLDKHSQIINKFVNSVINTLKSTVSSLLQKEICPLIRIFIHSLDVNVIQQV\n"
     ]
    },
    {
     "data": {
      "application/vnd.jupyter.widget-view+json": {
       "model_id": "074fe880662240c6b7c91ebbb23d1e34",
       "version_major": 2,
       "version_minor": 0
      },
      "text/plain": [
       "HBox(children=(IntProgress(value=0, max=1077), HTML(value='')))"
      ]
     },
     "metadata": {},
     "output_type": "display_data"
    },
    {
     "name": "stdout",
     "output_type": "stream",
     "text": [
      "\n",
      "SGDKGISAFPESDNLFKWVGTIHGAAGTVYEDLRYKLSLEFPSGYPPNAPTVKFLTPCYHPNVDTQGNICLDILKEKWSALYDVRTILLSIQSLLGEPNIDSPLNTHAAELWKNPTAFKKYLQETYSK\n",
      "SGDKGISAFPESDNLFKWVGTIHGAAGTVYEDLRYKLSLEFPSGYPYNAPTVKFLTPCYHPNVDTQGNICLDILKEKWSALYDVRTILLSIQSLLGEPNIDSPLNTHAAELWKNPTAFKKYLQETYSK\n"
     ]
    },
    {
     "data": {
      "application/vnd.jupyter.widget-view+json": {
       "model_id": "3f22e58eb09243a58340ba2ab1f2285e",
       "version_major": 2,
       "version_minor": 0
      },
      "text/plain": [
       "HBox(children=(IntProgress(value=0, max=1077), HTML(value='')))"
      ]
     },
     "metadata": {},
     "output_type": "display_data"
    },
    {
     "name": "stdout",
     "output_type": "stream",
     "text": [
      "\n",
      "HSIPTGLHANLSEGRPVGPARRGASSLLGPEGFFLGKMGFREAVAAGDVDLPQVREELEAQLSCFRELLGRAPTHADGHQHVHVLPGVCQVFAEALQAYGVRFTRLPLERGVGGCTWLEAPARAFACA\n",
      "HSIPTGLHANLSEGRPVGPARRGASSLLGPEGFFLGKMGFREAVAAGDVDLPQVREELEAQLSCFRELLGRAPTHADGHQHVHVLPGVCQVFAEALQAYGVRFTRLPLERGVGGCTWLEAPARAFACA\n"
     ]
    },
    {
     "data": {
      "application/vnd.jupyter.widget-view+json": {
       "model_id": "3661338355874c069ada4c92fb0b9298",
       "version_major": 2,
       "version_minor": 0
      },
      "text/plain": [
       "HBox(children=(IntProgress(value=0, max=1077), HTML(value='')))"
      ]
     },
     "metadata": {},
     "output_type": "display_data"
    },
    {
     "name": "stdout",
     "output_type": "stream",
     "text": [
      "\n",
      "MAAFMLGSLLRTFKQMVPSAASGQVRSHYVDWRMWRDVKRRKMAYEYADERLRINSLRKNTILPKILQDVADEEIAALPRDSCPVRIRNRCVMTSRPRGVKRRWRLSRIVFRHLADHGQLSGIQRATW\n",
      "MAAFMLGSLLRTFKQMVPSSASGQVRSHYVDWRMWRDVKRRKMAYEYADERLRINSLRKNTILPKILQDVADEEIAALPRDSCPVRIRNRCVMTSRPRGVKRRWRLSRIVFRHLADHGQLSGIQRATW\n"
     ]
    },
    {
     "data": {
      "application/vnd.jupyter.widget-view+json": {
       "model_id": "b4343fb4be44435682a0aa75f77349c2",
       "version_major": 2,
       "version_minor": 0
      },
      "text/plain": [
       "HBox(children=(IntProgress(value=0, max=1077), HTML(value='')))"
      ]
     },
     "metadata": {},
     "output_type": "display_data"
    },
    {
     "name": "stdout",
     "output_type": "stream",
     "text": [
      "\n",
      "GGAAWWPEGDAKPGVGVGRLPPRLPALLTATRRAVRKRGLLRSLLPPPLLSAGASRESAPRQPGPGERERPRRRVAREDPPFLGAFLGELLPSRFREFLHQLQEKCAEEPEPLTSPAPQHQRGVLEHC\n",
      "GGAAWWPEGDAKPGVGVGRLPPRLPALLTATRRAVRKRGLLRSLLPPPLLSAGASRESAPRQPGPGERERPRRRVAREDPDFLGAFLGELLPSRFREFLHQLQEKCAEEPEPLTSPAPQHQRGVLEHC\n"
     ]
    },
    {
     "data": {
      "application/vnd.jupyter.widget-view+json": {
       "model_id": "065def520871488785e6f55546fd6b3b",
       "version_major": 2,
       "version_minor": 0
      },
      "text/plain": [
       "HBox(children=(IntProgress(value=0, max=1154), HTML(value='')))"
      ]
     },
     "metadata": {},
     "output_type": "display_data"
    },
    {
     "name": "stdout",
     "output_type": "stream",
     "text": [
      "\n",
      "SLEWLQKWLDESTPTKPIDNHACLCSHDKLPPDKISIMKRISEYAAIDFYSRYGGGPRLTVKALCKECVVERCRILRLKNQLNEDYKTVNNLLKAAVKGSDGFWVGKSSLRSWRQLALEQLDEDQGDAE\n",
      "SLEWLQKWLDESTPTKPIDNHACLCSHDKLHPDKISIMKRISEYAADIFYSRYGGGPRLTVKALCKECVVERCRILRLKNQLNEDYKTVNNLLKAAVKGSDGFWVGKSSLRSWRQLALEQLDEQDGDAE\n"
     ]
    },
    {
     "data": {
      "application/vnd.jupyter.widget-view+json": {
       "model_id": "d0186adec1ef45ddb51484b2f1f25047",
       "version_major": 2,
       "version_minor": 0
      },
      "text/plain": [
       "HBox(children=(IntProgress(value=0, max=1154), HTML(value='')))"
      ]
     },
     "metadata": {},
     "output_type": "display_data"
    },
    {
     "name": "stdout",
     "output_type": "stream",
     "text": [
      "\n",
      "ASDRFNFILASTNSDQLFVNNQNEVEGGKYGIISLRTLKIPSFHVYVLRNLYVPNRKVKSLCWASLNQLDSHVLLCFEGITDAPSCAVLLPASRFLSVHTRVNQPGMLCSFQIPEAWSCAWSLNTRAYH\n",
      "ASDRFNFILASTNSDQLFVVNQVEVEGSKYGIISLRTLKIPSFHVYVLRNLYVPNRKVKSLCWASLNQLDSHVLLCFEGITDAPSCAVLLPASRFLSVHTRVNQPGMLCSFQIPEAWSCAWSLNTRAYH\n"
     ]
    },
    {
     "data": {
      "application/vnd.jupyter.widget-view+json": {
       "model_id": "90b46b31d9854255b4a23cb78fd755c6",
       "version_major": 2,
       "version_minor": 0
      },
      "text/plain": [
       "HBox(children=(IntProgress(value=0, max=1154), HTML(value='')))"
      ]
     },
     "metadata": {},
     "output_type": "display_data"
    },
    {
     "name": "stdout",
     "output_type": "stream",
     "text": [
      "\n",
      "GILKLSQTDSATTQVSEVTAQPPEEEEEDQNEDQDVPDLTNFTVEELKQRYDSVINRLYTGIQCYSCGCRFTTSQTDVYADHLDWHYRQNRTEKDVSRKVTHRRWYYSLTDWIEFEEIADLEERAKSQQ\n",
      "GILKLSQTDSATTQVSEVTAQPPPEEEEDQNEDQDVPDLTNFTVEELKQRYDSVINRLYTGIQCYSCGMRFTTSQTDVYADHLDWHYRQNRTEKDVSRKVTHRRWYYSLTDWIEFEEIADLEERAKSQF\n"
     ]
    },
    {
     "data": {
      "application/vnd.jupyter.widget-view+json": {
       "model_id": "e4d23afd57204131887fcc4139b6f44c",
       "version_major": 2,
       "version_minor": 0
      },
      "text/plain": [
       "HBox(children=(IntProgress(value=0, max=1154), HTML(value='')))"
      ]
     },
     "metadata": {},
     "output_type": "display_data"
    },
    {
     "name": "stdout",
     "output_type": "stream",
     "text": [
      "\n",
      "AEPPFQNNSSKRRQQLKTTQLVTHRDRGSCTHRAQGLLAARTTRLQSRPLQQEWEESTTALNLPSALAPQGLTAKDAFHLGDTDPIQEGARDFAAGGPFQDRQASVAAQTLSWERGQGFSRHHGNHLLY\n",
      "AEKPHQNSCNSVRQLFKTKQLVTHRDRGSCTHRAQGLLAARTTALQRSPLQQEIWESTTALNLPSALAPQGLTAKDAHFLGDTDPIQEGARDHAAGGPFQDRQASVAAQTLSWERGQGFSRHHGNHLLY\n"
     ]
    },
    {
     "data": {
      "application/vnd.jupyter.widget-view+json": {
       "model_id": "8085c597d7ee48b484a43654f3c11b16",
       "version_major": 2,
       "version_minor": 0
      },
      "text/plain": [
       "HBox(children=(IntProgress(value=0, max=1154), HTML(value='')))"
      ]
     },
     "metadata": {},
     "output_type": "display_data"
    },
    {
     "name": "stdout",
     "output_type": "stream",
     "text": [
      "\n",
      "KRGPYQPCCQQQTSSPSRCTLLVTSSKPIWTAQKSSIYWTFDPAAGTFNIMMIIQNNQQGDYYCGGIEEEEEINTTIIISVLLAAAPPPSSPPWPPLLLLLTTLPPSSSLGGPPGSSSSSSGGKKARRR\n",
      "KRGPYQPKSWCQQTSPSRCTLLVTSSKPWTAVQKSHYTIWDKPNAGFFNITMIQLTQNDSGFYWCGIYNASENIITVLRNISLVVSPAPTTSPMWTLPWLPTSTVLITSPEGTSGHPSINGSETRKSRA\n"
     ]
    },
    {
     "data": {
      "application/vnd.jupyter.widget-view+json": {
       "model_id": "3b16a0c8ae9349d193eb37f2e694a27d",
       "version_major": 2,
       "version_minor": 0
      },
      "text/plain": [
       "HBox(children=(IntProgress(value=0, max=1154), HTML(value='')))"
      ]
     },
     "metadata": {},
     "output_type": "display_data"
    },
    {
     "name": "stdout",
     "output_type": "stream",
     "text": [
      "\n",
      "QLGLARAASGISSVGASIFSLVWVVVYTPQGTAAAGGLGLALALLWWWWVVYYWQDWWRRGLLGGGGFFFFVVLVSASAAFFFTTFLVLAITTHQLLDTTPSSSSSVEWSWFFKKWLLLLLLYYRYRRR\n",
      "QLGLRAAYSGISSVAGFSIFLVWTVVYRQPGTAAMGGLAGVLALWVLVTHVMYMQDYWRTWLKGLRGFFFVGVLFSAVSIAAFCTFLVLAITRHQSLTDPTSYYLSSVWSFISFKWAFLLSLYAHRYRA\n"
     ]
    },
    {
     "data": {
      "application/vnd.jupyter.widget-view+json": {
       "model_id": "928cae4113d14ac28683a144c67f94ad",
       "version_major": 2,
       "version_minor": 0
      },
      "text/plain": [
       "HBox(children=(IntProgress(value=0, max=1154), HTML(value='')))"
      ]
     },
     "metadata": {},
     "output_type": "display_data"
    },
    {
     "name": "stdout",
     "output_type": "stream",
     "text": [
      "\n",
      "GPHPCPKPVVAPKLRLSGWWWLKKQLLEEAPEPPCPEERQSLEPEVPTTEEQPVPAPTEQEVPALTAPRARRRRRSRWDDVAALRCSVEAAQGRLAGPSGGETHPASLRTLLFLYRPRFRAKKLQEATR\n",
      "GPHPCPVPKVAPKPRLSGWTWLKKQLLEEAPEPPCPEPRQSLEPEVPTPTEQEVPAPTEQEVPALTAPRAPASRTSRMWDAVLYRMSVAEAQGRLAGPSGGEHTPASLTRLPFLYRPRFNARKLQEATR\n"
     ]
    },
    {
     "data": {
      "application/vnd.jupyter.widget-view+json": {
       "model_id": "0dce782bc5664c248af101c542170f09",
       "version_major": 2,
       "version_minor": 0
      },
      "text/plain": [
       "HBox(children=(IntProgress(value=0, max=1154), HTML(value='')))"
      ]
     },
     "metadata": {},
     "output_type": "display_data"
    },
    {
     "name": "stdout",
     "output_type": "stream",
     "text": [
      "\n",
      "TFTYIPNNNAAGASSFSTTALDPDSKEIIQIIESLAETQQQVKPSLSYNIISSTTVVSYRLASDYFEQQELQMMQQTASDSGDPNPSSLTSSSLVFLDQNDNAPEILYPALPTDGSTGVELAPRSAEPG\n",
      "YFTYIPENNARGASIFSVTALDPDSKENAQIIYSLAEDTIQGVPLSSYISINSDTGVLYALRSFDYEQFHELQMQVTASDSGDPPLSSNVSLSLFVLDQNDNAPEILYPALPTDGSTGVELAPRSAEPG\n"
     ]
    },
    {
     "data": {
      "application/vnd.jupyter.widget-view+json": {
       "model_id": "61e7352669c044269bd0e2c0bd962d48",
       "version_major": 2,
       "version_minor": 0
      },
      "text/plain": [
       "HBox(children=(IntProgress(value=0, max=1154), HTML(value='')))"
      ]
     },
     "metadata": {},
     "output_type": "display_data"
    },
    {
     "name": "stdout",
     "output_type": "stream",
     "text": [
      "\n",
      "KEFWIALLDSAGPLPDTPPPEISSFEFTTGFTLYGMLYKPHQDDPGKKYPTVFLYIGLVQVQQNNNKKFFGGYFRLNTLASLGYVVVVIDNRGSCFRGLKFEGAFYYKMGQIEIDDQVEGLQYLASYYD\n",
      "KEFWATILDSAGPLPDYTPPEIFSFESTTGFTLYGMLYKPHDLQPGKKYPTVLFIYGGPQVQLVNNRFKGVKYFRLNTLASLGYVVVVIDNRGSCHRGLKFEGAFKYKMGQIEIDDQVEGLQYLASRYD\n"
     ]
    },
    {
     "data": {
      "application/vnd.jupyter.widget-view+json": {
       "model_id": "12daf0b029474cf699f42e8dfbce4bc5",
       "version_major": 2,
       "version_minor": 0
      },
      "text/plain": [
       "HBox(children=(IntProgress(value=0, max=1154), HTML(value='')))"
      ]
     },
     "metadata": {},
     "output_type": "display_data"
    },
    {
     "name": "stdout",
     "output_type": "stream",
     "text": [
      "\n",
      "GTVGGPLLEVLRRRQQCKEGGTTTGGAALSLDDVSSPPKSPEGGTSAQTTPSKIPRYKGQGKKKTSGQKAGDKKANDEANQDDTSVSLSEPKSKSSLHLLSHETGIGSFLSNRTLDGKDGAKLCPDEDD\n",
      "GTVGGPLLLEVIRRCQQKEKGPTTGEGALDLSDVHSPPKSPEGKTSAQTTPSKIPRYKGQGKKKTSGQKAGDKKANDEANQSDTSVSLSEPKSKSSLHLLSHETKIGSFLSNRTLDGKDKAGLCPDEDD\n"
     ]
    },
    {
     "data": {
      "application/vnd.jupyter.widget-view+json": {
       "model_id": "16efe65b0a3148deb97d8f8e665c3349",
       "version_major": 2,
       "version_minor": 0
      },
      "text/plain": [
       "HBox(children=(IntProgress(value=0, max=1154), HTML(value='')))"
      ]
     },
     "metadata": {},
     "output_type": "display_data"
    },
    {
     "name": "stdout",
     "output_type": "stream",
     "text": [
      "\n",
      "LEGHCLVRVVAEELERVRIIPHTVLAMASSEFFISLEEKYGHCRARKRTSMETALALEKLFPKFQQVLGIVTPGIVVTPMGGSSNRNQEIIIGGEGFLAFPPQIEGIKIQPHFFIKDPKNLTLERHQLT\n",
      "LEGHCLVRVVAEELENVRILPHTVLYMADSETFISLEECRGHKRARKRTSMETALALEKLFPKQCQVLGIVTPGIVVTPMGSGSNRPQEIEIGESGFALLFPQIEGIKIQPFHFIKDPKNLTLERHQLT\n"
     ]
    },
    {
     "data": {
      "application/vnd.jupyter.widget-view+json": {
       "model_id": "c349568b1ade4e2ba7312eb058c4369b",
       "version_major": 2,
       "version_minor": 0
      },
      "text/plain": [
       "HBox(children=(IntProgress(value=0, max=1154), HTML(value='')))"
      ]
     },
     "metadata": {},
     "output_type": "display_data"
    },
    {
     "name": "stdout",
     "output_type": "stream",
     "text": [
      "\n",
      "IYRLYHSCADPTCGGTGPDARWWDYQACTIINNFAASSNVTDMFPLLPFTDELRQYYCLDTWGVWPRPDWLLTSFWGGDLRAASNIIFSNGNLDPIAGGGIRRNLSASVIAVTIQGGAHHLDLRASHPE\n",
      "IYRLYHSCADPTGCGTGPDARAWDYQACTEINLTFASNNVTDMFPDLPFTDELRQRYCLDTWGVWPRPDWLLTSFWGGDLRAASNIIFSNGNLDPWAGGGIRRNLSASVIAVTIQGGAHHLDLRASHPE\n"
     ]
    },
    {
     "data": {
      "application/vnd.jupyter.widget-view+json": {
       "model_id": "6474120536c6402dbd904ba162c3f2df",
       "version_major": 2,
       "version_minor": 0
      },
      "text/plain": [
       "HBox(children=(IntProgress(value=0, max=1154), HTML(value='')))"
      ]
     },
     "metadata": {},
     "output_type": "display_data"
    },
    {
     "name": "stdout",
     "output_type": "stream",
     "text": [
      "\n",
      "VAILRDAEFYEHRKEERCSRVWGTTCTKHPHIKMVMESGDWVVGGDLQVLEKIRWDDGLDQYRLTLLELKQKCKEMNAADVFMFQLRNPVHNGQALLMQDTRRRLLEEGYKHPVLLLHPLGGWTKDDDV\n",
      "VAILRDAEFYEHRKEERCSRVWGTTCTKHPHIKMVMESGDWLVGGDLQVLEKIRWNDGLDQYRLTPLELKQKCKEMNADAVFAFQLRNPVHNGHALLMQDTRRRLLERGYKHPVLLLHPLGGWTKDDDV\n"
     ]
    },
    {
     "data": {
      "application/vnd.jupyter.widget-view+json": {
       "model_id": "4f195a58feee4c43b2210312b5ecb7a7",
       "version_major": 2,
       "version_minor": 0
      },
      "text/plain": [
       "HBox(children=(IntProgress(value=0, max=1154), HTML(value='')))"
      ]
     },
     "metadata": {},
     "output_type": "display_data"
    },
    {
     "name": "stdout",
     "output_type": "stream",
     "text": [
      "\n",
      "IKDSLLVLTWKKLLDDFNRIFWCGQSKLAERVRRDWEEDAGLGYQFLNGANNVVLRRSAHLPARLVFPPGMEELQAQLEKELEGGFLTEDDFSLLDGIKANVILCSQHHLAAPLVMLKLQPDGKLLPMV\n",
      "IKDSLNVLTCWKDLDDFNRIFWCGQSKLAERVRDSWKEDALFGYQFLNGANPVVLRRSAHLPARLVFPPGMEELQAQLEKELEGGTLFEADFSLLDGIKANVILCSQQHLAAPLVMLKLQPDGKLLPMV\n"
     ]
    },
    {
     "data": {
      "application/vnd.jupyter.widget-view+json": {
       "model_id": "930f4b00d78344b0ae9e027f15ae9c03",
       "version_major": 2,
       "version_minor": 0
      },
      "text/plain": [
       "HBox(children=(IntProgress(value=0, max=1154), HTML(value='')))"
      ]
     },
     "metadata": {},
     "output_type": "display_data"
    },
    {
     "name": "stdout",
     "output_type": "stream",
     "text": [
      "\n",
      "RSSHLIGHQRIHTGEKPYECNECGKTFRQTSQLIVHLRTHTGEKPYECSECGKAYRHSSHLIHHQRLHNGEKPYKCNECAKAFTQSSRLTDHQRTHTGEKPYECNECGEAFIRSKSLARHQVLHPGKKP\n",
      "RSSHLIGHQRIHTGEKPYECNECGKTFRQTSQLIVHLRTHTGEKPYECSECGKAYRHSSHLIQHQRLHNGEKPYKCNECAKAFTQSSRLTDHQRTHTGEKPYECNECGEAFIRSKSLARHQVLHTGKKP\n"
     ]
    },
    {
     "data": {
      "application/vnd.jupyter.widget-view+json": {
       "model_id": "cfe6ddfbcbe843c29fbf9d662db55579",
       "version_major": 2,
       "version_minor": 0
      },
      "text/plain": [
       "HBox(children=(IntProgress(value=0, max=1154), HTML(value='')))"
      ]
     },
     "metadata": {},
     "output_type": "display_data"
    },
    {
     "name": "stdout",
     "output_type": "stream",
     "text": [
      "\n",
      "VVCPVSVTRPGFESLFFCQYFASLWNIGISVFIQDGPVLVVRLILFYTMKFINQMLVFFAAKNFLVVVLQLYRLVVLALAVRASLRSQSEGLKGEHGCRATTSESGSPSRDWQNESKEGLAIPLRGSPV\n",
      "VVCPVSVTERGFPSLFFCQYSADLWNIGISVFIQDGPFLVVRLILMTYFKVINQMLVFFAAKNFLVVVLQLYRLVVLALAVRASLRSQSEGLKGEHGCRAQTSESGPSQRDWQNESKEGLAIPLRGSPV\n"
     ]
    },
    {
     "data": {
      "application/vnd.jupyter.widget-view+json": {
       "model_id": "891dd91d6c62409d877debd85dd88f85",
       "version_major": 2,
       "version_minor": 0
      },
      "text/plain": [
       "HBox(children=(IntProgress(value=0, max=1154), HTML(value='')))"
      ]
     },
     "metadata": {},
     "output_type": "display_data"
    },
    {
     "name": "stdout",
     "output_type": "stream",
     "text": [
      "\n",
      "INKKCFFEEGGGFPDLGSEYSTRKNSQDIIYNSYMDDDEHGSSSESEDEALGKYHEALRSTRNSRLLLADSQQRPAAWETRQKYSELSAAEYDGSYEASIDEGNCIQRMRRTPPLDELQPPPYQDDSGG\n",
      "INKKFCFENVGGFPDLGSEYSTRKNSQDKIYNSYMDKDEHGSSSESEDEALGKYHEALSRTHNSRLPLADSRQRNYAWETRQKYSPLSAEYDGYSSEASIDEGNCIQRMRRTPPLDELQPPPYQDDSGS\n"
     ]
    },
    {
     "data": {
      "application/vnd.jupyter.widget-view+json": {
       "model_id": "d99473c8e9fe431cad208abfb681ff84",
       "version_major": 2,
       "version_minor": 0
      },
      "text/plain": [
       "HBox(children=(IntProgress(value=0, max=1154), HTML(value='')))"
      ]
     },
     "metadata": {},
     "output_type": "display_data"
    },
    {
     "name": "stdout",
     "output_type": "stream",
     "text": [
      "\n",
      "SPAPTNTGGKKDESQHTESMVLQSSRGIKVEGCVRMYELVHMMKGTEGLRLWQEEQERKVQALSEMASEQLKRFDEWKELKQHKEFQDLREVMEKSSREAGGHQEKLKAEHRHRAKILNLKLREAQEQR\n",
      "SPATPNGTKGKDESQHTESMVLQSSRGIKVEGCVRMYELVHRMKGTEGLRLWQEEQERKVQALSEMASEQLKRFDEWKELKQHKEFQDLREVMEKSSREALGHQEKLKAEHRHRAKILNLKLREAEQQR\n"
     ]
    },
    {
     "data": {
      "application/vnd.jupyter.widget-view+json": {
       "model_id": "c957f46f25534e1d8ab2b2c5149f4c30",
       "version_major": 2,
       "version_minor": 0
      },
      "text/plain": [
       "HBox(children=(IntProgress(value=0, max=1154), HTML(value='')))"
      ]
     },
     "metadata": {},
     "output_type": "display_data"
    },
    {
     "name": "stdout",
     "output_type": "stream",
     "text": [
      "\n",
      "CIICCSAYDLHGLLPRRLRCHHTFCQACVRRLDTPAPEQRWIPCRQCPQDTTTPRGGVAMLDLDLAAFLAVKAERERPRREPLPLTSLKGSAIRRQPAGLCPALGPQPHHPQPRYCWWGCGSLCCPPLG\n",
      "CIICCSAYDLSGHLPRRLYCGHTFCQACVRRLDTPAPEQRWIPCPQCRQSTPTPRGGVAMLDLDLAAFLAVKAEREPARLEPLPLTSLKGSAITRQPAGLCPALGPQPHFPQPRYCCWGCGSLCCPPLG\n"
     ]
    },
    {
     "data": {
      "application/vnd.jupyter.widget-view+json": {
       "model_id": "298f594cb0374cf0baa3768e4bb1f956",
       "version_major": 2,
       "version_minor": 0
      },
      "text/plain": [
       "HBox(children=(IntProgress(value=0, max=1154), HTML(value='')))"
      ]
     },
     "metadata": {},
     "output_type": "display_data"
    },
    {
     "name": "stdout",
     "output_type": "stream",
     "text": [
      "\n",
      "GIRHVIEIHIVHYNSKYKSYDIAQDAPDGLAVLAAFEEVKYYPNNTYYFNFISHLAQIKYPGQRTTLTGLDVQDMLPRNLQHYYTYHGSLTTPPVTENCHWFVLADFVKLSRTQVWKLENSLLDHRNKT\n",
      "GIRHVIEIHIVHYNSKYKSYDIAQDAPDGLAVLAAFVEVKNYPENTYYSNFISHLANIKYPGQRTTLTGLDVQDMLPRNLQHYYTYHGSLTTPPCTENVHWFVLADFVKLSRTQVWKLENSLLDHRNKT\n"
     ]
    },
    {
     "data": {
      "application/vnd.jupyter.widget-view+json": {
       "model_id": "83ca793439944a00a629eead28ddbe1b",
       "version_major": 2,
       "version_minor": 0
      },
      "text/plain": [
       "HBox(children=(IntProgress(value=0, max=1154), HTML(value='')))"
      ]
     },
     "metadata": {},
     "output_type": "display_data"
    },
    {
     "name": "stdout",
     "output_type": "stream",
     "text": [
      "\n",
      "NALALLSGSYVTLVFYRTTFSNTIEGLLFTWLLVLVSSHVTWGPTRKEAAPGPRWRSWLLGGIVAAGFFNRTPLLAFAVVPLYLWGTRGATNPGLKSLTREALVLLPGAALTAAVFVATDSWYFSSPAT\n",
      "NALALLSGSYVTLVFYTRTFSNTIEGLLFTWLLVLVSSHVTWGPTRKEPAPGPRWRSWLLGGIVAAGFFNRPTFLAFAVVPLYLWGTRGATNPGLKSLTREALVLLPGAALTAAVFVATDSWYFSSPAT\n"
     ]
    },
    {
     "data": {
      "application/vnd.jupyter.widget-view+json": {
       "model_id": "b588cfe109954afe8e87351a736a2d70",
       "version_major": 2,
       "version_minor": 0
      },
      "text/plain": [
       "HBox(children=(IntProgress(value=0, max=1154), HTML(value='')))"
      ]
     },
     "metadata": {},
     "output_type": "display_data"
    },
    {
     "name": "stdout",
     "output_type": "stream",
     "text": [
      "\n",
      "FDVVVVWGELVTLDDVPPPGTSDEHMATEEALRRPQPLLALVVTTPQAVDVGSVRRTLEFCTKRGLRVMGIVENMSGTFCPHCTEETSVFSRGGGEELAQLAGVPFLGSVPLDPALMRTLEEGDDFIQE\n",
      "FVSDVAWGELDYLVVDTPPGTSDEHMATIEALRPYQPLGALVVTTPQAVSVGDVRRELTFCRKTGLRVMGIVENMSGFTCPHCTECTSVFSRGGGEELAQLAGVPFLGSVPLDPALMRTLEEGHDFIQE\n"
     ]
    },
    {
     "data": {
      "application/vnd.jupyter.widget-view+json": {
       "model_id": "d1e97704c91b455ba0f0001ef62d8f4a",
       "version_major": 2,
       "version_minor": 0
      },
      "text/plain": [
       "HBox(children=(IntProgress(value=0, max=1154), HTML(value='')))"
      ]
     },
     "metadata": {},
     "output_type": "display_data"
    },
    {
     "name": "stdout",
     "output_type": "stream",
     "text": [
      "\n",
      "TGLQYRDFIHVSFHDKVYPLPFLVALDHRKESVVVAVRGTMSLQVVLTDLSAEVEVLDVECEVQDRLAHKGISQAARVVYQRLINDGILSQAFSIAPEYRLVIVGHSLGGGAAALLATMLRAAYPQVRC\n",
      "TGLQYRDFIHVSFHDKVYELPFLVALDHRKESVVVAVRGTMSLQDVLTDLSAESEVLDVECEVQDRLAHKGISQAARYVYQRLINDGILSQAFSIAPEYRLVIVGHSLGGGAAALLATMLRAAYPQVRC\n"
     ]
    },
    {
     "data": {
      "application/vnd.jupyter.widget-view+json": {
       "model_id": "caf1af69ddde403680866855c97b70af",
       "version_major": 2,
       "version_minor": 0
      },
      "text/plain": [
       "HBox(children=(IntProgress(value=0, max=1154), HTML(value='')))"
      ]
     },
     "metadata": {},
     "output_type": "display_data"
    },
    {
     "name": "stdout",
     "output_type": "stream",
     "text": [
      "\n",
      "FPQALNIGMGIVTTLYVTLATLYYMCFHDEIKGSITLNLPQDVWLYQSVKILYSFGIFVTYSIQFYVPEAIIPPGITSKFHTKWKQICEFGIRSFLVSITCAGAILIRRLDIVISFVGAVSSSTLALIL\n",
      "FPQALNIGMGIVTTLYVTLATLGYMCFHDEIKGSITLNLPQDVWLYQSVKILYSFGIFVTYSIQFYVPAEIIIPGITSKFHTKWKQICEFGIRSFLVSITCAGAILIPRLDIVISFVGAVSSSTLALIL\n"
     ]
    },
    {
     "data": {
      "application/vnd.jupyter.widget-view+json": {
       "model_id": "58d779e1f1764845937aec5985f09926",
       "version_major": 2,
       "version_minor": 0
      },
      "text/plain": [
       "HBox(children=(IntProgress(value=0, max=1154), HTML(value='')))"
      ]
     },
     "metadata": {},
     "output_type": "display_data"
    },
    {
     "name": "stdout",
     "output_type": "stream",
     "text": [
      "\n",
      "LLLWCSGPVAAAGGVVVSEAYADGIEGIDILVACSSSMPVCFNKLWGTTLFMAGFFTPGSMMVGIYGFIFAVSRKHHHAINNLRENQNNQVKKDKKAAKTLGIVIGVFLLCWCPFVVTILLDPFLNFST\n",
      "LLLCWSVPGAFAFGVVFSEAYADGIEGYDILVACSSSCPVMFNKLWGTTLFMAGFFTPGSMMVGIYGKIFAVSRKHAHAINNLRENQNNQVKKDKKAAKTLGIVIGVFLLCWFPCFFTILLDPFLNFST\n"
     ]
    },
    {
     "data": {
      "application/vnd.jupyter.widget-view+json": {
       "model_id": "0511692db58a47e2b0bcca58872df901",
       "version_major": 2,
       "version_minor": 0
      },
      "text/plain": [
       "HBox(children=(IntProgress(value=0, max=1154), HTML(value='')))"
      ]
     },
     "metadata": {},
     "output_type": "display_data"
    },
    {
     "name": "stdout",
     "output_type": "stream",
     "text": [
      "\n",
      "GGCSSSCGGCGSRCYVPVCCCKPVCSWVPACSCTSCCSCGGSKGGCGSCGGSKGGCGSCGGSKGGCGSCGCSQSSCCKPCCCSSGCGSSCCQSSCCKPCCCQSSCCSVVCCQSSCCKKCCCQSNCCVPV\n",
      "GGCSSSCGGCGSRCYVPVCCCKPVCSWVPACSCTSCGSCGGSKGGCGSCGGSKGGCGSCGGSKGGCGSCGCSQSSCCKPCCCSSGCGSSCCQSSCCKPCCCQSSCCVPVCCQSSCCKPCCCQSNCCVPV\n"
     ]
    },
    {
     "data": {
      "application/vnd.jupyter.widget-view+json": {
       "model_id": "256d0f8996264b40b6e763d51a1f86a0",
       "version_major": 2,
       "version_minor": 0
      },
      "text/plain": [
       "HBox(children=(IntProgress(value=0, max=1154), HTML(value='')))"
      ]
     },
     "metadata": {},
     "output_type": "display_data"
    },
    {
     "name": "stdout",
     "output_type": "stream",
     "text": [
      "\n",
      "ALKVKRPRFDSVLVYLTRKFMDLVRSAPGGILDLNKVATKLGVRKRRVYDITNVLDGIDLVEKKSKNHIRWIGSDLSNFGAVPQQKKLQEELSDLSAMEDALDELIKDCAQQLFELTDDKENERLAYVT\n",
      "ALKVKRPRFDVSLVYLTRKFMDLVRSAPGGILDLNKVATKLGVRKRRVYDITNVLDGIDLVEKKSKNHIRWIGSDLSNFGAVPQQKKLQEELSDLSAMEDALDELIKDCAQQLFELTDDKENERLAYVT\n"
     ]
    },
    {
     "data": {
      "application/vnd.jupyter.widget-view+json": {
       "model_id": "40046cb885804be29a65f279b72a623d",
       "version_major": 2,
       "version_minor": 0
      },
      "text/plain": [
       "HBox(children=(IntProgress(value=0, max=1154), HTML(value='')))"
      ]
     },
     "metadata": {},
     "output_type": "display_data"
    },
    {
     "name": "stdout",
     "output_type": "stream",
     "text": [
      "\n",
      "KESPNPNNSSQQCIIYCNWLKHKNYYDDVLLLSQFIRPHGGMLPRKITGLCQEEHRKIEECVKMARAAGLLPNHRPRLPEGVVPKSKQPPLRTTLLWAPSSVKPIYKKGPRNNRVAMPVGSPLLRDNVC\n",
      "KESPNPPNPSGQCPICRWNLKHKYNYDDVLLLSQFIRPHGGMLPRKITGLCQEEHRKIEECVKMAHRAGLLPNHRPRLPEGVVPKSKPQLNRYLTRWAPGSVKPIYKKGPRWNRVRMPVGSPLLRDNVC\n"
     ]
    },
    {
     "data": {
      "application/vnd.jupyter.widget-view+json": {
       "model_id": "8ef5924f2a4d4fa8ac549991f0b81dd5",
       "version_major": 2,
       "version_minor": 0
      },
      "text/plain": [
       "HBox(children=(IntProgress(value=0, max=1154), HTML(value='')))"
      ]
     },
     "metadata": {},
     "output_type": "display_data"
    },
    {
     "name": "stdout",
     "output_type": "stream",
     "text": [
      "\n",
      "AADSPGSGLADEAAEDSGEEGAPEPAPGGQPRKCCFSEEVTSTELSSGDQSHKMGDRASERDTGESKAGIAASVSILENSSERTSREQEQHRFSMDLKMPAFHPKQEVPVPGDGVEFPSSTGAEGQTGH\n",
      "AADSPGSGLADEAAEDSGEEGAPEPAPGGQPRRCCFSEEVTSTELSSGDQSHKMGDNASERDTGESKAGIAASVSILENSSRETSRRQEQHRFSMDLKMPAFHPKQEVPVPGDGVEFPSSTGAEGQTGH\n"
     ]
    },
    {
     "data": {
      "application/vnd.jupyter.widget-view+json": {
       "model_id": "1185209ae03240cbafdb96716a9091ad",
       "version_major": 2,
       "version_minor": 0
      },
      "text/plain": [
       "HBox(children=(IntProgress(value=0, max=1154), HTML(value='')))"
      ]
     },
     "metadata": {},
     "output_type": "display_data"
    },
    {
     "name": "stdout",
     "output_type": "stream",
     "text": [
      "\n",
      "LLFLQLVLGPTLVMDIKQMIGSRNFYTLSIDYPRVPYPKGFRGYCNGLMSYMRGKMQNSDCPKIHYVIHAPWKAIQKFCKYSDSFCENNNEYCTLTQDSLPITVCSLSQHQPPTSCYYNSTNLLQKLYL\n",
      "LLFLQLVLGPTLVMDIKMQIGSRNFYTLSIDYPRVNYPKGFRGYCNGLMSYMRGKMQNSDCPKIHYVIHAPWKAIQKFCKYSDSFCENYNEYCTLTQDSLPITVCSLSHQQPPTSCYYNSTLTNQKLYL\n"
     ]
    },
    {
     "data": {
      "application/vnd.jupyter.widget-view+json": {
       "model_id": "9f157538cd2448d7b6cbbfb3019bf64b",
       "version_major": 2,
       "version_minor": 0
      },
      "text/plain": [
       "HBox(children=(IntProgress(value=0, max=1154), HTML(value='')))"
      ]
     },
     "metadata": {},
     "output_type": "display_data"
    },
    {
     "name": "stdout",
     "output_type": "stream",
     "text": [
      "\n",
      "APALAPDQLPNNNLLVLLPIVAIENILSFMSYDEISQLRLVCKRMDLVCQRMLNQGQLKVERYHNLCQKQVKAQLPRRESERRNHSLHRAAADALAVAERTSLLNMTDKMRVDSLLCCFIPGKVIDEIY\n",
      "APALAPDQLPQNNTLVALPIVAIENILSFMSYDEISQLRLVCKRMDLVCQRMLNQGFLKVERYHNLCQKQVKAQLPRRESERRNHSLARHADILAAVETRLSLLNMTFMKYVDSNLCCFIPGKVIDEIY\n"
     ]
    },
    {
     "data": {
      "application/vnd.jupyter.widget-view+json": {
       "model_id": "ea7584b86ed1417ab9a2f2e91bc2e725",
       "version_major": 2,
       "version_minor": 0
      },
      "text/plain": [
       "HBox(children=(IntProgress(value=0, max=1154), HTML(value='')))"
      ]
     },
     "metadata": {},
     "output_type": "display_data"
    },
    {
     "name": "stdout",
     "output_type": "stream",
     "text": [
      "\n",
      "DNLELEVNSQWENGANLDDPLKGALKKLIHAAKLNVSLEKKLEENRHIIIQLSEVDKTKEELTEHIKNLQQQQASLQSENIYFESENQKLQQKLKIMTEFYQENEMKLYRKLTVEENYRIEEEEKLSRV\n",
      "DNLELEVNSQWENGANLDDPLKGALKKLIHAAKLNVSLKSLEGERNHIIIQLSEVDKTKEELTEHIKNLQTQQASLQSENIYFESENQKLQQKLKIMTEFYQENEMKLYRKLTVEENYRIEEEEKLSRV\n"
     ]
    },
    {
     "data": {
      "application/vnd.jupyter.widget-view+json": {
       "model_id": "a013730b42694438810485edb5473e39",
       "version_major": 2,
       "version_minor": 0
      },
      "text/plain": [
       "HBox(children=(IntProgress(value=0, max=1154), HTML(value='')))"
      ]
     },
     "metadata": {},
     "output_type": "display_data"
    },
    {
     "name": "stdout",
     "output_type": "stream",
     "text": [
      "\n",
      "GLCKMISWMYLVGFYSGIFFVMLMSIDRYLAIVHAVFSLRARTLTYGVITSAATWSVAVFASLPGFLFSTCYTRNNHTYCKTKYSLNSTTICVLSSLEINILGLVIPLGIMLFCYSMIIRTLQHCKNEK\n",
      "GLCKMISWMYLVGFYSGIFFVMLMSIDRYLAIVHAVFSLRARTLTYGVITSLATWSVAVFASLPGFLFSTCYTERNHTYCKTKYSLNSTTWKVLSSLEINILGLVIPLGIMLFCYSMIIRTLQHCKNEK\n"
     ]
    },
    {
     "data": {
      "application/vnd.jupyter.widget-view+json": {
       "model_id": "9a970638abd3408d8a1931a97eb360aa",
       "version_major": 2,
       "version_minor": 0
      },
      "text/plain": [
       "HBox(children=(IntProgress(value=0, max=1154), HTML(value='')))"
      ]
     },
     "metadata": {},
     "output_type": "display_data"
    },
    {
     "name": "stdout",
     "output_type": "stream",
     "text": [
      "\n",
      "DRRRELFGKDEQSRIQKDLANIKKTAATAGIIGWVYGGIPAFIHAKQQYIEQSQAEINHYFDRAVQHSSRAATRGFIRYGWWRGWWTAVFVTIFNTVNTSLNVYRNKDALSHVTIAGAVTGSLFRINVG\n",
      "DRLRELFGKDEQQRISKDLANICKTAATAGIIGWVYGGIPAFIHAKQQYIEQSQAEIYHNRFDAVQSAHRAATRGFIRYGWRWGWRTAVFVTIFNTVNTSLNVYRNKDALSHFVIAGAVTGSLFRINVG\n"
     ]
    },
    {
     "data": {
      "application/vnd.jupyter.widget-view+json": {
       "model_id": "b8eef0007bc14bdf8ee5250a0d80642d",
       "version_major": 2,
       "version_minor": 0
      },
      "text/plain": [
       "HBox(children=(IntProgress(value=0, max=1154), HTML(value='')))"
      ]
     },
     "metadata": {},
     "output_type": "display_data"
    },
    {
     "name": "stdout",
     "output_type": "stream",
     "text": [
      "\n",
      "QLPGHCCQTCPQERSSSERQPSGLSFEYPRDPEHRSYSDRGPEGAEERARGDGHTDFVALLTGPRSQAVARARVSLLRSSLRFSISYRRLDRPTRIRFSDSNGSVLFEHPAAPTQDGLCVGVWRAVPRL\n",
      "QLPGHCCQTCPQERSSSERQPSGLSFEYPRDPEHRSYSDRGEPGAEERARGDGHTDFVALLTGPRSQAVARARVSLLRSSLRFSISYRRLDRPTRIRFSDSNGSVLFEHPAAPTQDGLVCGVWRAVPRL\n"
     ]
    },
    {
     "data": {
      "application/vnd.jupyter.widget-view+json": {
       "model_id": "d8f08b1d2c684380a159a2b7f229ec38",
       "version_major": 2,
       "version_minor": 0
      },
      "text/plain": [
       "HBox(children=(IntProgress(value=0, max=1154), HTML(value='')))"
      ]
     },
     "metadata": {},
     "output_type": "display_data"
    },
    {
     "name": "stdout",
     "output_type": "stream",
     "text": [
      "\n",
      "CNTDDFCKEYQKCCFFCCQKKCMDPFQPPCMLLVRHGNCNHEAQRMHFDFKNYRCTPFKYRGCEGNNNNFLNEDACRTACMLIVKDGQCPLFPFTERKECPPSCHSDIDCPQTKKCCESRCGFVCARAW\n",
      "CNTDFDCKEYQKCCFFACQKKCMDPFQEPCMLPVRHGNCNHEAQRWHFDFKNYRCTPFKYRGCEGNANNFLNEDACRTACMLIVKDGQCPLFPFTERKECPPSCHSDIDCPQTDKCCESRCGFVCARAW\n"
     ]
    },
    {
     "data": {
      "application/vnd.jupyter.widget-view+json": {
       "model_id": "d6dbf02bde5c45a99b308514aea340e5",
       "version_major": 2,
       "version_minor": 0
      },
      "text/plain": [
       "HBox(children=(IntProgress(value=0, max=1154), HTML(value='')))"
      ]
     },
     "metadata": {},
     "output_type": "display_data"
    },
    {
     "name": "stdout",
     "output_type": "stream",
     "text": [
      "\n",
      "GDPSKLSCLGLTEDSFYRTANSEHEEGEKWKWWTSQRAFVALYVASHRGFFDAVQYLLEHGASCLSRSPLGRTPLHVAAAMGRSDCIILLLQHGASIHDRDAKGETPIIIAHRLNHTLSREQMVLLHRI\n",
      "GDPSKLSCLGLTEDSFYRTANSEHFEGEKWKHWTSQRAFVALYVASHRGHFDAVQYLLEHGASCLSRSPLGRTPLHVAAAMGRSDCIILLLQHGASIHDRDAKGETPISIAHRLNHTLSERQMVLLHRI\n"
     ]
    },
    {
     "data": {
      "application/vnd.jupyter.widget-view+json": {
       "model_id": "7a5d6c27d8aa40998a058e1f032a552c",
       "version_major": 2,
       "version_minor": 0
      },
      "text/plain": [
       "HBox(children=(IntProgress(value=0, max=1154), HTML(value='')))"
      ]
     },
     "metadata": {},
     "output_type": "display_data"
    },
    {
     "name": "stdout",
     "output_type": "stream",
     "text": [
      "\n",
      "QLLVLLKLDEDLHVKHPRLLTFASQLKAGGKLTIVSGVVIGNFLENYGELLAAEQTIKHLMEAEKVKGFCQLVVAAKLREGISHLIQSCGLGMGKHHTVVMGWPNGWRQSEDARAWKTFIGTVRVTTAA\n",
      "QLLVLLKLDEDLHVKHPRLLTFASQLKAGKGLTIVGSVIVGNFLENYGEALAAEQTIKHLMEAEKVKGFCQLVVAAKLREGISHLIQSCGLGGMKHNTVVMGWPNGWRQSEDARAWKTFIGTVRVTTAA\n"
     ]
    },
    {
     "data": {
      "application/vnd.jupyter.widget-view+json": {
       "model_id": "99828c1b992247689f3664d1f15dd108",
       "version_major": 2,
       "version_minor": 0
      },
      "text/plain": [
       "HBox(children=(IntProgress(value=0, max=1154), HTML(value='')))"
      ]
     },
     "metadata": {},
     "output_type": "display_data"
    },
    {
     "name": "stdout",
     "output_type": "stream",
     "text": [
      "\n",
      "GHVTFEDIAVYFSQEEWGLLDYAQCRLYDVMMLENFSLMASVGCLHGIEAEEAPSEQTLSAQGVSQARTPKLGPSIPNAHSCEMCILVMDKILYLSEHQGTLPWQKPYTSVASGKWFSFGSNLQQHQNQ\n",
      "GHVTFEDIAVYFSQEEWGLLDEAQRCLYHDVMLENFSLMASVGCLHGIEAEEAPSEQTLSAQGVSQARTPKLGPSIPNAHSCEMCILVMKDILYLSEHQGTLPWQKPYTSVASGKWFSFGSNLQQHQNQ\n"
     ]
    },
    {
     "data": {
      "application/vnd.jupyter.widget-view+json": {
       "model_id": "25026bf31bc84798af5cef8ae145f78e",
       "version_major": 2,
       "version_minor": 0
      },
      "text/plain": [
       "HBox(children=(IntProgress(value=0, max=1154), HTML(value='')))"
      ]
     },
     "metadata": {},
     "output_type": "display_data"
    },
    {
     "name": "stdout",
     "output_type": "stream",
     "text": [
      "\n",
      "PESDYPLVDEPGKHRESKDNFLKSVLLTFNKILTMERIHHYNMSTSLNPMRKKSYKSFEKCLPPNLDLLKYNRSYTVENAYECSECGKAFKKKFHFIRHEKNHTRKKPFECNDCGKAYSRKAHLATHQK\n",
      "PESDYPLVDEPGKHRESKDNFLKSVLLTFNKILTMERIHHYNMSTSLNPMRKKSYKSFEKCLPPNLDLLKYNRSYTVENAYECSECGKAFKKKFHFIRHEKNHTRKKPFECNDCGKAYSRKAHLATHQK\n"
     ]
    },
    {
     "data": {
      "application/vnd.jupyter.widget-view+json": {
       "model_id": "90ffb3ce041f44f594a9ecb9e7d4d5af",
       "version_major": 2,
       "version_minor": 0
      },
      "text/plain": [
       "HBox(children=(IntProgress(value=0, max=1154), HTML(value='')))"
      ]
     },
     "metadata": {},
     "output_type": "display_data"
    },
    {
     "name": "stdout",
     "output_type": "stream",
     "text": [
      "\n",
      "PEFKNANWYMLNNYTKFQIATWGLSEVHHALYFFFCLPGFLFQFIPYMKKKKYQKKKPEIWENQWKCFKVLLFTHCFIQLPILFGTYTFYEYFNIPYDWERWPRYFLLLKKCFGAVVMTEIWYYHLHRR\n",
      "EPFKNAWNYMLNNYTKFQIATWGSLIVHEALYFLFCLPGFLFQFIPYMKKYKIQKDKPETWENQWKCFKVLLFNHFCIQLPLICGTYYFTEYFNIPYDWERMPRWYFLLARCFGCAVIEDTWHYFLHRL\n"
     ]
    },
    {
     "data": {
      "application/vnd.jupyter.widget-view+json": {
       "model_id": "50d2295c0782487c938ee45dbc2b8fb4",
       "version_major": 2,
       "version_minor": 0
      },
      "text/plain": [
       "HBox(children=(IntProgress(value=0, max=1154), HTML(value='')))"
      ]
     },
     "metadata": {},
     "output_type": "display_data"
    },
    {
     "name": "stdout",
     "output_type": "stream",
     "text": [
      "\n",
      "LAAMAYDRYMAICSPLLYSVIISNKACFSLILGVYIIGLVCASVHTGCMFRVQFCKFDLINHYFCDLLPLLKLSCSSIYVNKLLILCGAAFNILVPSLTILCSYIFIIASILHIRSTEGRSKAFSTCSS\n",
      "LAAMAYDRYMAICSPLLYSVIISNKACFSLILGVYIIGLVCASVHTGCMFRVQFCKFDLINHYFCDLLPLLKLSCSSIYVNKLLILCVGAFNILVPSLTILCSYIFIIASILHIRSTEGRSKAFSTCSS\n"
     ]
    },
    {
     "data": {
      "application/vnd.jupyter.widget-view+json": {
       "model_id": "cdf66aac957a4bd4b0d99a1b5b37d40d",
       "version_major": 2,
       "version_minor": 0
      },
      "text/plain": [
       "HBox(children=(IntProgress(value=0, max=1154), HTML(value='')))"
      ]
     },
     "metadata": {},
     "output_type": "display_data"
    },
    {
     "name": "stdout",
     "output_type": "stream",
     "text": [
      "\n",
      "IEKAMVSQCLTESLCALVASQYGWSGNMERIMKAQAIQTGKGYQTNIHASRKKTFEINPRHPLIRDMLRRIKEDEDDKTVLDLAVVEEEDEEPEETAEDKEQDKDKEMDVGTDEEKQETAKESTAEKDE\n",
      "IEKAMVSQCLTESLCALVASQYGWSGNMERIMKAQAYQTGKGISTNYHASRKKTFEINPRHPLIRDMLRRIKEDEDDKTVLDLAVVEEPDEEPEETAEDKEQDKDKEMDVGTDEEKQETAKESTAEKDE\n"
     ]
    },
    {
     "data": {
      "application/vnd.jupyter.widget-view+json": {
       "model_id": "e36d7a23c1ee43498eaa8068583518ff",
       "version_major": 2,
       "version_minor": 0
      },
      "text/plain": [
       "HBox(children=(IntProgress(value=0, max=1154), HTML(value='')))"
      ]
     },
     "metadata": {},
     "output_type": "display_data"
    },
    {
     "name": "stdout",
     "output_type": "stream",
     "text": [
      "\n",
      "LKPLEDSTMETSLRRCLSTLDLTLLGVGGMVGSGLYVLTGAVAKEVAGPAVLLSFGVAAVASLLAALCYAEFGARVPRTGSAYLFTYVSMGELWAFLIGWNVLLEYIIGGAAAARAWSGYLDSMFSHSI\n",
      "LKPLEDSTMETSLRRCLSTLDLTLLGVGGMVGSGLYVLTGAVAKEVAGPAVLLSFGVAAVASLLAALCYAEFGARVPRTGSAYLFTYVSMGELWAFLIGWNVLLEYIIGGAAVARAWSGYLDSMFSHSI\n"
     ]
    },
    {
     "data": {
      "application/vnd.jupyter.widget-view+json": {
       "model_id": "5e6d5352209a42c5b25232ca94ef5988",
       "version_major": 2,
       "version_minor": 0
      },
      "text/plain": [
       "HBox(children=(IntProgress(value=0, max=1154), HTML(value='')))"
      ]
     },
     "metadata": {},
     "output_type": "display_data"
    },
    {
     "name": "stdout",
     "output_type": "stream",
     "text": [
      "\n",
      "KLNSEVTTLTQEVSQLGKDMRNVIQLLENVLSPQQPSRFCSLHSTSVCPSRELSQTRTWSSAQQPCLHQTTGGAAYTQAQLCSSNITSDIWSVDPSSVGSSPQRTGAHEQNPADSELYHSPSLDYSPSH\n",
      "KLNSEVTTLTQEVSQLGKDMRNVIQLLENVLSPQQPSRFCSLHSTSVCPSRESLQTRTSWSAHQPCLHLQTGGAAYTQAQLCSSNITSDIWSVDPSSVGSSPQRTGAHEQNPADSELYHSPSLDYSPSH\n"
     ]
    },
    {
     "data": {
      "application/vnd.jupyter.widget-view+json": {
       "model_id": "02512774be974a2cb5f1669bd6aeb522",
       "version_major": 2,
       "version_minor": 0
      },
      "text/plain": [
       "HBox(children=(IntProgress(value=0, max=1154), HTML(value='')))"
      ]
     },
     "metadata": {},
     "output_type": "display_data"
    },
    {
     "name": "stdout",
     "output_type": "stream",
     "text": [
      "\n",
      "ERDDDYAGFVFGYQSSSRFYVVMWKQTTQSYWDTNPTRAQGYSGLSVKVVNSTTGPGEHLRNALWHTQNTPGQVRTLWHDPRHIGWKDFTAYRWRLSHRPKTGFIKVVMYEGKKIMADSGPYIDKTYAG\n",
      "ERDDDYAGFVFGYQSSSRFYVVMWKQVTQSYWDTNPTRAQGYSGLSVKVVNSTTGPGEHLRNALWHTGNTPGQVRTLWHDPRHIGWKDFTAYRWRLSHRPKTGFIRVVMYEGKKIMADSGPIYDKTYAG\n"
     ]
    },
    {
     "data": {
      "application/vnd.jupyter.widget-view+json": {
       "model_id": "929b92e8bd3a4b65ae6261de3d48e06e",
       "version_major": 2,
       "version_minor": 0
      },
      "text/plain": [
       "HBox(children=(IntProgress(value=0, max=1154), HTML(value='')))"
      ]
     },
     "metadata": {},
     "output_type": "display_data"
    },
    {
     "name": "stdout",
     "output_type": "stream",
     "text": [
      "\n",
      "AKEWDFYRMFAIAALEQTFYFIGIFTFLWVERPMTAKKKPNFILLLKALLLSSYGKLLLIPAIIWHHDYTSVLLKLIKVFVLTSNFQARIVNLTNNRKLSFLAVLSGLLLESIVVYFFQSMEWDVGSDY\n",
      "AKEWDFYRMFAIAALEQTAYFIGIFTFLWVERPMTAKKKPNFILLLKALLLSSYGKLLLIPAVIWEHDYTSVCLKLIKVFVLTSNFQAIRVTLNINRKLSFLAVLSGLLLESIMVYFFQSMEWDVGSDY\n"
     ]
    },
    {
     "data": {
      "application/vnd.jupyter.widget-view+json": {
       "model_id": "0103f87b90374417b3cb466e9c2c264e",
       "version_major": 2,
       "version_minor": 0
      },
      "text/plain": [
       "HBox(children=(IntProgress(value=0, max=1154), HTML(value='')))"
      ]
     },
     "metadata": {},
     "output_type": "display_data"
    },
    {
     "name": "stdout",
     "output_type": "stream",
     "text": [
      "\n",
      "IYRGVQKHQDDLQDVRAGIEIVGGKCFMITGGNLQDSKDLLHLAQTNGMFFSTVGCHPTRCGEFEKNNPDLYLKELLNLAENNKGKVVAIGECGLDFDRLQFCPKDTQLKYFEKQFELSEQKTLPMFLH\n",
      "IYRGVQKHQDDLQDVIGRAVEIGVKKFMITGGNLQDSKDALHLAQTNGMFFSTVGCHPTRCGEFEKNNPDLYLKELLNLAENNKGKVVAIGECGLDFDRLQFCPKDTQLKYFEKQFELSEQTKLPMFLH\n"
     ]
    },
    {
     "data": {
      "application/vnd.jupyter.widget-view+json": {
       "model_id": "b6d434c60c604f8496e85f4e90c63cdd",
       "version_major": 2,
       "version_minor": 0
      },
      "text/plain": [
       "HBox(children=(IntProgress(value=0, max=1154), HTML(value='')))"
      ]
     },
     "metadata": {},
     "output_type": "display_data"
    },
    {
     "name": "stdout",
     "output_type": "stream",
     "text": [
      "\n",
      "RLLAGSTTGALAVAVAQPTDVVKVRFQAQARAGGGRRYQSTVPATKTIRREEGFRGLWKGTSPNVARNAIVNCAELVTYDLIKDALLKANLMTDDLPCHFTSAFGAGFCTTVIASPVDVVKTRYMNSAL\n",
      "RLLAGSTTGALAVAVAQPTDVVKVRFQAQARAGGGRRYQSTVNAYKTIAREEGFRGLWKGTSPNVARNAIVNCAELVTYDLIKDALLKANLMTDDLPCHFTSAFGAGFCTTVIASPVDVVKTRYMNSAL\n"
     ]
    },
    {
     "data": {
      "application/vnd.jupyter.widget-view+json": {
       "model_id": "f07de44e00cf4e2a8961ba33c27c1a1f",
       "version_major": 2,
       "version_minor": 0
      },
      "text/plain": [
       "HBox(children=(IntProgress(value=0, max=1154), HTML(value='')))"
      ]
     },
     "metadata": {},
     "output_type": "display_data"
    },
    {
     "name": "stdout",
     "output_type": "stream",
     "text": [
      "\n",
      "GTTCELFLAVMAYDRYLAICHPLQYPAIMTVRFCGKLVSFCWLIGFLGYPIPIFYISQLPFCGPNIIDHFLCDMDPLMALSCAPAPITECIFYTQSSLVLFFTSMYILRSYILLLTAVFQVPSAAGRRK\n",
      "GTTECLFLAVMAYDRYLAICHPLQYPAIMTVRFCGKLVSFCWLIGFLGYPIPIFYISQLPFCGPNIIDHFLCDMDPLMALSCAPAPITECIFYTQSSLVLFFTSMYILRSYILLLTAVFQVPSAAGRRK\n"
     ]
    },
    {
     "data": {
      "application/vnd.jupyter.widget-view+json": {
       "model_id": "fe84f31de6e94f938b34a85abc75f52e",
       "version_major": 2,
       "version_minor": 0
      },
      "text/plain": [
       "HBox(children=(IntProgress(value=0, max=1154), HTML(value='')))"
      ]
     },
     "metadata": {},
     "output_type": "display_data"
    },
    {
     "name": "stdout",
     "output_type": "stream",
     "text": [
      "\n",
      "KILQKCASVKVSSKFSNSNKRKTRHTGEKHFKECGKSFQKFSHLTQHKVIHAGEKPYTCEECGKAFKWSLIFNEHKRIHTGEKPFTCEECGSIFTTSSHFAKHKIIHTGEKPYKCEECGKAFNRFTTLT\n",
      "KILQCKASVKVVSKFSNSNKRKTRHTGEKHFKECGKSFQKFSHLTQHKVIHAGEKPYTCEECGKAFKWSLIFNEHKRIHTGEKPFTCEECGSIFTTSSHFAKHKIIHTGEKPYKCEECGKAFNRFTTLT\n"
     ]
    },
    {
     "data": {
      "application/vnd.jupyter.widget-view+json": {
       "model_id": "b5dcc8fa10d74757b4d12cbb064f7126",
       "version_major": 2,
       "version_minor": 0
      },
      "text/plain": [
       "HBox(children=(IntProgress(value=0, max=1154), HTML(value='')))"
      ]
     },
     "metadata": {},
     "output_type": "display_data"
    },
    {
     "name": "stdout",
     "output_type": "stream",
     "text": [
      "\n",
      "SLLSLSCSDTYINQWLLFFLATFNEISTLLIVLTSYAFIVVTILKMRSSSGRRKCFSTCASHLTAITTFHGIILFLYCVPNSKNSRHTVKVASVFYTVVIPMLNPLIYSLRNKDVKDTVTEILDTKVFS\n",
      "SLLSLSCSDTYINQWLLFFLATFNEISTLLIVLTSYAFIVVTILKMRSVSGRRKAFSTCASHLTAITIFHGTILFLYCVPNSKNSRHTVKVASVFYTVVIPMLNPLIYSLRNKDVKDTVTEILDTKVFS\n"
     ]
    },
    {
     "data": {
      "application/vnd.jupyter.widget-view+json": {
       "model_id": "21270284ba454eabbf01a5b7a8dac2cc",
       "version_major": 2,
       "version_minor": 0
      },
      "text/plain": [
       "HBox(children=(IntProgress(value=0, max=1154), HTML(value='')))"
      ]
     },
     "metadata": {},
     "output_type": "display_data"
    },
    {
     "name": "stdout",
     "output_type": "stream",
     "text": [
      "\n",
      "AQLCSTVPNVTVFGTASTFKHEAIKDSVTHLFDRNADYVQEVKRISAEGVDIVLDCLCGDNTGKGLSLKPLLKTYILYGSSNMVTGETKSFFSFAKSWEQVEKVNPIKLYEENKVIAGFSLNLLLFKQG\n",
      "AQLCSTVPNVTVFGTASTFKHEAIKDSVTHLFDRNADYVQEVKRISAEGVDIVLDCLCGDNTGKGLSLLKPLGTYILYGSSNMVTGETKSFFSFAKSWWQVEKVNPIKLYEENKVIAGFSLLNLLFKQG\n"
     ]
    },
    {
     "data": {
      "application/vnd.jupyter.widget-view+json": {
       "model_id": "6d70d493be8c49488f6a0cc13c99a12f",
       "version_major": 2,
       "version_minor": 0
      },
      "text/plain": [
       "HBox(children=(IntProgress(value=0, max=1154), HTML(value='')))"
      ]
     },
     "metadata": {},
     "output_type": "display_data"
    },
    {
     "name": "stdout",
     "output_type": "stream",
     "text": [
      "\n",
      "CSGLGPGGGRRGGDGGGAPSAAPEDAWMGTHPKYLEMMELDIGDATQVYVAFLVYLDLMESKSWHEVNCVGLPELQLICLVGTEIEGEGLQTVVPTPTIASLSHNRIRIELKASRKLQGDPDLPMSFTL\n",
      "CSGLGPGGVRGFGDGGGAPSWAPEDAWMGTHPKYLEMMELDIGDATQVYVAFLVYLDLMESKSWHEVNCVGLPELQLICLVGTEIEGEGLQTVVPTPITASLSHNRIREILKASRKLQGDPDLPMSFTL\n"
     ]
    },
    {
     "data": {
      "application/vnd.jupyter.widget-view+json": {
       "model_id": "268e6701b3a4410da5ac3c89166871eb",
       "version_major": 2,
       "version_minor": 0
      },
      "text/plain": [
       "HBox(children=(IntProgress(value=0, max=1154), HTML(value='')))"
      ]
     },
     "metadata": {},
     "output_type": "display_data"
    },
    {
     "name": "stdout",
     "output_type": "stream",
     "text": [
      "\n",
      "TQAAVASVIDESTTASILESQALNVEIKSNHDKNVIPDEVLQTLLDHYSHKANGQHEISFSVADTEVTSSISINSSEVPEVTPSENVGSSSQASSSDKANMLQEYSKFLQQALDRTSQNDAYLNSPSLN\n",
      "TQAAVASVIDESTTASILESQALNVEIKSNHDKNVIPDEVLQTLLDHYSHKANGQHEISFSVADTEVTSSISINSSEVPEVTPSENVGSSSQASSSDKANMLQEYSKFLQQALDRTSQNDAYLNSPSLN\n"
     ]
    },
    {
     "data": {
      "application/vnd.jupyter.widget-view+json": {
       "model_id": "f30e7ff519ba46ed978606b89912d60d",
       "version_major": 2,
       "version_minor": 0
      },
      "text/plain": [
       "HBox(children=(IntProgress(value=0, max=1154), HTML(value='')))"
      ]
     },
     "metadata": {},
     "output_type": "display_data"
    },
    {
     "name": "stdout",
     "output_type": "stream",
     "text": [
      "\n",
      "PLSGAARRRGGGGGAIRVRRPCWSGGAGRGGGPAWAVRLPTVTAGWTWPALRTLSSLRAGPESPHSPGRRPPRAGRPLCQADPQPGKAARRSLEPDPAQTGPRPARAAGMSEARKGPDEAEPSQYDSGI\n",
      "PLSGSARRGRGGGGAIRVRRPCWSGGAGRGGGPAWAVRLPTVTAGWTWPALRTLSSLRAGPSEPHSPGRRPPRAGRPLCQADPQPGKAARRSLEPDPAQTGPRPARAAGMSEARKGPDEAEESQYDSGI\n"
     ]
    },
    {
     "data": {
      "application/vnd.jupyter.widget-view+json": {
       "model_id": "3c5f561dd5704ea5b775e1747b79441b",
       "version_major": 2,
       "version_minor": 0
      },
      "text/plain": [
       "HBox(children=(IntProgress(value=0, max=1154), HTML(value='')))"
      ]
     },
     "metadata": {},
     "output_type": "display_data"
    },
    {
     "name": "stdout",
     "output_type": "stream",
     "text": [
      "\n",
      "AQGVILVYDAANRWSFEGMDRWIKKIEEHAPGVPKILVGNRLHLAFKRQVPREQAQAYAERLGVTFFVVSPLCNFNIIESFTELARIVLLRHRMNWLGRPSKVLSLQDLCCRTIVSCTPVHLVDKLPLP\n",
      "AQGVILVYDIANRWSFEGMDRWIKKIEEHAPGVPKILVGNRLHLAFKRQVPREQAQAYAERLGVTFFEVSPLCNFNIIESFTELARIVLLRHRMNWLGRPSKVLSLQDLCCRTIVSCTPVHLVDKLPLP\n"
     ]
    },
    {
     "data": {
      "application/vnd.jupyter.widget-view+json": {
       "model_id": "0b50e31260c54cee9fc375ce5a8e46e0",
       "version_major": 2,
       "version_minor": 0
      },
      "text/plain": [
       "HBox(children=(IntProgress(value=0, max=1154), HTML(value='')))"
      ]
     },
     "metadata": {},
     "output_type": "display_data"
    },
    {
     "name": "stdout",
     "output_type": "stream",
     "text": [
      "\n",
      "SHVSPEVSDTAWASAIAEPSSLTRRPVETTLENNEGGQEQGPSVEGLNVPTKATLEVSSIIKKPKNQAKKGLGAKKGSLGAQKLANTCFNEIEKQAQAADKMKEQEDLAKVVSKEESIVSSLRLAYKDL\n",
      "SHVSPEVSDTAWASAIAEPSSLTSRPVETTLENNEGGQEQGPSVEGLNVPTKATLEVSSIIKKKPNQAKKGLGAKKGSLGAQKLANTCFNEIEKQAQAADKMKEQEDLAKVVSKEESIVSSLRLAYKDL\n"
     ]
    },
    {
     "data": {
      "application/vnd.jupyter.widget-view+json": {
       "model_id": "7460a95b0a69440e921cf4843853fed2",
       "version_major": 2,
       "version_minor": 0
      },
      "text/plain": [
       "HBox(children=(IntProgress(value=0, max=1154), HTML(value='')))"
      ]
     },
     "metadata": {},
     "output_type": "display_data"
    },
    {
     "name": "stdout",
     "output_type": "stream",
     "text": [
      "\n",
      "MLPLLQLVPAKLLNSSCSLEKTLQCSCSHHGIPTPSVQWWMGGVVPGVDGMDGQLSVTSTMLGPWANSTISLTEEPEMGMRLCEGGKNQNGTHALSILLMSRKSSLAAQAFVKGLIQGAIYAGIVIALL\n",
      "MLPLLQLVPAKLLNSSCSLEKTLQCSCSFHGIPTPSVQWWMGGVPVGVDGMDGSLQVTSTMLGPWANSTISLTEEPEMGMRLLCEGKNQNGTHALSILLMSRKSSLAAQAFVKGLIQGAIYAGIVIALL\n"
     ]
    },
    {
     "data": {
      "application/vnd.jupyter.widget-view+json": {
       "model_id": "11ee8a3d1d1445d2a3580704e79ebe6b",
       "version_major": 2,
       "version_minor": 0
      },
      "text/plain": [
       "HBox(children=(IntProgress(value=0, max=1154), HTML(value='')))"
      ]
     },
     "metadata": {},
     "output_type": "display_data"
    },
    {
     "name": "stdout",
     "output_type": "stream",
     "text": [
      "\n",
      "CGVYTPRCGSGLRCYPPRGVEKPLHTLMHGQGVCEELAEIEAIQESLQPSDKDEGDPNNNSSSPCSAHDRRCLQKHFAKIRDRSTSGGKMKVNGAPREDARPVPQGSCQEELLRHLERLAASQSRTHED\n",
      "CGVYTPRCGSGLRCYPPRGVEKPLHTLMHGQGVCMELAEIEAIQESLQPSDKDEGDHPNNSFSPCSAHDRRCLQKHFAKIRDRSTSGGKMKVNGAPREDARPVPQGSCQSELHRALERLAASQSRTHED\n"
     ]
    },
    {
     "data": {
      "application/vnd.jupyter.widget-view+json": {
       "model_id": "101448f5de5d48ca9c8755183e702dbb",
       "version_major": 2,
       "version_minor": 0
      },
      "text/plain": [
       "HBox(children=(IntProgress(value=0, max=1154), HTML(value='')))"
      ]
     },
     "metadata": {},
     "output_type": "display_data"
    },
    {
     "name": "stdout",
     "output_type": "stream",
     "text": [
      "\n",
      "RAVQPVLVSRVDPDSRKNTINEIIKRTTSGGEWPQILVFPEGTCTNRSCLITFKPGAFIPGVPVQPVLLRYPPKLDTVTWTWQGYTFIQLCMLTFCQLFTKVEVEFMPVQVPNDEEKNDPVLFANKVKN\n",
      "RAVQPVLVSRVDPDSRKNTINEIIKRTTSGGEWPQILVFPEGTCTNRSCLITFKPGAFIPGVPVQPVLLRYPNKLDTVTWTWQGYTFIQLCMLTFCQLFTKVEVEFMPVQVPNDEEKNDPVLFANKVRN\n"
     ]
    },
    {
     "data": {
      "application/vnd.jupyter.widget-view+json": {
       "model_id": "6826444232f24870be7e102fc2813310",
       "version_major": 2,
       "version_minor": 0
      },
      "text/plain": [
       "HBox(children=(IntProgress(value=0, max=1154), HTML(value='')))"
      ]
     },
     "metadata": {},
     "output_type": "display_data"
    },
    {
     "name": "stdout",
     "output_type": "stream",
     "text": [
      "\n",
      "AGCAGLEATYSNVGLAALPGVSLAASPVVAEYARVQKRKGTHRSPQEPQQGKTEVTPAAQVDVLYSRVCKPKRRDPGPTTDPLDPKGGQAILALAGDLAYQTLPLRALDVDSGPEENVYESIRELGDPA\n",
      "AGCAGLEATYSNVGLAALPGVSLAASPVVAEYARVQKRKGTHRSPQEPQQGKTEVTPAAQVDVLYSRVCKPKRRDPGPTTDPLDPKGQGAILALAGDLAYQTLPLRALDVDSGPLENVYESIRELGDPA\n"
     ]
    },
    {
     "data": {
      "application/vnd.jupyter.widget-view+json": {
       "model_id": "c48a248d3a6c4dc69eb0b2c19c237b03",
       "version_major": 2,
       "version_minor": 0
      },
      "text/plain": [
       "HBox(children=(IntProgress(value=0, max=1154), HTML(value='')))"
      ]
     },
     "metadata": {},
     "output_type": "display_data"
    },
    {
     "name": "stdout",
     "output_type": "stream",
     "text": [
      "\n",
      "IYPFATPSNNRRFPSSRMVPFHFPPSKCALWNPTPTGDFIYLHLSYYRNPKLVVTEKTIRLAYRHAKQNKKNSSFFLLGSLTADEEDEGVTLTVDRFDPGREVPECLETTPTASLPGDFLIPCKVHTQE\n",
      "IYPFARPQMNTRFPSSRMVPFHFPPSKCALWNPTPTGDFIYLHLSYYRNPKLVVTEKTIRLAYRHAKQNKKNSSCFLLGSLTADEDEEGVTLTVDRFDPGREVPECLEITPTASLPGDFLIPCKVHTQE\n"
     ]
    },
    {
     "data": {
      "application/vnd.jupyter.widget-view+json": {
       "model_id": "dd4c86fb40704752b7e20567d105efd5",
       "version_major": 2,
       "version_minor": 0
      },
      "text/plain": [
       "HBox(children=(IntProgress(value=0, max=1154), HTML(value='')))"
      ]
     },
     "metadata": {},
     "output_type": "display_data"
    },
    {
     "name": "stdout",
     "output_type": "stream",
     "text": [
      "\n",
      "GKYHRFLGRHFPRFYVLYTIFMAGLKMLAADAKKRRRIKTNMMKHNIKFHQLPYREMEHLRQFRQDVTKCLFLGIISIPPFANYLVFLLMYLFPRQLLIRHFWTPKQQTDFLDIYHAFRKQSHPEIISY\n",
      "GKYHRFLGRHFPRFYVLYTIFMKGLQMLWADAKKARRIKTNMWKHNIKFHQLPYREMEHLRQFRQDVTKCLFLGIISIPPFANYLVFLLMYLFPRQLLIRHFWTPKQQTDFLDIYHAFRKQSHPEIISY\n"
     ]
    },
    {
     "data": {
      "application/vnd.jupyter.widget-view+json": {
       "model_id": "40f363b7c0504a13aad9d01efb130b7d",
       "version_major": 2,
       "version_minor": 0
      },
      "text/plain": [
       "HBox(children=(IntProgress(value=0, max=1154), HTML(value='')))"
      ]
     },
     "metadata": {},
     "output_type": "display_data"
    },
    {
     "name": "stdout",
     "output_type": "stream",
     "text": [
      "\n",
      "KVDPRFGAYVACALLVFCFICFIQLLIFPHSTLMLGIYASIFLLLLITVLICVYSCCGLGFPKALQRLSRSIVRSRAHSTAVGIFSVLLVFTSAIMMMFFCNHTPIRSCAARMLNLTPADITACHLQQL\n",
      "KVDPRFGAYVACALLVFCFICFIQLLIFPHSTLMLGIYASIFLLLLITVLICAVYSCGSLFPKALQRLSRSIVRSRAHSTAVGIFSVLLVFTSAIANMFTCNHTPIRSCAARMLNLTPADITACHLQQL\n"
     ]
    },
    {
     "data": {
      "application/vnd.jupyter.widget-view+json": {
       "model_id": "b69fe66352384e7b822b2713b35075e1",
       "version_major": 2,
       "version_minor": 0
      },
      "text/plain": [
       "HBox(children=(IntProgress(value=0, max=1154), HTML(value='')))"
      ]
     },
     "metadata": {},
     "output_type": "display_data"
    },
    {
     "name": "stdout",
     "output_type": "stream",
     "text": [
      "\n",
      "EHTARTQPTLSDIVVTLVEMGFNVDTLPAYAKRSQRMVITAPPVTNQPVTPKALTAGQRRPHPPHIPSHFPEFPDPHTYIKTPTYREPVSDYQVLREKAASQRRDVERALTRFMAKTGETQSLFKDDVS\n",
      "EHTARTQPTLSDIVVTLVEMGFNVDTLPAYAKRSQRMVITAPPVTNQPVTPKALTAGQNRPHPPHIPSHFPEFPDPHTYIKTPTYREPVSDYQVLREKAASQRRDVERALTRFMAKTGETQSLFKDDVS\n"
     ]
    },
    {
     "data": {
      "application/vnd.jupyter.widget-view+json": {
       "model_id": "dc6cc0687343492eb7bebada9fb161f3",
       "version_major": 2,
       "version_minor": 0
      },
      "text/plain": [
       "HBox(children=(IntProgress(value=0, max=1154), HTML(value='')))"
      ]
     },
     "metadata": {},
     "output_type": "display_data"
    },
    {
     "name": "stdout",
     "output_type": "stream",
     "text": [
      "\n",
      "QVEGLLAENNALRTSLAALEQIQTAKTQELNMLREQTTGLAAELQQQQAEYEDLMGQKDDLNSQLQESLRANSRLLEQLQEIGQEKEQLTQEEQEARKSAEKRKAMLDELAMETLQEKSQHKEELGAVR\n",
      "QVEGLLAENNALRTSLAALEQIQTAKTQELNMLREQTTGLAAELQQQQAEYEDLMGQKDDLNSQLQESLRANSRLLEQLQEIGQEKEQLTQELQEARKSAEKRKAMLDELAMETLQEKSQHKEELGAVR\n"
     ]
    },
    {
     "data": {
      "application/vnd.jupyter.widget-view+json": {
       "model_id": "276c6b8e100b40cbb1778d8184b954c9",
       "version_major": 2,
       "version_minor": 0
      },
      "text/plain": [
       "HBox(children=(IntProgress(value=0, max=1154), HTML(value='')))"
      ]
     },
     "metadata": {},
     "output_type": "display_data"
    },
    {
     "name": "stdout",
     "output_type": "stream",
     "text": [
      "\n",
      "GKAVTYVTNYPFPGETFNREKFRSLDWENPTEREDDSDKYCKLNLQQSGSFQYYFLGNNEKSGGGYIVVDPILRVGADNHVLPLDCVTLQTFLAKCLGPFDEWESRLRVAKESGYNMIHFTPLQTLGLS\n",
      "GKAVTVYTNYPFPGETFNREKFRSLDWENPTEREDDSDKYCKLNLQQSGSFQYYFLQGNEKSGGGYIVVDPILRVGADNHVLPLDCVTLQTFLAKCLGPFDEWESRLRVAKESGYNMIHFTPLQTLGLS\n"
     ]
    },
    {
     "data": {
      "application/vnd.jupyter.widget-view+json": {
       "model_id": "8c72f0a9a3194a4686a7f8d680eab2ee",
       "version_major": 2,
       "version_minor": 0
      },
      "text/plain": [
       "HBox(children=(IntProgress(value=0, max=1154), HTML(value='')))"
      ]
     },
     "metadata": {},
     "output_type": "display_data"
    },
    {
     "name": "stdout",
     "output_type": "stream",
     "text": [
      "\n",
      "PQGPPGSEGFTGPPGPQGPKGQGGEPYALPKEERDRYRGEPGEPGLVGFQGPPGRPGHGGQMGPVGAPGRPGPPGPPGPKGQQGNRGLGFYVVKKEGGDVGQPPPNGIPSDTLHPIIAPTGVTFHPDQY\n",
      "PQGPPGSEGFTGPPGPQGPKGQKGEPYALPKEERDRYRGEPGEPGLVGFQGPPGRPGHVGQMGPVGAPGRPGPPGPPGPKGQQGNRGLGFYGVKGEKGDVGQPGPNGIPSDTLHPIIAPTGVTFHPDQY\n"
     ]
    },
    {
     "data": {
      "application/vnd.jupyter.widget-view+json": {
       "model_id": "4fff916cffed4d6d964f973669da93ac",
       "version_major": 2,
       "version_minor": 0
      },
      "text/plain": [
       "HBox(children=(IntProgress(value=0, max=1154), HTML(value='')))"
      ]
     },
     "metadata": {},
     "output_type": "display_data"
    },
    {
     "name": "stdout",
     "output_type": "stream",
     "text": [
      "\n",
      "TLLEFTKDMDQLLQLTRKLESSQPRQGEGNRTPESQKRKSKKATKQTLQDQLLLDLKSPPSFPVEISDRLPAASWEGQESCWNKQTSKEEGTQPEGTYGEQLVPELCNQSESSGEDFFLKSRLQEQDVW\n",
      "TLLEFTKDMDQLLQLTRKLESSQPRQGEGNRTPESQKRKSKKATKQTLQDSFLLDLKSPPSFPVEISDRLPAASWEGQESCWNKQTSKSEGTQPEGTYGEQLVPELCNQSESSGEDFFLKSRLQEQDVW\n"
     ]
    },
    {
     "data": {
      "application/vnd.jupyter.widget-view+json": {
       "model_id": "69b8805eadd045a39801352974ec04fe",
       "version_major": 2,
       "version_minor": 0
      },
      "text/plain": [
       "HBox(children=(IntProgress(value=0, max=1154), HTML(value='')))"
      ]
     },
     "metadata": {},
     "output_type": "display_data"
    },
    {
     "name": "stdout",
     "output_type": "stream",
     "text": [
      "\n",
      "NVALTFWRKRSISELVAYLLRIEDLGVVVDCLPVLTNCLQEEKQYISLGCCVDLLPLVKSLLKSKFEEYVIVGLNWLQAVIKRWWSELSSKTEIINDGNIQILKQQLSGLWEQENHLTLVPGYTGNIAK\n",
      "NVALTFWRKRSISELVAYLLRIEDLGVVVDCLPVLTNCLQEEKQYISLGCCVDLLPLVKSLLKSKFEEYVIVGLNWLQAVIKRWWSELSSKTEIINDGNIQILKQQLSGLWEQENHLTLVPGYTGNIAK\n"
     ]
    },
    {
     "data": {
      "application/vnd.jupyter.widget-view+json": {
       "model_id": "787b1bae513447de940e41d243d443e3",
       "version_major": 2,
       "version_minor": 0
      },
      "text/plain": [
       "HBox(children=(IntProgress(value=0, max=1154), HTML(value='')))"
      ]
     },
     "metadata": {},
     "output_type": "display_data"
    },
    {
     "name": "stdout",
     "output_type": "stream",
     "text": [
      "\n",
      "RMSSMQLAPQELARWRDQEEKRGLNIIEQQQKEPCRLPASKMTFKGEVEIQRDMDQTTTLEDLVGPQMFMDCSPQALPIASEDTRGQHDHHFLDPNCHICKDWEPSNELLGSFEAAKSKCDNIFFKALS\n",
      "RMSSMQLAPQELARWRDQEEKRGLNIIEQQQKEPCRLPASKMTHKGEVEIQRDMDQTLTLEDLVGPQMFMDCSPQALPIASEDTTGQHDHHFLDPNCHICKDWEPSNELLGSFEAAKSCGDNIFQKALS\n"
     ]
    },
    {
     "data": {
      "application/vnd.jupyter.widget-view+json": {
       "model_id": "ec7258c29b044b77b75ff9f06fe62e58",
       "version_major": 2,
       "version_minor": 0
      },
      "text/plain": [
       "HBox(children=(IntProgress(value=0, max=1154), HTML(value='')))"
      ]
     },
     "metadata": {},
     "output_type": "display_data"
    },
    {
     "name": "stdout",
     "output_type": "stream",
     "text": [
      "\n",
      "NHPLLLAAKWYEKFFGRLSHLNLCVTNAMREDLADNWHIRAVTVYYKPASFFKETPLDLLHRLFMKLGSMHSPFRARSEPPDPVTERSAFTERDASGGLVTRLRERAALLVSSTSWTEDEDFSILLAAL\n",
      "NHPLVLLAKWYEKFFGRLSHLNLCVTNAMREDLADNWHIRAVTVYDKPASFFKETPLDLQHRLFMKLGSMHSPFRARSEPEDPVTERSAFTERDAGSGLVTRLRERPALLVSSTSWTEDEDFSILLAAL\n"
     ]
    },
    {
     "data": {
      "application/vnd.jupyter.widget-view+json": {
       "model_id": "924ee57da5d04a0495414e0ce965e073",
       "version_major": 2,
       "version_minor": 0
      },
      "text/plain": [
       "HBox(children=(IntProgress(value=0, max=1154), HTML(value='')))"
      ]
     },
     "metadata": {},
     "output_type": "display_data"
    },
    {
     "name": "stdout",
     "output_type": "stream",
     "text": [
      "\n",
      "ERLVAQFPSSGRFWKLYIEAEIKAKNYDKVEKLFQRCLMKVLHIDLWKCYLSYVRETKGKLPSYKECMAQAYDFALDKIGMEIMSYQIWVDYINFLKGVEAVGSYAENQRITAVRRVYQRGCVNPMINI\n",
      "ERLVAQFPSSGRFWKLYIEAEIKAKNYDKVEKLFQRCLMKVLHIDLWKCYLSYVRETKGKLPSYKEKMAQAYDFALDKIGMEIMSYQIWVDYINFLKGVEAVGSYAENQRITAVRRVYQRGCVNPMINI\n"
     ]
    },
    {
     "data": {
      "application/vnd.jupyter.widget-view+json": {
       "model_id": "e64de047900d4772a66969100cba4088",
       "version_major": 2,
       "version_minor": 0
      },
      "text/plain": [
       "HBox(children=(IntProgress(value=0, max=1154), HTML(value='')))"
      ]
     },
     "metadata": {},
     "output_type": "display_data"
    },
    {
     "name": "stdout",
     "output_type": "stream",
     "text": [
      "\n",
      "AVDGFTFTEGDKSLDGRIEVKGQHGSSSLHIKDVKLSDSGRYDCEAASRIGHHQKSMYLDIYYAPKFISNQTIYYSWEGNPINISCDVKSNPPASIHWRRDKLVLPAKTNTNKKTYSTGRKMILPIAET\n",
      "AVDGFTFTEGDKSLDGRIEVKGQHGSSSLHIKDVKLSDSGRYDCEAASRIGGHQKSMYLDIEYAPKFISNQTIYYSWEGNPINISCDVKSNPPASIHWRRDKLVLPAKNTTNLKTYSTGRKMILEIAPT\n"
     ]
    },
    {
     "data": {
      "application/vnd.jupyter.widget-view+json": {
       "model_id": "4418850601b24cb29ca6dd16e1438939",
       "version_major": 2,
       "version_minor": 0
      },
      "text/plain": [
       "HBox(children=(IntProgress(value=0, max=1154), HTML(value='')))"
      ]
     },
     "metadata": {},
     "output_type": "display_data"
    },
    {
     "name": "stdout",
     "output_type": "stream",
     "text": [
      "\n",
      "WNNFRSKLAAAILGGVDQIHIKPGAKVLYLGAASGTTVSHVSDIVGPDGLYVAEFVSHSSGGDLINLAKKRTIIIPVIEDARHPHKYRMLIAMVDVIFADVAQPDQTRAIILNAHDFLRNGGHFVISIK\n",
      "WNPFRSKLAAAILGGVDQIHIKPGAKVLYLGAASGTTVSHVSDIVGPDGLVYAVEFSHRSGRDLINLAKKRTNIIPVIEDARHPHKYRMLIAMVDVIFADVAQPDQTRIVALNAHTFLRNGGHFVISIK\n"
     ]
    },
    {
     "data": {
      "application/vnd.jupyter.widget-view+json": {
       "model_id": "a26f0660c9f54d56b516bf920eeb87b4",
       "version_major": 2,
       "version_minor": 0
      },
      "text/plain": [
       "HBox(children=(IntProgress(value=0, max=1154), HTML(value='')))"
      ]
     },
     "metadata": {},
     "output_type": "display_data"
    },
    {
     "name": "stdout",
     "output_type": "stream",
     "text": [
      "\n",
      "RLLHNNGQIVQLLPLHQLRGSNTQPNLQPVMFRNPGSVMGIRPLAPSKPSETPPSSTSSSAFSVMNPVIQAVGSSASVNVITQAPSLLSSGASFVSQAGTLTLRISPPEPQSFASKTGSETKITYSSGG\n",
      "RLLHPNGQIVQLLPLHQLRGSNTQPNLQPVMFRNPGSVMGIRLPAPSKPSETPPSSTSSSAFSVMNPVIQAVGSSSAVNVITQAPSLLSSGASFVSQAGTLTLRISPPEPQSFASKTGSETKITYSSGG\n"
     ]
    },
    {
     "data": {
      "application/vnd.jupyter.widget-view+json": {
       "model_id": "f37ee700468f4432bd874389be94e065",
       "version_major": 2,
       "version_minor": 0
      },
      "text/plain": [
       "HBox(children=(IntProgress(value=0, max=1154), HTML(value='')))"
      ]
     },
     "metadata": {},
     "output_type": "display_data"
    },
    {
     "name": "stdout",
     "output_type": "stream",
     "text": [
      "\n",
      "VGIDHLALDEIKKRGIRVGYTYDVLTDTTAELAVSLLLTTCRRLPEAIEEVKNGGWTSWKPLWLCGYGLTQSTVGIIGLGRIGQAIARRLKPFGVQRFLYTGRQPRPEEAAEFQAEFVSTPELAAQSSD\n",
      "VGIDHLALDEIKKRGIRVGYTPDVLTDTTAELAVSLLLTTCRRLPEAIEEVKNGGWTSWKPLWLCGYGLTQSTVGIIGLGRIGQAIARRLKPFGVQRFLYTGRQPRPEEAAEFQAEFVSTPELAAQSDF\n"
     ]
    },
    {
     "data": {
      "application/vnd.jupyter.widget-view+json": {
       "model_id": "8d5b098b9b8e44bba713807968e1762b",
       "version_major": 2,
       "version_minor": 0
      },
      "text/plain": [
       "HBox(children=(IntProgress(value=0, max=1154), HTML(value='')))"
      ]
     },
     "metadata": {},
     "output_type": "display_data"
    },
    {
     "name": "stdout",
     "output_type": "stream",
     "text": [
      "\n",
      "YFENLLSHFLPQKAPDGKSYLLSLPTGDVPMDGMSVSDLGPVVLSLLKMPKKYVGQNIGLSTCRHTAEEYAALLTKHTRKVVDDAKMTPEDYEKLGFPGARDLANMFRFYALRPDRDIELTLRLNPKAL\n",
      "YFENLLSHFLPQKAPDGKSYLLSLPTGDVPMDGMSVSDLGPVVLSLLKMPEKYVGQNIGLSTCRHTAEEYAALLTKHTRKVVHDAKMTPEDYEKLGFPGARDLANMFRFYALRPDRDIELTLRLNPKAL\n"
     ]
    },
    {
     "data": {
      "application/vnd.jupyter.widget-view+json": {
       "model_id": "867893f45b5d456cab2337779e276235",
       "version_major": 2,
       "version_minor": 0
      },
      "text/plain": [
       "HBox(children=(IntProgress(value=0, max=1154), HTML(value='')))"
      ]
     },
     "metadata": {},
     "output_type": "display_data"
    },
    {
     "name": "stdout",
     "output_type": "stream",
     "text": [
      "\n",
      "FDGQSAVEVHSRTSDMMLKAFTSLSLYMKPPVKRPELTETADQFILYLGSKNAKKEYMGLAIKNDNLVVVYNLGTKDVEIPLDSKPVSSWPAYFSIVKIERVGHKKKVFLTVPSLSSTAEEKFIKKGEF\n",
      "FDGQSAVEVHSRTSMDDLKAFTSLSLYMKPPVKRPELTETADQFILYLGSKNAKKEYMGLAIKNDNLVYVYNLGTKDVEIPLDSKPVSSWPAYFSIVKIERVGKHGKVFLTVPSLSSTAEEKFIKKGEF\n"
     ]
    },
    {
     "data": {
      "application/vnd.jupyter.widget-view+json": {
       "model_id": "3f5c4f4365bb41af966f04387ea26b45",
       "version_major": 2,
       "version_minor": 0
      },
      "text/plain": [
       "HBox(children=(IntProgress(value=0, max=1154), HTML(value='')))"
      ]
     },
     "metadata": {},
     "output_type": "display_data"
    },
    {
     "name": "stdout",
     "output_type": "stream",
     "text": [
      "\n",
      "TPPCEMLGPVGIEAVLDQLKIKAMKMGFEFNIMVVGQSGLGKSTMVNTLFKSKVWKSNPPGLGVPTPQTLLLHSLTHVIEEKGVKLKLTVTDTPGFGDQINNDNCWDPILGYINEQYEQYLQEEILITR\n",
      "TPPCEMLGPVGIEAVLDQLKIKAMKMGFEFNIMVVGQSGLGKSTMVNTLFKSKVWKSNPPGLGVPTPQTLQLHSLTHVIEEKGVKLKLTVTDTPGFGDQINNDNCWDPILGYINEQYEQYLQEEILITR\n"
     ]
    },
    {
     "data": {
      "application/vnd.jupyter.widget-view+json": {
       "model_id": "d851efa03bf0455fa5be34748363e9b5",
       "version_major": 2,
       "version_minor": 0
      },
      "text/plain": [
       "HBox(children=(IntProgress(value=0, max=1154), HTML(value='')))"
      ]
     },
     "metadata": {},
     "output_type": "display_data"
    },
    {
     "name": "stdout",
     "output_type": "stream",
     "text": [
      "\n",
      "KQTTKSELLSQLQQHEEESRAQRDAKRPKISFSNIISDMKVARSATARVRSRPELRIQFDEGYDNYPGQEKTDDLKKRKNIFTGKRLNIFDMMAVTKEAPETDTSPSLWDVEFAKQLAVVNEQPLQNGF\n",
      "KQTTKSELLSQLQQHEEESRAQRDAKRPKISFSNIISDMKVARSATARVRSRPELRIQFDEGYDNYPGQEKTDDLKKRKNIFTGKRLNIFDMMAVTKEAPETDTSPSLWDVEFAKQLATVNEQPLQNGF\n"
     ]
    },
    {
     "data": {
      "application/vnd.jupyter.widget-view+json": {
       "model_id": "78c6e3c80f7643099fa697c8f23dd252",
       "version_major": 2,
       "version_minor": 0
      },
      "text/plain": [
       "HBox(children=(IntProgress(value=0, max=1154), HTML(value='')))"
      ]
     },
     "metadata": {},
     "output_type": "display_data"
    },
    {
     "name": "stdout",
     "output_type": "stream",
     "text": [
      "\n",
      "ARKARRHKSNGILEIPNFQQEDAGLYECVAENSRGKNVARGQLTFYAQPNWIQKINDIHVAMEENVFWECKANGRPKPTYKWLKNGEPLLTRDRIQIEQGTLNITIVNLSDAGMYQCLAENKHGVIFSN\n",
      "ARKARRHKSNGILEIPNFQQEDAGLYECVAENSRGKNVARGQLTFYAQPNWIQKINDIHVAMEENVFWECKANGRPKPTYKWLKNGEPLLTRDRIQIEQGTLNITIVNLSDAGMYQCLAENKHGVIFSN\n"
     ]
    },
    {
     "data": {
      "application/vnd.jupyter.widget-view+json": {
       "model_id": "9e528ca50805411092e3fbca1e86c792",
       "version_major": 2,
       "version_minor": 0
      },
      "text/plain": [
       "HBox(children=(IntProgress(value=0, max=1154), HTML(value='')))"
      ]
     },
     "metadata": {},
     "output_type": "display_data"
    },
    {
     "name": "stdout",
     "output_type": "stream",
     "text": [
      "\n",
      "SARSLSSEEKLALLKQIQEAYGKCKEFGDDKVQLAMQTYEMVDKHIRRLDTDLKRFEADLKEKQIESSDYDSSSSKGKKKGRTQKEKKAARDRSKGKSSDEEAPKTAQKKLKLVRTSPEYGMPSVTFGS\n",
      "SARSLSSEEKLALLKQIQEAYGKCKEFGDDKVQLAMQTYEMVDKHIRRLDTDLARFEADLKEKQIESSDYDSSSSKGKKKGRTQKEKKAARARSKGKNSDEEAPKTAQKKLKLVRTSPEYGMPSVTFGS\n"
     ]
    },
    {
     "data": {
      "application/vnd.jupyter.widget-view+json": {
       "model_id": "dc461d5a4a52494a9a9b8e2ad76886c5",
       "version_major": 2,
       "version_minor": 0
      },
      "text/plain": [
       "HBox(children=(IntProgress(value=0, max=1154), HTML(value='')))"
      ]
     },
     "metadata": {},
     "output_type": "display_data"
    },
    {
     "name": "stdout",
     "output_type": "stream",
     "text": [
      "\n",
      "FATAGWLSSLVLLMFLGFMSFVTTTFVIEAMAAANAQLHWKRMELKLEEEDDDSSTASDDSVLIRDNYEEAEKRIILSVQRRGSPNPFEITDRVEMGQMASMFFNKVGVNLFYCFIIVYLYGDLAIYAA\n",
      "FATAGWLVSLVLLVFLGFMSFVTTTFVIEAMAAANAQLHWKRMENLKEEEDDDSSTASDSDVLIRDNYERAEKRPILSVQRRGSPNPFEITDRVEMGQMASMFFNKVGVNLFYFCIIVYLYGDLAIYAA\n"
     ]
    },
    {
     "data": {
      "application/vnd.jupyter.widget-view+json": {
       "model_id": "80017740df654e5898392ff8cf39f99c",
       "version_major": 2,
       "version_minor": 0
      },
      "text/plain": [
       "HBox(children=(IntProgress(value=0, max=1154), HTML(value='')))"
      ]
     },
     "metadata": {},
     "output_type": "display_data"
    },
    {
     "name": "stdout",
     "output_type": "stream",
     "text": [
      "\n",
      "VMKFKNPPVNSSSLEFTLEILSSEKKLNEDKSFRGVILTSDRPGVFSAGLDLTEMCGRSPAHYAGYWKAVHELWLRLYQSNLVLVSAINGACPAGGCLVALTCDYRILADNPRYCIGLNETQLGIIAPF\n",
      "VMKFKNPPVNSLSLEFLTELVISLEKLENDKSFRGVILTSDRPGVFSAGLDLTEMCGRSPAHYAGYWKAVQELWLRLYQSNLVLVSAINGACPAGGCLVALTCDYRILADNPRYCIGLNETQLGIIAPF\n"
     ]
    },
    {
     "data": {
      "application/vnd.jupyter.widget-view+json": {
       "model_id": "900f5c01f62441b482cb03dc4e838bf1",
       "version_major": 2,
       "version_minor": 0
      },
      "text/plain": [
       "HBox(children=(IntProgress(value=0, max=1154), HTML(value='')))"
      ]
     },
     "metadata": {},
     "output_type": "display_data"
    },
    {
     "name": "stdout",
     "output_type": "stream",
     "text": [
      "\n",
      "EDTQQQIIRETFHLVSKRDENVCNFLEGGLLIGSKDNKLIYRHYATLYFVFCVDSSESELGILDLIQVFVETLDKCFEEVCNLDLIFHDDKVHNILAEMVMGGMVLENTMNEIVTQIDAQNKLEKSEAG\n",
      "EDTQQQIIRETFHLVSKRDENVCNFLEGGLLIGGSDNKLIYRHYATLYFVFCVDSSESELGILDLIQVFVETLDKCFENVCELDLIFHVDKVHNILAEMVMGGMVLETNMNEIVTQIDAQNKLEKSEAG\n"
     ]
    },
    {
     "data": {
      "application/vnd.jupyter.widget-view+json": {
       "model_id": "5ecd6966dd1a4e5e8980fa110dfa95df",
       "version_major": 2,
       "version_minor": 0
      },
      "text/plain": [
       "HBox(children=(IntProgress(value=0, max=1154), HTML(value='')))"
      ]
     },
     "metadata": {},
     "output_type": "display_data"
    },
    {
     "name": "stdout",
     "output_type": "stream",
     "text": [
      "\n",
      "VTLGKDEFHLVLVDTAGQDEYSILPYSFIIGVHGYVLVYSVTSLHSFQVIESLYQKLHEGHGKTRVPVVLVGNKADLSPEREVQAVEGKKLAESWGATFMESSARENQLTQGIFTKVIQEIARVENSYG\n",
      "VTLGKDEFHLHLVDTAGQDEYSILPYSFIIGVHGYVLVYSVTSLHSFQVIESLYQKLHEGHGKTRVPVVLVGNKADLSPEREVQAVEGKKLAESWGATFMESSARENQLTQGIFTKVIQEIARVENSYG\n"
     ]
    },
    {
     "data": {
      "application/vnd.jupyter.widget-view+json": {
       "model_id": "de63b21777da41c294db6633601905b5",
       "version_major": 2,
       "version_minor": 0
      },
      "text/plain": [
       "HBox(children=(IntProgress(value=0, max=1154), HTML(value='')))"
      ]
     },
     "metadata": {},
     "output_type": "display_data"
    },
    {
     "name": "stdout",
     "output_type": "stream",
     "text": [
      "\n",
      "SVPTLLVNLLSSFKTIIQSGCAVQMYLSLAMGSTECVLLAVMAYDRYVAICNPLRYSIIMNRCVCARMATVSWVTGCLTALLETSFALQIPLCGNLIDHFTCEILAVLKLACTSSLLMNTIMLVVSILL\n",
      "SVPTLLVNLLSSQKTIIFSGCAVQMYLSLAMGSTECVLLAVMAYDRYVAICNPLRYSIIMNRCVCARMATVSWVTGCLTALLETSFALQIPLCGNLIDHFTCEILAVLKLACTSSLLMNTIMLVVSILL\n"
     ]
    },
    {
     "data": {
      "application/vnd.jupyter.widget-view+json": {
       "model_id": "11116cf8445944f3bb39fbee56567ad3",
       "version_major": 2,
       "version_minor": 0
      },
      "text/plain": [
       "HBox(children=(IntProgress(value=0, max=1154), HTML(value='')))"
      ]
     },
     "metadata": {},
     "output_type": "display_data"
    },
    {
     "name": "stdout",
     "output_type": "stream",
     "text": [
      "\n",
      "SRIVSGIITPIWQEHEKAAVSSDHREFPPATAREVDPLRIPPHHPHTSRQPPWCDPLGPFVVGGEDLDPFLPRRGGMIVDPLRSGFPRALIDPSSGLPRNLPPGAVPPGARFDPFGPIGTSPPGPNPDH\n",
      "SRIVSGIITPIHEQWEKANVSSPHREFPPATAREVDPLRIPPHHPHTSRQPPWCDPLGPFVVGGEDLDPFGPRRGGMIVDPLRSGFPRALIDPSSGLPNRLPPGAVPPGARFDPFGPIGTSPPGPNPDH\n"
     ]
    },
    {
     "data": {
      "application/vnd.jupyter.widget-view+json": {
       "model_id": "fdf6faaddd3c4338859c39ed1e25fb71",
       "version_major": 2,
       "version_minor": 0
      },
      "text/plain": [
       "HBox(children=(IntProgress(value=0, max=1154), HTML(value='')))"
      ]
     },
     "metadata": {},
     "output_type": "display_data"
    },
    {
     "name": "stdout",
     "output_type": "stream",
     "text": [
      "\n",
      "KQFNILRKARSYIKHRKFTVVVSLCKELIHLALKGLSYYHTYDRFFLGVNVVIGFVGWISYASLLIIKSHSNLIKGVSKEVKKPSHLLPCSFVAIGILVAFFLLIQACPTWYYVYGLLPLPIWYAVLRE\n",
      "KQFNILRKARSYIKHRKFDEVVSLCKELIHLALKGLSYYHTYDRFFLGVNVVIGFVGWISYASLLIIKSHSNLIKGVSKEVKKPSHLLPCSFVAIGILVAFFLLIQACPWTYYVYGLLPLPIWYAVLRE\n"
     ]
    },
    {
     "data": {
      "application/vnd.jupyter.widget-view+json": {
       "model_id": "73ed8cdb34604c0296782440dbb20737",
       "version_major": 2,
       "version_minor": 0
      },
      "text/plain": [
       "HBox(children=(IntProgress(value=0, max=1154), HTML(value='')))"
      ]
     },
     "metadata": {},
     "output_type": "display_data"
    },
    {
     "name": "stdout",
     "output_type": "stream",
     "text": [
      "\n",
      "MTPILTVLICLGLSLDPRTHVQAGPKPLPTLWAEPGSVITQGSPVTLRCQGSLETQEYHLYREKKTALWITRIPQELVKKGQFPILSITEEHAGRYCCIYGSHTAGLSESSDPLELVVTGAYSKPTLSA\n",
      "MTPILTVLICLGLSLDPRTHVQAGPLPKPTLWAEPGSVITQGSPVTLRCQGSLETQEYHLYREKKTALWITRIPQELVKKGQFPILSITWEHAGRYCCIYGSHTAGLSESSDPLELVVTGAYSKPTLSA\n"
     ]
    },
    {
     "data": {
      "application/vnd.jupyter.widget-view+json": {
       "model_id": "de53ffbe453345d1bd395f675d9648b0",
       "version_major": 2,
       "version_minor": 0
      },
      "text/plain": [
       "HBox(children=(IntProgress(value=0, max=1154), HTML(value='')))"
      ]
     },
     "metadata": {},
     "output_type": "display_data"
    },
    {
     "name": "stdout",
     "output_type": "stream",
     "text": [
      "\n",
      "TGQPASGLEAPGSTNDRLFLVKGGIFLGTVAAAGMLAGFITTLSLAKKKSPEWFNKGSMATAALPESGSSLALRALGWGSLYAWCGVGVISFAVWKALGVHSMNDFRSKMQSIFPTPPKNSESAVEWEE\n",
      "TGQPASGLEAPGSTNDRLFLVKGGIFLGTVAAAGMLAGFITTLSLAKKKSPEWFNKGSMATAALPESGSSLALRALGWGSLYAWCGVGVISFAVWKALGVHSMNDFRSKMQSIFPTIPKNSESAVEWEE\n"
     ]
    },
    {
     "data": {
      "application/vnd.jupyter.widget-view+json": {
       "model_id": "c76f2fd8ec884d9daba8218c59e71ae0",
       "version_major": 2,
       "version_minor": 0
      },
      "text/plain": [
       "HBox(children=(IntProgress(value=0, max=1154), HTML(value='')))"
      ]
     },
     "metadata": {},
     "output_type": "display_data"
    },
    {
     "name": "stdout",
     "output_type": "stream",
     "text": [
      "\n",
      "DCGPGKPTLVVSSACGSWSYSQQRQQRVCSGEGLPKTDLMAFSPSLPPCPISRDREEKQDVVDLSSAKPRQPNPDWRYSASLRAGMHSSVHLEEAGILRAGPGGPDQQWPTVSSATPEPEAGEVSPPVG\n",
      "DCGPGKPTLVCSSAVGSWSYSQQRQQRVCSGEGLPKTDLMAFSPSLPPCPISRDREEKQDVDVDLSAKPRQPNPDWRYSASLRAGMHSSVHLEEAGILRAGPGGPDQQWPTVSSATPEPEAGEVSPPVG\n"
     ]
    },
    {
     "data": {
      "application/vnd.jupyter.widget-view+json": {
       "model_id": "71f345f04a06434ba63c3de8533b1aa7",
       "version_major": 2,
       "version_minor": 0
      },
      "text/plain": [
       "HBox(children=(IntProgress(value=0, max=1154), HTML(value='')))"
      ]
     },
     "metadata": {},
     "output_type": "display_data"
    },
    {
     "name": "stdout",
     "output_type": "stream",
     "text": [
      "\n",
      "GLFSIDKSYFFELGTYDPGLDVWGGENMELSFKVWMCGGEIEIIPCSRVGHIFRNDNYYSFPKDRKKTVERNLVRVAEVWLDEYKELFYGHGHDLIDQGLDVGNLTQDRELRKKLKCKSFKWYLENVFP\n",
      "GLFSIDKSYFFELGTYDPGLDVWGGENMELSFKVWMCGGEIEIIPCSRVGHIFRNDNPYSFPKDRMKTVERNLVRVAEVWLDEYKELFYGHGDHLIDQGLDVGNLTQQRELRKKLKCKSFKWYLENVFP\n"
     ]
    },
    {
     "data": {
      "application/vnd.jupyter.widget-view+json": {
       "model_id": "69df465e0a5343c09b64cad1218ab900",
       "version_major": 2,
       "version_minor": 0
      },
      "text/plain": [
       "HBox(children=(IntProgress(value=0, max=1154), HTML(value='')))"
      ]
     },
     "metadata": {},
     "output_type": "display_data"
    },
    {
     "name": "stdout",
     "output_type": "stream",
     "text": [
      "\n",
      "GLAAVKFFLLEKILTKYGVSPPRIIIAGDSSGGNLATAVTQQVQNDAEIKHKIKMQVLLYPGLQITDSYLPSHRENEHGIVLTRDVAIKLVSLYFTKDEALPWAMRRNQHMPLESRHLFKFVNWSILLP\n",
      "GLAAVKFFLLEKILTKYGVDPTRICIAGDSSGGNLATAVTQQVQNDAEIKHKIKMQVLLYPGLQITDSYLPSHRENEHGIVLTRDVAIKLVSLYFTKDEALPWAMRRNQHMPLESRHLFKFVNWSILLP\n"
     ]
    },
    {
     "data": {
      "application/vnd.jupyter.widget-view+json": {
       "model_id": "5c07fe94845049b4b58fc7a01101a402",
       "version_major": 2,
       "version_minor": 0
      },
      "text/plain": [
       "HBox(children=(IntProgress(value=0, max=1154), HTML(value='')))"
      ]
     },
     "metadata": {},
     "output_type": "display_data"
    },
    {
     "name": "stdout",
     "output_type": "stream",
     "text": [
      "\n",
      "VEKKKKEKVLATVTKPVGGDKNGGTRVVKLRKMPRYYPTEDVPRKLLSHGKKPFSQVVRKLRASITPGTILIILTGRHRGKRVVFLKQLASGLLLVTGPLVLNRVPLRRTHQKFVAATSTKIDISNVKI\n",
      "VEKKKKEKVLATVTKPVGGDKNGGTRVVKLRKMPRYYPTEDVPRKLLSHGKKPFSQHVRKLRASITPGTILIILTGRHRGKRVVFLKQLASGLLLVTGPLVLNRVPLRRTHQKFVIATSTKIDISNVKI\n"
     ]
    },
    {
     "data": {
      "application/vnd.jupyter.widget-view+json": {
       "model_id": "5bddcb9020844a5f9c5fa0aa2127be1e",
       "version_major": 2,
       "version_minor": 0
      },
      "text/plain": [
       "HBox(children=(IntProgress(value=0, max=1154), HTML(value='')))"
      ]
     },
     "metadata": {},
     "output_type": "display_data"
    },
    {
     "name": "stdout",
     "output_type": "stream",
     "text": [
      "\n",
      "WGIITRSKDDARIQQKREEQRRRRASSVLAQRRAQQIERKQESEPRIVSRIFQCCAWNGGVFWFSLLLFYRVFIPVLQSVTARIIGDPSLHGDVWSWLEFFLTSIFSALWVLPLFVLSKVVNAIWFQDI\n",
      "WGICTISKLDARIQQKREEQRRRRASSVLAQRRAQSIERKQESEPRIVSRIFQCCAWNGGVFWFSLLLFYRVFIPVLQSVTARIIGDPSLHGDVWSWLEFFLTSIFSALWVLPLFVLSKVVNAIWFQDI\n"
     ]
    },
    {
     "data": {
      "application/vnd.jupyter.widget-view+json": {
       "model_id": "752e74dbbf324153bff56a507d5fa59e",
       "version_major": 2,
       "version_minor": 0
      },
      "text/plain": [
       "HBox(children=(IntProgress(value=0, max=1154), HTML(value='')))"
      ]
     },
     "metadata": {},
     "output_type": "display_data"
    },
    {
     "name": "stdout",
     "output_type": "stream",
     "text": [
      "\n",
      "NKNAAVLKYENNVMNIRQFNCSPHPYWLPNFMDVFTWSLPFVGEKVTEMLVNVLSICSDEELMTEGEDQFDGSAAARKEIIRNKIRAIGKMARVFSVLREESESVLTLKGLTPTGMPPSGVLAGGRQTL\n",
      "NNKAAVLKYENNVMNIRQFNCSPHPYWLPNFMDVFTWSLPFVGEKVTEMLVNVLSICSDDELMTEGEDQFDGSAAARKEIIRNKIRAIGKMARVFSVLREESESVLTLKGLTPTGMLPSGVLAGGRQTL\n"
     ]
    },
    {
     "data": {
      "application/vnd.jupyter.widget-view+json": {
       "model_id": "8d87fc5c24754d558cb74289489a49ef",
       "version_major": 2,
       "version_minor": 0
      },
      "text/plain": [
       "HBox(children=(IntProgress(value=0, max=1154), HTML(value='')))"
      ]
     },
     "metadata": {},
     "output_type": "display_data"
    },
    {
     "name": "stdout",
     "output_type": "stream",
     "text": [
      "\n",
      "DTGADVSIIALNQWPKNWPKQKAVTGLVGIGTASEVYQSTEILHCLGPDNQESTVQPMITSIPLNLWGRDLLQQWGAEITMPAPLYSPTSQKIMTKMGYIPGKGLGKNEDGIKVPVEAKINQREEGIGY\n",
      "DTGADVSIIALNQWPKNWPKQKAVTGLVGIGTASEVYQSTEILHCLGPDNQESTVQPMITSIPLNLWGRDLLQQWGAEITMPAPLYSPTSQKIMTKMGYIPGKGLGKNEDGIKVPVEAKINQEREGIGY\n"
     ]
    },
    {
     "data": {
      "application/vnd.jupyter.widget-view+json": {
       "model_id": "65b9d968c31045dfac5ad8f404fe9799",
       "version_major": 2,
       "version_minor": 0
      },
      "text/plain": [
       "HBox(children=(IntProgress(value=0, max=1154), HTML(value='')))"
      ]
     },
     "metadata": {},
     "output_type": "display_data"
    },
    {
     "name": "stdout",
     "output_type": "stream",
     "text": [
      "\n",
      "SFLKDFDREVEIRIKQIESDRQNLLKEVDNLYNIEILRLPKALREMNWLDYFALGGNKQALEEAATADLDITEINKLTAEAIQTPLKSAKTRKVIQVDEMIVEEEEEEENERKNLQTARVKRCPPSKKR\n",
      "SFLKDFDREVEIRIKQIESDRQNLLKEVDNLYNIEILRLPKALREMNWLDYFALGGNKQALEEAATADLDITEINKLTAEAIQTPLKSAKTRKVIQVDEMIVEEEEEEENERKNLQTARVKRCPPSKKR\n"
     ]
    },
    {
     "data": {
      "application/vnd.jupyter.widget-view+json": {
       "model_id": "86327c3daa7044ef8c3a108acb716054",
       "version_major": 2,
       "version_minor": 0
      },
      "text/plain": [
       "HBox(children=(IntProgress(value=0, max=1154), HTML(value='')))"
      ]
     },
     "metadata": {},
     "output_type": "display_data"
    },
    {
     "name": "stdout",
     "output_type": "stream",
     "text": [
      "\n",
      "KAQVANLSSLLSELKKKQERDEVSVVMQVMELESNSKRMESRLTDAESKYSEMNNQIDIMQLQAAQTVTQTSADAIYDCSSLYQKNYRISGVYKLPPDDFLGSPELEVFCDMETSGGGWWTTQRRKSGL\n",
      "KAQVANLSSLLSELNKKQERDWVSVVMQVMELESNSKRMESRLTDAESKYSEMNNQIDIMQLQAAQTVTQTSADAIYDCSSLYQKNYRISGVYKLPPDDFLGSPELEVFCDMETSGGGWTIIQRRKSGL\n"
     ]
    },
    {
     "data": {
      "application/vnd.jupyter.widget-view+json": {
       "model_id": "950c30b48c2146ffb815ad49db5d54d9",
       "version_major": 2,
       "version_minor": 0
      },
      "text/plain": [
       "HBox(children=(IntProgress(value=0, max=1154), HTML(value='')))"
      ]
     },
     "metadata": {},
     "output_type": "display_data"
    },
    {
     "name": "stdout",
     "output_type": "stream",
     "text": [
      "\n",
      "IQRRLDGSVNFFRNWETYKQGFGNIDGEYWLGLENIYWLTNQGNYKLLVTMEDWSGRKVFAEYASFRLEPESEYYKLRLGRYHGNAGDSFTWHNGFQFTTLDRDHDVYTGNCAHYQKGGWWYNACAHSN\n",
      "IQRRLDGSVNFFRNWETYKQGFGNIDGEYWLGLENIYWLTNQGNYKLLVTMEDWSGRKVFAEYASFRLEPESEYYKLRLGRYHGNAGDSFTWHNGKQFTTLDRDHDVYTGNCAHYQKGGWWYNACAHSN\n"
     ]
    },
    {
     "data": {
      "application/vnd.jupyter.widget-view+json": {
       "model_id": "7297359b917c4b2b9c013c1b0e04be86",
       "version_major": 2,
       "version_minor": 0
      },
      "text/plain": [
       "HBox(children=(IntProgress(value=0, max=1154), HTML(value='')))"
      ]
     },
     "metadata": {},
     "output_type": "display_data"
    },
    {
     "name": "stdout",
     "output_type": "stream",
     "text": [
      "\n",
      "PGELEHGLITFSTRNNLTTEKSYIKYSCQEPYYKMLNNNTGIYTCSAQGVWMNKVGLRSLPTCLPVCGLPKFSRLKMARIFNGRPAQKGTTPWIAMLSHLNGQFCCGGSLLGSSWIVTAAHCLHQSLDP\n",
      "PGELEHGLITFSTRNNLTTYKSEIKYSCQEPYYKMLNNNTGIYTCSAQGVWMNKVLGRSLPTCLPVCGLPKFSRKLMARIFNGRPAQKGTTPWIAMLSHLNGQPFCGGSLLGSSWIVTAAHCLHQSLDP\n"
     ]
    },
    {
     "data": {
      "application/vnd.jupyter.widget-view+json": {
       "model_id": "05c77aab1af9436a85ebdcaeae13f016",
       "version_major": 2,
       "version_minor": 0
      },
      "text/plain": [
       "HBox(children=(IntProgress(value=0, max=1154), HTML(value='')))"
      ]
     },
     "metadata": {},
     "output_type": "display_data"
    },
    {
     "name": "stdout",
     "output_type": "stream",
     "text": [
      "\n",
      "ESAEGACGSQESGSLHSGASQELGEGQRGSTEVGRAGKGQHYEGSSHRQSQQGSRGQRNPGVQTQGQATGSAWVSSYDRQAESQSQERISPQIQLSGQTEQTQKAGEGKRNQTTEMRPERQPQTREQDR\n",
      "ESAEGACGSQESGSLHSGASQELGEGQRSGTEVGRAGKGQHYEGSSHRQSQQGSRGQNRPGVQTQGQATGSAWVSSYDRQAESQSQERISPQIQLSGQTEQTQKAGEGKRNQTTEMRPERQPQTREQDR\n"
     ]
    },
    {
     "data": {
      "application/vnd.jupyter.widget-view+json": {
       "model_id": "4d1d33177153418085727c19ef33150a",
       "version_major": 2,
       "version_minor": 0
      },
      "text/plain": [
       "HBox(children=(IntProgress(value=0, max=1154), HTML(value='')))"
      ]
     },
     "metadata": {},
     "output_type": "display_data"
    },
    {
     "name": "stdout",
     "output_type": "stream",
     "text": [
      "\n",
      "PLKRKQRRSRTTFTAEQLEELEKAFERTHYPDIYTREELAQRTKLTEARVQVWFSNRRRRWRRQKAANQLAAFNHLLPGGFPPTGMPTLPPYQLPDSTYPTTTISQDGGSTVHRPQPLPPSTMHQGGLA\n",
      "PLKRKQRRSRTTFTAEQLEELEKAFERTHYPDIYTREELAQRTKLTEARVQVWFSNRRARWRKQAGANQLAAFNHLLPGGFPPTGMPTLPPYQLPDSTYPTTTISQDGGSTVHRPQPLPPSTMHQGGLA\n"
     ]
    },
    {
     "data": {
      "application/vnd.jupyter.widget-view+json": {
       "model_id": "484b2f6f3c664b61af6f3cfd38f98d81",
       "version_major": 2,
       "version_minor": 0
      },
      "text/plain": [
       "HBox(children=(IntProgress(value=0, max=1154), HTML(value='')))"
      ]
     },
     "metadata": {},
     "output_type": "display_data"
    },
    {
     "name": "stdout",
     "output_type": "stream",
     "text": [
      "\n",
      "TGQCRNCLRNTTGFCKERCAPGYYGDARIAKNCAVCNCGGGPCDSVTGECLEEGFEPPTGMDCPTISCDKCVWDLTDALRLAALSIEEGKSGVLSVSSGAAAHRHVNIINATIYLLKTLLSERENQYAL\n",
      "TGQCRNCLRNTTGFKCERCAPGYYGDARIAKNCAVCNCGGGPCDSVTGECLEEGFEPPTGMDCPTISCDKCVWDLTDALRLAALSIEEGKSGVLSVSSGAAAHRHVNEINATIYLLKTKLSERENQYAL\n"
     ]
    },
    {
     "data": {
      "application/vnd.jupyter.widget-view+json": {
       "model_id": "6d6aaa17866a4cbea218de9548bae016",
       "version_major": 2,
       "version_minor": 0
      },
      "text/plain": [
       "HBox(children=(IntProgress(value=0, max=1154), HTML(value='')))"
      ]
     },
     "metadata": {},
     "output_type": "display_data"
    },
    {
     "name": "stdout",
     "output_type": "stream",
     "text": [
      "\n",
      "LGKITLATVKALNHLKENLKIIHRDIKPSNILLDRSGNIKLCDFGISGQLVDDIAKTRAGGCRPYMAPERIDPSASRQGYDVRSDVWSLGITLYELATGRFPYPKWNSVFDQLTQVVKGDPPQLSNSEE\n",
      "LGKITLATVKALNHLKENLKIIHRDIKPSNILLDRSGNIKLCDFGISGQLVDSIAKTRDAGCRPYMAPERIDPSASRQGYDVRSDVWSLGITLYELATGRFPYPKWNSVFDQLTQVVKGDPPQLSNSEE\n"
     ]
    },
    {
     "data": {
      "application/vnd.jupyter.widget-view+json": {
       "model_id": "b65bd189508a4934ba507481ec8421ce",
       "version_major": 2,
       "version_minor": 0
      },
      "text/plain": [
       "HBox(children=(IntProgress(value=0, max=1154), HTML(value='')))"
      ]
     },
     "metadata": {},
     "output_type": "display_data"
    },
    {
     "name": "stdout",
     "output_type": "stream",
     "text": [
      "\n",
      "EFQSCVQSDATSTGSSLQPMKKNPDSLELIRSKAGRVFGRCAGLLMTLKGLPSTYNKDLQEDKEAVFEVDSTMSAVLQVATGVISTLQIHQENMGQALSPDMLATDLAYYLVRKGMPFRQHHEASGKAV\n",
      "EFSFVQLSDAYSTGSSLMPQKKNPDSLELIRSKAGRVFGRCAGLLMTLKGLPSTYNKDLQEDKEAVFEVSDTMSAVLQVATGVISTLQIHQENMGQALSPDMLATDLAYYLVRKGMPFRQAHEASGKAV\n"
     ]
    },
    {
     "data": {
      "application/vnd.jupyter.widget-view+json": {
       "model_id": "67c58ed5df024ffd9c2d1b21d7b3fbee",
       "version_major": 2,
       "version_minor": 0
      },
      "text/plain": [
       "HBox(children=(IntProgress(value=0, max=1154), HTML(value='')))"
      ]
     },
     "metadata": {},
     "output_type": "display_data"
    },
    {
     "name": "stdout",
     "output_type": "stream",
     "text": [
      "\n",
      "TILDPPRRDVAVAEEVRQAVCEARRGRPWEAPAMMKTEEAGLAGRPSPWTTPGRAAATVPAAPMQLFNGGCPPPPPVLDGEDVLPDLDLLPPPPPPPPVLLPSEETPEPPALASLIADLEQLHLSPPPP\n",
      "ITLAPPRRDVAVAEEVRQAVCEARRGRPWEAPAPMKTPEAGLAGRPSPWTTPGRAAATVPAAPMQLFNGGCPPPPPVLDGEDVLPDLDLLPPPPPPPPVLLPSEEEAPAPMGASLIADLEQLHLSPPPP\n"
     ]
    },
    {
     "data": {
      "application/vnd.jupyter.widget-view+json": {
       "model_id": "307786edcb9c4763a36093e3506ca2f9",
       "version_major": 2,
       "version_minor": 0
      },
      "text/plain": [
       "HBox(children=(IntProgress(value=0, max=1154), HTML(value='')))"
      ]
     },
     "metadata": {},
     "output_type": "display_data"
    },
    {
     "name": "stdout",
     "output_type": "stream",
     "text": [
      "\n",
      "LNDFAVFTTFGLASALLLGVDGLLSGILAIIYVSAASFHLCFYSPGVPSTYKGLPCPYASCILASTSLLTKGNRFILCMCASLMILFMMDQSYYPYDKILESENWKKLVYIGGVIMLFFSPLSLSAFYC\n",
      "LNDFAVFTTFGLASALLLGVDGLLSGILAIIYVSAASFHLCFYSPGVPSTYKGLPCPYASCILASTSLLTKGNRFILCCMASLMILFMMDQSYYPYDKILESENWKKLVYIGGVIMLFFSPLSLSAFYC\n"
     ]
    },
    {
     "data": {
      "application/vnd.jupyter.widget-view+json": {
       "model_id": "10445676b2c041309e87197aba3f3942",
       "version_major": 2,
       "version_minor": 0
      },
      "text/plain": [
       "HBox(children=(IntProgress(value=0, max=1154), HTML(value='')))"
      ]
     },
     "metadata": {},
     "output_type": "display_data"
    },
    {
     "name": "stdout",
     "output_type": "stream",
     "text": [
      "\n",
      "LDSILQQKQPCRGDNRIDGLEADPGPPSLPVLLEEVDKHGSSASPPGHWYDPSDASFVTAVEVSGAEDPASDTPPWAGSLPPTRQGLTLHVHANQRVPRSQGTEAELNARLQALTLTPPNAAGFQSSPS\n",
      "LDSIALQKQPCRGDNRDIGLEADPGPPSLPVPLETVDKHGSSASPPGHWDYSSDASFVTAVEVSGAEDPASDTPPWAGSLPPTRQGLLHVVHANQRVPRSQGTEAELNARLQALTLTPPNAAGFQSSPS\n"
     ]
    },
    {
     "data": {
      "application/vnd.jupyter.widget-view+json": {
       "model_id": "8a73de007aea4164a10dc80466ad9818",
       "version_major": 2,
       "version_minor": 0
      },
      "text/plain": [
       "HBox(children=(IntProgress(value=0, max=1154), HTML(value='')))"
      ]
     },
     "metadata": {},
     "output_type": "display_data"
    },
    {
     "name": "stdout",
     "output_type": "stream",
     "text": [
      "\n",
      "TGRLLEPARHQHRFSGGGFFGFQHPVRVYLLMSKRQEYLRSSGEQVLASFPVQATIDFYDDESTESASEAEEPEEGPPPLHLLPQEVGGRQENGPGGKGRDQGINQGQRSSGGGDHWGEGPLPQGVSSR\n",
      "TGRPLEPRADQHTFGSKGAFGFQHPVRVYLPMSKRQEYLRSSGEQVLASFPVQATIDFYDDESTESASEAEEPEEGPPPLHLLPQEVGGRQENGPGGKGRDQGINQGQRSSGGGDHWGEGPLPQGVSSR\n"
     ]
    },
    {
     "data": {
      "application/vnd.jupyter.widget-view+json": {
       "model_id": "df1a33806f204de69edb25949f9b63e9",
       "version_major": 2,
       "version_minor": 0
      },
      "text/plain": [
       "HBox(children=(IntProgress(value=0, max=1154), HTML(value='')))"
      ]
     },
     "metadata": {},
     "output_type": "display_data"
    },
    {
     "name": "stdout",
     "output_type": "stream",
     "text": [
      "\n",
      "QVSKGNDIALLKLANPVSLTDKIQLACLPPAGTILNNNYPCYVTGWGRLQTNGALPDDLKQGQLLVVDYATCSSSGWWGSTVKTNMICAGGDGVICTCNGDSGGPNLCAQSDGRWEVHGIGSLTSVLGC\n",
      "QVSKGNDIALLKLANPVSLTDKIQLACLPPAGTILPNNYPCYVTGWGRLQTNGALPDDLKQGQLLVVDYATCSSSGWWGSTVKTNMICAGGDGVICTCNGDSGGPLNCQASDGRWEVHGIGSLTSVLGC\n"
     ]
    },
    {
     "data": {
      "application/vnd.jupyter.widget-view+json": {
       "model_id": "05642507cd564115b4aab907328e664d",
       "version_major": 2,
       "version_minor": 0
      },
      "text/plain": [
       "HBox(children=(IntProgress(value=0, max=1154), HTML(value='')))"
      ]
     },
     "metadata": {},
     "output_type": "display_data"
    },
    {
     "name": "stdout",
     "output_type": "stream",
     "text": [
      "\n",
      "ETLTQDYIITPHALPMFREPRQRSTRKQLEKDRLDPLKSHKPEPPVAGPGRGGRVTGHGTTLSSYIVKNIALDKTDDSNPREAILRHAKAAEDSPYWVSPAYSKTQPTTMAAQVESDDEEAKNEPEWKK\n",
      "ETLTQDYIITPHALPMFREPRQRSTRKQLEKDRLDPLKSHKPEPPVAGPGRGGRVGTHGGTLSSYIVKNIALDKTDDSNPREAILRHAKAAEDSPYWVSPAYSKTQPKTMFAQVESDDEEAKNEPEWKK\n"
     ]
    },
    {
     "data": {
      "application/vnd.jupyter.widget-view+json": {
       "model_id": "9dce0efa1035404ba5d428d3da574f15",
       "version_major": 2,
       "version_minor": 0
      },
      "text/plain": [
       "HBox(children=(IntProgress(value=0, max=1154), HTML(value='')))"
      ]
     },
     "metadata": {},
     "output_type": "display_data"
    },
    {
     "name": "stdout",
     "output_type": "stream",
     "text": [
      "\n",
      "TCPLPLASSQLPVAPQLPVVRQYLARFLEGLALDMGTAPRSLPAAMATPAVSGSNSVSRSALFEQQLTKESTPGPKEPPVLPSSTCSSKPGPVEPASSQPEEAAPTPVLRLSESANPPAQRPDPAHPGG\n",
      "TCPLPLASSQLPVAPQLPVVRQYLARFLEGLALDMGTAPRSLPAAMATPAVSGSNSVSRSALFEQQLTKESTPGPKEPPVLPSSTCSSKPGPVEPASSQPEEAAPTPVPRLSESANPPAQRPDPAHPGG\n"
     ]
    },
    {
     "data": {
      "application/vnd.jupyter.widget-view+json": {
       "model_id": "a0ef507b50c7406f8c7edb7b8f05df9c",
       "version_major": 2,
       "version_minor": 0
      },
      "text/plain": [
       "HBox(children=(IntProgress(value=0, max=1154), HTML(value='')))"
      ]
     },
     "metadata": {},
     "output_type": "display_data"
    },
    {
     "name": "stdout",
     "output_type": "stream",
     "text": [
      "\n",
      "AASPTPASPASNRAVTPSSEAKDDRLQDQRQNSPAGNKENIKPNETSPSFSKAENKGISPVVSEHRKQIDDLKKFKNDFRLQPSSTSESMDQLLNKNREGEKSRDLIKDKIEPSAKDSFIENSSSNCTS\n",
      "AASPTPASPASNRAVTPSSEAKDSRLQDQRQNSPAGNKENIKPNETSPSFSKAENKGISPVVSEHRKQIDDLKKFKNDFRLQPSSTSESMDQLLNKNREGEKSRDLIKDKIEPSAKDSFIENSSSNCTS\n"
     ]
    },
    {
     "data": {
      "application/vnd.jupyter.widget-view+json": {
       "model_id": "915fd49dc08f49b2b60c99d74260703a",
       "version_major": 2,
       "version_minor": 0
      },
      "text/plain": [
       "HBox(children=(IntProgress(value=0, max=1154), HTML(value='')))"
      ]
     },
     "metadata": {},
     "output_type": "display_data"
    },
    {
     "name": "stdout",
     "output_type": "stream",
     "text": [
      "\n",
      "VNPHLREFHCGFEDGNICLFTQDDTDNFDWTKQSTATRNTKYTPTTGPNADRSGSKEGTCMYYETSRPRLEGEKARLSSPVFSIAPKNPYGPTNTAYCFSFFYHMYGQHIGVLNVYLRLKGQTTIENPL\n",
      "VNPHLREFHCGFEDGNICLFTQDDTDNFDWTKQSTATRNTKYTPNTGPNADRSGSKEGFYMYIETSRPRLEGEKARLLSPVFSIAPKNPYGPTNTAYCFSFFYHMYGQHIGVLNVYLRLKGQTTIENPL\n"
     ]
    },
    {
     "data": {
      "application/vnd.jupyter.widget-view+json": {
       "model_id": "ea86a5b829f44ba2b28de2fb92149067",
       "version_major": 2,
       "version_minor": 0
      },
      "text/plain": [
       "HBox(children=(IntProgress(value=0, max=1154), HTML(value='')))"
      ]
     },
     "metadata": {},
     "output_type": "display_data"
    },
    {
     "name": "stdout",
     "output_type": "stream",
     "text": [
      "\n",
      "INILDKSYSSEEKCRITLANGDWKQDSLLHKNPTVTHTKEPETYKKVVAEQTYFCKQLAKRKWQLYKNYCGETVALFKNKVFSALFIAILLFDIGGFPPSLLMEDVARSSNVKEEEFIMPLISIIGIMT\n",
      "INILDKSYSSEEKCRITLANGDWKQDSLLHKNPTVTHTKEPETYKKKVAEQTYFCKQLAKRKWQLYKNYCGETVALFKNKVFSALFIAILLFDIGGFPPSLLMEDVARSSNVKEEEFIMPLISIIGIMT\n"
     ]
    },
    {
     "data": {
      "application/vnd.jupyter.widget-view+json": {
       "model_id": "443b2a5e3659462392dbe1f0ebdca63e",
       "version_major": 2,
       "version_minor": 0
      },
      "text/plain": [
       "HBox(children=(IntProgress(value=0, max=1154), HTML(value='')))"
      ]
     },
     "metadata": {},
     "output_type": "display_data"
    },
    {
     "name": "stdout",
     "output_type": "stream",
     "text": [
      "\n",
      "LLKGMLEYEPAKRFSIRQIRQHSWFRKKHPPAEAPVPIPPSPDTKDRWRSMTVVPYLEDLHGADEDEDLFDIEDDIIYTQDFTVPGQVPEEEASHNGQRRGLPKAVCMNGTEAAQLSTKSRAEGRAPNP\n",
      "LLKGMLEYEPAKRFSIRQIRQHSWFRKKHPPAEAPVPIPPSPDTKDRWRSMTVVPYLEDLHGADEDEDLFDIEDDIIYTQDFTVPGQVPEEEASHNGQRRGLPKAVCMNGTEAAQLSTKSRAEGRAPNP\n"
     ]
    },
    {
     "data": {
      "application/vnd.jupyter.widget-view+json": {
       "model_id": "e7ca6673d1344096b21a79c89df4df6c",
       "version_major": 2,
       "version_minor": 0
      },
      "text/plain": [
       "HBox(children=(IntProgress(value=0, max=1154), HTML(value='')))"
      ]
     },
     "metadata": {},
     "output_type": "display_data"
    },
    {
     "name": "stdout",
     "output_type": "stream",
     "text": [
      "\n",
      "ELLAHTGKEFEDVFPNILNRATLILDMFYGLSLIEVDTSEHIYLLVQQPESEEEQVMLESLGRPTQEYVMPILGLIFLMGNRVKAANVWLLLRRFSVDVGRKHSITRKLMRQRYLECRPLSYSNPVEYE\n",
      "ELLAHTGKEFEDVFPNILNRATLILDMFYGLSLIEVDTSEHIYLLVQQPESEEEQVMLESLGRPTQEYVMPILGLIFLMGNRVKEANVWNLLRRFSVDVGRKHSITRKLMRQRYLECRPLSYSNPVEYE\n"
     ]
    },
    {
     "data": {
      "application/vnd.jupyter.widget-view+json": {
       "model_id": "1aa1eef96c534092ae2c3842ebb4c2b9",
       "version_major": 2,
       "version_minor": 0
      },
      "text/plain": [
       "HBox(children=(IntProgress(value=0, max=1154), HTML(value='')))"
      ]
     },
     "metadata": {},
     "output_type": "display_data"
    },
    {
     "name": "stdout",
     "output_type": "stream",
     "text": [
      "\n",
      "GRFLRGYHQYAYDGKDYIALKEDLRSWTAADMAAQITQRKWEAARVAEQLRAYLEGTCVDGLRRYLENGKETLQRTDPPKTHMTHHPISDHEATLRCWALGFYPAEITLTWQRDGEDQTQDTELVETRP\n",
      "GRFLRGYHQYAYDGKDYIALKEDLRSWTAADMAAQITQRKWEAARVAEQLRAYLEGTCVDGLRRYLENGKETLQRTDPPKTHMTHHPISDHEATLRCWALGFYPAEITLTWQRDGEDQTQDTELVETRP\n"
     ]
    },
    {
     "data": {
      "application/vnd.jupyter.widget-view+json": {
       "model_id": "e08d23f1e30c46edac8f739d618d282a",
       "version_major": 2,
       "version_minor": 0
      },
      "text/plain": [
       "HBox(children=(IntProgress(value=0, max=1154), HTML(value='')))"
      ]
     },
     "metadata": {},
     "output_type": "display_data"
    },
    {
     "name": "stdout",
     "output_type": "stream",
     "text": [
      "\n",
      "TGRKRSLELQTRTEEEKKEWIQIIQATIEKHKQNSETFKAFGGAFSQDEDPSLSPDMPITSTSPVEPVVTTEGSSGAAGLEPRKLSSKTRRKKEKQSCKSCGETFNSITKRRHHCKLCGAVICGKCSEF\n",
      "TGRKRSLELQTRTEEEKKEWIQIIQATIEKHKQNSETFKAFGGAFSQDEDPSLSPDMPITSTSPVEPVVTTEGSSGAAGLEPRKLSSKTRRDKEKQSCKSCGETFNSITKRRHHCKLCGAVICGKCSEF\n"
     ]
    },
    {
     "data": {
      "application/vnd.jupyter.widget-view+json": {
       "model_id": "1b59d54928e348d89537ebc2e606bb98",
       "version_major": 2,
       "version_minor": 0
      },
      "text/plain": [
       "HBox(children=(IntProgress(value=0, max=1154), HTML(value='')))"
      ]
     },
     "metadata": {},
     "output_type": "display_data"
    },
    {
     "name": "stdout",
     "output_type": "stream",
     "text": [
      "\n",
      "YTVSIYGVIQGYRTPVLSAEASTGETPNLGEVVVAEVGWDALKLNWTAPEGAYEYFFIQVQEADTVEAAQNLTVPGGLRSTDLPGLKAATYHTITIRGVTQDFSTTPLSVEVLTEEVPDMGNLTVTEVS\n",
      "YTVSIYGVIQGYRTPVLSAEASTGETPNLGEVVVAEVGWDALKLNWTAPEGAYEYFFIQVQEADTVEAAQNLTVPGGLRSTDLPGLKAATHYTITIRGVTQDFSTTPLSVEVLTEEVPDMGNLTVTEVS\n"
     ]
    },
    {
     "data": {
      "application/vnd.jupyter.widget-view+json": {
       "model_id": "c18ff6692d614b0cab660a95249f0e4f",
       "version_major": 2,
       "version_minor": 0
      },
      "text/plain": [
       "HBox(children=(IntProgress(value=0, max=1154), HTML(value='')))"
      ]
     },
     "metadata": {},
     "output_type": "display_data"
    },
    {
     "name": "stdout",
     "output_type": "stream",
     "text": [
      "\n",
      "NHENGMNRDGGMIPEGGGGNQEPRQQPQPPPEEPAQAAMEGPQPENMQPRTRRTKFTLLLLEELESVFRHTQYPDVPTRRELAENLGVTEDKVRVWFKNKRARCRRHQRELMLANELRADPDDCVYIVV\n",
      "NHENGMNRDGGMIPEGGGGNQEPRQQPQPPPEEPAQAAMEGPQPENMQPRTRRTKFTLLQVEELESVFRHTQYPDVPTRRELAENLGVTEDKVRVWFKNKRARCRRHQRELMLANELRADPDDCVYIVV\n"
     ]
    },
    {
     "data": {
      "application/vnd.jupyter.widget-view+json": {
       "model_id": "719eee99350b42be8e39bb688639569d",
       "version_major": 2,
       "version_minor": 0
      },
      "text/plain": [
       "HBox(children=(IntProgress(value=0, max=1154), HTML(value='')))"
      ]
     },
     "metadata": {},
     "output_type": "display_data"
    },
    {
     "name": "stdout",
     "output_type": "stream",
     "text": [
      "\n",
      "LLQFYISRQWLNKFGTFAEPGPISNNDFLCIHGGVPPRKAGYIDELVLLLPLNIWDNLYSRYGGGPAVNHLYICHTCQIEAEKIEKRRKTELEIFIRLNRAFQKEDSYATFYCISMQWFREWESFVGGK\n",
      "LLQFYISRQWLNKFKTFAEPGPISNNDFLCIHGGVPPRKAGYIEDLVLMLPQNIWDNLYSRYGGGPAVNHLYICHTCQIEAEKIEKRRKTELEIFIRLNRAFQKEDSPATFYCISMQWFREWESFVKGK\n"
     ]
    },
    {
     "data": {
      "application/vnd.jupyter.widget-view+json": {
       "model_id": "ba9d91f287b24591aa5c818e9c00a74a",
       "version_major": 2,
       "version_minor": 0
      },
      "text/plain": [
       "HBox(children=(IntProgress(value=0, max=1154), HTML(value='')))"
      ]
     },
     "metadata": {},
     "output_type": "display_data"
    },
    {
     "name": "stdout",
     "output_type": "stream",
     "text": [
      "\n",
      "PLSHIMAQPLCIRALLLNHTDVGSVRMRAREKSVAPSNTGSRTTSVRCIGIPRGPVRPAIPPPLSSVYAWGGGLGTPLRLPMLNTEVVQAAAGRTQKVGVTRSGRLILWEAPPLGAGGGSLLPGAVEQP\n",
      "PLSHIMAQPLCIRALLNLHTDVGSVRMRRAEKSVAPSNTGSRTTSVRCRGIPRGPVRPAIPPPLSSVYAWGGGLGTPLRLPMLNTEVVQVAAGRTQKAGVTRSGRLILWEAPPLGAGGGSLLPGAVEQP\n"
     ]
    },
    {
     "data": {
      "application/vnd.jupyter.widget-view+json": {
       "model_id": "3b61bcc49fbb483f8c3170a3043f62c3",
       "version_major": 2,
       "version_minor": 0
      },
      "text/plain": [
       "HBox(children=(IntProgress(value=0, max=1154), HTML(value='')))"
      ]
     },
     "metadata": {},
     "output_type": "display_data"
    },
    {
     "name": "stdout",
     "output_type": "stream",
     "text": [
      "\n",
      "NMELREKLRALQLQRWKARKKAAASPHAGQESHTLALEPAFGKISPLASDEETIPKYAGHKNQSATLLGQRSSNNNSAPPKPMSLKIERWSSIKTPPQENTKKNLSRRRQDRRATPTGRPTPCAERRGG\n",
      "NMELREKLRALQLQRWKARKKSAASPHAGQESHTLALEPAFGKISPLSADEETIPKYAGHKNQSATLLGQRSSSNNSAPPKPMSLKIERISSWKTPPQENRDKNLSRRRQDRRATPTGRPTPCAERRGG\n"
     ]
    },
    {
     "data": {
      "application/vnd.jupyter.widget-view+json": {
       "model_id": "2133274b8a464522aebdc4cc1e47c3b1",
       "version_major": 2,
       "version_minor": 0
      },
      "text/plain": [
       "HBox(children=(IntProgress(value=0, max=1154), HTML(value='')))"
      ]
     },
     "metadata": {},
     "output_type": "display_data"
    },
    {
     "name": "stdout",
     "output_type": "stream",
     "text": [
      "\n",
      "KERAEKSEEYAEQLHVQLADKDLYVAEALSTLESWRSRYNQVVKEKGDLEELIIVNNDRVTDLVNQQQLTEEKMREDRDSLVERLHRQTAEYSAFKLENERLKASFAPMEDKLNQAQLEVQLLKASVKN\n",
      "KERAEKSEEYAEQLHVQLADKDLYVAEALSTLESWRSRYNQVVKEKGDLELEIIVLNDRVTDLVNQQQTLEEKMREDRDSLVERLHRQTAEYSAFKLENERLKASFAPMEDKLNQAHLEVQQLKASVKN\n"
     ]
    },
    {
     "data": {
      "application/vnd.jupyter.widget-view+json": {
       "model_id": "95b4f1f430094e04ac3e114d69d639c7",
       "version_major": 2,
       "version_minor": 0
      },
      "text/plain": [
       "HBox(children=(IntProgress(value=0, max=1154), HTML(value='')))"
      ]
     },
     "metadata": {},
     "output_type": "display_data"
    },
    {
     "name": "stdout",
     "output_type": "stream",
     "text": [
      "\n",
      "EAQLWSEAFDELLASKYGLAAFRAFLKSEFCEENIEFWLACEDFKKTKSPQKLSSKARKIYTDFIEKEAPKEINIDFQTKTIIAQNIQEATSGCFTTAQKRVYSLMENNSYPRFLESEFYQDLCKKPQI\n",
      "EAQLWSEAFDELLASKYGLAAFRAFLKSEFCEENIEFWLACEDFKKTKSPQKLSSKARKIYTDFIEKEAPKEINIDFQTKTLIAQNIQEATSGCFTTAQKRVYSLMENNSYPRFLESEFYQDLCKKPQI\n"
     ]
    },
    {
     "data": {
      "application/vnd.jupyter.widget-view+json": {
       "model_id": "5d29b48e203e45b0b04803d8a8e29490",
       "version_major": 2,
       "version_minor": 0
      },
      "text/plain": [
       "HBox(children=(IntProgress(value=0, max=1154), HTML(value='')))"
      ]
     },
     "metadata": {},
     "output_type": "display_data"
    },
    {
     "name": "stdout",
     "output_type": "stream",
     "text": [
      "\n",
      "STNYRLAPKYHFPIQFEDVYNALRWFLRKVVLKKYGVPPERIGISGDSAGGNLAAAVTQQLLDDPDVKIKLKIQSLIYPALQPLDVDLPQYQENSNFLFLSKSLMVRFWSEYFTTDRSLEKAMLSRQHV\n",
      "STNYRLAPKYHFPIQFEDVYNALRWFLRKKVLAKYGVNPERIGISGDSAGGNLAAAVTQQLLDDPDVKIKLKIQSLIYPALQPLDVDLPSYQENSNFLFLSKSLMVRFWSEYFTTDRSLEKAMLSRQHV\n"
     ]
    },
    {
     "data": {
      "application/vnd.jupyter.widget-view+json": {
       "model_id": "a06b23b9ef834f1a8c652aa3cf9baa02",
       "version_major": 2,
       "version_minor": 0
      },
      "text/plain": [
       "HBox(children=(IntProgress(value=0, max=1154), HTML(value='')))"
      ]
     },
     "metadata": {},
     "output_type": "display_data"
    },
    {
     "name": "stdout",
     "output_type": "stream",
     "text": [
      "\n",
      "HDFTTTQVGMHDIVRSFRQTMDQYSTEPGRYRFMGTEAYAESIDRTVMYYGLPFIQEADFPFNNYLSMLDTVSGSSVYEVITSWMENMPEGKWPNWMIGGPDSSRLTSRLGNQYVNVMNMLLFTLPGTP\n",
      "HDFTTTQVGMHDIVRSFRQTMDQYSTEPGRYRFMGTEAYAESIDRTVMYYGLPFIQEADFPFNNYLSMLDTVSGNSVYEVITSWMENMPEGKWPNWMIGGPDSSRLTSRLGNQYVNVMNMLLFTLPGTP\n"
     ]
    },
    {
     "data": {
      "application/vnd.jupyter.widget-view+json": {
       "model_id": "392c541daec8431caa4f0f314b9c3a8e",
       "version_major": 2,
       "version_minor": 0
      },
      "text/plain": [
       "HBox(children=(IntProgress(value=0, max=1154), HTML(value='')))"
      ]
     },
     "metadata": {},
     "output_type": "display_data"
    },
    {
     "name": "stdout",
     "output_type": "stream",
     "text": [
      "\n",
      "KIFEEDFQRERSDRERMNEEKEELKKQVEKLQVQATLSNAQLKAFKDEEKAERALRQQKRKAKASGERYHVPEHPEHLCGAYPYAYPPMPAMVPHHGFEDWSVIRYPPPPMAMPHPPPLNNSRLFHLPE\n",
      "KIFEEDFQRERSDRERMNEEKEELKKQVEKLQAQVTLSNAQLKAFKDEEKAREALRQQKRKAKASGERYHVEPHPEHLCGAYPYAYPPMPAMVPHHGFEDWSQIRYPPPPMAMEHPPPLPNSRLFHLPE\n"
     ]
    },
    {
     "data": {
      "application/vnd.jupyter.widget-view+json": {
       "model_id": "ac97d007018c472b8d941b0d9d6040a6",
       "version_major": 2,
       "version_minor": 0
      },
      "text/plain": [
       "HBox(children=(IntProgress(value=0, max=1154), HTML(value='')))"
      ]
     },
     "metadata": {},
     "output_type": "display_data"
    },
    {
     "name": "stdout",
     "output_type": "stream",
     "text": [
      "\n",
      "RAYFQQYGCTFTAVIPTNFFGPHDNFNIEDGHVLPGLIVKVHLAKSSGSALTVWGTGNPRRQFIYSLDLAQLFIWVLREYNEVEPIILSVGEEDEVSIKEAAEAVVEAMDFHGEVTFDTTKSDGQFKKT\n",
      "RAYFQQYGCTFTAVIPTNVFGPHDNFNIEDGHVLPGLIHKVHLAKSSGSALTVWGTGNPRRQFIYSLDLAQLFIWVLREYNEVEPIILSVGEEDEVSIKEAAEAVVEAMDFHGEVTFDTTKSDGQFKKT\n"
     ]
    },
    {
     "data": {
      "application/vnd.jupyter.widget-view+json": {
       "model_id": "0dc5016f5c9f4d2e8b02679d6b67d070",
       "version_major": 2,
       "version_minor": 0
      },
      "text/plain": [
       "HBox(children=(IntProgress(value=0, max=1154), HTML(value='')))"
      ]
     },
     "metadata": {},
     "output_type": "display_data"
    },
    {
     "name": "stdout",
     "output_type": "stream",
     "text": [
      "\n",
      "SHERYTEQVTPLLVYAQRQLLLRIQKFKGPDITQQPCARYEAEYGEKITCNNFIGKQLIKSSSTEEATSNCTDLLKMLISSEYSRAKALVCVPVDVTDTLRCFRETLEKSKYHNRSIRHSRKLLSLFLA\n",
      "SHERYTEQVTPLLVYAQRQLLLRIQKFKGPDITQQPCARYEAEYGEKITCRNFIGKQLKINSSTIEATSNCTDLLKMLISSEYSRAKALVCVPVDVTDTLRCFRETLEKSKYHNRSIRHSRKLLSLFLA\n"
     ]
    },
    {
     "data": {
      "application/vnd.jupyter.widget-view+json": {
       "model_id": "e4989ff2de5a4684a59a19d8d321c37b",
       "version_major": 2,
       "version_minor": 0
      },
      "text/plain": [
       "HBox(children=(IntProgress(value=0, max=1154), HTML(value='')))"
      ]
     },
     "metadata": {},
     "output_type": "display_data"
    },
    {
     "name": "stdout",
     "output_type": "stream",
     "text": [
      "\n",
      "NSCIVCNMGHSNTEIDVTSLRTPELTWERVRSQVDHVIWPDGKRVVLLAEGRLLNLSCSTVPTFVLSITATTQALALIELYNAPEGRYKQDVYLLPKKMDEYVASLHLPSFDAHKTLETDDQAKYLLLN\n",
      "NSCIVCNMGHSNTEIDVTSLRTPELTWERVRSQVDHVIWPDGKRVVLLAEGRLLNLSCSTVPTFVLSITATTQALALIELYNAPEGRYKQDVYLLPKKMDEYVASLHLPSFDAHLTELTDDQAKYLGLN\n"
     ]
    },
    {
     "data": {
      "application/vnd.jupyter.widget-view+json": {
       "model_id": "365d72857f204ebab1015b2946f6a5ea",
       "version_major": 2,
       "version_minor": 0
      },
      "text/plain": [
       "HBox(children=(IntProgress(value=0, max=1154), HTML(value='')))"
      ]
     },
     "metadata": {},
     "output_type": "display_data"
    },
    {
     "name": "stdout",
     "output_type": "stream",
     "text": [
      "\n",
      "KTFLPPLCRAFACRGCQLAPERGAERRDTAPSGVSRFCPPRKSWHDCIGPPDKYSNLRPHHFYIPENESPLEQKLRKLEQETQEWNQQFWANQNLTFSKEKEEFIHSRLKTKGLGLRTESGQAKTLNAE\n",
      "KTFLPPLCRAFACRGCQLAPERGAERRDTAPSGVSRFCPPRKSCHDWIGPPDKYSNLRPVHFYIPENESPLEQKLRKLRQETQEWNQQFWANQNLTFSKEKEEFIHSRLKTKGLGLRTESGQKATLNAE\n"
     ]
    },
    {
     "data": {
      "application/vnd.jupyter.widget-view+json": {
       "model_id": "50548e7b68dd40e5abf8919670080369",
       "version_major": 2,
       "version_minor": 0
      },
      "text/plain": [
       "HBox(children=(IntProgress(value=0, max=1154), HTML(value='')))"
      ]
     },
     "metadata": {},
     "output_type": "display_data"
    },
    {
     "name": "stdout",
     "output_type": "stream",
     "text": [
      "\n",
      "VLQLTLAWILLEACGGSRPLQARSQQHHGAAALDGKGKLHLAGPCCPSEMDTTETSGPGNHPERCGVPSPECESFMEHLQRALRSRFRLRLLGVRQAPQLEEELCQAWFANCEDDITCGPTWLPLSEKR\n",
      "VLQLTLAWILLEACGGSRPLQARSQQHHGLAADLGKGKLHLAGPCCPSEMDTTETSGPGNHPERCGVPSPECESFLEHLQRALRSRFRLRLLGVRQAQPLCEELCQAWFANCEDDITCGPTWLPLSEKR\n"
     ]
    },
    {
     "data": {
      "application/vnd.jupyter.widget-view+json": {
       "model_id": "f516b11a89314328bf85bc3f42035212",
       "version_major": 2,
       "version_minor": 0
      },
      "text/plain": [
       "HBox(children=(IntProgress(value=0, max=1154), HTML(value='')))"
      ]
     },
     "metadata": {},
     "output_type": "display_data"
    },
    {
     "name": "stdout",
     "output_type": "stream",
     "text": [
      "\n",
      "QESVFEKISLPGIRNEFFMLVKVAQEAAKGGEVYQQLHAAMSQALVKENIPYSWASLACVKAHHYTALAHEFTAILIIDHQVKPGMDLDHQEKCLSQLYDHMPEGLTPLATLKNDQQRRQLGKSHLHRA\n",
      "QESVFEKISLPGIRNEFFMLVKVAQEAAKVGEVYQQLHAAMSQALVKENIPYSWASLACVKAHHYTALAHYFTAILLIDHQVKPGMDLDHQEKCLSQLYDHMPEGLTPLATLKNDQQRRQLGKSHLHRA\n"
     ]
    },
    {
     "data": {
      "application/vnd.jupyter.widget-view+json": {
       "model_id": "1bda71860838440bbd1c481f1c6ae27c",
       "version_major": 2,
       "version_minor": 0
      },
      "text/plain": [
       "HBox(children=(IntProgress(value=0, max=1154), HTML(value='')))"
      ]
     },
     "metadata": {},
     "output_type": "display_data"
    },
    {
     "name": "stdout",
     "output_type": "stream",
     "text": [
      "\n",
      "DDTINLLKPLPVEDDDCDDDETSISAFSSTLLNPIKLAVTQPNSSFFAGMLEGELNKLSFSPMAKNAENEDLALGPCPCPSKSQMATRGLLDLNNPPLETETSSTHSESSVVVDLPPTTFIFEHTVNNS\n",
      "DDTINLLKPLPVEDSDCSSDETSISAFSSTLLNPIKLAVTQPNSSFFAGMLEGELNKLSFSPMAKNAENEDLALGPCPCPSKSQMATRGLLDLDNPELETETSSTHSESSVVVDLPDTPFIFEHTVNNS\n"
     ]
    },
    {
     "data": {
      "application/vnd.jupyter.widget-view+json": {
       "model_id": "98b89333fba442eeafd9c2e9666085b1",
       "version_major": 2,
       "version_minor": 0
      },
      "text/plain": [
       "HBox(children=(IntProgress(value=0, max=1154), HTML(value='')))"
      ]
     },
     "metadata": {},
     "output_type": "display_data"
    },
    {
     "name": "stdout",
     "output_type": "stream",
     "text": [
      "\n",
      "TTLNILSILVELVSAGGGRRVSFLVTKGGSQILLQLLMNASKESPPHEDLMVQIHSILAKIGPKDKKFGVKARINGALNITLLNVKQNLQNHRLVLPCLQLLRVYSANSVNSVSLGKNGVVELMFKIIG\n",
      "TTLNILSILVELVSAGGGRRVSFLVTKGGSQILLQLLMNASKESPPHEDLMVQIHSILAKIGPKDKKFGVKARINGALNITLNLVKQNLQNHRLVLPCLQLLRVYSANSVNSVSLGKNGVVELMFKIIG\n"
     ]
    },
    {
     "data": {
      "application/vnd.jupyter.widget-view+json": {
       "model_id": "ade2fb453d7e47cfb4c1940a0745bb41",
       "version_major": 2,
       "version_minor": 0
      },
      "text/plain": [
       "HBox(children=(IntProgress(value=0, max=1154), HTML(value='')))"
      ]
     },
     "metadata": {},
     "output_type": "display_data"
    },
    {
     "name": "stdout",
     "output_type": "stream",
     "text": [
      "\n",
      "PKINTSKKMSTLAHPNNILEMSQEIKKNCGGKQVEITLERTKMTKGIKEKQSNDLEKAAFKRRAEGEEKPTRKKQAKITELDNQLITMPLPHIPLKNIMDVEMKLVYIDEMGVREEFVESFMSTGSQPT\n",
      "PKINTSKKMSTLAHPPNILEMSQEIKKNCGGKQVEITLERTKMTKGIKEKQSNDLEKAAFKRKAEGEEKPTRKKQAKITELDNQLITMPLPHIPLKNIMDVEMKLVYIDEMGVRYEFVESFMSTGSQPT\n"
     ]
    },
    {
     "data": {
      "application/vnd.jupyter.widget-view+json": {
       "model_id": "c34f4b71d0eb456187ce10ca91bef804",
       "version_major": 2,
       "version_minor": 0
      },
      "text/plain": [
       "HBox(children=(IntProgress(value=0, max=1154), HTML(value='')))"
      ]
     },
     "metadata": {},
     "output_type": "display_data"
    },
    {
     "name": "stdout",
     "output_type": "stream",
     "text": [
      "\n",
      "QKQQDTLIVWSEAENYDLALQFQEKAGCDEIEEKICQVQKKDPSVDITQDLVDESEEERFDDMSSPGLELPSCELSRLEEIAELVASSLPSPLRRKKLALALENEGYIKKLLELFHVCEDLENIEGLHH\n",
      "QKQQDTLIVWSEAENYDLALSFQEKAGCDEIWEKICQVQGKDPSVDITQDLVDESEEERFDDMSSPGLELPSCELSRLEEIAELVASSLPSPLRREKLALALENEGYIKKLLELFHVCEDLENIEGLHH\n"
     ]
    },
    {
     "data": {
      "application/vnd.jupyter.widget-view+json": {
       "model_id": "3d571adf766345d595cf53cd8c6e79d1",
       "version_major": 2,
       "version_minor": 0
      },
      "text/plain": [
       "HBox(children=(IntProgress(value=0, max=1154), HTML(value='')))"
      ]
     },
     "metadata": {},
     "output_type": "display_data"
    },
    {
     "name": "stdout",
     "output_type": "stream",
     "text": [
      "\n",
      "QVHKQTTVQLALRVADEMDVNIGHEVGYVIPFENCCTNETILRYCTDMMLRREMMSNPFLGSYGVIILDDIHERSIATDVLLGLLKDVLLARPELKLIINSSPHLISKLNSYYGNVPVIEKKNKHPVEV\n",
      "QVHKQTVVQLALRVADEMDVNIGHEVGYVIPFENCCTNETILRYCTDDMLQREMMSNPFLGSYGVIILDDIHERSIATDVLLGLLKDVLLARPELKLIINSSPHLISKLNSYYGNVPVIEVKNKHPVEV\n"
     ]
    },
    {
     "data": {
      "application/vnd.jupyter.widget-view+json": {
       "model_id": "56e85b05cd4e4504822101db41babb98",
       "version_major": 2,
       "version_minor": 0
      },
      "text/plain": [
       "HBox(children=(IntProgress(value=0, max=1154), HTML(value='')))"
      ]
     },
     "metadata": {},
     "output_type": "display_data"
    },
    {
     "name": "stdout",
     "output_type": "stream",
     "text": [
      "\n",
      "IAVIVFGNVLVCMAVSREKALQTTTNYLIVSLAVADLLVATLVMPWVVYLEVVGEWKFSRIHCDIFVTLDVMMCTASILNLCAISIDRYTAVAMPMLYNTRYSSKRRVTVMISIVWVLSFTISCPLLFG\n",
      "IAVIVFGNVLVCMAVSREKALQTTTNYLIVSLAVADLLVATLVMPWVVYLEVVGEWKFSRIHCDIFVTLDVMMCTASILNLCAISIDRYTAVAMPMLYNTRYSSKRRVTVMISIVWVLSFTISCPLLFG\n"
     ]
    },
    {
     "data": {
      "application/vnd.jupyter.widget-view+json": {
       "model_id": "ac7e817707ba4f1a8e5052a4db7dfd85",
       "version_major": 2,
       "version_minor": 0
      },
      "text/plain": [
       "HBox(children=(IntProgress(value=0, max=1154), HTML(value='')))"
      ]
     },
     "metadata": {},
     "output_type": "display_data"
    },
    {
     "name": "stdout",
     "output_type": "stream",
     "text": [
      "\n",
      "NGKYVNIQEVMDQWTLQMGYPVITILGNTTAENRIIITQQHFIYDISAKTKALKLQNSNILEQIPLTIVVGSSEHVSSEAIIWVSNKSEHHRITYLDKGSWLLGNINQTGYFRVNYDLNRWLLLIDQLI\n",
      "NGKYVNIQEVMDQWTLQMGYPVITILGNTTAENRIIITQQHFIYDISAKTKALKLQNNSYLWQIPLTIVVGNRSHVSSEAIIWVSNKSEHHRITYLDKGSWLLGNINQTGYFRVNYDLRNWRLLIDQLI\n"
     ]
    },
    {
     "data": {
      "application/vnd.jupyter.widget-view+json": {
       "model_id": "fbfabf63e64c49b6b610983af3df8582",
       "version_major": 2,
       "version_minor": 0
      },
      "text/plain": [
       "HBox(children=(IntProgress(value=0, max=1154), HTML(value='')))"
      ]
     },
     "metadata": {},
     "output_type": "display_data"
    },
    {
     "name": "stdout",
     "output_type": "stream",
     "text": [
      "\n",
      "RDGYHGTMALDDVAVRPGPCWAPNYCSFEDSDCGFSPGGQGGWRRQANASQHAAWGPPTDHTTETAQGHYMVVDTSPDALPRGQTASLTSKHERPQQAALLGTFWYHGSLRSPGTLRVYLEERGRHQVL\n",
      "RDGYHGTMALDDVAVRPGPCWAPNYCSFEDSDCGFSPGGQGLWRRQANASGHAAWGPPTDHTTETAQGHYMVVDTSPDALPRGQTASLTSKEHRPLAQPACLTFWYHGSLRSPGTLRVYLEERGRHQVL\n"
     ]
    },
    {
     "data": {
      "application/vnd.jupyter.widget-view+json": {
       "model_id": "d341eb8bda944f41863101be71c9f451",
       "version_major": 2,
       "version_minor": 0
      },
      "text/plain": [
       "HBox(children=(IntProgress(value=0, max=1154), HTML(value='')))"
      ]
     },
     "metadata": {},
     "output_type": "display_data"
    },
    {
     "name": "stdout",
     "output_type": "stream",
     "text": [
      "\n",
      "SNEEMSPAELLHFQQQQALQVARQFLLQQASGLSSPGNNDSKSSSSAVQVPVSMAMMSPQMLTPQQMQQILLPPLQQALLQQQQALMLQQLQEYYKKQQEQLHLQLLTQQQAGKPQPKEALGNKQLAFQ\n",
      "SNGEMSPAELLHFQQQQALQVARQFLLQQASGLSSPGNNDSKQSASAVQVPVSVAMMSPQMLTPQQMQQILSPPQLQALLQQQQALMLQQLQEYYKKQQEQLHLQLLTQQQAGKPQPKEALGNKQLAFQ\n"
     ]
    },
    {
     "data": {
      "application/vnd.jupyter.widget-view+json": {
       "model_id": "28c867fe7813414da5562365683d2f7d",
       "version_major": 2,
       "version_minor": 0
      },
      "text/plain": [
       "HBox(children=(IntProgress(value=0, max=1154), HTML(value='')))"
      ]
     },
     "metadata": {},
     "output_type": "display_data"
    },
    {
     "name": "stdout",
     "output_type": "stream",
     "text": [
      "\n",
      "SLPGSRRTSAGSRRRTSPPVSVRDAYGTSSLSSSSNSGSYKGSDSSPTPRRSMKYTLCSDNHGIKPTPPEQYLTPLQQKEVCIRHLKARLKDTQDRLQDRDTEIDDLKTQLSRMQEDWIEEECHRVEAQ\n",
      "SLPGSRRTSAGSRRRTSPPVSVRDAYGTSSLSSSSNSGSYKGSDSSPTPRRSMKYTLCSDNHGIKPPTPEQYLTPLQQKEVCIRHLKARLKDTQDRLQDRDTEIDDLKTQLSRMQEDWIEEECHRVEAQ\n"
     ]
    },
    {
     "data": {
      "application/vnd.jupyter.widget-view+json": {
       "model_id": "c3e7a5d1f569442bae8af1b5dc1900ab",
       "version_major": 2,
       "version_minor": 0
      },
      "text/plain": [
       "HBox(children=(IntProgress(value=0, max=1154), HTML(value='')))"
      ]
     },
     "metadata": {},
     "output_type": "display_data"
    },
    {
     "name": "stdout",
     "output_type": "stream",
     "text": [
      "\n",
      "FIPVKCCFYQNFSDEIPVEHQVLVKRIYRLWMFCYATLGVNLIACLAWWIGGGSGTNFGLAVFWLLLFTPCGYVWWFRPVYKAFRASDSFNFMAFFFIFGAQFVLTVIQAIGFSGWGACGWLSAIGFFQ\n",
      "FIPVKPCFYQNFSDEIPVEHQVLVKRIYRLWMFYCATLGVNLIACLAWWIGGGSGTNFGLAFVWLLLFTPCGYVCWFRPVYKAFRADSSFNFMAFFFIFGAQFVLTVIQAIGFSGWGACGWLSAIGFFQ\n"
     ]
    },
    {
     "data": {
      "application/vnd.jupyter.widget-view+json": {
       "model_id": "00f8e2ca61db43aa8acada7fe6243c2f",
       "version_major": 2,
       "version_minor": 0
      },
      "text/plain": [
       "HBox(children=(IntProgress(value=0, max=1154), HTML(value='')))"
      ]
     },
     "metadata": {},
     "output_type": "display_data"
    },
    {
     "name": "stdout",
     "output_type": "stream",
     "text": [
      "\n",
      "EGGVSSNDFSSLEALCKKIIKEKQAFERLEVKKETLLAMFKYNKFKCRILNEKVNTPTTTVYRCGPLIDCCRGPHVRHTGKIKALKIHKNSSTYWEGKDAMETLQRIYGISFPDPKMLKEWEKFQEEAK\n",
      "EGGVSSNDFSSLEALCKKIIKEKQAFERLEVKKETLLAMFKYNKFKCRILNEKVNTPTTTVYRCGPLIDLCRGPHVRHTGKIKALKIHKNSSTYWEGKADMETLQRIYGISFPDPKMLKEWEKFQEEAK\n"
     ]
    },
    {
     "data": {
      "application/vnd.jupyter.widget-view+json": {
       "model_id": "14708a63cd174b318c5ec11543e17883",
       "version_major": 2,
       "version_minor": 0
      },
      "text/plain": [
       "HBox(children=(IntProgress(value=0, max=1154), HTML(value='')))"
      ]
     },
     "metadata": {},
     "output_type": "display_data"
    },
    {
     "name": "stdout",
     "output_type": "stream",
     "text": [
      "\n",
      "RRKGPSFADMEVLYWTHVKEQLETLRKLQRREVAEQWLAPREEEDHEDSLEDLGAADDFLEPEEYMEPEGADPREAADLDAVPMSLSYEELVRRNVELFIATSQKFVQETELSQRIRDWEDTVQPLLQE\n",
      "RRKGPSFADMEVLYWTHVKEQLETLRKLQRREVAEQWLRPAEEDHLEDSLEDLGAADDFLEPEEYMEPEGADPREAADLDAVPMSLSYEELVRRNVELFIATSQKFVQETELSQRIRDWEDTVQPLLQE\n"
     ]
    },
    {
     "data": {
      "application/vnd.jupyter.widget-view+json": {
       "model_id": "3c800804ff78419e93328bd00f51aff4",
       "version_major": 2,
       "version_minor": 0
      },
      "text/plain": [
       "HBox(children=(IntProgress(value=0, max=1154), HTML(value='')))"
      ]
     },
     "metadata": {},
     "output_type": "display_data"
    },
    {
     "name": "stdout",
     "output_type": "stream",
     "text": [
      "\n",
      "VLFNSLFSAYYVAFLPLCFVKSTQYYDMRWSCEHLIMVWNAAVVMLTTQLLPSKYCDLLHKSAAHLGKWQKLEHGSYSNAPQHIWSENTIWPQGVLVRHSRCLYRAMGPYNVAVPSDVSHARFYFLFHR\n",
      "VLFNSLFSAYYVAFLPLCFVKSTQYYDMRWSCEHLIMVWINAFVMLTTQLLPSKYCDLLHKSAAHLGKWQKLEHGSYSNAPQHIWSENTIWPQGVLVRHSRCLYRAMGPYNVAVPSDVSHARFYFLFHR\n"
     ]
    },
    {
     "data": {
      "application/vnd.jupyter.widget-view+json": {
       "model_id": "14e063e86c6546359633cf7c0a52dbce",
       "version_major": 2,
       "version_minor": 0
      },
      "text/plain": [
       "HBox(children=(IntProgress(value=0, max=1154), HTML(value='')))"
      ]
     },
     "metadata": {},
     "output_type": "display_data"
    },
    {
     "name": "stdout",
     "output_type": "stream",
     "text": [
      "\n",
      "TKYRQYLDEEFVLRVMTQLTLALKECHRTSDGGHTVLHRDLKPANVFLDGKQNVKLGDFGLARILNHDTSFAKTFVGTPYYMSPEQMNRMSYNKKSDIWSLGCLLYELCALMPPFTAQSQKELAGKIRE\n",
      "TKERQYLDEEFVLRVMTQLTLALKECHRRSDGGHTVLHRDLKPANVFLDGKQNVKLGDFGLARILNHDTSFAKTFVGTPYYMSPEQMNRMSYNEKSDIWSLGCLLYELCALMPPFTAFSQKELAGKIRE\n"
     ]
    },
    {
     "data": {
      "application/vnd.jupyter.widget-view+json": {
       "model_id": "fa02b2419959422788e6c8897208ac25",
       "version_major": 2,
       "version_minor": 0
      },
      "text/plain": [
       "HBox(children=(IntProgress(value=0, max=1154), HTML(value='')))"
      ]
     },
     "metadata": {},
     "output_type": "display_data"
    },
    {
     "name": "stdout",
     "output_type": "stream",
     "text": [
      "\n",
      "RCEVQFSPRCPEDSVLIEGYAPPGECCPLPSRCVCNPAGCLRKVCQPGNLNILVSKASGKPGECCDLYECKPVFGVDCRTVECPPVQQTACPPDSYETQVRLTADGCCTLPTRCECLSGLCGFPVCEVG\n",
      "RCEVQFSPRCPEDSVLIEGYAPPGECCPLPSRCVCNPAGCLRKVCQPGNLNILVSKASGKPGECCDLYECKPVFGVDCRTVECPPVQQTACPPDSYETQVRLTADGCCTLPTRCECLSGLCGFPVCEVG\n"
     ]
    },
    {
     "data": {
      "application/vnd.jupyter.widget-view+json": {
       "model_id": "6f8498eb416c456fb7f6cfab9c8bf490",
       "version_major": 2,
       "version_minor": 0
      },
      "text/plain": [
       "HBox(children=(IntProgress(value=0, max=1154), HTML(value='')))"
      ]
     },
     "metadata": {},
     "output_type": "display_data"
    },
    {
     "name": "stdout",
     "output_type": "stream",
     "text": [
      "\n",
      "SSEEKRTLLARLVRSMRFEDFLARKWSSEKRFGLEGCEVMIPALKTIIDKSSEMGIENVILGMPHRGRLNVLANVIRKDLEQIFCQFDPKLEAADEGSGDVKYHLGMYHERINRVTNRNITLSLVANPS\n",
      "SSEEKRTLLARLVRSMRFEDFLARKWSSEKRFGLEGCEVMIPALKTIIDKSSEMGIENVILGMPHRGRLNVLANVIRKDLEQIFCQFDPKLEAADEGSGDVKYHLGMYHERINRVTNRNITLSLVANPS\n"
     ]
    },
    {
     "data": {
      "application/vnd.jupyter.widget-view+json": {
       "model_id": "68e06fbb209241a1b22b9ac3f2d1a556",
       "version_major": 2,
       "version_minor": 0
      },
      "text/plain": [
       "HBox(children=(IntProgress(value=0, max=1154), HTML(value='')))"
      ]
     },
     "metadata": {},
     "output_type": "display_data"
    },
    {
     "name": "stdout",
     "output_type": "stream",
     "text": [
      "\n",
      "PAPYICNECGKSFSHWSKLTRHQRTHTGERPNACADCGKTFSQSSHLVQHRRIHTGEKPYACLECGKRFSWSSNLMQHQRIHTGEKPYTCPDCGRSFTQSKSLAKHRRSHSGLKPFVCPRCGRGFSPQK\n",
      "PAPYICNECGKSFSHWSKLTRHQRTHTGERPNACADCGKTFSQSSHLVQHRRIHTGEKPYACLECGKRFSWSSNLMQHQRIHTGEKPYTCPDCGRSFTQSKSLAKHRRSHSGLKPFVCPRCGRGFSQPK\n"
     ]
    },
    {
     "data": {
      "application/vnd.jupyter.widget-view+json": {
       "model_id": "502a1130d193404abfdbe467cd1a08b4",
       "version_major": 2,
       "version_minor": 0
      },
      "text/plain": [
       "HBox(children=(IntProgress(value=0, max=1154), HTML(value='')))"
      ]
     },
     "metadata": {},
     "output_type": "display_data"
    },
    {
     "name": "stdout",
     "output_type": "stream",
     "text": [
      "\n",
      "VSAMFFISVLSLFSYHCWLVGKNRTTIESFRAPTFSYGPDGNGFSLGCSKNWRQVFGDEKKYWLLPIFSSLGDGCSFPTRLVGMDPEQASVTNQNEYRASSGSNQPFPIKPLSESKNRLLDSESQWLEN\n",
      "VSAMFFISVLSLFSYHCWLVGKNRTTIESFRAPTFSYGPDGNGFSLGCSKNWRQVFGDEKKYWLLPIFSSLGDGCSFPTRLVGMDPEQASVTNQNEYARSSGSNQPFPIKPLSESKNRLLDSESQWLEN\n"
     ]
    },
    {
     "data": {
      "application/vnd.jupyter.widget-view+json": {
       "model_id": "84e3f82e170843a2888280f564af7f08",
       "version_major": 2,
       "version_minor": 0
      },
      "text/plain": [
       "HBox(children=(IntProgress(value=0, max=1154), HTML(value='')))"
      ]
     },
     "metadata": {},
     "output_type": "display_data"
    },
    {
     "name": "stdout",
     "output_type": "stream",
     "text": [
      "\n",
      "SWSWNYYRIVARYENTLAAQFFGHTHVDEFEVDYFEETLSRPLAVAFLAPSSTTYIGLNPGYYVYQIDGNYSGSSHVVLDHETYILNLTQANIPGAIPHWQLLYRARETYGLPTTLPTAWHNLVYRMRG\n",
      "SWSWNYYRIVARYENTLAAQFFGHTHVDEFEVFYDEETLSRPLAVAFLAPSATTYIGLNPGYRVYQIDGNYSGSSHVVLDHETYILNLTQANIPGAIPHWQLLYRARETYGLPNTLPTAWHNLVYRMRG\n"
     ]
    },
    {
     "data": {
      "application/vnd.jupyter.widget-view+json": {
       "model_id": "f2d344e7808d46d48192ad8c6791cee1",
       "version_major": 2,
       "version_minor": 0
      },
      "text/plain": [
       "HBox(children=(IntProgress(value=0, max=1154), HTML(value='')))"
      ]
     },
     "metadata": {},
     "output_type": "display_data"
    },
    {
     "name": "stdout",
     "output_type": "stream",
     "text": [
      "\n",
      "PAPTPRPARPTQQPGSRRGGGRRRGNLRSASRAFRDGEVRLVPPAGLSSGSGRVEVFVGGRWGTVCDDSWNISGAAVVCRQLGFAYAVRAVKRAEFGQGGSLPILLDDVRCAGWERNLLECQHNGGGTH\n",
      "PAPTPRPARPTQQPGSRRGGGRRRGRLNSASRAFRDGEVRLVRPAGLSSGSGRVEVFVGGRWGTVCDDSWNISGAAVVCRQLGFAYAVRAVKRAEFGQGGSLPILLDDVRCAGWERNLLECQHNGVGTH\n"
     ]
    },
    {
     "data": {
      "application/vnd.jupyter.widget-view+json": {
       "model_id": "3c4a8b8b85284b0992cbc4af0f3081cd",
       "version_major": 2,
       "version_minor": 0
      },
      "text/plain": [
       "HBox(children=(IntProgress(value=0, max=1154), HTML(value='')))"
      ]
     },
     "metadata": {},
     "output_type": "display_data"
    },
    {
     "name": "stdout",
     "output_type": "stream",
     "text": [
      "\n",
      "WGLAPLFRSVRSKLESFADIFLTPNKTPQPPPPSPPMKLELKIAISEAEQSGAAEGTASVSPRPPIRQWRTQDHNTPALLPAPSLGRSYSCPDLGPPGPGTCWTPPAPPQPSRPRPRRHTVGGGEMARA\n",
      "WGLAPLFRSVRSKLESFADIFLTPNKTPQPPPPSPPMKLELKIAISEAEQSGAAEGTASVSPRPPIRQWRTQDHNTPALLPKPSLGRSYSCPDLGPPGPGTCTWPPAPPQPSRPRPRRHTVGGGEMARA\n"
     ]
    },
    {
     "data": {
      "application/vnd.jupyter.widget-view+json": {
       "model_id": "9f2bc0bd668d4e09bff68772320ff29a",
       "version_major": 2,
       "version_minor": 0
      },
      "text/plain": [
       "HBox(children=(IntProgress(value=0, max=1154), HTML(value='')))"
      ]
     },
     "metadata": {},
     "output_type": "display_data"
    },
    {
     "name": "stdout",
     "output_type": "stream",
     "text": [
      "\n",
      "YPTLLYTLFRGKVPGRAHRDWYHRIDPTVLLGALPLRSLTRQLVQDENVRGVITMNEEYETRFCCNSSQEWKRLGVEQLRLSTVDMTGIPTLDNLQKGVQFALKYQSLGQCVYVHCKAGRSRSATMVAA\n",
      "YPTLLYTLFRGKVPGRAHRDWYHRIDPTVLLGALPLRSLTRQLVQDENVRGVITMNEEYETRFLCNSSQEWKRLGVEQLRLSTVDMTGIPTLDNLQKGVQFALKYQSLGQCVYVHCKAGRSRSATMVAA\n"
     ]
    },
    {
     "data": {
      "application/vnd.jupyter.widget-view+json": {
       "model_id": "e45b509f347c4e218e0a50fc82502118",
       "version_major": 2,
       "version_minor": 0
      },
      "text/plain": [
       "HBox(children=(IntProgress(value=0, max=1154), HTML(value='')))"
      ]
     },
     "metadata": {},
     "output_type": "display_data"
    },
    {
     "name": "stdout",
     "output_type": "stream",
     "text": [
      "\n",
      "NNLKPSALKDVLASGFLTVLPHTDPRGCHVVCIRPDRWIPSPYPITENIRAIYLTLEKLIQSEETQVNGIVILADYKGVLSLKSSHFGPFIAKKIIIGQQDGFPIRIAKKVVVVEPRIFKGIFAIIKPF\n",
      "NNLKPSALKDVLASGFLTVLPHTDPRGCHVVCIRPDRWIPSNYPITENIRAIYLTLEKLIQSEETQVNGIVILADYKGVSLSKASHFGPFIAKKVIGILQDGFPIRIKAVHVVNEPRIFKGIFAIIKPF\n"
     ]
    },
    {
     "data": {
      "application/vnd.jupyter.widget-view+json": {
       "model_id": "1c1a5aadcaf24e5e81f7b4ca4f91070b",
       "version_major": 2,
       "version_minor": 0
      },
      "text/plain": [
       "HBox(children=(IntProgress(value=0, max=1154), HTML(value='')))"
      ]
     },
     "metadata": {},
     "output_type": "display_data"
    },
    {
     "name": "stdout",
     "output_type": "stream",
     "text": [
      "\n",
      "VSRPSPDYPMLPTIPLSAFSDPKKTKPSHGSKDANKESSKTSKPHKVTKEHRERPRKDSESKSSSKELEREQAKSSKDTSRKLGEGRLPKEPKAPPPKAAFKEPKMALKETKLESTSPKGGPPPPPPPP\n",
      "VSRPSPDYPMLPTIPLSAFSDPKKTKPSHGSKDANKESSKTSKPHKVTKEHRERPRKDSESKSSSKELEREQAKSSKDTSRKLGEGRLPKEEKAPPPKAAFKEPKMALKETKLESTSPKGGPPPPPPPP\n"
     ]
    },
    {
     "data": {
      "application/vnd.jupyter.widget-view+json": {
       "model_id": "f5f0028fa4804ca7bc159d8fea5d0fb1",
       "version_major": 2,
       "version_minor": 0
      },
      "text/plain": [
       "HBox(children=(IntProgress(value=0, max=1154), HTML(value='')))"
      ]
     },
     "metadata": {},
     "output_type": "display_data"
    },
    {
     "name": "stdout",
     "output_type": "stream",
     "text": [
      "\n",
      "ELEVCEDVAVRNNVIIVMCDLCIRYTIMVDKYIPNISMMLKDSDPFIRKQTLILLTNLLQEEFVKWKGSLFFRFVSTLIDSHPDIASFGEFCLAHLLLKRNPVMFFQHFIEFIFHFNNYEKHEKYNKFP\n",
      "ELEVCEDVAVRNNVIIVMCDLCIRYTIMVDKYIPNISMCLKDSDPFIRKQTLILLTNLLQEEFVKWKGSLFFRFVSTLIDSHPDIASFGEFCLAHLLLKRNPVMFFQHFIECIFHFNNYEKHEKYNKFP\n"
     ]
    },
    {
     "data": {
      "application/vnd.jupyter.widget-view+json": {
       "model_id": "3691f57b86cb4c16b8507f4a9130df10",
       "version_major": 2,
       "version_minor": 0
      },
      "text/plain": [
       "HBox(children=(IntProgress(value=0, max=1154), HTML(value='')))"
      ]
     },
     "metadata": {},
     "output_type": "display_data"
    },
    {
     "name": "stdout",
     "output_type": "stream",
     "text": [
      "\n",
      "MYFLLSQLSLIDLNYISTIVPKMASDFLSGNKSISFTGCGIQSFFFSLLGGAEALLLASMAYDRYIAICFPLHYPIRMSKRMCVLMITGSWIGGSINACAHTVYVLHIPYCQSRAINHFFCDVPAMVTL\n",
      "MYFLLSQLSLIDLNYISTIVPKMASDFLSGNKSISFTGCGIQSFFFSALGGAEALLLASMAYDRYIAICFPLHYPIRMSKRMCVLMITGSWIIGSINACAHTVYVLHIPYCQSRAINHFFCDVPAMVTL\n"
     ]
    },
    {
     "data": {
      "application/vnd.jupyter.widget-view+json": {
       "model_id": "9eed1bcc555142c0b13a74466f4debcd",
       "version_major": 2,
       "version_minor": 0
      },
      "text/plain": [
       "HBox(children=(IntProgress(value=0, max=1154), HTML(value='')))"
      ]
     },
     "metadata": {},
     "output_type": "display_data"
    },
    {
     "name": "stdout",
     "output_type": "stream",
     "text": [
      "\n",
      "TAPSRALLLLLFLHLAFLGGRSHPLGSPGSASDLETSGLQEQRNHLQGKLSELQVEQTSLEPLQESPRPTGVWKSREVATEGIRGHRKMVLYTLRAPRSPKMVQGSGCFGRKMDRISSSSGLGCKVLRR\n",
      "TAPSRALLLLLFLHLAFLGGRSHPLGSPGSASDLETSGLQEQRNHLQGKLSELQVEQTSLEPLQESPRPTGVWKSREVATEGIRGHRKMVLYTLRAPRSPKMVQGSGCFGRKMDRISSSSGLGCKVLRR\n"
     ]
    },
    {
     "data": {
      "application/vnd.jupyter.widget-view+json": {
       "model_id": "a522ae5c4adc4d1ab26fa55a9eea6f20",
       "version_major": 2,
       "version_minor": 0
      },
      "text/plain": [
       "HBox(children=(IntProgress(value=0, max=1154), HTML(value='')))"
      ]
     },
     "metadata": {},
     "output_type": "display_data"
    },
    {
     "name": "stdout",
     "output_type": "stream",
     "text": [
      "\n",
      "KVFRLKNIEALAILVCGSSPGGNLSNVFSLAMKGDMNLSIVMTTCSTFCALGMMPLLLYIYSRGIYDGDLKDKVPYKGIVISLVLVLIPCTIGIVLKSKRPQYMRYVIKGGMIIILLSSAAVTVLSAIN\n",
      "KVFRLKNIEALAILVCGCSPGGNLSNVFSLAMKGDMNLSIVMTTCSTFCALGMMPLLLYIYSRGIYDGDLKDKVPYKGIVISLVLVLIPCTIGIVLKSKRPQYMRYVIKGGMIIILLCSVAVTVLSAIN\n"
     ]
    },
    {
     "data": {
      "application/vnd.jupyter.widget-view+json": {
       "model_id": "baa096c21b2a4623adaa81f462229329",
       "version_major": 2,
       "version_minor": 0
      },
      "text/plain": [
       "HBox(children=(IntProgress(value=0, max=1154), HTML(value='')))"
      ]
     },
     "metadata": {},
     "output_type": "display_data"
    },
    {
     "name": "stdout",
     "output_type": "stream",
     "text": [
      "\n",
      "TEEGYRSEDPDTSMDSYAKDLLHGRCRDYWFDKSFTVFKVKNGKMLGNEEHSWADAPIVAHLWEYVMSIDSLQLGYAEDGHCKGDINPNIPYPTRLQWDIPGECQEVIETSLNTANLLANDVDFHSFPF\n",
      "TEEGYRSEDPDTSMDSYAKSLLHGRCYDRWFDKSFTFVVFKNGKMGLNAEHSWADAPIVAHLWEYVMSIDSLQLGYAEDGHCKGDINPNIPYPTRLQWDIPGECQEVIETSLNTANLLANDVDFHSFPF\n"
     ]
    },
    {
     "data": {
      "application/vnd.jupyter.widget-view+json": {
       "model_id": "b14befdc65ca48d1ade8ba3f068bcb31",
       "version_major": 2,
       "version_minor": 0
      },
      "text/plain": [
       "HBox(children=(IntProgress(value=0, max=1154), HTML(value='')))"
      ]
     },
     "metadata": {},
     "output_type": "display_data"
    },
    {
     "name": "stdout",
     "output_type": "stream",
     "text": [
      "\n",
      "QGHRVETEHYEEIEDYDYNNPNDTSNFCPGLQAADSDDEDDLDDDGGPGGNSDLSPYPCHPPKTAQQNGDTPEAQGLDITTYGESNLVAEPQKVNKIEIHAYKTAKKMDMKKLKQSMWSLLTALSGKEA\n",
      "QGHRVETEHYEEIEDYDYNNPNDTSNFCPGLQAADSDDEDLDDLFVGPVGNSDLSPYPCHPPKTAQQNGDTPEAQGLDITTYGESNLVAEPQKVNKIEIHYAKTAKKMDMKKLKQSMWSLLTALSGKEA\n"
     ]
    },
    {
     "data": {
      "application/vnd.jupyter.widget-view+json": {
       "model_id": "18952f90261748158d0ac8d6e6acee9a",
       "version_major": 2,
       "version_minor": 0
      },
      "text/plain": [
       "HBox(children=(IntProgress(value=0, max=1154), HTML(value='')))"
      ]
     },
     "metadata": {},
     "output_type": "display_data"
    },
    {
     "name": "stdout",
     "output_type": "stream",
     "text": [
      "\n",
      "GAPLEDKDTQGLLAVGEALIKIDSGQPHWHLLLADILMAQGSYEEAGTHLEKALHRAPTSEAARARLGLLQLKKGDVPGAARDLQSLAEVDAPDLSCLLHLLEASERQSLAQAAAQEAGTLLDAGQPRQ\n",
      "GAPLEDKDTQGLLAVGEALIKIDSGQPHWHLLLADILMAQGSYEEAGTHLEKALHRAPTSEAARARLGLLQLKKGDVPGAARDLQSLAEVDAPDLSCLLHLLEASERQSLAQAAAQEAGTLLDAGQPRQ\n"
     ]
    },
    {
     "data": {
      "application/vnd.jupyter.widget-view+json": {
       "model_id": "fb9e70841df04c8fbf704560499a4b18",
       "version_major": 2,
       "version_minor": 0
      },
      "text/plain": [
       "HBox(children=(IntProgress(value=0, max=1154), HTML(value='')))"
      ]
     },
     "metadata": {},
     "output_type": "display_data"
    },
    {
     "name": "stdout",
     "output_type": "stream",
     "text": [
      "\n",
      "FGGTQCVWSYEMQQLFHENYEHNRKGYIQDLHNSIIHAAITLHPNKRPAYQYRLHNYMLSRKISELRYRTIQLHRSSALMSKLSNTEVSKEDQQLGVIPSFNHFQPRERNEVIEWEFLTGKLLYSAAEN\n",
      "FGGTQCVWSYEMQQLFHENYEHNRKGYIQDLHNSKIHAAITLHPNKRPAYQYRLHNYMLSRKISELRYRTIQLHRESALMSKLSNTEVSKEDQQLGVIPSFNHFQPRERNEVIEWEFLTGKLLYSAAEN\n"
     ]
    },
    {
     "data": {
      "application/vnd.jupyter.widget-view+json": {
       "model_id": "e8a0a078d6774ba49fac5aceb18f6ea3",
       "version_major": 2,
       "version_minor": 0
      },
      "text/plain": [
       "HBox(children=(IntProgress(value=0, max=1154), HTML(value='')))"
      ]
     },
     "metadata": {},
     "output_type": "display_data"
    },
    {
     "name": "stdout",
     "output_type": "stream",
     "text": [
      "\n",
      "NFQGPSALINLSNFSSIKPEPASTPPQGSMANSTAVVKIPGTPGAGGRLSPENNQVLTKKKLQDLVREVDPNEQLDEDVEEMLLQIADDFIESVVTAACQLARHRKSSTLEVKDVQLHLERQWNMWIPG\n",
      "NQFGPSALINLSNFSSIKPEPASTPPQGSMANSTAVVKIPGTPGAGGRLSPENNQVLTKKKLQDLVREVDPNEQLDEDVEEMLLQIADDFIESVVTAACQLARHRKSSTLEVKDVQLHLERQWNMWIPG\n"
     ]
    },
    {
     "data": {
      "application/vnd.jupyter.widget-view+json": {
       "model_id": "d058ab9a2a954816b7c683cb94dc69bd",
       "version_major": 2,
       "version_minor": 0
      },
      "text/plain": [
       "HBox(children=(IntProgress(value=0, max=1154), HTML(value='')))"
      ]
     },
     "metadata": {},
     "output_type": "display_data"
    },
    {
     "name": "stdout",
     "output_type": "stream",
     "text": [
      "\n",
      "LNLENKDYKKTTKVTWLAETTHALPIPVICVTYEHLITKPVLGKDEDFKQYVNKNSKHEELMLGDPCLKDLKKGDIIQLQRRGFFICDQPYEPVSPYSCKEAPCVLIYIPDGHTKEMPTSGSKEKTKVE\n",
      "LNLENKDYKKTTKVTWLAETTHALPIPVICVTYEHLITKPVLGKDEDFKQYVNKNSKHEELMLGDPCLKDLKKGDIIQLQRRGFFICDQPYEPVSPYSCKEAPCVLIYIPDGHTKEMPTSGSKEKTKVE\n"
     ]
    },
    {
     "data": {
      "application/vnd.jupyter.widget-view+json": {
       "model_id": "8171ddc9ce0c431699fac969d262d203",
       "version_major": 2,
       "version_minor": 0
      },
      "text/plain": [
       "HBox(children=(IntProgress(value=0, max=1154), HTML(value='')))"
      ]
     },
     "metadata": {},
     "output_type": "display_data"
    },
    {
     "name": "stdout",
     "output_type": "stream",
     "text": [
      "\n",
      "SLPEEINFIHSVFDAELSQLQTQVGDTSVVLSMDNNRNLDLDSIIAEVKAQYEDIANRSRAEAESWQYTKYEELQVTAGRHGDDLRNTKQEISEMNRMIQRLRAEIDSVKKQCSSLQTAIADAEQRGEL\n",
      "SLPEEINFIHSVFDAELSQLQTQVGDTSVVLSMDNNRNLDLDSIIAEVKAQYEDIANRSRAEAESWYQTKYEELQVTAGRHGDDLRNTKQEISEMNRMIQRLRAEIDSVKKQCSSLQTAIADAEQRGEL\n"
     ]
    },
    {
     "data": {
      "application/vnd.jupyter.widget-view+json": {
       "model_id": "9713a8b230bc459f9f10facf881cdff3",
       "version_major": 2,
       "version_minor": 0
      },
      "text/plain": [
       "HBox(children=(IntProgress(value=0, max=1154), HTML(value='')))"
      ]
     },
     "metadata": {},
     "output_type": "display_data"
    },
    {
     "name": "stdout",
     "output_type": "stream",
     "text": [
      "\n",
      "REGGCREVPQAASKTHGLLQARVPQAQDKRPAVTQPGPPAATHSLGLGSNLSFRPGAKRPAQAPIQGCLNPPKKPRLGPFQIPESAIQGGELGALENLQPPPAATELGPSTSPQMGRTTPAQVPGVDRQ\n",
      "REGGCREVPQAASKTHGLLQAVRPQAQDKRPAVTQPGPPAATHSLGLGSNLSFRPGAKRPAQAPIQGCLNFPKKPRLGPFQIPESAIQGGELGALENLQPPPAATELGPSTSPQMGRRTPAQVPGVDRQ\n"
     ]
    },
    {
     "data": {
      "application/vnd.jupyter.widget-view+json": {
       "model_id": "f4f1712ae80d47d2b5b2d29a4ea8a52e",
       "version_major": 2,
       "version_minor": 0
      },
      "text/plain": [
       "HBox(children=(IntProgress(value=0, max=1154), HTML(value='')))"
      ]
     },
     "metadata": {},
     "output_type": "display_data"
    },
    {
     "name": "stdout",
     "output_type": "stream",
     "text": [
      "\n",
      "ESPLLPAATELAFHTVNCSALNAEELRRENGLEVLQEAFSRCVAVLTRASKPSMDSVQVCGYISKCYSVAAFFEECREKITEMESIIKDLCRVLYFGKSIPRVAALGVECVSSFAVDFWLQTHLFQAGI\n",
      "ESPLLPAATELAFHTVNCSALNAEELRRENGLEVLQEAFSRCVAVLTRASKPSDMSVQVCGYISKCYSVAAQFEECREKITEMPSIIKDLCRVLYFGKSIPRVAALGVECVSSFAVDFWLQTHLFQAGI\n"
     ]
    },
    {
     "data": {
      "application/vnd.jupyter.widget-view+json": {
       "model_id": "0a5c002d503e4eecbc7da1096457efd5",
       "version_major": 2,
       "version_minor": 0
      },
      "text/plain": [
       "HBox(children=(IntProgress(value=0, max=1154), HTML(value='')))"
      ]
     },
     "metadata": {},
     "output_type": "display_data"
    },
    {
     "name": "stdout",
     "output_type": "stream",
     "text": [
      "\n",
      "TADGLPLHFFIQTVRPKDTVMCYRVRWEEAAPGRAVEHAMFLGDAAHHWYGGAEMRTQHWPIRLDGQQEPQPFVTSDVYSSDAAFGGILERYWLSSRAAAIKVNDSVPFHLGWNSTERSLRLQARYHDT\n",
      "TADGLPLHFFIQTVRPKDTVMCYRVRWEEAAPGRAVEHAMFLGDAAAHWYGGAEMRTQHWPIRLDGQQEPQPFVTSDVYSSDAAFGGILERYWLSSRAAAIKVNDSVPFHLGWNSTERSLRLQARYHDT\n"
     ]
    },
    {
     "data": {
      "application/vnd.jupyter.widget-view+json": {
       "model_id": "398f1fc77fb44e8b8b7f5e85ccb35a89",
       "version_major": 2,
       "version_minor": 0
      },
      "text/plain": [
       "HBox(children=(IntProgress(value=0, max=1154), HTML(value='')))"
      ]
     },
     "metadata": {},
     "output_type": "display_data"
    },
    {
     "name": "stdout",
     "output_type": "stream",
     "text": [
      "\n",
      "VAKIIGNNVKKLQKFASTVKMWVFEETVNGRKLTDIINNDHENVKYLPGKKLPENVVAMSNLSEAVQDADLLVFVIPHQFIHRICDEITGRVPKKALGITLIKGIDEGPEGLKLISDIIREKMGIDISV\n",
      "VAKIIGNNVKKLQKFASTVKMWVFEETVNGRKLTDIINNDHENVKYLPGHKLPENVVAMSNLSEAVQDADLLVFVIPHQFIHRICDEITGRVPKKALGITLIKGIDEGPEGLKLISDIIREKMGIDISV\n"
     ]
    },
    {
     "data": {
      "application/vnd.jupyter.widget-view+json": {
       "model_id": "97f7b637d10046b4bc5533362dcacd69",
       "version_major": 2,
       "version_minor": 0
      },
      "text/plain": [
       "HBox(children=(IntProgress(value=0, max=1154), HTML(value='')))"
      ]
     },
     "metadata": {},
     "output_type": "display_data"
    },
    {
     "name": "stdout",
     "output_type": "stream",
     "text": [
      "\n",
      "EHIEDVKMAFDRRGEKADISANVYPDINIITGALKLYFRDLPIPVITYDTYSKFIDAAKISNADERLEAVHEVLMLLPPAHYETLRYLMIHLKKVTMNEKDNFMNAENLGIVFGPTLMRPPEDSTLTTL\n",
      "EHIEDVKMAFDRDGEKADISANVYPDINIITGALKLYFRDLPIPVITYDTYSKFIDAAKISNADERLEAVHEVLMLLPPAHYETLRYLMIHLKKVTMNEKDNFMNAENLGIVFGPTLMRPPEDSTLTTL\n"
     ]
    },
    {
     "data": {
      "application/vnd.jupyter.widget-view+json": {
       "model_id": "fc2b138685a64abda3b76ab6f205d0c1",
       "version_major": 2,
       "version_minor": 0
      },
      "text/plain": [
       "HBox(children=(IntProgress(value=0, max=1154), HTML(value='')))"
      ]
     },
     "metadata": {},
     "output_type": "display_data"
    },
    {
     "name": "stdout",
     "output_type": "stream",
     "text": [
      "\n",
      "GHLSFSEILDTSLKVSWQEPGEKNGILTGYRISWEEYNRTTNRVTHYPPNVTLEYRVTGLTALTTTTIEVAAMTSKGQGQVSASTISSGVPPPPPLPPTNLGISNIGPRSVTLQFRPGYDGKTSISRWL\n",
      "GHLSFSEILDTSLKVSWQEPGEKNGILTGYRISWEEYNRTNTRVTHYLPNVTLEYRVTGLTALTTYTIEVAAMTSKGQGQVSASTISSGVPPELPGPPTNLGISNIGPRSVTLQFRPGYDGKTSISRWL\n"
     ]
    },
    {
     "data": {
      "application/vnd.jupyter.widget-view+json": {
       "model_id": "3f65adfcd9b1419d98a084d3a3498e82",
       "version_major": 2,
       "version_minor": 0
      },
      "text/plain": [
       "HBox(children=(IntProgress(value=0, max=1154), HTML(value='')))"
      ]
     },
     "metadata": {},
     "output_type": "display_data"
    },
    {
     "name": "stdout",
     "output_type": "stream",
     "text": [
      "\n",
      "NRVEAGALLQAKQQAEVAHMSQTQEEKLAAALRVELHNTSCQVQSLQAETESLRALKRGLENTLHDAKHWHDMELQNLGAVVGRLEAELREIRAEAEQQQQERAHLLARKCQLQKDVASYHALLDREES\n",
      "NRVEAGALLQAKQQAEVAHMSQTQEEKLAAALRVELHNTSCQVQSLQAETESLRALKRGLENTLHDAKHWHDMELQNLGAVVGRLEAELREIRAEAEQQQQERAHLLARKCQLQKDVASYHALLDREES\n"
     ]
    },
    {
     "data": {
      "application/vnd.jupyter.widget-view+json": {
       "model_id": "d819c04f21b64aa49055f45518ac9870",
       "version_major": 2,
       "version_minor": 0
      },
      "text/plain": [
       "HBox(children=(IntProgress(value=0, max=1154), HTML(value='')))"
      ]
     },
     "metadata": {},
     "output_type": "display_data"
    },
    {
     "name": "stdout",
     "output_type": "stream",
     "text": [
      "\n",
      "LLRGHNQYAYDGKDYIALNEDLRSWTAADTAAQITQRKWEAARVAEQDRAYLEGTCVEWLRRYLENGKDTLERADPPKTHVTHHPISDHEATLRCWALGFYPAEITLTWQRDGEDQTQDTELVETRPAG\n",
      "LLRGHNQYAYDGKDYIALNEDLRSWTAADTAAQITQRKWEAARVAEQDRAYLEGTCVEWLRRYLENGKDTLERADPPKTHVTHHPISDHEATLRCWALGFYPAEITLTWQRDGEDQTQDTELVETRPAG\n"
     ]
    },
    {
     "data": {
      "application/vnd.jupyter.widget-view+json": {
       "model_id": "ef8bff590a894252980006f169862f68",
       "version_major": 2,
       "version_minor": 0
      },
      "text/plain": [
       "HBox(children=(IntProgress(value=0, max=1154), HTML(value='')))"
      ]
     },
     "metadata": {},
     "output_type": "display_data"
    },
    {
     "name": "stdout",
     "output_type": "stream",
     "text": [
      "\n",
      "FKSEEGVKLPRGKERNVLEAASNGAVDAIGLATNVAANLIAFLAVLAFINAALSWLGELVDIQGLTFQVICSYLLRPMVFMMGVEWTDCMMVAEMVGIKFFINEFVAYQQLSQYKNKRLSGMEEWIEGE\n",
      "FKSEEGVKLPRGKERNVLEAASNGAVDAIGLATNVAANLIAFLAVLAFINAALSWLGELVDIQGLTFQVICSYLLRPMVFMMGVEWTDCPMVAEMVGIKFFINEFVAYQQLSQYKNKRLSGMEEWIEGE\n"
     ]
    },
    {
     "data": {
      "application/vnd.jupyter.widget-view+json": {
       "model_id": "b49a730f0ad1485c96b47e017179acbd",
       "version_major": 2,
       "version_minor": 0
      },
      "text/plain": [
       "HBox(children=(IntProgress(value=0, max=1154), HTML(value='')))"
      ]
     },
     "metadata": {},
     "output_type": "display_data"
    },
    {
     "name": "stdout",
     "output_type": "stream",
     "text": [
      "\n",
      "SPLTDRQIDQFLVVARAVGTFARALDCSSSVRQPSLHMSAAARSRDITLFHAMDTLYRHSYDLSSAISVLVPLGGPVLCRDEMEEWSASEASLFEEALEKYGKDFNDIRQDFLPWKLLTSIIEYYYMWK\n",
      "SPLTDRQIDQFLVVARAVGTFARALDCSSSVRQPSLHMSAAAASRDITLFHAMDTLYRHSYDLSSAISVLVPLGGPVLCRDEMEEWSASEASLFEEALEKYGKDFNDIRQDFLPWKSLTSIIEYYYMWK\n"
     ]
    },
    {
     "data": {
      "application/vnd.jupyter.widget-view+json": {
       "model_id": "de31244375064d4f858ace459da54ca7",
       "version_major": 2,
       "version_minor": 0
      },
      "text/plain": [
       "HBox(children=(IntProgress(value=0, max=1154), HTML(value='')))"
      ]
     },
     "metadata": {},
     "output_type": "display_data"
    },
    {
     "name": "stdout",
     "output_type": "stream",
     "text": [
      "\n",
      "FPQPKAEPELVVKLPLSSSKAENHIAANTARGSSGGLQAPRGPRDEHSFDIANPTVWVSVPIAEGESDLDDLEDDGGEDAQSFQQEVIPKGQQEQLQQVERCGDHLTPRSPGTGTSSEDLAPSLGETWK\n",
      "FPQPKAEPELVVKLPLSSSKAENHIAANTARGSSGGLQAPRGPRDEHSDFIANPTVWVSVPIAEGESDLDDLEDDGGEDAQSFQQEVIPKGQQEQLQQVERCGDHLTPRSPGTGTSSEDLAPSLGETWK\n"
     ]
    },
    {
     "data": {
      "application/vnd.jupyter.widget-view+json": {
       "model_id": "25600e44e8a04af5815c545f573d3b47",
       "version_major": 2,
       "version_minor": 0
      },
      "text/plain": [
       "HBox(children=(IntProgress(value=0, max=1154), HTML(value='')))"
      ]
     },
     "metadata": {},
     "output_type": "display_data"
    },
    {
     "name": "stdout",
     "output_type": "stream",
     "text": [
      "\n",
      "TCCRPSCCVSSCCRPQCCQSVCCQPTCCRPSCCPSCCQTTCCRTTCCRPSCCVSSCCRPQCCQSVCCQPTCCRPSCSISSCCRPSCCVSRCCRSQCCQSVCCQPTCCRPSCCISSCCRPSCCESSCCRP\n",
      "TCCRPSCCVSSCCRPQCCQSVCCQPTCCRPSCCPSCCQTTCCRTTCCRPSCCVSSCCRPQCCQSVCCQPTCCRPSCSISSCCRPSCCVSRCCRSQCCQSVCCQPTCCRPSCCISSCCRPSCCESSCCRP\n"
     ]
    },
    {
     "data": {
      "application/vnd.jupyter.widget-view+json": {
       "model_id": "d5d9125edaaf472699d2f7faa1ec8973",
       "version_major": 2,
       "version_minor": 0
      },
      "text/plain": [
       "HBox(children=(IntProgress(value=0, max=1154), HTML(value='')))"
      ]
     },
     "metadata": {},
     "output_type": "display_data"
    },
    {
     "name": "stdout",
     "output_type": "stream",
     "text": [
      "\n",
      "AGSPFPMTRVSSRSSDAKPLPASYPAEPREPQESPKITSAFSSVKPSEAVPRKFDSGGERGAGLPLSLSNKNRGLSAPDLRSVGLTPGQEQGASELEGSLGEASTIEIPPGESLQARAARILGIEVAVE\n",
      "AGSPFPVTRMSSRSSDAKPLPASYPAEPREPQESPKITSAFSSVKPSEAVPRKFDSGGERGAGLPLSLSNKNRGLSAPDLRSVGLTPGQEQGASELEGSLGEASTIEIPPGESLQARAARILGIEVAVE\n"
     ]
    },
    {
     "data": {
      "application/vnd.jupyter.widget-view+json": {
       "model_id": "960af46c821e4db8b00b4652dc4c0d07",
       "version_major": 2,
       "version_minor": 0
      },
      "text/plain": [
       "HBox(children=(IntProgress(value=0, max=1154), HTML(value='')))"
      ]
     },
     "metadata": {},
     "output_type": "display_data"
    },
    {
     "name": "stdout",
     "output_type": "stream",
     "text": [
      "\n",
      "LSIAIAAPERVVPRAPSPPQLPESGPGPTSPLCALEELTSKTFRGLDARALQPSEGRAGPDALGPGPFGRKRRKSRTAFTAQQVLELERRFVFQKYLAPSERDGLATRLGLANAQVVTWFQNRRAKLKR\n",
      "LSIADILAPRMVPRAPSAPQLPESGPGPTSPLCALEELTSKTFRGLDARALQPSEGRAGPDALGPGPFGRKRRKSRTAFTAQQVLELERRFVFQKYLAPSERDGLATRLGLANAQVVTWFQNRRAKLKR\n"
     ]
    },
    {
     "data": {
      "application/vnd.jupyter.widget-view+json": {
       "model_id": "d6815476540d43e9aea2d5db9d60e931",
       "version_major": 2,
       "version_minor": 0
      },
      "text/plain": [
       "HBox(children=(IntProgress(value=0, max=1154), HTML(value='')))"
      ]
     },
     "metadata": {},
     "output_type": "display_data"
    },
    {
     "name": "stdout",
     "output_type": "stream",
     "text": [
      "\n",
      "SVISSESGNTYRYVVLIGEQGVKGSTLANIFAGVHDSMDSDCEVLGEDTYERTLMVDGESTAAILLDMWENKGENEWLHDHMCQVGDAYLIVYSITDRASFEKASELRIQLRRARQTEDIPIILVGNKS\n",
      "SVISSESGNTYYRVVLIGEQGVGKSTLANIFAGVHDSMDSDCEVLGEDTYERTLMVDGESATIILLDMWENKGENEWLHDHCMQVGDAYLIVYSITDRASFEKASELRIQLRRARQTEDIPIILVGNKS\n"
     ]
    },
    {
     "data": {
      "application/vnd.jupyter.widget-view+json": {
       "model_id": "b5bf1391d7af40759d5a23195481f579",
       "version_major": 2,
       "version_minor": 0
      },
      "text/plain": [
       "HBox(children=(IntProgress(value=0, max=1154), HTML(value='')))"
      ]
     },
     "metadata": {},
     "output_type": "display_data"
    },
    {
     "name": "stdout",
     "output_type": "stream",
     "text": [
      "\n",
      "EEVTRPNYPGIMYLQSDFDLGCTCDDKVEPKNKLDELNKRLHTKGSTEREHLLYGRPAVLYRTRYDILYHTDFESGYSEIFLMPLWTSYTVSKQAEVSSVPDHLTSCVRPDVRVSPSFSQNCLAYKNDK\n",
      "EEVTRPNYPGIMYLQSDFDLGCTCDDKVEPKNKLDELNKRLHTKGSTEERHLLYGRPAVLYRTRYDILYHTDFESGYSEIFLMPLWTSYTVSKQAEVSSVPDHLTSCVRPDVRVSPSFSQNCLAYKNDK\n"
     ]
    },
    {
     "data": {
      "application/vnd.jupyter.widget-view+json": {
       "model_id": "9aec4ba1f79e4f39935d7f8b0cc0a5db",
       "version_major": 2,
       "version_minor": 0
      },
      "text/plain": [
       "HBox(children=(IntProgress(value=0, max=1154), HTML(value='')))"
      ]
     },
     "metadata": {},
     "output_type": "display_data"
    },
    {
     "name": "stdout",
     "output_type": "stream",
     "text": [
      "\n",
      "FSSALQRMTVIVQEMGGDRLAFMKGAPERVASFCQPETVPTSFVSELQIYTTQGFRVIALAYKKLENDHHTATLTRETVESDLIFLGLLILENRLKEETKPVLEELISARIRTVMITGDNLQTAITVAR\n",
      "FSSALQRMTVIVQEMGGDRLAFMKGAPERVASFCQPETVPTSFVSELQIYTTQGFRVIALAYKKLENDHHATTLTRETVESDLIFLGLLILENRLKEETKPVLEELISARIRTVMITGDNLQTAITVAR\n"
     ]
    },
    {
     "data": {
      "application/vnd.jupyter.widget-view+json": {
       "model_id": "d42ab11532e3441a96bc2e0b9265e917",
       "version_major": 2,
       "version_minor": 0
      },
      "text/plain": [
       "HBox(children=(IntProgress(value=0, max=1154), HTML(value='')))"
      ]
     },
     "metadata": {},
     "output_type": "display_data"
    },
    {
     "name": "stdout",
     "output_type": "stream",
     "text": [
      "\n",
      "YLTHDSPSVRKTHCSGRKHKENVKDYYQKWMEEQAQSLIDKTTAAFQQGKIPPTPFSAPPPAGAMIPPPPSLPGPPRPGMMPAPHMGGPPMMPMMGPPPGGMMPVGPAPGMRPPMGGHMPMMPGPPMMR\n",
      "YLTHDSPSVRKTHCSGRKHKENVKDYYQKWMEEQAQSLIDKTTAAFQQGKIPPTPFSAPPPAGAMIPPPPSLPGPPRPGMMPAPHMGGPPMMPMMGPPPPGMMPVGPAPGMRPPMGGHMPMMPGPPMMR\n"
     ]
    },
    {
     "data": {
      "application/vnd.jupyter.widget-view+json": {
       "model_id": "61d90232913b45f1be69d4872a52ba00",
       "version_major": 2,
       "version_minor": 0
      },
      "text/plain": [
       "HBox(children=(IntProgress(value=0, max=1154), HTML(value='')))"
      ]
     },
     "metadata": {},
     "output_type": "display_data"
    },
    {
     "name": "stdout",
     "output_type": "stream",
     "text": [
      "\n",
      "GIRRTSRAVEIFTTCAHMICNMEELEKGAAKVLIFPVVQQFTEAFVQALQIPDGPTSDSGFKMEVLKAVTALVKFFNKHMVSSMQQILPIVWNTLTESAAFYVRTEVNYTEEEEDPVDSDGEVLGFENL\n",
      "GIRTRSRAVEIFTTCAHMICNMEELEKGAAKVLIFPVVQQFTEAFVQALQIPDGPTSDSGFKMEVLKAVTALVKNFPKHMVSSMQQILPIVWNTLTESAAFYVRTEVNYTEEVEDPVDSDGEVLGFENL\n"
     ]
    },
    {
     "data": {
      "application/vnd.jupyter.widget-view+json": {
       "model_id": "cad84654ab9f473faa3d65346cbe7c57",
       "version_major": 2,
       "version_minor": 0
      },
      "text/plain": [
       "HBox(children=(IntProgress(value=0, max=1154), HTML(value='')))"
      ]
     },
     "metadata": {},
     "output_type": "display_data"
    },
    {
     "name": "stdout",
     "output_type": "stream",
     "text": [
      "\n",
      "WDPQSQQWTFVASMSIARSTVGVAALNGKLYSVGGRDGSSCLSSMEYYDPHTNKWNMCAPMCKRRGGVGVATCDGFLYAVGGHDAPASNHCSRLLDYVERYDPKTDTWTMVAPLSMPRDAVGVCLLGDR\n",
      "WDPQSQQWTFVASMSIARSTVGVAALNGKLYSVGGRDGSSCLSSMEYYDPHTNKWNMCAPMCKRRGGVGVATCDGFLYAVGGHDAPASNHCSRLLDYVERYDPKTDTWTMVAPLSMPRDAVGVCLLGDR\n"
     ]
    },
    {
     "data": {
      "application/vnd.jupyter.widget-view+json": {
       "model_id": "4bfb9f2353b04f12843c41adf3aad216",
       "version_major": 2,
       "version_minor": 0
      },
      "text/plain": [
       "HBox(children=(IntProgress(value=0, max=1154), HTML(value='')))"
      ]
     },
     "metadata": {},
     "output_type": "display_data"
    },
    {
     "name": "stdout",
     "output_type": "stream",
     "text": [
      "\n",
      "LWLHVLPTLPGTLCLRIFRWGPRRRRQGSRTLLAEHHITNLGWHTLTLPSSGLRGEKSGVLKLQLDCRPLEGNSTVTGQPRRLLDTAGHQQPFLELKIRANEPGAGRARRRTTPCEPATPLCCRRDHYV\n",
      "LWLHVLPTLPGTLCLRIFRWGPRRRRQGSRTLLAEHHITNLGWHTLTLPSSGLRGEKSGVLKLQLDCRPLEGNSTVTGQPRRLLDTAGHQQPFLELKIRANEPGAGRARRRTPTCEPATPLCCRRDHYV\n"
     ]
    },
    {
     "data": {
      "application/vnd.jupyter.widget-view+json": {
       "model_id": "bd8001e4426a4638bb3effd1aa8cbb07",
       "version_major": 2,
       "version_minor": 0
      },
      "text/plain": [
       "HBox(children=(IntProgress(value=0, max=1154), HTML(value='')))"
      ]
     },
     "metadata": {},
     "output_type": "display_data"
    },
    {
     "name": "stdout",
     "output_type": "stream",
     "text": [
      "\n",
      "LMRMLKMLILPLIISSLITGLSGLDAKASGRLGTRAMVYYMSTTIIAAVLGVILVLAIHPGNPKLKKQLGPGKKNDEVSSLDAFLDLIRNLFPENLVQACFQFIQTVTKKVLVAPPPDEEANATSAVVS\n",
      "LMRMLKMLILPLIISSLITGLSGLDAKASGRLGTRAMVYYMSTTIIAAVLGVILVLAIHPGNPKLKKQLGPGKKNDEVSSLDAFLDLIRNLFPENLVQACFQQIQTVTKKVLVAPPPDEEANATSAVVS\n"
     ]
    },
    {
     "data": {
      "application/vnd.jupyter.widget-view+json": {
       "model_id": "2756f3ecc73a4ed4a32a72c748db4b0e",
       "version_major": 2,
       "version_minor": 0
      },
      "text/plain": [
       "HBox(children=(IntProgress(value=0, max=1154), HTML(value='')))"
      ]
     },
     "metadata": {},
     "output_type": "display_data"
    },
    {
     "name": "stdout",
     "output_type": "stream",
     "text": [
      "\n",
      "LIERMVRTDSLWRGLAERRGWGQYLFKNKPPDGNAPPNSFYRALYPKIIQDIETIESNWRCGRHSLHRHHCRSETSKGVYCLQYDDQKIVSGLRDNTIKIWDKNTLECKRILTGHTGSVLCLQYDERVI\n",
      "LIERMVRTDSLWRGLAERRGWGQYLFKNKPPDGNAPPNSFYRALYPKIIQDIETIESNWRCGRHSLQRIHCRSETSKGVYCLQYDDQKIVSGLRDNTIKIWDKNTLECKRILTGHTGSVLCLQYDERVI\n"
     ]
    },
    {
     "data": {
      "application/vnd.jupyter.widget-view+json": {
       "model_id": "1db1e2740ff54ff48ea5a40c619cf748",
       "version_major": 2,
       "version_minor": 0
      },
      "text/plain": [
       "HBox(children=(IntProgress(value=0, max=1154), HTML(value='')))"
      ]
     },
     "metadata": {},
     "output_type": "display_data"
    },
    {
     "name": "stdout",
     "output_type": "stream",
     "text": [
      "\n",
      "HCNYFLPSSWEGTAYTVIHFLVGFVIPSVLIILFYQKVIKYIWRIGTDGRTVRRTMNIVPRTKVKTIKMFLILNLLFLLSWLPFHVAQLWHPHEQDYKKSSLVFTATTWISFSSSDSKPTLYSIYNANF\n",
      "HCNYFLPSSWEGTAYTVIHFLVGFVIPSVLIILFYQKVIKYIWRIGTDGRTVRRTMNIVPRTKVKTIKMFLILNLLFLLSWLPFHVAQLWHPHEQDYKKSSLVFTAITWISFSSSASKPTLYSIYNANF\n"
     ]
    },
    {
     "data": {
      "application/vnd.jupyter.widget-view+json": {
       "model_id": "dddd86a867ee4913a9c55177c35f5d49",
       "version_major": 2,
       "version_minor": 0
      },
      "text/plain": [
       "HBox(children=(IntProgress(value=0, max=1154), HTML(value='')))"
      ]
     },
     "metadata": {},
     "output_type": "display_data"
    },
    {
     "name": "stdout",
     "output_type": "stream",
     "text": [
      "\n",
      "REECPVFTPPGGETLDQVKMRGIDFFEFLCQLILKEADQKEQFSQGSPSNCLETSLAEIFPLGKNHSSKVNSDSGIPGLAASVLVVSHGAYMRSLFDYFLTDLKCSLPATLSRSELMSVTPNTGMSLFI\n",
      "REECPVFTPPGGETLDQVKMRGIDFFEFLCQLILKEADQKEQFSQGSPSNCLETSLAEIFPLGKNHSSKVNSDSGIPGLAASVLVVSHGAYMRSLFDYFLTDLKCSLPATLSRSELMSVTPNTGMSLFI\n"
     ]
    },
    {
     "data": {
      "application/vnd.jupyter.widget-view+json": {
       "model_id": "9349b15b5ae046ae98c6f798aef3c21c",
       "version_major": 2,
       "version_minor": 0
      },
      "text/plain": [
       "HBox(children=(IntProgress(value=0, max=1154), HTML(value='')))"
      ]
     },
     "metadata": {},
     "output_type": "display_data"
    },
    {
     "name": "stdout",
     "output_type": "stream",
     "text": [
      "\n",
      "TLQMLYKLKTSKVFEKQKVGEGKQTCEIVEEDPFAIQMIYWCPESRIFCVSGVSAYVIIYKFSRHIETTIEVSLEVRLQYDVEDIITPPPETSPPFPDLSAQLPSSRSLSGSTNTVASEGVTKDSIPCL\n",
      "TLQMLYKLKTSKVFEKQKVGEGKQTCEIVEEDPFAIQMIYWCPESRIFCVSGVSAYVIIYKFSRHEITTEIVSLEVRLQYDVEDIITPEPETSPPFPDLSAQLPSSRSLSGSTNTVASEGVTKDSIPCL\n"
     ]
    },
    {
     "data": {
      "application/vnd.jupyter.widget-view+json": {
       "model_id": "8be31a612e824e9e979795904b3a9f3c",
       "version_major": 2,
       "version_minor": 0
      },
      "text/plain": [
       "HBox(children=(IntProgress(value=0, max=1154), HTML(value='')))"
      ]
     },
     "metadata": {},
     "output_type": "display_data"
    },
    {
     "name": "stdout",
     "output_type": "stream",
     "text": [
      "\n",
      "CRLCLPALSQGGAQSSGKILLCPLCQEEEQAETMMAPVPLGPLGETYCEEHGEKIYFFCENDAEFLCVFCREGPTHQAHTVGFLDEAIQPYRDRLRSRLEALSTERDEIEDVKCQEDQKLQVLLTQIES\n",
      "CRLCLPALSQMGAQSSGKILLCPLCQEEEQAETPMAPVPLGPLGETYCEEHGEKIYFFCENDAEFLCVFCREGPTHQAHTVGFLDEAIQPYRDRLRSRLEALSTERDEIEDVKCQEDQKLQVLLTQIES\n"
     ]
    },
    {
     "data": {
      "application/vnd.jupyter.widget-view+json": {
       "model_id": "a6b194e7e20b4306813960e8cce687a5",
       "version_major": 2,
       "version_minor": 0
      },
      "text/plain": [
       "HBox(children=(IntProgress(value=0, max=1154), HTML(value='')))"
      ]
     },
     "metadata": {},
     "output_type": "display_data"
    },
    {
     "name": "stdout",
     "output_type": "stream",
     "text": [
      "\n",
      "FVLFGGLDSLLLAVMAYDRFVAICHPLHYTVIMNPRLCGLLVLASWMIAALNSLSQSLMVLWLSFCTDLEIPHFFCELNQVIHLACSDTFLNDMGMYFAAGLLAGGPLVGILCSYSKIVSSIRAISSAQ\n",
      "FVLFGGLDSLLLAVMAYDRFVAICHPLHYTVIMNPRLCGLLVLASWMIAALNSLSQSLMVLWLSFCTDLEIPHFFCELNQVIHLACSDTFLNDMGMYFAAGLLAGGPLVGILCSYSKIVSSIRAISSAQ\n"
     ]
    },
    {
     "data": {
      "application/vnd.jupyter.widget-view+json": {
       "model_id": "5acdcec9a1fe4f4d97d679e921aba50e",
       "version_major": 2,
       "version_minor": 0
      },
      "text/plain": [
       "HBox(children=(IntProgress(value=0, max=1154), HTML(value='')))"
      ]
     },
     "metadata": {},
     "output_type": "display_data"
    },
    {
     "name": "stdout",
     "output_type": "stream",
     "text": [
      "\n",
      "STPVSNDMCTQVAKRPVDTQACNQQLCVEWACSSWGQCNGPCIGPHLAVQHRQVCFQTRDGITLPSEQCSALPRPVSTQNCWSEACSVHWRVSLWTLCTATCGNYGFQSRRVECVHARTNKAVPEHLCS\n",
      "STPVSNDMCTQVAKRPVDTQACNQQLCVEWAFSSWGQCNGPCIGPHLAVQHRQVFCQTRDGITLPSEQCSALPRPVSTQNCWSEACSVHWRVSLWTLCTATCGNYGFQSRRVECVHARTNKAVPEHLCS\n"
     ]
    },
    {
     "data": {
      "application/vnd.jupyter.widget-view+json": {
       "model_id": "5621135011a94cb09c9edca9b65749a8",
       "version_major": 2,
       "version_minor": 0
      },
      "text/plain": [
       "HBox(children=(IntProgress(value=0, max=1154), HTML(value='')))"
      ]
     },
     "metadata": {},
     "output_type": "display_data"
    },
    {
     "name": "stdout",
     "output_type": "stream",
     "text": [
      "\n",
      "LFSPKPHKQIHTKGKSYQCNLCEKAYTNCFRLRKHKMTHTGERPYACHLCGKAFTQCSHLRRHEKTHTGERPYKCHQCGKAFIQSFNLRRHERTHLGKKCYECDKSGKAFSQSSGFRGNKIIHTGEKPH\n",
      "LFSPKPHKQIHTKGKSYQCNLCEKAYTNCFRLRRHKMTHTGERPYACHLCGKAFTQCSHLRRHEKTHTGERPYKCHQCGKAFIQSFNLRRHERTHLGKKCYECDKSGKAFSQSSGFRGNKIIHTGEKPH\n"
     ]
    },
    {
     "data": {
      "application/vnd.jupyter.widget-view+json": {
       "model_id": "2567e1fdc9cd4ba28ed1559208802712",
       "version_major": 2,
       "version_minor": 0
      },
      "text/plain": [
       "HBox(children=(IntProgress(value=0, max=1154), HTML(value='')))"
      ]
     },
     "metadata": {},
     "output_type": "display_data"
    },
    {
     "name": "stdout",
     "output_type": "stream",
     "text": [
      "\n",
      "ISFYFMPCCPLTASSFYLLSGLLDADDGHAARALNQGTRFGAMLDMLTDRCSTMCLLVNLALLYPGATLFFQISMSLDVASHWLHLHSSVVRGSESHKMIDLSGNPVLRIYYTSRPALFTLCAGNELFY\n",
      "ISFYFMPCCPLTASSFYLLSGLLDAFDGHAARALNQGTRFGAMLDMLTDRCSTMCLLVNLALLYPGATLFFQISMSLDVASHWLHLHSSVVRGSESHKMIDLSGNPVLRIYYTSRPALFTLCAGNELFY\n"
     ]
    },
    {
     "data": {
      "application/vnd.jupyter.widget-view+json": {
       "model_id": "eff9f91270bb4b0d8368d8cc591ad173",
       "version_major": 2,
       "version_minor": 0
      },
      "text/plain": [
       "HBox(children=(IntProgress(value=0, max=1154), HTML(value='')))"
      ]
     },
     "metadata": {},
     "output_type": "display_data"
    },
    {
     "name": "stdout",
     "output_type": "stream",
     "text": [
      "\n",
      "MMAAAADGLGSIAIDTTQLNMSVTDPTAWATAMNNLGMVPVGLPGQQLVSDSICVPGFDPSLNMMTGITPINPMIPGLGLVPPPPTETVAVVKEIIHCVKCTLFPQNNNLPPPSTRERPPGCKTVFVGG\n",
      "MMAAAADGLGSIAIDTTQLNMSVTDPTAWATAMNNLGMVPVGLPGQQLVSDSICVPGFDPSLNMMTGITPINPMIPGLGLVPPPPPTEVAVVKEIIHCKSCTLFPQNPNLPPPSTRERPPGCKTVFVGG\n"
     ]
    },
    {
     "data": {
      "application/vnd.jupyter.widget-view+json": {
       "model_id": "38351a1158de4315a8aa3ffaeaf1794a",
       "version_major": 2,
       "version_minor": 0
      },
      "text/plain": [
       "HBox(children=(IntProgress(value=0, max=1154), HTML(value='')))"
      ]
     },
     "metadata": {},
     "output_type": "display_data"
    },
    {
     "name": "stdout",
     "output_type": "stream",
     "text": [
      "\n",
      "FRNEWNNKSEQEKFQGLKERSISQKKIVSKKMSTDRKRPSFTLNQRIHNSEKCCDSHLVQHGKIDSDVKHDCKECGSTFNNVYQLTLHQKIHTGEKSCKCEKCGKVFSHSYQLTLHQRFHTGEKPYECQ\n",
      "FRNEWQNKSEFEGQQGLKERSISQKKIVSKKMSTDRKRPSFTLNQRIHNSEKSCDSHLVQHGKIDSDVKHDCKECGSTFNNVYQLTLHQKIHTGEKSCKCEKCGKVFSHSYQLTLHQRFHTGEKPYECQ\n"
     ]
    },
    {
     "data": {
      "application/vnd.jupyter.widget-view+json": {
       "model_id": "dd3f70b0d1554433a279841de236aad4",
       "version_major": 2,
       "version_minor": 0
      },
      "text/plain": [
       "HBox(children=(IntProgress(value=0, max=1154), HTML(value='')))"
      ]
     },
     "metadata": {},
     "output_type": "display_data"
    },
    {
     "name": "stdout",
     "output_type": "stream",
     "text": [
      "\n",
      "LRNRVAPGSPCMLTQLPDPVPSKRAQGCSPAQKLCLEVSRWVEGRGVKWSAELEADLPRSWQRHGNLLLLSEDCFQAKQWKNLGPELWETMALALGVQRLAKRGRVSPDGTRTPAVTLLLGDHGWVEHV\n",
      "LRNRVAPGSPCMLTQLPDPVPSKRAQGCSPAQKLCLEVSRWVEGRGVKWSAELEADLPRSWQRHGNLLLLSEDCFQAKQWKNLGPELWETVALALGVQRLAKRGRVSPDGTRTPAVTLLLGDHGWVEHV\n"
     ]
    },
    {
     "data": {
      "application/vnd.jupyter.widget-view+json": {
       "model_id": "0d8796b74a12479ea392b6743ad6594b",
       "version_major": 2,
       "version_minor": 0
      },
      "text/plain": [
       "HBox(children=(IntProgress(value=0, max=1154), HTML(value='')))"
      ]
     },
     "metadata": {},
     "output_type": "display_data"
    },
    {
     "name": "stdout",
     "output_type": "stream",
     "text": [
      "\n",
      "TKLKARQLTVQMMQNPQILAALQERLDGLVETPTGYIESLPRVVKRRVNALKNLQVKCAQIEAKFYEEVHDLERKYAVLYQLPFDKRFEIIRAIYPPTEEECEWKPDEEDEISEELKEKAKIEDEKKDE\n",
      "TKLKARQLTVQMMQNPQILAALQERLDGLVETPTGYIESLPRVVKRRVNALKNLQVKCAQIEAKFYEEVHDLERKYAVLYQPLFDKRFEIINAIYEPTEEECEWKPDEEDEISEELKEKAKIEDEKKDE\n"
     ]
    },
    {
     "data": {
      "application/vnd.jupyter.widget-view+json": {
       "model_id": "6ca9c4913e0c48478cb741d9a8371315",
       "version_major": 2,
       "version_minor": 0
      },
      "text/plain": [
       "HBox(children=(IntProgress(value=0, max=1154), HTML(value='')))"
      ]
     },
     "metadata": {},
     "output_type": "display_data"
    },
    {
     "name": "stdout",
     "output_type": "stream",
     "text": [
      "\n",
      "RLLEKYPQAIYTLCSSCALNMWLAKSVPVMGVSVALGTIEEVCFSFHRSPQLLLELDNVISVLFQNSKERGKELKEICHSQWTGRHADFEILVELLQALVLCLDGINSDTNIRWNNYIAGRAFVLCSAV\n",
      "RLLEKYPQAIYTLCSSCALNMWLAKSVPVMGVSVALGTIEEVCSFFHRSPQLLLELDNVISVLFQNSKERGKELKEICHSQWTGRHDAFEILVELLQALVLCLDGINSDTNIRWNNYIAGRAFVLCSAV\n"
     ]
    },
    {
     "data": {
      "application/vnd.jupyter.widget-view+json": {
       "model_id": "808f5a6552174ec488d378632fdf0458",
       "version_major": 2,
       "version_minor": 0
      },
      "text/plain": [
       "HBox(children=(IntProgress(value=0, max=1154), HTML(value='')))"
      ]
     },
     "metadata": {},
     "output_type": "display_data"
    },
    {
     "name": "stdout",
     "output_type": "stream",
     "text": [
      "\n",
      "HSNSPPLVTPPQSPVSPQPPAITQVHEQGERRRELVRSQTLPRTSEAQARKALFEKWEQETAAGKGKGEARARLKRSQSFGVASASSIKQILLEWCRSKTLGYQHVDLQNFSSSWSDGMAFCALVHSFF\n",
      "HSNSPPLVTPPQSPVSPQPPAITQVHRQGERRRELVRSQTLPRTSEAQARKALFEKWEQETAAGKGKGEARARLKRSQSFGVASASSIKQILLEWCRSKTLGYQHVDLQNFSSSWSDGMAFCALVHSFF\n"
     ]
    },
    {
     "data": {
      "application/vnd.jupyter.widget-view+json": {
       "model_id": "55cf4541a8974e8d805d0ad3afc30b09",
       "version_major": 2,
       "version_minor": 0
      },
      "text/plain": [
       "HBox(children=(IntProgress(value=0, max=1154), HTML(value='')))"
      ]
     },
     "metadata": {},
     "output_type": "display_data"
    },
    {
     "name": "stdout",
     "output_type": "stream",
     "text": [
      "\n",
      "CKPLQYPLVMNHKVCIQLIIASWTITIPVVIGETCQIFLLPFCGTNTINHFFCDIPPILKLACGNIFVNEITVHVVAVVFITVPFLLIVVSYGKIISNILKLSSARGKAKAFSTCSSHLIVVILFFGAG\n",
      "CKPLQYPLVMNHKVCIQLIIASWTITIPVVIGETCQIFLLPFCGTNTINHFFCDIPPILKLACGNIFVNEITVHVVAVVFITVPFLLIVVSYGKIISNILKLSSARGKAKAFSTCSSHLIVVILFFGAG\n"
     ]
    },
    {
     "data": {
      "application/vnd.jupyter.widget-view+json": {
       "model_id": "20a730b42d9947d994d05fcef9b46b67",
       "version_major": 2,
       "version_minor": 0
      },
      "text/plain": [
       "HBox(children=(IntProgress(value=0, max=1154), HTML(value='')))"
      ]
     },
     "metadata": {},
     "output_type": "display_data"
    },
    {
     "name": "stdout",
     "output_type": "stream",
     "text": [
      "\n",
      "RMLSTLSQCEFSMGKTLLVYDMNLREMENYEKIYEEIECSIAGAHEKIAECKKQILQAKRIRKNRQEYDALAKVIQHPPDRHETLKELEALGKELEHLSHIKESVEDKLELRRKQFHVLLSTIHELQQT\n",
      "RMLSTLSQCEFSMGKTLLVYDMNLREMENYEKIYKEIECSIAGAHEKIAECKKQILQAKRIRKNRQEYDALAKVIQHHPDRHETLKELEALGKELEHLSHIKESVEDKLELRRKQFHVLLSTIHELQQT\n"
     ]
    },
    {
     "data": {
      "application/vnd.jupyter.widget-view+json": {
       "model_id": "584b8045446b48afbfe1bf3e0e8f9a8e",
       "version_major": 2,
       "version_minor": 0
      },
      "text/plain": [
       "HBox(children=(IntProgress(value=0, max=1154), HTML(value='')))"
      ]
     },
     "metadata": {},
     "output_type": "display_data"
    },
    {
     "name": "stdout",
     "output_type": "stream",
     "text": [
      "\n",
      "YRLSHDCISLCIQAQNNLGILWSEREEIETAQALYESSEALYNQYMKEVGSPPLDPTERFLPEEEKLTEQERSKRFEKVYTHNLYYLAQVYQHLEMFEKAAHYCHSTLKRQLEHNAYHPIEWAINAATL\n",
      "YRLSHDCISLCIQAQNNLGILWSEREEIETAQAYLESSEALYNQYMKEVGSPPLDPTERFLPEEEKLTEQERSKRFEKVYTHNLYYLAQVYQHLEMFEKAAHYCHSTLKRQLEHNAYHPIEWAINAATL\n"
     ]
    },
    {
     "data": {
      "application/vnd.jupyter.widget-view+json": {
       "model_id": "0de018bcb02d4fb18cd0dd72fe9be56e",
       "version_major": 2,
       "version_minor": 0
      },
      "text/plain": [
       "HBox(children=(IntProgress(value=0, max=1154), HTML(value='')))"
      ]
     },
     "metadata": {},
     "output_type": "display_data"
    },
    {
     "name": "stdout",
     "output_type": "stream",
     "text": [
      "\n",
      "TEYSSLRSIVVANYEESIKMPINEPAPGKKKSIQQEYVDYNGGAGVQHIALKTEDIITAIRHLRERGLEFLSVPSTYYKQLREKLKTAKIKVKENIDALEELKILVDYDEKGYLLQIFTKPVQDRPTLF\n",
      "TEYSSLRSIVVANYEESIKMPINEPAPGKKKSQIQEYVDYNGGAGVQHIALKTEDIITAIRHLRERGLEFLSVPSTYYKQLREKLKTAKIKVKENIDALEELKILVDYDEKGYLLQIFTKPVQDRPTLF\n"
     ]
    },
    {
     "data": {
      "application/vnd.jupyter.widget-view+json": {
       "model_id": "bcb73c12319147b6aa4425590ad178d9",
       "version_major": 2,
       "version_minor": 0
      },
      "text/plain": [
       "HBox(children=(IntProgress(value=0, max=1154), HTML(value='')))"
      ]
     },
     "metadata": {},
     "output_type": "display_data"
    },
    {
     "name": "stdout",
     "output_type": "stream",
     "text": [
      "\n",
      "QKIELAESDKERKKMVRELMQVVLARKPKCMSFLEWRDLKVVYKRYASLYFCCAIEGQDNELITLELIHRYVELLDKYFGSVCELDIIFNFEKAYFILFEDLMGGDVQDTSKKSVLKAIEQADLLQEED\n",
      "QKWYLATSDKERKKMVRELMQVVLARKPKMCSFLEWRDLKVVYKRYASLYFCCAIEGQDNELITLELIHRYVELLDKYFGSVCELDIIFNFEKAYFILDEFLMGGDVQDTSKKSVLKAIEQADLLQEED\n"
     ]
    },
    {
     "data": {
      "application/vnd.jupyter.widget-view+json": {
       "model_id": "57fc92f24a4d480aa863af00c8c0747a",
       "version_major": 2,
       "version_minor": 0
      },
      "text/plain": [
       "HBox(children=(IntProgress(value=0, max=1154), HTML(value='')))"
      ]
     },
     "metadata": {},
     "output_type": "display_data"
    },
    {
     "name": "stdout",
     "output_type": "stream",
     "text": [
      "\n",
      "KYDPTIEDFYRKEIEVDSSPSVLEILDTAGTEQFASMRDLYIKNGQGFILVYSLVNQQSFQDIKPMRDQIIRVKRYERVPMILVGNKVDLEGEREVSYGEGKALAEEWSCPFMETSAKNKASVDELFAE\n",
      "KYDPTIEDFYRKEIEVDSSPSVLEILDTAGTEQFASMRDLYIKNGQGFILVYSLVNQQSFQDIKPMRDQIIRVKRYERVPMILVGNKVDLEGEREVSYGEGKALAEEWSCPFMETSAKNKASVDELFAE\n"
     ]
    },
    {
     "data": {
      "application/vnd.jupyter.widget-view+json": {
       "model_id": "f3c2088d9b3947ca8cc3473320c8d7a0",
       "version_major": 2,
       "version_minor": 0
      },
      "text/plain": [
       "HBox(children=(IntProgress(value=0, max=1154), HTML(value='')))"
      ]
     },
     "metadata": {},
     "output_type": "display_data"
    },
    {
     "name": "stdout",
     "output_type": "stream",
     "text": [
      "\n",
      "SVSRGPRGEPRFITVGYVDDTFFVRFDSDAASPREEPRAPWIEQEGPEYWDRNTIQCKAAAQTDRVGLRNLRGYYNQSEDGSHTWQTMYGCDMGPDGRLLRGYNQFAYDGKDYIALNEDLRSWTAADTA\n",
      "SVSRPGRGEPRFITVGYVDDTQFVRFDSDAASPREEPRAPWIEQEGPEYWDRNTQICKAKAQTDRVGLRNLRGYYNQSEDGSHTWQTMYGCDMGPDGRLLRGYNQFAYDGKDYIALNEDLRSWTAADTA\n"
     ]
    },
    {
     "data": {
      "application/vnd.jupyter.widget-view+json": {
       "model_id": "96dfe341d5b8469c8354ede336c27241",
       "version_major": 2,
       "version_minor": 0
      },
      "text/plain": [
       "HBox(children=(IntProgress(value=0, max=1154), HTML(value='')))"
      ]
     },
     "metadata": {},
     "output_type": "display_data"
    },
    {
     "name": "stdout",
     "output_type": "stream",
     "text": [
      "\n",
      "NGVLISVIIFDSHLHTPMYFFLCNLSFLDVCYTSSSVPLILASFLAVKKKVSFSGCMVQMFISFAMGATECMILGTMALDRYVAICYPLRYPVIMSKGAYVAMAAGSWVTGLVDSVVQTFFAMQLPFCA\n",
      "NGVLISVIIFDSHLHTPMYFFLCNLSFLDVCYTSSSVPLILASFLAVKKKVSFSGCMVQMFISFAMGATECMILGTMALDRYVAICYPLRYPVIMSKGAYVAMAAGSWVTGLVDSVVQTAFAMQLPFCA\n"
     ]
    },
    {
     "data": {
      "application/vnd.jupyter.widget-view+json": {
       "model_id": "238ff545a33e468792d64d247c23040b",
       "version_major": 2,
       "version_minor": 0
      },
      "text/plain": [
       "HBox(children=(IntProgress(value=0, max=1154), HTML(value='')))"
      ]
     },
     "metadata": {},
     "output_type": "display_data"
    },
    {
     "name": "stdout",
     "output_type": "stream",
     "text": [
      "\n",
      "DWKPEAGLSPPRKKREDPKTRRDSVDSKSSASSSPKRPSVERSNSSSSKAESPKTPSSPLTPTFASSMCLLAPCYLTGDSVRDKKVEMLSAALKADDDYKDYGVNCDKMASEIEDHIYQELKSTDMKYR\n",
      "DWKPEAGLSPPRKKREDPKTRRDSVDSKSSASSSPKRPSVERSNSSKSKAESPKTPSSPLTPTFASSMCLLAPCYLTGDSVRDKCVEMLSAALKADDDYKDYGVNCDKMASEIEDHIYQELKSTDMKYR\n"
     ]
    },
    {
     "data": {
      "application/vnd.jupyter.widget-view+json": {
       "model_id": "cd7d56e8d0134d2abe086328be87013c",
       "version_major": 2,
       "version_minor": 0
      },
      "text/plain": [
       "HBox(children=(IntProgress(value=0, max=1154), HTML(value='')))"
      ]
     },
     "metadata": {},
     "output_type": "display_data"
    },
    {
     "name": "stdout",
     "output_type": "stream",
     "text": [
      "\n",
      "KKELEKIPGFQCLAKNMPDPITARESIWLPFMETELCDDELTIIIGHSSGAIAAGRYAETHRVYAIVLVSAYTSDLGDENERASGYFQRTPWWWEYKANCPIYVQFGSTDDPFLEWKTQQEVADRLETK\n",
      "KKELEKIPGFQCLAKNMPDPITARESIWLPFMETELHCDEKTIIIGHSSGAIAAMRYAETHRVYAIVLVSAYTSDLGDENERASGYFTRPWQWEKIKANCPYIVQFGSTDDPFLPWKEQQEVADRLETK\n"
     ]
    },
    {
     "data": {
      "application/vnd.jupyter.widget-view+json": {
       "model_id": "b002e7295b83453588a2d7142ad3b652",
       "version_major": 2,
       "version_minor": 0
      },
      "text/plain": [
       "HBox(children=(IntProgress(value=0, max=1154), HTML(value='')))"
      ]
     },
     "metadata": {},
     "output_type": "display_data"
    },
    {
     "name": "stdout",
     "output_type": "stream",
     "text": [
      "\n",
      "SWQAHQFEAWIAAFNYWHPEIVYSGGDDGLLRGWDRTVPGKFLFTSKHHTMGVCSIQSSPRHEHILATGSYDEHILLWDTRNMKQPLADTPVQGGVWRIKWHPFHHHLLLAACMHSGFKILNCQKAMEE\n",
      "SWQAHQFEAWIAAFNYWHPEIVYSGGDDGLLRGWDTRVPGKFLFTSKRHTMGVCSIQSSPHREHILATGSYDEHILLWDTRNMKQPLADTPVQGGVWRIKWHPFHHHLLLAACMHSGFKILNCQKAMEE\n"
     ]
    },
    {
     "data": {
      "application/vnd.jupyter.widget-view+json": {
       "model_id": "c8d458ac6a384d08ba9abf80b2d82978",
       "version_major": 2,
       "version_minor": 0
      },
      "text/plain": [
       "HBox(children=(IntProgress(value=0, max=1154), HTML(value='')))"
      ]
     },
     "metadata": {},
     "output_type": "display_data"
    },
    {
     "name": "stdout",
     "output_type": "stream",
     "text": [
      "\n",
      "DDEEDTEIPPGAVITRAPVLFQSPRGFEAGFENEDNSKRDISEEVQLHRTLLARSERKIPRYLHQGKGNESDCRSGRQWAKTSGEKRGKLTLPEKSLSEVLSQQRPCLGERPYKYLKYSKSFGPNSLLM\n",
      "DDEEDTEIPPGAVITRAPVLFQSPRGFEAGFENEDNSKRDISEEVQLHRTLLARSERKIPRYLHQGKGNESDCRSGRQWAKTSGEKRGKLTLPEKSLSEVLSQQRPCLGERPYKYLKYSKSFGPNSLLM\n"
     ]
    },
    {
     "data": {
      "application/vnd.jupyter.widget-view+json": {
       "model_id": "fbe9825be986498c9b8ba686888512e7",
       "version_major": 2,
       "version_minor": 0
      },
      "text/plain": [
       "HBox(children=(IntProgress(value=0, max=1154), HTML(value='')))"
      ]
     },
     "metadata": {},
     "output_type": "display_data"
    },
    {
     "name": "stdout",
     "output_type": "stream",
     "text": [
      "\n",
      "LDNAGKTTLLHMLKDDRLGQHVPTLHPTSEELTIAGMTFTTFDLGGHEQARRVWKNYLPAILINVFFLDCADHRSRLLSEKVVNTLAADDTTSNVPILILGNKIDRTDAISEEKLREIFGLYGGTQGTT\n",
      "LDNAGKTTLLHMLKDDRLGQHVPTLHPTSEELTIAGMTFTTFDLGGHEQARRVWKNYLPAINGIVFLVDCADHSRLVESKVELNALMTDETISNVPILILGNKIDRTDAISEEKLREIFGLYGQTTGKG\n"
     ]
    },
    {
     "data": {
      "application/vnd.jupyter.widget-view+json": {
       "model_id": "4b0c874fcea144249bef998f1970fba3",
       "version_major": 2,
       "version_minor": 0
      },
      "text/plain": [
       "HBox(children=(IntProgress(value=0, max=1154), HTML(value='')))"
      ]
     },
     "metadata": {},
     "output_type": "display_data"
    },
    {
     "name": "stdout",
     "output_type": "stream",
     "text": [
      "\n",
      "ISCPEGTNAYRSYCYEFNYDRETWVDADLYCQNMNSGNLVVSLTQAEGAFVASLIKESGTDDFNVWIGLHDPKKNRRWHWSSGSLVSYKSWGIGANSSVPPGCCVSLTSSTGFQKIKDVPCEDKFSFVC\n",
      "ISCPEGTNAYRSYCYYFNEDRETWVDADLYCQNMNSGNLVSVLTQAEGAFVASLIKESGTDDFNVWIGLHDPKKNRRWHWSSGSLVSYKSWGIGAPSSVNPGYCVSLTSSTGFQKWKDVPCEDKFSFVC\n"
     ]
    },
    {
     "data": {
      "application/vnd.jupyter.widget-view+json": {
       "model_id": "42f266ea021f48a8b071ed31a7bf07ef",
       "version_major": 2,
       "version_minor": 0
      },
      "text/plain": [
       "HBox(children=(IntProgress(value=0, max=1154), HTML(value='')))"
      ]
     },
     "metadata": {},
     "output_type": "display_data"
    },
    {
     "name": "stdout",
     "output_type": "stream",
     "text": [
      "\n",
      "FRKSVSPSKTLSVPDKEVPGHGRNRYDEIKEEFDKLHSKYCLKSLQQMTPVLCIGVSTDKASMRVRYQTEGFLGKLNPDPHFQGFQKLPSSPLGCRKSLLGSTAIEAPSSTCVARAITRDGTRDHQFPA\n",
      "FRKSVSPSKTLSVPDKEVPGHGRNRYDEIKEEFDKLHQKYCLKSPGQMTVPLCIGVSTDKASMEVRYQTEGFLGKLNPDPHFQGFQKLPSSPLGCRKSLLGSTAIEAPSSTCVARAITRDGTRDHQFPA\n"
     ]
    },
    {
     "data": {
      "application/vnd.jupyter.widget-view+json": {
       "model_id": "6ca25ff49eaf4f9b9151d0146164a8d1",
       "version_major": 2,
       "version_minor": 0
      },
      "text/plain": [
       "HBox(children=(IntProgress(value=0, max=1154), HTML(value='')))"
      ]
     },
     "metadata": {},
     "output_type": "display_data"
    },
    {
     "name": "stdout",
     "output_type": "stream",
     "text": [
      "\n",
      "ELALKDAQAKVDELEAALRMAKQNLARLLCEYQELTSTKLSLDVEIDYRRRLLEEGECRMSGECTSQVTISSVGGSAVMSGGVGGGLGSTCGLGSGKGSPGSCCTSIVTGGSNIILGSGKDPVLDSCSV\n",
      "ELALKDAQAKVDELEAALRMAKQNLARLLCEYQELTSTKLSLDVEIATYRRLLEGEECRMSGECTSQVTISSVGGSAVMSGGVGGGLGSTCGLGSGKGSPGSCCTSIVTGGSNIILGSGKDPVLDSCSV\n"
     ]
    },
    {
     "data": {
      "application/vnd.jupyter.widget-view+json": {
       "model_id": "720cf18bc4ee435d9c481f27fbcde650",
       "version_major": 2,
       "version_minor": 0
      },
      "text/plain": [
       "HBox(children=(IntProgress(value=0, max=1154), HTML(value='')))"
      ]
     },
     "metadata": {},
     "output_type": "display_data"
    },
    {
     "name": "stdout",
     "output_type": "stream",
     "text": [
      "\n",
      "LDSSQIVIISAAQDASAPPAPTGPAAPAAGPCDPDLLLFATPQAPRPTPSAPRPALGRPPVKRRLDLETDHQYLAESSGPARGRGRHPGKGVKSPGEKSRYETSLNLTTKRFLELLSHSADGVVDLNWA\n",
      "LDSSQIVIISAAQDASAPPAPTGPAAPAAGPCDPDLLLFATPQAPRPTPSAPRPALGRPPVKRRLDLETDHQYLAESSGPARGRGRHPGKGVKSPGEKSRYETSLNLTTKRFLELLSHSADGVVDLNWA\n"
     ]
    },
    {
     "data": {
      "application/vnd.jupyter.widget-view+json": {
       "model_id": "086bc4bea54c4ee796f9e9d2ad6334c9",
       "version_major": 2,
       "version_minor": 0
      },
      "text/plain": [
       "HBox(children=(IntProgress(value=0, max=1154), HTML(value='')))"
      ]
     },
     "metadata": {},
     "output_type": "display_data"
    },
    {
     "name": "stdout",
     "output_type": "stream",
     "text": [
      "\n",
      "CAFGGSSSAGGYGGGLGGGSASCAAFTGNEHGLLSGNEKVTMQNLNDRLASYLENVRALEEANADLEQKIKGWYEKFGPGSCRGLDHDYSRYFPIIDELKNQIASATTSNAHVVLQNDNARLTADDFRL\n",
      "CAFGGSSSAGGYGGGLGGGSASCAAFTGNEHGLLSGNEKVTMQNLNDRLASYLENVRALEEANADLEQKIKGWYEKFGPGSCRGLDHDYSRYFPIIDELKNQIISATTSNAHVVLQNDNARLTADDFRL\n"
     ]
    },
    {
     "data": {
      "application/vnd.jupyter.widget-view+json": {
       "model_id": "9c6f82951a6740f0bf3b434496243135",
       "version_major": 2,
       "version_minor": 0
      },
      "text/plain": [
       "HBox(children=(IntProgress(value=0, max=1154), HTML(value='')))"
      ]
     },
     "metadata": {},
     "output_type": "display_data"
    },
    {
     "name": "stdout",
     "output_type": "stream",
     "text": [
      "\n",
      "FIGNLTNLVVKKSDVEAIFSKYGKIAGCSVHKGFAFVQYDKEKNARAAVAGEDGRMIASQVVDINLAAEPKVNRGNAGVKRSAAEMYGSSFDLDYNLQRDYYGGMYSFPARVPPPPPIALAVVPSKRQR\n",
      "FIGNLNTLVVKKSDVEAIFSKYGKIAGCSVHKGFAFVQYDKEKNARAAVAGEDGRMIASQVVDINLAAEPKVNRGNAGVKRSAAEMYGSSFDLDYNLQRDYYGGMYSFPARVPPPPPIALAVVPSKRQR\n"
     ]
    },
    {
     "data": {
      "application/vnd.jupyter.widget-view+json": {
       "model_id": "ddfaabd6d1ff41558b488b0ca91a281a",
       "version_major": 2,
       "version_minor": 0
      },
      "text/plain": [
       "HBox(children=(IntProgress(value=0, max=1154), HTML(value='')))"
      ]
     },
     "metadata": {},
     "output_type": "display_data"
    },
    {
     "name": "stdout",
     "output_type": "stream",
     "text": [
      "\n",
      "HPQRSFRELLFNGCILFGIEFSYAMETAYVTPVLLQMGLPDQLYSLVWFISPILGFLLQPLLGAWSDRDTSRFGRRRPFILVLAIGALLGLSLLLNGRDIGIALADVTGNHKWGLLLTVCGVVLMDFSA\n",
      "HPQRSFRELLFNGCILFGIEFSYAMETAYVTPVLLQMGLPDQLYSLVWFISPILGFLLQPLLGAWSDRCTSRFGRRRPFILVLAIGALLGLSLLLNGRDIGIALADVTGNHKWGLLLTVCGVVLMDFSA\n"
     ]
    },
    {
     "data": {
      "application/vnd.jupyter.widget-view+json": {
       "model_id": "977930068a8d4a689e4dcac191f36ce8",
       "version_major": 2,
       "version_minor": 0
      },
      "text/plain": [
       "HBox(children=(IntProgress(value=0, max=1154), HTML(value='')))"
      ]
     },
     "metadata": {},
     "output_type": "display_data"
    },
    {
     "name": "stdout",
     "output_type": "stream",
     "text": [
      "\n",
      "ILEGFDPPHPCGVQGCPAGYECKDWIGPNDGITQFDNILFAVLTVFQCITMEGWTTVLYNTNDALGATWWWLYFIPLIIIGSFFVLNLVLGVLSGEFAKERREVENRRAFMKLRRQQQIERELNGYRAW\n",
      "ILEGFDPPHPCGVQGCPAGYECKDWIGPNDGITQFDNILFAVLTVFQCITMEGWTTVLYNTNDALGATWNWLYFIPLIIIGSFFVLNLVLGVLSGEFAKERERVENRRAFMKLRRQQQIERELNGYRAW\n"
     ]
    },
    {
     "data": {
      "application/vnd.jupyter.widget-view+json": {
       "model_id": "fa110d4861b04468ab9fc3a80f42cdb3",
       "version_major": 2,
       "version_minor": 0
      },
      "text/plain": [
       "HBox(children=(IntProgress(value=0, max=1154), HTML(value='')))"
      ]
     },
     "metadata": {},
     "output_type": "display_data"
    },
    {
     "name": "stdout",
     "output_type": "stream",
     "text": [
      "\n",
      "AAATIVAMAGTGPGKAGEGEKEKVLAPEEKVVTEPPVVTLLDKKEGEQAKALFEKVKKFRMHVEEGDILYTMYIRQTVLKVCKFLAILVYNLVYVEKISFLVACRVETSEVTGYASFCCNHTKAHLFSK\n",
      "AAATIVAMAGTGPGKAGEGEKEKVLAEPEKVVTEPPVVTLLDKKEGEQAKALFEKVKKFRMHVEEGDILYTMYIRQTVLKVCKFLAILVYNLVYVEKISFLVACRVETSEVTGYASFCCNHTKAHLFSK\n"
     ]
    },
    {
     "data": {
      "application/vnd.jupyter.widget-view+json": {
       "model_id": "b27d30c746114054949b34bf44e0323e",
       "version_major": 2,
       "version_minor": 0
      },
      "text/plain": [
       "HBox(children=(IntProgress(value=0, max=1154), HTML(value='')))"
      ]
     },
     "metadata": {},
     "output_type": "display_data"
    },
    {
     "name": "stdout",
     "output_type": "stream",
     "text": [
      "\n",
      "PALGSYAMLSIFFLRRPHLLHTPRAPTFRIRLGAHRGGSGELLENTGEAMENSMAQRSDLLELDCQLTRDRVVVVSHDELLCRQSGLNRDVGSLDFEDLPLYKEKLEVYFSPGHFAHGSDRRMVRLEDL\n",
      "PALGSYAMLSIFFLRRPHLLHTPRAPTFRIRLGAHRGGSGELLENTMEAMENSMAQRSDLLELDCQLTRDRVVVVSHDENLCRQSGLNRDVGSLDFEDLPLYKEKLEVYFSPGHFAHGSDRRMVRLEDL\n"
     ]
    },
    {
     "data": {
      "application/vnd.jupyter.widget-view+json": {
       "model_id": "581105e13dfe46f79208167c9c0bd5ac",
       "version_major": 2,
       "version_minor": 0
      },
      "text/plain": [
       "HBox(children=(IntProgress(value=0, max=1154), HTML(value='')))"
      ]
     },
     "metadata": {},
     "output_type": "display_data"
    },
    {
     "name": "stdout",
     "output_type": "stream",
     "text": [
      "\n",
      "HVAYYEEEERKHHLKHGNPAPSLRDNLSKKRGGLWWTYLSSLIFKAAVDAGFLYIFHRLYKDYDVERMVACSVEPCPHTVDCYISRPTEKKFYYTFMVTTAAICILLNLSEVFYLVGKRCMEIFGPRHR\n",
      "HVAYREERERKHHLKHGPNAPSLYDNLSKKRGGLWWTYLLSLIFKAAVDAGFLYIFHRLYKDYDMPRVVACSVEPCPHTVDCYISRPTEKKVFTYFMVTTAAICILLNLSEVFYLVGKRCMEIFGPRHR\n"
     ]
    },
    {
     "data": {
      "application/vnd.jupyter.widget-view+json": {
       "model_id": "8fe4b31a1a854357b500181160666f6c",
       "version_major": 2,
       "version_minor": 0
      },
      "text/plain": [
       "HBox(children=(IntProgress(value=0, max=1154), HTML(value='')))"
      ]
     },
     "metadata": {},
     "output_type": "display_data"
    }
   ],
   "source": [
    "import os\n",
    "from decimal import Decimal\n",
    "\n",
    "import seq2loc.utils as utils\n",
    "from seq2loc.data.datasets import PaddedSequenceDataset, SequenceDataset\n",
    "\n",
    "from tensorboardX import SummaryWriter\n",
    "\n",
    "\n",
    "GPU_id = 0\n",
    "LR = 0.001\n",
    "N_EPOCHS = 5000\n",
    "hidden_size = 128\n",
    "batch_size = 128\n",
    "num_gru_layers = 3\n",
    "teacher_forcing_ratio = 0.5\n",
    "log_number = 50\n",
    "loss_thresh = 1.5E-4\n",
    "N_LETTERS = utils.n_letters()\n",
    "\n",
    "grad_clip = 5\n",
    "seq_len_to_add = 1\n",
    "\n",
    "bidirectional=True\n",
    "\n",
    "ds = PaddedSequenceDataset(SequenceDataset('./data/uniprot_train.tsv', max_seq_len = 15), GPU_id = GPU_id)\n",
    "ds_test = PaddedSequenceDataset(SequenceDataset('./data/uniprot_test.tsv', max_seq_len = 15), GPU_id = GPU_id)\n",
    "ds_validate = PaddedSequenceDataset(SequenceDataset('./data/uniprot_validate.tsv', max_seq_len = 15), GPU_id = GPU_id)\n",
    "\n",
    "\n",
    "criterion = torch.nn.NLLLoss()\n",
    "\n",
    "enc = EncoderRNN(N_LETTERS, hidden_size, num_gru_layers, bidirectional=bidirectional).cuda(GPU_id)\n",
    "dec = DecoderRNN(N_LETTERS, hidden_size, num_gru_layers, bidirectional=bidirectional).cuda(GPU_id)\n",
    "\n",
    "\n",
    "opt = optim.Adam([{'params':enc.parameters()}, {'params':dec.parameters()}], lr = LR)\n",
    "step = 1\n",
    "# dec = enc\n",
    "\n",
    "losses = np.array([])\n",
    "\n",
    "iteration = 0\n",
    "\n",
    "writer = SummaryWriter()\n",
    "save_dir = './autoencoder/{}'\n",
    "\n",
    "for epoch in range(N_EPOCHS):\n",
    " \n",
    "    \n",
    "    loss_thresh = 8.12E-04 / np.log(ds.sequenceDataset.max_seq_len)\n",
    "    epoch_inds = utils.get_epoch_inds(len(ds), batch_size)\n",
    "    pbar = tqdm(epoch_inds)\n",
    "\n",
    "    epoch_losses = list()\n",
    "    \n",
    "    for batch in pbar:\n",
    "        opt.zero_grad()\n",
    "\n",
    "        x, x_inds = ds[batch]        \n",
    "#         x = (x - 1) * log_number #set to log(one-hot)\n",
    "\n",
    "        hidden = enc.initHidden(batch_size).cuda(GPU_id)\n",
    "\n",
    "        enc_out, hidden = enc(x, hidden)\n",
    "        \n",
    "        #input the stop character to the stream    \n",
    "        out = Variable(utils.stopChar(batch_size)).cuda(GPU_id)\n",
    "\n",
    "        loss = Variable(torch.zeros(1,1,1).cuda(GPU_id))\n",
    "\n",
    "        out_list = list()\n",
    "        for i in range(x.shape[0]):\n",
    "\n",
    "            out, hidden, attn_weights = dec(out.detach(), hidden, enc_out)    \n",
    "            \n",
    "            out_list += [out]\n",
    "\n",
    "            loss += criterion(torch.squeeze(out,0), x_inds[i])\n",
    "    \n",
    "            if teacher_forcing_ratio < torch.rand(1):\n",
    "                out = torch.unsqueeze(x[i],0)\n",
    "            else:\n",
    "#                 pdb.set_trace()\n",
    "                out = utils.indicesToTensor(torch.max(out,2)[1].cpu(), ndims = N_LETTERS)\n",
    "                out = Variable(out).cuda(GPU_id)\n",
    "                \n",
    "\n",
    "\n",
    "        loss = loss/(x.shape[0]*x.shape[1]*x.shape[2])\n",
    "        loss.backward()\n",
    "        \n",
    "        clip_grad_norm(enc.parameters(), grad_clip)\n",
    "        clip_grad_norm(dec.parameters(), grad_clip)\n",
    "\n",
    "        opt.step()\n",
    "        step += 1\n",
    "        \n",
    "        losses_np = np.squeeze(loss.detach().cpu().numpy()) \n",
    "        epoch_losses += [losses_np]\n",
    "\n",
    "    \n",
    "        writer.add_scalars(save_dir.format('train'), {'epoch': epoch,\n",
    "                                                'loss': losses_np}, iteration)\n",
    "    \n",
    "        pbar.set_description('%.4E' % Decimal(str(losses_np)))\n",
    "        \n",
    "        iteration += 1\n",
    "        \n",
    "    losses = np.hstack([losses, np.stack(epoch_losses)])\n",
    "    \n",
    "    if np.mean(epoch_losses) < loss_thresh:\n",
    "        ds.sequenceDataset.max_seq_len += seq_len_to_add\n",
    "        \n",
    "        if batch_size > 2:\n",
    "            batch_size -= 1\n",
    "    \n",
    "    pbar.set_description('%.4E' % Decimal(str(np.mean(epoch_losses))))\n",
    "    \n",
    "    print(''.join(utils.tensorToChar(torch.cat(out_list, 0))[:,0]))\n",
    "    print(''.join(utils.tensorToChar(x)[:,0]))\n",
    "    \n",
    "    if '.' in ''.join(utils.tensorToChar(x)[:,0]):\n",
    "        pdb.set_trace()"
   ]
  },
  {
   "cell_type": "code",
   "execution_count": 7,
   "metadata": {},
   "outputs": [
    {
     "data": {
      "text/html": [
       "<div>\n",
       "<style scoped>\n",
       "    .dataframe tbody tr th:only-of-type {\n",
       "        vertical-align: middle;\n",
       "    }\n",
       "\n",
       "    .dataframe tbody tr th {\n",
       "        vertical-align: top;\n",
       "    }\n",
       "\n",
       "    .dataframe thead th {\n",
       "        text-align: right;\n",
       "    }\n",
       "</style>\n",
       "<table border=\"1\" class=\"dataframe\">\n",
       "  <thead>\n",
       "    <tr style=\"text-align: right;\">\n",
       "      <th></th>\n",
       "      <th>Gene</th>\n",
       "      <th>Gene name</th>\n",
       "      <th>Reliability</th>\n",
       "      <th>Enhanced</th>\n",
       "      <th>Supported</th>\n",
       "      <th>Approved</th>\n",
       "      <th>Uncertain</th>\n",
       "      <th>Single-cell variation intensity</th>\n",
       "      <th>Single-cell variation spatial</th>\n",
       "      <th>Cell cycle dependency</th>\n",
       "      <th>GO id</th>\n",
       "    </tr>\n",
       "  </thead>\n",
       "  <tbody>\n",
       "    <tr>\n",
       "      <th>0</th>\n",
       "      <td>ENSG00000000003</td>\n",
       "      <td>TSPAN6</td>\n",
       "      <td>Approved</td>\n",
       "      <td>NaN</td>\n",
       "      <td>NaN</td>\n",
       "      <td>Cytosol</td>\n",
       "      <td>NaN</td>\n",
       "      <td>NaN</td>\n",
       "      <td>NaN</td>\n",
       "      <td>NaN</td>\n",
       "      <td>Cytosol (GO:0005829)</td>\n",
       "    </tr>\n",
       "    <tr>\n",
       "      <th>1</th>\n",
       "      <td>ENSG00000000457</td>\n",
       "      <td>SCYL3</td>\n",
       "      <td>Uncertain</td>\n",
       "      <td>NaN</td>\n",
       "      <td>NaN</td>\n",
       "      <td>NaN</td>\n",
       "      <td>Microtubules;Nuclear bodies</td>\n",
       "      <td>NaN</td>\n",
       "      <td>NaN</td>\n",
       "      <td>NaN</td>\n",
       "      <td>Microtubules (GO:0015630);Nuclear bodies (GO:0...</td>\n",
       "    </tr>\n",
       "    <tr>\n",
       "      <th>2</th>\n",
       "      <td>ENSG00000000460</td>\n",
       "      <td>C1orf112</td>\n",
       "      <td>Approved</td>\n",
       "      <td>NaN</td>\n",
       "      <td>NaN</td>\n",
       "      <td>Mitochondria</td>\n",
       "      <td>NaN</td>\n",
       "      <td>NaN</td>\n",
       "      <td>NaN</td>\n",
       "      <td>NaN</td>\n",
       "      <td>Mitochondria (GO:0005739)</td>\n",
       "    </tr>\n",
       "    <tr>\n",
       "      <th>3</th>\n",
       "      <td>ENSG00000000938</td>\n",
       "      <td>FGR</td>\n",
       "      <td>Approved</td>\n",
       "      <td>NaN</td>\n",
       "      <td>NaN</td>\n",
       "      <td>Aggresome;Plasma membrane</td>\n",
       "      <td>NaN</td>\n",
       "      <td>NaN</td>\n",
       "      <td>NaN</td>\n",
       "      <td>NaN</td>\n",
       "      <td>Aggresome (GO:0016235);Plasma membrane (GO:000...</td>\n",
       "    </tr>\n",
       "    <tr>\n",
       "      <th>4</th>\n",
       "      <td>ENSG00000000971</td>\n",
       "      <td>CFH</td>\n",
       "      <td>Approved</td>\n",
       "      <td>NaN</td>\n",
       "      <td>NaN</td>\n",
       "      <td>Vesicles</td>\n",
       "      <td>NaN</td>\n",
       "      <td>NaN</td>\n",
       "      <td>NaN</td>\n",
       "      <td>NaN</td>\n",
       "      <td>Vesicles (GO:0043231)</td>\n",
       "    </tr>\n",
       "    <tr>\n",
       "      <th>5</th>\n",
       "      <td>ENSG00000001084</td>\n",
       "      <td>GCLC</td>\n",
       "      <td>Approved</td>\n",
       "      <td>NaN</td>\n",
       "      <td>NaN</td>\n",
       "      <td>Cytosol;Nucleoli;Nucleus</td>\n",
       "      <td>NaN</td>\n",
       "      <td>NaN</td>\n",
       "      <td>NaN</td>\n",
       "      <td>NaN</td>\n",
       "      <td>Cytosol (GO:0005829);Nucleoli (GO:0005730);Nuc...</td>\n",
       "    </tr>\n",
       "    <tr>\n",
       "      <th>6</th>\n",
       "      <td>ENSG00000001167</td>\n",
       "      <td>NFYA</td>\n",
       "      <td>Enhanced</td>\n",
       "      <td>Nucleoplasm</td>\n",
       "      <td>NaN</td>\n",
       "      <td>NaN</td>\n",
       "      <td>NaN</td>\n",
       "      <td>NaN</td>\n",
       "      <td>NaN</td>\n",
       "      <td>NaN</td>\n",
       "      <td>Nucleoplasm (GO:0005654)</td>\n",
       "    </tr>\n",
       "    <tr>\n",
       "      <th>7</th>\n",
       "      <td>ENSG00000001460</td>\n",
       "      <td>STPG1</td>\n",
       "      <td>Approved</td>\n",
       "      <td>NaN</td>\n",
       "      <td>NaN</td>\n",
       "      <td>Nucleoplasm</td>\n",
       "      <td>NaN</td>\n",
       "      <td>NaN</td>\n",
       "      <td>NaN</td>\n",
       "      <td>NaN</td>\n",
       "      <td>Nucleoplasm (GO:0005654)</td>\n",
       "    </tr>\n",
       "    <tr>\n",
       "      <th>8</th>\n",
       "      <td>ENSG00000001461</td>\n",
       "      <td>NIPAL3</td>\n",
       "      <td>Approved</td>\n",
       "      <td>NaN</td>\n",
       "      <td>NaN</td>\n",
       "      <td>Nucleoplasm</td>\n",
       "      <td>NaN</td>\n",
       "      <td>NaN</td>\n",
       "      <td>NaN</td>\n",
       "      <td>NaN</td>\n",
       "      <td>Nucleoplasm (GO:0005654)</td>\n",
       "    </tr>\n",
       "    <tr>\n",
       "      <th>9</th>\n",
       "      <td>ENSG00000001497</td>\n",
       "      <td>LAS1L</td>\n",
       "      <td>Approved</td>\n",
       "      <td>NaN</td>\n",
       "      <td>Nucleoplasm</td>\n",
       "      <td>Cytosol;Microtubule organizing center</td>\n",
       "      <td>NaN</td>\n",
       "      <td>NaN</td>\n",
       "      <td>NaN</td>\n",
       "      <td>NaN</td>\n",
       "      <td>Cytosol (GO:0005829);Microtubule organizing ce...</td>\n",
       "    </tr>\n",
       "    <tr>\n",
       "      <th>10</th>\n",
       "      <td>ENSG00000001629</td>\n",
       "      <td>ANKIB1</td>\n",
       "      <td>Supported</td>\n",
       "      <td>NaN</td>\n",
       "      <td>Cytosol;Plasma membrane</td>\n",
       "      <td>NaN</td>\n",
       "      <td>NaN</td>\n",
       "      <td>NaN</td>\n",
       "      <td>NaN</td>\n",
       "      <td>NaN</td>\n",
       "      <td>Cytosol (GO:0005829);Plasma membrane (GO:0005886)</td>\n",
       "    </tr>\n",
       "    <tr>\n",
       "      <th>11</th>\n",
       "      <td>ENSG00000001630</td>\n",
       "      <td>CYP51A1</td>\n",
       "      <td>Enhanced</td>\n",
       "      <td>Endoplasmic reticulum</td>\n",
       "      <td>NaN</td>\n",
       "      <td>NaN</td>\n",
       "      <td>NaN</td>\n",
       "      <td>NaN</td>\n",
       "      <td>NaN</td>\n",
       "      <td>NaN</td>\n",
       "      <td>Endoplasmic reticulum (GO:0005783)</td>\n",
       "    </tr>\n",
       "    <tr>\n",
       "      <th>12</th>\n",
       "      <td>ENSG00000001631</td>\n",
       "      <td>KRIT1</td>\n",
       "      <td>Uncertain</td>\n",
       "      <td>NaN</td>\n",
       "      <td>NaN</td>\n",
       "      <td>NaN</td>\n",
       "      <td>Vesicles</td>\n",
       "      <td>NaN</td>\n",
       "      <td>NaN</td>\n",
       "      <td>NaN</td>\n",
       "      <td>Vesicles (GO:0043231)</td>\n",
       "    </tr>\n",
       "    <tr>\n",
       "      <th>13</th>\n",
       "      <td>ENSG00000002016</td>\n",
       "      <td>RAD52</td>\n",
       "      <td>Approved</td>\n",
       "      <td>NaN</td>\n",
       "      <td>NaN</td>\n",
       "      <td>Nuclear speckles;Plasma membrane</td>\n",
       "      <td>NaN</td>\n",
       "      <td>NaN</td>\n",
       "      <td>NaN</td>\n",
       "      <td>NaN</td>\n",
       "      <td>Nuclear speckles (GO:0016607);Plasma membrane ...</td>\n",
       "    </tr>\n",
       "    <tr>\n",
       "      <th>14</th>\n",
       "      <td>ENSG00000002330</td>\n",
       "      <td>BAD</td>\n",
       "      <td>Enhanced</td>\n",
       "      <td>Mitochondria</td>\n",
       "      <td>NaN</td>\n",
       "      <td>NaN</td>\n",
       "      <td>NaN</td>\n",
       "      <td>NaN</td>\n",
       "      <td>NaN</td>\n",
       "      <td>NaN</td>\n",
       "      <td>Mitochondria (GO:0005739)</td>\n",
       "    </tr>\n",
       "    <tr>\n",
       "      <th>15</th>\n",
       "      <td>ENSG00000002549</td>\n",
       "      <td>LAP3</td>\n",
       "      <td>Supported</td>\n",
       "      <td>NaN</td>\n",
       "      <td>Cytosol</td>\n",
       "      <td>Midbody;Nucleoplasm</td>\n",
       "      <td>NaN</td>\n",
       "      <td>NaN</td>\n",
       "      <td>NaN</td>\n",
       "      <td>Midbody (biological definition)</td>\n",
       "      <td>Cytosol (GO:0005829);Midbody (GO:0030496);Nucl...</td>\n",
       "    </tr>\n",
       "    <tr>\n",
       "      <th>16</th>\n",
       "      <td>ENSG00000002586</td>\n",
       "      <td>CD99</td>\n",
       "      <td>Approved</td>\n",
       "      <td>NaN</td>\n",
       "      <td>NaN</td>\n",
       "      <td>Golgi apparatus</td>\n",
       "      <td>NaN</td>\n",
       "      <td>NaN</td>\n",
       "      <td>NaN</td>\n",
       "      <td>NaN</td>\n",
       "      <td>Golgi apparatus (GO:0005794)</td>\n",
       "    </tr>\n",
       "    <tr>\n",
       "      <th>17</th>\n",
       "      <td>ENSG00000002587</td>\n",
       "      <td>HS3ST1</td>\n",
       "      <td>Approved</td>\n",
       "      <td>NaN</td>\n",
       "      <td>NaN</td>\n",
       "      <td>Vesicles</td>\n",
       "      <td>NaN</td>\n",
       "      <td>NaN</td>\n",
       "      <td>NaN</td>\n",
       "      <td>NaN</td>\n",
       "      <td>Vesicles (GO:0043231)</td>\n",
       "    </tr>\n",
       "    <tr>\n",
       "      <th>18</th>\n",
       "      <td>ENSG00000002746</td>\n",
       "      <td>HECW1</td>\n",
       "      <td>Supported</td>\n",
       "      <td>NaN</td>\n",
       "      <td>Cytosol</td>\n",
       "      <td>NaN</td>\n",
       "      <td>NaN</td>\n",
       "      <td>NaN</td>\n",
       "      <td>NaN</td>\n",
       "      <td>NaN</td>\n",
       "      <td>Cytosol (GO:0005829)</td>\n",
       "    </tr>\n",
       "    <tr>\n",
       "      <th>19</th>\n",
       "      <td>ENSG00000002822</td>\n",
       "      <td>MAD1L1</td>\n",
       "      <td>Supported</td>\n",
       "      <td>NaN</td>\n",
       "      <td>Nuclear membrane;Nucleoplasm</td>\n",
       "      <td>NaN</td>\n",
       "      <td>NaN</td>\n",
       "      <td>NaN</td>\n",
       "      <td>NaN</td>\n",
       "      <td>NaN</td>\n",
       "      <td>Nuclear membrane (GO:0031965);Nucleoplasm (GO:...</td>\n",
       "    </tr>\n",
       "    <tr>\n",
       "      <th>20</th>\n",
       "      <td>ENSG00000002834</td>\n",
       "      <td>LASP1</td>\n",
       "      <td>Supported</td>\n",
       "      <td>NaN</td>\n",
       "      <td>Cytosol;Plasma membrane</td>\n",
       "      <td>Focal adhesion sites</td>\n",
       "      <td>NaN</td>\n",
       "      <td>NaN</td>\n",
       "      <td>NaN</td>\n",
       "      <td>NaN</td>\n",
       "      <td>Cytosol (GO:0005829);Focal adhesion sites (GO:...</td>\n",
       "    </tr>\n",
       "    <tr>\n",
       "      <th>21</th>\n",
       "      <td>ENSG00000002919</td>\n",
       "      <td>SNX11</td>\n",
       "      <td>Approved</td>\n",
       "      <td>NaN</td>\n",
       "      <td>NaN</td>\n",
       "      <td>Cytosol</td>\n",
       "      <td>NaN</td>\n",
       "      <td>NaN</td>\n",
       "      <td>NaN</td>\n",
       "      <td>NaN</td>\n",
       "      <td>Cytosol (GO:0005829)</td>\n",
       "    </tr>\n",
       "    <tr>\n",
       "      <th>22</th>\n",
       "      <td>ENSG00000002933</td>\n",
       "      <td>TMEM176A</td>\n",
       "      <td>Approved</td>\n",
       "      <td>NaN</td>\n",
       "      <td>NaN</td>\n",
       "      <td>Mitochondria</td>\n",
       "      <td>NaN</td>\n",
       "      <td>NaN</td>\n",
       "      <td>NaN</td>\n",
       "      <td>NaN</td>\n",
       "      <td>Mitochondria (GO:0005739)</td>\n",
       "    </tr>\n",
       "    <tr>\n",
       "      <th>23</th>\n",
       "      <td>ENSG00000003096</td>\n",
       "      <td>KLHL13</td>\n",
       "      <td>Approved</td>\n",
       "      <td>NaN</td>\n",
       "      <td>NaN</td>\n",
       "      <td>Cytosol</td>\n",
       "      <td>NaN</td>\n",
       "      <td>NaN</td>\n",
       "      <td>NaN</td>\n",
       "      <td>NaN</td>\n",
       "      <td>Cytosol (GO:0005829)</td>\n",
       "    </tr>\n",
       "    <tr>\n",
       "      <th>24</th>\n",
       "      <td>ENSG00000003137</td>\n",
       "      <td>CYP26B1</td>\n",
       "      <td>Approved</td>\n",
       "      <td>NaN</td>\n",
       "      <td>NaN</td>\n",
       "      <td>Cytosol</td>\n",
       "      <td>NaN</td>\n",
       "      <td>Cytosol</td>\n",
       "      <td>NaN</td>\n",
       "      <td>NaN</td>\n",
       "      <td>Cytosol (GO:0005829)</td>\n",
       "    </tr>\n",
       "    <tr>\n",
       "      <th>25</th>\n",
       "      <td>ENSG00000003147</td>\n",
       "      <td>ICA1</td>\n",
       "      <td>Supported</td>\n",
       "      <td>NaN</td>\n",
       "      <td>Cytosol;Vesicles</td>\n",
       "      <td>NaN</td>\n",
       "      <td>NaN</td>\n",
       "      <td>Vesicles</td>\n",
       "      <td>NaN</td>\n",
       "      <td>NaN</td>\n",
       "      <td>Cytosol (GO:0005829);Vesicles (GO:0043231)</td>\n",
       "    </tr>\n",
       "    <tr>\n",
       "      <th>26</th>\n",
       "      <td>ENSG00000003249</td>\n",
       "      <td>DBNDD1</td>\n",
       "      <td>Approved</td>\n",
       "      <td>NaN</td>\n",
       "      <td>NaN</td>\n",
       "      <td>Cytosol;Nuclear speckles</td>\n",
       "      <td>NaN</td>\n",
       "      <td>Nuclear speckles</td>\n",
       "      <td>NaN</td>\n",
       "      <td>NaN</td>\n",
       "      <td>Cytosol (GO:0005829);Nuclear speckles (GO:0016...</td>\n",
       "    </tr>\n",
       "    <tr>\n",
       "      <th>27</th>\n",
       "      <td>ENSG00000003393</td>\n",
       "      <td>ALS2</td>\n",
       "      <td>Approved</td>\n",
       "      <td>NaN</td>\n",
       "      <td>NaN</td>\n",
       "      <td>Cytosol;Intermediate filaments</td>\n",
       "      <td>NaN</td>\n",
       "      <td>NaN</td>\n",
       "      <td>NaN</td>\n",
       "      <td>NaN</td>\n",
       "      <td>Cytosol (GO:0005829);Intermediate filaments (G...</td>\n",
       "    </tr>\n",
       "    <tr>\n",
       "      <th>28</th>\n",
       "      <td>ENSG00000003400</td>\n",
       "      <td>CASP10</td>\n",
       "      <td>Approved</td>\n",
       "      <td>NaN</td>\n",
       "      <td>NaN</td>\n",
       "      <td>Golgi apparatus;Vesicles</td>\n",
       "      <td>NaN</td>\n",
       "      <td>NaN</td>\n",
       "      <td>NaN</td>\n",
       "      <td>NaN</td>\n",
       "      <td>Golgi apparatus (GO:0005794);Vesicles (GO:0043...</td>\n",
       "    </tr>\n",
       "    <tr>\n",
       "      <th>29</th>\n",
       "      <td>ENSG00000003402</td>\n",
       "      <td>CFLAR</td>\n",
       "      <td>Supported</td>\n",
       "      <td>NaN</td>\n",
       "      <td>Cytosol;Nucleus;Plasma membrane</td>\n",
       "      <td>Nuclear bodies</td>\n",
       "      <td>NaN</td>\n",
       "      <td>NaN</td>\n",
       "      <td>NaN</td>\n",
       "      <td>NaN</td>\n",
       "      <td>Cytosol (GO:0005829);Nuclear bodies (GO:001660...</td>\n",
       "    </tr>\n",
       "    <tr>\n",
       "      <th>...</th>\n",
       "      <td>...</td>\n",
       "      <td>...</td>\n",
       "      <td>...</td>\n",
       "      <td>...</td>\n",
       "      <td>...</td>\n",
       "      <td>...</td>\n",
       "      <td>...</td>\n",
       "      <td>...</td>\n",
       "      <td>...</td>\n",
       "      <td>...</td>\n",
       "      <td>...</td>\n",
       "    </tr>\n",
       "    <tr>\n",
       "      <th>12043</th>\n",
       "      <td>ENSG00000278289</td>\n",
       "      <td>CT45A6</td>\n",
       "      <td>Approved</td>\n",
       "      <td>NaN</td>\n",
       "      <td>NaN</td>\n",
       "      <td>Nucleoli;Nucleus</td>\n",
       "      <td>NaN</td>\n",
       "      <td>Nucleoli;Nucleus</td>\n",
       "      <td>NaN</td>\n",
       "      <td>NaN</td>\n",
       "      <td>Nucleoli (GO:0005730);Nucleus (GO:0005634)</td>\n",
       "    </tr>\n",
       "    <tr>\n",
       "      <th>12044</th>\n",
       "      <td>ENSG00000278299</td>\n",
       "      <td>TBC1D3C</td>\n",
       "      <td>Uncertain</td>\n",
       "      <td>NaN</td>\n",
       "      <td>NaN</td>\n",
       "      <td>NaN</td>\n",
       "      <td>Vesicles</td>\n",
       "      <td>NaN</td>\n",
       "      <td>NaN</td>\n",
       "      <td>NaN</td>\n",
       "      <td>Vesicles (GO:0043231)</td>\n",
       "    </tr>\n",
       "    <tr>\n",
       "      <th>12045</th>\n",
       "      <td>ENSG00000278311</td>\n",
       "      <td>GGNBP2</td>\n",
       "      <td>Approved</td>\n",
       "      <td>NaN</td>\n",
       "      <td>NaN</td>\n",
       "      <td>Endoplasmic reticulum</td>\n",
       "      <td>NaN</td>\n",
       "      <td>NaN</td>\n",
       "      <td>NaN</td>\n",
       "      <td>NaN</td>\n",
       "      <td>Endoplasmic reticulum (GO:0005783)</td>\n",
       "    </tr>\n",
       "    <tr>\n",
       "      <th>12046</th>\n",
       "      <td>ENSG00000278318</td>\n",
       "      <td>ZNF229</td>\n",
       "      <td>Approved</td>\n",
       "      <td>NaN</td>\n",
       "      <td>NaN</td>\n",
       "      <td>Plasma membrane;Vesicles</td>\n",
       "      <td>NaN</td>\n",
       "      <td>NaN</td>\n",
       "      <td>NaN</td>\n",
       "      <td>NaN</td>\n",
       "      <td>Plasma membrane (GO:0005886);Vesicles (GO:0043...</td>\n",
       "    </tr>\n",
       "    <tr>\n",
       "      <th>12047</th>\n",
       "      <td>ENSG00000278535</td>\n",
       "      <td>DHRS11</td>\n",
       "      <td>Approved</td>\n",
       "      <td>NaN</td>\n",
       "      <td>NaN</td>\n",
       "      <td>Cytosol;Golgi apparatus</td>\n",
       "      <td>NaN</td>\n",
       "      <td>NaN</td>\n",
       "      <td>NaN</td>\n",
       "      <td>NaN</td>\n",
       "      <td>Cytosol (GO:0005829);Golgi apparatus (GO:0005794)</td>\n",
       "    </tr>\n",
       "    <tr>\n",
       "      <th>12048</th>\n",
       "      <td>ENSG00000278540</td>\n",
       "      <td>ACACA</td>\n",
       "      <td>Supported</td>\n",
       "      <td>NaN</td>\n",
       "      <td>Cytosol</td>\n",
       "      <td>NaN</td>\n",
       "      <td>Actin filaments;Nucleoli fibrillar center</td>\n",
       "      <td>NaN</td>\n",
       "      <td>NaN</td>\n",
       "      <td>NaN</td>\n",
       "      <td>Actin filaments (GO:0015629);Cytosol (GO:00058...</td>\n",
       "    </tr>\n",
       "    <tr>\n",
       "      <th>12049</th>\n",
       "      <td>ENSG00000278588</td>\n",
       "      <td>HIST1H2BI</td>\n",
       "      <td>Approved</td>\n",
       "      <td>NaN</td>\n",
       "      <td>NaN</td>\n",
       "      <td>Cytosol;Nucleoplasm</td>\n",
       "      <td>NaN</td>\n",
       "      <td>NaN</td>\n",
       "      <td>NaN</td>\n",
       "      <td>NaN</td>\n",
       "      <td>Cytosol (GO:0005829);Nucleoplasm (GO:0005654)</td>\n",
       "    </tr>\n",
       "    <tr>\n",
       "      <th>12050</th>\n",
       "      <td>ENSG00000278599</td>\n",
       "      <td>TBC1D3E</td>\n",
       "      <td>Uncertain</td>\n",
       "      <td>NaN</td>\n",
       "      <td>NaN</td>\n",
       "      <td>NaN</td>\n",
       "      <td>Vesicles</td>\n",
       "      <td>NaN</td>\n",
       "      <td>NaN</td>\n",
       "      <td>NaN</td>\n",
       "      <td>Vesicles (GO:0043231)</td>\n",
       "    </tr>\n",
       "    <tr>\n",
       "      <th>12051</th>\n",
       "      <td>ENSG00000278619</td>\n",
       "      <td>MRM1</td>\n",
       "      <td>Enhanced</td>\n",
       "      <td>Mitochondria</td>\n",
       "      <td>NaN</td>\n",
       "      <td>NaN</td>\n",
       "      <td>NaN</td>\n",
       "      <td>NaN</td>\n",
       "      <td>NaN</td>\n",
       "      <td>NaN</td>\n",
       "      <td>Mitochondria (GO:0005739)</td>\n",
       "    </tr>\n",
       "    <tr>\n",
       "      <th>12052</th>\n",
       "      <td>ENSG00000278845</td>\n",
       "      <td>MRPL45</td>\n",
       "      <td>Enhanced</td>\n",
       "      <td>Mitochondria</td>\n",
       "      <td>NaN</td>\n",
       "      <td>NaN</td>\n",
       "      <td>NaN</td>\n",
       "      <td>NaN</td>\n",
       "      <td>NaN</td>\n",
       "      <td>NaN</td>\n",
       "      <td>Mitochondria (GO:0005739)</td>\n",
       "    </tr>\n",
       "    <tr>\n",
       "      <th>12053</th>\n",
       "      <td>ENSG00000279408</td>\n",
       "      <td>RP11-294C11.3</td>\n",
       "      <td>Uncertain</td>\n",
       "      <td>NaN</td>\n",
       "      <td>NaN</td>\n",
       "      <td>NaN</td>\n",
       "      <td>Centrosome</td>\n",
       "      <td>NaN</td>\n",
       "      <td>NaN</td>\n",
       "      <td>NaN</td>\n",
       "      <td>Centrosome (GO:0005813)</td>\n",
       "    </tr>\n",
       "    <tr>\n",
       "      <th>12054</th>\n",
       "      <td>ENSG00000280071</td>\n",
       "      <td>CH507-9B2.3</td>\n",
       "      <td>Approved</td>\n",
       "      <td>NaN</td>\n",
       "      <td>NaN</td>\n",
       "      <td>Centrosome;Mitochondria</td>\n",
       "      <td>NaN</td>\n",
       "      <td>NaN</td>\n",
       "      <td>NaN</td>\n",
       "      <td>NaN</td>\n",
       "      <td>Centrosome (GO:0005813);Mitochondria (GO:0005739)</td>\n",
       "    </tr>\n",
       "    <tr>\n",
       "      <th>12055</th>\n",
       "      <td>ENSG00000280165</td>\n",
       "      <td>PCDH20</td>\n",
       "      <td>Approved</td>\n",
       "      <td>NaN</td>\n",
       "      <td>NaN</td>\n",
       "      <td>Cytokinetic bridge;Vesicles</td>\n",
       "      <td>NaN</td>\n",
       "      <td>NaN</td>\n",
       "      <td>NaN</td>\n",
       "      <td>Cytokinetic bridge (biological definition)</td>\n",
       "      <td>Cytokinetic bridge (GO:0045171);Vesicles (GO:0...</td>\n",
       "    </tr>\n",
       "    <tr>\n",
       "      <th>12056</th>\n",
       "      <td>ENSG00000280987</td>\n",
       "      <td>MATR3</td>\n",
       "      <td>Approved</td>\n",
       "      <td>NaN</td>\n",
       "      <td>NaN</td>\n",
       "      <td>Nucleoplasm</td>\n",
       "      <td>NaN</td>\n",
       "      <td>NaN</td>\n",
       "      <td>NaN</td>\n",
       "      <td>NaN</td>\n",
       "      <td>Nucleoplasm (GO:0005654)</td>\n",
       "    </tr>\n",
       "    <tr>\n",
       "      <th>12057</th>\n",
       "      <td>ENSG00000281028</td>\n",
       "      <td>RP11-717K11.2</td>\n",
       "      <td>Uncertain</td>\n",
       "      <td>NaN</td>\n",
       "      <td>NaN</td>\n",
       "      <td>NaN</td>\n",
       "      <td>Cytosol</td>\n",
       "      <td>NaN</td>\n",
       "      <td>NaN</td>\n",
       "      <td>NaN</td>\n",
       "      <td>Cytosol (GO:0005829)</td>\n",
       "    </tr>\n",
       "    <tr>\n",
       "      <th>12058</th>\n",
       "      <td>ENSG00000281887</td>\n",
       "      <td>GIMAP1-GIMAP5</td>\n",
       "      <td>Supported</td>\n",
       "      <td>NaN</td>\n",
       "      <td>Endoplasmic reticulum</td>\n",
       "      <td>NaN</td>\n",
       "      <td>NaN</td>\n",
       "      <td>NaN</td>\n",
       "      <td>NaN</td>\n",
       "      <td>NaN</td>\n",
       "      <td>Endoplasmic reticulum (GO:0005783)</td>\n",
       "    </tr>\n",
       "    <tr>\n",
       "      <th>12059</th>\n",
       "      <td>ENSG00000282218</td>\n",
       "      <td>RP1-179P9.3</td>\n",
       "      <td>Approved</td>\n",
       "      <td>NaN</td>\n",
       "      <td>NaN</td>\n",
       "      <td>Golgi apparatus</td>\n",
       "      <td>Cytosol</td>\n",
       "      <td>Golgi apparatus</td>\n",
       "      <td>NaN</td>\n",
       "      <td>NaN</td>\n",
       "      <td>Cytosol (GO:0005829);Golgi apparatus (GO:0005794)</td>\n",
       "    </tr>\n",
       "    <tr>\n",
       "      <th>12060</th>\n",
       "      <td>ENSG00000282301</td>\n",
       "      <td>CYP3A7-CYP3A51P</td>\n",
       "      <td>Uncertain</td>\n",
       "      <td>NaN</td>\n",
       "      <td>NaN</td>\n",
       "      <td>NaN</td>\n",
       "      <td>Cytosol</td>\n",
       "      <td>NaN</td>\n",
       "      <td>NaN</td>\n",
       "      <td>NaN</td>\n",
       "      <td>Cytosol (GO:0005829)</td>\n",
       "    </tr>\n",
       "    <tr>\n",
       "      <th>12061</th>\n",
       "      <td>ENSG00000283088</td>\n",
       "      <td>CTD-2331H12.8</td>\n",
       "      <td>Uncertain</td>\n",
       "      <td>NaN</td>\n",
       "      <td>NaN</td>\n",
       "      <td>NaN</td>\n",
       "      <td>Cytoplasmic bodies;Nucleoplasm</td>\n",
       "      <td>NaN</td>\n",
       "      <td>NaN</td>\n",
       "      <td>NaN</td>\n",
       "      <td>Cytoplasmic bodies (GO:0036464);Nucleoplasm (G...</td>\n",
       "    </tr>\n",
       "    <tr>\n",
       "      <th>12062</th>\n",
       "      <td>ENSG00000283149</td>\n",
       "      <td>RP11-134F2.8</td>\n",
       "      <td>Uncertain</td>\n",
       "      <td>NaN</td>\n",
       "      <td>NaN</td>\n",
       "      <td>NaN</td>\n",
       "      <td>Endoplasmic reticulum</td>\n",
       "      <td>NaN</td>\n",
       "      <td>NaN</td>\n",
       "      <td>NaN</td>\n",
       "      <td>Endoplasmic reticulum (GO:0005783)</td>\n",
       "    </tr>\n",
       "    <tr>\n",
       "      <th>12063</th>\n",
       "      <td>ENSG00000283154</td>\n",
       "      <td>IQCJ-SCHIP1</td>\n",
       "      <td>Approved</td>\n",
       "      <td>NaN</td>\n",
       "      <td>NaN</td>\n",
       "      <td>Cytosol</td>\n",
       "      <td>NaN</td>\n",
       "      <td>NaN</td>\n",
       "      <td>NaN</td>\n",
       "      <td>NaN</td>\n",
       "      <td>Cytosol (GO:0005829)</td>\n",
       "    </tr>\n",
       "    <tr>\n",
       "      <th>12064</th>\n",
       "      <td>ENSG00000283496</td>\n",
       "      <td>ZNF511-PRAP1</td>\n",
       "      <td>Uncertain</td>\n",
       "      <td>NaN</td>\n",
       "      <td>NaN</td>\n",
       "      <td>NaN</td>\n",
       "      <td>Nucleoplasm;Plasma membrane;Vesicles</td>\n",
       "      <td>NaN</td>\n",
       "      <td>NaN</td>\n",
       "      <td>NaN</td>\n",
       "      <td>Nucleoplasm (GO:0005654);Plasma membrane (GO:0...</td>\n",
       "    </tr>\n",
       "    <tr>\n",
       "      <th>12065</th>\n",
       "      <td>ENSG00000283761</td>\n",
       "      <td>RP4-714D9.5</td>\n",
       "      <td>Approved</td>\n",
       "      <td>NaN</td>\n",
       "      <td>NaN</td>\n",
       "      <td>Vesicles</td>\n",
       "      <td>NaN</td>\n",
       "      <td>NaN</td>\n",
       "      <td>NaN</td>\n",
       "      <td>NaN</td>\n",
       "      <td>Vesicles (GO:0043231)</td>\n",
       "    </tr>\n",
       "    <tr>\n",
       "      <th>12066</th>\n",
       "      <td>ENSG00000283765</td>\n",
       "      <td>RP11-449K6.5</td>\n",
       "      <td>Approved</td>\n",
       "      <td>NaN</td>\n",
       "      <td>NaN</td>\n",
       "      <td>Mitochondria</td>\n",
       "      <td>NaN</td>\n",
       "      <td>NaN</td>\n",
       "      <td>NaN</td>\n",
       "      <td>NaN</td>\n",
       "      <td>Mitochondria (GO:0005739)</td>\n",
       "    </tr>\n",
       "    <tr>\n",
       "      <th>12067</th>\n",
       "      <td>ENSG00000284057</td>\n",
       "      <td>RP11-606E8.2</td>\n",
       "      <td>Approved</td>\n",
       "      <td>NaN</td>\n",
       "      <td>NaN</td>\n",
       "      <td>Nucleoplasm;Vesicles</td>\n",
       "      <td>NaN</td>\n",
       "      <td>NaN</td>\n",
       "      <td>NaN</td>\n",
       "      <td>NaN</td>\n",
       "      <td>Nucleoplasm (GO:0005654);Vesicles (GO:0043231)</td>\n",
       "    </tr>\n",
       "    <tr>\n",
       "      <th>12068</th>\n",
       "      <td>ENSG00000284194</td>\n",
       "      <td>SCO2</td>\n",
       "      <td>Approved</td>\n",
       "      <td>NaN</td>\n",
       "      <td>NaN</td>\n",
       "      <td>Mitochondria</td>\n",
       "      <td>NaN</td>\n",
       "      <td>NaN</td>\n",
       "      <td>NaN</td>\n",
       "      <td>NaN</td>\n",
       "      <td>Mitochondria (GO:0005739)</td>\n",
       "    </tr>\n",
       "    <tr>\n",
       "      <th>12069</th>\n",
       "      <td>ENSG00000284292</td>\n",
       "      <td>RP5-900K19.2</td>\n",
       "      <td>Approved</td>\n",
       "      <td>NaN</td>\n",
       "      <td>NaN</td>\n",
       "      <td>Cell Junctions;Cytosol</td>\n",
       "      <td>NaN</td>\n",
       "      <td>NaN</td>\n",
       "      <td>NaN</td>\n",
       "      <td>NaN</td>\n",
       "      <td>Cell Junctions (GO:0030054);Cytosol (GO:0005829)</td>\n",
       "    </tr>\n",
       "    <tr>\n",
       "      <th>12070</th>\n",
       "      <td>ENSG00000284308</td>\n",
       "      <td>C2orf81</td>\n",
       "      <td>Approved</td>\n",
       "      <td>NaN</td>\n",
       "      <td>NaN</td>\n",
       "      <td>Nucleoli fibrillar center;Nucleus</td>\n",
       "      <td>NaN</td>\n",
       "      <td>NaN</td>\n",
       "      <td>NaN</td>\n",
       "      <td>NaN</td>\n",
       "      <td>Nucleoli fibrillar center (GO:0001650);Nucleus...</td>\n",
       "    </tr>\n",
       "    <tr>\n",
       "      <th>12071</th>\n",
       "      <td>ENSG00000284413</td>\n",
       "      <td>BTBD8</td>\n",
       "      <td>Approved</td>\n",
       "      <td>NaN</td>\n",
       "      <td>NaN</td>\n",
       "      <td>Nucleoplasm</td>\n",
       "      <td>NaN</td>\n",
       "      <td>NaN</td>\n",
       "      <td>NaN</td>\n",
       "      <td>NaN</td>\n",
       "      <td>Nucleoplasm (GO:0005654)</td>\n",
       "    </tr>\n",
       "    <tr>\n",
       "      <th>12072</th>\n",
       "      <td>ENSG00000284512</td>\n",
       "      <td>RP11-303E16.10</td>\n",
       "      <td>Approved</td>\n",
       "      <td>NaN</td>\n",
       "      <td>NaN</td>\n",
       "      <td>Vesicles</td>\n",
       "      <td>NaN</td>\n",
       "      <td>NaN</td>\n",
       "      <td>NaN</td>\n",
       "      <td>NaN</td>\n",
       "      <td>Vesicles (GO:0043231)</td>\n",
       "    </tr>\n",
       "  </tbody>\n",
       "</table>\n",
       "<p>12073 rows × 11 columns</p>\n",
       "</div>"
      ],
      "text/plain": [
       "                  Gene        Gene name Reliability               Enhanced  \\\n",
       "0      ENSG00000000003           TSPAN6    Approved                    NaN   \n",
       "1      ENSG00000000457            SCYL3   Uncertain                    NaN   \n",
       "2      ENSG00000000460         C1orf112    Approved                    NaN   \n",
       "3      ENSG00000000938              FGR    Approved                    NaN   \n",
       "4      ENSG00000000971              CFH    Approved                    NaN   \n",
       "5      ENSG00000001084             GCLC    Approved                    NaN   \n",
       "6      ENSG00000001167             NFYA    Enhanced            Nucleoplasm   \n",
       "7      ENSG00000001460            STPG1    Approved                    NaN   \n",
       "8      ENSG00000001461           NIPAL3    Approved                    NaN   \n",
       "9      ENSG00000001497            LAS1L    Approved                    NaN   \n",
       "10     ENSG00000001629           ANKIB1   Supported                    NaN   \n",
       "11     ENSG00000001630          CYP51A1    Enhanced  Endoplasmic reticulum   \n",
       "12     ENSG00000001631            KRIT1   Uncertain                    NaN   \n",
       "13     ENSG00000002016            RAD52    Approved                    NaN   \n",
       "14     ENSG00000002330              BAD    Enhanced           Mitochondria   \n",
       "15     ENSG00000002549             LAP3   Supported                    NaN   \n",
       "16     ENSG00000002586             CD99    Approved                    NaN   \n",
       "17     ENSG00000002587           HS3ST1    Approved                    NaN   \n",
       "18     ENSG00000002746            HECW1   Supported                    NaN   \n",
       "19     ENSG00000002822           MAD1L1   Supported                    NaN   \n",
       "20     ENSG00000002834            LASP1   Supported                    NaN   \n",
       "21     ENSG00000002919            SNX11    Approved                    NaN   \n",
       "22     ENSG00000002933         TMEM176A    Approved                    NaN   \n",
       "23     ENSG00000003096           KLHL13    Approved                    NaN   \n",
       "24     ENSG00000003137          CYP26B1    Approved                    NaN   \n",
       "25     ENSG00000003147             ICA1   Supported                    NaN   \n",
       "26     ENSG00000003249           DBNDD1    Approved                    NaN   \n",
       "27     ENSG00000003393             ALS2    Approved                    NaN   \n",
       "28     ENSG00000003400           CASP10    Approved                    NaN   \n",
       "29     ENSG00000003402            CFLAR   Supported                    NaN   \n",
       "...                ...              ...         ...                    ...   \n",
       "12043  ENSG00000278289           CT45A6    Approved                    NaN   \n",
       "12044  ENSG00000278299          TBC1D3C   Uncertain                    NaN   \n",
       "12045  ENSG00000278311           GGNBP2    Approved                    NaN   \n",
       "12046  ENSG00000278318           ZNF229    Approved                    NaN   \n",
       "12047  ENSG00000278535           DHRS11    Approved                    NaN   \n",
       "12048  ENSG00000278540            ACACA   Supported                    NaN   \n",
       "12049  ENSG00000278588        HIST1H2BI    Approved                    NaN   \n",
       "12050  ENSG00000278599          TBC1D3E   Uncertain                    NaN   \n",
       "12051  ENSG00000278619             MRM1    Enhanced           Mitochondria   \n",
       "12052  ENSG00000278845           MRPL45    Enhanced           Mitochondria   \n",
       "12053  ENSG00000279408    RP11-294C11.3   Uncertain                    NaN   \n",
       "12054  ENSG00000280071      CH507-9B2.3    Approved                    NaN   \n",
       "12055  ENSG00000280165           PCDH20    Approved                    NaN   \n",
       "12056  ENSG00000280987            MATR3    Approved                    NaN   \n",
       "12057  ENSG00000281028    RP11-717K11.2   Uncertain                    NaN   \n",
       "12058  ENSG00000281887    GIMAP1-GIMAP5   Supported                    NaN   \n",
       "12059  ENSG00000282218      RP1-179P9.3    Approved                    NaN   \n",
       "12060  ENSG00000282301  CYP3A7-CYP3A51P   Uncertain                    NaN   \n",
       "12061  ENSG00000283088    CTD-2331H12.8   Uncertain                    NaN   \n",
       "12062  ENSG00000283149     RP11-134F2.8   Uncertain                    NaN   \n",
       "12063  ENSG00000283154      IQCJ-SCHIP1    Approved                    NaN   \n",
       "12064  ENSG00000283496     ZNF511-PRAP1   Uncertain                    NaN   \n",
       "12065  ENSG00000283761      RP4-714D9.5    Approved                    NaN   \n",
       "12066  ENSG00000283765     RP11-449K6.5    Approved                    NaN   \n",
       "12067  ENSG00000284057     RP11-606E8.2    Approved                    NaN   \n",
       "12068  ENSG00000284194             SCO2    Approved                    NaN   \n",
       "12069  ENSG00000284292     RP5-900K19.2    Approved                    NaN   \n",
       "12070  ENSG00000284308          C2orf81    Approved                    NaN   \n",
       "12071  ENSG00000284413            BTBD8    Approved                    NaN   \n",
       "12072  ENSG00000284512   RP11-303E16.10    Approved                    NaN   \n",
       "\n",
       "                             Supported                               Approved  \\\n",
       "0                                  NaN                                Cytosol   \n",
       "1                                  NaN                                    NaN   \n",
       "2                                  NaN                           Mitochondria   \n",
       "3                                  NaN              Aggresome;Plasma membrane   \n",
       "4                                  NaN                               Vesicles   \n",
       "5                                  NaN               Cytosol;Nucleoli;Nucleus   \n",
       "6                                  NaN                                    NaN   \n",
       "7                                  NaN                            Nucleoplasm   \n",
       "8                                  NaN                            Nucleoplasm   \n",
       "9                          Nucleoplasm  Cytosol;Microtubule organizing center   \n",
       "10             Cytosol;Plasma membrane                                    NaN   \n",
       "11                                 NaN                                    NaN   \n",
       "12                                 NaN                                    NaN   \n",
       "13                                 NaN       Nuclear speckles;Plasma membrane   \n",
       "14                                 NaN                                    NaN   \n",
       "15                             Cytosol                    Midbody;Nucleoplasm   \n",
       "16                                 NaN                        Golgi apparatus   \n",
       "17                                 NaN                               Vesicles   \n",
       "18                             Cytosol                                    NaN   \n",
       "19        Nuclear membrane;Nucleoplasm                                    NaN   \n",
       "20             Cytosol;Plasma membrane                   Focal adhesion sites   \n",
       "21                                 NaN                                Cytosol   \n",
       "22                                 NaN                           Mitochondria   \n",
       "23                                 NaN                                Cytosol   \n",
       "24                                 NaN                                Cytosol   \n",
       "25                    Cytosol;Vesicles                                    NaN   \n",
       "26                                 NaN               Cytosol;Nuclear speckles   \n",
       "27                                 NaN         Cytosol;Intermediate filaments   \n",
       "28                                 NaN               Golgi apparatus;Vesicles   \n",
       "29     Cytosol;Nucleus;Plasma membrane                         Nuclear bodies   \n",
       "...                                ...                                    ...   \n",
       "12043                              NaN                       Nucleoli;Nucleus   \n",
       "12044                              NaN                                    NaN   \n",
       "12045                              NaN                  Endoplasmic reticulum   \n",
       "12046                              NaN               Plasma membrane;Vesicles   \n",
       "12047                              NaN                Cytosol;Golgi apparatus   \n",
       "12048                          Cytosol                                    NaN   \n",
       "12049                              NaN                    Cytosol;Nucleoplasm   \n",
       "12050                              NaN                                    NaN   \n",
       "12051                              NaN                                    NaN   \n",
       "12052                              NaN                                    NaN   \n",
       "12053                              NaN                                    NaN   \n",
       "12054                              NaN                Centrosome;Mitochondria   \n",
       "12055                              NaN            Cytokinetic bridge;Vesicles   \n",
       "12056                              NaN                            Nucleoplasm   \n",
       "12057                              NaN                                    NaN   \n",
       "12058            Endoplasmic reticulum                                    NaN   \n",
       "12059                              NaN                        Golgi apparatus   \n",
       "12060                              NaN                                    NaN   \n",
       "12061                              NaN                                    NaN   \n",
       "12062                              NaN                                    NaN   \n",
       "12063                              NaN                                Cytosol   \n",
       "12064                              NaN                                    NaN   \n",
       "12065                              NaN                               Vesicles   \n",
       "12066                              NaN                           Mitochondria   \n",
       "12067                              NaN                   Nucleoplasm;Vesicles   \n",
       "12068                              NaN                           Mitochondria   \n",
       "12069                              NaN                 Cell Junctions;Cytosol   \n",
       "12070                              NaN      Nucleoli fibrillar center;Nucleus   \n",
       "12071                              NaN                            Nucleoplasm   \n",
       "12072                              NaN                               Vesicles   \n",
       "\n",
       "                                       Uncertain  \\\n",
       "0                                            NaN   \n",
       "1                    Microtubules;Nuclear bodies   \n",
       "2                                            NaN   \n",
       "3                                            NaN   \n",
       "4                                            NaN   \n",
       "5                                            NaN   \n",
       "6                                            NaN   \n",
       "7                                            NaN   \n",
       "8                                            NaN   \n",
       "9                                            NaN   \n",
       "10                                           NaN   \n",
       "11                                           NaN   \n",
       "12                                      Vesicles   \n",
       "13                                           NaN   \n",
       "14                                           NaN   \n",
       "15                                           NaN   \n",
       "16                                           NaN   \n",
       "17                                           NaN   \n",
       "18                                           NaN   \n",
       "19                                           NaN   \n",
       "20                                           NaN   \n",
       "21                                           NaN   \n",
       "22                                           NaN   \n",
       "23                                           NaN   \n",
       "24                                           NaN   \n",
       "25                                           NaN   \n",
       "26                                           NaN   \n",
       "27                                           NaN   \n",
       "28                                           NaN   \n",
       "29                                           NaN   \n",
       "...                                          ...   \n",
       "12043                                        NaN   \n",
       "12044                                   Vesicles   \n",
       "12045                                        NaN   \n",
       "12046                                        NaN   \n",
       "12047                                        NaN   \n",
       "12048  Actin filaments;Nucleoli fibrillar center   \n",
       "12049                                        NaN   \n",
       "12050                                   Vesicles   \n",
       "12051                                        NaN   \n",
       "12052                                        NaN   \n",
       "12053                                 Centrosome   \n",
       "12054                                        NaN   \n",
       "12055                                        NaN   \n",
       "12056                                        NaN   \n",
       "12057                                    Cytosol   \n",
       "12058                                        NaN   \n",
       "12059                                    Cytosol   \n",
       "12060                                    Cytosol   \n",
       "12061             Cytoplasmic bodies;Nucleoplasm   \n",
       "12062                      Endoplasmic reticulum   \n",
       "12063                                        NaN   \n",
       "12064       Nucleoplasm;Plasma membrane;Vesicles   \n",
       "12065                                        NaN   \n",
       "12066                                        NaN   \n",
       "12067                                        NaN   \n",
       "12068                                        NaN   \n",
       "12069                                        NaN   \n",
       "12070                                        NaN   \n",
       "12071                                        NaN   \n",
       "12072                                        NaN   \n",
       "\n",
       "      Single-cell variation intensity Single-cell variation spatial  \\\n",
       "0                                 NaN                           NaN   \n",
       "1                                 NaN                           NaN   \n",
       "2                                 NaN                           NaN   \n",
       "3                                 NaN                           NaN   \n",
       "4                                 NaN                           NaN   \n",
       "5                                 NaN                           NaN   \n",
       "6                                 NaN                           NaN   \n",
       "7                                 NaN                           NaN   \n",
       "8                                 NaN                           NaN   \n",
       "9                                 NaN                           NaN   \n",
       "10                                NaN                           NaN   \n",
       "11                                NaN                           NaN   \n",
       "12                                NaN                           NaN   \n",
       "13                                NaN                           NaN   \n",
       "14                                NaN                           NaN   \n",
       "15                                NaN                           NaN   \n",
       "16                                NaN                           NaN   \n",
       "17                                NaN                           NaN   \n",
       "18                                NaN                           NaN   \n",
       "19                                NaN                           NaN   \n",
       "20                                NaN                           NaN   \n",
       "21                                NaN                           NaN   \n",
       "22                                NaN                           NaN   \n",
       "23                                NaN                           NaN   \n",
       "24                            Cytosol                           NaN   \n",
       "25                           Vesicles                           NaN   \n",
       "26                   Nuclear speckles                           NaN   \n",
       "27                                NaN                           NaN   \n",
       "28                                NaN                           NaN   \n",
       "29                                NaN                           NaN   \n",
       "...                               ...                           ...   \n",
       "12043                Nucleoli;Nucleus                           NaN   \n",
       "12044                             NaN                           NaN   \n",
       "12045                             NaN                           NaN   \n",
       "12046                             NaN                           NaN   \n",
       "12047                             NaN                           NaN   \n",
       "12048                             NaN                           NaN   \n",
       "12049                             NaN                           NaN   \n",
       "12050                             NaN                           NaN   \n",
       "12051                             NaN                           NaN   \n",
       "12052                             NaN                           NaN   \n",
       "12053                             NaN                           NaN   \n",
       "12054                             NaN                           NaN   \n",
       "12055                             NaN                           NaN   \n",
       "12056                             NaN                           NaN   \n",
       "12057                             NaN                           NaN   \n",
       "12058                             NaN                           NaN   \n",
       "12059                 Golgi apparatus                           NaN   \n",
       "12060                             NaN                           NaN   \n",
       "12061                             NaN                           NaN   \n",
       "12062                             NaN                           NaN   \n",
       "12063                             NaN                           NaN   \n",
       "12064                             NaN                           NaN   \n",
       "12065                             NaN                           NaN   \n",
       "12066                             NaN                           NaN   \n",
       "12067                             NaN                           NaN   \n",
       "12068                             NaN                           NaN   \n",
       "12069                             NaN                           NaN   \n",
       "12070                             NaN                           NaN   \n",
       "12071                             NaN                           NaN   \n",
       "12072                             NaN                           NaN   \n",
       "\n",
       "                            Cell cycle dependency  \\\n",
       "0                                             NaN   \n",
       "1                                             NaN   \n",
       "2                                             NaN   \n",
       "3                                             NaN   \n",
       "4                                             NaN   \n",
       "5                                             NaN   \n",
       "6                                             NaN   \n",
       "7                                             NaN   \n",
       "8                                             NaN   \n",
       "9                                             NaN   \n",
       "10                                            NaN   \n",
       "11                                            NaN   \n",
       "12                                            NaN   \n",
       "13                                            NaN   \n",
       "14                                            NaN   \n",
       "15                Midbody (biological definition)   \n",
       "16                                            NaN   \n",
       "17                                            NaN   \n",
       "18                                            NaN   \n",
       "19                                            NaN   \n",
       "20                                            NaN   \n",
       "21                                            NaN   \n",
       "22                                            NaN   \n",
       "23                                            NaN   \n",
       "24                                            NaN   \n",
       "25                                            NaN   \n",
       "26                                            NaN   \n",
       "27                                            NaN   \n",
       "28                                            NaN   \n",
       "29                                            NaN   \n",
       "...                                           ...   \n",
       "12043                                         NaN   \n",
       "12044                                         NaN   \n",
       "12045                                         NaN   \n",
       "12046                                         NaN   \n",
       "12047                                         NaN   \n",
       "12048                                         NaN   \n",
       "12049                                         NaN   \n",
       "12050                                         NaN   \n",
       "12051                                         NaN   \n",
       "12052                                         NaN   \n",
       "12053                                         NaN   \n",
       "12054                                         NaN   \n",
       "12055  Cytokinetic bridge (biological definition)   \n",
       "12056                                         NaN   \n",
       "12057                                         NaN   \n",
       "12058                                         NaN   \n",
       "12059                                         NaN   \n",
       "12060                                         NaN   \n",
       "12061                                         NaN   \n",
       "12062                                         NaN   \n",
       "12063                                         NaN   \n",
       "12064                                         NaN   \n",
       "12065                                         NaN   \n",
       "12066                                         NaN   \n",
       "12067                                         NaN   \n",
       "12068                                         NaN   \n",
       "12069                                         NaN   \n",
       "12070                                         NaN   \n",
       "12071                                         NaN   \n",
       "12072                                         NaN   \n",
       "\n",
       "                                                   GO id  \n",
       "0                                   Cytosol (GO:0005829)  \n",
       "1      Microtubules (GO:0015630);Nuclear bodies (GO:0...  \n",
       "2                              Mitochondria (GO:0005739)  \n",
       "3      Aggresome (GO:0016235);Plasma membrane (GO:000...  \n",
       "4                                  Vesicles (GO:0043231)  \n",
       "5      Cytosol (GO:0005829);Nucleoli (GO:0005730);Nuc...  \n",
       "6                               Nucleoplasm (GO:0005654)  \n",
       "7                               Nucleoplasm (GO:0005654)  \n",
       "8                               Nucleoplasm (GO:0005654)  \n",
       "9      Cytosol (GO:0005829);Microtubule organizing ce...  \n",
       "10     Cytosol (GO:0005829);Plasma membrane (GO:0005886)  \n",
       "11                    Endoplasmic reticulum (GO:0005783)  \n",
       "12                                 Vesicles (GO:0043231)  \n",
       "13     Nuclear speckles (GO:0016607);Plasma membrane ...  \n",
       "14                             Mitochondria (GO:0005739)  \n",
       "15     Cytosol (GO:0005829);Midbody (GO:0030496);Nucl...  \n",
       "16                          Golgi apparatus (GO:0005794)  \n",
       "17                                 Vesicles (GO:0043231)  \n",
       "18                                  Cytosol (GO:0005829)  \n",
       "19     Nuclear membrane (GO:0031965);Nucleoplasm (GO:...  \n",
       "20     Cytosol (GO:0005829);Focal adhesion sites (GO:...  \n",
       "21                                  Cytosol (GO:0005829)  \n",
       "22                             Mitochondria (GO:0005739)  \n",
       "23                                  Cytosol (GO:0005829)  \n",
       "24                                  Cytosol (GO:0005829)  \n",
       "25            Cytosol (GO:0005829);Vesicles (GO:0043231)  \n",
       "26     Cytosol (GO:0005829);Nuclear speckles (GO:0016...  \n",
       "27     Cytosol (GO:0005829);Intermediate filaments (G...  \n",
       "28     Golgi apparatus (GO:0005794);Vesicles (GO:0043...  \n",
       "29     Cytosol (GO:0005829);Nuclear bodies (GO:001660...  \n",
       "...                                                  ...  \n",
       "12043         Nucleoli (GO:0005730);Nucleus (GO:0005634)  \n",
       "12044                              Vesicles (GO:0043231)  \n",
       "12045                 Endoplasmic reticulum (GO:0005783)  \n",
       "12046  Plasma membrane (GO:0005886);Vesicles (GO:0043...  \n",
       "12047  Cytosol (GO:0005829);Golgi apparatus (GO:0005794)  \n",
       "12048  Actin filaments (GO:0015629);Cytosol (GO:00058...  \n",
       "12049      Cytosol (GO:0005829);Nucleoplasm (GO:0005654)  \n",
       "12050                              Vesicles (GO:0043231)  \n",
       "12051                          Mitochondria (GO:0005739)  \n",
       "12052                          Mitochondria (GO:0005739)  \n",
       "12053                            Centrosome (GO:0005813)  \n",
       "12054  Centrosome (GO:0005813);Mitochondria (GO:0005739)  \n",
       "12055  Cytokinetic bridge (GO:0045171);Vesicles (GO:0...  \n",
       "12056                           Nucleoplasm (GO:0005654)  \n",
       "12057                               Cytosol (GO:0005829)  \n",
       "12058                 Endoplasmic reticulum (GO:0005783)  \n",
       "12059  Cytosol (GO:0005829);Golgi apparatus (GO:0005794)  \n",
       "12060                               Cytosol (GO:0005829)  \n",
       "12061  Cytoplasmic bodies (GO:0036464);Nucleoplasm (G...  \n",
       "12062                 Endoplasmic reticulum (GO:0005783)  \n",
       "12063                               Cytosol (GO:0005829)  \n",
       "12064  Nucleoplasm (GO:0005654);Plasma membrane (GO:0...  \n",
       "12065                              Vesicles (GO:0043231)  \n",
       "12066                          Mitochondria (GO:0005739)  \n",
       "12067     Nucleoplasm (GO:0005654);Vesicles (GO:0043231)  \n",
       "12068                          Mitochondria (GO:0005739)  \n",
       "12069   Cell Junctions (GO:0030054);Cytosol (GO:0005829)  \n",
       "12070  Nucleoli fibrillar center (GO:0001650);Nucleus...  \n",
       "12071                           Nucleoplasm (GO:0005654)  \n",
       "12072                              Vesicles (GO:0043231)  \n",
       "\n",
       "[12073 rows x 11 columns]"
      ]
     },
     "execution_count": 7,
     "metadata": {},
     "output_type": "execute_result"
    }
   ],
   "source": [
    "df_uniprot = pd.read_csv('./data/subcellular_location.tsv', sep='\\t')\n",
    "\n",
    "df_uniprot"
   ]
  },
  {
   "cell_type": "code",
   "execution_count": 11,
   "metadata": {},
   "outputs": [
    {
     "name": "stdout",
     "output_type": "stream",
     "text": [
      "torch.Size([142, 129, 23])\n",
      "\n"
     ]
    },
    {
     "data": {
      "image/png": "[encoded data removed]",
      "text/plain": [
       "<Figure size 432x288 with 1 Axes>"
      ]
     },
     "metadata": {},
     "output_type": "display_data"
    }
   ],
   "source": [
    "import matplotlib.pyplot as plt\n",
    "\n",
    "print(x.shape)\n",
    "print()\n",
    "\n",
    "plt.plot(losses)\n",
    "plt.show()"
   ]
  },
  {
   "cell_type": "code",
   "execution_count": 16,
   "metadata": {},
   "outputs": [
    {
     "data": {
      "text/plain": [
       "Adam (\n",
       "Parameter Group 0\n",
       "    amsgrad: False\n",
       "    betas: (0.9, 0.999)\n",
       "    eps: 1e-08\n",
       "    lr: 0.001\n",
       "    weight_decay: 0\n",
       "\n",
       "Parameter Group 1\n",
       "    amsgrad: False\n",
       "    betas: (0.9, 0.999)\n",
       "    eps: 1e-08\n",
       "    lr: 0.001\n",
       "    weight_decay: 0\n",
       ")"
      ]
     },
     "execution_count": 16,
     "metadata": {},
     "output_type": "execute_result"
    }
   ],
   "source": [
    "opt"
   ]
  },
  {
   "cell_type": "code",
   "execution_count": 12,
   "metadata": {},
   "outputs": [
    {
     "ename": "UnboundLocalError",
     "evalue": "local variable 'embedded' referenced before assignment",
     "output_type": "error",
     "traceback": [
      "\u001b[0;31m---------------------------------------------------------------------------\u001b[0m",
      "\u001b[0;31mUnboundLocalError\u001b[0m                         Traceback (most recent call last)",
      "\u001b[0;32m<ipython-input-12-5c836950a677>\u001b[0m in \u001b[0;36m<module>\u001b[0;34m()\u001b[0m\n\u001b[1;32m     22\u001b[0m \u001b[0;32mfor\u001b[0m \u001b[0mi\u001b[0m \u001b[0;32min\u001b[0m \u001b[0mrange\u001b[0m\u001b[0;34m(\u001b[0m\u001b[0mx\u001b[0m\u001b[0;34m.\u001b[0m\u001b[0mshape\u001b[0m\u001b[0;34m[\u001b[0m\u001b[0;36m0\u001b[0m\u001b[0;34m]\u001b[0m\u001b[0;34m)\u001b[0m\u001b[0;34m:\u001b[0m\u001b[0;34m\u001b[0m\u001b[0m\n\u001b[1;32m     23\u001b[0m \u001b[0;34m\u001b[0m\u001b[0m\n\u001b[0;32m---> 24\u001b[0;31m     \u001b[0mout\u001b[0m\u001b[0;34m,\u001b[0m \u001b[0mhidden\u001b[0m \u001b[0;34m=\u001b[0m \u001b[0mdec\u001b[0m\u001b[0;34m(\u001b[0m\u001b[0mout\u001b[0m\u001b[0;34m,\u001b[0m \u001b[0mhidden\u001b[0m\u001b[0;34m,\u001b[0m \u001b[0menc_out\u001b[0m\u001b[0;34m)\u001b[0m\u001b[0;34m\u001b[0m\u001b[0m\n\u001b[0m\u001b[1;32m     25\u001b[0m \u001b[0;34m\u001b[0m\u001b[0m\n\u001b[1;32m     26\u001b[0m     \u001b[0mout_list\u001b[0m \u001b[0;34m+=\u001b[0m \u001b[0;34m[\u001b[0m\u001b[0mout\u001b[0m\u001b[0;34m]\u001b[0m\u001b[0;34m\u001b[0m\u001b[0m\n",
      "\u001b[0;32m/opt/conda/envs/pytorch-py3.6/lib/python3.6/site-packages/torch/nn/modules/module.py\u001b[0m in \u001b[0;36m__call__\u001b[0;34m(self, *input, **kwargs)\u001b[0m\n\u001b[1;32m    355\u001b[0m             \u001b[0mresult\u001b[0m \u001b[0;34m=\u001b[0m \u001b[0mself\u001b[0m\u001b[0;34m.\u001b[0m\u001b[0m_slow_forward\u001b[0m\u001b[0;34m(\u001b[0m\u001b[0;34m*\u001b[0m\u001b[0minput\u001b[0m\u001b[0;34m,\u001b[0m \u001b[0;34m**\u001b[0m\u001b[0mkwargs\u001b[0m\u001b[0;34m)\u001b[0m\u001b[0;34m\u001b[0m\u001b[0m\n\u001b[1;32m    356\u001b[0m         \u001b[0;32melse\u001b[0m\u001b[0;34m:\u001b[0m\u001b[0;34m\u001b[0m\u001b[0m\n\u001b[0;32m--> 357\u001b[0;31m             \u001b[0mresult\u001b[0m \u001b[0;34m=\u001b[0m \u001b[0mself\u001b[0m\u001b[0;34m.\u001b[0m\u001b[0mforward\u001b[0m\u001b[0;34m(\u001b[0m\u001b[0;34m*\u001b[0m\u001b[0minput\u001b[0m\u001b[0;34m,\u001b[0m \u001b[0;34m**\u001b[0m\u001b[0mkwargs\u001b[0m\u001b[0;34m)\u001b[0m\u001b[0;34m\u001b[0m\u001b[0m\n\u001b[0m\u001b[1;32m    358\u001b[0m         \u001b[0;32mfor\u001b[0m \u001b[0mhook\u001b[0m \u001b[0;32min\u001b[0m \u001b[0mself\u001b[0m\u001b[0;34m.\u001b[0m\u001b[0m_forward_hooks\u001b[0m\u001b[0;34m.\u001b[0m\u001b[0mvalues\u001b[0m\u001b[0;34m(\u001b[0m\u001b[0;34m)\u001b[0m\u001b[0;34m:\u001b[0m\u001b[0;34m\u001b[0m\u001b[0m\n\u001b[1;32m    359\u001b[0m             \u001b[0mhook_result\u001b[0m \u001b[0;34m=\u001b[0m \u001b[0mhook\u001b[0m\u001b[0;34m(\u001b[0m\u001b[0mself\u001b[0m\u001b[0;34m,\u001b[0m \u001b[0minput\u001b[0m\u001b[0;34m,\u001b[0m \u001b[0mresult\u001b[0m\u001b[0;34m)\u001b[0m\u001b[0;34m\u001b[0m\u001b[0m\n",
      "\u001b[0;32m<ipython-input-10-19712b221a55>\u001b[0m in \u001b[0;36mforward\u001b[0;34m(self, input, last_hidden, encoder_outputs)\u001b[0m\n\u001b[1;32m     99\u001b[0m         \u001b[0;31m# Get the embedding of the current input word (last output word)\u001b[0m\u001b[0;34m\u001b[0m\u001b[0;34m\u001b[0m\u001b[0m\n\u001b[1;32m    100\u001b[0m \u001b[0;31m#         embedded = self.embed(input).unsqueeze(0)  # (1,B,N)\u001b[0m\u001b[0;34m\u001b[0m\u001b[0;34m\u001b[0m\u001b[0m\n\u001b[0;32m--> 101\u001b[0;31m         \u001b[0membedded\u001b[0m \u001b[0;34m=\u001b[0m \u001b[0mself\u001b[0m\u001b[0;34m.\u001b[0m\u001b[0mdropout\u001b[0m\u001b[0;34m(\u001b[0m\u001b[0membedded\u001b[0m\u001b[0;34m)\u001b[0m\u001b[0;34m\u001b[0m\u001b[0m\n\u001b[0m\u001b[1;32m    102\u001b[0m         \u001b[0;31m# Calculate attention weights and apply to encoder outputs\u001b[0m\u001b[0;34m\u001b[0m\u001b[0;34m\u001b[0m\u001b[0m\n\u001b[1;32m    103\u001b[0m \u001b[0;31m#         pdb.set_trace()\u001b[0m\u001b[0;34m\u001b[0m\u001b[0;34m\u001b[0m\u001b[0m\n",
      "\u001b[0;31mUnboundLocalError\u001b[0m: local variable 'embedded' referenced before assignment"
     ]
    }
   ],
   "source": [
    "dec.train(False)\n",
    "enc.train(False)\n",
    "\n",
    "\n",
    "x, x_inds = ds[epoch_inds[0]]\n",
    "        \n",
    "x = (x - 1) * log_number\n",
    "\n",
    "hidden = enc.initHidden(batch_size).cuda(GPU_id)\n",
    "\n",
    "#     pbar.set_description(str(x.shape[0]))\n",
    "\n",
    "enc_out, hidden = enc(x, hidden)\n",
    "\n",
    "#input the stop character to the stream    \n",
    "out = (Variable(utils.stopChar(batch_size)).cuda(GPU_id)-1) * log_number\n",
    "\n",
    "loss = Variable(torch.zeros(1,1,1).cuda(GPU_id))\n",
    "\n",
    "out_list = list()\n",
    "#     pdb.set_trace()\n",
    "for i in range(x.shape[0]):\n",
    "\n",
    "    out, hidden = dec(out, hidden, enc_out)    \n",
    "\n",
    "    out_list += [out]\n",
    "\n",
    "    loss += criterion(torch.squeeze(out,0), x_inds[i])\n",
    "\n",
    "x_hat = utils.tensorToChar(torch.cat(out_list, 0))\n",
    "x = utils.tensorToChar(x)\n",
    "\n",
    "print(''.join(x_hat[:,2]))\n",
    "print(''.join(x[:,2]))\n",
    "\n",
    "enc.train(True)\n",
    "dec.train(True)"
   ]
  },
  {
   "cell_type": "code",
   "execution_count": 25,
   "metadata": {},
   "outputs": [
    {
     "data": {
      "text/plain": [
       "-0.11307868530700314"
      ]
     },
     "execution_count": 25,
     "metadata": {},
     "output_type": "execute_result"
    }
   ],
   "source": [
    "np.log(np.exp(3.219125824868201)/28)"
   ]
  },
  {
   "cell_type": "code",
   "execution_count": 71,
   "metadata": {},
   "outputs": [
    {
     "name": "stdout",
     "output_type": "stream",
     "text": [
      "MSLMVVSMACVGFFLLEGPW\n",
      "MMHCTPCLLLMMMMMMMMMM\n"
     ]
    }
   ],
   "source": [
    "enc.train(False)\n",
    "dec.train(False)\n",
    "\n",
    "x_tmp, _ = ds[[np.random.randint(len(ds))]]\n",
    "\n",
    "# x = torch.unsqueeze(x[:,0,:],1)\n",
    "batch_size_tmp = x_tmp.shape[1]\n",
    "\n",
    "hidden = enc.initHidden(batch_size_tmp).cuda(GPU_id)\n",
    "out, hidden = enc(x_tmp, hidden)\n",
    "\n",
    "#input the stop character to the stream    \n",
    "out = Variable(stopChar(batch_size_tmp)).cuda(GPU_id)\n",
    "\n",
    "\n",
    "#     pdb.set_trace()\n",
    "out_chars = list()\n",
    "\n",
    "for i in range(x_tmp.shape[0]):\n",
    "\n",
    "    out, hidden = dec(out, hidden) \n",
    "    \n",
    "    out_chars += [tensorToChar(out)[0,0]]\n",
    "    \n",
    "enc.train(True)\n",
    "dec.train(True)\n",
    "\n",
    "print(''.join(np.hstack(tensorToChar(x_tmp))))\n",
    "print(''.join(out_chars))"
   ]
  },
  {
   "cell_type": "code",
   "execution_count": 51,
   "metadata": {},
   "outputs": [
    {
     "data": {
      "text/plain": [
       "0.0008124150603306629"
      ]
     },
     "execution_count": 51,
     "metadata": {},
     "output_type": "execute_result"
    }
   ],
   "source": [
    "3E-4*np.log(15)"
   ]
  },
  {
   "cell_type": "code",
   "execution_count": 41,
   "metadata": {},
   "outputs": [
    {
     "data": {
      "text/plain": [
       "2.499953655676149e-05"
      ]
     },
     "execution_count": 41,
     "metadata": {},
     "output_type": "execute_result"
    }
   ],
   "source": [
    "6.77e-05/np.log(15)"
   ]
  },
  {
   "cell_type": "code",
   "execution_count": null,
   "metadata": {},
   "outputs": [],
   "source": []
  }
 ],
 "metadata": {
  "kernelspec": {
   "display_name": "Python 3",
   "language": "python",
   "name": "python3"
  },
  "language_info": {
   "codemirror_mode": {
    "name": "ipython",
    "version": 3
   },
   "file_extension": ".py",
   "mimetype": "text/x-python",
   "name": "python",
   "nbconvert_exporter": "python",
   "pygments_lexer": "ipython3",
   "version": "3.6.4"
  }
 },
 "nbformat": 4,
 "nbformat_minor": 2
}
